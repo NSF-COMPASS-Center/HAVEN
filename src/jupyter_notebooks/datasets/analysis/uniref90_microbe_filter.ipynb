{
 "cells": [
  {
   "cell_type": "code",
   "execution_count": 1,
   "id": "ffd47a60-7f8a-4ef9-96c6-8a2f5e13c97d",
   "metadata": {},
   "outputs": [],
   "source": [
    "# in src --> utils --> external_sources_utils.py add a function for retrieving the nonvertebrata tax ids\n",
    "\n",
    "# initialize the tax ids of all microbes (the bacteria, archaea, fungi, and protists)\n",
    "BACTERIA_TAX_ID = \"2\"\n",
    "ARCHAEA_TAX_ID = \"2157\"\n",
    "FUNGI_TAX_ID = \"4751\"\n",
    "\n",
    "# define a function to filter microbes\n",
    "def get_microbe_tax_ids(tax_ids):\n",
    "    microbe_tax_ids = []\n",
    "    for tax_id in tax_ids:\n",
    "        try:\n",
    "            full_lineage_tax_ids = pytaxonkit.lineage([tax_id])[\"FullLineageTaxIDs\"].iloc[0].split(\";\")\n",
    "            if BACTERIA_TAX_ID or ARCHAEA_TAX_ID or FUNGI_TAX_ID in full_lineage_tax_ids:\n",
    "                microbe_tax_ids.append(tax_id)\n",
    "        except:\n",
    "            print(f\"ERROR in lineage for tax_id = {tax_id}\")\n",
    "    return microbe_tax_ids  "
   ]
  },
  {
   "cell_type": "code",
   "execution_count": 2,
   "id": "bc9e897e-0de1-475e-a146-54b7a29b80ee",
   "metadata": {},
   "outputs": [],
   "source": [
    "# in src --> data_preprocessing --> dataset_filter.py add a function to get specific sequences from the microbe hosts\n",
    "\n",
    "TAXONKIT_DB = \"TAXONKIT_DB\"\n",
    "VIRUS_HOST_TAX_ID = \"virus_host_tax_id\"\n",
    "\n",
    "N_CPU = 4\n",
    "\n",
    "def get_sequences_from_microbe_hosts(input_file_path, taxon_metadata_dir_path, output_file_path):\n",
    "    print(\"START: Filter records with virus hosts belonging to microbes.\")\n",
    "\n",
    "    # Set TAXONKIT_DB environment variable\n",
    "    os.environ[\"TAXONKIT_DB\"] = taxon_metadata_dir_path\n",
    "\n",
    "    # Read input file\n",
    "    df = pd.read_csv(input_file_path)\n",
    "\n",
    "    # Get all unique host tax ids\n",
    "    host_tax_ids = df[VIRUS_HOST_TAX_ID].unique()\n",
    "    print(f\"Number of unique host tax ids = {len(host_tax_ids)}\")\n",
    "\n",
    "    # Get taxids belonging to the kingdom of plants\n",
    "    # split into sublists for parallel processing\n",
    "    host_tax_ids_sublists = np.array_split(np.array(host_tax_ids), N_CPU)\n",
    "    for i in range(N_CPU):\n",
    "        print(f\"Size of host_tax_ids_sublists[{i}] = {host_tax_ids_sublists[i].shape}\")\n",
    "\n",
    "    # multiprocessing for parallelism\n",
    "    cpu_pool = Pool(N_CPU)\n",
    "    microbe_tax_ids_sublists = cpu_pool.map(external_sources_utils.get_microbe_tax_ids, host_tax_ids_sublists)\n",
    "    # flatten the list of sub_lists into one list\n",
    "    microbe_tax_ids = list(itertools.chain.from_iterable(microbe_tax_ids_sublists))\n",
    "    cpu_pool.close()\n",
    "    cpu_pool.join()\n",
    "    print(f\"Number of unique microbe tax ids = {len(microbe_tax_ids)}\")\n",
    "    # Filter\n",
    "    print(f\"Dataset size before filtering for microbes: {df.shape}\")\n",
    "    df = df[df[VIRUS_HOST_TAX_ID].isin(microbe_tax_ids)]\n",
    "    \n",
    "    print(f\"Dataset size after filtering for plants: {df.shape}\")\n",
    "    df.to_csv(output_file_path, index=False)\n",
    "    print(f\"Writing to file {output_file_path}\")\n",
    "    print(\"END: Filter records with virus hosts belonging to microbes.\")"
   ]
  },
  {
   "cell_type": "code",
   "execution_count": null,
   "id": "bb6f2c87-545f-4912-b262-a8533dd4c869",
   "metadata": {},
   "outputs": [],
   "source": [
    "# in src/utils/scripts data_preprocessor.py add an argument within the function parse_args\n",
    "\n",
    "parser.add_argument(\"--filter_microbes\", action=\"store_true\", help=\"Filter for virus hosts belonging to microbes using the absolute path to the NCBI taxon directory provided in --taxon_dir.\")\n",
    "\n",
    "# within function process(config) create a new if statement\n",
    "if config.filter_microbes:\n",
    "    filtered_dataset_file_path = os.path.join(output_dir, Path(input_file_path).stem + \"_microbe.csv\")\n",
    "    dataset_filter.get_sequences_from_microbe_hosts(input_file_path=input_file_path, taxon_metadata_dir_path=config.taxon_dir, output_file_path=filtered_dataset_file_path)"
   ]
  },
  {
   "cell_type": "code",
   "execution_count": null,
   "id": "89ae7492-dd76-4582-92ec-5b24f72a92c8",
   "metadata": {},
   "outputs": [],
   "source": []
  }
 ],
 "metadata": {
  "kernelspec": {
   "display_name": "Python 3 (ipykernel)",
   "language": "python",
   "name": "python3"
  },
  "language_info": {
   "codemirror_mode": {
    "name": "ipython",
    "version": 3
   },
   "file_extension": ".py",
   "mimetype": "text/x-python",
   "name": "python",
   "nbconvert_exporter": "python",
   "pygments_lexer": "ipython3",
   "version": "3.11.8"
  }
 },
 "nbformat": 4,
 "nbformat_minor": 5
}
