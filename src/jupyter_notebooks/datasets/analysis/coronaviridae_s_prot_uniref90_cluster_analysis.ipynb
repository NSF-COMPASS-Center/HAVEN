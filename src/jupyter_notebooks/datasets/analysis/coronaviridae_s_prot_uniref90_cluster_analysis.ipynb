{
 "cells": [
  {
   "cell_type": "code",
   "execution_count": 2,
   "id": "6585feee",
   "metadata": {},
   "outputs": [],
   "source": [
    "import pandas as pd\n",
    "import os\n",
    "import numpy as np\n",
    "import seaborn as sns\n",
    "import matplotlib.pyplot as plt\n",
    "from ast import literal_eval"
   ]
  },
  {
   "cell_type": "code",
   "execution_count": 11,
   "id": "f421017e",
   "metadata": {},
   "outputs": [
    {
     "name": "stdout",
     "output_type": "stream",
     "text": [
      "(2229, 5)\n"
     ]
    },
    {
     "data": {
      "text/html": [
       "<div>\n",
       "<style scoped>\n",
       "    .dataframe tbody tr th:only-of-type {\n",
       "        vertical-align: middle;\n",
       "    }\n",
       "\n",
       "    .dataframe tbody tr th {\n",
       "        vertical-align: top;\n",
       "    }\n",
       "\n",
       "    .dataframe thead th {\n",
       "        text-align: right;\n",
       "    }\n",
       "</style>\n",
       "<table border=\"1\" class=\"dataframe\">\n",
       "  <thead>\n",
       "    <tr style=\"text-align: right;\">\n",
       "      <th></th>\n",
       "      <th>member_id</th>\n",
       "      <th>embl_ref_id</th>\n",
       "      <th>embl_host_name</th>\n",
       "      <th>uniref90_id</th>\n",
       "      <th>virus_host_name</th>\n",
       "    </tr>\n",
       "  </thead>\n",
       "  <tbody>\n",
       "    <tr>\n",
       "      <th>0</th>\n",
       "      <td>A0A0H3VFW7_CVHOC</td>\n",
       "      <td>AKA09662.1</td>\n",
       "      <td>['Homo sapiens']</td>\n",
       "      <td>UniRef90_A0A0H3VFW7</td>\n",
       "      <td>homo sapiens</td>\n",
       "    </tr>\n",
       "    <tr>\n",
       "      <th>1</th>\n",
       "      <td>A0A0H3VE73_CVHOC</td>\n",
       "      <td>AKA09659.1</td>\n",
       "      <td>['Homo sapiens']</td>\n",
       "      <td>UniRef90_A0A0H3VFW7</td>\n",
       "      <td>homo sapiens</td>\n",
       "    </tr>\n",
       "    <tr>\n",
       "      <th>2</th>\n",
       "      <td>A0A0H3VDF8_CVHOC</td>\n",
       "      <td>AKA09663.1</td>\n",
       "      <td>['Homo sapiens']</td>\n",
       "      <td>UniRef90_A0A0H3VFW7</td>\n",
       "      <td>homo sapiens</td>\n",
       "    </tr>\n",
       "    <tr>\n",
       "      <th>3</th>\n",
       "      <td>A0A0H3VFW5_CVHOC</td>\n",
       "      <td>AKA09652.1</td>\n",
       "      <td>['Homo sapiens']</td>\n",
       "      <td>UniRef90_A0A0H3VFW7</td>\n",
       "      <td>homo sapiens</td>\n",
       "    </tr>\n",
       "    <tr>\n",
       "      <th>4</th>\n",
       "      <td>A0A0H3VDF7_CVHOC</td>\n",
       "      <td>AKA09658.1</td>\n",
       "      <td>['Homo sapiens']</td>\n",
       "      <td>UniRef90_A0A0H3VFW7</td>\n",
       "      <td>homo sapiens</td>\n",
       "    </tr>\n",
       "  </tbody>\n",
       "</table>\n",
       "</div>"
      ],
      "text/plain": [
       "          member_id embl_ref_id    embl_host_name          uniref90_id  \\\n",
       "0  A0A0H3VFW7_CVHOC  AKA09662.1  ['Homo sapiens']  UniRef90_A0A0H3VFW7   \n",
       "1  A0A0H3VE73_CVHOC  AKA09659.1  ['Homo sapiens']  UniRef90_A0A0H3VFW7   \n",
       "2  A0A0H3VDF8_CVHOC  AKA09663.1  ['Homo sapiens']  UniRef90_A0A0H3VFW7   \n",
       "3  A0A0H3VFW5_CVHOC  AKA09652.1  ['Homo sapiens']  UniRef90_A0A0H3VFW7   \n",
       "4  A0A0H3VDF7_CVHOC  AKA09658.1  ['Homo sapiens']  UniRef90_A0A0H3VFW7   \n",
       "\n",
       "  virus_host_name  \n",
       "0    homo sapiens  \n",
       "1    homo sapiens  \n",
       "2    homo sapiens  \n",
       "3    homo sapiens  \n",
       "4    homo sapiens  "
      ]
     },
     "execution_count": 11,
     "metadata": {},
     "output_type": "execute_result"
    }
   ],
   "source": [
    "file_path = os.path.join(os.getcwd(), \"..\", \"..\", \"..\",\"..\", \"input/data/coronaviridae/20240313/uniref/cluster_analysis/coronaviridae_s_uniref90_embl_hosts_pruned_metadata_corrected_species_virus_host_vertebrates_w_seq_t0.01_c8_members.csv\",)\n",
    "df = pd.read_csv(file_path) #, converters={2:literal_eval})\n",
    "print(df.shape)\n",
    "df.head()"
   ]
  },
  {
   "cell_type": "code",
   "execution_count": null,
   "id": "22b759f9",
   "metadata": {},
   "outputs": [],
   "source": []
  }
 ],
 "metadata": {
  "kernelspec": {
   "display_name": "Python 3 (ipykernel)",
   "language": "python",
   "name": "python3"
  },
  "language_info": {
   "codemirror_mode": {
    "name": "ipython",
    "version": 3
   },
   "file_extension": ".py",
   "mimetype": "text/x-python",
   "name": "python",
   "nbconvert_exporter": "python",
   "pygments_lexer": "ipython3",
   "version": "3.8.12"
  }
 },
 "nbformat": 4,
 "nbformat_minor": 5
}
