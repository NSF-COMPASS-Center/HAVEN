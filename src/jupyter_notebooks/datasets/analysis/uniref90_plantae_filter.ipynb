{
 "cells": [
  {
   "cell_type": "code",
   "execution_count": 1,
   "id": "491d0305-643d-411b-b476-7ade9c3ca68e",
   "metadata": {},
   "outputs": [],
   "source": [
    "# in src --> utils --> external_sources_utils.py add a function for retrieving the nonvertebrata tax ids\n",
    "\n",
    "# initialize the kingdom plantae taxonomy id\n",
    "PLANTAE_TAX_ID = \"3193\"\n",
    "\n",
    "# define a function to filter plants\n",
    "def get_plantae_tax_ids(tax_ids):\n",
    "    plantae_tax_ids = []\n",
    "    for tax_id in tax_ids:\n",
    "        try:\n",
    "            full_lineage_tax_ids = pytaxonkit.lineage([tax_id])[\"FullLineageTaxIDs\"].iloc[0].split(\";\")\n",
    "            if PLANTAE_TAX_ID in full_lineage_tax_ids:\n",
    "                plantae_tax_ids.append(tax_id)\n",
    "        except:\n",
    "            print(f\"ERROR in lineage for tax_id = {tax_id}\")\n",
    "    return plantae_tax_ids  "
   ]
  },
  {
   "cell_type": "code",
   "execution_count": 2,
   "id": "0ceda394-e89c-4d35-820a-21e746e45866",
   "metadata": {},
   "outputs": [],
   "source": [
    "# in src --> data_preprocessing --> dataset_filter.py add a function to get specific sequences from the plant hosts\n",
    "\n",
    "TAXONKIT_DB = \"TAXONKIT_DB\"\n",
    "VIRUS_HOST_TAX_ID = \"virus_host_tax_id\"\n",
    "\n",
    "N_CPU = 4\n",
    "\n",
    "def get_sequences_from_plantae_hosts(input_file_path, taxon_metadata_dir_path, output_file_path):\n",
    "    print(\"START: Filter records with virus hosts not belonging to 'plantae' kingdom.\")\n",
    "\n",
    "    # Set TAXONKIT_DB environment variable\n",
    "    os.environ[\"TAXONKIT_DB\"] = taxon_metadata_dir_path\n",
    "\n",
    "    # Read input file\n",
    "    df = pd.read_csv(input_file_path)\n",
    "\n",
    "    # Get all unique host tax ids\n",
    "    host_tax_ids = df[VIRUS_HOST_TAX_ID].unique()\n",
    "    print(f\"Number of unique host tax ids = {len(host_tax_ids)}\")\n",
    "\n",
    "    # Get taxids belonging to the kingdom of plants\n",
    "    # split into sublists for parallel processing\n",
    "    host_tax_ids_sublists = np.array_split(np.array(host_tax_ids), N_CPU)\n",
    "    for i in range(N_CPU):\n",
    "        print(f\"Size of host_tax_ids_sublists[{i}] = {host_tax_ids_sublists[i].shape}\")\n",
    "\n",
    "    # multiprocessing for parallelism\n",
    "    cpu_pool = Pool(N_CPU)\n",
    "    plantae_tax_ids_sublists = cpu_pool.map(external_sources_utils.get_plantae_tax_ids, host_tax_ids_sublists)\n",
    "    # flatten the list of sub_lists into one list\n",
    "    plantae_tax_ids = list(itertools.chain.from_iterable(plantae_tax_ids_sublists))\n",
    "    cpu_pool.close()\n",
    "    cpu_pool.join()\n",
    "    print(f\"Number of unique plant tax ids = {len(plantae_tax_ids)}\")\n",
    "    # Filter\n",
    "    print(f\"Dataset size before filtering for plants: {df.shape}\")\n",
    "    df = df[df[VIRUS_HOST_TAX_ID].isin(plantae_tax_ids)]\n",
    "    print(f\"Dataset size after filtering for plants: {df.shape}\")\n",
    "\n",
    "    df.to_csv(output_file_path, index=False)\n",
    "    print(f\"Writing to file {output_file_path}\")\n",
    "    print(\"END: Filter records with virus hosts not belonging to plantae' kingdom.\")"
   ]
  },
  {
   "cell_type": "code",
   "execution_count": null,
   "id": "8f5660ed-3d32-480e-a303-8d64addf82d7",
   "metadata": {},
   "outputs": [],
   "source": [
    "# in data_preprocessor.py add an argument within the function parse_args\n",
    "\n",
    "parser.add_argument(\"--filter_plants\", action=\"store_true\", help=\"Filter for virus hosts belonging to Plantae kingdom using the absolute path to the NCBI taxon directory provided in --taxon_dir.\")\n",
    "\n",
    "# within function process(config) create a new if statement\n",
    "if config.filter_plants:\n",
    "    filtered_dataset_file_path = os.path.join(output_dir, Path(input_file_path).stem + \"_plants.csv\")\n",
    "    dataset_filter.get_sequences_from_plantae_hosts(input_file_path=input_file_path, taxon_metadata_dir_path=config.taxon_dir, output_file_path=filtered_dataset_file_path)"
   ]
  }
 ],
 "metadata": {
  "kernelspec": {
   "display_name": "Python 3 (ipykernel)",
   "language": "python",
   "name": "python3"
  },
  "language_info": {
   "codemirror_mode": {
    "name": "ipython",
    "version": 3
   },
   "file_extension": ".py",
   "mimetype": "text/x-python",
   "name": "python",
   "nbconvert_exporter": "python",
   "pygments_lexer": "ipython3",
   "version": "3.11.8"
  }
 },
 "nbformat": 4,
 "nbformat_minor": 5
}
