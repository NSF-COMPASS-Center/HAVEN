{
 "cells": [
  {
   "cell_type": "code",
   "execution_count": 1,
   "id": "af85c69f",
   "metadata": {},
   "outputs": [],
   "source": [
    "import pandas as pd\n",
    "import os\n",
    "import numpy as np\n",
    "import seaborn as sns\n",
    "import matplotlib.pyplot as plt"
   ]
  },
  {
   "cell_type": "markdown",
   "id": "2a6f8639",
   "metadata": {},
   "source": [
    "# UniRef90"
   ]
  },
  {
   "cell_type": "code",
   "execution_count": 2,
   "id": "7abf2b3c",
   "metadata": {},
   "outputs": [],
   "source": [
    "filepath = os.path.join(os.getcwd(), \"..\", \"..\", \"..\",\"input/data/uniref90/uniref_data/uniref90_final.csv\")"
   ]
  },
  {
   "cell_type": "code",
   "execution_count": 12,
   "id": "af972bfe",
   "metadata": {},
   "outputs": [],
   "source": [
    "df = pd.read_csv(filepath)"
   ]
  },
  {
   "cell_type": "code",
   "execution_count": 13,
   "id": "62f765e8",
   "metadata": {},
   "outputs": [
    {
     "name": "stdout",
     "output_type": "stream",
     "text": [
      "df size =  (19093, 8)\n"
     ]
    },
    {
     "data": {
      "text/html": [
       "<div>\n",
       "<style scoped>\n",
       "    .dataframe tbody tr th:only-of-type {\n",
       "        vertical-align: middle;\n",
       "    }\n",
       "\n",
       "    .dataframe tbody tr th {\n",
       "        vertical-align: top;\n",
       "    }\n",
       "\n",
       "    .dataframe thead th {\n",
       "        text-align: right;\n",
       "    }\n",
       "</style>\n",
       "<table border=\"1\" class=\"dataframe\">\n",
       "  <thead>\n",
       "    <tr style=\"text-align: right;\">\n",
       "      <th></th>\n",
       "      <th>uniref90_id</th>\n",
       "      <th>tax_id</th>\n",
       "      <th>host_tax_ids</th>\n",
       "      <th>virus_name</th>\n",
       "      <th>virus_taxon_rank</th>\n",
       "      <th>virus_host_name</th>\n",
       "      <th>virus_host_taxon_rank</th>\n",
       "      <th>seq</th>\n",
       "    </tr>\n",
       "  </thead>\n",
       "  <tbody>\n",
       "    <tr>\n",
       "      <th>0</th>\n",
       "      <td>UniRef90_A0A023NJY4</td>\n",
       "      <td>10407</td>\n",
       "      <td>9606</td>\n",
       "      <td>Hepatitis B virus</td>\n",
       "      <td>species</td>\n",
       "      <td>Homo sapiens</td>\n",
       "      <td>species</td>\n",
       "      <td>MAARLCCQLDPARDVLCLRPVGAESRGRPLSGPLGTLSSPSLPAVP...</td>\n",
       "    </tr>\n",
       "    <tr>\n",
       "      <th>1</th>\n",
       "      <td>UniRef90_A0A023NLM3</td>\n",
       "      <td>10407</td>\n",
       "      <td>9606</td>\n",
       "      <td>Hepatitis B virus</td>\n",
       "      <td>species</td>\n",
       "      <td>Homo sapiens</td>\n",
       "      <td>species</td>\n",
       "      <td>MGQNLSTSNPLGFFPDHQLDPAFRANSNNPDWDFNPNKDTWPDANK...</td>\n",
       "    </tr>\n",
       "    <tr>\n",
       "      <th>2</th>\n",
       "      <td>UniRef90_A0A023PGV5</td>\n",
       "      <td>1678143</td>\n",
       "      <td>69079</td>\n",
       "      <td>Paslahepevirus balayani</td>\n",
       "      <td>species</td>\n",
       "      <td>Bandicota bengalensis</td>\n",
       "      <td>species</td>\n",
       "      <td>SALANAVVVRPFLSRTQTEILIXLMXPRQLVFRPEVLWNHPIQRVI...</td>\n",
       "    </tr>\n",
       "    <tr>\n",
       "      <th>3</th>\n",
       "      <td>UniRef90_A0A023SEP0</td>\n",
       "      <td>10407</td>\n",
       "      <td>9606</td>\n",
       "      <td>Hepatitis B virus</td>\n",
       "      <td>species</td>\n",
       "      <td>Homo sapiens</td>\n",
       "      <td>species</td>\n",
       "      <td>NLLEDWGPCTEHGEHHIRIPRTPARVTGGVFLVDKNPHNTAESRLV...</td>\n",
       "    </tr>\n",
       "    <tr>\n",
       "      <th>4</th>\n",
       "      <td>UniRef90_A0A023SEP4</td>\n",
       "      <td>10407</td>\n",
       "      <td>9606</td>\n",
       "      <td>Hepatitis B virus</td>\n",
       "      <td>species</td>\n",
       "      <td>Homo sapiens</td>\n",
       "      <td>species</td>\n",
       "      <td>LVNLLEDWGPCTEHGEHHIRIPRTPARVTGGVFLVDKNPHNTAESR...</td>\n",
       "    </tr>\n",
       "  </tbody>\n",
       "</table>\n",
       "</div>"
      ],
      "text/plain": [
       "           uniref90_id   tax_id  host_tax_ids               virus_name  \\\n",
       "0  UniRef90_A0A023NJY4    10407          9606        Hepatitis B virus   \n",
       "1  UniRef90_A0A023NLM3    10407          9606        Hepatitis B virus   \n",
       "2  UniRef90_A0A023PGV5  1678143         69079  Paslahepevirus balayani   \n",
       "3  UniRef90_A0A023SEP0    10407          9606        Hepatitis B virus   \n",
       "4  UniRef90_A0A023SEP4    10407          9606        Hepatitis B virus   \n",
       "\n",
       "  virus_taxon_rank        virus_host_name virus_host_taxon_rank  \\\n",
       "0          species           Homo sapiens               species   \n",
       "1          species           Homo sapiens               species   \n",
       "2          species  Bandicota bengalensis               species   \n",
       "3          species           Homo sapiens               species   \n",
       "4          species           Homo sapiens               species   \n",
       "\n",
       "                                                 seq  \n",
       "0  MAARLCCQLDPARDVLCLRPVGAESRGRPLSGPLGTLSSPSLPAVP...  \n",
       "1  MGQNLSTSNPLGFFPDHQLDPAFRANSNNPDWDFNPNKDTWPDANK...  \n",
       "2  SALANAVVVRPFLSRTQTEILIXLMXPRQLVFRPEVLWNHPIQRVI...  \n",
       "3  NLLEDWGPCTEHGEHHIRIPRTPARVTGGVFLVDKNPHNTAESRLV...  \n",
       "4  LVNLLEDWGPCTEHGEHHIRIPRTPARVTGGVFLVDKNPHNTAESR...  "
      ]
     },
     "execution_count": 13,
     "metadata": {},
     "output_type": "execute_result"
    }
   ],
   "source": [
    "print(\"df size = \", df.shape)\n",
    "n = df.shape[0]\n",
    "df.head()"
   ]
  },
  {
   "cell_type": "code",
   "execution_count": 14,
   "id": "3ff4400a",
   "metadata": {},
   "outputs": [],
   "source": [
    "df[\"seq_len\"] = df[\"seq\"].apply(lambda x: len(x))"
   ]
  },
  {
   "cell_type": "code",
   "execution_count": 15,
   "id": "6e0be4f1",
   "metadata": {},
   "outputs": [
    {
     "data": {
      "text/html": [
       "<div>\n",
       "<style scoped>\n",
       "    .dataframe tbody tr th:only-of-type {\n",
       "        vertical-align: middle;\n",
       "    }\n",
       "\n",
       "    .dataframe tbody tr th {\n",
       "        vertical-align: top;\n",
       "    }\n",
       "\n",
       "    .dataframe thead th {\n",
       "        text-align: right;\n",
       "    }\n",
       "</style>\n",
       "<table border=\"1\" class=\"dataframe\">\n",
       "  <thead>\n",
       "    <tr style=\"text-align: right;\">\n",
       "      <th></th>\n",
       "      <th>uniref90_id</th>\n",
       "      <th>tax_id</th>\n",
       "      <th>host_tax_ids</th>\n",
       "      <th>virus_name</th>\n",
       "      <th>virus_taxon_rank</th>\n",
       "      <th>virus_host_name</th>\n",
       "      <th>virus_host_taxon_rank</th>\n",
       "      <th>seq</th>\n",
       "      <th>seq_len</th>\n",
       "    </tr>\n",
       "  </thead>\n",
       "  <tbody>\n",
       "    <tr>\n",
       "      <th>0</th>\n",
       "      <td>UniRef90_A0A023NJY4</td>\n",
       "      <td>10407</td>\n",
       "      <td>9606</td>\n",
       "      <td>Hepatitis B virus</td>\n",
       "      <td>species</td>\n",
       "      <td>Homo sapiens</td>\n",
       "      <td>species</td>\n",
       "      <td>MAARLCCQLDPARDVLCLRPVGAESRGRPLSGPLGTLSSPSLPAVP...</td>\n",
       "      <td>156</td>\n",
       "    </tr>\n",
       "    <tr>\n",
       "      <th>1</th>\n",
       "      <td>UniRef90_A0A023NLM3</td>\n",
       "      <td>10407</td>\n",
       "      <td>9606</td>\n",
       "      <td>Hepatitis B virus</td>\n",
       "      <td>species</td>\n",
       "      <td>Homo sapiens</td>\n",
       "      <td>species</td>\n",
       "      <td>MGQNLSTSNPLGFFPDHQLDPAFRANSNNPDWDFNPNKDTWPDANK...</td>\n",
       "      <td>388</td>\n",
       "    </tr>\n",
       "    <tr>\n",
       "      <th>2</th>\n",
       "      <td>UniRef90_A0A023PGV5</td>\n",
       "      <td>1678143</td>\n",
       "      <td>69079</td>\n",
       "      <td>Paslahepevirus balayani</td>\n",
       "      <td>species</td>\n",
       "      <td>Bandicota bengalensis</td>\n",
       "      <td>species</td>\n",
       "      <td>SALANAVVVRPFLSRTQTEILIXLMXPRQLVFRPEVLWNHPIQRVI...</td>\n",
       "      <td>96</td>\n",
       "    </tr>\n",
       "    <tr>\n",
       "      <th>3</th>\n",
       "      <td>UniRef90_A0A023SEP0</td>\n",
       "      <td>10407</td>\n",
       "      <td>9606</td>\n",
       "      <td>Hepatitis B virus</td>\n",
       "      <td>species</td>\n",
       "      <td>Homo sapiens</td>\n",
       "      <td>species</td>\n",
       "      <td>NLLEDWGPCTEHGEHHIRIPRTPARVTGGVFLVDKNPHNTAESRLV...</td>\n",
       "      <td>176</td>\n",
       "    </tr>\n",
       "    <tr>\n",
       "      <th>4</th>\n",
       "      <td>UniRef90_A0A023SEP4</td>\n",
       "      <td>10407</td>\n",
       "      <td>9606</td>\n",
       "      <td>Hepatitis B virus</td>\n",
       "      <td>species</td>\n",
       "      <td>Homo sapiens</td>\n",
       "      <td>species</td>\n",
       "      <td>LVNLLEDWGPCTEHGEHHIRIPRTPARVTGGVFLVDKNPHNTAESR...</td>\n",
       "      <td>162</td>\n",
       "    </tr>\n",
       "  </tbody>\n",
       "</table>\n",
       "</div>"
      ],
      "text/plain": [
       "           uniref90_id   tax_id  host_tax_ids               virus_name  \\\n",
       "0  UniRef90_A0A023NJY4    10407          9606        Hepatitis B virus   \n",
       "1  UniRef90_A0A023NLM3    10407          9606        Hepatitis B virus   \n",
       "2  UniRef90_A0A023PGV5  1678143         69079  Paslahepevirus balayani   \n",
       "3  UniRef90_A0A023SEP0    10407          9606        Hepatitis B virus   \n",
       "4  UniRef90_A0A023SEP4    10407          9606        Hepatitis B virus   \n",
       "\n",
       "  virus_taxon_rank        virus_host_name virus_host_taxon_rank  \\\n",
       "0          species           Homo sapiens               species   \n",
       "1          species           Homo sapiens               species   \n",
       "2          species  Bandicota bengalensis               species   \n",
       "3          species           Homo sapiens               species   \n",
       "4          species           Homo sapiens               species   \n",
       "\n",
       "                                                 seq  seq_len  \n",
       "0  MAARLCCQLDPARDVLCLRPVGAESRGRPLSGPLGTLSSPSLPAVP...      156  \n",
       "1  MGQNLSTSNPLGFFPDHQLDPAFRANSNNPDWDFNPNKDTWPDANK...      388  \n",
       "2  SALANAVVVRPFLSRTQTEILIXLMXPRQLVFRPEVLWNHPIQRVI...       96  \n",
       "3  NLLEDWGPCTEHGEHHIRIPRTPARVTGGVFLVDKNPHNTAESRLV...      176  \n",
       "4  LVNLLEDWGPCTEHGEHHIRIPRTPARVTGGVFLVDKNPHNTAESR...      162  "
      ]
     },
     "execution_count": 15,
     "metadata": {},
     "output_type": "execute_result"
    }
   ],
   "source": [
    "df.head()"
   ]
  },
  {
   "cell_type": "code",
   "execution_count": 16,
   "id": "f8bc826d",
   "metadata": {},
   "outputs": [
    {
     "data": {
      "text/plain": [
       "array(['Hepatitis B virus', 'Paslahepevirus balayani',\n",
       "       'Dobrava-Belgrade orthohantavirus', 'West Nile virus',\n",
       "       'Small ruminant morbillivirus', 'African swine fever virus',\n",
       "       'Lymphocytic choriomeningitis mammarenavirus', 'Orf virus',\n",
       "       'Macacine alphaherpesvirus 1', 'Infectious bursal disease virus',\n",
       "       'Usutu virus', 'Carnivore protoparvovirus 1',\n",
       "       'Lassa mammarenavirus', 'Vesicular exanthema of swine virus',\n",
       "       'Tula orthohantavirus', 'Chikungunya virus', 'Vaccinia virus',\n",
       "       'Kyasanur Forest disease virus', 'Bovine gammaherpesvirus 4',\n",
       "       'Monkeypox virus', 'Sindbis virus', 'African horse sickness virus',\n",
       "       'Cowpox virus', 'Getah virus', 'Zika virus',\n",
       "       'Papiine alphaherpesvirus 2',\n",
       "       'Epizootic hemorrhagic disease virus', 'Guanarito mammarenavirus',\n",
       "       'Severe acute respiratory syndrome-related coronavirus',\n",
       "       'Sheeppox virus', 'Lyssavirus mokola', 'Borna disease virus',\n",
       "       'Nipah henipavirus', 'Ilheus virus', 'Sin Nombre orthohantavirus',\n",
       "       'Cardiovirus A', 'Alphapapillomavirus 10', 'Andes orthohantavirus',\n",
       "       'Avian coronavirus', 'Rift Valley fever phlebovirus',\n",
       "       'Rotavirus A', 'Papiine gammaherpesvirus 1', 'Influenza A virus',\n",
       "       'Machupo mammarenavirus', 'Allpahuayo mammarenavirus',\n",
       "       'Flexal mammarenavirus', 'Cali mammarenavirus',\n",
       "       'Thrush coronavirus HKU12-600', 'Wesselsbron virus',\n",
       "       'Western equine encephalitis virus', 'Argentinian mammarenavirus',\n",
       "       'Schmallenberg orthobunyavirus', 'Puumala orthohantavirus',\n",
       "       'Middle East respiratory syndrome-related coronavirus',\n",
       "       'Semliki Forest virus', 'Zaire ebolavirus',\n",
       "       'Alcelaphine gammaherpesvirus 1', 'Thogotovirus thogotoense',\n",
       "       'Pegivirus A', 'Colorado tick fever coltivirus',\n",
       "       'Hendra henipavirus', 'Foot-and-mouth disease virus',\n",
       "       'Murine coronavirus', 'Snowshoe hare orthobunyavirus',\n",
       "       'Murine respirovirus', 'Canine morbillivirus', 'Bluetongue virus',\n",
       "       'Influenza C virus', 'Ross River virus', 'Hepatovirus A',\n",
       "       'Rinderpest morbillivirus', 'Saint Louis encephalitis virus',\n",
       "       'Dengue virus', 'Reston ebolavirus', 'Japanese encephalitis virus',\n",
       "       'Black Creek Canal orthohantavirus',\n",
       "       'Equine infectious anemia virus', 'Deltapapillomavirus 1',\n",
       "       'Rotavirus C', 'Betacoronavirus 1', 'Avian metapneumovirus',\n",
       "       'Venezuelan equine encephalitis virus', 'Marburg marburgvirus',\n",
       "       'Meleagrid alphaherpesvirus 1', 'Simian foamy virus',\n",
       "       'Powassan virus', 'Sapporo virus', 'Elephantid betaherpesvirus 1',\n",
       "       'Sudan ebolavirus', 'Tai Forest ebolavirus',\n",
       "       'Yaba monkey tumor virus',\n",
       "       'Crimean-Congo hemorrhagic fever orthonairovirus',\n",
       "       'Lyssavirus australis', 'Parechovirus B', 'Banna virus',\n",
       "       'Avastrovirus 2', 'Louping ill virus'], dtype=object)"
      ]
     },
     "execution_count": 16,
     "metadata": {},
     "output_type": "execute_result"
    }
   ],
   "source": [
    "df[\"virus_name\"].unique()"
   ]
  },
  {
   "cell_type": "code",
   "execution_count": 20,
   "id": "e61b788c",
   "metadata": {},
   "outputs": [
    {
     "data": {
      "text/plain": [
       "(63, 9)"
      ]
     },
     "execution_count": 20,
     "metadata": {},
     "output_type": "execute_result"
    }
   ],
   "source": [
    "coronaviridae_df = df[df[\"virus_name\"].str.contains(\"corona\")]\n",
    "coronaviridae_df.shape"
   ]
  },
  {
   "cell_type": "code",
   "execution_count": 24,
   "id": "0533995b",
   "metadata": {},
   "outputs": [
    {
     "data": {
      "text/plain": [
       "Severe acute respiratory syndrome-related coronavirus    21\n",
       "Avian coronavirus                                        18\n",
       "Murine coronavirus                                       12\n",
       "Middle East respiratory syndrome-related coronavirus      6\n",
       "Thrush coronavirus HKU12-600                              4\n",
       "Betacoronavirus 1                                         2\n",
       "Name: virus_name, dtype: int64"
      ]
     },
     "execution_count": 24,
     "metadata": {},
     "output_type": "execute_result"
    }
   ],
   "source": [
    "coronaviridae_df[\"virus_name\"].value_counts()"
   ]
  },
  {
   "cell_type": "code",
   "execution_count": 23,
   "id": "8dcf0aa5",
   "metadata": {},
   "outputs": [
    {
     "data": {
      "text/plain": [
       "Homo sapiens            20\n",
       "Gallus gallus           14\n",
       "Mus musculus            10\n",
       "Camelus dromedarius      6\n",
       "Meleagris gallopavo      4\n",
       "Turdus hortulorum        4\n",
       "Rattus norvegicus        2\n",
       "Rhinolophus sinicus      1\n",
       "Bos taurus               1\n",
       "Rhinolophus macrotis     1\n",
       "Name: virus_host_name, dtype: int64"
      ]
     },
     "execution_count": 23,
     "metadata": {},
     "output_type": "execute_result"
    }
   ],
   "source": [
    "coronaviridae_df[\"virus_host_name\"].value_counts()"
   ]
  },
  {
   "cell_type": "code",
   "execution_count": 7,
   "id": "0bbf5a3f",
   "metadata": {},
   "outputs": [
    {
     "name": "stdout",
     "output_type": "stream",
     "text": [
      "min seq len = 11\n",
      "max seq len = 6629\n"
     ]
    },
    {
     "data": {
      "image/png": "[encoded data removed]",
      "text/plain": [
       "<Figure size 640x480 with 1 Axes>"
      ]
     },
     "metadata": {},
     "output_type": "display_data"
    }
   ],
   "source": [
    "sns.histplot(df[\"seq_len\"])\n",
    "print(f\"min seq len = {min(df['seq_len'])}\")\n",
    "print(f\"max seq len = {max(df['seq_len'])}\")\n",
    "plt.show()"
   ]
  },
  {
   "cell_type": "code",
   "execution_count": 8,
   "id": "59acdae0",
   "metadata": {},
   "outputs": [],
   "source": [
    "n_bins = 12\n",
    "freq, bins = np.histogram(df[\"seq_len\"], bins=n_bins)"
   ]
  },
  {
   "cell_type": "code",
   "execution_count": 9,
   "id": "802b5e78",
   "metadata": {},
   "outputs": [],
   "source": [
    "hist_map = []\n",
    "for i in range(n_bins):\n",
    "    hist_map.append({\"start\": bins[i], \"end\":bins[i+1], \"count\": freq[i], \"percentage\": freq[i]/n*100})"
   ]
  },
  {
   "cell_type": "code",
   "execution_count": 10,
   "id": "8c13a264",
   "metadata": {},
   "outputs": [],
   "source": [
    "hist_df = pd.DataFrame(hist_map)"
   ]
  },
  {
   "cell_type": "code",
   "execution_count": 11,
   "id": "03adf39a",
   "metadata": {},
   "outputs": [
    {
     "data": {
      "text/html": [
       "<div>\n",
       "<style scoped>\n",
       "    .dataframe tbody tr th:only-of-type {\n",
       "        vertical-align: middle;\n",
       "    }\n",
       "\n",
       "    .dataframe tbody tr th {\n",
       "        vertical-align: top;\n",
       "    }\n",
       "\n",
       "    .dataframe thead th {\n",
       "        text-align: right;\n",
       "    }\n",
       "</style>\n",
       "<table border=\"1\" class=\"dataframe\">\n",
       "  <thead>\n",
       "    <tr style=\"text-align: right;\">\n",
       "      <th></th>\n",
       "      <th>start</th>\n",
       "      <th>end</th>\n",
       "      <th>count</th>\n",
       "      <th>percentage</th>\n",
       "    </tr>\n",
       "  </thead>\n",
       "  <tbody>\n",
       "    <tr>\n",
       "      <th>0</th>\n",
       "      <td>11.0</td>\n",
       "      <td>562.5</td>\n",
       "      <td>17443</td>\n",
       "      <td>91.358089</td>\n",
       "    </tr>\n",
       "    <tr>\n",
       "      <th>1</th>\n",
       "      <td>562.5</td>\n",
       "      <td>1114.0</td>\n",
       "      <td>849</td>\n",
       "      <td>4.446656</td>\n",
       "    </tr>\n",
       "    <tr>\n",
       "      <th>2</th>\n",
       "      <td>1114.0</td>\n",
       "      <td>1665.5</td>\n",
       "      <td>111</td>\n",
       "      <td>0.581365</td>\n",
       "    </tr>\n",
       "    <tr>\n",
       "      <th>3</th>\n",
       "      <td>1665.5</td>\n",
       "      <td>2217.0</td>\n",
       "      <td>91</td>\n",
       "      <td>0.476614</td>\n",
       "    </tr>\n",
       "    <tr>\n",
       "      <th>4</th>\n",
       "      <td>2217.0</td>\n",
       "      <td>2768.5</td>\n",
       "      <td>399</td>\n",
       "      <td>2.089771</td>\n",
       "    </tr>\n",
       "    <tr>\n",
       "      <th>5</th>\n",
       "      <td>2768.5</td>\n",
       "      <td>3320.0</td>\n",
       "      <td>68</td>\n",
       "      <td>0.356151</td>\n",
       "    </tr>\n",
       "    <tr>\n",
       "      <th>6</th>\n",
       "      <td>3320.0</td>\n",
       "      <td>3871.5</td>\n",
       "      <td>128</td>\n",
       "      <td>0.670403</td>\n",
       "    </tr>\n",
       "    <tr>\n",
       "      <th>7</th>\n",
       "      <td>3871.5</td>\n",
       "      <td>4423.0</td>\n",
       "      <td>2</td>\n",
       "      <td>0.010475</td>\n",
       "    </tr>\n",
       "    <tr>\n",
       "      <th>8</th>\n",
       "      <td>4423.0</td>\n",
       "      <td>4974.5</td>\n",
       "      <td>1</td>\n",
       "      <td>0.005238</td>\n",
       "    </tr>\n",
       "    <tr>\n",
       "      <th>9</th>\n",
       "      <td>4974.5</td>\n",
       "      <td>5526.0</td>\n",
       "      <td>0</td>\n",
       "      <td>0.000000</td>\n",
       "    </tr>\n",
       "    <tr>\n",
       "      <th>10</th>\n",
       "      <td>5526.0</td>\n",
       "      <td>6077.5</td>\n",
       "      <td>0</td>\n",
       "      <td>0.000000</td>\n",
       "    </tr>\n",
       "    <tr>\n",
       "      <th>11</th>\n",
       "      <td>6077.5</td>\n",
       "      <td>6629.0</td>\n",
       "      <td>1</td>\n",
       "      <td>0.005238</td>\n",
       "    </tr>\n",
       "  </tbody>\n",
       "</table>\n",
       "</div>"
      ],
      "text/plain": [
       "     start     end  count  percentage\n",
       "0     11.0   562.5  17443   91.358089\n",
       "1    562.5  1114.0    849    4.446656\n",
       "2   1114.0  1665.5    111    0.581365\n",
       "3   1665.5  2217.0     91    0.476614\n",
       "4   2217.0  2768.5    399    2.089771\n",
       "5   2768.5  3320.0     68    0.356151\n",
       "6   3320.0  3871.5    128    0.670403\n",
       "7   3871.5  4423.0      2    0.010475\n",
       "8   4423.0  4974.5      1    0.005238\n",
       "9   4974.5  5526.0      0    0.000000\n",
       "10  5526.0  6077.5      0    0.000000\n",
       "11  6077.5  6629.0      1    0.005238"
      ]
     },
     "execution_count": 11,
     "metadata": {},
     "output_type": "execute_result"
    }
   ],
   "source": [
    "hist_df.head(20)"
   ]
  },
  {
   "cell_type": "markdown",
   "id": "3265777f",
   "metadata": {},
   "source": [
    "### Sequences without virus host = Humans"
   ]
  },
  {
   "cell_type": "code",
   "execution_count": 15,
   "id": "7c643aec",
   "metadata": {},
   "outputs": [
    {
     "name": "stdout",
     "output_type": "stream",
     "text": [
      "(19093, 9)\n"
     ]
    },
    {
     "data": {
      "text/plain": [
       "Homo sapiens                   14816\n",
       "Phacochoerus aethiopicus        1043\n",
       "Bandicota bengalensis            798\n",
       "Equus caballus                   439\n",
       "Capra hircus                     425\n",
       "Gallus gallus                    334\n",
       "Apodemus sylvaticus              287\n",
       "Bos taurus                       193\n",
       "Sus scrofa                       122\n",
       "Cynomys gunnisoni                 86\n",
       "Connochaetes taurinus             58\n",
       "Camelus dromedarius               35\n",
       "Apodemus agrarius                 33\n",
       "Elephas maximus                   29\n",
       "Cynopterus brachyotis             28\n",
       "Acrocephalus scirpaceus           27\n",
       "Antilocapra americana             25\n",
       "Epomops franqueti                 25\n",
       "Ovis aries                        24\n",
       "Felis catus                       22\n",
       "Cervus elaphus                    18\n",
       "Abrothrix longipilis              17\n",
       "Macaca fascicularis               17\n",
       "Cavia cutleri                     14\n",
       "Meleagris gallopavo               13\n",
       "Chodsigoa caovansunga             13\n",
       "Mus musculus                      10\n",
       "Atelerix albiventris              10\n",
       "Akodon azarae                     10\n",
       "Anser sp.                          9\n",
       "Chlorocebus aethiops               9\n",
       "Bos indicus                        9\n",
       "Odobenus rosmarus                  9\n",
       "Pan paniscus                       8\n",
       "Haemorhous mexicanus               8\n",
       "Calomys callosus                   7\n",
       "Erythrocebus patas                 7\n",
       "Macaca mulatta                     5\n",
       "Ailuropoda melanoleuca             5\n",
       "Equus asinus                       5\n",
       "Nephelomys albigularis             5\n",
       "Turdus hortulorum                  4\n",
       "Oecomys bicolor                    4\n",
       "Pan troglodytes                    4\n",
       "Cercopithecus hamlyni              3\n",
       "Callospermophilus lateralis        3\n",
       "Sturnira lilium                    2\n",
       "Aotus trivirgatus                  2\n",
       "Nasua nasua                        2\n",
       "Rattus norvegicus                  2\n",
       "Oryctolagus cuniculus              2\n",
       "Rhinolophus macrotis               1\n",
       "Pongo pygmaeus                     1\n",
       "Chlorocebus pygerythrus            1\n",
       "Connochaetes gnou                  1\n",
       "Rangifer tarandus                  1\n",
       "Agelaius tricolor                  1\n",
       "Rhinolophus sinicus                1\n",
       "Gorilla gorilla                    1\n",
       "Name: virus_host_name, dtype: int64"
      ]
     },
     "execution_count": 15,
     "metadata": {},
     "output_type": "execute_result"
    }
   ],
   "source": [
    "print(df.shape)\n",
    "df[\"virus_host_name\"].value_counts()"
   ]
  },
  {
   "cell_type": "code",
   "execution_count": 12,
   "id": "3c4d7fa9",
   "metadata": {},
   "outputs": [
    {
     "data": {
      "text/plain": [
       "array(['Homo sapiens', 'Bandicota bengalensis', 'Apodemus agrarius',\n",
       "       'Equus caballus', 'Capra hircus', 'Phacochoerus aethiopicus',\n",
       "       'Gallus gallus', 'Felis catus', 'Odobenus rosmarus', 'Sus scrofa',\n",
       "       'Bos taurus', 'Cynomys gunnisoni', 'Acrocephalus scirpaceus',\n",
       "       'Camelus dromedarius', 'Apodemus sylvaticus',\n",
       "       'Antilocapra americana', 'Ovis aries', 'Meleagris gallopavo',\n",
       "       'Chodsigoa caovansunga', 'Cynopterus brachyotis',\n",
       "       'Aotus trivirgatus', 'Nasua nasua', 'Rhinolophus sinicus',\n",
       "       'Abrothrix longipilis', 'Chlorocebus pygerythrus',\n",
       "       'Macaca fascicularis', 'Calomys callosus', 'Oecomys bicolor',\n",
       "       'Nephelomys albigularis', 'Cavia cutleri', 'Turdus hortulorum',\n",
       "       'Haemorhous mexicanus', 'Akodon azarae', 'Sturnira lilium',\n",
       "       'Atelerix albiventris', 'Epomops franqueti',\n",
       "       'Connochaetes taurinus', 'Callospermophilus lateralis',\n",
       "       'Mus musculus', 'Ailuropoda melanoleuca', 'Rattus norvegicus',\n",
       "       'Cercopithecus hamlyni', 'Bos indicus', 'Agelaius tricolor',\n",
       "       'Equus asinus', 'Cervus elaphus', 'Macaca mulatta',\n",
       "       'Pan troglodytes', 'Erythrocebus patas', 'Rangifer tarandus',\n",
       "       'Chlorocebus aethiops', 'Connochaetes gnou', 'Pan paniscus',\n",
       "       'Elephas maximus', 'Anser sp.', 'Rhinolophus macrotis',\n",
       "       'Oryctolagus cuniculus', 'Pongo pygmaeus', 'Gorilla gorilla'],\n",
       "      dtype=object)"
      ]
     },
     "execution_count": 12,
     "metadata": {},
     "output_type": "execute_result"
    }
   ],
   "source": [
    "df[\"virus_host_name\"].unique()"
   ]
  },
  {
   "cell_type": "code",
   "execution_count": 13,
   "id": "b2b9a3ac",
   "metadata": {},
   "outputs": [],
   "source": [
    "df = df[df[\"virus_host_name\"] != \"Homo sapiens\"]"
   ]
  },
  {
   "cell_type": "code",
   "execution_count": 14,
   "id": "adad2907",
   "metadata": {},
   "outputs": [
    {
     "name": "stdout",
     "output_type": "stream",
     "text": [
      "(4277, 8)\n"
     ]
    },
    {
     "data": {
      "text/plain": [
       "array(['Bandicota bengalensis', 'Apodemus agrarius', 'Equus caballus',\n",
       "       'Capra hircus', 'Phacochoerus aethiopicus', 'Gallus gallus',\n",
       "       'Felis catus', 'Odobenus rosmarus', 'Sus scrofa', 'Bos taurus',\n",
       "       'Cynomys gunnisoni', 'Acrocephalus scirpaceus',\n",
       "       'Camelus dromedarius', 'Apodemus sylvaticus',\n",
       "       'Antilocapra americana', 'Ovis aries', 'Meleagris gallopavo',\n",
       "       'Chodsigoa caovansunga', 'Cynopterus brachyotis',\n",
       "       'Aotus trivirgatus', 'Nasua nasua', 'Rhinolophus sinicus',\n",
       "       'Abrothrix longipilis', 'Chlorocebus pygerythrus',\n",
       "       'Macaca fascicularis', 'Calomys callosus', 'Oecomys bicolor',\n",
       "       'Nephelomys albigularis', 'Cavia cutleri', 'Turdus hortulorum',\n",
       "       'Haemorhous mexicanus', 'Akodon azarae', 'Sturnira lilium',\n",
       "       'Atelerix albiventris', 'Epomops franqueti',\n",
       "       'Connochaetes taurinus', 'Callospermophilus lateralis',\n",
       "       'Mus musculus', 'Ailuropoda melanoleuca', 'Rattus norvegicus',\n",
       "       'Cercopithecus hamlyni', 'Bos indicus', 'Agelaius tricolor',\n",
       "       'Equus asinus', 'Cervus elaphus', 'Macaca mulatta',\n",
       "       'Pan troglodytes', 'Erythrocebus patas', 'Rangifer tarandus',\n",
       "       'Chlorocebus aethiops', 'Connochaetes gnou', 'Pan paniscus',\n",
       "       'Elephas maximus', 'Anser sp.', 'Rhinolophus macrotis',\n",
       "       'Oryctolagus cuniculus', 'Pongo pygmaeus', 'Gorilla gorilla'],\n",
       "      dtype=object)"
      ]
     },
     "execution_count": 14,
     "metadata": {},
     "output_type": "execute_result"
    }
   ],
   "source": [
    "print(df.shape)\n",
    "df[\"virus_host_name\"].unique()"
   ]
  },
  {
   "cell_type": "code",
   "execution_count": 16,
   "id": "d431c9bf",
   "metadata": {},
   "outputs": [
    {
     "data": {
      "text/plain": [
       "Homo sapiens                   14816\n",
       "Phacochoerus aethiopicus        1043\n",
       "Bandicota bengalensis            798\n",
       "Equus caballus                   439\n",
       "Capra hircus                     425\n",
       "Gallus gallus                    334\n",
       "Apodemus sylvaticus              287\n",
       "Bos taurus                       193\n",
       "Sus scrofa                       122\n",
       "Cynomys gunnisoni                 86\n",
       "Connochaetes taurinus             58\n",
       "Camelus dromedarius               35\n",
       "Apodemus agrarius                 33\n",
       "Elephas maximus                   29\n",
       "Cynopterus brachyotis             28\n",
       "Acrocephalus scirpaceus           27\n",
       "Antilocapra americana             25\n",
       "Epomops franqueti                 25\n",
       "Ovis aries                        24\n",
       "Felis catus                       22\n",
       "Cervus elaphus                    18\n",
       "Abrothrix longipilis              17\n",
       "Macaca fascicularis               17\n",
       "Cavia cutleri                     14\n",
       "Meleagris gallopavo               13\n",
       "Chodsigoa caovansunga             13\n",
       "Mus musculus                      10\n",
       "Atelerix albiventris              10\n",
       "Akodon azarae                     10\n",
       "Anser sp.                          9\n",
       "Chlorocebus aethiops               9\n",
       "Bos indicus                        9\n",
       "Odobenus rosmarus                  9\n",
       "Pan paniscus                       8\n",
       "Haemorhous mexicanus               8\n",
       "Calomys callosus                   7\n",
       "Erythrocebus patas                 7\n",
       "Macaca mulatta                     5\n",
       "Ailuropoda melanoleuca             5\n",
       "Equus asinus                       5\n",
       "Nephelomys albigularis             5\n",
       "Turdus hortulorum                  4\n",
       "Oecomys bicolor                    4\n",
       "Pan troglodytes                    4\n",
       "Cercopithecus hamlyni              3\n",
       "Callospermophilus lateralis        3\n",
       "Sturnira lilium                    2\n",
       "Aotus trivirgatus                  2\n",
       "Nasua nasua                        2\n",
       "Rattus norvegicus                  2\n",
       "Oryctolagus cuniculus              2\n",
       "Rhinolophus macrotis               1\n",
       "Pongo pygmaeus                     1\n",
       "Chlorocebus pygerythrus            1\n",
       "Connochaetes gnou                  1\n",
       "Rangifer tarandus                  1\n",
       "Agelaius tricolor                  1\n",
       "Rhinolophus sinicus                1\n",
       "Gorilla gorilla                    1\n",
       "Name: virus_host_name, dtype: int64"
      ]
     },
     "execution_count": 16,
     "metadata": {},
     "output_type": "execute_result"
    }
   ],
   "source": [
    "df[\"virus_host_name\"].value_counts()"
   ]
  },
  {
   "cell_type": "code",
   "execution_count": 29,
   "id": "d80bc1fd",
   "metadata": {},
   "outputs": [],
   "source": [
    "virus_host_names = [\"Phacochoerus aethiopicus\", \"Bandicota bengalensis\", \"Equus caballus\", \"Capra hircus\", \"Gallus gallus\", \"Apodemus sylvaticus\", \"Bos taurus\"]\n",
    "df = df[df[\"virus_host_name\"].isin(virus_host_names)]"
   ]
  },
  {
   "cell_type": "code",
   "execution_count": 16,
   "id": "5b27fa1e",
   "metadata": {},
   "outputs": [
    {
     "name": "stdout",
     "output_type": "stream",
     "text": [
      "(4277, 8)\n"
     ]
    }
   ],
   "source": [
    "print(df.shape)\n",
    "df.to_csv(os.path.join(os.getcwd(), \"..\", \"..\", \"..\",\"input/data/uniref90/uniref90_final_without_humans.csv\"), index=False)"
   ]
  },
  {
   "cell_type": "markdown",
   "id": "1dd68f9b",
   "metadata": {},
   "source": [
    "### Sequences without single host only"
   ]
  },
  {
   "cell_type": "code",
   "execution_count": 17,
   "id": "1c0534cc",
   "metadata": {},
   "outputs": [],
   "source": [
    "df = df[df[\"seq_len\"] <= 1114]\n",
    "df = df.drop(columns=[\"seq_len\"])"
   ]
  },
  {
   "cell_type": "code",
   "execution_count": 18,
   "id": "3b48a088",
   "metadata": {},
   "outputs": [
    {
     "name": "stdout",
     "output_type": "stream",
     "text": [
      "(18292, 8)\n"
     ]
    },
    {
     "data": {
      "text/html": [
       "<div>\n",
       "<style scoped>\n",
       "    .dataframe tbody tr th:only-of-type {\n",
       "        vertical-align: middle;\n",
       "    }\n",
       "\n",
       "    .dataframe tbody tr th {\n",
       "        vertical-align: top;\n",
       "    }\n",
       "\n",
       "    .dataframe thead th {\n",
       "        text-align: right;\n",
       "    }\n",
       "</style>\n",
       "<table border=\"1\" class=\"dataframe\">\n",
       "  <thead>\n",
       "    <tr style=\"text-align: right;\">\n",
       "      <th></th>\n",
       "      <th>uniref90_id</th>\n",
       "      <th>tax_id</th>\n",
       "      <th>host_tax_ids</th>\n",
       "      <th>virus_name</th>\n",
       "      <th>virus_taxon_rank</th>\n",
       "      <th>virus_host_name</th>\n",
       "      <th>virus_host_taxon_rank</th>\n",
       "      <th>seq</th>\n",
       "    </tr>\n",
       "  </thead>\n",
       "  <tbody>\n",
       "    <tr>\n",
       "      <th>0</th>\n",
       "      <td>UniRef90_A0A023NJY4</td>\n",
       "      <td>10407</td>\n",
       "      <td>9606</td>\n",
       "      <td>Hepatitis B virus</td>\n",
       "      <td>species</td>\n",
       "      <td>Homo sapiens</td>\n",
       "      <td>species</td>\n",
       "      <td>MAARLCCQLDPARDVLCLRPVGAESRGRPLSGPLGTLSSPSLPAVP...</td>\n",
       "    </tr>\n",
       "    <tr>\n",
       "      <th>1</th>\n",
       "      <td>UniRef90_A0A023NLM3</td>\n",
       "      <td>10407</td>\n",
       "      <td>9606</td>\n",
       "      <td>Hepatitis B virus</td>\n",
       "      <td>species</td>\n",
       "      <td>Homo sapiens</td>\n",
       "      <td>species</td>\n",
       "      <td>MGQNLSTSNPLGFFPDHQLDPAFRANSNNPDWDFNPNKDTWPDANK...</td>\n",
       "    </tr>\n",
       "    <tr>\n",
       "      <th>2</th>\n",
       "      <td>UniRef90_A0A023PGV5</td>\n",
       "      <td>1678143</td>\n",
       "      <td>69079</td>\n",
       "      <td>Paslahepevirus balayani</td>\n",
       "      <td>species</td>\n",
       "      <td>Bandicota bengalensis</td>\n",
       "      <td>species</td>\n",
       "      <td>SALANAVVVRPFLSRTQTEILIXLMXPRQLVFRPEVLWNHPIQRVI...</td>\n",
       "    </tr>\n",
       "    <tr>\n",
       "      <th>3</th>\n",
       "      <td>UniRef90_A0A023SEP0</td>\n",
       "      <td>10407</td>\n",
       "      <td>9606</td>\n",
       "      <td>Hepatitis B virus</td>\n",
       "      <td>species</td>\n",
       "      <td>Homo sapiens</td>\n",
       "      <td>species</td>\n",
       "      <td>NLLEDWGPCTEHGEHHIRIPRTPARVTGGVFLVDKNPHNTAESRLV...</td>\n",
       "    </tr>\n",
       "    <tr>\n",
       "      <th>4</th>\n",
       "      <td>UniRef90_A0A023SEP4</td>\n",
       "      <td>10407</td>\n",
       "      <td>9606</td>\n",
       "      <td>Hepatitis B virus</td>\n",
       "      <td>species</td>\n",
       "      <td>Homo sapiens</td>\n",
       "      <td>species</td>\n",
       "      <td>LVNLLEDWGPCTEHGEHHIRIPRTPARVTGGVFLVDKNPHNTAESR...</td>\n",
       "    </tr>\n",
       "  </tbody>\n",
       "</table>\n",
       "</div>"
      ],
      "text/plain": [
       "           uniref90_id   tax_id  host_tax_ids               virus_name  \\\n",
       "0  UniRef90_A0A023NJY4    10407          9606        Hepatitis B virus   \n",
       "1  UniRef90_A0A023NLM3    10407          9606        Hepatitis B virus   \n",
       "2  UniRef90_A0A023PGV5  1678143         69079  Paslahepevirus balayani   \n",
       "3  UniRef90_A0A023SEP0    10407          9606        Hepatitis B virus   \n",
       "4  UniRef90_A0A023SEP4    10407          9606        Hepatitis B virus   \n",
       "\n",
       "  virus_taxon_rank        virus_host_name virus_host_taxon_rank  \\\n",
       "0          species           Homo sapiens               species   \n",
       "1          species           Homo sapiens               species   \n",
       "2          species  Bandicota bengalensis               species   \n",
       "3          species           Homo sapiens               species   \n",
       "4          species           Homo sapiens               species   \n",
       "\n",
       "                                                 seq  \n",
       "0  MAARLCCQLDPARDVLCLRPVGAESRGRPLSGPLGTLSSPSLPAVP...  \n",
       "1  MGQNLSTSNPLGFFPDHQLDPAFRANSNNPDWDFNPNKDTWPDANK...  \n",
       "2  SALANAVVVRPFLSRTQTEILIXLMXPRQLVFRPEVLWNHPIQRVI...  \n",
       "3  NLLEDWGPCTEHGEHHIRIPRTPARVTGGVFLVDKNPHNTAESRLV...  \n",
       "4  LVNLLEDWGPCTEHGEHHIRIPRTPARVTGGVFLVDKNPHNTAESR...  "
      ]
     },
     "execution_count": 18,
     "metadata": {},
     "output_type": "execute_result"
    }
   ],
   "source": [
    "print(df.shape)\n",
    "df.head()"
   ]
  },
  {
   "cell_type": "code",
   "execution_count": 20,
   "id": "e3695447",
   "metadata": {},
   "outputs": [
    {
     "data": {
      "text/plain": [
       "Hepatitis B virus                13684\n",
       "African swine fever virus         1128\n",
       "Paslahepevirus balayani            766\n",
       "Orf virus                          329\n",
       "Cowpox virus                       277\n",
       "                                 ...  \n",
       "Schmallenberg orthobunyavirus        1\n",
       "Foot-and-mouth disease virus         1\n",
       "Snowshoe hare orthobunyavirus        1\n",
       "Avastrovirus 2                       1\n",
       "Louping ill virus                    1\n",
       "Name: virus_name, Length: 88, dtype: int64"
      ]
     },
     "execution_count": 20,
     "metadata": {},
     "output_type": "execute_result"
    }
   ],
   "source": [
    "df[\"virus_name\"].value_counts()"
   ]
  },
  {
   "cell_type": "code",
   "execution_count": 16,
   "id": "9f32bd59",
   "metadata": {},
   "outputs": [],
   "source": [
    "df.to_csv(os.path.join(os.getcwd(), \"..\", \"..\", \"..\",\"input/data/uniref90/uniref90_final_msl1114.csv\"), index=False)"
   ]
  },
  {
   "cell_type": "markdown",
   "id": "79805ba8",
   "metadata": {},
   "source": [
    "### Uniref90 : Viridae Family"
   ]
  },
  {
   "cell_type": "code",
   "execution_count": 2,
   "id": "bac81e1f",
   "metadata": {},
   "outputs": [],
   "source": [
    "filepath = \"~/dev/git/zoonosis/input/data/uniref90/uniref90_viridae_20231113_parsed.csv\""
   ]
  },
  {
   "cell_type": "code",
   "execution_count": 3,
   "id": "1d757010",
   "metadata": {},
   "outputs": [],
   "source": [
    "df = pd.read_csv(filepath)"
   ]
  },
  {
   "cell_type": "code",
   "execution_count": 4,
   "id": "59b828bf",
   "metadata": {},
   "outputs": [
    {
     "data": {
      "text/plain": [
       "(1201745, 3)"
      ]
     },
     "execution_count": 4,
     "metadata": {},
     "output_type": "execute_result"
    }
   ],
   "source": [
    "df.shape"
   ]
  },
  {
   "cell_type": "code",
   "execution_count": 5,
   "id": "b18c5793",
   "metadata": {},
   "outputs": [
    {
     "data": {
      "text/html": [
       "<div>\n",
       "<style scoped>\n",
       "    .dataframe tbody tr th:only-of-type {\n",
       "        vertical-align: middle;\n",
       "    }\n",
       "\n",
       "    .dataframe tbody tr th {\n",
       "        vertical-align: top;\n",
       "    }\n",
       "\n",
       "    .dataframe thead th {\n",
       "        text-align: right;\n",
       "    }\n",
       "</style>\n",
       "<table border=\"1\" class=\"dataframe\">\n",
       "  <thead>\n",
       "    <tr style=\"text-align: right;\">\n",
       "      <th></th>\n",
       "      <th>uniref90_id</th>\n",
       "      <th>tax_id</th>\n",
       "      <th>seq</th>\n",
       "    </tr>\n",
       "  </thead>\n",
       "  <tbody>\n",
       "    <tr>\n",
       "      <th>0</th>\n",
       "      <td>UniRef90_A0A023GV85</td>\n",
       "      <td>11292</td>\n",
       "      <td>MSKIFVNPSAIRAGLADLEMAEETVDLINRNIEDNQAHLQGEPIEV...</td>\n",
       "    </tr>\n",
       "    <tr>\n",
       "      <th>1</th>\n",
       "      <td>UniRef90_A0A023GZ41</td>\n",
       "      <td>12315</td>\n",
       "      <td>PSLQHPTFIAGKKCRAGYTYTSLDVRPTRTEKDKSFGQRLIIPVPV...</td>\n",
       "    </tr>\n",
       "    <tr>\n",
       "      <th>2</th>\n",
       "      <td>UniRef90_A0A023H4K1</td>\n",
       "      <td>12321</td>\n",
       "      <td>DEVSKVNSMSILGPNQLKLCTQLVLSNGAAPVVLSLVSKEKKSILN...</td>\n",
       "    </tr>\n",
       "    <tr>\n",
       "      <th>3</th>\n",
       "      <td>UniRef90_A0A023H4T3</td>\n",
       "      <td>12321</td>\n",
       "      <td>EIIPDVSLTKPYEAVISGNDWMTLGRMVPTAPIPTIRDVFFSGLSR...</td>\n",
       "    </tr>\n",
       "    <tr>\n",
       "      <th>4</th>\n",
       "      <td>UniRef90_A0A023H4Y3</td>\n",
       "      <td>12321</td>\n",
       "      <td>QSLGTPLSLSSSNGLGARFLYSFLKDFAAPRLLEEDLVFRMVFSIT...</td>\n",
       "    </tr>\n",
       "  </tbody>\n",
       "</table>\n",
       "</div>"
      ],
      "text/plain": [
       "           uniref90_id  tax_id  \\\n",
       "0  UniRef90_A0A023GV85   11292   \n",
       "1  UniRef90_A0A023GZ41   12315   \n",
       "2  UniRef90_A0A023H4K1   12321   \n",
       "3  UniRef90_A0A023H4T3   12321   \n",
       "4  UniRef90_A0A023H4Y3   12321   \n",
       "\n",
       "                                                 seq  \n",
       "0  MSKIFVNPSAIRAGLADLEMAEETVDLINRNIEDNQAHLQGEPIEV...  \n",
       "1  PSLQHPTFIAGKKCRAGYTYTSLDVRPTRTEKDKSFGQRLIIPVPV...  \n",
       "2  DEVSKVNSMSILGPNQLKLCTQLVLSNGAAPVVLSLVSKEKKSILN...  \n",
       "3  EIIPDVSLTKPYEAVISGNDWMTLGRMVPTAPIPTIRDVFFSGLSR...  \n",
       "4  QSLGTPLSLSSSNGLGARFLYSFLKDFAAPRLLEEDLVFRMVFSIT...  "
      ]
     },
     "execution_count": 5,
     "metadata": {},
     "output_type": "execute_result"
    }
   ],
   "source": [
    "df.head()"
   ]
  },
  {
   "cell_type": "code",
   "execution_count": 6,
   "id": "f92b3eea",
   "metadata": {},
   "outputs": [],
   "source": [
    "df[\"seq_len\"] = df.apply(lambda x: len(x[\"seq\"]), axis=1)"
   ]
  },
  {
   "cell_type": "code",
   "execution_count": 7,
   "id": "c86fede1",
   "metadata": {},
   "outputs": [
    {
     "data": {
      "text/html": [
       "<div>\n",
       "<style scoped>\n",
       "    .dataframe tbody tr th:only-of-type {\n",
       "        vertical-align: middle;\n",
       "    }\n",
       "\n",
       "    .dataframe tbody tr th {\n",
       "        vertical-align: top;\n",
       "    }\n",
       "\n",
       "    .dataframe thead th {\n",
       "        text-align: right;\n",
       "    }\n",
       "</style>\n",
       "<table border=\"1\" class=\"dataframe\">\n",
       "  <thead>\n",
       "    <tr style=\"text-align: right;\">\n",
       "      <th></th>\n",
       "      <th>uniref90_id</th>\n",
       "      <th>tax_id</th>\n",
       "      <th>seq</th>\n",
       "      <th>seq_len</th>\n",
       "    </tr>\n",
       "  </thead>\n",
       "  <tbody>\n",
       "    <tr>\n",
       "      <th>0</th>\n",
       "      <td>UniRef90_A0A023GV85</td>\n",
       "      <td>11292</td>\n",
       "      <td>MSKIFVNPSAIRAGLADLEMAEETVDLINRNIEDNQAHLQGEPIEV...</td>\n",
       "      <td>297</td>\n",
       "    </tr>\n",
       "    <tr>\n",
       "      <th>1</th>\n",
       "      <td>UniRef90_A0A023GZ41</td>\n",
       "      <td>12315</td>\n",
       "      <td>PSLQHPTFIAGKKCRAGYTYTSLDVRPTRTEKDKSFGQRLIIPVPV...</td>\n",
       "      <td>166</td>\n",
       "    </tr>\n",
       "    <tr>\n",
       "      <th>2</th>\n",
       "      <td>UniRef90_A0A023H4K1</td>\n",
       "      <td>12321</td>\n",
       "      <td>DEVSKVNSMSILGPNQLKLCTQLVLSNGAAPVVLSLVSKEKKSILN...</td>\n",
       "      <td>156</td>\n",
       "    </tr>\n",
       "    <tr>\n",
       "      <th>3</th>\n",
       "      <td>UniRef90_A0A023H4T3</td>\n",
       "      <td>12321</td>\n",
       "      <td>EIIPDVSLTKPYEAVISGNDWMTLGRMVPTAPIPTIRDVFFSGLSR...</td>\n",
       "      <td>195</td>\n",
       "    </tr>\n",
       "    <tr>\n",
       "      <th>4</th>\n",
       "      <td>UniRef90_A0A023H4Y3</td>\n",
       "      <td>12321</td>\n",
       "      <td>QSLGTPLSLSSSNGLGARFLYSFLKDFAAPRLLEEDLVFRMVFSIT...</td>\n",
       "      <td>130</td>\n",
       "    </tr>\n",
       "  </tbody>\n",
       "</table>\n",
       "</div>"
      ],
      "text/plain": [
       "           uniref90_id  tax_id  \\\n",
       "0  UniRef90_A0A023GV85   11292   \n",
       "1  UniRef90_A0A023GZ41   12315   \n",
       "2  UniRef90_A0A023H4K1   12321   \n",
       "3  UniRef90_A0A023H4T3   12321   \n",
       "4  UniRef90_A0A023H4Y3   12321   \n",
       "\n",
       "                                                 seq  seq_len  \n",
       "0  MSKIFVNPSAIRAGLADLEMAEETVDLINRNIEDNQAHLQGEPIEV...      297  \n",
       "1  PSLQHPTFIAGKKCRAGYTYTSLDVRPTRTEKDKSFGQRLIIPVPV...      166  \n",
       "2  DEVSKVNSMSILGPNQLKLCTQLVLSNGAAPVVLSLVSKEKKSILN...      156  \n",
       "3  EIIPDVSLTKPYEAVISGNDWMTLGRMVPTAPIPTIRDVFFSGLSR...      195  \n",
       "4  QSLGTPLSLSSSNGLGARFLYSFLKDFAAPRLLEEDLVFRMVFSIT...      130  "
      ]
     },
     "execution_count": 7,
     "metadata": {},
     "output_type": "execute_result"
    }
   ],
   "source": [
    "df.head()"
   ]
  },
  {
   "cell_type": "code",
   "execution_count": 8,
   "id": "daa5e67e",
   "metadata": {},
   "outputs": [
    {
     "data": {
      "text/plain": [
       "<AxesSubplot:xlabel='seq_len', ylabel='Count'>"
      ]
     },
     "execution_count": 8,
     "metadata": {},
     "output_type": "execute_result"
    },
    {
     "data": {
      "image/png": "[encoded data removed]",
      "text/plain": [
       "<Figure size 640x480 with 1 Axes>"
      ]
     },
     "metadata": {},
     "output_type": "display_data"
    }
   ],
   "source": [
    "sns.histplot(df[\"seq_len\"])"
   ]
  },
  {
   "cell_type": "code",
   "execution_count": 9,
   "id": "1c8cd5fa",
   "metadata": {},
   "outputs": [],
   "source": [
    "def get_histogram(values, n_bins=12):\n",
    "    n = len(values)\n",
    "    freq, bins = np.histogram(values, bins=n_bins)\n",
    "    hist_map = []\n",
    "    for i in range(n_bins):\n",
    "        hist_map.append({\"start\": bins[i], \"end\":bins[i+1], \"count\": freq[i], \"percentage\": freq[i]/n*100})\n",
    "\n",
    "\n",
    "    hist_df = pd.DataFrame(hist_map)\n",
    "    return hist_df"
   ]
  },
  {
   "cell_type": "code",
   "execution_count": 10,
   "id": "f386236a",
   "metadata": {},
   "outputs": [],
   "source": [
    "hist_df = get_histogram(df[\"seq_len\"], n_bins=20)"
   ]
  },
  {
   "cell_type": "code",
   "execution_count": 11,
   "id": "cf6efce2",
   "metadata": {},
   "outputs": [
    {
     "data": {
      "text/html": [
       "<div>\n",
       "<style scoped>\n",
       "    .dataframe tbody tr th:only-of-type {\n",
       "        vertical-align: middle;\n",
       "    }\n",
       "\n",
       "    .dataframe tbody tr th {\n",
       "        vertical-align: top;\n",
       "    }\n",
       "\n",
       "    .dataframe thead th {\n",
       "        text-align: right;\n",
       "    }\n",
       "</style>\n",
       "<table border=\"1\" class=\"dataframe\">\n",
       "  <thead>\n",
       "    <tr style=\"text-align: right;\">\n",
       "      <th></th>\n",
       "      <th>start</th>\n",
       "      <th>end</th>\n",
       "      <th>count</th>\n",
       "      <th>percentage</th>\n",
       "    </tr>\n",
       "  </thead>\n",
       "  <tbody>\n",
       "    <tr>\n",
       "      <th>0</th>\n",
       "      <td>11.00</td>\n",
       "      <td>688.25</td>\n",
       "      <td>1124495</td>\n",
       "      <td>93.571848</td>\n",
       "    </tr>\n",
       "    <tr>\n",
       "      <th>1</th>\n",
       "      <td>688.25</td>\n",
       "      <td>1365.50</td>\n",
       "      <td>60668</td>\n",
       "      <td>5.048326</td>\n",
       "    </tr>\n",
       "    <tr>\n",
       "      <th>2</th>\n",
       "      <td>1365.50</td>\n",
       "      <td>2042.75</td>\n",
       "      <td>6462</td>\n",
       "      <td>0.537718</td>\n",
       "    </tr>\n",
       "    <tr>\n",
       "      <th>3</th>\n",
       "      <td>2042.75</td>\n",
       "      <td>2720.00</td>\n",
       "      <td>5138</td>\n",
       "      <td>0.427545</td>\n",
       "    </tr>\n",
       "    <tr>\n",
       "      <th>4</th>\n",
       "      <td>2720.00</td>\n",
       "      <td>3397.25</td>\n",
       "      <td>3422</td>\n",
       "      <td>0.284753</td>\n",
       "    </tr>\n",
       "    <tr>\n",
       "      <th>5</th>\n",
       "      <td>3397.25</td>\n",
       "      <td>4074.50</td>\n",
       "      <td>768</td>\n",
       "      <td>0.063907</td>\n",
       "    </tr>\n",
       "    <tr>\n",
       "      <th>6</th>\n",
       "      <td>4074.50</td>\n",
       "      <td>4751.75</td>\n",
       "      <td>307</td>\n",
       "      <td>0.025546</td>\n",
       "    </tr>\n",
       "    <tr>\n",
       "      <th>7</th>\n",
       "      <td>4751.75</td>\n",
       "      <td>5429.00</td>\n",
       "      <td>93</td>\n",
       "      <td>0.007739</td>\n",
       "    </tr>\n",
       "    <tr>\n",
       "      <th>8</th>\n",
       "      <td>5429.00</td>\n",
       "      <td>6106.25</td>\n",
       "      <td>57</td>\n",
       "      <td>0.004743</td>\n",
       "    </tr>\n",
       "    <tr>\n",
       "      <th>9</th>\n",
       "      <td>6106.25</td>\n",
       "      <td>6783.50</td>\n",
       "      <td>129</td>\n",
       "      <td>0.010734</td>\n",
       "    </tr>\n",
       "    <tr>\n",
       "      <th>10</th>\n",
       "      <td>6783.50</td>\n",
       "      <td>7460.75</td>\n",
       "      <td>179</td>\n",
       "      <td>0.014895</td>\n",
       "    </tr>\n",
       "    <tr>\n",
       "      <th>11</th>\n",
       "      <td>7460.75</td>\n",
       "      <td>8138.00</td>\n",
       "      <td>17</td>\n",
       "      <td>0.001415</td>\n",
       "    </tr>\n",
       "    <tr>\n",
       "      <th>12</th>\n",
       "      <td>8138.00</td>\n",
       "      <td>8815.25</td>\n",
       "      <td>6</td>\n",
       "      <td>0.000499</td>\n",
       "    </tr>\n",
       "    <tr>\n",
       "      <th>13</th>\n",
       "      <td>8815.25</td>\n",
       "      <td>9492.50</td>\n",
       "      <td>2</td>\n",
       "      <td>0.000166</td>\n",
       "    </tr>\n",
       "    <tr>\n",
       "      <th>14</th>\n",
       "      <td>9492.50</td>\n",
       "      <td>10169.75</td>\n",
       "      <td>1</td>\n",
       "      <td>0.000083</td>\n",
       "    </tr>\n",
       "    <tr>\n",
       "      <th>15</th>\n",
       "      <td>10169.75</td>\n",
       "      <td>10847.00</td>\n",
       "      <td>0</td>\n",
       "      <td>0.000000</td>\n",
       "    </tr>\n",
       "    <tr>\n",
       "      <th>16</th>\n",
       "      <td>10847.00</td>\n",
       "      <td>11524.25</td>\n",
       "      <td>0</td>\n",
       "      <td>0.000000</td>\n",
       "    </tr>\n",
       "    <tr>\n",
       "      <th>17</th>\n",
       "      <td>11524.25</td>\n",
       "      <td>12201.50</td>\n",
       "      <td>0</td>\n",
       "      <td>0.000000</td>\n",
       "    </tr>\n",
       "    <tr>\n",
       "      <th>18</th>\n",
       "      <td>12201.50</td>\n",
       "      <td>12878.75</td>\n",
       "      <td>0</td>\n",
       "      <td>0.000000</td>\n",
       "    </tr>\n",
       "    <tr>\n",
       "      <th>19</th>\n",
       "      <td>12878.75</td>\n",
       "      <td>13556.00</td>\n",
       "      <td>1</td>\n",
       "      <td>0.000083</td>\n",
       "    </tr>\n",
       "  </tbody>\n",
       "</table>\n",
       "</div>"
      ],
      "text/plain": [
       "       start       end    count  percentage\n",
       "0      11.00    688.25  1124495   93.571848\n",
       "1     688.25   1365.50    60668    5.048326\n",
       "2    1365.50   2042.75     6462    0.537718\n",
       "3    2042.75   2720.00     5138    0.427545\n",
       "4    2720.00   3397.25     3422    0.284753\n",
       "5    3397.25   4074.50      768    0.063907\n",
       "6    4074.50   4751.75      307    0.025546\n",
       "7    4751.75   5429.00       93    0.007739\n",
       "8    5429.00   6106.25       57    0.004743\n",
       "9    6106.25   6783.50      129    0.010734\n",
       "10   6783.50   7460.75      179    0.014895\n",
       "11   7460.75   8138.00       17    0.001415\n",
       "12   8138.00   8815.25        6    0.000499\n",
       "13   8815.25   9492.50        2    0.000166\n",
       "14   9492.50  10169.75        1    0.000083\n",
       "15  10169.75  10847.00        0    0.000000\n",
       "16  10847.00  11524.25        0    0.000000\n",
       "17  11524.25  12201.50        0    0.000000\n",
       "18  12201.50  12878.75        0    0.000000\n",
       "19  12878.75  13556.00        1    0.000083"
      ]
     },
     "execution_count": 11,
     "metadata": {},
     "output_type": "execute_result"
    }
   ],
   "source": [
    "hist_df"
   ]
  },
  {
   "cell_type": "code",
   "execution_count": null,
   "id": "34ea374f",
   "metadata": {},
   "outputs": [],
   "source": []
  }
 ],
 "metadata": {
  "kernelspec": {
   "display_name": "Python 3 (ipykernel)",
   "language": "python",
   "name": "python3"
  },
  "language_info": {
   "codemirror_mode": {
    "name": "ipython",
    "version": 3
   },
   "file_extension": ".py",
   "mimetype": "text/x-python",
   "name": "python",
   "nbconvert_exporter": "python",
   "pygments_lexer": "ipython3",
   "version": "3.9.7"
  }
 },
 "nbformat": 4,
 "nbformat_minor": 5
}
