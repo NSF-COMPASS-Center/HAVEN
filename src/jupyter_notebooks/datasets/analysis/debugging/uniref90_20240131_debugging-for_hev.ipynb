{
 "cells": [
  {
   "cell_type": "code",
   "execution_count": 1,
   "id": "8d5dcceb",
   "metadata": {},
   "outputs": [],
   "source": [
    "import pandas as pd\n",
    "import os\n",
    "import numpy as np\n",
    "import seaborn as sns\n",
    "import matplotlib.pyplot as plt\n",
    "import requests\n",
    "import numpy as np\n",
    "import re\n",
    "\n",
    "pd.set_option('display.width', 1000)\n",
    "from ast import literal_eval"
   ]
  },
  {
   "cell_type": "code",
   "execution_count": 2,
   "id": "533e7281",
   "metadata": {},
   "outputs": [],
   "source": [
    "def column_stats(df, column_name):\n",
    "    n = df.shape[0]\n",
    "    count_column_name = column_name + \"_count\"\n",
    "    count_df = pd.DataFrame(df[column_name].value_counts()).reset_index()\n",
    "    count_df.columns=[column_name, count_column_name]\n",
    "    count_df[column_name + \"_percent\"] = count_df[count_column_name].apply(lambda x: int(x)/n*100)\n",
    "    print(f\"Number of unique values = {len(df[column_name].unique())}\")\n",
    "    print(f\"{count_df}\")"
   ]
  },
  {
   "cell_type": "code",
   "execution_count": 3,
   "id": "a8a62b40",
   "metadata": {},
   "outputs": [],
   "source": [
    "def analyze_df(file_path):\n",
    "    df = pd.read_csv(file_path)\n",
    "    # df[\"seq_len\"] = df[\"seq\"].apply(lambda x: len(x))\n",
    "    print(\"df size = \", df.shape)\n",
    "    print(df.head())\n",
    "    column_stats(df, \"virus_name\")\n",
    "    column_stats(df, \"virus_host_name\")\n",
    "    return df"
   ]
  },
  {
   "cell_type": "markdown",
   "id": "a9655f98",
   "metadata": {},
   "source": [
    "### uniref90_viridae_embl_hosts_pruned_metadata_species_vertebrates_w_seq.csv"
   ]
  },
  {
   "cell_type": "code",
   "execution_count": 4,
   "id": "f8790142",
   "metadata": {
    "scrolled": true
   },
   "outputs": [
    {
     "name": "stdout",
     "output_type": "stream",
     "text": [
      "df size =  (267865, 10)\n",
      "           uniref90_id  tax_id embl_ref_id    embl_host_name virus_host_name                      virus_name virus_taxon_rank  virus_host_tax_id virus_host_taxon_rank                                                seq\n",
      "0      UniRef90_D6NXI8   11676  ADF86160.1  ['Homo sapiens']    Homo sapiens  Human immunodeficiency virus 1          species               9606               species  MAGRSGDSDEELLRVVRIIKQIYQSNPPPNPEGTRQARRNRRRRWR...\n",
      "1      UniRef90_L0BZL1   11676  AFZ96186.1  ['Homo sapiens']    Homo sapiens  Human immunodeficiency virus 1          species               9606               species  EXEKEGKISKIGPENPYNTPIFAIKKKDSTKWRKLVDFRELNKRTQ...\n",
      "2      UniRef90_D6NXI9   11676  ADF86161.1  ['Homo sapiens']    Homo sapiens  Human immunodeficiency virus 1          species               9606               species  MAGRSGDSDEXLLRTIRLIRILYQSNPPPSSKGTRQARRNRRRRWR...\n",
      "3  UniRef90_A0A023HQ48   28875  AGO66969.1  ['Homo sapiens']    Homo sapiens                     Rotavirus A          species               9606               species  KGWPTGSVYFKEYSSIVDFSVDPQLYCDYNLVLMKYDQNLELDMSE...\n",
      "4      UniRef90_L0BZL4   11676  AFZ95585.1  ['Homo sapiens']    Homo sapiens  Human immunodeficiency virus 1          species               9606               species  PQITLWQRPLVTIKIGGQLKEALLDTGADDTVLEEMSLPGRWKPKM...\n",
      "Number of unique values = 3779\n",
      "                                  virus_name  virus_name_count  virus_name_percent\n",
      "0             Human immunodeficiency virus 1            215415           80.419241\n",
      "1                        Hepacivirus hominis             10947            4.086760\n",
      "2                          Hepatitis B virus             10152            3.789969\n",
      "3               Human immunodeficiency virus              2095            0.782110\n",
      "4                       Human papillomavirus              1078            0.402442\n",
      "...                                      ...               ...                 ...\n",
      "3774                      Turtle herpesvirus                 1            0.000373\n",
      "3775  Australian bass nervous necrosis virus                 1            0.000373\n",
      "3776                     Feline picornavirus                 1            0.000373\n",
      "3777                         Teschovirus sp.                 1            0.000373\n",
      "3778                     Megabat bufavirus 2                 1            0.000373\n",
      "\n",
      "[3779 rows x 3 columns]\n",
      "Number of unique values = 1314\n",
      "                virus_host_name  virus_host_name_count  virus_host_name_percent\n",
      "0                  Homo sapiens                 247415                92.365557\n",
      "1                    Sus scrofa                   1286                 0.480093\n",
      "2                Macaca mulatta                   1081                 0.403561\n",
      "3     Hydrochoerus hydrochaeris                    627                 0.234073\n",
      "4            Marmota himalayana                    539                 0.201221\n",
      "...                         ...                    ...                      ...\n",
      "1309       Myotomys unisulcatus                      1                 0.000373\n",
      "1310             Crocidura luna                      1                 0.000373\n",
      "1311        Upeneus moluccensis                      1                 0.000373\n",
      "1312       Saurida lessepsianus                      1                 0.000373\n",
      "1313             Alouatta pigra                      1                 0.000373\n",
      "\n",
      "[1314 rows x 3 columns]\n"
     ]
    }
   ],
   "source": [
    "file_path = os.path.join(os.getcwd(), \"..\", \"..\", \"..\",\"..\", \"input/data/uniref90/20240131/uniref90_viridae_embl_hosts_pruned_metadata_species_vertebrates_w_seq.csv\")\n",
    "df = analyze_df(file_path)"
   ]
  },
  {
   "cell_type": "code",
   "execution_count": 9,
   "id": "56b67dd9",
   "metadata": {},
   "outputs": [
    {
     "name": "stdout",
     "output_type": "stream",
     "text": [
      "Number of unique values = 19\n",
      "          virus_host_name  virus_host_name_count  virus_host_name_percent\n",
      "0            Homo sapiens                    369                85.614849\n",
      "1       Rattus norvegicus                     15                 3.480278\n",
      "2              Sus scrofa                     11                 2.552204\n",
      "3        Microtus arvalis                      7                 1.624130\n",
      "4          Rattus exulans                      3                 0.696056\n",
      "5     Macaca fascicularis                      3                 0.696056\n",
      "6            Rattus losea                      3                 0.696056\n",
      "7   Oryctolagus cuniculus                      3                 0.696056\n",
      "8     Camelus dromedarius                      3                 0.696056\n",
      "9         Maxomys surifer                      2                 0.464037\n",
      "10      Falco tinnunculus                      2                 0.464037\n",
      "11       Alces americanus                      2                 0.464037\n",
      "12         Macaca mulatta                      2                 0.464037\n",
      "13     Camelus bactrianus                      1                 0.232019\n",
      "14     Crocidura olivieri                      1                 0.232019\n",
      "15          Vulpes vulpes                      1                 0.232019\n",
      "16        Rattus tanezumi                      1                 0.232019\n",
      "17         Suncus murinus                      1                 0.232019\n",
      "18          Rattus rattus                      1                 0.232019\n"
     ]
    }
   ],
   "source": [
    "column_stats(df[df[\"virus_name\"].str.contains(\"Paslahepevirus\", case=False)], \"virus_host_name\")"
   ]
  },
  {
   "cell_type": "code",
   "execution_count": null,
   "id": "5e20e06c",
   "metadata": {},
   "outputs": [],
   "source": []
  }
 ],
 "metadata": {
  "kernelspec": {
   "display_name": "Python 3 (ipykernel)",
   "language": "python",
   "name": "python3"
  },
  "language_info": {
   "codemirror_mode": {
    "name": "ipython",
    "version": 3
   },
   "file_extension": ".py",
   "mimetype": "text/x-python",
   "name": "python",
   "nbconvert_exporter": "python",
   "pygments_lexer": "ipython3",
   "version": "3.8.12"
  }
 },
 "nbformat": 4,
 "nbformat_minor": 5
}
