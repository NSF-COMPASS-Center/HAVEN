{
 "cells": [
  {
   "cell_type": "markdown",
   "id": "524cfe96-1ae4-439d-8954-9a68bd114b96",
   "metadata": {},
   "source": [
    "# UniRef90 Microbe Analysis\n",
    "\n",
    "##### The below analysis was conducted utilizing a filter to extract microbe hosts from the cleaned UniRef90 sequences and following the pre-processing steps. Through importing necessary libraries and using NCBI taxonomy database, plots were generated to visualize distributions of the microbe hosts and associated viruses."
   ]
  },
  {
   "cell_type": "markdown",
   "id": "e7ac8413-0afc-419d-bd25-d4299b57631a",
   "metadata": {},
   "source": [
    "### Installing dependencies and loading csv files"
   ]
  }
 ],
 "metadata": {
  "kernelspec": {
   "display_name": "Python 3 (ipykernel)",
   "language": "python",
   "name": "python3"
  },
  "language_info": {
   "codemirror_mode": {
    "name": "ipython",
    "version": 3
   },
   "file_extension": ".py",
   "mimetype": "text/x-python",
   "name": "python",
   "nbconvert_exporter": "python",
   "pygments_lexer": "ipython3",
   "version": "3.11.8"
  }
 },
 "nbformat": 4,
 "nbformat_minor": 5
}
