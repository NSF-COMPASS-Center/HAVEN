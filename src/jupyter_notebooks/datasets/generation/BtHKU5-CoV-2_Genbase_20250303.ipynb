{
 "cells": [
  {
   "cell_type": "code",
   "execution_count": 3,
   "id": "06c3763c-b06f-41c4-a2f0-a0f340a481af",
   "metadata": {},
   "outputs": [],
   "source": [
    "import pandas as pd\n",
    "import os\n",
    "import numpy as np\n",
    "from Bio import SeqIO\n",
    "import re\n",
    "import seaborn as sns\n",
    "import matplotlib.pyplot as plt"
   ]
  },
  {
   "cell_type": "code",
   "execution_count": 42,
   "id": "fbe86c24-e0b9-40de-9182-0baf02f0c5ab",
   "metadata": {},
   "outputs": [],
   "source": [
    "input_file_path = os.path.join(os.getcwd(), \"..\", \"..\", \"..\",\"..\", \"input/data/coronaviridae/BtHKU5-CoV-2-spike.fasta\")\n",
    "output_file_path = os.path.join(os.getcwd(), \"..\", \"..\", \"..\",\"..\", \"input/data/coronaviridae/BtHKU5-CoV-2-spike_sequences_genbase_20250303.csv\")\n",
    "\n",
    "accession_id_isolate_map = {\n",
    "    \"C_AAI84049.1\": \"023\",\n",
    "    \"C_AAI84054.1\":\t\"028\",\n",
    "    \"C_AAI84059.1\":\t\"153\",\n",
    "    \"C_AAI84064.1\":\t\"155\",\n",
    "    \"C_AAI84069.1\":\t\"381\",\n",
    "    \"C_AAI84074.1\":\t\"441\"\n",
    "}\n",
    "sequencing_date = \"09/11/2024\"\n",
    "virus_name = \"BtHKU5-CoV-2\""
   ]
  },
  {
   "cell_type": "code",
   "execution_count": 43,
   "id": "62f5c318-d021-451a-b9e5-fe65fe6a22d0",
   "metadata": {},
   "outputs": [],
   "source": [
    "def parse_fasta_file(input_file_path, output_file_path):\n",
    "    sequences = []\n",
    "    i = 0\n",
    "    parse_error_count = 0\n",
    "    print(\"START: Parsing fasta file\")\n",
    "    # parse fasta file to extract uniref90_id, tax_id of virus/organism, and protein sequence\n",
    "    with open(input_file_path) as f:\n",
    "        for record in SeqIO.parse(f, \"fasta\"):\n",
    "            i += 1\n",
    "            metadata = re.search(r\".+? (.+).\\[(.+)\\]\", record.description)\n",
    "            # metadata: accession_id  protein name [host]\n",
    "            # C_AAI84074.1 spike protein [Pipistrellus]\n",
    "            # ? in regex is for ungreedy match to capture 'spike protein' together\n",
    "            protein = metadata.group(1)\n",
    "            host = metadata.group(2)\n",
    "            sequences.append({\n",
    "                \"accession_id\": record.id,\n",
    "                \"protein\": protein,\n",
    "                \"host\": host,\n",
    "                \"pango_lineage\": virus_name,\n",
    "                \"who_variant\": accession_id_isolate_map[record.id],\n",
    "                \"first_designation_date\": sequencing_date,\n",
    "                \"seq\": str(record.seq)\n",
    "            })\n",
    "    print(\"END: Parsing fasta file\")\n",
    "    print(len(sequences))\n",
    "    print(f\"Number of records parsed = {i}\")\n",
    "    print(f\"Number of records with parsing error = {parse_error_count}\")\n",
    "    df = pd.DataFrame(sequences, dtype=str)\n",
    "    # write the parsed dataframe to a csv file\n",
    "    print(f\"Writing to file {output_file_path}\")\n",
    "    df.to_csv(output_file_path, index=False)\n",
    "    return df"
   ]
  },
  {
   "cell_type": "code",
   "execution_count": 44,
   "id": "26a3b32d-8747-4c0e-97f3-f9c4c52df47b",
   "metadata": {},
   "outputs": [
    {
     "name": "stdout",
     "output_type": "stream",
     "text": [
      "START: Parsing fasta file\n",
      "END: Parsing fasta file\n",
      "6\n",
      "Number of records parsed = 6\n",
      "Number of records with parsing error = 0\n",
      "Writing to file /home/blessyantony/dev/git/zoonosis/src/jupyter_notebooks/datasets/generation/../../../../input/data/coronaviridae/BtHKU5-CoV-2-spike_sequences_genbase_20250303.csv\n"
     ]
    }
   ],
   "source": [
    "df = parse_fasta_file(input_file_path, output_file_path)"
   ]
  },
  {
   "cell_type": "code",
   "execution_count": 45,
   "id": "84513a0e-b69f-4e20-8b0d-5407144d09f9",
   "metadata": {},
   "outputs": [],
   "source": [
    "df = pd.read_csv(output_file_path, converters={\"who_variant\": str})"
   ]
  },
  {
   "cell_type": "code",
   "execution_count": 46,
   "id": "1d576426-9f8b-475f-971e-fe30f72b4002",
   "metadata": {},
   "outputs": [
    {
     "data": {
      "text/html": [
       "<div>\n",
       "<style scoped>\n",
       "    .dataframe tbody tr th:only-of-type {\n",
       "        vertical-align: middle;\n",
       "    }\n",
       "\n",
       "    .dataframe tbody tr th {\n",
       "        vertical-align: top;\n",
       "    }\n",
       "\n",
       "    .dataframe thead th {\n",
       "        text-align: right;\n",
       "    }\n",
       "</style>\n",
       "<table border=\"1\" class=\"dataframe\">\n",
       "  <thead>\n",
       "    <tr style=\"text-align: right;\">\n",
       "      <th></th>\n",
       "      <th>accession_id</th>\n",
       "      <th>protein</th>\n",
       "      <th>host</th>\n",
       "      <th>pango_lineage</th>\n",
       "      <th>who_variant</th>\n",
       "      <th>first_designation_date</th>\n",
       "      <th>seq</th>\n",
       "    </tr>\n",
       "  </thead>\n",
       "  <tbody>\n",
       "    <tr>\n",
       "      <th>0</th>\n",
       "      <td>C_AAI84074.1</td>\n",
       "      <td>spike protein</td>\n",
       "      <td>Pipistrellus</td>\n",
       "      <td>BtHKU5-CoV-2</td>\n",
       "      <td>441</td>\n",
       "      <td>09/11/2024</td>\n",
       "      <td>MMYLAFPLMFLLTLGSADVNLGPDGTGNCPVTDVQPDFFTHWNWPE...</td>\n",
       "    </tr>\n",
       "    <tr>\n",
       "      <th>1</th>\n",
       "      <td>C_AAI84049.1</td>\n",
       "      <td>spike protein</td>\n",
       "      <td>Pipistrellus</td>\n",
       "      <td>BtHKU5-CoV-2</td>\n",
       "      <td>023</td>\n",
       "      <td>09/11/2024</td>\n",
       "      <td>MMHLAFPLMFLLTLGSADVNLGPDGTGNCPVTDVQPDFFTHWNWPE...</td>\n",
       "    </tr>\n",
       "    <tr>\n",
       "      <th>2</th>\n",
       "      <td>C_AAI84054.1</td>\n",
       "      <td>spike protein</td>\n",
       "      <td>Pipistrellus</td>\n",
       "      <td>BtHKU5-CoV-2</td>\n",
       "      <td>028</td>\n",
       "      <td>09/11/2024</td>\n",
       "      <td>MMHLAFPLMFLLTLGSADVNLGPDGTGNCPVTDVQPDFFTHWNWPE...</td>\n",
       "    </tr>\n",
       "    <tr>\n",
       "      <th>3</th>\n",
       "      <td>C_AAI84069.1</td>\n",
       "      <td>spike protein</td>\n",
       "      <td>Pipistrellus</td>\n",
       "      <td>BtHKU5-CoV-2</td>\n",
       "      <td>381</td>\n",
       "      <td>09/11/2024</td>\n",
       "      <td>MMYLAFPLMFLLTLGSADVNLGPDGTGNCPVTDVQPDFFTHWNWPE...</td>\n",
       "    </tr>\n",
       "    <tr>\n",
       "      <th>4</th>\n",
       "      <td>C_AAI84059.1</td>\n",
       "      <td>spike protein</td>\n",
       "      <td>Pipistrellus</td>\n",
       "      <td>BtHKU5-CoV-2</td>\n",
       "      <td>153</td>\n",
       "      <td>09/11/2024</td>\n",
       "      <td>MMCLAFPLMFLLTLGSADVNLGPDAISNCPVTDVRPEFFDHFNWPA...</td>\n",
       "    </tr>\n",
       "    <tr>\n",
       "      <th>5</th>\n",
       "      <td>C_AAI84064.1</td>\n",
       "      <td>spike protein</td>\n",
       "      <td>Pipistrellus</td>\n",
       "      <td>BtHKU5-CoV-2</td>\n",
       "      <td>155</td>\n",
       "      <td>09/11/2024</td>\n",
       "      <td>MMCLAFPLMFLLTLGSADVNLGPDAISNCPVTDVRPEFFDHFNWPA...</td>\n",
       "    </tr>\n",
       "  </tbody>\n",
       "</table>\n",
       "</div>"
      ],
      "text/plain": [
       "   accession_id        protein          host pango_lineage who_variant  \\\n",
       "0  C_AAI84074.1  spike protein  Pipistrellus  BtHKU5-CoV-2         441   \n",
       "1  C_AAI84049.1  spike protein  Pipistrellus  BtHKU5-CoV-2         023   \n",
       "2  C_AAI84054.1  spike protein  Pipistrellus  BtHKU5-CoV-2         028   \n",
       "3  C_AAI84069.1  spike protein  Pipistrellus  BtHKU5-CoV-2         381   \n",
       "4  C_AAI84059.1  spike protein  Pipistrellus  BtHKU5-CoV-2         153   \n",
       "5  C_AAI84064.1  spike protein  Pipistrellus  BtHKU5-CoV-2         155   \n",
       "\n",
       "  first_designation_date                                                seq  \n",
       "0             09/11/2024  MMYLAFPLMFLLTLGSADVNLGPDGTGNCPVTDVQPDFFTHWNWPE...  \n",
       "1             09/11/2024  MMHLAFPLMFLLTLGSADVNLGPDGTGNCPVTDVQPDFFTHWNWPE...  \n",
       "2             09/11/2024  MMHLAFPLMFLLTLGSADVNLGPDGTGNCPVTDVQPDFFTHWNWPE...  \n",
       "3             09/11/2024  MMYLAFPLMFLLTLGSADVNLGPDGTGNCPVTDVQPDFFTHWNWPE...  \n",
       "4             09/11/2024  MMCLAFPLMFLLTLGSADVNLGPDAISNCPVTDVRPEFFDHFNWPA...  \n",
       "5             09/11/2024  MMCLAFPLMFLLTLGSADVNLGPDAISNCPVTDVRPEFFDHFNWPA...  "
      ]
     },
     "execution_count": 46,
     "metadata": {},
     "output_type": "execute_result"
    }
   ],
   "source": [
    "df"
   ]
  },
  {
   "cell_type": "code",
   "execution_count": null,
   "id": "61fea40a-d572-475e-aca6-98ea51757019",
   "metadata": {},
   "outputs": [],
   "source": []
  }
 ],
 "metadata": {
  "kernelspec": {
   "display_name": "Python 3 (ipykernel)",
   "language": "python",
   "name": "python3"
  },
  "language_info": {
   "codemirror_mode": {
    "name": "ipython",
    "version": 3
   },
   "file_extension": ".py",
   "mimetype": "text/x-python",
   "name": "python",
   "nbconvert_exporter": "python",
   "pygments_lexer": "ipython3",
   "version": "3.11.8"
  }
 },
 "nbformat": 4,
 "nbformat_minor": 5
}
