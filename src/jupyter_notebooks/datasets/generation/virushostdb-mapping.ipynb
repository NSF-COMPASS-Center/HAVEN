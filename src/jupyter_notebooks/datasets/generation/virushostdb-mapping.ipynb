{
 "cells": [
  {
   "cell_type": "code",
   "execution_count": 1,
   "id": "a0bfa823",
   "metadata": {},
   "outputs": [],
   "source": [
    "import pandas as pd\n",
    "import os"
   ]
  },
  {
   "cell_type": "code",
   "execution_count": 2,
   "id": "c44b09ec",
   "metadata": {},
   "outputs": [],
   "source": [
    "virus_host_mapping_file = \"virushostdb.tsv\"\n",
    "human_virus_host_mapping_file = \"virushostdb-humans.tsv\"\n",
    "virushostdb_dir = os.path.join(os.getcwd(), \"..\", \"..\", \"..\", \"input\", \"data\", \"virushostdb\")\n",
    "virushostdb_mapping_dir_name = \"mapping_files\"\n",
    "columns=[\"virus tax id\", \"virus name\", \"virus lineage\", \"host tax id\", \"host name\"]"
   ]
  },
  {
   "cell_type": "code",
   "execution_count": 47,
   "id": "9e0759c8",
   "metadata": {},
   "outputs": [],
   "source": [
    "def read_mapping_file(file):\n",
    "    df = pd.read_table(os.path.join(virushostdb_dir, file))\n",
    "    print(df.shape)\n",
    "    return df[columns]   \n",
    "    \n",
    "    \n",
    "def process_mapping(input_file, host_name):\n",
    "    df = pd.read_table(os.path.join(virushostdb_dir, input_file))\n",
    "    df = df[columns]\n",
    "    print(f\"Reading input_file {input_file}: {df.shape}\")\n",
    "    df = df[df[\"host name\"] == host_name]\n",
    "    output_file = f\"virus-{host_name}.csv\"\n",
    "    df.to_csv(os.path.join(virushostdb_dir, virushostdb_mapping_dir_name, output_file))\n",
    "    print(f\"Writing output file {output_file}: {df.shape}\")\n",
    "    "
   ]
  },
  {
   "cell_type": "markdown",
   "id": "1a8cc2c1",
   "metadata": {},
   "source": [
    "### Hosts\n",
    "1. Humans : Homo sapiens\n",
    "\n",
    "**Animals**\n",
    "\n",
    "2. Mus musculus \n",
    "3. Bos taurus\n",
    "4. Chlorocebus aethiops\n",
    "5. Sus scrofa\n",
    "6. Gallus gallus\n",
    "7. Macaca mulatta \n",
    "8. Canis lupus familiaris\n",
    "9. Mesocricetus auratus\n",
    "10. Aedes albopictus "
   ]
  },
  {
   "cell_type": "code",
   "execution_count": 48,
   "id": "bd47c55c",
   "metadata": {},
   "outputs": [
    {
     "name": "stdout",
     "output_type": "stream",
     "text": [
      "0: Homo sapiens\n",
      "Reading input_file virushostdb.tsv: (19549, 5)\n",
      "Writing output file virus-Homo sapiens.csv: (1391, 5)\n",
      "1: Mus musculus\n",
      "Reading input_file virushostdb.tsv: (19549, 5)\n",
      "Writing output file virus-Mus musculus.csv: (196, 5)\n",
      "2: Bos taurus\n",
      "Reading input_file virushostdb.tsv: (19549, 5)\n",
      "Writing output file virus-Bos taurus.csv: (198, 5)\n",
      "3: Chlorocebus aethiops\n",
      "Reading input_file virushostdb.tsv: (19549, 5)\n",
      "Writing output file virus-Chlorocebus aethiops.csv: (174, 5)\n",
      "4: Sus scrofa\n",
      "Reading input_file virushostdb.tsv: (19549, 5)\n",
      "Writing output file virus-Sus scrofa.csv: (179, 5)\n",
      "5: Gallus gallus\n",
      "Reading input_file virushostdb.tsv: (19549, 5)\n",
      "Writing output file virus-Gallus gallus.csv: (108, 5)\n",
      "6: Macaca mulatta\n",
      "Reading input_file virushostdb.tsv: (19549, 5)\n",
      "Writing output file virus-Macaca mulatta.csv: (74, 5)\n",
      "7: Canis lupus familiaris\n",
      "Reading input_file virushostdb.tsv: (19549, 5)\n",
      "Writing output file virus-Canis lupus familiaris.csv: (68, 5)\n",
      "8: Mesocricetus auratus\n",
      "Reading input_file virushostdb.tsv: (19549, 5)\n",
      "Writing output file virus-Mesocricetus auratus.csv: (72, 5)\n",
      "9: Aedes albopictus\n",
      "Reading input_file virushostdb.tsv: (19549, 5)\n",
      "Writing output file virus-Aedes albopictus.csv: (68, 5)\n"
     ]
    }
   ],
   "source": [
    "hosts = [\"Homo sapiens\", \"Mus musculus\", \"Bos taurus\", \"Chlorocebus aethiops\", \"Sus scrofa\", \"Gallus gallus\", \n",
    "         \"Macaca mulatta\", \"Canis lupus familiaris\", \"Mesocricetus auratus\", \"Aedes albopictus\"]\n",
    "\n",
    "for i, host in enumerate(hosts):\n",
    "    print(f\"{i}: {host}\")\n",
    "    process_mapping(virus_host_mapping_file, host)"
   ]
  },
  {
   "cell_type": "markdown",
   "id": "fbae6582",
   "metadata": {},
   "source": [
    "### Combine all mappings"
   ]
  },
  {
   "cell_type": "code",
   "execution_count": 6,
   "id": "85cc80e1",
   "metadata": {},
   "outputs": [
    {
     "name": "stdout",
     "output_type": "stream",
     "text": [
      "(2528, 5)\n"
     ]
    },
    {
     "data": {
      "text/html": [
       "<div>\n",
       "<style scoped>\n",
       "    .dataframe tbody tr th:only-of-type {\n",
       "        vertical-align: middle;\n",
       "    }\n",
       "\n",
       "    .dataframe tbody tr th {\n",
       "        vertical-align: top;\n",
       "    }\n",
       "\n",
       "    .dataframe thead th {\n",
       "        text-align: right;\n",
       "    }\n",
       "</style>\n",
       "<table border=\"1\" class=\"dataframe\">\n",
       "  <thead>\n",
       "    <tr style=\"text-align: right;\">\n",
       "      <th></th>\n",
       "      <th>virus tax id</th>\n",
       "      <th>virus name</th>\n",
       "      <th>virus lineage</th>\n",
       "      <th>host tax id</th>\n",
       "      <th>host name</th>\n",
       "    </tr>\n",
       "  </thead>\n",
       "  <tbody>\n",
       "    <tr>\n",
       "      <th>173</th>\n",
       "      <td>46350</td>\n",
       "      <td>Adeno-associated virus - 3</td>\n",
       "      <td>Viruses; Monodnaviria; Shotokuvirae; Cossaviri...</td>\n",
       "      <td>9606.0</td>\n",
       "      <td>Homo sapiens</td>\n",
       "    </tr>\n",
       "    <tr>\n",
       "      <th>175</th>\n",
       "      <td>57579</td>\n",
       "      <td>Adeno-associated virus - 4</td>\n",
       "      <td>Viruses; Monodnaviria; Shotokuvirae; Cossaviri...</td>\n",
       "      <td>9606.0</td>\n",
       "      <td>Homo sapiens</td>\n",
       "    </tr>\n",
       "    <tr>\n",
       "      <th>177</th>\n",
       "      <td>68558</td>\n",
       "      <td>Adeno-associated virus - 6</td>\n",
       "      <td>Viruses; Monodnaviria; Shotokuvirae; Cossaviri...</td>\n",
       "      <td>9606.0</td>\n",
       "      <td>Homo sapiens</td>\n",
       "    </tr>\n",
       "    <tr>\n",
       "      <th>180</th>\n",
       "      <td>10804</td>\n",
       "      <td>adeno-associated virus 2</td>\n",
       "      <td>Viruses; Monodnaviria; Shotokuvirae; Cossaviri...</td>\n",
       "      <td>9606.0</td>\n",
       "      <td>Homo sapiens</td>\n",
       "    </tr>\n",
       "    <tr>\n",
       "      <th>182</th>\n",
       "      <td>68742</td>\n",
       "      <td>Adeno-associated virus 3B</td>\n",
       "      <td>Viruses; Monodnaviria; Shotokuvirae; Cossaviri...</td>\n",
       "      <td>9606.0</td>\n",
       "      <td>Homo sapiens</td>\n",
       "    </tr>\n",
       "  </tbody>\n",
       "</table>\n",
       "</div>"
      ],
      "text/plain": [
       "     virus tax id                  virus name  \\\n",
       "173         46350  Adeno-associated virus - 3   \n",
       "175         57579  Adeno-associated virus - 4   \n",
       "177         68558  Adeno-associated virus - 6   \n",
       "180         10804    adeno-associated virus 2   \n",
       "182         68742   Adeno-associated virus 3B   \n",
       "\n",
       "                                         virus lineage  host tax id  \\\n",
       "173  Viruses; Monodnaviria; Shotokuvirae; Cossaviri...       9606.0   \n",
       "175  Viruses; Monodnaviria; Shotokuvirae; Cossaviri...       9606.0   \n",
       "177  Viruses; Monodnaviria; Shotokuvirae; Cossaviri...       9606.0   \n",
       "180  Viruses; Monodnaviria; Shotokuvirae; Cossaviri...       9606.0   \n",
       "182  Viruses; Monodnaviria; Shotokuvirae; Cossaviri...       9606.0   \n",
       "\n",
       "        host name  \n",
       "173  Homo sapiens  \n",
       "175  Homo sapiens  \n",
       "177  Homo sapiens  \n",
       "180  Homo sapiens  \n",
       "182  Homo sapiens  "
      ]
     },
     "execution_count": 6,
     "metadata": {},
     "output_type": "execute_result"
    }
   ],
   "source": [
    "output_dir = os.path.join(virushostdb_dir, virushostdb_mapping_dir_name)\n",
    "hosts = [\"Homo sapiens\", \"Mus musculus\", \"Bos taurus\", \"Chlorocebus aethiops\", \"Sus scrofa\", \"Gallus gallus\", \n",
    "         \"Macaca mulatta\", \"Canis lupus familiaris\", \"Mesocricetus auratus\", \"Aedes albopictus\"]\n",
    "\n",
    "dfs = []\n",
    "for host in hosts:\n",
    "    output_file = f\"virus-{host}.csv\"\n",
    "    dfs.append(pd.read_csv(os.path.join(output_dir, output_file), index_col=0))\n",
    "    \n",
    "df = pd.concat(dfs)\n",
    "print(df.shape)\n",
    "df.head()"
   ]
  },
  {
   "cell_type": "code",
   "execution_count": 25,
   "id": "9aad5556",
   "metadata": {},
   "outputs": [],
   "source": [
    "df.to_csv(os.path.join(virushostdb_dir, virushostdb_mapping_dir_name, \"virushostdb_human_animals.csv\"), index=False)"
   ]
  },
  {
   "cell_type": "code",
   "execution_count": 31,
   "id": "c29cafb0",
   "metadata": {},
   "outputs": [
    {
     "data": {
      "text/html": [
       "<div>\n",
       "<style scoped>\n",
       "    .dataframe tbody tr th:only-of-type {\n",
       "        vertical-align: middle;\n",
       "    }\n",
       "\n",
       "    .dataframe tbody tr th {\n",
       "        vertical-align: top;\n",
       "    }\n",
       "\n",
       "    .dataframe thead th {\n",
       "        text-align: right;\n",
       "    }\n",
       "</style>\n",
       "<table border=\"1\" class=\"dataframe\">\n",
       "  <thead>\n",
       "    <tr style=\"text-align: right;\">\n",
       "      <th></th>\n",
       "      <th>virus tax id</th>\n",
       "      <th>virus name</th>\n",
       "      <th>virus lineage</th>\n",
       "      <th>host tax id</th>\n",
       "      <th>host name</th>\n",
       "    </tr>\n",
       "  </thead>\n",
       "  <tbody>\n",
       "    <tr>\n",
       "      <th>0</th>\n",
       "      <td>46350</td>\n",
       "      <td>Adeno-associated virus - 3</td>\n",
       "      <td>Viruses; Monodnaviria; Shotokuvirae; Cossaviri...</td>\n",
       "      <td>9606.0</td>\n",
       "      <td>Homo sapiens</td>\n",
       "    </tr>\n",
       "    <tr>\n",
       "      <th>1</th>\n",
       "      <td>57579</td>\n",
       "      <td>Adeno-associated virus - 4</td>\n",
       "      <td>Viruses; Monodnaviria; Shotokuvirae; Cossaviri...</td>\n",
       "      <td>9606.0</td>\n",
       "      <td>Homo sapiens</td>\n",
       "    </tr>\n",
       "    <tr>\n",
       "      <th>2</th>\n",
       "      <td>68558</td>\n",
       "      <td>Adeno-associated virus - 6</td>\n",
       "      <td>Viruses; Monodnaviria; Shotokuvirae; Cossaviri...</td>\n",
       "      <td>9606.0</td>\n",
       "      <td>Homo sapiens</td>\n",
       "    </tr>\n",
       "    <tr>\n",
       "      <th>3</th>\n",
       "      <td>10804</td>\n",
       "      <td>adeno-associated virus 2</td>\n",
       "      <td>Viruses; Monodnaviria; Shotokuvirae; Cossaviri...</td>\n",
       "      <td>9606.0</td>\n",
       "      <td>Homo sapiens</td>\n",
       "    </tr>\n",
       "    <tr>\n",
       "      <th>4</th>\n",
       "      <td>68742</td>\n",
       "      <td>Adeno-associated virus 3B</td>\n",
       "      <td>Viruses; Monodnaviria; Shotokuvirae; Cossaviri...</td>\n",
       "      <td>9606.0</td>\n",
       "      <td>Homo sapiens</td>\n",
       "    </tr>\n",
       "  </tbody>\n",
       "</table>\n",
       "</div>"
      ],
      "text/plain": [
       "   virus tax id                  virus name  \\\n",
       "0         46350  Adeno-associated virus - 3   \n",
       "1         57579  Adeno-associated virus - 4   \n",
       "2         68558  Adeno-associated virus - 6   \n",
       "3         10804    adeno-associated virus 2   \n",
       "4         68742   Adeno-associated virus 3B   \n",
       "\n",
       "                                       virus lineage  host tax id  \\\n",
       "0  Viruses; Monodnaviria; Shotokuvirae; Cossaviri...       9606.0   \n",
       "1  Viruses; Monodnaviria; Shotokuvirae; Cossaviri...       9606.0   \n",
       "2  Viruses; Monodnaviria; Shotokuvirae; Cossaviri...       9606.0   \n",
       "3  Viruses; Monodnaviria; Shotokuvirae; Cossaviri...       9606.0   \n",
       "4  Viruses; Monodnaviria; Shotokuvirae; Cossaviri...       9606.0   \n",
       "\n",
       "      host name  \n",
       "0  Homo sapiens  \n",
       "1  Homo sapiens  \n",
       "2  Homo sapiens  \n",
       "3  Homo sapiens  \n",
       "4  Homo sapiens  "
      ]
     },
     "execution_count": 31,
     "metadata": {},
     "output_type": "execute_result"
    }
   ],
   "source": [
    "df_dedup.head()"
   ]
  },
  {
   "cell_type": "code",
   "execution_count": 38,
   "id": "7b7e247d",
   "metadata": {},
   "outputs": [],
   "source": [
    "x = df_dedup[df_dedup[\"virus tax id\"] == 57579]"
   ]
  },
  {
   "cell_type": "code",
   "execution_count": 39,
   "id": "100428d2",
   "metadata": {},
   "outputs": [
    {
     "data": {
      "text/plain": [
       "(2, 5)"
      ]
     },
     "execution_count": 39,
     "metadata": {},
     "output_type": "execute_result"
    }
   ],
   "source": [
    "x.shape"
   ]
  },
  {
   "cell_type": "code",
   "execution_count": null,
   "id": "5390eb39",
   "metadata": {},
   "outputs": [],
   "source": []
  }
 ],
 "metadata": {
  "kernelspec": {
   "display_name": "Python 3 (ipykernel)",
   "language": "python",
   "name": "python3"
  },
  "language_info": {
   "codemirror_mode": {
    "name": "ipython",
    "version": 3
   },
   "file_extension": ".py",
   "mimetype": "text/x-python",
   "name": "python",
   "nbconvert_exporter": "python",
   "pygments_lexer": "ipython3",
   "version": "3.9.7"
  }
 },
 "nbformat": 4,
 "nbformat_minor": 5
}
