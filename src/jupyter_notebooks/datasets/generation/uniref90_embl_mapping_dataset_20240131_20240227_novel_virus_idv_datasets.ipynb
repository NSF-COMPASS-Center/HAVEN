{
 "cells": [
  {
   "cell_type": "code",
   "execution_count": 1,
   "id": "fb17c45c",
   "metadata": {},
   "outputs": [],
   "source": [
    "import pandas as pd\n",
    "import os\n",
    "import numpy as np\n",
    "import seaborn as sns\n",
    "import matplotlib.pyplot as plt\n",
    "pd.set_option('display.width', 1000)"
   ]
  },
  {
   "cell_type": "code",
   "execution_count": 2,
   "id": "c6294a0f",
   "metadata": {},
   "outputs": [],
   "source": [
    "def column_stats(df, column_name, n=None):\n",
    "    if n is None:\n",
    "        n = df.shape[0]\n",
    "    count_column_name = column_name + \"_count\"\n",
    "    count_df = pd.DataFrame(df[column_name].value_counts()).reset_index()\n",
    "    count_df.columns=[column_name, count_column_name]\n",
    "    count_df[column_name + \"_percent\"] = count_df[count_column_name].apply(lambda x: int(x)/n*100)\n",
    "    print(f\"Number of unique values = {len(df[column_name].unique())}\")\n",
    "    print(f\"{count_df}\")\n",
    "    return count_df\n",
    "    \n",
    "def filter_with_threshold(df, column_name, threshold):\n",
    "    print(f\"Size of df = {df.shape}\")\n",
    "    n = df.shape[0]\n",
    "    count_df = column_stats(df, column_name, n=n)\n",
    "    percent_column_name = column_name + \"_percent\"\n",
    "    filtered_count_df = count_df[count_df[percent_column_name] >= threshold]\n",
    "    filtered_df = df[df[column_name].isin(list(filtered_count_df[column_name].values))]\n",
    "    print(f\"Size of filtered df = {filtered_df.shape}\")\n",
    "    column_stats(filtered_df, column_name, n=n)\n",
    "    return filtered_df"
   ]
  },
  {
   "cell_type": "code",
   "execution_count": 3,
   "id": "d450a31b",
   "metadata": {},
   "outputs": [],
   "source": [
    "def print_seq_len_histogram(df, n_bins):\n",
    "    sns.histplot(df[\"seq_len\"])\n",
    "    print(f\"min seq len = {min(df['seq_len'])}\")\n",
    "    print(f\"max seq len = {max(df['seq_len'])}\")\n",
    "    plt.show()\n",
    "    \n",
    "    freq, bins = np.histogram(df[\"seq_len\"], bins=n_bins)\n",
    "    n = df.shape[0]\n",
    "    hist_map = []\n",
    "    for i in range(n_bins):\n",
    "        hist_map.append({\"start\": bins[i], \"end\":bins[i+1], \"count\": freq[i], \"percentage\": freq[i]/n*100})\n",
    "    hist_df = pd.DataFrame(hist_map)\n",
    "    print(hist_df)"
   ]
  },
  {
   "cell_type": "markdown",
   "id": "18d1030f",
   "metadata": {},
   "source": [
    "## Datasets for virus-host prediction in Non-IDV dataset\n",
    "Create a dataset of non-idv viruses with hosts that are present in the idv dataset. Else the only overlap with the top-5 hosts in the previous case was \"Homo sapiens\"\n"
   ]
  },
  {
   "cell_type": "markdown",
   "id": "b2a8ee0c",
   "metadata": {},
   "source": [
    "### Non Immunodeficiency Virus, hosts with >= 0.05% prevalence in the dataset"
   ]
  },
  {
   "cell_type": "code",
   "execution_count": 4,
   "id": "4ea62e45",
   "metadata": {},
   "outputs": [
    {
     "data": {
      "text/plain": [
       "(42947, 11)"
      ]
     },
     "execution_count": 4,
     "metadata": {},
     "output_type": "execute_result"
    }
   ],
   "source": [
    "non_idv_file_path = os.path.join(os.getcwd(), \"..\", \"..\", \"..\",\"..\", \"input/data/uniref90/20240131/uniref90_viridae_embl_hosts_pruned_metadata_species_vertebrates_w_seq_non_idv_gte_0.05_prcnt_prevalence.csv\")\n",
    "non_idv_df = pd.read_csv(non_idv_file_path)\n",
    "non_idv_df.shape"
   ]
  },
  {
   "cell_type": "code",
   "execution_count": 5,
   "id": "08e0e8ee",
   "metadata": {},
   "outputs": [
    {
     "name": "stdout",
     "output_type": "stream",
     "text": [
      "Number of unique values = 2343\n",
      "                                 virus_name  virus_name_count  virus_name_percent\n",
      "0                       Hepacivirus hominis             10939           25.470929\n",
      "1                         Hepatitis B virus             10126           23.577898\n",
      "2                      Human papillomavirus              1078            2.510071\n",
      "3                               Rotavirus A               683            1.590332\n",
      "4                     Marmot picobirnavirus               529            1.231751\n",
      "...                                     ...               ...                 ...\n",
      "2338  Picornavirus fur seal/AAUST34/BR/2012                 1            0.002328\n",
      "2339   Sakobuvirus fur seal/ATROP22/BR/2012                 1            0.002328\n",
      "2340   Sakobuvirus fur seal/ATROP16/BR/2012                 1            0.002328\n",
      "2341   Sakobuvirus fur seal/ATROP14/BR/2012                 1            0.002328\n",
      "2342                        Hunnivirus 05VZ                 1            0.002328\n",
      "\n",
      "[2343 rows x 3 columns]\n"
     ]
    },
    {
     "data": {
      "text/html": [
       "<div>\n",
       "<style scoped>\n",
       "    .dataframe tbody tr th:only-of-type {\n",
       "        vertical-align: middle;\n",
       "    }\n",
       "\n",
       "    .dataframe tbody tr th {\n",
       "        vertical-align: top;\n",
       "    }\n",
       "\n",
       "    .dataframe thead th {\n",
       "        text-align: right;\n",
       "    }\n",
       "</style>\n",
       "<table border=\"1\" class=\"dataframe\">\n",
       "  <thead>\n",
       "    <tr style=\"text-align: right;\">\n",
       "      <th></th>\n",
       "      <th>virus_name</th>\n",
       "      <th>virus_name_count</th>\n",
       "      <th>virus_name_percent</th>\n",
       "    </tr>\n",
       "  </thead>\n",
       "  <tbody>\n",
       "    <tr>\n",
       "      <th>0</th>\n",
       "      <td>Hepacivirus hominis</td>\n",
       "      <td>10939</td>\n",
       "      <td>25.470929</td>\n",
       "    </tr>\n",
       "    <tr>\n",
       "      <th>1</th>\n",
       "      <td>Hepatitis B virus</td>\n",
       "      <td>10126</td>\n",
       "      <td>23.577898</td>\n",
       "    </tr>\n",
       "    <tr>\n",
       "      <th>2</th>\n",
       "      <td>Human papillomavirus</td>\n",
       "      <td>1078</td>\n",
       "      <td>2.510071</td>\n",
       "    </tr>\n",
       "    <tr>\n",
       "      <th>3</th>\n",
       "      <td>Rotavirus A</td>\n",
       "      <td>683</td>\n",
       "      <td>1.590332</td>\n",
       "    </tr>\n",
       "    <tr>\n",
       "      <th>4</th>\n",
       "      <td>Marmot picobirnavirus</td>\n",
       "      <td>529</td>\n",
       "      <td>1.231751</td>\n",
       "    </tr>\n",
       "    <tr>\n",
       "      <th>...</th>\n",
       "      <td>...</td>\n",
       "      <td>...</td>\n",
       "      <td>...</td>\n",
       "    </tr>\n",
       "    <tr>\n",
       "      <th>2338</th>\n",
       "      <td>Picornavirus fur seal/AAUST34/BR/2012</td>\n",
       "      <td>1</td>\n",
       "      <td>0.002328</td>\n",
       "    </tr>\n",
       "    <tr>\n",
       "      <th>2339</th>\n",
       "      <td>Sakobuvirus fur seal/ATROP22/BR/2012</td>\n",
       "      <td>1</td>\n",
       "      <td>0.002328</td>\n",
       "    </tr>\n",
       "    <tr>\n",
       "      <th>2340</th>\n",
       "      <td>Sakobuvirus fur seal/ATROP16/BR/2012</td>\n",
       "      <td>1</td>\n",
       "      <td>0.002328</td>\n",
       "    </tr>\n",
       "    <tr>\n",
       "      <th>2341</th>\n",
       "      <td>Sakobuvirus fur seal/ATROP14/BR/2012</td>\n",
       "      <td>1</td>\n",
       "      <td>0.002328</td>\n",
       "    </tr>\n",
       "    <tr>\n",
       "      <th>2342</th>\n",
       "      <td>Hunnivirus 05VZ</td>\n",
       "      <td>1</td>\n",
       "      <td>0.002328</td>\n",
       "    </tr>\n",
       "  </tbody>\n",
       "</table>\n",
       "<p>2343 rows × 3 columns</p>\n",
       "</div>"
      ],
      "text/plain": [
       "                                 virus_name  virus_name_count  virus_name_percent\n",
       "0                       Hepacivirus hominis             10939           25.470929\n",
       "1                         Hepatitis B virus             10126           23.577898\n",
       "2                      Human papillomavirus              1078            2.510071\n",
       "3                               Rotavirus A               683            1.590332\n",
       "4                     Marmot picobirnavirus               529            1.231751\n",
       "...                                     ...               ...                 ...\n",
       "2338  Picornavirus fur seal/AAUST34/BR/2012                 1            0.002328\n",
       "2339   Sakobuvirus fur seal/ATROP22/BR/2012                 1            0.002328\n",
       "2340   Sakobuvirus fur seal/ATROP16/BR/2012                 1            0.002328\n",
       "2341   Sakobuvirus fur seal/ATROP14/BR/2012                 1            0.002328\n",
       "2342                        Hunnivirus 05VZ                 1            0.002328\n",
       "\n",
       "[2343 rows x 3 columns]"
      ]
     },
     "execution_count": 5,
     "metadata": {},
     "output_type": "execute_result"
    }
   ],
   "source": [
    "column_stats(non_idv_df, \"virus_name\")"
   ]
  },
  {
   "cell_type": "code",
   "execution_count": 6,
   "id": "adc9563e",
   "metadata": {},
   "outputs": [
    {
     "name": "stdout",
     "output_type": "stream",
     "text": [
      "Number of unique values = 148\n",
      "               virus_host_name  virus_host_name_count  virus_host_name_percent\n",
      "0                 Homo sapiens                  28782                67.017487\n",
      "1                   Sus scrofa                   1286                 2.994388\n",
      "2    Hydrochoerus hydrochaeris                    627                 1.459939\n",
      "3           Marmota himalayana                    539                 1.255035\n",
      "4                Gallus gallus                    484                 1.126970\n",
      "..                         ...                    ...                      ...\n",
      "143        Eptesicus serotinus                     24                 0.055883\n",
      "144           Cairina moschata                     24                 0.055883\n",
      "145                Salmo salar                     24                 0.055883\n",
      "146              Rattus rattus                     24                 0.055883\n",
      "147              Anas gracilis                     24                 0.055883\n",
      "\n",
      "[148 rows x 3 columns]\n"
     ]
    },
    {
     "data": {
      "text/html": [
       "<div>\n",
       "<style scoped>\n",
       "    .dataframe tbody tr th:only-of-type {\n",
       "        vertical-align: middle;\n",
       "    }\n",
       "\n",
       "    .dataframe tbody tr th {\n",
       "        vertical-align: top;\n",
       "    }\n",
       "\n",
       "    .dataframe thead th {\n",
       "        text-align: right;\n",
       "    }\n",
       "</style>\n",
       "<table border=\"1\" class=\"dataframe\">\n",
       "  <thead>\n",
       "    <tr style=\"text-align: right;\">\n",
       "      <th></th>\n",
       "      <th>virus_host_name</th>\n",
       "      <th>virus_host_name_count</th>\n",
       "      <th>virus_host_name_percent</th>\n",
       "    </tr>\n",
       "  </thead>\n",
       "  <tbody>\n",
       "    <tr>\n",
       "      <th>0</th>\n",
       "      <td>Homo sapiens</td>\n",
       "      <td>28782</td>\n",
       "      <td>67.017487</td>\n",
       "    </tr>\n",
       "    <tr>\n",
       "      <th>1</th>\n",
       "      <td>Sus scrofa</td>\n",
       "      <td>1286</td>\n",
       "      <td>2.994388</td>\n",
       "    </tr>\n",
       "    <tr>\n",
       "      <th>2</th>\n",
       "      <td>Hydrochoerus hydrochaeris</td>\n",
       "      <td>627</td>\n",
       "      <td>1.459939</td>\n",
       "    </tr>\n",
       "    <tr>\n",
       "      <th>3</th>\n",
       "      <td>Marmota himalayana</td>\n",
       "      <td>539</td>\n",
       "      <td>1.255035</td>\n",
       "    </tr>\n",
       "    <tr>\n",
       "      <th>4</th>\n",
       "      <td>Gallus gallus</td>\n",
       "      <td>484</td>\n",
       "      <td>1.126970</td>\n",
       "    </tr>\n",
       "    <tr>\n",
       "      <th>...</th>\n",
       "      <td>...</td>\n",
       "      <td>...</td>\n",
       "      <td>...</td>\n",
       "    </tr>\n",
       "    <tr>\n",
       "      <th>143</th>\n",
       "      <td>Eptesicus serotinus</td>\n",
       "      <td>24</td>\n",
       "      <td>0.055883</td>\n",
       "    </tr>\n",
       "    <tr>\n",
       "      <th>144</th>\n",
       "      <td>Cairina moschata</td>\n",
       "      <td>24</td>\n",
       "      <td>0.055883</td>\n",
       "    </tr>\n",
       "    <tr>\n",
       "      <th>145</th>\n",
       "      <td>Salmo salar</td>\n",
       "      <td>24</td>\n",
       "      <td>0.055883</td>\n",
       "    </tr>\n",
       "    <tr>\n",
       "      <th>146</th>\n",
       "      <td>Rattus rattus</td>\n",
       "      <td>24</td>\n",
       "      <td>0.055883</td>\n",
       "    </tr>\n",
       "    <tr>\n",
       "      <th>147</th>\n",
       "      <td>Anas gracilis</td>\n",
       "      <td>24</td>\n",
       "      <td>0.055883</td>\n",
       "    </tr>\n",
       "  </tbody>\n",
       "</table>\n",
       "<p>148 rows × 3 columns</p>\n",
       "</div>"
      ],
      "text/plain": [
       "               virus_host_name  virus_host_name_count  virus_host_name_percent\n",
       "0                 Homo sapiens                  28782                67.017487\n",
       "1                   Sus scrofa                   1286                 2.994388\n",
       "2    Hydrochoerus hydrochaeris                    627                 1.459939\n",
       "3           Marmota himalayana                    539                 1.255035\n",
       "4                Gallus gallus                    484                 1.126970\n",
       "..                         ...                    ...                      ...\n",
       "143        Eptesicus serotinus                     24                 0.055883\n",
       "144           Cairina moschata                     24                 0.055883\n",
       "145                Salmo salar                     24                 0.055883\n",
       "146              Rattus rattus                     24                 0.055883\n",
       "147              Anas gracilis                     24                 0.055883\n",
       "\n",
       "[148 rows x 3 columns]"
      ]
     },
     "execution_count": 6,
     "metadata": {},
     "output_type": "execute_result"
    }
   ],
   "source": [
    "column_stats(non_idv_df, \"virus_host_name\")"
   ]
  },
  {
   "cell_type": "code",
   "execution_count": 7,
   "id": "6419feb3",
   "metadata": {},
   "outputs": [
    {
     "name": "stdout",
     "output_type": "stream",
     "text": [
      "148\n"
     ]
    },
    {
     "data": {
      "text/plain": [
       "{'Acanthorhynchus tenuirostris',\n",
       " 'Acinonyx jubatus',\n",
       " 'Aegithalos caudatus',\n",
       " 'Ailuropoda melanoleuca',\n",
       " 'Ailurus fulgens',\n",
       " 'Alces alces',\n",
       " 'Amazona oratrix',\n",
       " 'Ambystoma tigrinum',\n",
       " 'Anas castanea',\n",
       " 'Anas gracilis',\n",
       " 'Anas platyrhynchos',\n",
       " 'Anas superciliosa',\n",
       " 'Anguilla australis',\n",
       " 'Apodemus agrarius',\n",
       " 'Apodemus flavicollis',\n",
       " 'Arctocephalus australis',\n",
       " 'Arctocephalus tropicalis',\n",
       " 'Boa constrictor',\n",
       " 'Bos taurus',\n",
       " 'Bufo bufo',\n",
       " 'Cairina moschata',\n",
       " 'Callorhinus ursinus',\n",
       " 'Camelus dromedarius',\n",
       " 'Capra hircus',\n",
       " 'Cavia porcellus',\n",
       " 'Cecropis daurica',\n",
       " 'Chelonia mydas',\n",
       " 'Chenonetta jubata',\n",
       " 'Coendou prehensilis',\n",
       " 'Corynorhinus rafinesquii',\n",
       " 'Crocodilurus amazonicus',\n",
       " 'Crocodylus porosus',\n",
       " 'Cygnus columbianus',\n",
       " 'Cyprinus carpio',\n",
       " 'Dendrocopos leucotos',\n",
       " 'Desmodus rotundus',\n",
       " 'Dipodomys merriami',\n",
       " 'Eidolon helvum',\n",
       " 'Elephas maximus',\n",
       " 'Emberiza chrysophrys',\n",
       " 'Emberiza spodocephala',\n",
       " 'Enhydra lutris',\n",
       " 'Eptesicus fuscus',\n",
       " 'Eptesicus serotinus',\n",
       " 'Equus asinus',\n",
       " 'Equus caballus',\n",
       " 'Erinaceus europaeus',\n",
       " 'Felis catus',\n",
       " 'Felis domesticus',\n",
       " 'Ficedula parva',\n",
       " 'Fringilla montifringilla',\n",
       " 'Gallus gallus',\n",
       " 'Gallus gallus domesticus',\n",
       " 'Gopherus morafkai',\n",
       " 'Gorilla gorilla',\n",
       " 'Grallina cyanoleuca',\n",
       " 'Grus japonensis',\n",
       " 'Gymnorhina tibicen',\n",
       " 'Heloderma suspectum',\n",
       " 'Homo sapiens',\n",
       " 'Hoplobatrachus rugulosus',\n",
       " 'Hydrochoerus hydrochaeris',\n",
       " 'Hypsugo savii',\n",
       " 'Kryptopterus bicirrhis',\n",
       " 'Lanius cristatus',\n",
       " 'Larvivora sibilans',\n",
       " 'Lates calcarifer',\n",
       " 'Leptonychotes weddellii',\n",
       " 'Loxodonta africana',\n",
       " 'Luscinia cyanura',\n",
       " 'Macaca arctoides',\n",
       " 'Macaca fascicularis',\n",
       " 'Macaca fuscata',\n",
       " 'Macaca mulatta',\n",
       " 'Mandrillus sphinx',\n",
       " 'Marmota flaviventris',\n",
       " 'Marmota himalayana',\n",
       " 'Marmota marmota',\n",
       " 'Mastomys natalensis',\n",
       " 'Meleagris gallopavo',\n",
       " 'Microtus agrestis',\n",
       " 'Miniopterus magnater',\n",
       " 'Miniopterus pusillus',\n",
       " 'Miniopterus schreibersii',\n",
       " 'Motacilla cinerea',\n",
       " 'Mus musculus',\n",
       " 'Myodes glareolus',\n",
       " 'Myotis daubentonii',\n",
       " 'Myotis ricketti',\n",
       " 'Odocoileus virginianus',\n",
       " 'Oryctolagus cuniculus',\n",
       " 'Oryzomys sp.',\n",
       " 'Ovis aries',\n",
       " 'Pan troglodytes',\n",
       " 'Pantholops hodgsonii',\n",
       " 'Papio anubis',\n",
       " 'Pavo cristatus',\n",
       " 'Periparus ater',\n",
       " 'Peromyscus boylii',\n",
       " 'Peromyscus truei',\n",
       " 'Petroica australis',\n",
       " 'Phascolarctos cinereus',\n",
       " 'Phoenicurus auroreus',\n",
       " 'Phrynocephalus erythrurus',\n",
       " 'Phrynocephalus theobaldi',\n",
       " 'Phylloscopus fuscatus',\n",
       " 'Phylloscopus inornatus',\n",
       " 'Phylloscopus proregulus',\n",
       " 'Phylloscopus schwarzi',\n",
       " 'Pipistrellus pipistrellus',\n",
       " 'Prunella montanella',\n",
       " 'Pteropus giganteus',\n",
       " 'Pteropus scapulatus',\n",
       " 'Pteropus tonganus',\n",
       " 'Pygoscelis adeliae',\n",
       " 'Pygoscelis antarcticus',\n",
       " 'Python bivittatus',\n",
       " 'Python regius',\n",
       " 'Rattus exulans',\n",
       " 'Rattus norvegicus',\n",
       " 'Rattus rattus',\n",
       " 'Rattus tanezumi',\n",
       " 'Retropinna retropinna',\n",
       " 'Rhinella marina',\n",
       " 'Rhinolophus affinis',\n",
       " 'Rhinolophus ferrumequinum',\n",
       " 'Rhinolophus sinicus',\n",
       " 'Rhinolophus thomasi',\n",
       " 'Rousettus aegyptiacus',\n",
       " 'Rousettus leschenaultii',\n",
       " 'Salmo salar',\n",
       " 'Sarcophilus harrisii',\n",
       " 'Scotophilus kuhlii',\n",
       " 'Sparus aurata',\n",
       " 'Spheniscus demersus',\n",
       " 'Squalius cephalus',\n",
       " 'Suncus murinus',\n",
       " 'Sus scrofa',\n",
       " 'Tadarida brasiliensis',\n",
       " 'Tarsiger cyanurus',\n",
       " 'Turdus hortulorum',\n",
       " 'Turdus naumanni',\n",
       " 'Turdus pallidus',\n",
       " 'Tursiops aduncus',\n",
       " 'Tursiops truncatus',\n",
       " 'Vespertilio sinensis',\n",
       " 'Vulpes vulpes',\n",
       " 'Zoothera dauma'}"
      ]
     },
     "execution_count": 7,
     "metadata": {},
     "output_type": "execute_result"
    }
   ],
   "source": [
    "non_idv_hosts = set(non_idv_df[\"virus_host_name\"].unique())\n",
    "np.savetxt(os.path.join(os.getcwd(), \"..\", \"..\", \"..\",\"..\", \"input/data/uniref90/20240131/uniref90_viridae_embl_hosts_pruned_metadata_species_vertebrates_non_idv_hosts.csv\"),\n",
    "          non_idv_df[\"virus_host_name\"].unique(),\n",
    "          fmt=\"%s\")\n",
    "print(len(non_idv_hosts))\n",
    "non_idv_hosts"
   ]
  },
  {
   "cell_type": "markdown",
   "id": "119b2257",
   "metadata": {},
   "source": [
    "### Immunodeficiency virus dataset"
   ]
  },
  {
   "cell_type": "code",
   "execution_count": 8,
   "id": "72f40401",
   "metadata": {},
   "outputs": [
    {
     "data": {
      "text/plain": [
       "(220068, 11)"
      ]
     },
     "execution_count": 8,
     "metadata": {},
     "output_type": "execute_result"
    }
   ],
   "source": [
    "idv_file_path = os.path.join(os.getcwd(), \"..\", \"..\", \"..\",\"..\", \"input/data/uniref90/20240131/uniref90_viridae_embl_hosts_pruned_metadata_species_vertebrates_w_seq_idv.csv\")\n",
    "idv_df = pd.read_csv(idv_file_path)\n",
    "idv_df.shape"
   ]
  },
  {
   "cell_type": "code",
   "execution_count": 9,
   "id": "bb0e8e53",
   "metadata": {},
   "outputs": [
    {
     "name": "stdout",
     "output_type": "stream",
     "text": [
      "Number of unique values = 7\n",
      "                            virus_name  virus_name_count  virus_name_percent\n",
      "0       Human immunodeficiency virus 1            215415           97.885654\n",
      "1         Human immunodeficiency virus              2095            0.951978\n",
      "2  Simian-Human immunodeficiency virus              1030            0.468037\n",
      "3       Human immunodeficiency virus 2               788            0.358071\n",
      "4        Simian immunodeficiency virus               538            0.244470\n",
      "5        Feline immunodeficiency virus               198            0.089972\n",
      "6        Bovine immunodeficiency virus                 4            0.001818\n"
     ]
    },
    {
     "data": {
      "text/html": [
       "<div>\n",
       "<style scoped>\n",
       "    .dataframe tbody tr th:only-of-type {\n",
       "        vertical-align: middle;\n",
       "    }\n",
       "\n",
       "    .dataframe tbody tr th {\n",
       "        vertical-align: top;\n",
       "    }\n",
       "\n",
       "    .dataframe thead th {\n",
       "        text-align: right;\n",
       "    }\n",
       "</style>\n",
       "<table border=\"1\" class=\"dataframe\">\n",
       "  <thead>\n",
       "    <tr style=\"text-align: right;\">\n",
       "      <th></th>\n",
       "      <th>virus_name</th>\n",
       "      <th>virus_name_count</th>\n",
       "      <th>virus_name_percent</th>\n",
       "    </tr>\n",
       "  </thead>\n",
       "  <tbody>\n",
       "    <tr>\n",
       "      <th>0</th>\n",
       "      <td>Human immunodeficiency virus 1</td>\n",
       "      <td>215415</td>\n",
       "      <td>97.885654</td>\n",
       "    </tr>\n",
       "    <tr>\n",
       "      <th>1</th>\n",
       "      <td>Human immunodeficiency virus</td>\n",
       "      <td>2095</td>\n",
       "      <td>0.951978</td>\n",
       "    </tr>\n",
       "    <tr>\n",
       "      <th>2</th>\n",
       "      <td>Simian-Human immunodeficiency virus</td>\n",
       "      <td>1030</td>\n",
       "      <td>0.468037</td>\n",
       "    </tr>\n",
       "    <tr>\n",
       "      <th>3</th>\n",
       "      <td>Human immunodeficiency virus 2</td>\n",
       "      <td>788</td>\n",
       "      <td>0.358071</td>\n",
       "    </tr>\n",
       "    <tr>\n",
       "      <th>4</th>\n",
       "      <td>Simian immunodeficiency virus</td>\n",
       "      <td>538</td>\n",
       "      <td>0.244470</td>\n",
       "    </tr>\n",
       "    <tr>\n",
       "      <th>5</th>\n",
       "      <td>Feline immunodeficiency virus</td>\n",
       "      <td>198</td>\n",
       "      <td>0.089972</td>\n",
       "    </tr>\n",
       "    <tr>\n",
       "      <th>6</th>\n",
       "      <td>Bovine immunodeficiency virus</td>\n",
       "      <td>4</td>\n",
       "      <td>0.001818</td>\n",
       "    </tr>\n",
       "  </tbody>\n",
       "</table>\n",
       "</div>"
      ],
      "text/plain": [
       "                            virus_name  virus_name_count  virus_name_percent\n",
       "0       Human immunodeficiency virus 1            215415           97.885654\n",
       "1         Human immunodeficiency virus              2095            0.951978\n",
       "2  Simian-Human immunodeficiency virus              1030            0.468037\n",
       "3       Human immunodeficiency virus 2               788            0.358071\n",
       "4        Simian immunodeficiency virus               538            0.244470\n",
       "5        Feline immunodeficiency virus               198            0.089972\n",
       "6        Bovine immunodeficiency virus                 4            0.001818"
      ]
     },
     "execution_count": 9,
     "metadata": {},
     "output_type": "execute_result"
    }
   ],
   "source": [
    "column_stats(idv_df, \"virus_name\")"
   ]
  },
  {
   "cell_type": "code",
   "execution_count": 10,
   "id": "4bcc85be",
   "metadata": {
    "scrolled": true
   },
   "outputs": [
    {
     "name": "stdout",
     "output_type": "stream",
     "text": [
      "Number of unique values = 40\n",
      "                       virus_host_name  virus_host_name_count  virus_host_name_percent\n",
      "0                         Homo sapiens                 218631                99.347020\n",
      "1                       Macaca mulatta                    849                 0.385790\n",
      "2                          Felis catus                    143                 0.064980\n",
      "3                      Cercocebus atys                    122                 0.055437\n",
      "4                        Puma concolor                     24                 0.010906\n",
      "5                    Macaca nemestrina                     23                 0.010451\n",
      "6                    Mandrillus sphinx                     23                 0.010451\n",
      "7               Mandrillus leucophaeus                     20                 0.009088\n",
      "8              Cercopithecus nictitans                     19                 0.008634\n",
      "9                Cercopithecus solatus                     17                 0.007725\n",
      "10                Cercocebus torquatus                     16                 0.007270\n",
      "11              Cercopithecus aethiops                     14                 0.006362\n",
      "12                Cercopithecus cephus                     13                 0.005907\n",
      "13                 Chlorocebus sabaeus                     13                 0.005907\n",
      "14                     Colobus guereza                     13                 0.005907\n",
      "15                        Panthera leo                     12                 0.005453\n",
      "16             Cercopithecus neglectus                     12                 0.005453\n",
      "17                  Cercopithecus mona                     10                 0.004544\n",
      "18                Chlorocebus tantalus                     10                 0.004544\n",
      "19              Felis silvestris catus                      9                 0.004090\n",
      "20               Cercopithecus lhoesti                      8                 0.003635\n",
      "21             Chlorocebus pygerythrus                      7                 0.003181\n",
      "22                 Cercopithecus mitis                      6                 0.002726\n",
      "23            Cercopithecus erythrotis                      5                 0.002272\n",
      "24                    Felis domesticus                      5                 0.002272\n",
      "25                    Macaca arctoides                      5                 0.002272\n",
      "26                 Macaca fascicularis                      5                 0.002272\n",
      "27              Semnopithecus entellus                      5                 0.002272\n",
      "28                          Bos taurus                      4                 0.001818\n",
      "29               Miopithecus ogouensis                      4                 0.001818\n",
      "30              Cercopithecus ascanius                      4                 0.001818\n",
      "31           Cercocebus torquatus atys                      3                 0.001363\n",
      "32                          Lynx rufus                      3                 0.001363\n",
      "33  Cercopithecus aethiops pygerythrus                      3                 0.001363\n",
      "34           Piliocolobus tephrosceles                      2                 0.000909\n",
      "35                 Piliocolobus badius                      2                 0.000909\n",
      "36                    Otocolobus manul                      1                 0.000454\n",
      "37                     Panthera pardus                      1                 0.000454\n",
      "38                       Papio ursinus                      1                 0.000454\n",
      "39                    Procolobus verus                      1                 0.000454\n"
     ]
    }
   ],
   "source": [
    "idv_column_stats = column_stats(idv_df, \"virus_host_name\")"
   ]
  },
  {
   "cell_type": "code",
   "execution_count": 11,
   "id": "cfc546b2",
   "metadata": {},
   "outputs": [
    {
     "name": "stdout",
     "output_type": "stream",
     "text": [
      "40\n"
     ]
    },
    {
     "data": {
      "text/plain": [
       "{'Bos taurus',\n",
       " 'Cercocebus atys',\n",
       " 'Cercocebus torquatus',\n",
       " 'Cercocebus torquatus atys',\n",
       " 'Cercopithecus aethiops',\n",
       " 'Cercopithecus aethiops pygerythrus',\n",
       " 'Cercopithecus ascanius',\n",
       " 'Cercopithecus cephus',\n",
       " 'Cercopithecus erythrotis',\n",
       " 'Cercopithecus lhoesti',\n",
       " 'Cercopithecus mitis',\n",
       " 'Cercopithecus mona',\n",
       " 'Cercopithecus neglectus',\n",
       " 'Cercopithecus nictitans',\n",
       " 'Cercopithecus solatus',\n",
       " 'Chlorocebus pygerythrus',\n",
       " 'Chlorocebus sabaeus',\n",
       " 'Chlorocebus tantalus',\n",
       " 'Colobus guereza',\n",
       " 'Felis catus',\n",
       " 'Felis domesticus',\n",
       " 'Felis silvestris catus',\n",
       " 'Homo sapiens',\n",
       " 'Lynx rufus',\n",
       " 'Macaca arctoides',\n",
       " 'Macaca fascicularis',\n",
       " 'Macaca mulatta',\n",
       " 'Macaca nemestrina',\n",
       " 'Mandrillus leucophaeus',\n",
       " 'Mandrillus sphinx',\n",
       " 'Miopithecus ogouensis',\n",
       " 'Otocolobus manul',\n",
       " 'Panthera leo',\n",
       " 'Panthera pardus',\n",
       " 'Papio ursinus',\n",
       " 'Piliocolobus badius',\n",
       " 'Piliocolobus tephrosceles',\n",
       " 'Procolobus verus',\n",
       " 'Puma concolor',\n",
       " 'Semnopithecus entellus'}"
      ]
     },
     "execution_count": 11,
     "metadata": {},
     "output_type": "execute_result"
    }
   ],
   "source": [
    "idv_hosts = set(idv_df[\"virus_host_name\"].unique())\n",
    "np.savetxt(os.path.join(os.getcwd(), \"..\", \"..\", \"..\",\"..\", \"input/data/uniref90/20240131/uniref90_viridae_embl_hosts_pruned_metadata_species_vertebrates_idv_hosts.csv\"),\n",
    "           idv_df[\"virus_host_name\"].unique(), \n",
    "           fmt=\"%s\")\n",
    "print(len(idv_hosts))\n",
    "idv_hosts"
   ]
  },
  {
   "cell_type": "markdown",
   "id": "6f95eed8",
   "metadata": {},
   "source": [
    "### Intersection between Non-IDV and IDV virus hosts"
   ]
  },
  {
   "cell_type": "code",
   "execution_count": 12,
   "id": "cee0df26",
   "metadata": {},
   "outputs": [
    {
     "name": "stdout",
     "output_type": "stream",
     "text": [
      "non_idv virus hosts = 148\n",
      "idv virus hosts = 40\n",
      "non_idv minus idv virus hosts = 140\n",
      "idv minus non_idv virus hosts = 32\n",
      "non_idv intersection idv virus hosts = 8\n",
      "non_idv union idv virus hosts = 180\n"
     ]
    }
   ],
   "source": [
    "print(f\"non_idv virus hosts = {len(non_idv_hosts)}\")\n",
    "print(f\"idv virus hosts = {len(idv_hosts)}\")\n",
    "print(f\"non_idv minus idv virus hosts = {len(non_idv_hosts - idv_hosts)}\")\n",
    "print(f\"idv minus non_idv virus hosts = {len(idv_hosts - non_idv_hosts)}\")\n",
    "print(f\"non_idv intersection idv virus hosts = {len(non_idv_hosts.intersection(idv_hosts))}\")\n",
    "print(f\"non_idv union idv virus hosts = {len(non_idv_hosts.union(idv_hosts))}\")"
   ]
  },
  {
   "cell_type": "markdown",
   "id": "8134335b",
   "metadata": {},
   "source": [
    "#### Unseen virus, seen hosts: Virus hosts in IDV and in Non-IDV and their prevalence in IDV dataset"
   ]
  },
  {
   "cell_type": "code",
   "execution_count": 13,
   "id": "e00004c2",
   "metadata": {},
   "outputs": [
    {
     "data": {
      "text/html": [
       "<div>\n",
       "<style scoped>\n",
       "    .dataframe tbody tr th:only-of-type {\n",
       "        vertical-align: middle;\n",
       "    }\n",
       "\n",
       "    .dataframe tbody tr th {\n",
       "        vertical-align: top;\n",
       "    }\n",
       "\n",
       "    .dataframe thead th {\n",
       "        text-align: right;\n",
       "    }\n",
       "</style>\n",
       "<table border=\"1\" class=\"dataframe\">\n",
       "  <thead>\n",
       "    <tr style=\"text-align: right;\">\n",
       "      <th></th>\n",
       "      <th>virus_host_name</th>\n",
       "      <th>virus_host_name_count</th>\n",
       "      <th>virus_host_name_percent</th>\n",
       "    </tr>\n",
       "  </thead>\n",
       "  <tbody>\n",
       "    <tr>\n",
       "      <th>0</th>\n",
       "      <td>Homo sapiens</td>\n",
       "      <td>218631</td>\n",
       "      <td>99.347020</td>\n",
       "    </tr>\n",
       "    <tr>\n",
       "      <th>1</th>\n",
       "      <td>Macaca mulatta</td>\n",
       "      <td>849</td>\n",
       "      <td>0.385790</td>\n",
       "    </tr>\n",
       "    <tr>\n",
       "      <th>2</th>\n",
       "      <td>Felis catus</td>\n",
       "      <td>143</td>\n",
       "      <td>0.064980</td>\n",
       "    </tr>\n",
       "    <tr>\n",
       "      <th>6</th>\n",
       "      <td>Mandrillus sphinx</td>\n",
       "      <td>23</td>\n",
       "      <td>0.010451</td>\n",
       "    </tr>\n",
       "    <tr>\n",
       "      <th>24</th>\n",
       "      <td>Felis domesticus</td>\n",
       "      <td>5</td>\n",
       "      <td>0.002272</td>\n",
       "    </tr>\n",
       "    <tr>\n",
       "      <th>25</th>\n",
       "      <td>Macaca arctoides</td>\n",
       "      <td>5</td>\n",
       "      <td>0.002272</td>\n",
       "    </tr>\n",
       "    <tr>\n",
       "      <th>26</th>\n",
       "      <td>Macaca fascicularis</td>\n",
       "      <td>5</td>\n",
       "      <td>0.002272</td>\n",
       "    </tr>\n",
       "    <tr>\n",
       "      <th>28</th>\n",
       "      <td>Bos taurus</td>\n",
       "      <td>4</td>\n",
       "      <td>0.001818</td>\n",
       "    </tr>\n",
       "  </tbody>\n",
       "</table>\n",
       "</div>"
      ],
      "text/plain": [
       "        virus_host_name  virus_host_name_count  virus_host_name_percent\n",
       "0          Homo sapiens                 218631                99.347020\n",
       "1        Macaca mulatta                    849                 0.385790\n",
       "2           Felis catus                    143                 0.064980\n",
       "6     Mandrillus sphinx                     23                 0.010451\n",
       "24     Felis domesticus                      5                 0.002272\n",
       "25     Macaca arctoides                      5                 0.002272\n",
       "26  Macaca fascicularis                      5                 0.002272\n",
       "28           Bos taurus                      4                 0.001818"
      ]
     },
     "execution_count": 13,
     "metadata": {},
     "output_type": "execute_result"
    }
   ],
   "source": [
    "idv_column_stats[idv_column_stats[\"virus_host_name\"].isin(list(non_idv_hosts.intersection(idv_hosts)))]"
   ]
  },
  {
   "cell_type": "code",
   "execution_count": 29,
   "id": "437cda6e",
   "metadata": {},
   "outputs": [
    {
     "name": "stdout",
     "output_type": "stream",
     "text": [
      "(219665, 11)\n"
     ]
    }
   ],
   "source": [
    "sub_idv_df = idv_df[idv_df[\"virus_host_name\"].isin(non_idv_hosts.intersection(idv_hosts))]\n",
    "print(sub_idv_df.shape)\n",
    "sub_idv_df.to_csv(os.path.join(os.getcwd(), \"..\", \"..\", \"..\",\"..\", \"input/data/uniref90/20240131/uniref90_viridae_embl_hosts_pruned_metadata_species_vertebrates_w_seq_idv_seen_hosts.csv\"), index=False)"
   ]
  },
  {
   "cell_type": "code",
   "execution_count": 30,
   "id": "6a080b6e",
   "metadata": {},
   "outputs": [
    {
     "name": "stdout",
     "output_type": "stream",
     "text": [
      "(262612, 11)\n"
     ]
    }
   ],
   "source": [
    "combined_df = pd.concat([sub_idv_df, non_idv_df])\n",
    "print(combined_df.shape)\n",
    "combined_df.to_csv(os.path.join(os.getcwd(), \"..\", \"..\", \"..\",\"..\", \"input/data/uniref90/20240131/uniref90_viridae_embl_hosts_pruned_metadata_species_vertebrates_w_seq_idv_seen_hosts_w_non_idv.csv\"), index=False)"
   ]
  },
  {
   "cell_type": "code",
   "execution_count": 31,
   "id": "f5dfeeff",
   "metadata": {},
   "outputs": [
    {
     "name": "stdout",
     "output_type": "stream",
     "text": [
      "(15199, 11)\n"
     ]
    }
   ],
   "source": [
    "# WITHOUT HUMAN - ONLY FOR TESTING\n",
    "print(combined_df[combined_df[\"virus_host_name\"] != \"Homo sapiens\"].shape)\n",
    "combined_df[combined_df[\"virus_host_name\"] != \"Homo sapiens\"].to_csv(os.path.join(os.getcwd(), \"..\", \"..\", \"..\",\"..\", \"input/data/uniref90/20240131/uniref90_viridae_embl_hosts_pruned_metadata_species_vertebrates_w_seq_idv_seen_hosts_w_non_idv_wo_human.csv\"), index=False)"
   ]
  },
  {
   "cell_type": "code",
   "execution_count": 32,
   "id": "edc07e21",
   "metadata": {},
   "outputs": [
    {
     "data": {
      "text/plain": [
       "array([ 700.  ,  934.  , 2337.02])"
      ]
     },
     "execution_count": 32,
     "metadata": {},
     "output_type": "execute_result"
    }
   ],
   "source": [
    "np.percentile(combined_df[combined_df[\"virus_host_name\"] != \"Homo sapiens\"][\"seq_len\"].values, [90, 95, 99])"
   ]
  },
  {
   "cell_type": "code",
   "execution_count": 33,
   "id": "d20ad58f",
   "metadata": {},
   "outputs": [
    {
     "name": "stdout",
     "output_type": "stream",
     "text": [
      "(15047, 11)\n"
     ]
    }
   ],
   "source": [
    "combined_df_wo_human = combined_df[combined_df[\"virus_host_name\"] != \"Homo sapiens\"]\n",
    "print(combined_df_wo_human[combined_df_wo_human[\"seq_len\"] <= 2337.02].shape)\n",
    "combined_df_wo_human[combined_df_wo_human[\"seq_len\"] <= 2337.02].to_csv(os.path.join(os.getcwd(), \"..\", \"..\", \"..\",\"..\", \"input/data/uniref90/20240131/uniref90_viridae_embl_hosts_pruned_metadata_species_vertebrates_w_seq_idv_seen_hosts_w_non_idv_wo_human_seqlen_lte_99prcntile.csv\"), index=False)"
   ]
  },
  {
   "cell_type": "markdown",
   "id": "dfab8f99",
   "metadata": {},
   "source": [
    "#### Unseen virus, unseen hosts: Virus hosts in IDV but NOT in Non-IDV and their prevalence in IDV dataset"
   ]
  },
  {
   "cell_type": "code",
   "execution_count": 20,
   "id": "4da31cb9",
   "metadata": {},
   "outputs": [
    {
     "data": {
      "text/html": [
       "<div>\n",
       "<style scoped>\n",
       "    .dataframe tbody tr th:only-of-type {\n",
       "        vertical-align: middle;\n",
       "    }\n",
       "\n",
       "    .dataframe tbody tr th {\n",
       "        vertical-align: top;\n",
       "    }\n",
       "\n",
       "    .dataframe thead th {\n",
       "        text-align: right;\n",
       "    }\n",
       "</style>\n",
       "<table border=\"1\" class=\"dataframe\">\n",
       "  <thead>\n",
       "    <tr style=\"text-align: right;\">\n",
       "      <th></th>\n",
       "      <th>virus_host_name</th>\n",
       "      <th>virus_host_name_count</th>\n",
       "      <th>virus_host_name_percent</th>\n",
       "    </tr>\n",
       "  </thead>\n",
       "  <tbody>\n",
       "    <tr>\n",
       "      <th>3</th>\n",
       "      <td>Cercocebus atys</td>\n",
       "      <td>122</td>\n",
       "      <td>0.055437</td>\n",
       "    </tr>\n",
       "    <tr>\n",
       "      <th>4</th>\n",
       "      <td>Puma concolor</td>\n",
       "      <td>24</td>\n",
       "      <td>0.010906</td>\n",
       "    </tr>\n",
       "    <tr>\n",
       "      <th>5</th>\n",
       "      <td>Macaca nemestrina</td>\n",
       "      <td>23</td>\n",
       "      <td>0.010451</td>\n",
       "    </tr>\n",
       "    <tr>\n",
       "      <th>7</th>\n",
       "      <td>Mandrillus leucophaeus</td>\n",
       "      <td>20</td>\n",
       "      <td>0.009088</td>\n",
       "    </tr>\n",
       "    <tr>\n",
       "      <th>8</th>\n",
       "      <td>Cercopithecus nictitans</td>\n",
       "      <td>19</td>\n",
       "      <td>0.008634</td>\n",
       "    </tr>\n",
       "    <tr>\n",
       "      <th>9</th>\n",
       "      <td>Cercopithecus solatus</td>\n",
       "      <td>17</td>\n",
       "      <td>0.007725</td>\n",
       "    </tr>\n",
       "    <tr>\n",
       "      <th>10</th>\n",
       "      <td>Cercocebus torquatus</td>\n",
       "      <td>16</td>\n",
       "      <td>0.007270</td>\n",
       "    </tr>\n",
       "    <tr>\n",
       "      <th>11</th>\n",
       "      <td>Cercopithecus aethiops</td>\n",
       "      <td>14</td>\n",
       "      <td>0.006362</td>\n",
       "    </tr>\n",
       "    <tr>\n",
       "      <th>12</th>\n",
       "      <td>Cercopithecus cephus</td>\n",
       "      <td>13</td>\n",
       "      <td>0.005907</td>\n",
       "    </tr>\n",
       "    <tr>\n",
       "      <th>13</th>\n",
       "      <td>Chlorocebus sabaeus</td>\n",
       "      <td>13</td>\n",
       "      <td>0.005907</td>\n",
       "    </tr>\n",
       "    <tr>\n",
       "      <th>14</th>\n",
       "      <td>Colobus guereza</td>\n",
       "      <td>13</td>\n",
       "      <td>0.005907</td>\n",
       "    </tr>\n",
       "    <tr>\n",
       "      <th>15</th>\n",
       "      <td>Panthera leo</td>\n",
       "      <td>12</td>\n",
       "      <td>0.005453</td>\n",
       "    </tr>\n",
       "    <tr>\n",
       "      <th>16</th>\n",
       "      <td>Cercopithecus neglectus</td>\n",
       "      <td>12</td>\n",
       "      <td>0.005453</td>\n",
       "    </tr>\n",
       "    <tr>\n",
       "      <th>17</th>\n",
       "      <td>Cercopithecus mona</td>\n",
       "      <td>10</td>\n",
       "      <td>0.004544</td>\n",
       "    </tr>\n",
       "    <tr>\n",
       "      <th>18</th>\n",
       "      <td>Chlorocebus tantalus</td>\n",
       "      <td>10</td>\n",
       "      <td>0.004544</td>\n",
       "    </tr>\n",
       "    <tr>\n",
       "      <th>19</th>\n",
       "      <td>Felis silvestris catus</td>\n",
       "      <td>9</td>\n",
       "      <td>0.004090</td>\n",
       "    </tr>\n",
       "    <tr>\n",
       "      <th>20</th>\n",
       "      <td>Cercopithecus lhoesti</td>\n",
       "      <td>8</td>\n",
       "      <td>0.003635</td>\n",
       "    </tr>\n",
       "    <tr>\n",
       "      <th>21</th>\n",
       "      <td>Chlorocebus pygerythrus</td>\n",
       "      <td>7</td>\n",
       "      <td>0.003181</td>\n",
       "    </tr>\n",
       "    <tr>\n",
       "      <th>22</th>\n",
       "      <td>Cercopithecus mitis</td>\n",
       "      <td>6</td>\n",
       "      <td>0.002726</td>\n",
       "    </tr>\n",
       "    <tr>\n",
       "      <th>23</th>\n",
       "      <td>Cercopithecus erythrotis</td>\n",
       "      <td>5</td>\n",
       "      <td>0.002272</td>\n",
       "    </tr>\n",
       "    <tr>\n",
       "      <th>27</th>\n",
       "      <td>Semnopithecus entellus</td>\n",
       "      <td>5</td>\n",
       "      <td>0.002272</td>\n",
       "    </tr>\n",
       "    <tr>\n",
       "      <th>29</th>\n",
       "      <td>Miopithecus ogouensis</td>\n",
       "      <td>4</td>\n",
       "      <td>0.001818</td>\n",
       "    </tr>\n",
       "    <tr>\n",
       "      <th>30</th>\n",
       "      <td>Cercopithecus ascanius</td>\n",
       "      <td>4</td>\n",
       "      <td>0.001818</td>\n",
       "    </tr>\n",
       "    <tr>\n",
       "      <th>31</th>\n",
       "      <td>Cercocebus torquatus atys</td>\n",
       "      <td>3</td>\n",
       "      <td>0.001363</td>\n",
       "    </tr>\n",
       "    <tr>\n",
       "      <th>32</th>\n",
       "      <td>Lynx rufus</td>\n",
       "      <td>3</td>\n",
       "      <td>0.001363</td>\n",
       "    </tr>\n",
       "    <tr>\n",
       "      <th>33</th>\n",
       "      <td>Cercopithecus aethiops pygerythrus</td>\n",
       "      <td>3</td>\n",
       "      <td>0.001363</td>\n",
       "    </tr>\n",
       "    <tr>\n",
       "      <th>34</th>\n",
       "      <td>Piliocolobus tephrosceles</td>\n",
       "      <td>2</td>\n",
       "      <td>0.000909</td>\n",
       "    </tr>\n",
       "    <tr>\n",
       "      <th>35</th>\n",
       "      <td>Piliocolobus badius</td>\n",
       "      <td>2</td>\n",
       "      <td>0.000909</td>\n",
       "    </tr>\n",
       "    <tr>\n",
       "      <th>36</th>\n",
       "      <td>Otocolobus manul</td>\n",
       "      <td>1</td>\n",
       "      <td>0.000454</td>\n",
       "    </tr>\n",
       "    <tr>\n",
       "      <th>37</th>\n",
       "      <td>Panthera pardus</td>\n",
       "      <td>1</td>\n",
       "      <td>0.000454</td>\n",
       "    </tr>\n",
       "    <tr>\n",
       "      <th>38</th>\n",
       "      <td>Papio ursinus</td>\n",
       "      <td>1</td>\n",
       "      <td>0.000454</td>\n",
       "    </tr>\n",
       "    <tr>\n",
       "      <th>39</th>\n",
       "      <td>Procolobus verus</td>\n",
       "      <td>1</td>\n",
       "      <td>0.000454</td>\n",
       "    </tr>\n",
       "  </tbody>\n",
       "</table>\n",
       "</div>"
      ],
      "text/plain": [
       "                       virus_host_name  virus_host_name_count  virus_host_name_percent\n",
       "3                      Cercocebus atys                    122                 0.055437\n",
       "4                        Puma concolor                     24                 0.010906\n",
       "5                    Macaca nemestrina                     23                 0.010451\n",
       "7               Mandrillus leucophaeus                     20                 0.009088\n",
       "8              Cercopithecus nictitans                     19                 0.008634\n",
       "9                Cercopithecus solatus                     17                 0.007725\n",
       "10                Cercocebus torquatus                     16                 0.007270\n",
       "11              Cercopithecus aethiops                     14                 0.006362\n",
       "12                Cercopithecus cephus                     13                 0.005907\n",
       "13                 Chlorocebus sabaeus                     13                 0.005907\n",
       "14                     Colobus guereza                     13                 0.005907\n",
       "15                        Panthera leo                     12                 0.005453\n",
       "16             Cercopithecus neglectus                     12                 0.005453\n",
       "17                  Cercopithecus mona                     10                 0.004544\n",
       "18                Chlorocebus tantalus                     10                 0.004544\n",
       "19              Felis silvestris catus                      9                 0.004090\n",
       "20               Cercopithecus lhoesti                      8                 0.003635\n",
       "21             Chlorocebus pygerythrus                      7                 0.003181\n",
       "22                 Cercopithecus mitis                      6                 0.002726\n",
       "23            Cercopithecus erythrotis                      5                 0.002272\n",
       "27              Semnopithecus entellus                      5                 0.002272\n",
       "29               Miopithecus ogouensis                      4                 0.001818\n",
       "30              Cercopithecus ascanius                      4                 0.001818\n",
       "31           Cercocebus torquatus atys                      3                 0.001363\n",
       "32                          Lynx rufus                      3                 0.001363\n",
       "33  Cercopithecus aethiops pygerythrus                      3                 0.001363\n",
       "34           Piliocolobus tephrosceles                      2                 0.000909\n",
       "35                 Piliocolobus badius                      2                 0.000909\n",
       "36                    Otocolobus manul                      1                 0.000454\n",
       "37                     Panthera pardus                      1                 0.000454\n",
       "38                       Papio ursinus                      1                 0.000454\n",
       "39                    Procolobus verus                      1                 0.000454"
      ]
     },
     "execution_count": 20,
     "metadata": {},
     "output_type": "execute_result"
    }
   ],
   "source": [
    "idv_column_stats[idv_column_stats[\"virus_host_name\"].isin(list(idv_hosts - non_idv_hosts))]"
   ]
  },
  {
   "cell_type": "code",
   "execution_count": 21,
   "id": "c0a525b9",
   "metadata": {},
   "outputs": [
    {
     "name": "stdout",
     "output_type": "stream",
     "text": [
      "(403, 11)\n"
     ]
    }
   ],
   "source": [
    "sub_idv_df = idv_df[idv_df[\"virus_host_name\"].isin(idv_hosts - non_idv_hosts)]\n",
    "print(sub_idv_df.shape)\n",
    "sub_idv_df.to_csv(os.path.join(os.getcwd(), \"..\", \"..\", \"..\",\"..\", \"input/data/uniref90/20240131/uniref90_viridae_embl_hosts_pruned_metadata_species_vertebrates_w_seq_idv_unseen_hosts.csv\"), index=False)"
   ]
  },
  {
   "cell_type": "code",
   "execution_count": 22,
   "id": "8327aad6",
   "metadata": {},
   "outputs": [
    {
     "name": "stdout",
     "output_type": "stream",
     "text": [
      "(43350, 11)\n"
     ]
    }
   ],
   "source": [
    "combined_df = pd.concat([sub_idv_df, non_idv_df])\n",
    "print(combined_df.shape)"
   ]
  },
  {
   "cell_type": "code",
   "execution_count": 24,
   "id": "26ac447a",
   "metadata": {},
   "outputs": [],
   "source": [
    "combined_df.to_csv(os.path.join(os.getcwd(), \"..\", \"..\", \"..\",\"..\", \"input/data/uniref90/20240131/uniref90_viridae_embl_hosts_pruned_metadata_species_vertebrates_w_seq_idv_unseen_hosts_w_non_idv.csv\"), index=False)"
   ]
  },
  {
   "cell_type": "code",
   "execution_count": 25,
   "id": "55bb8893",
   "metadata": {},
   "outputs": [
    {
     "data": {
      "text/plain": [
       "array([ 591.,  846., 3009.])"
      ]
     },
     "execution_count": 25,
     "metadata": {},
     "output_type": "execute_result"
    }
   ],
   "source": [
    "np.percentile(combined_df[\"seq_len\"].values, [90, 95, 99])"
   ]
  },
  {
   "cell_type": "code",
   "execution_count": 26,
   "id": "76d85396",
   "metadata": {},
   "outputs": [],
   "source": [
    "combined_df[combined_df[\"seq_len\"] <= 3009].to_csv(os.path.join(os.getcwd(), \"..\", \"..\", \"..\",\"..\", \"input/data/uniref90/20240131/uniref90_viridae_embl_hosts_pruned_metadata_species_vertebrates_w_seq_idv_unseen_hosts_w_non_idv_seqlen_lte_99prcntile.csv\"), index=False)"
   ]
  },
  {
   "cell_type": "code",
   "execution_count": null,
   "id": "f4fce833",
   "metadata": {},
   "outputs": [],
   "source": []
  },
  {
   "cell_type": "code",
   "execution_count": null,
   "id": "ee68f2e5",
   "metadata": {},
   "outputs": [],
   "source": []
  }
 ],
 "metadata": {
  "kernelspec": {
   "display_name": "Python 3 (ipykernel)",
   "language": "python",
   "name": "python3"
  },
  "language_info": {
   "codemirror_mode": {
    "name": "ipython",
    "version": 3
   },
   "file_extension": ".py",
   "mimetype": "text/x-python",
   "name": "python",
   "nbconvert_exporter": "python",
   "pygments_lexer": "ipython3",
   "version": "3.8.12"
  }
 },
 "nbformat": 4,
 "nbformat_minor": 5
}
