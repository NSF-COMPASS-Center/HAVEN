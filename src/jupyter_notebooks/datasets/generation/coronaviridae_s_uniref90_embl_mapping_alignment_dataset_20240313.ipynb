{
 "cells": [
  {
   "cell_type": "code",
   "execution_count": 1,
   "id": "1758a8ea",
   "metadata": {},
   "outputs": [
    {
     "name": "stdout",
     "output_type": "stream",
     "text": [
      "Defaulting to user installation because normal site-packages is not writeable\r\n",
      "Looking in indexes: https://pypi.org/simple, https://pypi.ngc.nvidia.com\r\n",
      "Requirement already satisfied: biopython in /home/blessyantony/.local/lib/python3.8/site-packages (1.83)\r\n",
      "Requirement already satisfied: numpy in /opt/conda/lib/python3.8/site-packages (from biopython) (1.21.4)\r\n"
     ]
    }
   ],
   "source": [
    "! pip install biopython"
   ]
  },
  {
   "cell_type": "code",
   "execution_count": 2,
   "id": "af85c69f",
   "metadata": {},
   "outputs": [],
   "source": [
    "import pandas as pd\n",
    "import os\n",
    "import numpy as np\n",
    "import seaborn as sns\n",
    "from ast import literal_eval\n",
    "import unicodedata\n",
    "import matplotlib.pyplot as plt\n",
    "from Bio import SeqIO\n",
    "pd.set_option(\"display.max_rows\", None)\n",
    "pd.set_option('display.width', 1000)"
   ]
  },
  {
   "cell_type": "code",
   "execution_count": 3,
   "id": "de798ac2",
   "metadata": {},
   "outputs": [
    {
     "data": {
      "text/plain": [
       "['/home/blessyantony/dev/git/zoonosis/src/jupyter_notebooks/datasets/generation',\n",
       " '/opt/conda/lib/python38.zip',\n",
       " '/opt/conda/lib/python3.8',\n",
       " '/opt/conda/lib/python3.8/lib-dynload',\n",
       " '',\n",
       " '/home/blessyantony/.local/lib/python3.8/site-packages',\n",
       " '/opt/conda/lib/python3.8/site-packages',\n",
       " '/opt/conda/lib/python3.8/site-packages/IPython/extensions',\n",
       " '/home/blessyantony/.ipython',\n",
       " '/home/blessyantony/dev/git/zoonosis/src/jupyter_notebooks/datasets/generation/../../../../..',\n",
       " '/home/blessyantony/dev/git/zoonosis/src/jupyter_notebooks/datasets/generation/../../../..',\n",
       " '/home/blessyantony/dev/git/zoonosis/src/jupyter_notebooks/datasets/generation/../../..',\n",
       " '/home/blessyantony/dev/git/zoonosis/src/jupyter_notebooks/datasets/generation/../..']"
      ]
     },
     "execution_count": 3,
     "metadata": {},
     "output_type": "execute_result"
    }
   ],
   "source": [
    "import sys\n",
    "import os\n",
    "sys.path.append(os.path.join(os.getcwd(), \"..\", \"..\", \"..\", \"..\", \"..\"))\n",
    "sys.path.append(os.path.join(os.getcwd(), \"..\", \"..\", \"..\", \"..\"))\n",
    "sys.path.append(os.path.join(os.getcwd(), \"..\", \"..\", \"..\"))\n",
    "sys.path.append(os.path.join(os.getcwd(), \"..\", \"..\"))\n",
    "sys.path"
   ]
  },
  {
   "cell_type": "code",
   "execution_count": 4,
   "id": "574a913d",
   "metadata": {},
   "outputs": [],
   "source": [
    "def column_stats(df, column_name, n=None):\n",
    "    if n is None:\n",
    "        n = df.shape[0]\n",
    "    count_column_name = column_name + \"_count\"\n",
    "    count_df = pd.DataFrame(df[column_name].value_counts()).reset_index()\n",
    "    count_df.columns=[column_name, count_column_name]\n",
    "    count_df[column_name + \"_percent\"] = count_df[count_column_name].apply(lambda x: int(x)/n*100)\n",
    "    print(f\"Number of unique values = {len(df[column_name].unique())}\")\n",
    "    print(f\"{count_df}\")\n",
    "    return count_df"
   ]
  },
  {
   "cell_type": "code",
   "execution_count": 5,
   "id": "05e2a3dc",
   "metadata": {},
   "outputs": [],
   "source": [
    "def print_seq_len_histogram(df, n_bins):\n",
    "    sns.histplot(df[\"seq_len\"])\n",
    "    print(f\"min seq len = {min(df['seq_len'])}\")\n",
    "    print(f\"max seq len = {max(df['seq_len'])}\")\n",
    "    plt.show()\n",
    "    \n",
    "    freq, bins = np.histogram(df[\"seq_len\"], bins=n_bins)\n",
    "    n = df.shape[0]\n",
    "    hist_map = []\n",
    "    for i in range(n_bins):\n",
    "        hist_map.append({\"start\": bins[i], \"end\":bins[i+1], \"count\": freq[i], \"percentage\": freq[i]/n*100})\n",
    "    hist_df = pd.DataFrame(hist_map)\n",
    "    print(hist_df)"
   ]
  },
  {
   "cell_type": "code",
   "execution_count": 6,
   "id": "5bf971ec",
   "metadata": {},
   "outputs": [],
   "source": [
    "def parse_uniref_fasta_file(input_file_path):\n",
    "    sequences = []\n",
    "    i = 0\n",
    "    print(\"START: Parsing fasta file\")\n",
    "    print(input_file_path)\n",
    "    # parse fasta file to extract uniref90_id, tax_id of virus/organism, and protein sequence\n",
    "    with open(input_file_path) as f:\n",
    "        for record in SeqIO.parse(f, \"fasta\"):\n",
    "            i += 1\n",
    "            sequences.append({\"uniref90_id\": record.id, \"seq\": str(record.seq)})\n",
    "\n",
    "    print(\"END: Parsing fasta file\")\n",
    "    print(len(sequences))\n",
    "    print(f\"Number of records parsed = {i}\")\n",
    "    return pd.DataFrame(sequences)\n",
    "    \n",
    "\n",
    "columns = [\"uniref90_id\", \"seq\", \"virus_host_name\", \"human_binary_label\"]\n"
   ]
  },
  {
   "cell_type": "code",
   "execution_count": 34,
   "id": "bc239dcc",
   "metadata": {},
   "outputs": [
    {
     "data": {
      "text/html": [
       "<div>\n",
       "<style scoped>\n",
       "    .dataframe tbody tr th:only-of-type {\n",
       "        vertical-align: middle;\n",
       "    }\n",
       "\n",
       "    .dataframe tbody tr th {\n",
       "        vertical-align: top;\n",
       "    }\n",
       "\n",
       "    .dataframe thead th {\n",
       "        text-align: right;\n",
       "    }\n",
       "</style>\n",
       "<table border=\"1\" class=\"dataframe\">\n",
       "  <thead>\n",
       "    <tr style=\"text-align: right;\">\n",
       "      <th></th>\n",
       "      <th>uniref90_id</th>\n",
       "      <th>seq</th>\n",
       "      <th>virus_host_name</th>\n",
       "      <th>human_binary_label</th>\n",
       "    </tr>\n",
       "  </thead>\n",
       "  <tbody>\n",
       "    <tr>\n",
       "      <th>0</th>\n",
       "      <td>WIV04</td>\n",
       "      <td>MFVFLVLLPLVSSQCVNLTTRTQLPPAYTNSFTRGVYYPDKVFRSS...</td>\n",
       "      <td>homo sapiens</td>\n",
       "      <td>homo sapiens</td>\n",
       "    </tr>\n",
       "  </tbody>\n",
       "</table>\n",
       "</div>"
      ],
      "text/plain": [
       "  uniref90_id                                                seq virus_host_name human_binary_label\n",
       "0       WIV04  MFVFLVLLPLVSSQCVNLTTRTQLPPAYTNSFTRGVYYPDKVFRSS...    homo sapiens       homo sapiens"
      ]
     },
     "execution_count": 34,
     "metadata": {},
     "output_type": "execute_result"
    }
   ],
   "source": [
    "wiv04_sequence_file_path = os.path.join(os.getcwd(), \"..\", \"..\", \"..\",\"..\", \"input/data/coronaviridae/20240313/wiv04/sarscov2-S-WIV04ref.csv\")\n",
    "wiv04_df = pd.read_csv(wiv04_sequence_file_path)[columns]\n",
    "# wiv04_df[\"virus_host_name\"] = wiv04_df[\"virus_host_name\"].apply(lambda x: unicodedata.normalize(\"NFKD\", x))\n",
    "# wiv04_df[\"human_binary_label\"] = wiv04_df[\"human_binary_label\"].apply(lambda x: unicodedata.normalize(\"NFKD\", x))\n",
    "wiv04_df.head()"
   ]
  },
  {
   "cell_type": "code",
   "execution_count": 11,
   "id": "8074eef1",
   "metadata": {},
   "outputs": [],
   "source": [
    "def get_aligned_dataset(unaligned_file_path, aligned_file_path):\n",
    "    print(unaligned_file_path)\n",
    "    unaligned_df = pd.read_csv(unaligned_file_path)[columns]\n",
    "    print(f\"unaligned_df size = {unaligned_df.shape}\")\n",
    "    # print(f\"Adding wiv04 to unaligned dataset\")\n",
    "    # unaligned_df = pd.concat([unaligned_df, wiv04_df])\n",
    "    # print(f\"unaligned_df size = {unaligned_df.shape}\")\n",
    "    aligned_df = parse_uniref_fasta_file(aligned_file_path)\n",
    "    print(f\"aligned_df size = {aligned_df.shape}\")\n",
    "    aligned_df.rename(columns={\"seq\": \"aligned_seq\"}, inplace=True)\n",
    "    df = aligned_df.merge(unaligned_df[[\"uniref90_id\", \"seq\", \"virus_host_name\", \"human_binary_label\"]], how=\"left\", on=\"uniref90_id\")\n",
    "    print(f\"merged df size = {df.shape}\")\n",
    "    return df"
   ]
  },
  {
   "cell_type": "markdown",
   "id": "2a6f8639",
   "metadata": {},
   "source": [
    "# Coronaviridae S Protein UniRef90 - EMBL mapping Aligned Dataset Generation\n",
    "## Coronaviridae S Protein"
   ]
  },
  {
   "cell_type": "markdown",
   "id": "2cdc45da",
   "metadata": {},
   "source": [
    "### coronaviridae_s_uniref90_embl_hosts_pruned_metadata_corrected_species_virus_host_vertebrates_w_seq_t0.01_c8_aligned.fasta"
   ]
  },
  {
   "cell_type": "code",
   "execution_count": 36,
   "id": "7abf2b3c",
   "metadata": {},
   "outputs": [
    {
     "name": "stdout",
     "output_type": "stream",
     "text": [
      "/home/blessyantony/dev/git/zoonosis/src/jupyter_notebooks/datasets/generation/../../../../input/data/coronaviridae/20240313/uniref/aligned/coronaviridae_s_uniref90_embl_hosts_pruned_metadata_corrected_species_virus_host_vertebrates_w_seq_t0.01_c8.csv\n",
      "unaligned_df size = (681, 4)\n",
      "Adding wiv04 to unaligned dataset\n",
      "unaligned_df size = (682, 4)\n",
      "START: Parsing fasta file\n",
      "/home/blessyantony/dev/git/zoonosis/src/jupyter_notebooks/datasets/generation/../../../../input/data/coronaviridae/20240313/uniref/aligned/coronaviridae_s_uniref90_embl_hosts_pruned_metadata_corrected_species_virus_host_vertebrates_w_seq_t0.01_c8_aligned.fasta\n",
      "END: Parsing fasta file\n",
      "682\n",
      "Number of records parsed = 682\n",
      "aligned_df size = (682, 2)\n",
      "merged df size = (682, 5)\n"
     ]
    },
    {
     "data": {
      "text/html": [
       "<div>\n",
       "<style scoped>\n",
       "    .dataframe tbody tr th:only-of-type {\n",
       "        vertical-align: middle;\n",
       "    }\n",
       "\n",
       "    .dataframe tbody tr th {\n",
       "        vertical-align: top;\n",
       "    }\n",
       "\n",
       "    .dataframe thead th {\n",
       "        text-align: right;\n",
       "    }\n",
       "</style>\n",
       "<table border=\"1\" class=\"dataframe\">\n",
       "  <thead>\n",
       "    <tr style=\"text-align: right;\">\n",
       "      <th></th>\n",
       "      <th>uniref90_id</th>\n",
       "      <th>aligned_seq</th>\n",
       "      <th>seq</th>\n",
       "      <th>virus_host_name</th>\n",
       "      <th>human_binary_label</th>\n",
       "    </tr>\n",
       "  </thead>\n",
       "  <tbody>\n",
       "    <tr>\n",
       "      <th>0</th>\n",
       "      <td>WIV04</td>\n",
       "      <td>--------------MFVFLVLLPLVSS--------Q----------...</td>\n",
       "      <td>MFVFLVLLPLVSSQCVNLTTRTQLPPAYTNSFTRGVYYPDKVFRSS...</td>\n",
       "      <td>homo sapiens</td>\n",
       "      <td>homo sapiens</td>\n",
       "    </tr>\n",
       "    <tr>\n",
       "      <th>1</th>\n",
       "      <td>UniRef90_A0A7U3RIT3</td>\n",
       "      <td>--------------MFVFLVLVPLVSS--------Q----------...</td>\n",
       "      <td>MFVFLVLVPLVSSQCVNLTTRTQLPPAYTNSFTRGVYYPDKVFRSS...</td>\n",
       "      <td>homo sapiens</td>\n",
       "      <td>homo sapiens</td>\n",
       "    </tr>\n",
       "    <tr>\n",
       "      <th>2</th>\n",
       "      <td>UniRef90_A0A7U3HGG2</td>\n",
       "      <td>--------------MFVFLVLLPLVSS--------Q----------...</td>\n",
       "      <td>MFVFLVLLPLVSSQCVNLTTRTQLPPAYTNSFTRGVYYPDKVFRSS...</td>\n",
       "      <td>homo sapiens</td>\n",
       "      <td>homo sapiens</td>\n",
       "    </tr>\n",
       "    <tr>\n",
       "      <th>3</th>\n",
       "      <td>UniRef90_A0A7U3EEN6</td>\n",
       "      <td>--------------MFVFLVLLPLVSS--------Q----------...</td>\n",
       "      <td>MFVFLVLLPLVSSQCVNLTTRTQLPPAYTNSFTRGVYYPDKVFRSS...</td>\n",
       "      <td>homo sapiens</td>\n",
       "      <td>homo sapiens</td>\n",
       "    </tr>\n",
       "    <tr>\n",
       "      <th>4</th>\n",
       "      <td>UniRef90_A0A7U3HDM5</td>\n",
       "      <td>--------------MFVFLVLLPLVSS--------Q----------...</td>\n",
       "      <td>MFVFLVLLPLVSSQCVNLTTRTQLPPAYTNSFTRGVYYPDKVFRSS...</td>\n",
       "      <td>homo sapiens</td>\n",
       "      <td>homo sapiens</td>\n",
       "    </tr>\n",
       "  </tbody>\n",
       "</table>\n",
       "</div>"
      ],
      "text/plain": [
       "           uniref90_id                                        aligned_seq                                                seq virus_host_name human_binary_label\n",
       "0                WIV04  --------------MFVFLVLLPLVSS--------Q----------...  MFVFLVLLPLVSSQCVNLTTRTQLPPAYTNSFTRGVYYPDKVFRSS...    homo sapiens       homo sapiens\n",
       "1  UniRef90_A0A7U3RIT3  --------------MFVFLVLVPLVSS--------Q----------...  MFVFLVLVPLVSSQCVNLTTRTQLPPAYTNSFTRGVYYPDKVFRSS...    homo sapiens       homo sapiens\n",
       "2  UniRef90_A0A7U3HGG2  --------------MFVFLVLLPLVSS--------Q----------...  MFVFLVLLPLVSSQCVNLTTRTQLPPAYTNSFTRGVYYPDKVFRSS...    homo sapiens       homo sapiens\n",
       "3  UniRef90_A0A7U3EEN6  --------------MFVFLVLLPLVSS--------Q----------...  MFVFLVLLPLVSSQCVNLTTRTQLPPAYTNSFTRGVYYPDKVFRSS...    homo sapiens       homo sapiens\n",
       "4  UniRef90_A0A7U3HDM5  --------------MFVFLVLLPLVSS--------Q----------...  MFVFLVLLPLVSSQCVNLTTRTQLPPAYTNSFTRGVYYPDKVFRSS...    homo sapiens       homo sapiens"
      ]
     },
     "execution_count": 36,
     "metadata": {},
     "output_type": "execute_result"
    }
   ],
   "source": [
    "aligned_file_path = os.path.join(os.getcwd(), \"..\", \"..\", \"..\",\"..\", \"input/data/coronaviridae/20240313/uniref/aligned/coronaviridae_s_uniref90_embl_hosts_pruned_metadata_corrected_species_virus_host_vertebrates_w_seq_t0.01_c8_aligned.fasta\")\n",
    "unaligned_file_path = os.path.join(os.getcwd(), \"..\", \"..\", \"..\",\"..\", \"input/data/coronaviridae/20240313/uniref/aligned/coronaviridae_s_uniref90_embl_hosts_pruned_metadata_corrected_species_virus_host_vertebrates_w_seq_t0.01_c8.csv\")\n",
    "df = get_aligned_dataset(unaligned_file_path, aligned_file_path)\n",
    "df.head()"
   ]
  },
  {
   "cell_type": "code",
   "execution_count": 39,
   "id": "f21bfbd6",
   "metadata": {},
   "outputs": [],
   "source": [
    "output_file_path = os.path.join(os.getcwd(), \"..\", \"..\", \"..\",\"..\", \"input/data/coronaviridae/20240313/uniref/aligned/coronaviridae_s_uniref90_embl_hosts_pruned_metadata_corrected_species_virus_host_vertebrates_w_seq_t0.01_c8_aligned.csv\")\n",
    "df.to_csv(output_file_path, index=False)"
   ]
  },
  {
   "cell_type": "code",
   "execution_count": 41,
   "id": "34add828",
   "metadata": {},
   "outputs": [
    {
     "name": "stdout",
     "output_type": "stream",
     "text": [
      "Number of unique values = 8\n",
      "       virus_host_name  virus_host_name_count  virus_host_name_percent\n",
      "0        gallus gallus                    332                48.680352\n",
      "1         homo sapiens                    164                24.046921\n",
      "2          felis catus                     68                 9.970674\n",
      "3           sus scrofa                     54                 7.917889\n",
      "4          canis lupus                     33                 4.838710\n",
      "5      rhinolophus sp.                     11                 1.612903\n",
      "6     mustela putorius                     11                 1.612903\n",
      "7  rhinolophus sinicus                      9                 1.319648\n"
     ]
    },
    {
     "data": {
      "text/html": [
       "<div>\n",
       "<style scoped>\n",
       "    .dataframe tbody tr th:only-of-type {\n",
       "        vertical-align: middle;\n",
       "    }\n",
       "\n",
       "    .dataframe tbody tr th {\n",
       "        vertical-align: top;\n",
       "    }\n",
       "\n",
       "    .dataframe thead th {\n",
       "        text-align: right;\n",
       "    }\n",
       "</style>\n",
       "<table border=\"1\" class=\"dataframe\">\n",
       "  <thead>\n",
       "    <tr style=\"text-align: right;\">\n",
       "      <th></th>\n",
       "      <th>virus_host_name</th>\n",
       "      <th>virus_host_name_count</th>\n",
       "      <th>virus_host_name_percent</th>\n",
       "    </tr>\n",
       "  </thead>\n",
       "  <tbody>\n",
       "    <tr>\n",
       "      <th>0</th>\n",
       "      <td>gallus gallus</td>\n",
       "      <td>332</td>\n",
       "      <td>48.680352</td>\n",
       "    </tr>\n",
       "    <tr>\n",
       "      <th>1</th>\n",
       "      <td>homo sapiens</td>\n",
       "      <td>164</td>\n",
       "      <td>24.046921</td>\n",
       "    </tr>\n",
       "    <tr>\n",
       "      <th>2</th>\n",
       "      <td>felis catus</td>\n",
       "      <td>68</td>\n",
       "      <td>9.970674</td>\n",
       "    </tr>\n",
       "    <tr>\n",
       "      <th>3</th>\n",
       "      <td>sus scrofa</td>\n",
       "      <td>54</td>\n",
       "      <td>7.917889</td>\n",
       "    </tr>\n",
       "    <tr>\n",
       "      <th>4</th>\n",
       "      <td>canis lupus</td>\n",
       "      <td>33</td>\n",
       "      <td>4.838710</td>\n",
       "    </tr>\n",
       "    <tr>\n",
       "      <th>5</th>\n",
       "      <td>rhinolophus sp.</td>\n",
       "      <td>11</td>\n",
       "      <td>1.612903</td>\n",
       "    </tr>\n",
       "    <tr>\n",
       "      <th>6</th>\n",
       "      <td>mustela putorius</td>\n",
       "      <td>11</td>\n",
       "      <td>1.612903</td>\n",
       "    </tr>\n",
       "    <tr>\n",
       "      <th>7</th>\n",
       "      <td>rhinolophus sinicus</td>\n",
       "      <td>9</td>\n",
       "      <td>1.319648</td>\n",
       "    </tr>\n",
       "  </tbody>\n",
       "</table>\n",
       "</div>"
      ],
      "text/plain": [
       "       virus_host_name  virus_host_name_count  virus_host_name_percent\n",
       "0        gallus gallus                    332                48.680352\n",
       "1         homo sapiens                    164                24.046921\n",
       "2          felis catus                     68                 9.970674\n",
       "3           sus scrofa                     54                 7.917889\n",
       "4          canis lupus                     33                 4.838710\n",
       "5      rhinolophus sp.                     11                 1.612903\n",
       "6     mustela putorius                     11                 1.612903\n",
       "7  rhinolophus sinicus                      9                 1.319648"
      ]
     },
     "execution_count": 41,
     "metadata": {},
     "output_type": "execute_result"
    }
   ],
   "source": [
    "column_stats(df, \"virus_host_name\")"
   ]
  },
  {
   "cell_type": "markdown",
   "id": "1f87cb01",
   "metadata": {},
   "source": [
    "## Coronaviridae S protein - SARS-CoV-2 only\n",
    "### coronaviridae_s_uniref90_sars_cov_2_aligned.fasta"
   ]
  },
  {
   "cell_type": "code",
   "execution_count": 12,
   "id": "7abf2b3c",
   "metadata": {},
   "outputs": [
    {
     "name": "stdout",
     "output_type": "stream",
     "text": [
      "/home/blessyantony/dev/git/zoonosis/src/jupyter_notebooks/datasets/generation/../../../../input/data/coronaviridae/20240313/uniref/sars_cov_2/coronaviridae_s_uniref90_sars_cov_2.csv\n",
      "unaligned_df size = (94, 4)\n",
      "START: Parsing fasta file\n",
      "/home/blessyantony/dev/git/zoonosis/src/jupyter_notebooks/datasets/generation/../../../../input/data/coronaviridae/20240313/uniref/sars_cov_2/coronaviridae_s_uniref90_sars_cov_2_aligned.fasta\n",
      "END: Parsing fasta file\n",
      "94\n",
      "Number of records parsed = 94\n",
      "aligned_df size = (94, 2)\n",
      "merged df size = (94, 5)\n"
     ]
    },
    {
     "data": {
      "text/html": [
       "<div>\n",
       "<style scoped>\n",
       "    .dataframe tbody tr th:only-of-type {\n",
       "        vertical-align: middle;\n",
       "    }\n",
       "\n",
       "    .dataframe tbody tr th {\n",
       "        vertical-align: top;\n",
       "    }\n",
       "\n",
       "    .dataframe thead th {\n",
       "        text-align: right;\n",
       "    }\n",
       "</style>\n",
       "<table border=\"1\" class=\"dataframe\">\n",
       "  <thead>\n",
       "    <tr style=\"text-align: right;\">\n",
       "      <th></th>\n",
       "      <th>uniref90_id</th>\n",
       "      <th>aligned_seq</th>\n",
       "      <th>seq</th>\n",
       "      <th>virus_host_name</th>\n",
       "      <th>human_binary_label</th>\n",
       "    </tr>\n",
       "  </thead>\n",
       "  <tbody>\n",
       "    <tr>\n",
       "      <th>0</th>\n",
       "      <td>WIV04</td>\n",
       "      <td>MFVFLVLLPLVSSQCVNLTTRTQLPPAYTNSFTRGVYYPDKVFRSS...</td>\n",
       "      <td>MFVFLVLLPLVSSQCVNLTTRTQLPPAYTNSFTRGVYYPDKVFRSS...</td>\n",
       "      <td>homo sapiens</td>\n",
       "      <td>homo sapiens</td>\n",
       "    </tr>\n",
       "    <tr>\n",
       "      <th>1</th>\n",
       "      <td>UniRef90_A0A7U3HF24</td>\n",
       "      <td>------------------------PPAYTNSFTRGVYYPDKVFRSS...</td>\n",
       "      <td>PPAYTNSFTRGVYYPDKVFRSSVLHSTQDLFLPFFSNVTWFHAIHV...</td>\n",
       "      <td>homo sapiens</td>\n",
       "      <td>homo sapiens</td>\n",
       "    </tr>\n",
       "    <tr>\n",
       "      <th>2</th>\n",
       "      <td>UniRef90_A0A7U3DWG5</td>\n",
       "      <td>MFVFLVLLPLVSSQCVNLTTRTQLPPAYTNSFTRGVYYPDKVFRSS...</td>\n",
       "      <td>MFVFLVLLPLVSSQCVNLTTRTQLPPAYTNSFTRGVYYPDKVFRSS...</td>\n",
       "      <td>homo sapiens</td>\n",
       "      <td>homo sapiens</td>\n",
       "    </tr>\n",
       "    <tr>\n",
       "      <th>3</th>\n",
       "      <td>UniRef90_A0A7U3EEK0</td>\n",
       "      <td>MFVFLVLLPLVSSQCVNLTTRTQLPPAYTNSFTRGVYYPDKVFRSS...</td>\n",
       "      <td>MFVFLVLLPLVSSQCVNLTTRTQLPPAYTNSFTRGVYYPDKVFRSS...</td>\n",
       "      <td>homo sapiens</td>\n",
       "      <td>homo sapiens</td>\n",
       "    </tr>\n",
       "    <tr>\n",
       "      <th>4</th>\n",
       "      <td>UniRef90_A0A7U3EEN6</td>\n",
       "      <td>MFVFLVLLPLVSSQCVNLTTRTQLPPAYTNSFTRGVYYPDKVFRSS...</td>\n",
       "      <td>MFVFLVLLPLVSSQCVNLTTRTQLPPAYTNSFTRGVYYPDKVFRSS...</td>\n",
       "      <td>homo sapiens</td>\n",
       "      <td>homo sapiens</td>\n",
       "    </tr>\n",
       "  </tbody>\n",
       "</table>\n",
       "</div>"
      ],
      "text/plain": [
       "           uniref90_id                                        aligned_seq                                                seq virus_host_name human_binary_label\n",
       "0                WIV04  MFVFLVLLPLVSSQCVNLTTRTQLPPAYTNSFTRGVYYPDKVFRSS...  MFVFLVLLPLVSSQCVNLTTRTQLPPAYTNSFTRGVYYPDKVFRSS...    homo sapiens       homo sapiens\n",
       "1  UniRef90_A0A7U3HF24  ------------------------PPAYTNSFTRGVYYPDKVFRSS...  PPAYTNSFTRGVYYPDKVFRSSVLHSTQDLFLPFFSNVTWFHAIHV...    homo sapiens       homo sapiens\n",
       "2  UniRef90_A0A7U3DWG5  MFVFLVLLPLVSSQCVNLTTRTQLPPAYTNSFTRGVYYPDKVFRSS...  MFVFLVLLPLVSSQCVNLTTRTQLPPAYTNSFTRGVYYPDKVFRSS...    homo sapiens       homo sapiens\n",
       "3  UniRef90_A0A7U3EEK0  MFVFLVLLPLVSSQCVNLTTRTQLPPAYTNSFTRGVYYPDKVFRSS...  MFVFLVLLPLVSSQCVNLTTRTQLPPAYTNSFTRGVYYPDKVFRSS...    homo sapiens       homo sapiens\n",
       "4  UniRef90_A0A7U3EEN6  MFVFLVLLPLVSSQCVNLTTRTQLPPAYTNSFTRGVYYPDKVFRSS...  MFVFLVLLPLVSSQCVNLTTRTQLPPAYTNSFTRGVYYPDKVFRSS...    homo sapiens       homo sapiens"
      ]
     },
     "execution_count": 12,
     "metadata": {},
     "output_type": "execute_result"
    }
   ],
   "source": [
    "aligned_file_path = os.path.join(os.getcwd(), \"..\", \"..\", \"..\",\"..\", \"input/data/coronaviridae/20240313/uniref/sars_cov_2/coronaviridae_s_uniref90_sars_cov_2_aligned.fasta\")\n",
    "unaligned_file_path = os.path.join(os.getcwd(), \"..\", \"..\", \"..\",\"..\", \"input/data/coronaviridae/20240313/uniref/sars_cov_2/coronaviridae_s_uniref90_sars_cov_2.csv\")\n",
    "df = get_aligned_dataset(unaligned_file_path, aligned_file_path)\n",
    "df.head()"
   ]
  },
  {
   "cell_type": "code",
   "execution_count": 13,
   "id": "7f461028",
   "metadata": {},
   "outputs": [],
   "source": [
    "df[\"seq_len\"] = df[\"aligned_seq\"].apply(lambda x: len(str(x)))"
   ]
  },
  {
   "cell_type": "code",
   "execution_count": 14,
   "id": "4580d843",
   "metadata": {},
   "outputs": [
    {
     "data": {
      "text/plain": [
       "0    1273\n",
       "1    1273\n",
       "2    1273\n",
       "3    1273\n",
       "4    1273\n",
       "Name: seq_len, dtype: int64"
      ]
     },
     "execution_count": 14,
     "metadata": {},
     "output_type": "execute_result"
    }
   ],
   "source": [
    "df[\"seq_len\"].head()"
   ]
  },
  {
   "cell_type": "code",
   "execution_count": 15,
   "id": "17048179",
   "metadata": {},
   "outputs": [],
   "source": [
    "aligned_csv_file_path = os.path.join(os.getcwd(), \"..\", \"..\", \"..\",\"..\", \"input/data/coronaviridae/20240313/uniref/sars_cov_2/coronaviridae_s_uniref90_sars_cov_2_aligned.csv\")\n",
    "df.to_csv(aligned_csv_file_path, index=False)"
   ]
  },
  {
   "cell_type": "code",
   "execution_count": null,
   "id": "77d3b6f6",
   "metadata": {},
   "outputs": [],
   "source": []
  }
 ],
 "metadata": {
  "kernelspec": {
   "display_name": "Python 3 (ipykernel)",
   "language": "python",
   "name": "python3"
  },
  "language_info": {
   "codemirror_mode": {
    "name": "ipython",
    "version": 3
   },
   "file_extension": ".py",
   "mimetype": "text/x-python",
   "name": "python",
   "nbconvert_exporter": "python",
   "pygments_lexer": "ipython3",
   "version": "3.8.12"
  }
 },
 "nbformat": 4,
 "nbformat_minor": 5
}
