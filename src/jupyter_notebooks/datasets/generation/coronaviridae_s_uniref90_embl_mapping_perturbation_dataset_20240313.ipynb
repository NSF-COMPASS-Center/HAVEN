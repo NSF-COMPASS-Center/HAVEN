{
 "cells": [
  {
   "cell_type": "code",
   "execution_count": 1,
   "id": "1758a8ea",
   "metadata": {},
   "outputs": [],
   "source": [
    "! conda activate zoonosis"
   ]
  },
  {
   "cell_type": "code",
   "execution_count": 2,
   "id": "af85c69f",
   "metadata": {},
   "outputs": [],
   "source": [
    "import pandas as pd\n",
    "import os\n",
    "import numpy as np\n",
    "import seaborn as sns\n",
    "from ast import literal_eval\n",
    "import unicodedata\n",
    "import matplotlib.pyplot as plt\n",
    "pd.set_option(\"display.max_rows\", None)\n",
    "pd.set_option('display.width', 1000)"
   ]
  },
  {
   "cell_type": "code",
   "execution_count": 3,
   "id": "de798ac2",
   "metadata": {},
   "outputs": [
    {
     "data": {
      "text/plain": [
       "['C:\\\\Dev\\\\git\\\\zoonosis\\\\src\\\\jupyter_notebooks\\\\datasets\\\\generation',\n",
       " 'C:\\\\Users\\\\bless\\\\anaconda3\\\\python39.zip',\n",
       " 'C:\\\\Users\\\\bless\\\\anaconda3\\\\DLLs',\n",
       " 'C:\\\\Users\\\\bless\\\\anaconda3\\\\lib',\n",
       " 'C:\\\\Users\\\\bless\\\\anaconda3',\n",
       " '',\n",
       " 'C:\\\\Users\\\\bless\\\\anaconda3\\\\lib\\\\site-packages',\n",
       " 'C:\\\\Users\\\\bless\\\\anaconda3\\\\lib\\\\site-packages\\\\locket-0.2.1-py3.9.egg',\n",
       " 'C:\\\\Users\\\\bless\\\\anaconda3\\\\lib\\\\site-packages\\\\win32',\n",
       " 'C:\\\\Users\\\\bless\\\\anaconda3\\\\lib\\\\site-packages\\\\win32\\\\lib',\n",
       " 'C:\\\\Users\\\\bless\\\\anaconda3\\\\lib\\\\site-packages\\\\Pythonwin',\n",
       " 'C:\\\\Users\\\\bless\\\\anaconda3\\\\lib\\\\site-packages\\\\IPython\\\\extensions',\n",
       " 'C:\\\\Users\\\\bless\\\\.ipython',\n",
       " 'C:\\\\Dev\\\\git\\\\zoonosis\\\\src\\\\jupyter_notebooks\\\\datasets\\\\generation\\\\..\\\\..\\\\..\\\\..\\\\..',\n",
       " 'C:\\\\Dev\\\\git\\\\zoonosis\\\\src\\\\jupyter_notebooks\\\\datasets\\\\generation\\\\..\\\\..\\\\..\\\\..',\n",
       " 'C:\\\\Dev\\\\git\\\\zoonosis\\\\src\\\\jupyter_notebooks\\\\datasets\\\\generation\\\\..\\\\..\\\\..',\n",
       " 'C:\\\\Dev\\\\git\\\\zoonosis\\\\src\\\\jupyter_notebooks\\\\datasets\\\\generation\\\\..\\\\..']"
      ]
     },
     "execution_count": 3,
     "metadata": {},
     "output_type": "execute_result"
    }
   ],
   "source": [
    "import sys\n",
    "import os\n",
    "sys.path.append(os.path.join(os.getcwd(), \"..\", \"..\", \"..\", \"..\", \"..\"))\n",
    "sys.path.append(os.path.join(os.getcwd(), \"..\", \"..\", \"..\", \"..\"))\n",
    "sys.path.append(os.path.join(os.getcwd(), \"..\", \"..\", \"..\"))\n",
    "sys.path.append(os.path.join(os.getcwd(), \"..\", \"..\"))\n",
    "sys.path"
   ]
  },
  {
   "cell_type": "code",
   "execution_count": 4,
   "id": "574a913d",
   "metadata": {},
   "outputs": [],
   "source": [
    "def column_stats(df, column_name, n=None):\n",
    "    if n is None:\n",
    "        n = df.shape[0]\n",
    "    count_column_name = column_name + \"_count\"\n",
    "    count_df = pd.DataFrame(df[column_name].value_counts()).reset_index()\n",
    "    count_df.columns=[column_name, count_column_name]\n",
    "    count_df[column_name + \"_percent\"] = count_df[count_column_name].apply(lambda x: int(x)/n*100)\n",
    "    print(f\"Number of unique values = {len(df[column_name].unique())}\")\n",
    "    print(f\"{count_df}\")\n",
    "    return count_df"
   ]
  },
  {
   "cell_type": "code",
   "execution_count": 5,
   "id": "05e2a3dc",
   "metadata": {},
   "outputs": [],
   "source": [
    "def print_seq_len_histogram(df, n_bins):\n",
    "    sns.histplot(df[\"seq_len\"])\n",
    "    print(f\"min seq len = {min(df['seq_len'])}\")\n",
    "    print(f\"max seq len = {max(df['seq_len'])}\")\n",
    "    plt.show()\n",
    "    \n",
    "    freq, bins = np.histogram(df[\"seq_len\"], bins=n_bins)\n",
    "    n = df.shape[0]\n",
    "    hist_map = []\n",
    "    for i in range(n_bins):\n",
    "        hist_map.append({\"start\": bins[i], \"end\":bins[i+1], \"count\": freq[i], \"percentage\": freq[i]/n*100})\n",
    "    hist_df = pd.DataFrame(hist_map)\n",
    "    print(hist_df)"
   ]
  },
  {
   "cell_type": "code",
   "execution_count": 18,
   "id": "5bf971ec",
   "metadata": {},
   "outputs": [],
   "source": [
    "def parse_uniref_fasta_file(input_file_path):\n",
    "    sequences = []\n",
    "    i = 0\n",
    "    print(\"START: Parsing fasta file\")\n",
    "    # parse fasta file to extract uniref90_id, tax_id of virus/organism, and protein sequence\n",
    "    with open(input_file_path) as f:\n",
    "        i = 0\n",
    "        for record in SeqIO.parse(f, \"fasta\"):\n",
    "            i += 1\n",
    "            sequences.append({UNIREF90_ID: record.id, SEQUENCE: str(record.seq)})\n",
    "\n",
    "    print(\"END: Parsing fasta file\")\n",
    "    print(len(sequences))\n",
    "    print(f\"Number of records parsed = {i}\")\n",
    "    return pd.DataFrame(sequences)\n",
    "    "
   ]
  },
  {
   "cell_type": "markdown",
   "id": "2a6f8639",
   "metadata": {},
   "source": [
    "# Coronaviridae S Protein UniRef90 - EMBL mapping Perturbation Dataset Generation\n",
    "## WIV04 S Protein"
   ]
  },
  {
   "cell_type": "markdown",
   "id": "2cdc45da",
   "metadata": {},
   "source": [
    "### wiv04/perturbed_dataset/wiv04_s_prot.csv"
   ]
  },
  {
   "cell_type": "code",
   "execution_count": 8,
   "id": "bc239dcc",
   "metadata": {},
   "outputs": [
    {
     "data": {
      "text/html": [
       "<div>\n",
       "<style scoped>\n",
       "    .dataframe tbody tr th:only-of-type {\n",
       "        vertical-align: middle;\n",
       "    }\n",
       "\n",
       "    .dataframe tbody tr th {\n",
       "        vertical-align: top;\n",
       "    }\n",
       "\n",
       "    .dataframe thead th {\n",
       "        text-align: right;\n",
       "    }\n",
       "</style>\n",
       "<table border=\"1\" class=\"dataframe\">\n",
       "  <thead>\n",
       "    <tr style=\"text-align: right;\">\n",
       "      <th></th>\n",
       "      <th>id</th>\n",
       "      <th>seq</th>\n",
       "    </tr>\n",
       "  </thead>\n",
       "  <tbody>\n",
       "    <tr>\n",
       "      <th>0</th>\n",
       "      <td>WIV04_M_0_A</td>\n",
       "      <td>AFVFLVLLPLVSSQCVNLTTRTQLPPAYTNSFTRGVYYPDKVFRSS...</td>\n",
       "    </tr>\n",
       "    <tr>\n",
       "      <th>1</th>\n",
       "      <td>WIV04_M_0_B</td>\n",
       "      <td>BFVFLVLLPLVSSQCVNLTTRTQLPPAYTNSFTRGVYYPDKVFRSS...</td>\n",
       "    </tr>\n",
       "    <tr>\n",
       "      <th>2</th>\n",
       "      <td>WIV04_M_0_C</td>\n",
       "      <td>CFVFLVLLPLVSSQCVNLTTRTQLPPAYTNSFTRGVYYPDKVFRSS...</td>\n",
       "    </tr>\n",
       "    <tr>\n",
       "      <th>3</th>\n",
       "      <td>WIV04_M_0_D</td>\n",
       "      <td>DFVFLVLLPLVSSQCVNLTTRTQLPPAYTNSFTRGVYYPDKVFRSS...</td>\n",
       "    </tr>\n",
       "    <tr>\n",
       "      <th>4</th>\n",
       "      <td>WIV04_M_0_E</td>\n",
       "      <td>EFVFLVLLPLVSSQCVNLTTRTQLPPAYTNSFTRGVYYPDKVFRSS...</td>\n",
       "    </tr>\n",
       "  </tbody>\n",
       "</table>\n",
       "</div>"
      ],
      "text/plain": [
       "            id                                                seq\n",
       "0  WIV04_M_0_A  AFVFLVLLPLVSSQCVNLTTRTQLPPAYTNSFTRGVYYPDKVFRSS...\n",
       "1  WIV04_M_0_B  BFVFLVLLPLVSSQCVNLTTRTQLPPAYTNSFTRGVYYPDKVFRSS...\n",
       "2  WIV04_M_0_C  CFVFLVLLPLVSSQCVNLTTRTQLPPAYTNSFTRGVYYPDKVFRSS...\n",
       "3  WIV04_M_0_D  DFVFLVLLPLVSSQCVNLTTRTQLPPAYTNSFTRGVYYPDKVFRSS...\n",
       "4  WIV04_M_0_E  EFVFLVLLPLVSSQCVNLTTRTQLPPAYTNSFTRGVYYPDKVFRSS..."
      ]
     },
     "execution_count": 8,
     "metadata": {},
     "output_type": "execute_result"
    }
   ],
   "source": [
    "wiv04_pertubed_dataset_file_path = os.path.join(os.getcwd(), \"..\", \"..\", \"..\",\"..\", \"input/data/coronaviridae/20240313/wiv04/perturbed_dataset/wiv04_s_prot.csv\")\n",
    "wiv04_df = pd.read_csv(wiv04_pertubed_dataset_file_path)\n",
    "wiv04_df.head()"
   ]
  },
  {
   "cell_type": "code",
   "execution_count": 11,
   "id": "7d8d499b",
   "metadata": {},
   "outputs": [],
   "source": [
    "wiv04_df[\"virus_host_name\"] = \"homo sapiens\"\n",
    "wiv04_df[\"human_binary_label\"] = \"homo sapiens\""
   ]
  },
  {
   "cell_type": "code",
   "execution_count": 12,
   "id": "b8bb1d60",
   "metadata": {},
   "outputs": [],
   "source": [
    "wiv04_df.to_csv(wiv04_pertubed_dataset_file_path, index=False)"
   ]
  },
  {
   "cell_type": "code",
   "execution_count": null,
   "id": "b85bf0b0",
   "metadata": {},
   "outputs": [],
   "source": []
  }
 ],
 "metadata": {
  "kernelspec": {
   "display_name": "Python 3 (ipykernel)",
   "language": "python",
   "name": "python3"
  },
  "language_info": {
   "codemirror_mode": {
    "name": "ipython",
    "version": 3
   },
   "file_extension": ".py",
   "mimetype": "text/x-python",
   "name": "python",
   "nbconvert_exporter": "python",
   "pygments_lexer": "ipython3",
   "version": "3.9.7"
  }
 },
 "nbformat": 4,
 "nbformat_minor": 5
}
