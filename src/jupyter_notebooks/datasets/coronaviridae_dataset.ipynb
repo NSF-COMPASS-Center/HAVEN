{
 "cells": [
  {
   "cell_type": "code",
   "execution_count": 59,
   "id": "af85c69f",
   "metadata": {},
   "outputs": [],
   "source": [
    "import pandas as pd\n",
    "import os\n",
    "import seaborn as sns\n",
    "import matplotlib.pyplot as plt\n",
    "\n",
    "from Bio import SeqIO\n",
    "from Bio.Seq import Seq\n",
    "from Bio import motifs"
   ]
  },
  {
   "cell_type": "markdown",
   "id": "b90f37de",
   "metadata": {},
   "source": [
    "# UniProtKB"
   ]
  },
  {
   "cell_type": "code",
   "execution_count": 2,
   "id": "a2da5915",
   "metadata": {},
   "outputs": [],
   "source": [
    "data_filepath = \"input/data/coronaviridae/coronaviridae_seq_parsed.csv\"\n",
    "metadata_filepath = \"input/data/coronaviridae/uniprot-coronoviridae-s-2023.05.03.tsv\""
   ]
  },
  {
   "cell_type": "code",
   "execution_count": 12,
   "id": "5588b0f3",
   "metadata": {},
   "outputs": [],
   "source": [
    "data_df = pd.read_csv(os.path.join(os.getcwd(), \"..\", \"..\", \"..\", data_filepath))\n",
    "metadata_df = pd.read_table(os.path.join(os.getcwd(), \"..\", \"..\", \"..\", metadata_filepath))"
   ]
  },
  {
   "cell_type": "code",
   "execution_count": 13,
   "id": "db850fdc",
   "metadata": {},
   "outputs": [
    {
     "name": "stdout",
     "output_type": "stream",
     "text": [
      "(8692, 2)\n"
     ]
    },
    {
     "data": {
      "text/html": [
       "<div>\n",
       "<style scoped>\n",
       "    .dataframe tbody tr th:only-of-type {\n",
       "        vertical-align: middle;\n",
       "    }\n",
       "\n",
       "    .dataframe tbody tr th {\n",
       "        vertical-align: top;\n",
       "    }\n",
       "\n",
       "    .dataframe thead th {\n",
       "        text-align: right;\n",
       "    }\n",
       "</style>\n",
       "<table border=\"1\" class=\"dataframe\">\n",
       "  <thead>\n",
       "    <tr style=\"text-align: right;\">\n",
       "      <th></th>\n",
       "      <th>uniprot_id</th>\n",
       "      <th>seq</th>\n",
       "    </tr>\n",
       "  </thead>\n",
       "  <tbody>\n",
       "    <tr>\n",
       "      <th>0</th>\n",
       "      <td>A0A2R4KP93</td>\n",
       "      <td>MRLSVCLLMFLLTPIKGDVDSGPPSSATSCKEADMRNSSSEFFNKQ...</td>\n",
       "    </tr>\n",
       "    <tr>\n",
       "      <th>1</th>\n",
       "      <td>A0A6B9WHD3</td>\n",
       "      <td>MFVFLVLLPLVSSQCVNLTTRTQLPPAYTNSSTRGVYYPDKVFRSS...</td>\n",
       "    </tr>\n",
       "    <tr>\n",
       "      <th>2</th>\n",
       "      <td>A0A6G6A1M4</td>\n",
       "      <td>MFVFLFVLPLVSSQCVNLTTRTGIPPGYTNSSTRGVYYPDKVFRSS...</td>\n",
       "    </tr>\n",
       "    <tr>\n",
       "      <th>3</th>\n",
       "      <td>A0A6M3G9R1</td>\n",
       "      <td>MLFFFFLHFALVNSQCVNLTGRAAIQPSFTNSSQRGVYYPDTIFRS...</td>\n",
       "    </tr>\n",
       "    <tr>\n",
       "      <th>4</th>\n",
       "      <td>A3EX94</td>\n",
       "      <td>MTLLMCLLMSLLIFVRGCDSQFVDMSPASNTSECLESQVDAAAFSK...</td>\n",
       "    </tr>\n",
       "  </tbody>\n",
       "</table>\n",
       "</div>"
      ],
      "text/plain": [
       "   uniprot_id                                                seq\n",
       "0  A0A2R4KP93  MRLSVCLLMFLLTPIKGDVDSGPPSSATSCKEADMRNSSSEFFNKQ...\n",
       "1  A0A6B9WHD3  MFVFLVLLPLVSSQCVNLTTRTQLPPAYTNSSTRGVYYPDKVFRSS...\n",
       "2  A0A6G6A1M4  MFVFLFVLPLVSSQCVNLTTRTGIPPGYTNSSTRGVYYPDKVFRSS...\n",
       "3  A0A6M3G9R1  MLFFFFLHFALVNSQCVNLTGRAAIQPSFTNSSQRGVYYPDTIFRS...\n",
       "4      A3EX94  MTLLMCLLMSLLIFVRGCDSQFVDMSPASNTSECLESQVDAAAFSK..."
      ]
     },
     "execution_count": 13,
     "metadata": {},
     "output_type": "execute_result"
    }
   ],
   "source": [
    "print(data_df.shape)\n",
    "data_df.head()"
   ]
  },
  {
   "cell_type": "code",
   "execution_count": 14,
   "id": "06237888",
   "metadata": {},
   "outputs": [
    {
     "name": "stdout",
     "output_type": "stream",
     "text": [
      "(8692, 7)\n"
     ]
    },
    {
     "data": {
      "text/html": [
       "<div>\n",
       "<style scoped>\n",
       "    .dataframe tbody tr th:only-of-type {\n",
       "        vertical-align: middle;\n",
       "    }\n",
       "\n",
       "    .dataframe tbody tr th {\n",
       "        vertical-align: top;\n",
       "    }\n",
       "\n",
       "    .dataframe thead th {\n",
       "        text-align: right;\n",
       "    }\n",
       "</style>\n",
       "<table border=\"1\" class=\"dataframe\">\n",
       "  <thead>\n",
       "    <tr style=\"text-align: right;\">\n",
       "      <th></th>\n",
       "      <th>Entry</th>\n",
       "      <th>Entry Name</th>\n",
       "      <th>Protein names</th>\n",
       "      <th>Gene Names</th>\n",
       "      <th>Organism</th>\n",
       "      <th>Length</th>\n",
       "      <th>Virus hosts</th>\n",
       "    </tr>\n",
       "  </thead>\n",
       "  <tbody>\n",
       "    <tr>\n",
       "      <th>0</th>\n",
       "      <td>A0A2R4KP93</td>\n",
       "      <td>A0A2R4KP93_MERS</td>\n",
       "      <td>Spike glycoprotein (S glycoprotein) (E2) (Pepl...</td>\n",
       "      <td>S</td>\n",
       "      <td>Middle East respiratory syndrome-related coron...</td>\n",
       "      <td>1349</td>\n",
       "      <td>NaN</td>\n",
       "    </tr>\n",
       "    <tr>\n",
       "      <th>1</th>\n",
       "      <td>A0A6B9WHD3</td>\n",
       "      <td>A0A6B9WHD3_SARS</td>\n",
       "      <td>Spike glycoprotein (S glycoprotein) (E2) (Pepl...</td>\n",
       "      <td>S</td>\n",
       "      <td>Bat coronavirus RaTG13</td>\n",
       "      <td>1269</td>\n",
       "      <td>NaN</td>\n",
       "    </tr>\n",
       "    <tr>\n",
       "      <th>2</th>\n",
       "      <td>A0A6G6A1M4</td>\n",
       "      <td>A0A6G6A1M4_9BETC</td>\n",
       "      <td>Spike glycoprotein (S glycoprotein) (E2) (Pepl...</td>\n",
       "      <td>S</td>\n",
       "      <td>Pangolin coronavirus</td>\n",
       "      <td>1267</td>\n",
       "      <td>NaN</td>\n",
       "    </tr>\n",
       "    <tr>\n",
       "      <th>3</th>\n",
       "      <td>A0A6M3G9R1</td>\n",
       "      <td>A0A6M3G9R1_9BETC</td>\n",
       "      <td>Spike glycoprotein (S glycoprotein) (E2) (Pepl...</td>\n",
       "      <td>S</td>\n",
       "      <td>Pangolin coronavirus</td>\n",
       "      <td>1265</td>\n",
       "      <td>NaN</td>\n",
       "    </tr>\n",
       "    <tr>\n",
       "      <th>4</th>\n",
       "      <td>A3EX94</td>\n",
       "      <td>SPIKE_BCHK4</td>\n",
       "      <td>Spike glycoprotein (S glycoprotein) (E2) (Pepl...</td>\n",
       "      <td>S 2</td>\n",
       "      <td>Bat coronavirus HKU4 (BtCoV) (BtCoV/HKU4/2004)</td>\n",
       "      <td>1352</td>\n",
       "      <td>Tylonycteris pachypus (Lesser bamboo bat) (Ves...</td>\n",
       "    </tr>\n",
       "  </tbody>\n",
       "</table>\n",
       "</div>"
      ],
      "text/plain": [
       "        Entry        Entry Name  \\\n",
       "0  A0A2R4KP93   A0A2R4KP93_MERS   \n",
       "1  A0A6B9WHD3   A0A6B9WHD3_SARS   \n",
       "2  A0A6G6A1M4  A0A6G6A1M4_9BETC   \n",
       "3  A0A6M3G9R1  A0A6M3G9R1_9BETC   \n",
       "4      A3EX94       SPIKE_BCHK4   \n",
       "\n",
       "                                       Protein names Gene Names  \\\n",
       "0  Spike glycoprotein (S glycoprotein) (E2) (Pepl...          S   \n",
       "1  Spike glycoprotein (S glycoprotein) (E2) (Pepl...          S   \n",
       "2  Spike glycoprotein (S glycoprotein) (E2) (Pepl...          S   \n",
       "3  Spike glycoprotein (S glycoprotein) (E2) (Pepl...          S   \n",
       "4  Spike glycoprotein (S glycoprotein) (E2) (Pepl...        S 2   \n",
       "\n",
       "                                            Organism  Length  \\\n",
       "0  Middle East respiratory syndrome-related coron...    1349   \n",
       "1                             Bat coronavirus RaTG13    1269   \n",
       "2                               Pangolin coronavirus    1267   \n",
       "3                               Pangolin coronavirus    1265   \n",
       "4     Bat coronavirus HKU4 (BtCoV) (BtCoV/HKU4/2004)    1352   \n",
       "\n",
       "                                         Virus hosts  \n",
       "0                                                NaN  \n",
       "1                                                NaN  \n",
       "2                                                NaN  \n",
       "3                                                NaN  \n",
       "4  Tylonycteris pachypus (Lesser bamboo bat) (Ves...  "
      ]
     },
     "execution_count": 14,
     "metadata": {},
     "output_type": "execute_result"
    }
   ],
   "source": [
    "print(metadata_df.shape)\n",
    "metadata_df.head()"
   ]
  },
  {
   "cell_type": "code",
   "execution_count": 15,
   "id": "d09a2c66",
   "metadata": {},
   "outputs": [],
   "source": [
    "df = data_df.set_index(\"uniprot_id\").join(metadata_df.set_index(\"Entry\"))"
   ]
  },
  {
   "cell_type": "code",
   "execution_count": 16,
   "id": "d3329b84",
   "metadata": {},
   "outputs": [
    {
     "data": {
      "text/plain": [
       "(8692, 7)"
      ]
     },
     "execution_count": 16,
     "metadata": {},
     "output_type": "execute_result"
    }
   ],
   "source": [
    "df.shape"
   ]
  },
  {
   "cell_type": "code",
   "execution_count": 17,
   "id": "3dea3716",
   "metadata": {},
   "outputs": [
    {
     "data": {
      "text/html": [
       "<div>\n",
       "<style scoped>\n",
       "    .dataframe tbody tr th:only-of-type {\n",
       "        vertical-align: middle;\n",
       "    }\n",
       "\n",
       "    .dataframe tbody tr th {\n",
       "        vertical-align: top;\n",
       "    }\n",
       "\n",
       "    .dataframe thead th {\n",
       "        text-align: right;\n",
       "    }\n",
       "</style>\n",
       "<table border=\"1\" class=\"dataframe\">\n",
       "  <thead>\n",
       "    <tr style=\"text-align: right;\">\n",
       "      <th></th>\n",
       "      <th>uniprot_id</th>\n",
       "      <th>seq</th>\n",
       "      <th>Entry Name</th>\n",
       "      <th>Protein names</th>\n",
       "      <th>Gene Names</th>\n",
       "      <th>Organism</th>\n",
       "      <th>Length</th>\n",
       "      <th>Virus hosts</th>\n",
       "    </tr>\n",
       "  </thead>\n",
       "  <tbody>\n",
       "    <tr>\n",
       "      <th>0</th>\n",
       "      <td>A0A2R4KP93</td>\n",
       "      <td>MRLSVCLLMFLLTPIKGDVDSGPPSSATSCKEADMRNSSSEFFNKQ...</td>\n",
       "      <td>A0A2R4KP93_MERS</td>\n",
       "      <td>Spike glycoprotein (S glycoprotein) (E2) (Pepl...</td>\n",
       "      <td>S</td>\n",
       "      <td>Middle East respiratory syndrome-related coron...</td>\n",
       "      <td>1349</td>\n",
       "      <td>NaN</td>\n",
       "    </tr>\n",
       "    <tr>\n",
       "      <th>1</th>\n",
       "      <td>A0A6B9WHD3</td>\n",
       "      <td>MFVFLVLLPLVSSQCVNLTTRTQLPPAYTNSSTRGVYYPDKVFRSS...</td>\n",
       "      <td>A0A6B9WHD3_SARS</td>\n",
       "      <td>Spike glycoprotein (S glycoprotein) (E2) (Pepl...</td>\n",
       "      <td>S</td>\n",
       "      <td>Bat coronavirus RaTG13</td>\n",
       "      <td>1269</td>\n",
       "      <td>NaN</td>\n",
       "    </tr>\n",
       "    <tr>\n",
       "      <th>2</th>\n",
       "      <td>A0A6G6A1M4</td>\n",
       "      <td>MFVFLFVLPLVSSQCVNLTTRTGIPPGYTNSSTRGVYYPDKVFRSS...</td>\n",
       "      <td>A0A6G6A1M4_9BETC</td>\n",
       "      <td>Spike glycoprotein (S glycoprotein) (E2) (Pepl...</td>\n",
       "      <td>S</td>\n",
       "      <td>Pangolin coronavirus</td>\n",
       "      <td>1267</td>\n",
       "      <td>NaN</td>\n",
       "    </tr>\n",
       "    <tr>\n",
       "      <th>3</th>\n",
       "      <td>A0A6M3G9R1</td>\n",
       "      <td>MLFFFFLHFALVNSQCVNLTGRAAIQPSFTNSSQRGVYYPDTIFRS...</td>\n",
       "      <td>A0A6M3G9R1_9BETC</td>\n",
       "      <td>Spike glycoprotein (S glycoprotein) (E2) (Pepl...</td>\n",
       "      <td>S</td>\n",
       "      <td>Pangolin coronavirus</td>\n",
       "      <td>1265</td>\n",
       "      <td>NaN</td>\n",
       "    </tr>\n",
       "    <tr>\n",
       "      <th>4</th>\n",
       "      <td>A3EX94</td>\n",
       "      <td>MTLLMCLLMSLLIFVRGCDSQFVDMSPASNTSECLESQVDAAAFSK...</td>\n",
       "      <td>SPIKE_BCHK4</td>\n",
       "      <td>Spike glycoprotein (S glycoprotein) (E2) (Pepl...</td>\n",
       "      <td>S 2</td>\n",
       "      <td>Bat coronavirus HKU4 (BtCoV) (BtCoV/HKU4/2004)</td>\n",
       "      <td>1352</td>\n",
       "      <td>Tylonycteris pachypus (Lesser bamboo bat) (Ves...</td>\n",
       "    </tr>\n",
       "  </tbody>\n",
       "</table>\n",
       "</div>"
      ],
      "text/plain": [
       "   uniprot_id                                                seq  \\\n",
       "0  A0A2R4KP93  MRLSVCLLMFLLTPIKGDVDSGPPSSATSCKEADMRNSSSEFFNKQ...   \n",
       "1  A0A6B9WHD3  MFVFLVLLPLVSSQCVNLTTRTQLPPAYTNSSTRGVYYPDKVFRSS...   \n",
       "2  A0A6G6A1M4  MFVFLFVLPLVSSQCVNLTTRTGIPPGYTNSSTRGVYYPDKVFRSS...   \n",
       "3  A0A6M3G9R1  MLFFFFLHFALVNSQCVNLTGRAAIQPSFTNSSQRGVYYPDTIFRS...   \n",
       "4      A3EX94  MTLLMCLLMSLLIFVRGCDSQFVDMSPASNTSECLESQVDAAAFSK...   \n",
       "\n",
       "         Entry Name                                      Protein names  \\\n",
       "0   A0A2R4KP93_MERS  Spike glycoprotein (S glycoprotein) (E2) (Pepl...   \n",
       "1   A0A6B9WHD3_SARS  Spike glycoprotein (S glycoprotein) (E2) (Pepl...   \n",
       "2  A0A6G6A1M4_9BETC  Spike glycoprotein (S glycoprotein) (E2) (Pepl...   \n",
       "3  A0A6M3G9R1_9BETC  Spike glycoprotein (S glycoprotein) (E2) (Pepl...   \n",
       "4       SPIKE_BCHK4  Spike glycoprotein (S glycoprotein) (E2) (Pepl...   \n",
       "\n",
       "  Gene Names                                           Organism  Length  \\\n",
       "0          S  Middle East respiratory syndrome-related coron...    1349   \n",
       "1          S                             Bat coronavirus RaTG13    1269   \n",
       "2          S                               Pangolin coronavirus    1267   \n",
       "3          S                               Pangolin coronavirus    1265   \n",
       "4        S 2     Bat coronavirus HKU4 (BtCoV) (BtCoV/HKU4/2004)    1352   \n",
       "\n",
       "                                         Virus hosts  \n",
       "0                                                NaN  \n",
       "1                                                NaN  \n",
       "2                                                NaN  \n",
       "3                                                NaN  \n",
       "4  Tylonycteris pachypus (Lesser bamboo bat) (Ves...  "
      ]
     },
     "execution_count": 17,
     "metadata": {},
     "output_type": "execute_result"
    }
   ],
   "source": [
    "df.reset_index(inplace=True)\n",
    "df.head()"
   ]
  },
  {
   "cell_type": "code",
   "execution_count": 18,
   "id": "16f1307f",
   "metadata": {},
   "outputs": [
    {
     "name": "stdout",
     "output_type": "stream",
     "text": [
      "(8692, 5)\n"
     ]
    }
   ],
   "source": [
    "df = df[[\"uniprot_id\", \"seq\", \"Organism\", \"Length\", \"Virus hosts\"]]\n",
    "df.rename(columns={\"uniprot_id\": \"id\", \"Organism\": \"virus\", \"Length\": \"seq_len\", \"Virus hosts\": \"virus_host\"}, inplace=True)\n",
    "print(df.shape)"
   ]
  },
  {
   "cell_type": "code",
   "execution_count": 19,
   "id": "4d9de6bd",
   "metadata": {},
   "outputs": [
    {
     "data": {
      "text/html": [
       "<div>\n",
       "<style scoped>\n",
       "    .dataframe tbody tr th:only-of-type {\n",
       "        vertical-align: middle;\n",
       "    }\n",
       "\n",
       "    .dataframe tbody tr th {\n",
       "        vertical-align: top;\n",
       "    }\n",
       "\n",
       "    .dataframe thead th {\n",
       "        text-align: right;\n",
       "    }\n",
       "</style>\n",
       "<table border=\"1\" class=\"dataframe\">\n",
       "  <thead>\n",
       "    <tr style=\"text-align: right;\">\n",
       "      <th></th>\n",
       "      <th>id</th>\n",
       "      <th>seq</th>\n",
       "      <th>virus</th>\n",
       "      <th>seq_len</th>\n",
       "      <th>virus_host</th>\n",
       "    </tr>\n",
       "  </thead>\n",
       "  <tbody>\n",
       "    <tr>\n",
       "      <th>0</th>\n",
       "      <td>A0A2R4KP93</td>\n",
       "      <td>MRLSVCLLMFLLTPIKGDVDSGPPSSATSCKEADMRNSSSEFFNKQ...</td>\n",
       "      <td>Middle East respiratory syndrome-related coron...</td>\n",
       "      <td>1349</td>\n",
       "      <td>NaN</td>\n",
       "    </tr>\n",
       "    <tr>\n",
       "      <th>1</th>\n",
       "      <td>A0A6B9WHD3</td>\n",
       "      <td>MFVFLVLLPLVSSQCVNLTTRTQLPPAYTNSSTRGVYYPDKVFRSS...</td>\n",
       "      <td>Bat coronavirus RaTG13</td>\n",
       "      <td>1269</td>\n",
       "      <td>NaN</td>\n",
       "    </tr>\n",
       "    <tr>\n",
       "      <th>2</th>\n",
       "      <td>A0A6G6A1M4</td>\n",
       "      <td>MFVFLFVLPLVSSQCVNLTTRTGIPPGYTNSSTRGVYYPDKVFRSS...</td>\n",
       "      <td>Pangolin coronavirus</td>\n",
       "      <td>1267</td>\n",
       "      <td>NaN</td>\n",
       "    </tr>\n",
       "    <tr>\n",
       "      <th>3</th>\n",
       "      <td>A0A6M3G9R1</td>\n",
       "      <td>MLFFFFLHFALVNSQCVNLTGRAAIQPSFTNSSQRGVYYPDTIFRS...</td>\n",
       "      <td>Pangolin coronavirus</td>\n",
       "      <td>1265</td>\n",
       "      <td>NaN</td>\n",
       "    </tr>\n",
       "    <tr>\n",
       "      <th>4</th>\n",
       "      <td>A3EX94</td>\n",
       "      <td>MTLLMCLLMSLLIFVRGCDSQFVDMSPASNTSECLESQVDAAAFSK...</td>\n",
       "      <td>Bat coronavirus HKU4 (BtCoV) (BtCoV/HKU4/2004)</td>\n",
       "      <td>1352</td>\n",
       "      <td>Tylonycteris pachypus (Lesser bamboo bat) (Ves...</td>\n",
       "    </tr>\n",
       "  </tbody>\n",
       "</table>\n",
       "</div>"
      ],
      "text/plain": [
       "           id                                                seq  \\\n",
       "0  A0A2R4KP93  MRLSVCLLMFLLTPIKGDVDSGPPSSATSCKEADMRNSSSEFFNKQ...   \n",
       "1  A0A6B9WHD3  MFVFLVLLPLVSSQCVNLTTRTQLPPAYTNSSTRGVYYPDKVFRSS...   \n",
       "2  A0A6G6A1M4  MFVFLFVLPLVSSQCVNLTTRTGIPPGYTNSSTRGVYYPDKVFRSS...   \n",
       "3  A0A6M3G9R1  MLFFFFLHFALVNSQCVNLTGRAAIQPSFTNSSQRGVYYPDTIFRS...   \n",
       "4      A3EX94  MTLLMCLLMSLLIFVRGCDSQFVDMSPASNTSECLESQVDAAAFSK...   \n",
       "\n",
       "                                               virus  seq_len  \\\n",
       "0  Middle East respiratory syndrome-related coron...     1349   \n",
       "1                             Bat coronavirus RaTG13     1269   \n",
       "2                               Pangolin coronavirus     1267   \n",
       "3                               Pangolin coronavirus     1265   \n",
       "4     Bat coronavirus HKU4 (BtCoV) (BtCoV/HKU4/2004)     1352   \n",
       "\n",
       "                                          virus_host  \n",
       "0                                                NaN  \n",
       "1                                                NaN  \n",
       "2                                                NaN  \n",
       "3                                                NaN  \n",
       "4  Tylonycteris pachypus (Lesser bamboo bat) (Ves...  "
      ]
     },
     "execution_count": 19,
     "metadata": {},
     "output_type": "execute_result"
    }
   ],
   "source": [
    "df.head()"
   ]
  },
  {
   "cell_type": "code",
   "execution_count": 20,
   "id": "cbfbbe12",
   "metadata": {},
   "outputs": [
    {
     "name": "stdout",
     "output_type": "stream",
     "text": [
      "n_virus_host_nan= 6146\n"
     ]
    }
   ],
   "source": [
    "n_virus_host_nan = df[\"virus_host\"].isna().sum()\n",
    "print(f\"n_virus_host_nan= {n_virus_host_nan}\")"
   ]
  },
  {
   "cell_type": "code",
   "execution_count": 21,
   "id": "d6a382f6",
   "metadata": {},
   "outputs": [],
   "source": [
    "virus_host_nan_df = df[df[\"virus_host\"].isna()]"
   ]
  },
  {
   "cell_type": "code",
   "execution_count": 22,
   "id": "65764d91",
   "metadata": {},
   "outputs": [
    {
     "data": {
      "text/plain": [
       "(6146, 5)"
      ]
     },
     "execution_count": 22,
     "metadata": {},
     "output_type": "execute_result"
    }
   ],
   "source": [
    "virus_host_nan_df.shape"
   ]
  },
  {
   "cell_type": "code",
   "execution_count": 23,
   "id": "200a5ed0",
   "metadata": {},
   "outputs": [
    {
     "data": {
      "text/plain": [
       "Porcine epidemic diarrhea virus                                    2611\n",
       "Infectious bronchitis virus                                         800\n",
       "Feline coronavirus                                                  486\n",
       "Canine coronavirus                                                  455\n",
       "Middle East respiratory syndrome-related coronavirus (MERS-CoV)     349\n",
       "                                                                   ... \n",
       "Bat SARS coronavirus HKU3-2                                           1\n",
       "Bat SARS coronavirus HKU3-3                                           1\n",
       "SARS coronavirus ZJ02                                                 1\n",
       "SARS coronavirus Frankfurt 1                                          1\n",
       "Bat SARS-like coronavirus Rs4087-1                                    1\n",
       "Name: virus, Length: 403, dtype: int64"
      ]
     },
     "execution_count": 23,
     "metadata": {},
     "output_type": "execute_result"
    }
   ],
   "source": [
    "virus_host_nan_df[\"virus\"].value_counts()"
   ]
  },
  {
   "cell_type": "code",
   "execution_count": 24,
   "id": "5d45cf66",
   "metadata": {},
   "outputs": [],
   "source": [
    "# Setting virus host for Porcine epidemic diarrhea virus\n",
    "df.loc[df[\"virus\"] == \"Porcine epidemic diarrhea virus\", \"virus_host\"] = \"Sus scrofa (Pig) [TaxID: 9823]\""
   ]
  },
  {
   "cell_type": "code",
   "execution_count": 25,
   "id": "e18cbe24",
   "metadata": {},
   "outputs": [
    {
     "data": {
      "text/plain": [
       "(3535, 5)"
      ]
     },
     "execution_count": 25,
     "metadata": {},
     "output_type": "execute_result"
    }
   ],
   "source": [
    "virus_host_nan_df = df[df[\"virus_host\"].isna()]\n",
    "virus_host_nan_df.shape"
   ]
  },
  {
   "cell_type": "code",
   "execution_count": 26,
   "id": "f2359ff6",
   "metadata": {},
   "outputs": [
    {
     "data": {
      "text/plain": [
       "(5157, 5)"
      ]
     },
     "execution_count": 26,
     "metadata": {},
     "output_type": "execute_result"
    }
   ],
   "source": [
    "df = df[df[\"virus_host\"].notna()]\n",
    "df.shape"
   ]
  },
  {
   "cell_type": "code",
   "execution_count": 27,
   "id": "875c92ac",
   "metadata": {},
   "outputs": [
    {
     "name": "stdout",
     "output_type": "stream",
     "text": [
      "['Tylonycteris pachypus (Lesser bamboo bat) (Vespertilio pachypus) [TaxID: 258959]'\n",
      " 'Pipistrellus abramus (Japanese pipistrelle) (Pipistrellus javanicus abramus) [TaxID: 105295]'\n",
      " \"Rousettus leschenaultii (Leschenault's rousette) [TaxID: 9408]\"\n",
      " 'Camelus dromedarius (Dromedary) (Arabian camel) [TaxID: 9838]; Homo sapiens (Human) [TaxID: 9606]'\n",
      " 'Homo sapiens (Human) [TaxID: 9606]'\n",
      " 'Gallus gallus (Chicken) [TaxID: 9031]'\n",
      " 'Mus musculus (Mouse) [TaxID: 10090]' 'Bos taurus (Bovine) [TaxID: 9913]'\n",
      " 'Homo sapiens (Human) [TaxID: 9606]; Paguma larvata (Masked palm civet) [TaxID: 9675]'\n",
      " 'Rhinolophus macrotis (Big-eared horseshoe bat) [TaxID: 196889]'\n",
      " 'Rhinolophus ferrumequinum (Greater horseshoe bat) [TaxID: 59479]; Rhinolophus macrotis (Big-eared horseshoe bat) [TaxID: 196889]; Rhinolophus pearsonii [TaxID: 188571]; Rhinolophus sinicus (Chinese rufous horseshoe bat) [TaxID: 89399]'\n",
      " 'Rhinolophus sinicus (Chinese rufous horseshoe bat) [TaxID: 89399]'\n",
      " 'Sus scrofa (Pig) [TaxID: 9823]' 'Rattus norvegicus (Rat) [TaxID: 10116]'\n",
      " 'Felidae (cat family) [TaxID: 9681]'\n",
      " 'Canis lupus familiaris (Dog) (Canis familiaris) [TaxID: 9615]'\n",
      " 'Scotophilus kuhlii (Lesser asiatic yellow bat) [TaxID: 153297]'\n",
      " 'Equus caballus (Horse) [TaxID: 9796]'\n",
      " 'Meleagris gallopavo (Wild turkey) [TaxID: 9103]'\n",
      " 'Turdus hortulorum [TaxID: 411519]; Turdus merula (Common blackbird) [TaxID: 9187]']\n"
     ]
    }
   ],
   "source": [
    "print(df[\"virus_host\"].unique())"
   ]
  },
  {
   "cell_type": "code",
   "execution_count": 28,
   "id": "854849ee",
   "metadata": {},
   "outputs": [],
   "source": [
    "# split the virus_host name by ';' for multiple hosts\n",
    "df[\"virus_host\"] = df[\"virus_host\"].transform(lambda x: x.split(\";\"))"
   ]
  },
  {
   "cell_type": "code",
   "execution_count": 29,
   "id": "174c9669",
   "metadata": {},
   "outputs": [
    {
     "data": {
      "text/plain": [
       "(5157, 5)"
      ]
     },
     "execution_count": 29,
     "metadata": {},
     "output_type": "execute_result"
    }
   ],
   "source": [
    "df.shape"
   ]
  },
  {
   "cell_type": "code",
   "execution_count": 30,
   "id": "26767095",
   "metadata": {},
   "outputs": [
    {
     "data": {
      "text/html": [
       "<div>\n",
       "<style scoped>\n",
       "    .dataframe tbody tr th:only-of-type {\n",
       "        vertical-align: middle;\n",
       "    }\n",
       "\n",
       "    .dataframe tbody tr th {\n",
       "        vertical-align: top;\n",
       "    }\n",
       "\n",
       "    .dataframe thead th {\n",
       "        text-align: right;\n",
       "    }\n",
       "</style>\n",
       "<table border=\"1\" class=\"dataframe\">\n",
       "  <thead>\n",
       "    <tr style=\"text-align: right;\">\n",
       "      <th></th>\n",
       "      <th>id</th>\n",
       "      <th>seq</th>\n",
       "      <th>virus</th>\n",
       "      <th>seq_len</th>\n",
       "      <th>virus_host</th>\n",
       "    </tr>\n",
       "  </thead>\n",
       "  <tbody>\n",
       "    <tr>\n",
       "      <th>4</th>\n",
       "      <td>A3EX94</td>\n",
       "      <td>MTLLMCLLMSLLIFVRGCDSQFVDMSPASNTSECLESQVDAAAFSK...</td>\n",
       "      <td>Bat coronavirus HKU4 (BtCoV) (BtCoV/HKU4/2004)</td>\n",
       "      <td>1352</td>\n",
       "      <td>[Tylonycteris pachypus (Lesser bamboo bat) (Ve...</td>\n",
       "    </tr>\n",
       "    <tr>\n",
       "      <th>5</th>\n",
       "      <td>A3EXD0</td>\n",
       "      <td>MIRSVLVLMCSLTFIGNLTRGQSVDMGHNGTGSCLDSQVQPDYFES...</td>\n",
       "      <td>Bat coronavirus HKU5 (BtCoV) (BtCoV/HKU5/2004)</td>\n",
       "      <td>1352</td>\n",
       "      <td>[Pipistrellus abramus (Japanese pipistrelle) (...</td>\n",
       "    </tr>\n",
       "    <tr>\n",
       "      <th>6</th>\n",
       "      <td>A3EXG6</td>\n",
       "      <td>MLLILVLGVSLAAASRPECFNPRFTLTPLNHTLNYTSIKAKVSNVL...</td>\n",
       "      <td>Bat coronavirus HKU9 (BtCoV) (BtCoV/HKU9)</td>\n",
       "      <td>1274</td>\n",
       "      <td>[Rousettus leschenaultii (Leschenault's rouset...</td>\n",
       "    </tr>\n",
       "    <tr>\n",
       "      <th>8</th>\n",
       "      <td>K9N5Q8</td>\n",
       "      <td>MIHSVFLLMFLLTPTESYVDVGPDSVKSACIEVDIQQTFFDKTWPR...</td>\n",
       "      <td>Middle East respiratory syndrome-related coron...</td>\n",
       "      <td>1353</td>\n",
       "      <td>[Camelus dromedarius (Dromedary) (Arabian came...</td>\n",
       "    </tr>\n",
       "    <tr>\n",
       "      <th>9</th>\n",
       "      <td>P0DTC2</td>\n",
       "      <td>MFVFLVLLPLVSSQCVNLTTRTQLPPAYTNSFTRGVYYPDKVFRSS...</td>\n",
       "      <td>Severe acute respiratory syndrome coronavirus ...</td>\n",
       "      <td>1273</td>\n",
       "      <td>[Homo sapiens (Human) [TaxID: 9606]]</td>\n",
       "    </tr>\n",
       "  </tbody>\n",
       "</table>\n",
       "</div>"
      ],
      "text/plain": [
       "       id                                                seq  \\\n",
       "4  A3EX94  MTLLMCLLMSLLIFVRGCDSQFVDMSPASNTSECLESQVDAAAFSK...   \n",
       "5  A3EXD0  MIRSVLVLMCSLTFIGNLTRGQSVDMGHNGTGSCLDSQVQPDYFES...   \n",
       "6  A3EXG6  MLLILVLGVSLAAASRPECFNPRFTLTPLNHTLNYTSIKAKVSNVL...   \n",
       "8  K9N5Q8  MIHSVFLLMFLLTPTESYVDVGPDSVKSACIEVDIQQTFFDKTWPR...   \n",
       "9  P0DTC2  MFVFLVLLPLVSSQCVNLTTRTQLPPAYTNSFTRGVYYPDKVFRSS...   \n",
       "\n",
       "                                               virus  seq_len  \\\n",
       "4     Bat coronavirus HKU4 (BtCoV) (BtCoV/HKU4/2004)     1352   \n",
       "5     Bat coronavirus HKU5 (BtCoV) (BtCoV/HKU5/2004)     1352   \n",
       "6          Bat coronavirus HKU9 (BtCoV) (BtCoV/HKU9)     1274   \n",
       "8  Middle East respiratory syndrome-related coron...     1353   \n",
       "9  Severe acute respiratory syndrome coronavirus ...     1273   \n",
       "\n",
       "                                          virus_host  \n",
       "4  [Tylonycteris pachypus (Lesser bamboo bat) (Ve...  \n",
       "5  [Pipistrellus abramus (Japanese pipistrelle) (...  \n",
       "6  [Rousettus leschenaultii (Leschenault's rouset...  \n",
       "8  [Camelus dromedarius (Dromedary) (Arabian came...  \n",
       "9               [Homo sapiens (Human) [TaxID: 9606]]  "
      ]
     },
     "execution_count": 30,
     "metadata": {},
     "output_type": "execute_result"
    }
   ],
   "source": [
    "df.head()"
   ]
  },
  {
   "cell_type": "code",
   "execution_count": 31,
   "id": "1f1ea599",
   "metadata": {},
   "outputs": [],
   "source": [
    "df_exploded = df.explode(\"virus_host\")\n",
    "df_exploded[\"virus_host\"] = df_exploded[\"virus_host\"].transform(lambda x: x.strip())"
   ]
  },
  {
   "cell_type": "code",
   "execution_count": 32,
   "id": "df3d1925",
   "metadata": {},
   "outputs": [
    {
     "data": {
      "text/plain": [
       "(5182, 5)"
      ]
     },
     "execution_count": 32,
     "metadata": {},
     "output_type": "execute_result"
    }
   ],
   "source": [
    "df_exploded.shape"
   ]
  },
  {
   "cell_type": "code",
   "execution_count": 33,
   "id": "3d64b5b8",
   "metadata": {},
   "outputs": [
    {
     "data": {
      "text/html": [
       "<div>\n",
       "<style scoped>\n",
       "    .dataframe tbody tr th:only-of-type {\n",
       "        vertical-align: middle;\n",
       "    }\n",
       "\n",
       "    .dataframe tbody tr th {\n",
       "        vertical-align: top;\n",
       "    }\n",
       "\n",
       "    .dataframe thead th {\n",
       "        text-align: right;\n",
       "    }\n",
       "</style>\n",
       "<table border=\"1\" class=\"dataframe\">\n",
       "  <thead>\n",
       "    <tr style=\"text-align: right;\">\n",
       "      <th></th>\n",
       "      <th>id</th>\n",
       "      <th>seq</th>\n",
       "      <th>virus</th>\n",
       "      <th>seq_len</th>\n",
       "      <th>virus_host</th>\n",
       "    </tr>\n",
       "  </thead>\n",
       "  <tbody>\n",
       "    <tr>\n",
       "      <th>4</th>\n",
       "      <td>A3EX94</td>\n",
       "      <td>MTLLMCLLMSLLIFVRGCDSQFVDMSPASNTSECLESQVDAAAFSK...</td>\n",
       "      <td>Bat coronavirus HKU4 (BtCoV) (BtCoV/HKU4/2004)</td>\n",
       "      <td>1352</td>\n",
       "      <td>Tylonycteris pachypus (Lesser bamboo bat) (Ves...</td>\n",
       "    </tr>\n",
       "    <tr>\n",
       "      <th>5</th>\n",
       "      <td>A3EXD0</td>\n",
       "      <td>MIRSVLVLMCSLTFIGNLTRGQSVDMGHNGTGSCLDSQVQPDYFES...</td>\n",
       "      <td>Bat coronavirus HKU5 (BtCoV) (BtCoV/HKU5/2004)</td>\n",
       "      <td>1352</td>\n",
       "      <td>Pipistrellus abramus (Japanese pipistrelle) (P...</td>\n",
       "    </tr>\n",
       "    <tr>\n",
       "      <th>6</th>\n",
       "      <td>A3EXG6</td>\n",
       "      <td>MLLILVLGVSLAAASRPECFNPRFTLTPLNHTLNYTSIKAKVSNVL...</td>\n",
       "      <td>Bat coronavirus HKU9 (BtCoV) (BtCoV/HKU9)</td>\n",
       "      <td>1274</td>\n",
       "      <td>Rousettus leschenaultii (Leschenault's rousett...</td>\n",
       "    </tr>\n",
       "    <tr>\n",
       "      <th>8</th>\n",
       "      <td>K9N5Q8</td>\n",
       "      <td>MIHSVFLLMFLLTPTESYVDVGPDSVKSACIEVDIQQTFFDKTWPR...</td>\n",
       "      <td>Middle East respiratory syndrome-related coron...</td>\n",
       "      <td>1353</td>\n",
       "      <td>Camelus dromedarius (Dromedary) (Arabian camel...</td>\n",
       "    </tr>\n",
       "    <tr>\n",
       "      <th>8</th>\n",
       "      <td>K9N5Q8</td>\n",
       "      <td>MIHSVFLLMFLLTPTESYVDVGPDSVKSACIEVDIQQTFFDKTWPR...</td>\n",
       "      <td>Middle East respiratory syndrome-related coron...</td>\n",
       "      <td>1353</td>\n",
       "      <td>Homo sapiens (Human) [TaxID: 9606]</td>\n",
       "    </tr>\n",
       "  </tbody>\n",
       "</table>\n",
       "</div>"
      ],
      "text/plain": [
       "       id                                                seq  \\\n",
       "4  A3EX94  MTLLMCLLMSLLIFVRGCDSQFVDMSPASNTSECLESQVDAAAFSK...   \n",
       "5  A3EXD0  MIRSVLVLMCSLTFIGNLTRGQSVDMGHNGTGSCLDSQVQPDYFES...   \n",
       "6  A3EXG6  MLLILVLGVSLAAASRPECFNPRFTLTPLNHTLNYTSIKAKVSNVL...   \n",
       "8  K9N5Q8  MIHSVFLLMFLLTPTESYVDVGPDSVKSACIEVDIQQTFFDKTWPR...   \n",
       "8  K9N5Q8  MIHSVFLLMFLLTPTESYVDVGPDSVKSACIEVDIQQTFFDKTWPR...   \n",
       "\n",
       "                                               virus  seq_len  \\\n",
       "4     Bat coronavirus HKU4 (BtCoV) (BtCoV/HKU4/2004)     1352   \n",
       "5     Bat coronavirus HKU5 (BtCoV) (BtCoV/HKU5/2004)     1352   \n",
       "6          Bat coronavirus HKU9 (BtCoV) (BtCoV/HKU9)     1274   \n",
       "8  Middle East respiratory syndrome-related coron...     1353   \n",
       "8  Middle East respiratory syndrome-related coron...     1353   \n",
       "\n",
       "                                          virus_host  \n",
       "4  Tylonycteris pachypus (Lesser bamboo bat) (Ves...  \n",
       "5  Pipistrellus abramus (Japanese pipistrelle) (P...  \n",
       "6  Rousettus leschenaultii (Leschenault's rousett...  \n",
       "8  Camelus dromedarius (Dromedary) (Arabian camel...  \n",
       "8                 Homo sapiens (Human) [TaxID: 9606]  "
      ]
     },
     "execution_count": 33,
     "metadata": {},
     "output_type": "execute_result"
    }
   ],
   "source": [
    "df_exploded.head()"
   ]
  },
  {
   "cell_type": "code",
   "execution_count": 34,
   "id": "b313ddaa",
   "metadata": {},
   "outputs": [
    {
     "name": "stdout",
     "output_type": "stream",
     "text": [
      "22\n",
      "['Tylonycteris pachypus (Lesser bamboo bat) (Vespertilio pachypus) [TaxID: 258959]'\n",
      " 'Pipistrellus abramus (Japanese pipistrelle) (Pipistrellus javanicus abramus) [TaxID: 105295]'\n",
      " \"Rousettus leschenaultii (Leschenault's rousette) [TaxID: 9408]\"\n",
      " 'Camelus dromedarius (Dromedary) (Arabian camel) [TaxID: 9838]'\n",
      " 'Homo sapiens (Human) [TaxID: 9606]'\n",
      " 'Gallus gallus (Chicken) [TaxID: 9031]'\n",
      " 'Mus musculus (Mouse) [TaxID: 10090]' 'Bos taurus (Bovine) [TaxID: 9913]'\n",
      " 'Paguma larvata (Masked palm civet) [TaxID: 9675]'\n",
      " 'Rhinolophus macrotis (Big-eared horseshoe bat) [TaxID: 196889]'\n",
      " 'Rhinolophus ferrumequinum (Greater horseshoe bat) [TaxID: 59479]'\n",
      " 'Rhinolophus pearsonii [TaxID: 188571]'\n",
      " 'Rhinolophus sinicus (Chinese rufous horseshoe bat) [TaxID: 89399]'\n",
      " 'Sus scrofa (Pig) [TaxID: 9823]' 'Rattus norvegicus (Rat) [TaxID: 10116]'\n",
      " 'Felidae (cat family) [TaxID: 9681]'\n",
      " 'Canis lupus familiaris (Dog) (Canis familiaris) [TaxID: 9615]'\n",
      " 'Scotophilus kuhlii (Lesser asiatic yellow bat) [TaxID: 153297]'\n",
      " 'Equus caballus (Horse) [TaxID: 9796]'\n",
      " 'Meleagris gallopavo (Wild turkey) [TaxID: 9103]'\n",
      " 'Turdus hortulorum [TaxID: 411519]'\n",
      " 'Turdus merula (Common blackbird) [TaxID: 9187]']\n"
     ]
    }
   ],
   "source": [
    "virus_hosts = df_exploded[\"virus_host\"].unique()\n",
    "print(len(virus_hosts))\n",
    "print(virus_hosts)"
   ]
  },
  {
   "cell_type": "code",
   "execution_count": 35,
   "id": "978cf011",
   "metadata": {},
   "outputs": [
    {
     "name": "stdout",
     "output_type": "stream",
     "text": [
      "Dataset size before removing duplicates: (5182, 4)\n",
      "Dataset size after removing duplicates: (5134, 4)\n"
     ]
    }
   ],
   "source": [
    "df_exploded = df_exploded.set_index(\"id\")\n",
    "print(f\"Dataset size before removing duplicates: {df_exploded.shape}\")\n",
    "df_dedup = df_exploded[~df_exploded.index.duplicated(keep=False)]\n",
    "print(f\"Dataset size after removing duplicates: {df_dedup.shape}\")"
   ]
  },
  {
   "cell_type": "code",
   "execution_count": 36,
   "id": "85614080",
   "metadata": {},
   "outputs": [
    {
     "data": {
      "image/png": "[encoded data removed]",
      "text/plain": [
       "<Figure size 640x480 with 1 Axes>"
      ]
     },
     "metadata": {},
     "output_type": "display_data"
    }
   ],
   "source": [
    "ax = sns.histplot(data=df_dedup, x=\"virus_host\")\n",
    "plt.xticks(rotation=90)\n",
    "plt.show()"
   ]
  },
  {
   "cell_type": "code",
   "execution_count": 37,
   "id": "41ec001b",
   "metadata": {},
   "outputs": [
    {
     "data": {
      "text/plain": [
       "Sus scrofa (Pig) [TaxID: 9823]                                                                  2620\n",
       "Homo sapiens (Human) [TaxID: 9606]                                                              2400\n",
       "Meleagris gallopavo (Wild turkey) [TaxID: 9103]                                                   36\n",
       "Pipistrellus abramus (Japanese pipistrelle) (Pipistrellus javanicus abramus) [TaxID: 105295]      19\n",
       "Tylonycteris pachypus (Lesser bamboo bat) (Vespertilio pachypus) [TaxID: 258959]                  17\n",
       "Gallus gallus (Chicken) [TaxID: 9031]                                                             13\n",
       "Bos taurus (Bovine) [TaxID: 9913]                                                                 10\n",
       "Mus musculus (Mouse) [TaxID: 10090]                                                                6\n",
       "Rhinolophus sinicus (Chinese rufous horseshoe bat) [TaxID: 89399]                                  3\n",
       "Canis lupus familiaris (Dog) (Canis familiaris) [TaxID: 9615]                                      3\n",
       "Rousettus leschenaultii (Leschenault's rousette) [TaxID: 9408]                                     2\n",
       "Rhinolophus macrotis (Big-eared horseshoe bat) [TaxID: 196889]                                     1\n",
       "Rattus norvegicus (Rat) [TaxID: 10116]                                                             1\n",
       "Felidae (cat family) [TaxID: 9681]                                                                 1\n",
       "Scotophilus kuhlii (Lesser asiatic yellow bat) [TaxID: 153297]                                     1\n",
       "Equus caballus (Horse) [TaxID: 9796]                                                               1\n",
       "Name: virus_host, dtype: int64"
      ]
     },
     "execution_count": 37,
     "metadata": {},
     "output_type": "execute_result"
    }
   ],
   "source": [
    "df_dedup[\"virus_host\"].value_counts()"
   ]
  },
  {
   "cell_type": "code",
   "execution_count": 38,
   "id": "e94fa5c5",
   "metadata": {},
   "outputs": [
    {
     "name": "stderr",
     "output_type": "stream",
     "text": [
      "/tmp/ipykernel_6856/2983036214.py:2: SettingWithCopyWarning: \n",
      "A value is trying to be set on a copy of a slice from a DataFrame.\n",
      "Try using .loc[row_indexer,col_indexer] = value instead\n",
      "\n",
      "See the caveats in the documentation: https://pandas.pydata.org/pandas-docs/stable/user_guide/indexing.html#returning-a-view-versus-a-copy\n",
      "  df_dedup[\"binary_label\"] = df_dedup[\"virus_host\"].apply(lambda x: \"Human\" if x == \"Homo sapiens (Human) [TaxID: 9606]\" else \"Not Human\")\n"
     ]
    }
   ],
   "source": [
    "# create host binary label: 'human' and 'not human'\n",
    "df_dedup[\"binary_label\"] = df_dedup[\"virus_host\"].apply(lambda x: \"Human\" if x == \"Homo sapiens (Human) [TaxID: 9606]\" else \"Not Human\")"
   ]
  },
  {
   "cell_type": "code",
   "execution_count": 39,
   "id": "124da1ea",
   "metadata": {},
   "outputs": [
    {
     "data": {
      "text/plain": [
       "Not Human    2734\n",
       "Human        2400\n",
       "Name: binary_label, dtype: int64"
      ]
     },
     "execution_count": 39,
     "metadata": {},
     "output_type": "execute_result"
    }
   ],
   "source": [
    "df_dedup[\"binary_label\"].value_counts()"
   ]
  },
  {
   "cell_type": "code",
   "execution_count": 40,
   "id": "dc23496f",
   "metadata": {},
   "outputs": [
    {
     "data": {
      "text/html": [
       "<div>\n",
       "<style scoped>\n",
       "    .dataframe tbody tr th:only-of-type {\n",
       "        vertical-align: middle;\n",
       "    }\n",
       "\n",
       "    .dataframe tbody tr th {\n",
       "        vertical-align: top;\n",
       "    }\n",
       "\n",
       "    .dataframe thead th {\n",
       "        text-align: right;\n",
       "    }\n",
       "</style>\n",
       "<table border=\"1\" class=\"dataframe\">\n",
       "  <thead>\n",
       "    <tr style=\"text-align: right;\">\n",
       "      <th></th>\n",
       "      <th>id</th>\n",
       "      <th>seq</th>\n",
       "      <th>virus</th>\n",
       "      <th>seq_len</th>\n",
       "      <th>virus_host</th>\n",
       "      <th>binary_label</th>\n",
       "    </tr>\n",
       "  </thead>\n",
       "  <tbody>\n",
       "    <tr>\n",
       "      <th>0</th>\n",
       "      <td>A3EX94</td>\n",
       "      <td>MTLLMCLLMSLLIFVRGCDSQFVDMSPASNTSECLESQVDAAAFSK...</td>\n",
       "      <td>Bat coronavirus HKU4 (BtCoV) (BtCoV/HKU4/2004)</td>\n",
       "      <td>1352</td>\n",
       "      <td>Tylonycteris pachypus (Lesser bamboo bat) (Ves...</td>\n",
       "      <td>Not Human</td>\n",
       "    </tr>\n",
       "    <tr>\n",
       "      <th>1</th>\n",
       "      <td>A3EXD0</td>\n",
       "      <td>MIRSVLVLMCSLTFIGNLTRGQSVDMGHNGTGSCLDSQVQPDYFES...</td>\n",
       "      <td>Bat coronavirus HKU5 (BtCoV) (BtCoV/HKU5/2004)</td>\n",
       "      <td>1352</td>\n",
       "      <td>Pipistrellus abramus (Japanese pipistrelle) (P...</td>\n",
       "      <td>Not Human</td>\n",
       "    </tr>\n",
       "    <tr>\n",
       "      <th>2</th>\n",
       "      <td>A3EXG6</td>\n",
       "      <td>MLLILVLGVSLAAASRPECFNPRFTLTPLNHTLNYTSIKAKVSNVL...</td>\n",
       "      <td>Bat coronavirus HKU9 (BtCoV) (BtCoV/HKU9)</td>\n",
       "      <td>1274</td>\n",
       "      <td>Rousettus leschenaultii (Leschenault's rousett...</td>\n",
       "      <td>Not Human</td>\n",
       "    </tr>\n",
       "    <tr>\n",
       "      <th>3</th>\n",
       "      <td>P0DTC2</td>\n",
       "      <td>MFVFLVLLPLVSSQCVNLTTRTQLPPAYTNSFTRGVYYPDKVFRSS...</td>\n",
       "      <td>Severe acute respiratory syndrome coronavirus ...</td>\n",
       "      <td>1273</td>\n",
       "      <td>Homo sapiens (Human) [TaxID: 9606]</td>\n",
       "      <td>Human</td>\n",
       "    </tr>\n",
       "    <tr>\n",
       "      <th>4</th>\n",
       "      <td>P11223</td>\n",
       "      <td>MLVTPLLLVTLLCALCSAVLYDSSSYVYYYQSAFRPPSGWHLQGGA...</td>\n",
       "      <td>Avian infectious bronchitis virus (strain Beau...</td>\n",
       "      <td>1162</td>\n",
       "      <td>Gallus gallus (Chicken) [TaxID: 9031]</td>\n",
       "      <td>Not Human</td>\n",
       "    </tr>\n",
       "  </tbody>\n",
       "</table>\n",
       "</div>"
      ],
      "text/plain": [
       "       id                                                seq  \\\n",
       "0  A3EX94  MTLLMCLLMSLLIFVRGCDSQFVDMSPASNTSECLESQVDAAAFSK...   \n",
       "1  A3EXD0  MIRSVLVLMCSLTFIGNLTRGQSVDMGHNGTGSCLDSQVQPDYFES...   \n",
       "2  A3EXG6  MLLILVLGVSLAAASRPECFNPRFTLTPLNHTLNYTSIKAKVSNVL...   \n",
       "3  P0DTC2  MFVFLVLLPLVSSQCVNLTTRTQLPPAYTNSFTRGVYYPDKVFRSS...   \n",
       "4  P11223  MLVTPLLLVTLLCALCSAVLYDSSSYVYYYQSAFRPPSGWHLQGGA...   \n",
       "\n",
       "                                               virus  seq_len  \\\n",
       "0     Bat coronavirus HKU4 (BtCoV) (BtCoV/HKU4/2004)     1352   \n",
       "1     Bat coronavirus HKU5 (BtCoV) (BtCoV/HKU5/2004)     1352   \n",
       "2          Bat coronavirus HKU9 (BtCoV) (BtCoV/HKU9)     1274   \n",
       "3  Severe acute respiratory syndrome coronavirus ...     1273   \n",
       "4  Avian infectious bronchitis virus (strain Beau...     1162   \n",
       "\n",
       "                                          virus_host binary_label  \n",
       "0  Tylonycteris pachypus (Lesser bamboo bat) (Ves...    Not Human  \n",
       "1  Pipistrellus abramus (Japanese pipistrelle) (P...    Not Human  \n",
       "2  Rousettus leschenaultii (Leschenault's rousett...    Not Human  \n",
       "3                 Homo sapiens (Human) [TaxID: 9606]        Human  \n",
       "4              Gallus gallus (Chicken) [TaxID: 9031]    Not Human  "
      ]
     },
     "execution_count": 40,
     "metadata": {},
     "output_type": "execute_result"
    }
   ],
   "source": [
    "df_dedup.reset_index(inplace=True)\n",
    "df_dedup.head()"
   ]
  },
  {
   "cell_type": "code",
   "execution_count": null,
   "id": "ddba0df8",
   "metadata": {},
   "outputs": [],
   "source": [
    "# df_dedup.to_csv(os.path.join(os.getcwd(), \"..\", \"..\", \"input/data/coronaviridae\", \"coronaviridae_final.csv\"), index=False)"
   ]
  },
  {
   "cell_type": "code",
   "execution_count": 42,
   "id": "5e0a9c9a",
   "metadata": {},
   "outputs": [],
   "source": [
    "df_dedup = pd.read_csv(os.path.join(os.getcwd(), \"..\", \"..\", \"..\", \"input/data/coronaviridae\", \"coronaviridae_final.csv\"))"
   ]
  },
  {
   "cell_type": "code",
   "execution_count": 43,
   "id": "0910dd6c",
   "metadata": {},
   "outputs": [
    {
     "data": {
      "text/plain": [
       "(5134, 6)"
      ]
     },
     "execution_count": 43,
     "metadata": {},
     "output_type": "execute_result"
    }
   ],
   "source": [
    "df_dedup.shape"
   ]
  },
  {
   "cell_type": "code",
   "execution_count": 44,
   "id": "ba6250c6",
   "metadata": {},
   "outputs": [
    {
     "data": {
      "text/html": [
       "<div>\n",
       "<style scoped>\n",
       "    .dataframe tbody tr th:only-of-type {\n",
       "        vertical-align: middle;\n",
       "    }\n",
       "\n",
       "    .dataframe tbody tr th {\n",
       "        vertical-align: top;\n",
       "    }\n",
       "\n",
       "    .dataframe thead th {\n",
       "        text-align: right;\n",
       "    }\n",
       "</style>\n",
       "<table border=\"1\" class=\"dataframe\">\n",
       "  <thead>\n",
       "    <tr style=\"text-align: right;\">\n",
       "      <th></th>\n",
       "      <th>id</th>\n",
       "      <th>seq</th>\n",
       "      <th>virus</th>\n",
       "      <th>seq_len</th>\n",
       "      <th>virus_host</th>\n",
       "      <th>binary_label</th>\n",
       "    </tr>\n",
       "  </thead>\n",
       "  <tbody>\n",
       "    <tr>\n",
       "      <th>0</th>\n",
       "      <td>A3EX94</td>\n",
       "      <td>MTLLMCLLMSLLIFVRGCDSQFVDMSPASNTSECLESQVDAAAFSK...</td>\n",
       "      <td>Bat coronavirus HKU4 (BtCoV) (BtCoV/HKU4/2004)</td>\n",
       "      <td>1352</td>\n",
       "      <td>Tylonycteris pachypus (Lesser bamboo bat) (Ves...</td>\n",
       "      <td>Not Human</td>\n",
       "    </tr>\n",
       "    <tr>\n",
       "      <th>1</th>\n",
       "      <td>A3EXD0</td>\n",
       "      <td>MIRSVLVLMCSLTFIGNLTRGQSVDMGHNGTGSCLDSQVQPDYFES...</td>\n",
       "      <td>Bat coronavirus HKU5 (BtCoV) (BtCoV/HKU5/2004)</td>\n",
       "      <td>1352</td>\n",
       "      <td>Pipistrellus abramus (Japanese pipistrelle) (P...</td>\n",
       "      <td>Not Human</td>\n",
       "    </tr>\n",
       "    <tr>\n",
       "      <th>2</th>\n",
       "      <td>A3EXG6</td>\n",
       "      <td>MLLILVLGVSLAAASRPECFNPRFTLTPLNHTLNYTSIKAKVSNVL...</td>\n",
       "      <td>Bat coronavirus HKU9 (BtCoV) (BtCoV/HKU9)</td>\n",
       "      <td>1274</td>\n",
       "      <td>Rousettus leschenaultii (Leschenault's rousett...</td>\n",
       "      <td>Not Human</td>\n",
       "    </tr>\n",
       "    <tr>\n",
       "      <th>3</th>\n",
       "      <td>P0DTC2</td>\n",
       "      <td>MFVFLVLLPLVSSQCVNLTTRTQLPPAYTNSFTRGVYYPDKVFRSS...</td>\n",
       "      <td>Severe acute respiratory syndrome coronavirus ...</td>\n",
       "      <td>1273</td>\n",
       "      <td>Homo sapiens (Human) [TaxID: 9606]</td>\n",
       "      <td>Human</td>\n",
       "    </tr>\n",
       "    <tr>\n",
       "      <th>4</th>\n",
       "      <td>P11223</td>\n",
       "      <td>MLVTPLLLVTLLCALCSAVLYDSSSYVYYYQSAFRPPSGWHLQGGA...</td>\n",
       "      <td>Avian infectious bronchitis virus (strain Beau...</td>\n",
       "      <td>1162</td>\n",
       "      <td>Gallus gallus (Chicken) [TaxID: 9031]</td>\n",
       "      <td>Not Human</td>\n",
       "    </tr>\n",
       "  </tbody>\n",
       "</table>\n",
       "</div>"
      ],
      "text/plain": [
       "       id                                                seq  \\\n",
       "0  A3EX94  MTLLMCLLMSLLIFVRGCDSQFVDMSPASNTSECLESQVDAAAFSK...   \n",
       "1  A3EXD0  MIRSVLVLMCSLTFIGNLTRGQSVDMGHNGTGSCLDSQVQPDYFES...   \n",
       "2  A3EXG6  MLLILVLGVSLAAASRPECFNPRFTLTPLNHTLNYTSIKAKVSNVL...   \n",
       "3  P0DTC2  MFVFLVLLPLVSSQCVNLTTRTQLPPAYTNSFTRGVYYPDKVFRSS...   \n",
       "4  P11223  MLVTPLLLVTLLCALCSAVLYDSSSYVYYYQSAFRPPSGWHLQGGA...   \n",
       "\n",
       "                                               virus  seq_len  \\\n",
       "0     Bat coronavirus HKU4 (BtCoV) (BtCoV/HKU4/2004)     1352   \n",
       "1     Bat coronavirus HKU5 (BtCoV) (BtCoV/HKU5/2004)     1352   \n",
       "2          Bat coronavirus HKU9 (BtCoV) (BtCoV/HKU9)     1274   \n",
       "3  Severe acute respiratory syndrome coronavirus ...     1273   \n",
       "4  Avian infectious bronchitis virus (strain Beau...     1162   \n",
       "\n",
       "                                          virus_host binary_label  \n",
       "0  Tylonycteris pachypus (Lesser bamboo bat) (Ves...    Not Human  \n",
       "1  Pipistrellus abramus (Japanese pipistrelle) (P...    Not Human  \n",
       "2  Rousettus leschenaultii (Leschenault's rousett...    Not Human  \n",
       "3                 Homo sapiens (Human) [TaxID: 9606]        Human  \n",
       "4              Gallus gallus (Chicken) [TaxID: 9031]    Not Human  "
      ]
     },
     "execution_count": 44,
     "metadata": {},
     "output_type": "execute_result"
    }
   ],
   "source": [
    "df_dedup.head()"
   ]
  },
  {
   "cell_type": "code",
   "execution_count": 45,
   "id": "63ab9718",
   "metadata": {},
   "outputs": [
    {
     "data": {
      "text/plain": [
       "Sus scrofa (Pig) [TaxID: 9823]                                                                  2620\n",
       "Homo sapiens (Human) [TaxID: 9606]                                                              2400\n",
       "Meleagris gallopavo (Wild turkey) [TaxID: 9103]                                                   36\n",
       "Pipistrellus abramus (Japanese pipistrelle) (Pipistrellus javanicus abramus) [TaxID: 105295]      19\n",
       "Tylonycteris pachypus (Lesser bamboo bat) (Vespertilio pachypus) [TaxID: 258959]                  17\n",
       "Gallus gallus (Chicken) [TaxID: 9031]                                                             13\n",
       "Bos taurus (Bovine) [TaxID: 9913]                                                                 10\n",
       "Mus musculus (Mouse) [TaxID: 10090]                                                                6\n",
       "Rhinolophus sinicus (Chinese rufous horseshoe bat) [TaxID: 89399]                                  3\n",
       "Canis lupus familiaris (Dog) (Canis familiaris) [TaxID: 9615]                                      3\n",
       "Rousettus leschenaultii (Leschenault's rousette) [TaxID: 9408]                                     2\n",
       "Rhinolophus macrotis (Big-eared horseshoe bat) [TaxID: 196889]                                     1\n",
       "Rattus norvegicus (Rat) [TaxID: 10116]                                                             1\n",
       "Felidae (cat family) [TaxID: 9681]                                                                 1\n",
       "Scotophilus kuhlii (Lesser asiatic yellow bat) [TaxID: 153297]                                     1\n",
       "Equus caballus (Horse) [TaxID: 9796]                                                               1\n",
       "Name: virus_host, dtype: int64"
      ]
     },
     "execution_count": 45,
     "metadata": {},
     "output_type": "execute_result"
    }
   ],
   "source": [
    "df_dedup[\"virus_host\"].value_counts()"
   ]
  },
  {
   "cell_type": "code",
   "execution_count": 46,
   "id": "807afd87",
   "metadata": {},
   "outputs": [],
   "source": [
    "low_count_virus_hosts = [\"Rhinolophus sinicus (Chinese rufous horseshoe bat) [TaxID: 89399]\", \"Canis lupus familiaris (Dog) (Canis familiaris) [TaxID: 9615]\", \"Rousettus leschenaultii (Leschenault's rousette) [TaxID: 9408]\", \"Rhinolophus macrotis (Big-eared horseshoe bat) [TaxID: 196889]\", \"Rattus norvegicus (Rat) [TaxID: 10116]\", \"Felidae (cat family) [TaxID: 9681]\", \"Scotophilus kuhlii (Lesser asiatic yellow bat) [TaxID: 153297]\", \"Scotophilus kuhlii (Lesser asiatic yellow bat) [TaxID: 153297]\", \"Equus caballus (Horse) [TaxID: 9796]\", \"Mus musculus (Mouse) [TaxID: 10090]\"]\n",
    "df_dedup_top_6_hosts = df_dedup[~df_dedup[\"virus_host\"].isin(low_count_virus_hosts)]"
   ]
  },
  {
   "cell_type": "code",
   "execution_count": 47,
   "id": "83f417b3",
   "metadata": {},
   "outputs": [
    {
     "data": {
      "text/plain": [
       "(5115, 6)"
      ]
     },
     "execution_count": 47,
     "metadata": {},
     "output_type": "execute_result"
    }
   ],
   "source": [
    "df_dedup_top_6_hosts.shape"
   ]
  },
  {
   "cell_type": "code",
   "execution_count": 48,
   "id": "ccc9df0c",
   "metadata": {},
   "outputs": [
    {
     "data": {
      "text/plain": [
       "Sus scrofa (Pig) [TaxID: 9823]                                                                  2620\n",
       "Homo sapiens (Human) [TaxID: 9606]                                                              2400\n",
       "Meleagris gallopavo (Wild turkey) [TaxID: 9103]                                                   36\n",
       "Pipistrellus abramus (Japanese pipistrelle) (Pipistrellus javanicus abramus) [TaxID: 105295]      19\n",
       "Tylonycteris pachypus (Lesser bamboo bat) (Vespertilio pachypus) [TaxID: 258959]                  17\n",
       "Gallus gallus (Chicken) [TaxID: 9031]                                                             13\n",
       "Bos taurus (Bovine) [TaxID: 9913]                                                                 10\n",
       "Name: virus_host, dtype: int64"
      ]
     },
     "execution_count": 48,
     "metadata": {},
     "output_type": "execute_result"
    }
   ],
   "source": [
    "df_dedup_top_6_hosts[\"virus_host\"].value_counts()"
   ]
  },
  {
   "cell_type": "code",
   "execution_count": null,
   "id": "df0ca89c",
   "metadata": {},
   "outputs": [],
   "source": [
    "# df_dedup_top_6_hosts.to_csv(os.path.join(os.getcwd(), \"..\", \"..\", \"input/data/coronaviridae\", \"coronaviridae_top_6_hosts.csv\"), index=False)"
   ]
  },
  {
   "cell_type": "markdown",
   "id": "2a6f8639",
   "metadata": {},
   "source": [
    "# UniRef90"
   ]
  },
  {
   "cell_type": "code",
   "execution_count": 5,
   "id": "7abf2b3c",
   "metadata": {},
   "outputs": [],
   "source": [
    "seq_parsed_filepath = os.path.join(os.getcwd(), \"..\", \"..\", \"input/data/coronaviridae/uniref90_parsed.csv\")\n",
    "seq_with_hosts_parsed_filepath = os.path.join(os.getcwd(), \"..\", \"..\", \"input/data/coronaviridae/uniref90_w_hosts.csv\")"
   ]
  },
  {
   "cell_type": "code",
   "execution_count": 11,
   "id": "af972bfe",
   "metadata": {},
   "outputs": [],
   "source": [
    "df = pd.read_csv(seq_parsed_filepath).drop(columns=[\"Unnamed: 0\"])"
   ]
  },
  {
   "cell_type": "code",
   "execution_count": 14,
   "id": "62f765e8",
   "metadata": {},
   "outputs": [
    {
     "name": "stdout",
     "output_type": "stream",
     "text": [
      "parsed df size =  (4510, 3)\n"
     ]
    },
    {
     "data": {
      "text/html": [
       "<div>\n",
       "<style scoped>\n",
       "    .dataframe tbody tr th:only-of-type {\n",
       "        vertical-align: middle;\n",
       "    }\n",
       "\n",
       "    .dataframe tbody tr th {\n",
       "        vertical-align: top;\n",
       "    }\n",
       "\n",
       "    .dataframe thead th {\n",
       "        text-align: right;\n",
       "    }\n",
       "</style>\n",
       "<table border=\"1\" class=\"dataframe\">\n",
       "  <thead>\n",
       "    <tr style=\"text-align: right;\">\n",
       "      <th></th>\n",
       "      <th>uniref90_id</th>\n",
       "      <th>tax_id</th>\n",
       "      <th>seq</th>\n",
       "    </tr>\n",
       "  </thead>\n",
       "  <tbody>\n",
       "    <tr>\n",
       "      <th>0</th>\n",
       "      <td>UniRef90_A0A023PN62</td>\n",
       "      <td>11120</td>\n",
       "      <td>MLNLEAIIESGDPVIPKIQFNLQHISGV</td>\n",
       "    </tr>\n",
       "    <tr>\n",
       "      <th>1</th>\n",
       "      <td>UniRef90_A0A023PNS4</td>\n",
       "      <td>11120</td>\n",
       "      <td>MLNLEAIIETGDQVIQQISFNLQHISSVLETQIFDPFECCYYSSGS...</td>\n",
       "    </tr>\n",
       "    <tr>\n",
       "      <th>2</th>\n",
       "      <td>UniRef90_A0A023PP06</td>\n",
       "      <td>11120</td>\n",
       "      <td>MMNLLNKSLEENGSFLTALYIFVGFLAFYLLGRALQAFVQAADACC...</td>\n",
       "    </tr>\n",
       "    <tr>\n",
       "      <th>3</th>\n",
       "      <td>UniRef90_A0A023PSW4</td>\n",
       "      <td>694002</td>\n",
       "      <td>MKLLIVFGLLTIVYGMHKECTIQECCENQPYILEDPCPIHYYSDWY...</td>\n",
       "    </tr>\n",
       "    <tr>\n",
       "      <th>4</th>\n",
       "      <td>UniRef90_A0A023PUW9</td>\n",
       "      <td>2509511</td>\n",
       "      <td>MFLTCFILSFSLFCVSGDSIDTCETFDDVSPPQQNLVSSSKRGVYY...</td>\n",
       "    </tr>\n",
       "  </tbody>\n",
       "</table>\n",
       "</div>"
      ],
      "text/plain": [
       "           uniref90_id   tax_id  \\\n",
       "0  UniRef90_A0A023PN62    11120   \n",
       "1  UniRef90_A0A023PNS4    11120   \n",
       "2  UniRef90_A0A023PP06    11120   \n",
       "3  UniRef90_A0A023PSW4   694002   \n",
       "4  UniRef90_A0A023PUW9  2509511   \n",
       "\n",
       "                                                 seq  \n",
       "0                       MLNLEAIIESGDPVIPKIQFNLQHISGV  \n",
       "1  MLNLEAIIETGDQVIQQISFNLQHISSVLETQIFDPFECCYYSSGS...  \n",
       "2  MMNLLNKSLEENGSFLTALYIFVGFLAFYLLGRALQAFVQAADACC...  \n",
       "3  MKLLIVFGLLTIVYGMHKECTIQECCENQPYILEDPCPIHYYSDWY...  \n",
       "4  MFLTCFILSFSLFCVSGDSIDTCETFDDVSPPQQNLVSSSKRGVYY...  "
      ]
     },
     "execution_count": 14,
     "metadata": {},
     "output_type": "execute_result"
    }
   ],
   "source": [
    "print(\"parsed df size = \", df.shape)\n",
    "df.head()"
   ]
  },
  {
   "cell_type": "code",
   "execution_count": 22,
   "id": "63eaba55",
   "metadata": {},
   "outputs": [],
   "source": [
    "df = pd.read_csv(seq_with_hosts_parsed_filepath, header=None).rename(columns={0: \"uniref90_id\", 1: \"tax_id\", 2: \"host_ids\"})"
   ]
  },
  {
   "cell_type": "code",
   "execution_count": 23,
   "id": "e006c35a",
   "metadata": {},
   "outputs": [
    {
     "name": "stdout",
     "output_type": "stream",
     "text": [
      "parsed df size =  (4510, 3)\n"
     ]
    },
    {
     "data": {
      "text/html": [
       "<div>\n",
       "<style scoped>\n",
       "    .dataframe tbody tr th:only-of-type {\n",
       "        vertical-align: middle;\n",
       "    }\n",
       "\n",
       "    .dataframe tbody tr th {\n",
       "        vertical-align: top;\n",
       "    }\n",
       "\n",
       "    .dataframe thead th {\n",
       "        text-align: right;\n",
       "    }\n",
       "</style>\n",
       "<table border=\"1\" class=\"dataframe\">\n",
       "  <thead>\n",
       "    <tr style=\"text-align: right;\">\n",
       "      <th></th>\n",
       "      <th>uniref90_id</th>\n",
       "      <th>tax_id</th>\n",
       "      <th>host_ids</th>\n",
       "    </tr>\n",
       "  </thead>\n",
       "  <tbody>\n",
       "    <tr>\n",
       "      <th>0</th>\n",
       "      <td>UniRef90_A0A2H4ZBK9</td>\n",
       "      <td>694448</td>\n",
       "      <td>[]</td>\n",
       "    </tr>\n",
       "    <tr>\n",
       "      <th>1</th>\n",
       "      <td>UniRef90_A0A023PN62</td>\n",
       "      <td>11120</td>\n",
       "      <td>[]</td>\n",
       "    </tr>\n",
       "    <tr>\n",
       "      <th>2</th>\n",
       "      <td>UniRef90_A0A6G9KMG9</td>\n",
       "      <td>2708335</td>\n",
       "      <td>[]</td>\n",
       "    </tr>\n",
       "    <tr>\n",
       "      <th>3</th>\n",
       "      <td>UniRef90_A0A8B6RG64</td>\n",
       "      <td>2697049</td>\n",
       "      <td>[9606]</td>\n",
       "    </tr>\n",
       "    <tr>\n",
       "      <th>4</th>\n",
       "      <td>UniRef90_Q5Q1B8</td>\n",
       "      <td>11120</td>\n",
       "      <td>[]</td>\n",
       "    </tr>\n",
       "  </tbody>\n",
       "</table>\n",
       "</div>"
      ],
      "text/plain": [
       "           uniref90_id   tax_id host_ids\n",
       "0  UniRef90_A0A2H4ZBK9   694448       []\n",
       "1  UniRef90_A0A023PN62    11120       []\n",
       "2  UniRef90_A0A6G9KMG9  2708335       []\n",
       "3  UniRef90_A0A8B6RG64  2697049   [9606]\n",
       "4      UniRef90_Q5Q1B8    11120       []"
      ]
     },
     "execution_count": 23,
     "metadata": {},
     "output_type": "execute_result"
    }
   ],
   "source": [
    "print(\"parsed df size = \", df.shape)\n",
    "df.head()"
   ]
  },
  {
   "cell_type": "code",
   "execution_count": 25,
   "id": "f835cf0b",
   "metadata": {},
   "outputs": [
    {
     "data": {
      "text/html": [
       "<div>\n",
       "<style scoped>\n",
       "    .dataframe tbody tr th:only-of-type {\n",
       "        vertical-align: middle;\n",
       "    }\n",
       "\n",
       "    .dataframe tbody tr th {\n",
       "        vertical-align: top;\n",
       "    }\n",
       "\n",
       "    .dataframe thead th {\n",
       "        text-align: right;\n",
       "    }\n",
       "</style>\n",
       "<table border=\"1\" class=\"dataframe\">\n",
       "  <thead>\n",
       "    <tr style=\"text-align: right;\">\n",
       "      <th></th>\n",
       "      <th>uniref90_id</th>\n",
       "      <th>tax_id</th>\n",
       "      <th>host_ids</th>\n",
       "      <th>n_host_ids</th>\n",
       "    </tr>\n",
       "  </thead>\n",
       "  <tbody>\n",
       "    <tr>\n",
       "      <th>0</th>\n",
       "      <td>UniRef90_A0A2H4ZBK9</td>\n",
       "      <td>694448</td>\n",
       "      <td>[]</td>\n",
       "      <td>2</td>\n",
       "    </tr>\n",
       "    <tr>\n",
       "      <th>1</th>\n",
       "      <td>UniRef90_A0A023PN62</td>\n",
       "      <td>11120</td>\n",
       "      <td>[]</td>\n",
       "      <td>2</td>\n",
       "    </tr>\n",
       "    <tr>\n",
       "      <th>2</th>\n",
       "      <td>UniRef90_A0A6G9KMG9</td>\n",
       "      <td>2708335</td>\n",
       "      <td>[]</td>\n",
       "      <td>2</td>\n",
       "    </tr>\n",
       "    <tr>\n",
       "      <th>3</th>\n",
       "      <td>UniRef90_A0A8B6RG64</td>\n",
       "      <td>2697049</td>\n",
       "      <td>[9606]</td>\n",
       "      <td>6</td>\n",
       "    </tr>\n",
       "    <tr>\n",
       "      <th>4</th>\n",
       "      <td>UniRef90_Q5Q1B8</td>\n",
       "      <td>11120</td>\n",
       "      <td>[]</td>\n",
       "      <td>2</td>\n",
       "    </tr>\n",
       "  </tbody>\n",
       "</table>\n",
       "</div>"
      ],
      "text/plain": [
       "           uniref90_id   tax_id host_ids  n_host_ids\n",
       "0  UniRef90_A0A2H4ZBK9   694448       []           2\n",
       "1  UniRef90_A0A023PN62    11120       []           2\n",
       "2  UniRef90_A0A6G9KMG9  2708335       []           2\n",
       "3  UniRef90_A0A8B6RG64  2697049   [9606]           6\n",
       "4      UniRef90_Q5Q1B8    11120       []           2"
      ]
     },
     "execution_count": 25,
     "metadata": {},
     "output_type": "execute_result"
    }
   ],
   "source": [
    "df[\"n_host_ids\"] = df[\"host_ids\"].apply(lambda x: len(x))\n",
    "df.head()"
   ]
  },
  {
   "cell_type": "code",
   "execution_count": 27,
   "id": "f6f74185",
   "metadata": {},
   "outputs": [
    {
     "name": "stdout",
     "output_type": "stream",
     "text": [
      "w_hosts shape = (4510, 4)\n",
      "wo_hosts shape = (0, 4)\n"
     ]
    }
   ],
   "source": [
    "w_hosts = df[df[\"n_host_ids\"] > 0]\n",
    "wo_hosts = df[df[\"n_host_ids\"] == 0]\n",
    "\n",
    "print(f\"w_hosts shape = {w_hosts.shape}\")\n",
    "print(f\"wo_hosts shape = {wo_hosts.shape}\")\n",
    "             \n",
    "             \n",
    "             "
   ]
  },
  {
   "cell_type": "markdown",
   "id": "25fe1210",
   "metadata": {},
   "source": [
    "### Sequence Alignment"
   ]
  },
  {
   "cell_type": "code",
   "execution_count": 50,
   "id": "5193534b",
   "metadata": {},
   "outputs": [],
   "source": [
    "input_file_path = \"/home/grads/blessyantony/dev/git/zoonosis/input/data/coronaviridae/coronaviridae_top_7_hosts.csv\"\n",
    "coronaviridae_top_7_df = pd.read_csv(input_file_path)"
   ]
  },
  {
   "cell_type": "code",
   "execution_count": 61,
   "id": "e899ca58",
   "metadata": {},
   "outputs": [
    {
     "data": {
      "text/html": [
       "<div>\n",
       "<style scoped>\n",
       "    .dataframe tbody tr th:only-of-type {\n",
       "        vertical-align: middle;\n",
       "    }\n",
       "\n",
       "    .dataframe tbody tr th {\n",
       "        vertical-align: top;\n",
       "    }\n",
       "\n",
       "    .dataframe thead th {\n",
       "        text-align: right;\n",
       "    }\n",
       "</style>\n",
       "<table border=\"1\" class=\"dataframe\">\n",
       "  <thead>\n",
       "    <tr style=\"text-align: right;\">\n",
       "      <th></th>\n",
       "      <th>id</th>\n",
       "      <th>seq</th>\n",
       "    </tr>\n",
       "  </thead>\n",
       "  <tbody>\n",
       "    <tr>\n",
       "      <th>0</th>\n",
       "      <td>A3EX94</td>\n",
       "      <td>MTLLMCLLMSLLIFVRGCDSQFVDMSPASNTSECLESQVDAAAFSK...</td>\n",
       "    </tr>\n",
       "    <tr>\n",
       "      <th>1</th>\n",
       "      <td>A3EXD0</td>\n",
       "      <td>MIRSVLVLMCSLTFIGNLTRGQSVDMGHNGTGSCLDSQVQPDYFES...</td>\n",
       "    </tr>\n",
       "    <tr>\n",
       "      <th>2</th>\n",
       "      <td>P0DTC2</td>\n",
       "      <td>MFVFLVLLPLVSSQCVNLTTRTQLPPAYTNSFTRGVYYPDKVFRSS...</td>\n",
       "    </tr>\n",
       "    <tr>\n",
       "      <th>3</th>\n",
       "      <td>P11223</td>\n",
       "      <td>MLVTPLLLVTLLCALCSAVLYDSSSYVYYYQSAFRPPSGWHLQGGA...</td>\n",
       "    </tr>\n",
       "    <tr>\n",
       "      <th>4</th>\n",
       "      <td>P12651</td>\n",
       "      <td>MLVTPLLLVTLLCVLCSAALYDSSSYVYYYQSAFRPPNGWHLHGGA...</td>\n",
       "    </tr>\n",
       "    <tr>\n",
       "      <th>...</th>\n",
       "      <td>...</td>\n",
       "      <td>...</td>\n",
       "    </tr>\n",
       "    <tr>\n",
       "      <th>5110</th>\n",
       "      <td>U5LXF4</td>\n",
       "      <td>LSHEQPISFVTLPSFNDHSFVNITVSASFGGRSGANLIASDTTING...</td>\n",
       "    </tr>\n",
       "    <tr>\n",
       "      <th>5111</th>\n",
       "      <td>U5LXF9</td>\n",
       "      <td>LSHEQPISFVTLPSFNDHSFVNITVSASFGGHSGANLIASDTTING...</td>\n",
       "    </tr>\n",
       "    <tr>\n",
       "      <th>5112</th>\n",
       "      <td>U5LXN0</td>\n",
       "      <td>LSHEQPISFVTLPSFNDHSFVNITVSAAFGGHSGANLIASDTTING...</td>\n",
       "    </tr>\n",
       "    <tr>\n",
       "      <th>5113</th>\n",
       "      <td>U5LXN4</td>\n",
       "      <td>LSHEQPISFVTLPSFNDHSFVNITVSASFGGHSGANLIASDTTING...</td>\n",
       "    </tr>\n",
       "    <tr>\n",
       "      <th>5114</th>\n",
       "      <td>U5LXP0</td>\n",
       "      <td>LSHEQPISFVTLPSFNDHSFVNITVSASFGGHSGANLIASDTTING...</td>\n",
       "    </tr>\n",
       "  </tbody>\n",
       "</table>\n",
       "<p>5115 rows × 2 columns</p>\n",
       "</div>"
      ],
      "text/plain": [
       "          id                                                seq\n",
       "0     A3EX94  MTLLMCLLMSLLIFVRGCDSQFVDMSPASNTSECLESQVDAAAFSK...\n",
       "1     A3EXD0  MIRSVLVLMCSLTFIGNLTRGQSVDMGHNGTGSCLDSQVQPDYFES...\n",
       "2     P0DTC2  MFVFLVLLPLVSSQCVNLTTRTQLPPAYTNSFTRGVYYPDKVFRSS...\n",
       "3     P11223  MLVTPLLLVTLLCALCSAVLYDSSSYVYYYQSAFRPPSGWHLQGGA...\n",
       "4     P12651  MLVTPLLLVTLLCVLCSAALYDSSSYVYYYQSAFRPPNGWHLHGGA...\n",
       "...      ...                                                ...\n",
       "5110  U5LXF4  LSHEQPISFVTLPSFNDHSFVNITVSASFGGRSGANLIASDTTING...\n",
       "5111  U5LXF9  LSHEQPISFVTLPSFNDHSFVNITVSASFGGHSGANLIASDTTING...\n",
       "5112  U5LXN0  LSHEQPISFVTLPSFNDHSFVNITVSAAFGGHSGANLIASDTTING...\n",
       "5113  U5LXN4  LSHEQPISFVTLPSFNDHSFVNITVSASFGGHSGANLIASDTTING...\n",
       "5114  U5LXP0  LSHEQPISFVTLPSFNDHSFVNITVSASFGGHSGANLIASDTTING...\n",
       "\n",
       "[5115 rows x 2 columns]"
      ]
     },
     "execution_count": 61,
     "metadata": {},
     "output_type": "execute_result"
    }
   ],
   "source": [
    "coronaviridae_top_7_df"
   ]
  },
  {
   "cell_type": "code",
   "execution_count": 57,
   "id": "56a06443",
   "metadata": {},
   "outputs": [],
   "source": [
    "# Convert to Fasta Format\n",
    "# 1. Convert pandas df to tab format\n",
    "coronaviridae_top_7_df = coronaviridae_top_7_df[[\"id\", \"seq\"]]\n",
    "coronaviridae_top_7_df.to_csv(\"/home/grads/blessyantony/dev/git/zoonosis/input/data/coronaviridae/coronaviridae_top_7_hosts.tab\", sep=\"\\t\", index=False)"
   ]
  },
  {
   "cell_type": "code",
   "execution_count": 60,
   "id": "725ff533",
   "metadata": {},
   "outputs": [
    {
     "name": "stdout",
     "output_type": "stream",
     "text": [
      "Converted 5116 records\n"
     ]
    }
   ],
   "source": [
    "# 2. Convert from tab to fasta\n",
    "records_count = SeqIO.convert(\"/home/grads/blessyantony/dev/git/zoonosis/input/data/coronaviridae/coronaviridae_top_7_hosts.tab\", \"tab\", \n",
    "                             \"/home/grads/blessyantony/dev/git/zoonosis/input/data/coronaviridae/coronaviridae_top_7_hosts.fasta\", \"fasta\")\n",
    "print(f\"Converted {records_count} records\")"
   ]
  },
  {
   "cell_type": "code",
   "execution_count": 62,
   "id": "ab1ebbef",
   "metadata": {},
   "outputs": [
    {
     "name": "stdout",
     "output_type": "stream",
     "text": [
      "Converted 5115 records\n"
     ]
    }
   ],
   "source": [
    "# # Convert aligned sequences from fasta back to tab\n",
    "records_count = SeqIO.convert(\"/home/grads/blessyantony/dev/git/zoonosis/input/data/coronaviridae/alignement-mafft/cov_s_prot_alignement_5k_ba.fasta\", \"fasta\", \n",
    "                             \"/home/grads/blessyantony/dev/git/zoonosis/input/data/coronaviridae/cov_s_prot_alignement_5k.tab\", \"tab\")\n",
    "print(f\"Converted {records_count} records\")"
   ]
  },
  {
   "cell_type": "code",
   "execution_count": 63,
   "id": "992dcc4c",
   "metadata": {},
   "outputs": [],
   "source": [
    "coronaviridae_top_7_aligned_df = pd.read_csv(\"/home/grads/blessyantony/dev/git/zoonosis/input/data/coronaviridae/cov_s_prot_alignement_5k.tab\", sep=\"\\t\", header=None, names=[\"id\", \"seq\"])"
   ]
  },
  {
   "cell_type": "code",
   "execution_count": 64,
   "id": "b4504e4f",
   "metadata": {},
   "outputs": [
    {
     "data": {
      "text/html": [
       "<div>\n",
       "<style scoped>\n",
       "    .dataframe tbody tr th:only-of-type {\n",
       "        vertical-align: middle;\n",
       "    }\n",
       "\n",
       "    .dataframe tbody tr th {\n",
       "        vertical-align: top;\n",
       "    }\n",
       "\n",
       "    .dataframe thead th {\n",
       "        text-align: right;\n",
       "    }\n",
       "</style>\n",
       "<table border=\"1\" class=\"dataframe\">\n",
       "  <thead>\n",
       "    <tr style=\"text-align: right;\">\n",
       "      <th></th>\n",
       "      <th>id</th>\n",
       "      <th>seq</th>\n",
       "    </tr>\n",
       "  </thead>\n",
       "  <tbody>\n",
       "    <tr>\n",
       "      <th>0</th>\n",
       "      <td>A3EX94</td>\n",
       "      <td>--MTLLMCLLMSLLIFV----RG-CDSQFVDMSPASNTSECLES--...</td>\n",
       "    </tr>\n",
       "    <tr>\n",
       "      <th>1</th>\n",
       "      <td>A0A6F8II97</td>\n",
       "      <td>--MTLLMCLLMSLLIFV----RG-CDSQFVDMSPASNTSECLES--...</td>\n",
       "    </tr>\n",
       "    <tr>\n",
       "      <th>2</th>\n",
       "      <td>S4WYD2</td>\n",
       "      <td>--MTLLMCLLMSLLIFV----RG-CDSQFVDMSPASNTSECLES--...</td>\n",
       "    </tr>\n",
       "    <tr>\n",
       "      <th>3</th>\n",
       "      <td>S4WWQ3</td>\n",
       "      <td>--MTLLMCLLMSLLIFV----RG-CDSQFVDMSPASNTSECLES--...</td>\n",
       "    </tr>\n",
       "    <tr>\n",
       "      <th>4</th>\n",
       "      <td>S4WZQ1</td>\n",
       "      <td>--MTLLMCLLMSLLIFV----RG-CDSQFVDMSPASNTSECLES--...</td>\n",
       "    </tr>\n",
       "    <tr>\n",
       "      <th>...</th>\n",
       "      <td>...</td>\n",
       "      <td>...</td>\n",
       "    </tr>\n",
       "    <tr>\n",
       "      <th>5110</th>\n",
       "      <td>P12722</td>\n",
       "      <td>--MLERSLLLATLLSALC---SANLFGNNSYV--------------...</td>\n",
       "    </tr>\n",
       "    <tr>\n",
       "      <th>5111</th>\n",
       "      <td>P30207</td>\n",
       "      <td>-----------------------NLFGNNSYV--------------...</td>\n",
       "    </tr>\n",
       "    <tr>\n",
       "      <th>5112</th>\n",
       "      <td>P30208</td>\n",
       "      <td>-----------------------NLFGNNSYV--------------...</td>\n",
       "    </tr>\n",
       "    <tr>\n",
       "      <th>5113</th>\n",
       "      <td>P17662</td>\n",
       "      <td>--MLEKSLLLVTLLFALC---SANLFGNNSYV--------------...</td>\n",
       "    </tr>\n",
       "    <tr>\n",
       "      <th>5114</th>\n",
       "      <td>P30206</td>\n",
       "      <td>-----------------------NLFGNNSYV--------------...</td>\n",
       "    </tr>\n",
       "  </tbody>\n",
       "</table>\n",
       "<p>5115 rows × 2 columns</p>\n",
       "</div>"
      ],
      "text/plain": [
       "              id                                                seq\n",
       "0         A3EX94  --MTLLMCLLMSLLIFV----RG-CDSQFVDMSPASNTSECLES--...\n",
       "1     A0A6F8II97  --MTLLMCLLMSLLIFV----RG-CDSQFVDMSPASNTSECLES--...\n",
       "2         S4WYD2  --MTLLMCLLMSLLIFV----RG-CDSQFVDMSPASNTSECLES--...\n",
       "3         S4WWQ3  --MTLLMCLLMSLLIFV----RG-CDSQFVDMSPASNTSECLES--...\n",
       "4         S4WZQ1  --MTLLMCLLMSLLIFV----RG-CDSQFVDMSPASNTSECLES--...\n",
       "...          ...                                                ...\n",
       "5110      P12722  --MLERSLLLATLLSALC---SANLFGNNSYV--------------...\n",
       "5111      P30207  -----------------------NLFGNNSYV--------------...\n",
       "5112      P30208  -----------------------NLFGNNSYV--------------...\n",
       "5113      P17662  --MLEKSLLLVTLLFALC---SANLFGNNSYV--------------...\n",
       "5114      P30206  -----------------------NLFGNNSYV--------------...\n",
       "\n",
       "[5115 rows x 2 columns]"
      ]
     },
     "execution_count": 64,
     "metadata": {},
     "output_type": "execute_result"
    }
   ],
   "source": [
    "coronaviridae_top_7_aligned_df"
   ]
  },
  {
   "cell_type": "code",
   "execution_count": 69,
   "id": "2a4290fd",
   "metadata": {},
   "outputs": [],
   "source": [
    "# merge it back with the original dataset\n",
    "df = df_dedup_top_6_hosts.set_index(\"id\").join(coronaviridae_top_7_aligned_df.set_index(\"id\"), rsuffix=\"_aligned\")"
   ]
  },
  {
   "cell_type": "code",
   "execution_count": 70,
   "id": "bcd8c214",
   "metadata": {},
   "outputs": [
    {
     "data": {
      "text/html": [
       "<div>\n",
       "<style scoped>\n",
       "    .dataframe tbody tr th:only-of-type {\n",
       "        vertical-align: middle;\n",
       "    }\n",
       "\n",
       "    .dataframe tbody tr th {\n",
       "        vertical-align: top;\n",
       "    }\n",
       "\n",
       "    .dataframe thead th {\n",
       "        text-align: right;\n",
       "    }\n",
       "</style>\n",
       "<table border=\"1\" class=\"dataframe\">\n",
       "  <thead>\n",
       "    <tr style=\"text-align: right;\">\n",
       "      <th></th>\n",
       "      <th>seq</th>\n",
       "      <th>virus</th>\n",
       "      <th>seq_len</th>\n",
       "      <th>virus_host</th>\n",
       "      <th>binary_label</th>\n",
       "      <th>seq_aligned</th>\n",
       "    </tr>\n",
       "    <tr>\n",
       "      <th>id</th>\n",
       "      <th></th>\n",
       "      <th></th>\n",
       "      <th></th>\n",
       "      <th></th>\n",
       "      <th></th>\n",
       "      <th></th>\n",
       "    </tr>\n",
       "  </thead>\n",
       "  <tbody>\n",
       "    <tr>\n",
       "      <th>A3EX94</th>\n",
       "      <td>MTLLMCLLMSLLIFVRGCDSQFVDMSPASNTSECLESQVDAAAFSK...</td>\n",
       "      <td>Bat coronavirus HKU4 (BtCoV) (BtCoV/HKU4/2004)</td>\n",
       "      <td>1352</td>\n",
       "      <td>Tylonycteris pachypus (Lesser bamboo bat) (Ves...</td>\n",
       "      <td>Not Human</td>\n",
       "      <td>--MTLLMCLLMSLLIFV----RG-CDSQFVDMSPASNTSECLES--...</td>\n",
       "    </tr>\n",
       "    <tr>\n",
       "      <th>A3EXD0</th>\n",
       "      <td>MIRSVLVLMCSLTFIGNLTRGQSVDMGHNGTGSCLDSQVQPDYFES...</td>\n",
       "      <td>Bat coronavirus HKU5 (BtCoV) (BtCoV/HKU5/2004)</td>\n",
       "      <td>1352</td>\n",
       "      <td>Pipistrellus abramus (Japanese pipistrelle) (P...</td>\n",
       "      <td>Not Human</td>\n",
       "      <td>--MIRSVLVLMCSLTFI----GNLTRGQSVDMGHNGTGS-CLDS--...</td>\n",
       "    </tr>\n",
       "    <tr>\n",
       "      <th>P0DTC2</th>\n",
       "      <td>MFVFLVLLPLVSSQCVNLTTRTQLPPAYTNSFTRGVYYPDKVFRSS...</td>\n",
       "      <td>Severe acute respiratory syndrome coronavirus ...</td>\n",
       "      <td>1273</td>\n",
       "      <td>Homo sapiens (Human) [TaxID: 9606]</td>\n",
       "      <td>Human</td>\n",
       "      <td>---------MFVFLVLL-----------------------------...</td>\n",
       "    </tr>\n",
       "    <tr>\n",
       "      <th>P11223</th>\n",
       "      <td>MLVTPLLLVTLLCALCSAVLYDSSSYVYYYQSAFRPPSGWHLQGGA...</td>\n",
       "      <td>Avian infectious bronchitis virus (strain Beau...</td>\n",
       "      <td>1162</td>\n",
       "      <td>Gallus gallus (Chicken) [TaxID: 9031]</td>\n",
       "      <td>Not Human</td>\n",
       "      <td>--MLVTP---LLLVTLLC------ALCSAVLY----DSSSYV----...</td>\n",
       "    </tr>\n",
       "    <tr>\n",
       "      <th>P12651</th>\n",
       "      <td>MLVTPLLLVTLLCVLCSAALYDSSSYVYYYQSAFRPPNGWHLHGGA...</td>\n",
       "      <td>Avian infectious bronchitis virus (strain M41)...</td>\n",
       "      <td>1162</td>\n",
       "      <td>Gallus gallus (Chicken) [TaxID: 9031]</td>\n",
       "      <td>Not Human</td>\n",
       "      <td>--MLVTP---LLLVTLLC------VLCSAALY----DSSSYV----...</td>\n",
       "    </tr>\n",
       "    <tr>\n",
       "      <th>...</th>\n",
       "      <td>...</td>\n",
       "      <td>...</td>\n",
       "      <td>...</td>\n",
       "      <td>...</td>\n",
       "      <td>...</td>\n",
       "      <td>...</td>\n",
       "    </tr>\n",
       "    <tr>\n",
       "      <th>U5LXF4</th>\n",
       "      <td>LSHEQPISFVTLPSFNDHSFVNITVSASFGGRSGANLIASDTTING...</td>\n",
       "      <td>Porcine epidemic diarrhea virus</td>\n",
       "      <td>298</td>\n",
       "      <td>Sus scrofa (Pig) [TaxID: 9823]</td>\n",
       "      <td>Not Human</td>\n",
       "      <td>----------------------------------------------...</td>\n",
       "    </tr>\n",
       "    <tr>\n",
       "      <th>U5LXF9</th>\n",
       "      <td>LSHEQPISFVTLPSFNDHSFVNITVSASFGGHSGANLIASDTTING...</td>\n",
       "      <td>Porcine epidemic diarrhea virus</td>\n",
       "      <td>298</td>\n",
       "      <td>Sus scrofa (Pig) [TaxID: 9823]</td>\n",
       "      <td>Not Human</td>\n",
       "      <td>----------------------------------------------...</td>\n",
       "    </tr>\n",
       "    <tr>\n",
       "      <th>U5LXN0</th>\n",
       "      <td>LSHEQPISFVTLPSFNDHSFVNITVSAAFGGHSGANLIASDTTING...</td>\n",
       "      <td>Porcine epidemic diarrhea virus</td>\n",
       "      <td>298</td>\n",
       "      <td>Sus scrofa (Pig) [TaxID: 9823]</td>\n",
       "      <td>Not Human</td>\n",
       "      <td>----------------------------------------------...</td>\n",
       "    </tr>\n",
       "    <tr>\n",
       "      <th>U5LXN4</th>\n",
       "      <td>LSHEQPISFVTLPSFNDHSFVNITVSASFGGHSGANLIASDTTING...</td>\n",
       "      <td>Porcine epidemic diarrhea virus</td>\n",
       "      <td>298</td>\n",
       "      <td>Sus scrofa (Pig) [TaxID: 9823]</td>\n",
       "      <td>Not Human</td>\n",
       "      <td>----------------------------------------------...</td>\n",
       "    </tr>\n",
       "    <tr>\n",
       "      <th>U5LXP0</th>\n",
       "      <td>LSHEQPISFVTLPSFNDHSFVNITVSASFGGHSGANLIASDTTING...</td>\n",
       "      <td>Porcine epidemic diarrhea virus</td>\n",
       "      <td>298</td>\n",
       "      <td>Sus scrofa (Pig) [TaxID: 9823]</td>\n",
       "      <td>Not Human</td>\n",
       "      <td>----------------------------------------------...</td>\n",
       "    </tr>\n",
       "  </tbody>\n",
       "</table>\n",
       "<p>5115 rows × 6 columns</p>\n",
       "</div>"
      ],
      "text/plain": [
       "                                                      seq  \\\n",
       "id                                                          \n",
       "A3EX94  MTLLMCLLMSLLIFVRGCDSQFVDMSPASNTSECLESQVDAAAFSK...   \n",
       "A3EXD0  MIRSVLVLMCSLTFIGNLTRGQSVDMGHNGTGSCLDSQVQPDYFES...   \n",
       "P0DTC2  MFVFLVLLPLVSSQCVNLTTRTQLPPAYTNSFTRGVYYPDKVFRSS...   \n",
       "P11223  MLVTPLLLVTLLCALCSAVLYDSSSYVYYYQSAFRPPSGWHLQGGA...   \n",
       "P12651  MLVTPLLLVTLLCVLCSAALYDSSSYVYYYQSAFRPPNGWHLHGGA...   \n",
       "...                                                   ...   \n",
       "U5LXF4  LSHEQPISFVTLPSFNDHSFVNITVSASFGGRSGANLIASDTTING...   \n",
       "U5LXF9  LSHEQPISFVTLPSFNDHSFVNITVSASFGGHSGANLIASDTTING...   \n",
       "U5LXN0  LSHEQPISFVTLPSFNDHSFVNITVSAAFGGHSGANLIASDTTING...   \n",
       "U5LXN4  LSHEQPISFVTLPSFNDHSFVNITVSASFGGHSGANLIASDTTING...   \n",
       "U5LXP0  LSHEQPISFVTLPSFNDHSFVNITVSASFGGHSGANLIASDTTING...   \n",
       "\n",
       "                                                    virus  seq_len  \\\n",
       "id                                                                   \n",
       "A3EX94     Bat coronavirus HKU4 (BtCoV) (BtCoV/HKU4/2004)     1352   \n",
       "A3EXD0     Bat coronavirus HKU5 (BtCoV) (BtCoV/HKU5/2004)     1352   \n",
       "P0DTC2  Severe acute respiratory syndrome coronavirus ...     1273   \n",
       "P11223  Avian infectious bronchitis virus (strain Beau...     1162   \n",
       "P12651  Avian infectious bronchitis virus (strain M41)...     1162   \n",
       "...                                                   ...      ...   \n",
       "U5LXF4                    Porcine epidemic diarrhea virus      298   \n",
       "U5LXF9                    Porcine epidemic diarrhea virus      298   \n",
       "U5LXN0                    Porcine epidemic diarrhea virus      298   \n",
       "U5LXN4                    Porcine epidemic diarrhea virus      298   \n",
       "U5LXP0                    Porcine epidemic diarrhea virus      298   \n",
       "\n",
       "                                               virus_host binary_label  \\\n",
       "id                                                                       \n",
       "A3EX94  Tylonycteris pachypus (Lesser bamboo bat) (Ves...    Not Human   \n",
       "A3EXD0  Pipistrellus abramus (Japanese pipistrelle) (P...    Not Human   \n",
       "P0DTC2                 Homo sapiens (Human) [TaxID: 9606]        Human   \n",
       "P11223              Gallus gallus (Chicken) [TaxID: 9031]    Not Human   \n",
       "P12651              Gallus gallus (Chicken) [TaxID: 9031]    Not Human   \n",
       "...                                                   ...          ...   \n",
       "U5LXF4                     Sus scrofa (Pig) [TaxID: 9823]    Not Human   \n",
       "U5LXF9                     Sus scrofa (Pig) [TaxID: 9823]    Not Human   \n",
       "U5LXN0                     Sus scrofa (Pig) [TaxID: 9823]    Not Human   \n",
       "U5LXN4                     Sus scrofa (Pig) [TaxID: 9823]    Not Human   \n",
       "U5LXP0                     Sus scrofa (Pig) [TaxID: 9823]    Not Human   \n",
       "\n",
       "                                              seq_aligned  \n",
       "id                                                         \n",
       "A3EX94  --MTLLMCLLMSLLIFV----RG-CDSQFVDMSPASNTSECLES--...  \n",
       "A3EXD0  --MIRSVLVLMCSLTFI----GNLTRGQSVDMGHNGTGS-CLDS--...  \n",
       "P0DTC2  ---------MFVFLVLL-----------------------------...  \n",
       "P11223  --MLVTP---LLLVTLLC------ALCSAVLY----DSSSYV----...  \n",
       "P12651  --MLVTP---LLLVTLLC------VLCSAALY----DSSSYV----...  \n",
       "...                                                   ...  \n",
       "U5LXF4  ----------------------------------------------...  \n",
       "U5LXF9  ----------------------------------------------...  \n",
       "U5LXN0  ----------------------------------------------...  \n",
       "U5LXN4  ----------------------------------------------...  \n",
       "U5LXP0  ----------------------------------------------...  \n",
       "\n",
       "[5115 rows x 6 columns]"
      ]
     },
     "execution_count": 70,
     "metadata": {},
     "output_type": "execute_result"
    }
   ],
   "source": [
    "df"
   ]
  },
  {
   "cell_type": "code",
   "execution_count": 80,
   "id": "7580397f",
   "metadata": {},
   "outputs": [
    {
     "data": {
      "text/html": [
       "<div>\n",
       "<style scoped>\n",
       "    .dataframe tbody tr th:only-of-type {\n",
       "        vertical-align: middle;\n",
       "    }\n",
       "\n",
       "    .dataframe tbody tr th {\n",
       "        vertical-align: top;\n",
       "    }\n",
       "\n",
       "    .dataframe thead th {\n",
       "        text-align: right;\n",
       "    }\n",
       "</style>\n",
       "<table border=\"1\" class=\"dataframe\">\n",
       "  <thead>\n",
       "    <tr style=\"text-align: right;\">\n",
       "      <th></th>\n",
       "      <th>seq</th>\n",
       "      <th>virus</th>\n",
       "      <th>seq_len</th>\n",
       "      <th>virus_host</th>\n",
       "      <th>binary_label</th>\n",
       "      <th>seq_aligned</th>\n",
       "      <th>aligned_seq_len</th>\n",
       "      <th>aligned_token_count</th>\n",
       "    </tr>\n",
       "    <tr>\n",
       "      <th>id</th>\n",
       "      <th></th>\n",
       "      <th></th>\n",
       "      <th></th>\n",
       "      <th></th>\n",
       "      <th></th>\n",
       "      <th></th>\n",
       "      <th></th>\n",
       "      <th></th>\n",
       "    </tr>\n",
       "  </thead>\n",
       "  <tbody>\n",
       "    <tr>\n",
       "      <th>A3EX94</th>\n",
       "      <td>MTLLMCLLMSLLIFVRGCDSQFVDMSPASNTSECLESQVDAAAFSK...</td>\n",
       "      <td>Bat coronavirus HKU4 (BtCoV) (BtCoV/HKU4/2004)</td>\n",
       "      <td>1352</td>\n",
       "      <td>Tylonycteris pachypus (Lesser bamboo bat) (Ves...</td>\n",
       "      <td>Not Human</td>\n",
       "      <td>--MTLLMCLLMSLLIFV----RG-CDSQFVDMSPASNTSECLES--...</td>\n",
       "      <td>2169</td>\n",
       "      <td>1352</td>\n",
       "    </tr>\n",
       "    <tr>\n",
       "      <th>A3EXD0</th>\n",
       "      <td>MIRSVLVLMCSLTFIGNLTRGQSVDMGHNGTGSCLDSQVQPDYFES...</td>\n",
       "      <td>Bat coronavirus HKU5 (BtCoV) (BtCoV/HKU5/2004)</td>\n",
       "      <td>1352</td>\n",
       "      <td>Pipistrellus abramus (Japanese pipistrelle) (P...</td>\n",
       "      <td>Not Human</td>\n",
       "      <td>--MIRSVLVLMCSLTFI----GNLTRGQSVDMGHNGTGS-CLDS--...</td>\n",
       "      <td>2169</td>\n",
       "      <td>1352</td>\n",
       "    </tr>\n",
       "    <tr>\n",
       "      <th>P0DTC2</th>\n",
       "      <td>MFVFLVLLPLVSSQCVNLTTRTQLPPAYTNSFTRGVYYPDKVFRSS...</td>\n",
       "      <td>Severe acute respiratory syndrome coronavirus ...</td>\n",
       "      <td>1273</td>\n",
       "      <td>Homo sapiens (Human) [TaxID: 9606]</td>\n",
       "      <td>Human</td>\n",
       "      <td>---------MFVFLVLL-----------------------------...</td>\n",
       "      <td>2169</td>\n",
       "      <td>1273</td>\n",
       "    </tr>\n",
       "    <tr>\n",
       "      <th>P11223</th>\n",
       "      <td>MLVTPLLLVTLLCALCSAVLYDSSSYVYYYQSAFRPPSGWHLQGGA...</td>\n",
       "      <td>Avian infectious bronchitis virus (strain Beau...</td>\n",
       "      <td>1162</td>\n",
       "      <td>Gallus gallus (Chicken) [TaxID: 9031]</td>\n",
       "      <td>Not Human</td>\n",
       "      <td>--MLVTP---LLLVTLLC------ALCSAVLY----DSSSYV----...</td>\n",
       "      <td>2169</td>\n",
       "      <td>1162</td>\n",
       "    </tr>\n",
       "    <tr>\n",
       "      <th>P12651</th>\n",
       "      <td>MLVTPLLLVTLLCVLCSAALYDSSSYVYYYQSAFRPPNGWHLHGGA...</td>\n",
       "      <td>Avian infectious bronchitis virus (strain M41)...</td>\n",
       "      <td>1162</td>\n",
       "      <td>Gallus gallus (Chicken) [TaxID: 9031]</td>\n",
       "      <td>Not Human</td>\n",
       "      <td>--MLVTP---LLLVTLLC------VLCSAALY----DSSSYV----...</td>\n",
       "      <td>2169</td>\n",
       "      <td>1162</td>\n",
       "    </tr>\n",
       "    <tr>\n",
       "      <th>...</th>\n",
       "      <td>...</td>\n",
       "      <td>...</td>\n",
       "      <td>...</td>\n",
       "      <td>...</td>\n",
       "      <td>...</td>\n",
       "      <td>...</td>\n",
       "      <td>...</td>\n",
       "      <td>...</td>\n",
       "    </tr>\n",
       "    <tr>\n",
       "      <th>U5LXF4</th>\n",
       "      <td>LSHEQPISFVTLPSFNDHSFVNITVSASFGGRSGANLIASDTTING...</td>\n",
       "      <td>Porcine epidemic diarrhea virus</td>\n",
       "      <td>298</td>\n",
       "      <td>Sus scrofa (Pig) [TaxID: 9823]</td>\n",
       "      <td>Not Human</td>\n",
       "      <td>----------------------------------------------...</td>\n",
       "      <td>2169</td>\n",
       "      <td>298</td>\n",
       "    </tr>\n",
       "    <tr>\n",
       "      <th>U5LXF9</th>\n",
       "      <td>LSHEQPISFVTLPSFNDHSFVNITVSASFGGHSGANLIASDTTING...</td>\n",
       "      <td>Porcine epidemic diarrhea virus</td>\n",
       "      <td>298</td>\n",
       "      <td>Sus scrofa (Pig) [TaxID: 9823]</td>\n",
       "      <td>Not Human</td>\n",
       "      <td>----------------------------------------------...</td>\n",
       "      <td>2169</td>\n",
       "      <td>298</td>\n",
       "    </tr>\n",
       "    <tr>\n",
       "      <th>U5LXN0</th>\n",
       "      <td>LSHEQPISFVTLPSFNDHSFVNITVSAAFGGHSGANLIASDTTING...</td>\n",
       "      <td>Porcine epidemic diarrhea virus</td>\n",
       "      <td>298</td>\n",
       "      <td>Sus scrofa (Pig) [TaxID: 9823]</td>\n",
       "      <td>Not Human</td>\n",
       "      <td>----------------------------------------------...</td>\n",
       "      <td>2169</td>\n",
       "      <td>298</td>\n",
       "    </tr>\n",
       "    <tr>\n",
       "      <th>U5LXN4</th>\n",
       "      <td>LSHEQPISFVTLPSFNDHSFVNITVSASFGGHSGANLIASDTTING...</td>\n",
       "      <td>Porcine epidemic diarrhea virus</td>\n",
       "      <td>298</td>\n",
       "      <td>Sus scrofa (Pig) [TaxID: 9823]</td>\n",
       "      <td>Not Human</td>\n",
       "      <td>----------------------------------------------...</td>\n",
       "      <td>2169</td>\n",
       "      <td>298</td>\n",
       "    </tr>\n",
       "    <tr>\n",
       "      <th>U5LXP0</th>\n",
       "      <td>LSHEQPISFVTLPSFNDHSFVNITVSASFGGHSGANLIASDTTING...</td>\n",
       "      <td>Porcine epidemic diarrhea virus</td>\n",
       "      <td>298</td>\n",
       "      <td>Sus scrofa (Pig) [TaxID: 9823]</td>\n",
       "      <td>Not Human</td>\n",
       "      <td>----------------------------------------------...</td>\n",
       "      <td>2169</td>\n",
       "      <td>298</td>\n",
       "    </tr>\n",
       "  </tbody>\n",
       "</table>\n",
       "<p>5115 rows × 8 columns</p>\n",
       "</div>"
      ],
      "text/plain": [
       "                                                      seq  \\\n",
       "id                                                          \n",
       "A3EX94  MTLLMCLLMSLLIFVRGCDSQFVDMSPASNTSECLESQVDAAAFSK...   \n",
       "A3EXD0  MIRSVLVLMCSLTFIGNLTRGQSVDMGHNGTGSCLDSQVQPDYFES...   \n",
       "P0DTC2  MFVFLVLLPLVSSQCVNLTTRTQLPPAYTNSFTRGVYYPDKVFRSS...   \n",
       "P11223  MLVTPLLLVTLLCALCSAVLYDSSSYVYYYQSAFRPPSGWHLQGGA...   \n",
       "P12651  MLVTPLLLVTLLCVLCSAALYDSSSYVYYYQSAFRPPNGWHLHGGA...   \n",
       "...                                                   ...   \n",
       "U5LXF4  LSHEQPISFVTLPSFNDHSFVNITVSASFGGRSGANLIASDTTING...   \n",
       "U5LXF9  LSHEQPISFVTLPSFNDHSFVNITVSASFGGHSGANLIASDTTING...   \n",
       "U5LXN0  LSHEQPISFVTLPSFNDHSFVNITVSAAFGGHSGANLIASDTTING...   \n",
       "U5LXN4  LSHEQPISFVTLPSFNDHSFVNITVSASFGGHSGANLIASDTTING...   \n",
       "U5LXP0  LSHEQPISFVTLPSFNDHSFVNITVSASFGGHSGANLIASDTTING...   \n",
       "\n",
       "                                                    virus  seq_len  \\\n",
       "id                                                                   \n",
       "A3EX94     Bat coronavirus HKU4 (BtCoV) (BtCoV/HKU4/2004)     1352   \n",
       "A3EXD0     Bat coronavirus HKU5 (BtCoV) (BtCoV/HKU5/2004)     1352   \n",
       "P0DTC2  Severe acute respiratory syndrome coronavirus ...     1273   \n",
       "P11223  Avian infectious bronchitis virus (strain Beau...     1162   \n",
       "P12651  Avian infectious bronchitis virus (strain M41)...     1162   \n",
       "...                                                   ...      ...   \n",
       "U5LXF4                    Porcine epidemic diarrhea virus      298   \n",
       "U5LXF9                    Porcine epidemic diarrhea virus      298   \n",
       "U5LXN0                    Porcine epidemic diarrhea virus      298   \n",
       "U5LXN4                    Porcine epidemic diarrhea virus      298   \n",
       "U5LXP0                    Porcine epidemic diarrhea virus      298   \n",
       "\n",
       "                                               virus_host binary_label  \\\n",
       "id                                                                       \n",
       "A3EX94  Tylonycteris pachypus (Lesser bamboo bat) (Ves...    Not Human   \n",
       "A3EXD0  Pipistrellus abramus (Japanese pipistrelle) (P...    Not Human   \n",
       "P0DTC2                 Homo sapiens (Human) [TaxID: 9606]        Human   \n",
       "P11223              Gallus gallus (Chicken) [TaxID: 9031]    Not Human   \n",
       "P12651              Gallus gallus (Chicken) [TaxID: 9031]    Not Human   \n",
       "...                                                   ...          ...   \n",
       "U5LXF4                     Sus scrofa (Pig) [TaxID: 9823]    Not Human   \n",
       "U5LXF9                     Sus scrofa (Pig) [TaxID: 9823]    Not Human   \n",
       "U5LXN0                     Sus scrofa (Pig) [TaxID: 9823]    Not Human   \n",
       "U5LXN4                     Sus scrofa (Pig) [TaxID: 9823]    Not Human   \n",
       "U5LXP0                     Sus scrofa (Pig) [TaxID: 9823]    Not Human   \n",
       "\n",
       "                                              seq_aligned  aligned_seq_len  \\\n",
       "id                                                                           \n",
       "A3EX94  --MTLLMCLLMSLLIFV----RG-CDSQFVDMSPASNTSECLES--...             2169   \n",
       "A3EXD0  --MIRSVLVLMCSLTFI----GNLTRGQSVDMGHNGTGS-CLDS--...             2169   \n",
       "P0DTC2  ---------MFVFLVLL-----------------------------...             2169   \n",
       "P11223  --MLVTP---LLLVTLLC------ALCSAVLY----DSSSYV----...             2169   \n",
       "P12651  --MLVTP---LLLVTLLC------VLCSAALY----DSSSYV----...             2169   \n",
       "...                                                   ...              ...   \n",
       "U5LXF4  ----------------------------------------------...             2169   \n",
       "U5LXF9  ----------------------------------------------...             2169   \n",
       "U5LXN0  ----------------------------------------------...             2169   \n",
       "U5LXN4  ----------------------------------------------...             2169   \n",
       "U5LXP0  ----------------------------------------------...             2169   \n",
       "\n",
       "        aligned_token_count  \n",
       "id                           \n",
       "A3EX94                 1352  \n",
       "A3EXD0                 1352  \n",
       "P0DTC2                 1273  \n",
       "P11223                 1162  \n",
       "P12651                 1162  \n",
       "...                     ...  \n",
       "U5LXF4                  298  \n",
       "U5LXF9                  298  \n",
       "U5LXN0                  298  \n",
       "U5LXN4                  298  \n",
       "U5LXP0                  298  \n",
       "\n",
       "[5115 rows x 8 columns]"
      ]
     },
     "execution_count": 80,
     "metadata": {},
     "output_type": "execute_result"
    }
   ],
   "source": [
    "df[\"aligned_seq_len\"] = df.apply(lambda x: len(x[\"seq_aligned\"]), axis=1)\n",
    "df[\"aligned_token_count\"] = df.apply(lambda x: len(x[\"seq_aligned\"]) - str(x[\"seq_aligned\"]).count(\"-\"), axis=1)\n",
    "df"
   ]
  },
  {
   "cell_type": "code",
   "execution_count": 81,
   "id": "3c208202",
   "metadata": {},
   "outputs": [
    {
     "name": "stdout",
     "output_type": "stream",
     "text": [
      "Max seq_length = 1449\n",
      "Max seq_length = 2169\n"
     ]
    }
   ],
   "source": [
    "print(f\"Max seq_length = {df['seq_len'].max()}\")\n",
    "print(f\"Max seq_length = {df['aligned_seq_len'].max()}\")"
   ]
  },
  {
   "cell_type": "code",
   "execution_count": 82,
   "id": "707f3082",
   "metadata": {},
   "outputs": [
    {
     "data": {
      "text/plain": [
       "<AxesSubplot:xlabel='seq_len', ylabel='Count'>"
      ]
     },
     "execution_count": 82,
     "metadata": {},
     "output_type": "execute_result"
    },
    {
     "data": {
      "image/png": "[encoded data removed]",
      "text/plain": [
       "<Figure size 640x480 with 1 Axes>"
      ]
     },
     "metadata": {},
     "output_type": "display_data"
    }
   ],
   "source": [
    "sns.histplot(df[\"seq_len\"])"
   ]
  },
  {
   "cell_type": "code",
   "execution_count": 83,
   "id": "e944a731",
   "metadata": {},
   "outputs": [
    {
     "data": {
      "text/plain": [
       "<AxesSubplot:xlabel='aligned_seq_len', ylabel='Count'>"
      ]
     },
     "execution_count": 83,
     "metadata": {},
     "output_type": "execute_result"
    },
    {
     "data": {
      "image/png": "[encoded data removed]",
      "text/plain": [
       "<Figure size 640x480 with 1 Axes>"
      ]
     },
     "metadata": {},
     "output_type": "display_data"
    }
   ],
   "source": [
    "sns.histplot(df[\"aligned_seq_len\"])"
   ]
  },
  {
   "cell_type": "code",
   "execution_count": 84,
   "id": "07244596",
   "metadata": {},
   "outputs": [],
   "source": [
    "df.reset_index().to_csv(\"/home/grads/blessyantony/dev/git/zoonosis/input/data/coronaviridae/cov_s_prot_alignment_5k.csv\", index=False)"
   ]
  },
  {
   "cell_type": "code",
   "execution_count": null,
   "id": "276f6845",
   "metadata": {},
   "outputs": [],
   "source": []
  }
 ],
 "metadata": {
  "kernelspec": {
   "display_name": "Python 3 (ipykernel)",
   "language": "python",
   "name": "python3"
  },
  "language_info": {
   "codemirror_mode": {
    "name": "ipython",
    "version": 3
   },
   "file_extension": ".py",
   "mimetype": "text/x-python",
   "name": "python",
   "nbconvert_exporter": "python",
   "pygments_lexer": "ipython3",
   "version": "3.10.6"
  }
 },
 "nbformat": 4,
 "nbformat_minor": 5
}
