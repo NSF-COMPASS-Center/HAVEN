{
 "cells": [
  {
   "cell_type": "code",
   "execution_count": 1,
   "id": "af85c69f",
   "metadata": {},
   "outputs": [],
   "source": [
    "import pandas as pd\n",
    "import os\n",
    "import numpy as np\n",
    "import seaborn as sns\n",
    "import matplotlib.pyplot as plt"
   ]
  },
  {
   "cell_type": "markdown",
   "id": "2a6f8639",
   "metadata": {},
   "source": [
    "# UniRef90"
   ]
  },
  {
   "cell_type": "code",
   "execution_count": 7,
   "id": "7abf2b3c",
   "metadata": {},
   "outputs": [],
   "source": [
    "filepath = os.path.join(os.getcwd(), \"..\", \"..\", \"..\",\"input/data/uniref90/uniref90_final.csv\")"
   ]
  },
  {
   "cell_type": "code",
   "execution_count": 8,
   "id": "af972bfe",
   "metadata": {},
   "outputs": [],
   "source": [
    "df = pd.read_csv(filepath)"
   ]
  },
  {
   "cell_type": "code",
   "execution_count": 9,
   "id": "62f765e8",
   "metadata": {},
   "outputs": [
    {
     "name": "stdout",
     "output_type": "stream",
     "text": [
      "df size =  (19093, 8)\n"
     ]
    },
    {
     "data": {
      "text/html": [
       "<div>\n",
       "<style scoped>\n",
       "    .dataframe tbody tr th:only-of-type {\n",
       "        vertical-align: middle;\n",
       "    }\n",
       "\n",
       "    .dataframe tbody tr th {\n",
       "        vertical-align: top;\n",
       "    }\n",
       "\n",
       "    .dataframe thead th {\n",
       "        text-align: right;\n",
       "    }\n",
       "</style>\n",
       "<table border=\"1\" class=\"dataframe\">\n",
       "  <thead>\n",
       "    <tr style=\"text-align: right;\">\n",
       "      <th></th>\n",
       "      <th>uniref90_id</th>\n",
       "      <th>tax_id</th>\n",
       "      <th>host_tax_ids</th>\n",
       "      <th>virus_name</th>\n",
       "      <th>virus_taxon_rank</th>\n",
       "      <th>virus_host_name</th>\n",
       "      <th>virus_host_taxon_rank</th>\n",
       "      <th>seq</th>\n",
       "    </tr>\n",
       "  </thead>\n",
       "  <tbody>\n",
       "    <tr>\n",
       "      <th>0</th>\n",
       "      <td>UniRef90_A0A023NJY4</td>\n",
       "      <td>10407</td>\n",
       "      <td>9606</td>\n",
       "      <td>Hepatitis B virus</td>\n",
       "      <td>species</td>\n",
       "      <td>Homo sapiens</td>\n",
       "      <td>species</td>\n",
       "      <td>MAARLCCQLDPARDVLCLRPVGAESRGRPLSGPLGTLSSPSLPAVP...</td>\n",
       "    </tr>\n",
       "    <tr>\n",
       "      <th>1</th>\n",
       "      <td>UniRef90_A0A023NLM3</td>\n",
       "      <td>10407</td>\n",
       "      <td>9606</td>\n",
       "      <td>Hepatitis B virus</td>\n",
       "      <td>species</td>\n",
       "      <td>Homo sapiens</td>\n",
       "      <td>species</td>\n",
       "      <td>MGQNLSTSNPLGFFPDHQLDPAFRANSNNPDWDFNPNKDTWPDANK...</td>\n",
       "    </tr>\n",
       "    <tr>\n",
       "      <th>2</th>\n",
       "      <td>UniRef90_A0A023PGV5</td>\n",
       "      <td>1678143</td>\n",
       "      <td>69079</td>\n",
       "      <td>Paslahepevirus balayani</td>\n",
       "      <td>species</td>\n",
       "      <td>Bandicota bengalensis</td>\n",
       "      <td>species</td>\n",
       "      <td>SALANAVVVRPFLSRTQTEILIXLMXPRQLVFRPEVLWNHPIQRVI...</td>\n",
       "    </tr>\n",
       "    <tr>\n",
       "      <th>3</th>\n",
       "      <td>UniRef90_A0A023SEP0</td>\n",
       "      <td>10407</td>\n",
       "      <td>9606</td>\n",
       "      <td>Hepatitis B virus</td>\n",
       "      <td>species</td>\n",
       "      <td>Homo sapiens</td>\n",
       "      <td>species</td>\n",
       "      <td>NLLEDWGPCTEHGEHHIRIPRTPARVTGGVFLVDKNPHNTAESRLV...</td>\n",
       "    </tr>\n",
       "    <tr>\n",
       "      <th>4</th>\n",
       "      <td>UniRef90_A0A023SEP4</td>\n",
       "      <td>10407</td>\n",
       "      <td>9606</td>\n",
       "      <td>Hepatitis B virus</td>\n",
       "      <td>species</td>\n",
       "      <td>Homo sapiens</td>\n",
       "      <td>species</td>\n",
       "      <td>LVNLLEDWGPCTEHGEHHIRIPRTPARVTGGVFLVDKNPHNTAESR...</td>\n",
       "    </tr>\n",
       "  </tbody>\n",
       "</table>\n",
       "</div>"
      ],
      "text/plain": [
       "           uniref90_id   tax_id  host_tax_ids               virus_name  \\\n",
       "0  UniRef90_A0A023NJY4    10407          9606        Hepatitis B virus   \n",
       "1  UniRef90_A0A023NLM3    10407          9606        Hepatitis B virus   \n",
       "2  UniRef90_A0A023PGV5  1678143         69079  Paslahepevirus balayani   \n",
       "3  UniRef90_A0A023SEP0    10407          9606        Hepatitis B virus   \n",
       "4  UniRef90_A0A023SEP4    10407          9606        Hepatitis B virus   \n",
       "\n",
       "  virus_taxon_rank        virus_host_name virus_host_taxon_rank  \\\n",
       "0          species           Homo sapiens               species   \n",
       "1          species           Homo sapiens               species   \n",
       "2          species  Bandicota bengalensis               species   \n",
       "3          species           Homo sapiens               species   \n",
       "4          species           Homo sapiens               species   \n",
       "\n",
       "                                                 seq  \n",
       "0  MAARLCCQLDPARDVLCLRPVGAESRGRPLSGPLGTLSSPSLPAVP...  \n",
       "1  MGQNLSTSNPLGFFPDHQLDPAFRANSNNPDWDFNPNKDTWPDANK...  \n",
       "2  SALANAVVVRPFLSRTQTEILIXLMXPRQLVFRPEVLWNHPIQRVI...  \n",
       "3  NLLEDWGPCTEHGEHHIRIPRTPARVTGGVFLVDKNPHNTAESRLV...  \n",
       "4  LVNLLEDWGPCTEHGEHHIRIPRTPARVTGGVFLVDKNPHNTAESR...  "
      ]
     },
     "execution_count": 9,
     "metadata": {},
     "output_type": "execute_result"
    }
   ],
   "source": [
    "print(\"df size = \", df.shape)\n",
    "n = df.shape[0]\n",
    "df.head()"
   ]
  },
  {
   "cell_type": "code",
   "execution_count": 5,
   "id": "3ff4400a",
   "metadata": {},
   "outputs": [],
   "source": [
    "df[\"seq_len\"] = df[\"seq\"].apply(lambda x: len(x))"
   ]
  },
  {
   "cell_type": "code",
   "execution_count": 10,
   "id": "6e0be4f1",
   "metadata": {},
   "outputs": [
    {
     "data": {
      "text/html": [
       "<div>\n",
       "<style scoped>\n",
       "    .dataframe tbody tr th:only-of-type {\n",
       "        vertical-align: middle;\n",
       "    }\n",
       "\n",
       "    .dataframe tbody tr th {\n",
       "        vertical-align: top;\n",
       "    }\n",
       "\n",
       "    .dataframe thead th {\n",
       "        text-align: right;\n",
       "    }\n",
       "</style>\n",
       "<table border=\"1\" class=\"dataframe\">\n",
       "  <thead>\n",
       "    <tr style=\"text-align: right;\">\n",
       "      <th></th>\n",
       "      <th>uniref90_id</th>\n",
       "      <th>tax_id</th>\n",
       "      <th>host_tax_ids</th>\n",
       "      <th>virus_name</th>\n",
       "      <th>virus_taxon_rank</th>\n",
       "      <th>virus_host_name</th>\n",
       "      <th>virus_host_taxon_rank</th>\n",
       "      <th>seq</th>\n",
       "    </tr>\n",
       "  </thead>\n",
       "  <tbody>\n",
       "    <tr>\n",
       "      <th>0</th>\n",
       "      <td>UniRef90_A0A023NJY4</td>\n",
       "      <td>10407</td>\n",
       "      <td>9606</td>\n",
       "      <td>Hepatitis B virus</td>\n",
       "      <td>species</td>\n",
       "      <td>Homo sapiens</td>\n",
       "      <td>species</td>\n",
       "      <td>MAARLCCQLDPARDVLCLRPVGAESRGRPLSGPLGTLSSPSLPAVP...</td>\n",
       "    </tr>\n",
       "    <tr>\n",
       "      <th>1</th>\n",
       "      <td>UniRef90_A0A023NLM3</td>\n",
       "      <td>10407</td>\n",
       "      <td>9606</td>\n",
       "      <td>Hepatitis B virus</td>\n",
       "      <td>species</td>\n",
       "      <td>Homo sapiens</td>\n",
       "      <td>species</td>\n",
       "      <td>MGQNLSTSNPLGFFPDHQLDPAFRANSNNPDWDFNPNKDTWPDANK...</td>\n",
       "    </tr>\n",
       "    <tr>\n",
       "      <th>2</th>\n",
       "      <td>UniRef90_A0A023PGV5</td>\n",
       "      <td>1678143</td>\n",
       "      <td>69079</td>\n",
       "      <td>Paslahepevirus balayani</td>\n",
       "      <td>species</td>\n",
       "      <td>Bandicota bengalensis</td>\n",
       "      <td>species</td>\n",
       "      <td>SALANAVVVRPFLSRTQTEILIXLMXPRQLVFRPEVLWNHPIQRVI...</td>\n",
       "    </tr>\n",
       "    <tr>\n",
       "      <th>3</th>\n",
       "      <td>UniRef90_A0A023SEP0</td>\n",
       "      <td>10407</td>\n",
       "      <td>9606</td>\n",
       "      <td>Hepatitis B virus</td>\n",
       "      <td>species</td>\n",
       "      <td>Homo sapiens</td>\n",
       "      <td>species</td>\n",
       "      <td>NLLEDWGPCTEHGEHHIRIPRTPARVTGGVFLVDKNPHNTAESRLV...</td>\n",
       "    </tr>\n",
       "    <tr>\n",
       "      <th>4</th>\n",
       "      <td>UniRef90_A0A023SEP4</td>\n",
       "      <td>10407</td>\n",
       "      <td>9606</td>\n",
       "      <td>Hepatitis B virus</td>\n",
       "      <td>species</td>\n",
       "      <td>Homo sapiens</td>\n",
       "      <td>species</td>\n",
       "      <td>LVNLLEDWGPCTEHGEHHIRIPRTPARVTGGVFLVDKNPHNTAESR...</td>\n",
       "    </tr>\n",
       "  </tbody>\n",
       "</table>\n",
       "</div>"
      ],
      "text/plain": [
       "           uniref90_id   tax_id  host_tax_ids               virus_name  \\\n",
       "0  UniRef90_A0A023NJY4    10407          9606        Hepatitis B virus   \n",
       "1  UniRef90_A0A023NLM3    10407          9606        Hepatitis B virus   \n",
       "2  UniRef90_A0A023PGV5  1678143         69079  Paslahepevirus balayani   \n",
       "3  UniRef90_A0A023SEP0    10407          9606        Hepatitis B virus   \n",
       "4  UniRef90_A0A023SEP4    10407          9606        Hepatitis B virus   \n",
       "\n",
       "  virus_taxon_rank        virus_host_name virus_host_taxon_rank  \\\n",
       "0          species           Homo sapiens               species   \n",
       "1          species           Homo sapiens               species   \n",
       "2          species  Bandicota bengalensis               species   \n",
       "3          species           Homo sapiens               species   \n",
       "4          species           Homo sapiens               species   \n",
       "\n",
       "                                                 seq  \n",
       "0  MAARLCCQLDPARDVLCLRPVGAESRGRPLSGPLGTLSSPSLPAVP...  \n",
       "1  MGQNLSTSNPLGFFPDHQLDPAFRANSNNPDWDFNPNKDTWPDANK...  \n",
       "2  SALANAVVVRPFLSRTQTEILIXLMXPRQLVFRPEVLWNHPIQRVI...  \n",
       "3  NLLEDWGPCTEHGEHHIRIPRTPARVTGGVFLVDKNPHNTAESRLV...  \n",
       "4  LVNLLEDWGPCTEHGEHHIRIPRTPARVTGGVFLVDKNPHNTAESR...  "
      ]
     },
     "execution_count": 10,
     "metadata": {},
     "output_type": "execute_result"
    }
   ],
   "source": [
    "df.head()"
   ]
  },
  {
   "cell_type": "code",
   "execution_count": 7,
   "id": "0bbf5a3f",
   "metadata": {},
   "outputs": [
    {
     "name": "stdout",
     "output_type": "stream",
     "text": [
      "min seq len = 11\n",
      "max seq len = 6629\n"
     ]
    },
    {
     "data": {
      "image/png": "[encoded data removed]",
      "text/plain": [
       "<Figure size 432x288 with 1 Axes>"
      ]
     },
     "metadata": {
      "needs_background": "light"
     },
     "output_type": "display_data"
    }
   ],
   "source": [
    "sns.histplot(df[\"seq_len\"])\n",
    "print(f\"min seq len = {min(df['seq_len'])}\")\n",
    "print(f\"max seq len = {max(df['seq_len'])}\")\n",
    "plt.show()"
   ]
  },
  {
   "cell_type": "code",
   "execution_count": 8,
   "id": "59acdae0",
   "metadata": {},
   "outputs": [],
   "source": [
    "n_bins = 12\n",
    "freq, bins = np.histogram(df[\"seq_len\"], bins=n_bins)"
   ]
  },
  {
   "cell_type": "code",
   "execution_count": 9,
   "id": "802b5e78",
   "metadata": {},
   "outputs": [],
   "source": [
    "hist_map = []\n",
    "for i in range(n_bins):\n",
    "    hist_map.append({\"start\": bins[i], \"end\":bins[i+1], \"count\": freq[i], \"percentage\": freq[i]/n*100})"
   ]
  },
  {
   "cell_type": "code",
   "execution_count": 10,
   "id": "8c13a264",
   "metadata": {},
   "outputs": [],
   "source": [
    "hist_df = pd.DataFrame(hist_map)"
   ]
  },
  {
   "cell_type": "code",
   "execution_count": 11,
   "id": "03adf39a",
   "metadata": {},
   "outputs": [
    {
     "data": {
      "text/html": [
       "<div>\n",
       "<style scoped>\n",
       "    .dataframe tbody tr th:only-of-type {\n",
       "        vertical-align: middle;\n",
       "    }\n",
       "\n",
       "    .dataframe tbody tr th {\n",
       "        vertical-align: top;\n",
       "    }\n",
       "\n",
       "    .dataframe thead th {\n",
       "        text-align: right;\n",
       "    }\n",
       "</style>\n",
       "<table border=\"1\" class=\"dataframe\">\n",
       "  <thead>\n",
       "    <tr style=\"text-align: right;\">\n",
       "      <th></th>\n",
       "      <th>start</th>\n",
       "      <th>end</th>\n",
       "      <th>count</th>\n",
       "      <th>percentage</th>\n",
       "    </tr>\n",
       "  </thead>\n",
       "  <tbody>\n",
       "    <tr>\n",
       "      <th>0</th>\n",
       "      <td>11.0</td>\n",
       "      <td>562.5</td>\n",
       "      <td>17443</td>\n",
       "      <td>91.358089</td>\n",
       "    </tr>\n",
       "    <tr>\n",
       "      <th>1</th>\n",
       "      <td>562.5</td>\n",
       "      <td>1114.0</td>\n",
       "      <td>849</td>\n",
       "      <td>4.446656</td>\n",
       "    </tr>\n",
       "    <tr>\n",
       "      <th>2</th>\n",
       "      <td>1114.0</td>\n",
       "      <td>1665.5</td>\n",
       "      <td>111</td>\n",
       "      <td>0.581365</td>\n",
       "    </tr>\n",
       "    <tr>\n",
       "      <th>3</th>\n",
       "      <td>1665.5</td>\n",
       "      <td>2217.0</td>\n",
       "      <td>91</td>\n",
       "      <td>0.476614</td>\n",
       "    </tr>\n",
       "    <tr>\n",
       "      <th>4</th>\n",
       "      <td>2217.0</td>\n",
       "      <td>2768.5</td>\n",
       "      <td>399</td>\n",
       "      <td>2.089771</td>\n",
       "    </tr>\n",
       "    <tr>\n",
       "      <th>5</th>\n",
       "      <td>2768.5</td>\n",
       "      <td>3320.0</td>\n",
       "      <td>68</td>\n",
       "      <td>0.356151</td>\n",
       "    </tr>\n",
       "    <tr>\n",
       "      <th>6</th>\n",
       "      <td>3320.0</td>\n",
       "      <td>3871.5</td>\n",
       "      <td>128</td>\n",
       "      <td>0.670403</td>\n",
       "    </tr>\n",
       "    <tr>\n",
       "      <th>7</th>\n",
       "      <td>3871.5</td>\n",
       "      <td>4423.0</td>\n",
       "      <td>2</td>\n",
       "      <td>0.010475</td>\n",
       "    </tr>\n",
       "    <tr>\n",
       "      <th>8</th>\n",
       "      <td>4423.0</td>\n",
       "      <td>4974.5</td>\n",
       "      <td>1</td>\n",
       "      <td>0.005238</td>\n",
       "    </tr>\n",
       "    <tr>\n",
       "      <th>9</th>\n",
       "      <td>4974.5</td>\n",
       "      <td>5526.0</td>\n",
       "      <td>0</td>\n",
       "      <td>0.000000</td>\n",
       "    </tr>\n",
       "    <tr>\n",
       "      <th>10</th>\n",
       "      <td>5526.0</td>\n",
       "      <td>6077.5</td>\n",
       "      <td>0</td>\n",
       "      <td>0.000000</td>\n",
       "    </tr>\n",
       "    <tr>\n",
       "      <th>11</th>\n",
       "      <td>6077.5</td>\n",
       "      <td>6629.0</td>\n",
       "      <td>1</td>\n",
       "      <td>0.005238</td>\n",
       "    </tr>\n",
       "  </tbody>\n",
       "</table>\n",
       "</div>"
      ],
      "text/plain": [
       "     start     end  count  percentage\n",
       "0     11.0   562.5  17443   91.358089\n",
       "1    562.5  1114.0    849    4.446656\n",
       "2   1114.0  1665.5    111    0.581365\n",
       "3   1665.5  2217.0     91    0.476614\n",
       "4   2217.0  2768.5    399    2.089771\n",
       "5   2768.5  3320.0     68    0.356151\n",
       "6   3320.0  3871.5    128    0.670403\n",
       "7   3871.5  4423.0      2    0.010475\n",
       "8   4423.0  4974.5      1    0.005238\n",
       "9   4974.5  5526.0      0    0.000000\n",
       "10  5526.0  6077.5      0    0.000000\n",
       "11  6077.5  6629.0      1    0.005238"
      ]
     },
     "execution_count": 11,
     "metadata": {},
     "output_type": "execute_result"
    }
   ],
   "source": [
    "hist_df.head(20)"
   ]
  },
  {
   "cell_type": "markdown",
   "id": "3265777f",
   "metadata": {},
   "source": [
    "### Sequences without virus host = Humans"
   ]
  },
  {
   "cell_type": "code",
   "execution_count": 11,
   "id": "7c643aec",
   "metadata": {},
   "outputs": [
    {
     "name": "stdout",
     "output_type": "stream",
     "text": [
      "(19093, 8)\n"
     ]
    },
    {
     "data": {
      "text/plain": [
       "Homo sapiens                   14816\n",
       "Phacochoerus aethiopicus        1043\n",
       "Bandicota bengalensis            798\n",
       "Equus caballus                   439\n",
       "Capra hircus                     425\n",
       "Gallus gallus                    334\n",
       "Apodemus sylvaticus              287\n",
       "Bos taurus                       193\n",
       "Sus scrofa                       122\n",
       "Cynomys gunnisoni                 86\n",
       "Connochaetes taurinus             58\n",
       "Camelus dromedarius               35\n",
       "Apodemus agrarius                 33\n",
       "Elephas maximus                   29\n",
       "Cynopterus brachyotis             28\n",
       "Acrocephalus scirpaceus           27\n",
       "Antilocapra americana             25\n",
       "Epomops franqueti                 25\n",
       "Ovis aries                        24\n",
       "Felis catus                       22\n",
       "Cervus elaphus                    18\n",
       "Abrothrix longipilis              17\n",
       "Macaca fascicularis               17\n",
       "Cavia cutleri                     14\n",
       "Meleagris gallopavo               13\n",
       "Chodsigoa caovansunga             13\n",
       "Mus musculus                      10\n",
       "Atelerix albiventris              10\n",
       "Akodon azarae                     10\n",
       "Anser sp.                          9\n",
       "Chlorocebus aethiops               9\n",
       "Bos indicus                        9\n",
       "Odobenus rosmarus                  9\n",
       "Pan paniscus                       8\n",
       "Haemorhous mexicanus               8\n",
       "Calomys callosus                   7\n",
       "Erythrocebus patas                 7\n",
       "Macaca mulatta                     5\n",
       "Ailuropoda melanoleuca             5\n",
       "Equus asinus                       5\n",
       "Nephelomys albigularis             5\n",
       "Turdus hortulorum                  4\n",
       "Oecomys bicolor                    4\n",
       "Pan troglodytes                    4\n",
       "Cercopithecus hamlyni              3\n",
       "Callospermophilus lateralis        3\n",
       "Sturnira lilium                    2\n",
       "Aotus trivirgatus                  2\n",
       "Nasua nasua                        2\n",
       "Rattus norvegicus                  2\n",
       "Oryctolagus cuniculus              2\n",
       "Rhinolophus macrotis               1\n",
       "Pongo pygmaeus                     1\n",
       "Chlorocebus pygerythrus            1\n",
       "Connochaetes gnou                  1\n",
       "Rangifer tarandus                  1\n",
       "Agelaius tricolor                  1\n",
       "Rhinolophus sinicus                1\n",
       "Gorilla gorilla                    1\n",
       "Name: virus_host_name, dtype: int64"
      ]
     },
     "execution_count": 11,
     "metadata": {},
     "output_type": "execute_result"
    }
   ],
   "source": [
    "print(df.shape)\n",
    "df[\"virus_host_name\"].value_counts()"
   ]
  },
  {
   "cell_type": "code",
   "execution_count": 12,
   "id": "3c4d7fa9",
   "metadata": {},
   "outputs": [
    {
     "data": {
      "text/plain": [
       "array(['Homo sapiens', 'Bandicota bengalensis', 'Apodemus agrarius',\n",
       "       'Equus caballus', 'Capra hircus', 'Phacochoerus aethiopicus',\n",
       "       'Gallus gallus', 'Felis catus', 'Odobenus rosmarus', 'Sus scrofa',\n",
       "       'Bos taurus', 'Cynomys gunnisoni', 'Acrocephalus scirpaceus',\n",
       "       'Camelus dromedarius', 'Apodemus sylvaticus',\n",
       "       'Antilocapra americana', 'Ovis aries', 'Meleagris gallopavo',\n",
       "       'Chodsigoa caovansunga', 'Cynopterus brachyotis',\n",
       "       'Aotus trivirgatus', 'Nasua nasua', 'Rhinolophus sinicus',\n",
       "       'Abrothrix longipilis', 'Chlorocebus pygerythrus',\n",
       "       'Macaca fascicularis', 'Calomys callosus', 'Oecomys bicolor',\n",
       "       'Nephelomys albigularis', 'Cavia cutleri', 'Turdus hortulorum',\n",
       "       'Haemorhous mexicanus', 'Akodon azarae', 'Sturnira lilium',\n",
       "       'Atelerix albiventris', 'Epomops franqueti',\n",
       "       'Connochaetes taurinus', 'Callospermophilus lateralis',\n",
       "       'Mus musculus', 'Ailuropoda melanoleuca', 'Rattus norvegicus',\n",
       "       'Cercopithecus hamlyni', 'Bos indicus', 'Agelaius tricolor',\n",
       "       'Equus asinus', 'Cervus elaphus', 'Macaca mulatta',\n",
       "       'Pan troglodytes', 'Erythrocebus patas', 'Rangifer tarandus',\n",
       "       'Chlorocebus aethiops', 'Connochaetes gnou', 'Pan paniscus',\n",
       "       'Elephas maximus', 'Anser sp.', 'Rhinolophus macrotis',\n",
       "       'Oryctolagus cuniculus', 'Pongo pygmaeus', 'Gorilla gorilla'],\n",
       "      dtype=object)"
      ]
     },
     "execution_count": 12,
     "metadata": {},
     "output_type": "execute_result"
    }
   ],
   "source": [
    "df[\"virus_host_name\"].unique()"
   ]
  },
  {
   "cell_type": "code",
   "execution_count": 13,
   "id": "b2b9a3ac",
   "metadata": {},
   "outputs": [],
   "source": [
    "df = df[df[\"virus_host_name\"] != \"Homo sapiens\"]"
   ]
  },
  {
   "cell_type": "code",
   "execution_count": 14,
   "id": "adad2907",
   "metadata": {},
   "outputs": [
    {
     "name": "stdout",
     "output_type": "stream",
     "text": [
      "(4277, 8)\n"
     ]
    },
    {
     "data": {
      "text/plain": [
       "array(['Bandicota bengalensis', 'Apodemus agrarius', 'Equus caballus',\n",
       "       'Capra hircus', 'Phacochoerus aethiopicus', 'Gallus gallus',\n",
       "       'Felis catus', 'Odobenus rosmarus', 'Sus scrofa', 'Bos taurus',\n",
       "       'Cynomys gunnisoni', 'Acrocephalus scirpaceus',\n",
       "       'Camelus dromedarius', 'Apodemus sylvaticus',\n",
       "       'Antilocapra americana', 'Ovis aries', 'Meleagris gallopavo',\n",
       "       'Chodsigoa caovansunga', 'Cynopterus brachyotis',\n",
       "       'Aotus trivirgatus', 'Nasua nasua', 'Rhinolophus sinicus',\n",
       "       'Abrothrix longipilis', 'Chlorocebus pygerythrus',\n",
       "       'Macaca fascicularis', 'Calomys callosus', 'Oecomys bicolor',\n",
       "       'Nephelomys albigularis', 'Cavia cutleri', 'Turdus hortulorum',\n",
       "       'Haemorhous mexicanus', 'Akodon azarae', 'Sturnira lilium',\n",
       "       'Atelerix albiventris', 'Epomops franqueti',\n",
       "       'Connochaetes taurinus', 'Callospermophilus lateralis',\n",
       "       'Mus musculus', 'Ailuropoda melanoleuca', 'Rattus norvegicus',\n",
       "       'Cercopithecus hamlyni', 'Bos indicus', 'Agelaius tricolor',\n",
       "       'Equus asinus', 'Cervus elaphus', 'Macaca mulatta',\n",
       "       'Pan troglodytes', 'Erythrocebus patas', 'Rangifer tarandus',\n",
       "       'Chlorocebus aethiops', 'Connochaetes gnou', 'Pan paniscus',\n",
       "       'Elephas maximus', 'Anser sp.', 'Rhinolophus macrotis',\n",
       "       'Oryctolagus cuniculus', 'Pongo pygmaeus', 'Gorilla gorilla'],\n",
       "      dtype=object)"
      ]
     },
     "execution_count": 14,
     "metadata": {},
     "output_type": "execute_result"
    }
   ],
   "source": [
    "print(df.shape)\n",
    "df[\"virus_host_name\"].unique()"
   ]
  },
  {
   "cell_type": "code",
   "execution_count": 15,
   "id": "d431c9bf",
   "metadata": {},
   "outputs": [
    {
     "data": {
      "text/plain": [
       "Phacochoerus aethiopicus       1043\n",
       "Bandicota bengalensis           798\n",
       "Equus caballus                  439\n",
       "Capra hircus                    425\n",
       "Gallus gallus                   334\n",
       "Apodemus sylvaticus             287\n",
       "Bos taurus                      193\n",
       "Sus scrofa                      122\n",
       "Cynomys gunnisoni                86\n",
       "Connochaetes taurinus            58\n",
       "Camelus dromedarius              35\n",
       "Apodemus agrarius                33\n",
       "Elephas maximus                  29\n",
       "Cynopterus brachyotis            28\n",
       "Acrocephalus scirpaceus          27\n",
       "Epomops franqueti                25\n",
       "Antilocapra americana            25\n",
       "Ovis aries                       24\n",
       "Felis catus                      22\n",
       "Cervus elaphus                   18\n",
       "Abrothrix longipilis             17\n",
       "Macaca fascicularis              17\n",
       "Cavia cutleri                    14\n",
       "Meleagris gallopavo              13\n",
       "Chodsigoa caovansunga            13\n",
       "Akodon azarae                    10\n",
       "Atelerix albiventris             10\n",
       "Mus musculus                     10\n",
       "Odobenus rosmarus                 9\n",
       "Bos indicus                       9\n",
       "Anser sp.                         9\n",
       "Chlorocebus aethiops              9\n",
       "Pan paniscus                      8\n",
       "Haemorhous mexicanus              8\n",
       "Calomys callosus                  7\n",
       "Erythrocebus patas                7\n",
       "Ailuropoda melanoleuca            5\n",
       "Nephelomys albigularis            5\n",
       "Macaca mulatta                    5\n",
       "Equus asinus                      5\n",
       "Pan troglodytes                   4\n",
       "Turdus hortulorum                 4\n",
       "Oecomys bicolor                   4\n",
       "Cercopithecus hamlyni             3\n",
       "Callospermophilus lateralis       3\n",
       "Rattus norvegicus                 2\n",
       "Sturnira lilium                   2\n",
       "Nasua nasua                       2\n",
       "Aotus trivirgatus                 2\n",
       "Oryctolagus cuniculus             2\n",
       "Agelaius tricolor                 1\n",
       "Rangifer tarandus                 1\n",
       "Chlorocebus pygerythrus           1\n",
       "Connochaetes gnou                 1\n",
       "Rhinolophus sinicus               1\n",
       "Rhinolophus macrotis              1\n",
       "Pongo pygmaeus                    1\n",
       "Gorilla gorilla                   1\n",
       "Name: virus_host_name, dtype: int64"
      ]
     },
     "execution_count": 15,
     "metadata": {},
     "output_type": "execute_result"
    }
   ],
   "source": [
    "df[\"virus_host_name\"].value_counts()"
   ]
  },
  {
   "cell_type": "code",
   "execution_count": 29,
   "id": "d80bc1fd",
   "metadata": {},
   "outputs": [],
   "source": [
    "virus_host_names = [\"Phacochoerus aethiopicus\", \"Bandicota bengalensis\", \"Equus caballus\", \"Capra hircus\", \"Gallus gallus\", \"Apodemus sylvaticus\", \"Bos taurus\"]\n",
    "df = df[df[\"virus_host_name\"].isin(virus_host_names)]"
   ]
  },
  {
   "cell_type": "code",
   "execution_count": 16,
   "id": "5b27fa1e",
   "metadata": {},
   "outputs": [
    {
     "name": "stdout",
     "output_type": "stream",
     "text": [
      "(4277, 8)\n"
     ]
    }
   ],
   "source": [
    "print(df.shape)\n",
    "df.to_csv(os.path.join(os.getcwd(), \"..\", \"..\", \"..\",\"input/data/uniref90/uniref90_final_without_humans.csv\"), index=False)"
   ]
  },
  {
   "cell_type": "markdown",
   "id": "1dd68f9b",
   "metadata": {},
   "source": [
    "### Sequences without single host only"
   ]
  },
  {
   "cell_type": "code",
   "execution_count": 14,
   "id": "1c0534cc",
   "metadata": {},
   "outputs": [],
   "source": [
    "df = df[df[\"seq_len\"] <= 1114]\n",
    "df = df.drop(columns=[\"seq_len\"])"
   ]
  },
  {
   "cell_type": "code",
   "execution_count": 15,
   "id": "3b48a088",
   "metadata": {},
   "outputs": [
    {
     "name": "stdout",
     "output_type": "stream",
     "text": [
      "(18292, 8)\n"
     ]
    },
    {
     "data": {
      "text/html": [
       "<div>\n",
       "<style scoped>\n",
       "    .dataframe tbody tr th:only-of-type {\n",
       "        vertical-align: middle;\n",
       "    }\n",
       "\n",
       "    .dataframe tbody tr th {\n",
       "        vertical-align: top;\n",
       "    }\n",
       "\n",
       "    .dataframe thead th {\n",
       "        text-align: right;\n",
       "    }\n",
       "</style>\n",
       "<table border=\"1\" class=\"dataframe\">\n",
       "  <thead>\n",
       "    <tr style=\"text-align: right;\">\n",
       "      <th></th>\n",
       "      <th>uniref90_id</th>\n",
       "      <th>tax_id</th>\n",
       "      <th>host_tax_ids</th>\n",
       "      <th>virus_name</th>\n",
       "      <th>virus_taxon_rank</th>\n",
       "      <th>virus_host_name</th>\n",
       "      <th>virus_host_taxon_rank</th>\n",
       "      <th>seq</th>\n",
       "    </tr>\n",
       "  </thead>\n",
       "  <tbody>\n",
       "    <tr>\n",
       "      <th>0</th>\n",
       "      <td>UniRef90_A0A023NJY4</td>\n",
       "      <td>10407</td>\n",
       "      <td>9606</td>\n",
       "      <td>Hepatitis B virus</td>\n",
       "      <td>species</td>\n",
       "      <td>Homo sapiens</td>\n",
       "      <td>species</td>\n",
       "      <td>MAARLCCQLDPARDVLCLRPVGAESRGRPLSGPLGTLSSPSLPAVP...</td>\n",
       "    </tr>\n",
       "    <tr>\n",
       "      <th>1</th>\n",
       "      <td>UniRef90_A0A023NLM3</td>\n",
       "      <td>10407</td>\n",
       "      <td>9606</td>\n",
       "      <td>Hepatitis B virus</td>\n",
       "      <td>species</td>\n",
       "      <td>Homo sapiens</td>\n",
       "      <td>species</td>\n",
       "      <td>MGQNLSTSNPLGFFPDHQLDPAFRANSNNPDWDFNPNKDTWPDANK...</td>\n",
       "    </tr>\n",
       "    <tr>\n",
       "      <th>2</th>\n",
       "      <td>UniRef90_A0A023PGV5</td>\n",
       "      <td>1678143</td>\n",
       "      <td>69079</td>\n",
       "      <td>Paslahepevirus balayani</td>\n",
       "      <td>species</td>\n",
       "      <td>Bandicota bengalensis</td>\n",
       "      <td>species</td>\n",
       "      <td>SALANAVVVRPFLSRTQTEILIXLMXPRQLVFRPEVLWNHPIQRVI...</td>\n",
       "    </tr>\n",
       "    <tr>\n",
       "      <th>3</th>\n",
       "      <td>UniRef90_A0A023SEP0</td>\n",
       "      <td>10407</td>\n",
       "      <td>9606</td>\n",
       "      <td>Hepatitis B virus</td>\n",
       "      <td>species</td>\n",
       "      <td>Homo sapiens</td>\n",
       "      <td>species</td>\n",
       "      <td>NLLEDWGPCTEHGEHHIRIPRTPARVTGGVFLVDKNPHNTAESRLV...</td>\n",
       "    </tr>\n",
       "    <tr>\n",
       "      <th>4</th>\n",
       "      <td>UniRef90_A0A023SEP4</td>\n",
       "      <td>10407</td>\n",
       "      <td>9606</td>\n",
       "      <td>Hepatitis B virus</td>\n",
       "      <td>species</td>\n",
       "      <td>Homo sapiens</td>\n",
       "      <td>species</td>\n",
       "      <td>LVNLLEDWGPCTEHGEHHIRIPRTPARVTGGVFLVDKNPHNTAESR...</td>\n",
       "    </tr>\n",
       "  </tbody>\n",
       "</table>\n",
       "</div>"
      ],
      "text/plain": [
       "           uniref90_id   tax_id  host_tax_ids               virus_name  \\\n",
       "0  UniRef90_A0A023NJY4    10407          9606        Hepatitis B virus   \n",
       "1  UniRef90_A0A023NLM3    10407          9606        Hepatitis B virus   \n",
       "2  UniRef90_A0A023PGV5  1678143         69079  Paslahepevirus balayani   \n",
       "3  UniRef90_A0A023SEP0    10407          9606        Hepatitis B virus   \n",
       "4  UniRef90_A0A023SEP4    10407          9606        Hepatitis B virus   \n",
       "\n",
       "  virus_taxon_rank        virus_host_name virus_host_taxon_rank  \\\n",
       "0          species           Homo sapiens               species   \n",
       "1          species           Homo sapiens               species   \n",
       "2          species  Bandicota bengalensis               species   \n",
       "3          species           Homo sapiens               species   \n",
       "4          species           Homo sapiens               species   \n",
       "\n",
       "                                                 seq  \n",
       "0  MAARLCCQLDPARDVLCLRPVGAESRGRPLSGPLGTLSSPSLPAVP...  \n",
       "1  MGQNLSTSNPLGFFPDHQLDPAFRANSNNPDWDFNPNKDTWPDANK...  \n",
       "2  SALANAVVVRPFLSRTQTEILIXLMXPRQLVFRPEVLWNHPIQRVI...  \n",
       "3  NLLEDWGPCTEHGEHHIRIPRTPARVTGGVFLVDKNPHNTAESRLV...  \n",
       "4  LVNLLEDWGPCTEHGEHHIRIPRTPARVTGGVFLVDKNPHNTAESR...  "
      ]
     },
     "execution_count": 15,
     "metadata": {},
     "output_type": "execute_result"
    }
   ],
   "source": [
    "print(df.shape)\n",
    "df.head()"
   ]
  },
  {
   "cell_type": "code",
   "execution_count": 16,
   "id": "9f32bd59",
   "metadata": {},
   "outputs": [],
   "source": [
    "df.to_csv(os.path.join(os.getcwd(), \"..\", \"..\", \"..\",\"input/data/uniref90/uniref90_final_msl1114.csv\"), index=False)"
   ]
  },
  {
   "cell_type": "code",
   "execution_count": null,
   "id": "6193c60d",
   "metadata": {},
   "outputs": [],
   "source": []
  }
 ],
 "metadata": {
  "kernelspec": {
   "display_name": "Python 3 (ipykernel)",
   "language": "python",
   "name": "python3"
  },
  "language_info": {
   "codemirror_mode": {
    "name": "ipython",
    "version": 3
   },
   "file_extension": ".py",
   "mimetype": "text/x-python",
   "name": "python",
   "nbconvert_exporter": "python",
   "pygments_lexer": "ipython3",
   "version": "3.10.6"
  }
 },
 "nbformat": 4,
 "nbformat_minor": 5
}
