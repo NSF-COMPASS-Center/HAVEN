{
 "cells": [
  {
   "cell_type": "code",
   "execution_count": 1,
   "id": "be9a3c4a-560f-430a-b545-0ec609ce11fb",
   "metadata": {},
   "outputs": [],
   "source": [
    "import torch\n",
    "import torch.nn as nn\n",
    "import torch.nn.functional as F\n",
    "import torch.optim as optim\n",
    "from torch.nn.utils.rnn import pad_sequence\n",
    "from torch.utils.data import DataLoader, ConcatDataset, random_split\n",
    "from torch.utils.data.sampler import WeightedRandomSampler\n",
    "\n",
    "from dataset import TextDataset    # <------- Replace with your datasets\n",
    "from fastprogress import master_bar, progress_bar"
   ]
  },
  {
   "cell_type": "markdown",
   "id": "4024b67a-16a2-4e0e-98ab-3cdb54a39877",
   "metadata": {},
   "source": [
    "# Dataset"
   ]
  },
  {
   "cell_type": "code",
   "execution_count": 2,
   "id": "b4e9277e-24e6-4f95-9ea4-965dba8c7e1a",
   "metadata": {},
   "outputs": [],
   "source": [
    "class PadSequence:\n",
    "    def __init__(self, pad_value=-1):\n",
    "        self.pad_value = pad_value\n",
    "    \n",
    "    def _pad_sequence(self, seq):\n",
    "        seq_padded = pad_sequence(\n",
    "            seq, \n",
    "            batch_first=True, \n",
    "            padding_value=self.pad_value\n",
    "        )\n",
    "        return seq_padded\n",
    "        \n",
    "    def __call__(self, batch):\n",
    "        transposed = list(map(list, zip(*batch)))\n",
    "        padded = []\n",
    "        for items in transposed:\n",
    "            padded.append(self._pad_sequence(items))\n",
    "        return tuple(padded)\n",
    "\n",
    "    \n",
    "    \n",
    "# Datasets: replace with your own datasets, __getitem__ should output (B, L, D) shape tensor\n",
    "# where B is batch size, L is the sequence length, D is the number of aminoacid types\n",
    "dataset = ConcatDataset([\n",
    "    TextDataset(\"data/ncbi/spike_protein_non_human_host.txt\", label=torch.tensor([0]), onehot=True),\n",
    "    TextDataset(\"data/ncbi/spike_protein_human_host.txt\", label=torch.tensor([1]), onehot=True)\n",
    "])\n",
    "\n",
    "# split dataset\n",
    "train_ratio = 0.8\n",
    "generator = torch.Generator().manual_seed(42)\n",
    "train_set, test_set = random_split(\n",
    "    dataset, \n",
    "    [train_ratio, 1 - train_ratio], \n",
    "    generator=generator\n",
    ")\n",
    "\n",
    "# define the class weights: here in data 80% are the first class and 20% are the second class\n",
    "class_weights = torch.FloatTensor([0.8 if i == 0 else 0.2 for _, i in train_set])\n",
    "\n",
    "# create the class-balanced sampler\n",
    "sampler = WeightedRandomSampler(\n",
    "    weights=class_weights,\n",
    "    num_samples=len(train_set),\n",
    "    replacement=True\n",
    ")\n",
    "\n",
    "# data loader\n",
    "train_loader = DataLoader(\n",
    "    train_set, \n",
    "    batch_size=40, \n",
    "    collate_fn=PadSequence(-1),\n",
    "    sampler=sampler,\n",
    ")\n",
    "test_loader = DataLoader(\n",
    "    test_set, \n",
    "    batch_size=100, \n",
    "    collate_fn=PadSequence(-1), \n",
    "    shuffle=False,\n",
    ")"
   ]
  },
  {
   "cell_type": "markdown",
   "id": "44b781c6-3259-4c66-bf12-ea5c4b1d0538",
   "metadata": {},
   "source": [
    "# Multi-head Attention SVM"
   ]
  },
  {
   "cell_type": "code",
   "execution_count": 3,
   "id": "8f481b62-d21e-400a-980f-eb3fed78d973",
   "metadata": {},
   "outputs": [],
   "source": [
    "import numpy as np\n",
    "import torch\n",
    "import torch.nn as nn\n",
    "\n",
    "\n",
    "def get_emb(sin_inp):\n",
    "    \"\"\"\n",
    "    Gets a base embedding for one dimension with sin and cos intertwined\n",
    "    \"\"\"\n",
    "    emb = torch.stack((sin_inp.sin(), sin_inp.cos()), dim=-1)\n",
    "    return torch.flatten(emb, -2, -1)\n",
    "\n",
    "\n",
    "#  -------------- Transformer-SVM Model -------------- \n",
    "class PositionalEncoding1D(nn.Module):\n",
    "    def __init__(self, channels):\n",
    "        \"\"\"\n",
    "        :param channels: The last dimension of the tensor you want to apply pos emb to.\n",
    "        \"\"\"\n",
    "        super(PositionalEncoding1D, self).__init__()\n",
    "        self.org_channels = channels\n",
    "        channels = int(np.ceil(channels / 2) * 2)\n",
    "        self.channels = channels\n",
    "        inv_freq = 1.0 / (10000 ** (torch.arange(0, channels, 2).float() / channels))\n",
    "        self.register_buffer(\"inv_freq\", inv_freq)\n",
    "        self.cached_penc = None\n",
    "\n",
    "    def forward(self, tensor):\n",
    "        \"\"\"\n",
    "        :param tensor: A 3d tensor of size (batch_size, x, ch)\n",
    "        :return: Positional Encoding Matrix of size (batch_size, x, ch)\n",
    "        \"\"\"\n",
    "        if len(tensor.shape) != 3:\n",
    "            raise RuntimeError(\"The input tensor has to be 3d!\")\n",
    "\n",
    "        if self.cached_penc is not None and self.cached_penc.shape == tensor.shape:\n",
    "            return self.cached_penc\n",
    "\n",
    "        self.cached_penc = None\n",
    "        batch_size, x, orig_ch = tensor.shape\n",
    "        pos_x = torch.arange(x, device=tensor.device).type(self.inv_freq.type())\n",
    "        sin_inp_x = torch.einsum(\"i,j->ij\", pos_x, self.inv_freq)\n",
    "        emb_x = get_emb(sin_inp_x)\n",
    "        emb = torch.zeros((x, self.channels), device=tensor.device).type(tensor.type())\n",
    "        emb[:, : self.channels] = emb_x\n",
    "\n",
    "        self.cached_penc = emb[None, :, :orig_ch].repeat(batch_size, 1, 1)\n",
    "        return self.cached_penc\n",
    "    \n",
    "\n",
    "class TransformerSVM(nn.Module):\n",
    "    def __init__(self, input_dim=26, d_model=128, dropout=0.0):\n",
    "        super(TransformerSVM, self).__init__()\n",
    "        self.embedding = nn.Conv1d(input_dim, d_model, kernel_size=16, stride=16, padding=8)\n",
    "        self.transformer = nn.Transformer(\n",
    "            d_model=d_model,\n",
    "            nhead=16,\n",
    "            norm_first=True,\n",
    "            batch_first=True,\n",
    "            dim_feedforward=d_model*2,\n",
    "            num_encoder_layers=2, \n",
    "            num_decoder_layers=2,\n",
    "            dropout=dropout,\n",
    "            activation=\"gelu\",\n",
    "        )\n",
    "        self.target = nn.Parameter(torch.randn(d_model) * 0.02, requires_grad=True)\n",
    "        self.linear = nn.Linear(d_model, 1)\n",
    "        self.pos_enc = PositionalEncoding1D(d_model)\n",
    "        \n",
    "    def forward(self, x):\n",
    "        x = torch.einsum(\"bld->bdl\", x)\n",
    "        x = self.embedding(x.float())\n",
    "        x = torch.einsum(\"bdl->bld\", x)\n",
    "        x = x + self.pos_enc(x)\n",
    "        target = self.target.repeat(len(x), 1, 1)\n",
    "        x = self.transformer(src=x, tgt=target)\n",
    "        return self.linear(x)\n",
    "    \n",
    "    \n",
    "\n",
    "# -------------- ResNet-SVM Model -------------- \n",
    "class LayerNorm(nn.LayerNorm):\n",
    "    def forward(self, x):\n",
    "        x = torch.einsum(\"bld->bdl\", x)\n",
    "        x = super().forward(x)\n",
    "        x = torch.einsum(\"bdl->bld\", x)\n",
    "        return x\n",
    "    \n",
    "    \n",
    "class ResNetSVM(nn.Module):\n",
    "    def __init__(self, input_dim=26, d_model=128, dropout=0.0, num_blocks=8):\n",
    "        super(ResNetSVM, self).__init__()\n",
    "        self.embedding = nn.Conv1d(input_dim, d_model, kernel_size=5, stride=1, padding=2)\n",
    "        self.blocks = nn.ModuleList([\n",
    "            nn.Sequential(\n",
    "                nn.Conv1d(d_model, d_model, kernel_size=4, stride=2, padding=1),\n",
    "                nn.ReLU(),\n",
    "                LayerNorm(d_model),\n",
    "                nn.Conv1d(d_model, d_model, kernel_size=3, stride=1, padding=1),\n",
    "                nn.ReLU(),\n",
    "                LayerNorm(d_model),\n",
    "            ) for _ in range(num_blocks)\n",
    "        ])\n",
    "        self.linear = nn.Linear(d_model, 1)\n",
    "        \n",
    "    def forward(self, x):\n",
    "        x = torch.einsum(\"bld->bdl\", x)\n",
    "        x = self.embedding(x)\n",
    "        \n",
    "        # forward all the blocks\n",
    "        for blk in self.blocks:\n",
    "            out = blk(x)\n",
    "            x = out + F.adaptive_max_pool1d(x, out.shape[-1])\n",
    "            \n",
    "        # global pooling\n",
    "        x = F.adaptive_avg_pool1d(x, 1)\n",
    "        x = torch.einsum(\"bdl->bld\", x)\n",
    "        return self.linear(x)\n",
    "    \n",
    "    \n",
    "device = torch.device(\"cuda:1\")\n",
    "model = TransformerSVM(\n",
    "    input_dim=26,\n",
    "    d_model=512, \n",
    "    dropout=0.0,\n",
    ").to(device)"
   ]
  },
  {
   "cell_type": "markdown",
   "id": "08575264-6889-403e-9bc6-18e3196d0adc",
   "metadata": {},
   "source": [
    "# Optimizers"
   ]
  },
  {
   "cell_type": "code",
   "execution_count": 4,
   "id": "a1eed659-d2a0-4e9b-9442-33a0a96553ec",
   "metadata": {},
   "outputs": [],
   "source": [
    "num_epochs = 1000\n",
    "criterion = nn.MarginRankingLoss(margin=1.0)\n",
    "\n",
    "# use lr=1e-3 (also max_lr) for ResNet and lr=2e-4 (also max_lr) for Transformer\n",
    "optimizer = optim.Adam(model.parameters(), lr=2e-4, weight_decay=0.000)\n",
    "scheduler = torch.optim.lr_scheduler.OneCycleLR(\n",
    "    optimizer, max_lr=2e-4, total_steps=num_epochs, div_factor=100, \n",
    "    pct_start=0.05, anneal_strategy='cos', final_div_factor=10000.0,\n",
    ")"
   ]
  },
  {
   "cell_type": "markdown",
   "id": "9658841c-f8d7-4c0b-bc0e-d09c131c838d",
   "metadata": {},
   "source": [
    "# Training Loop"
   ]
  },
  {
   "cell_type": "code",
   "execution_count": 5,
   "id": "aa33f390-8494-4855-9488-915aa0f9b65a",
   "metadata": {},
   "outputs": [
    {
     "data": {
      "text/html": [
       "\n",
       "<style>\n",
       "    /* Turns off some styling */\n",
       "    progress {\n",
       "        /* gets rid of default border in Firefox and Opera. */\n",
       "        border: none;\n",
       "        /* Needs to be in here for Safari polyfill so background images work as expected. */\n",
       "        background-size: auto;\n",
       "    }\n",
       "    .progress-bar-interrupted, .progress-bar-interrupted::-webkit-progress-bar {\n",
       "        background: #F44336;\n",
       "    }\n",
       "</style>\n"
      ],
      "text/plain": [
       "<IPython.core.display.HTML object>"
      ]
     },
     "metadata": {},
     "output_type": "display_data"
    },
    {
     "data": {
      "text/html": [],
      "text/plain": [
       "<IPython.core.display.HTML object>"
      ]
     },
     "metadata": {},
     "output_type": "display_data"
    },
    {
     "name": "stdout",
     "output_type": "stream",
     "text": [
      "0 Train Loss: 0.910477\n",
      "1 Train Loss: 0.962012\n",
      "2 Train Loss: 0.924949\n",
      "3 Train Loss: 0.925409\n",
      "4 Train Loss: 0.897260\n",
      "5 Train Loss: 0.867577\n",
      "6 Train Loss: 0.874651\n",
      "7 Train Loss: 0.878793\n",
      "8 Train Loss: 0.858500\n",
      "9 Train Loss: 0.857892\n",
      "10 Train Loss: 0.856273\n",
      "11 Train Loss: 0.838902\n",
      "12 Train Loss: 0.831877\n",
      "13 Train Loss: 0.818408\n",
      "14 Train Loss: 0.749663\n",
      "15 Train Loss: 0.749030\n",
      "16 Train Loss: 0.744048\n",
      "17 Train Loss: 0.750389\n",
      "18 Train Loss: 0.707430\n",
      "19 Train Loss: 0.745775\n",
      "20 Train Loss: 0.748236\n",
      "21 Train Loss: 0.730816\n",
      "22 Train Loss: 0.738784\n",
      "23 Train Loss: 0.745727\n",
      "24 Train Loss: 0.710819\n",
      "25 Train Loss: 0.705997\n",
      "26 Train Loss: 0.719336\n",
      "27 Train Loss: 0.698750\n",
      "28 Train Loss: 0.759701\n",
      "29 Train Loss: 0.732248\n",
      "30 Train Loss: 0.730717\n",
      "31 Train Loss: 0.706834\n",
      "32 Train Loss: 0.699793\n",
      "33 Train Loss: 0.697940\n",
      "34 Train Loss: 0.714483\n",
      "35 Train Loss: 0.694205\n",
      "36 Train Loss: 0.754423\n",
      "37 Train Loss: 0.699124\n",
      "38 Train Loss: 0.775063\n",
      "39 Train Loss: 0.777758\n",
      "40 Train Loss: 0.705936\n",
      "41 Train Loss: 0.694321\n",
      "42 Train Loss: 0.694518\n",
      "43 Train Loss: 0.704705\n",
      "44 Train Loss: 0.695833\n",
      "45 Train Loss: 0.701305\n",
      "46 Train Loss: 0.710456\n",
      "47 Train Loss: 0.701722\n",
      "48 Train Loss: 0.728032\n",
      "49 Train Loss: 0.714016\n",
      "50 Train Loss: 0.717168\n",
      "51 Train Loss: 0.707034\n",
      "52 Train Loss: 0.678510\n",
      "53 Train Loss: 0.686115\n",
      "54 Train Loss: 0.685977\n",
      "55 Train Loss: 0.703961\n",
      "56 Train Loss: 0.687312\n",
      "57 Train Loss: 0.686708\n",
      "58 Train Loss: 0.694971\n",
      "59 Train Loss: 0.705574\n",
      "60 Train Loss: 0.693037\n",
      "61 Train Loss: 0.677851\n",
      "62 Train Loss: 0.687650\n",
      "63 Train Loss: 0.685742\n",
      "64 Train Loss: 0.672763\n",
      "65 Train Loss: 0.672145\n",
      "66 Train Loss: 0.682428\n",
      "67 Train Loss: 0.677441\n",
      "68 Train Loss: 0.678166\n",
      "69 Train Loss: 0.672352\n",
      "70 Train Loss: 0.701569\n",
      "71 Train Loss: 0.657714\n",
      "72 Train Loss: 0.675594\n",
      "73 Train Loss: 0.656944\n",
      "74 Train Loss: 0.674103\n",
      "75 Train Loss: 0.665854\n",
      "76 Train Loss: 0.683415\n",
      "77 Train Loss: 0.659984\n",
      "78 Train Loss: 0.681171\n",
      "79 Train Loss: 0.682630\n",
      "80 Train Loss: 0.674911\n",
      "81 Train Loss: 0.678456\n",
      "82 Train Loss: 0.655850\n",
      "83 Train Loss: 0.661905\n",
      "84 Train Loss: 0.639765\n",
      "85 Train Loss: 0.670477\n",
      "86 Train Loss: 0.661566\n",
      "87 Train Loss: 0.642143\n",
      "88 Train Loss: 0.647197\n",
      "89 Train Loss: 0.646947\n",
      "90 Train Loss: 0.665464\n",
      "91 Train Loss: 0.643060\n",
      "92 Train Loss: 0.654196\n",
      "93 Train Loss: 0.646283\n",
      "94 Train Loss: 0.640265\n",
      "95 Train Loss: 0.662613\n",
      "96 Train Loss: 0.654237\n",
      "97 Train Loss: 0.625280\n",
      "98 Train Loss: 0.644459\n",
      "99 Train Loss: 0.657892\n"
     ]
    }
   ],
   "source": [
    "model.train()\n",
    "mb = master_bar(range(num_epochs))\n",
    "pb = progress_bar(train_loader, parent=mb)\n",
    "for epoch in mb:\n",
    "    losses = []\n",
    "    for inputs, labels in pb:\n",
    "        optimizer.zero_grad()\n",
    "        outputs = model(inputs.to(device)).squeeze()\n",
    "        labels = 2 * labels.squeeze() - 1     # Convert labels to 1/-1\n",
    "        loss = criterion(outputs, -outputs, labels.to(device))\n",
    "        loss.backward()\n",
    "        optimizer.step()\n",
    "        \n",
    "        losses.append(loss.detach())\n",
    "    scheduler.step()\n",
    "    loss = sum(losses) / len(losses)\n",
    "    if epoch % 1 == 0:\n",
    "        print(epoch, 'Train Loss: {:.6f}'.format(loss.item()))"
   ]
  },
  {
   "cell_type": "markdown",
   "id": "f386d8d5-e771-42ec-b3f5-39b5e9a34e86",
   "metadata": {},
   "source": [
    "# Evaluate Train"
   ]
  },
  {
   "cell_type": "code",
   "execution_count": 7,
   "id": "b3eb77fb-6e98-45e5-bc95-2c79fa22a26c",
   "metadata": {},
   "outputs": [
    {
     "data": {
      "text/html": [
       "\n",
       "<style>\n",
       "    /* Turns off some styling */\n",
       "    progress {\n",
       "        /* gets rid of default border in Firefox and Opera. */\n",
       "        border: none;\n",
       "        /* Needs to be in here for Safari polyfill so background images work as expected. */\n",
       "        background-size: auto;\n",
       "    }\n",
       "    .progress-bar-interrupted, .progress-bar-interrupted::-webkit-progress-bar {\n",
       "        background: #F44336;\n",
       "    }\n",
       "</style>\n"
      ],
      "text/plain": [
       "<IPython.core.display.HTML object>"
      ]
     },
     "metadata": {},
     "output_type": "display_data"
    },
    {
     "data": {
      "text/html": [
       "\n",
       "    <div>\n",
       "      <progress value='207' class='' max='207' style='width:300px; height:20px; vertical-align: middle;'></progress>\n",
       "      100.00% [207/207 00:02<00:00]\n",
       "    </div>\n",
       "    "
      ],
      "text/plain": [
       "<IPython.core.display.HTML object>"
      ]
     },
     "metadata": {},
     "output_type": "display_data"
    },
    {
     "name": "stdout",
     "output_type": "stream",
     "text": [
      "Test accuracy: 67.24%\n"
     ]
    }
   ],
   "source": [
    "model.eval()\n",
    "correct = 0\n",
    "total = 0\n",
    "with torch.no_grad():\n",
    "    for inputs, labels in progress_bar(train_loader):\n",
    "        outputs = model(inputs.to(device)).squeeze()\n",
    "        predicted = (torch.sign(outputs) + 1) / 2     # Convert back to 0/1\n",
    "        total += labels.size(0)\n",
    "        correct += (predicted == labels.to(device).squeeze()).sum().item()\n",
    "\n",
    "accuracy = 100 * correct / total\n",
    "print('Test accuracy: {:.2f}%'.format(accuracy))"
   ]
  },
  {
   "cell_type": "markdown",
   "id": "3f420de6-8365-4046-992f-c881dbabdabf",
   "metadata": {},
   "source": [
    "# Evaluate Test"
   ]
  },
  {
   "cell_type": "code",
   "execution_count": 51,
   "id": "cf93a1fd-60ac-4408-b301-79161c778db9",
   "metadata": {},
   "outputs": [
    {
     "data": {
      "text/html": [
       "\n",
       "<style>\n",
       "    /* Turns off some styling */\n",
       "    progress {\n",
       "        /* gets rid of default border in Firefox and Opera. */\n",
       "        border: none;\n",
       "        /* Needs to be in here for Safari polyfill so background images work as expected. */\n",
       "        background-size: auto;\n",
       "    }\n",
       "    .progress-bar-interrupted, .progress-bar-interrupted::-webkit-progress-bar {\n",
       "        background: #F44336;\n",
       "    }\n",
       "</style>\n"
      ],
      "text/plain": [
       "<IPython.core.display.HTML object>"
      ]
     },
     "metadata": {},
     "output_type": "display_data"
    },
    {
     "data": {
      "text/html": [
       "\n",
       "    <div>\n",
       "      <progress value='21' class='' max='21' style='width:300px; height:20px; vertical-align: middle;'></progress>\n",
       "      100.00% [21/21 00:00<00:00]\n",
       "    </div>\n",
       "    "
      ],
      "text/plain": [
       "<IPython.core.display.HTML object>"
      ]
     },
     "metadata": {},
     "output_type": "display_data"
    },
    {
     "name": "stdout",
     "output_type": "stream",
     "text": [
      "Test accuracy: 82.52%\n"
     ]
    }
   ],
   "source": [
    "model.eval()\n",
    "correct = 0\n",
    "total = 0\n",
    "\n",
    "test_labels = []\n",
    "test_inputs = []\n",
    "test_outputs = []\n",
    "with torch.no_grad():\n",
    "    for inputs, labels in progress_bar(test_loader):\n",
    "        outputs = model(inputs.to(device)).squeeze()\n",
    "        predicted = (torch.sign(outputs) + 1) / 2  # Convert back to 0/1\n",
    "        total += labels.size(0)\n",
    "        correct += (predicted == labels.to(device).squeeze()).sum().item()\n",
    "        \n",
    "        labels = labels.squeeze()\n",
    "        \n",
    "        # unpad inputs\n",
    "        inputs = [i[(i != -1).any(-1)] for i in inputs]\n",
    "        \n",
    "        test_inputs.extend(inputs)\n",
    "        test_labels.append(labels)\n",
    "        test_outputs.append(outputs)\n",
    "\n",
    "test_outputs = torch.cat(test_outputs, dim=0).cpu().numpy()\n",
    "test_labels = torch.cat(test_labels, dim=0).cpu().numpy()\n",
    "\n",
    "accuracy = 100 * correct / total\n",
    "print('Test accuracy: {:.2f}%'.format(accuracy))"
   ]
  },
  {
   "cell_type": "markdown",
   "id": "3dbd693c-5993-4c3e-b335-b592906b117c",
   "metadata": {},
   "source": [
    "# Visualization"
   ]
  },
  {
   "cell_type": "code",
   "execution_count": 52,
   "id": "645a1da6-5354-4362-af87-bf5ba61061f6",
   "metadata": {},
   "outputs": [],
   "source": [
    "import numpy as np\n",
    "import seaborn as sns\n",
    "import matplotlib.pyplot as plt"
   ]
  },
  {
   "cell_type": "code",
   "execution_count": 53,
   "id": "191fe93c-b836-4818-97f3-e84aa021ebab",
   "metadata": {},
   "outputs": [
    {
     "data": {
      "image/png": "[encoded data removed]",
      "text/plain": [
       "<Figure size 1200x450 with 1 Axes>"
      ]
     },
     "metadata": {
      "needs_background": "light"
     },
     "output_type": "display_data"
    }
   ],
   "source": [
    "fig, ax = plt.subplots(1, 1, figsize=(8, 3), dpi=150)\n",
    "ax.hist(test_outputs, bins=200)\n",
    "ax.set_yscale(\"log\")\n",
    "ax.set_xlabel(\"Output Score\")\n",
    "ax.set_ylabel(\"Count (Log Scale)\")\n",
    "ax.text(0.24, 150, \"Human Host\")\n",
    "ax.text(-0.65, 80, \"Non-Human Host\")\n",
    "ax.set_xlim(-0.75, 0.75)\n",
    "plt.show()"
   ]
  },
  {
   "cell_type": "markdown",
   "id": "e082c20e-8b36-4f00-a052-92e11ce31f40",
   "metadata": {},
   "source": [
    "## Get Support Vectors"
   ]
  },
  {
   "cell_type": "code",
   "execution_count": 57,
   "id": "ca862148-cc1b-4e14-93a7-fde727fe2b34",
   "metadata": {},
   "outputs": [
    {
     "data": {
      "text/plain": [
       "array([-0.11891922,  0.12089213, -0.20900056, -0.05192478,  0.32615563,\n",
       "        0.26391616], dtype=float32)"
      ]
     },
     "execution_count": 57,
     "metadata": {},
     "output_type": "execute_result"
    }
   ],
   "source": [
    "sv_margin = 0.4\n",
    "sv_masks = np.absolute(test_outputs) < sv_margin\n",
    "sv_idx = list(np.where(sv_masks)[0])\n",
    "sv_scores = test_outputs[sv_masks]\n",
    "support_vectors = [test_inputs[i] for i in sv_idx]\n",
    "sv_scores"
   ]
  }
 ],
 "metadata": {
  "kernelspec": {
   "display_name": "zoonosis_venv",
   "language": "python",
   "name": "zoonosis_venv"
  },
  "language_info": {
   "codemirror_mode": {
    "name": "ipython",
    "version": 3
   },
   "file_extension": ".py",
   "mimetype": "text/x-python",
   "name": "python",
   "nbconvert_exporter": "python",
   "pygments_lexer": "ipython3",
   "version": "3.9.12"
  }
 },
 "nbformat": 4,
 "nbformat_minor": 5
}
