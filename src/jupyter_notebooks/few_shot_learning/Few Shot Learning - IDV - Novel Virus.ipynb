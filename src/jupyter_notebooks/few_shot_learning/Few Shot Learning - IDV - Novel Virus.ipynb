{
 "cells": [
  {
   "cell_type": "code",
   "execution_count": 1,
   "id": "db6d420b",
   "metadata": {},
   "outputs": [
    {
     "data": {
      "text/plain": [
       "['/home/blessyantony/dev/git/zoonosis/src/jupyter_notebooks/few_shot_learning',\n",
       " '/opt/conda/lib/python38.zip',\n",
       " '/opt/conda/lib/python3.8',\n",
       " '/opt/conda/lib/python3.8/lib-dynload',\n",
       " '',\n",
       " '/home/blessyantony/.local/lib/python3.8/site-packages',\n",
       " '/opt/conda/lib/python3.8/site-packages',\n",
       " '/opt/conda/lib/python3.8/site-packages/IPython/extensions',\n",
       " '/home/blessyantony/.ipython',\n",
       " '/home/blessyantony/dev/git/zoonosis/src/jupyter_notebooks/few_shot_learning/../../../../..',\n",
       " '/home/blessyantony/dev/git/zoonosis/src/jupyter_notebooks/few_shot_learning/../../../..',\n",
       " '/home/blessyantony/dev/git/zoonosis/src/jupyter_notebooks/few_shot_learning/../../..',\n",
       " '/home/blessyantony/dev/git/zoonosis/src/jupyter_notebooks/few_shot_learning/../..']"
      ]
     },
     "execution_count": 1,
     "metadata": {},
     "output_type": "execute_result"
    }
   ],
   "source": [
    "import sys\n",
    "import os\n",
    "sys.path.append(os.path.join(os.getcwd(), \"..\", \"..\", \"..\", \"..\", \"..\"))\n",
    "sys.path.append(os.path.join(os.getcwd(), \"..\", \"..\", \"..\", \"..\"))\n",
    "sys.path.append(os.path.join(os.getcwd(), \"..\", \"..\", \"..\"))\n",
    "sys.path.append(os.path.join(os.getcwd(), \"..\", \"..\"))\n",
    "sys.path"
   ]
  },
  {
   "cell_type": "code",
   "execution_count": 2,
   "id": "a4fc7af4",
   "metadata": {},
   "outputs": [
    {
     "name": "stdout",
     "output_type": "stream",
     "text": [
      "Defaulting to user installation because normal site-packages is not writeable\n",
      "\u001b[33mWARNING: Ignoring invalid distribution -eaborn (/home/blessyantony/.local/lib/python3.8/site-packages)\u001b[0m\n",
      "\u001b[33mWARNING: Ignoring invalid distribution -eaborn (/home/blessyantony/.local/lib/python3.8/site-packages)\u001b[0m\n",
      "Looking in indexes: https://pypi.org/simple, https://pypi.ngc.nvidia.com\n",
      "Collecting seaborn==0.13.0\n",
      "  Downloading seaborn-0.13.0-py3-none-any.whl (294 kB)\n",
      "\u001b[K     |████████████████████████████████| 294 kB 8.0 MB/s eta 0:00:01\n",
      "\u001b[?25hRequirement already satisfied: numpy!=1.24.0,>=1.20 in /opt/conda/lib/python3.8/site-packages (from seaborn==0.13.0) (1.21.4)\n",
      "Requirement already satisfied: matplotlib!=3.6.1,>=3.3 in /home/blessyantony/.local/lib/python3.8/site-packages (from seaborn==0.13.0) (3.5.3)\n",
      "Requirement already satisfied: pandas>=1.2 in /opt/conda/lib/python3.8/site-packages (from seaborn==0.13.0) (1.3.4)\n",
      "Requirement already satisfied: fonttools>=4.22.0 in /opt/conda/lib/python3.8/site-packages (from matplotlib!=3.6.1,>=3.3->seaborn==0.13.0) (4.28.2)\n",
      "Requirement already satisfied: cycler>=0.10 in /opt/conda/lib/python3.8/site-packages (from matplotlib!=3.6.1,>=3.3->seaborn==0.13.0) (0.11.0)\n",
      "Requirement already satisfied: packaging>=20.0 in /opt/conda/lib/python3.8/site-packages (from matplotlib!=3.6.1,>=3.3->seaborn==0.13.0) (21.3)\n",
      "Requirement already satisfied: python-dateutil>=2.7 in /opt/conda/lib/python3.8/site-packages (from matplotlib!=3.6.1,>=3.3->seaborn==0.13.0) (2.8.2)\n",
      "Requirement already satisfied: pyparsing>=2.2.1 in /opt/conda/lib/python3.8/site-packages (from matplotlib!=3.6.1,>=3.3->seaborn==0.13.0) (3.0.6)\n",
      "Requirement already satisfied: pillow>=6.2.0 in /opt/conda/lib/python3.8/site-packages (from matplotlib!=3.6.1,>=3.3->seaborn==0.13.0) (8.2.0)\n",
      "Requirement already satisfied: kiwisolver>=1.0.1 in /opt/conda/lib/python3.8/site-packages (from matplotlib!=3.6.1,>=3.3->seaborn==0.13.0) (1.3.2)\n",
      "Requirement already satisfied: pytz>=2017.3 in /opt/conda/lib/python3.8/site-packages (from pandas>=1.2->seaborn==0.13.0) (2021.3)\n",
      "Requirement already satisfied: six>=1.5 in /opt/conda/lib/python3.8/site-packages (from python-dateutil>=2.7->matplotlib!=3.6.1,>=3.3->seaborn==0.13.0) (1.16.0)\n",
      "\u001b[33mWARNING: Ignoring invalid distribution -eaborn (/home/blessyantony/.local/lib/python3.8/site-packages)\u001b[0m\n",
      "Installing collected packages: seaborn\n",
      "  Attempting uninstall: seaborn\n",
      "\u001b[33m    WARNING: Ignoring invalid distribution -eaborn (/home/blessyantony/.local/lib/python3.8/site-packages)\u001b[0m\n",
      "    Found existing installation: seaborn 0.13.2\n",
      "    Uninstalling seaborn-0.13.2:\n",
      "      Successfully uninstalled seaborn-0.13.2\n",
      "\u001b[33mWARNING: Ignoring invalid distribution -eaborn (/home/blessyantony/.local/lib/python3.8/site-packages)\u001b[0m\n",
      "\u001b[31mERROR: pip's dependency resolver does not currently take into account all the packages that are installed. This behaviour is the source of the following dependency conflicts.\n",
      "statannotations 0.6.0 requires seaborn<0.12,>=0.9.0, but you have seaborn 0.13.0 which is incompatible.\u001b[0m\n",
      "Successfully installed seaborn-0.13.0\n",
      "\u001b[33mWARNING: Ignoring invalid distribution -eaborn (/home/blessyantony/.local/lib/python3.8/site-packages)\u001b[0m\n",
      "\u001b[33mWARNING: Ignoring invalid distribution -eaborn (/home/blessyantony/.local/lib/python3.8/site-packages)\u001b[0m\n",
      "\u001b[33mWARNING: Ignoring invalid distribution -eaborn (/home/blessyantony/.local/lib/python3.8/site-packages)\u001b[0m\n"
     ]
    }
   ],
   "source": [
    "!pip install seaborn==0.13.0"
   ]
  },
  {
   "cell_type": "code",
   "execution_count": 3,
   "id": "c450c3b5",
   "metadata": {},
   "outputs": [],
   "source": [
    "import pandas as pd\n",
    "import os\n",
    "import numpy as np\n",
    "import seaborn as sns\n",
    "import matplotlib.pyplot as plt\n",
    "import matplotlib.ticker as ticker\n",
    "from pathlib import Path\n",
    "import textwrap\n",
    "from sklearn.metrics import roc_curve, accuracy_score, f1_score, auc, precision_recall_curve\n",
    "from statistics import mean\n",
    "\n",
    "from src.utils import utils, evaluation_utils, visualization_utils"
   ]
  },
  {
   "cell_type": "code",
   "execution_count": 4,
   "id": "b2b7fbd4",
   "metadata": {},
   "outputs": [],
   "source": [
    "virprobert_output_auprc_file_paths =  {\n",
    "    #\"unseen_hosts\": os.path.join(os.getcwd(), \"..\",\"..\", \"..\", \"output/raw/uniref90_embl_vertebrates_idv_unseen_hosts/20241001/host_multi/few_shot_learning/fsl_tr_w5s3q10_te_walls3q-1_tsk10e1b32itr1_split70-10-20-gpu2_wo_non_idv_hybrid-attention_sl256st64vs30_ae_bn_fnn_2l_d1024_lr1e-4_classwise_auprc.csv\"),\n",
    "    \"unseen_hosts_with_non_idv_wo_human\": os.path.join(os.getcwd(), \"..\",\"..\", \"..\", \"output/raw/uniref90_embl_vertebrates_idv_seen_hosts/20241001/host_multi/few_shot_learning/fsl_tr_w5s3q10_te_walls3q-1_tsk10e1b32itr1_split70-10-20-gpu2_wo_human_hybrid-attention_sl256st64vs30_ae_bn_fnn_2l_d1024_lr1e-4_classwise_auprc.csv\"),\n",
    "    #\"sl256st64_w5s2\": os.path.join(os.getcwd(), \"..\",\"..\", \"..\", \"output/raw/uniref90_embl_vertebrates_non_idv/20240906/host_multi/few_shot_learning/fsl_tr_w5s2q10_te_w5s2q-1_e100b32_split70-10-20_hybrid-attention_sl256st64vs30_ae_bn_fnn_2l_d1024_lr1e-4_classwise_auprc.csv\")\n",
    "}\n",
    "dataset_file_path = os.path.join(os.getcwd(), \"..\",\"..\", \"..\", \"input/data/uniref90/20240131/uniref90_viridae_embl_hosts_pruned_metadata_species_vertebrates_w_seq_idv.csv\")"
   ]
  },
  {
   "cell_type": "code",
   "execution_count": 5,
   "id": "8a2b3e09",
   "metadata": {},
   "outputs": [],
   "source": [
    "def read_output_df(output_file_paths):\n",
    "    dfs = []\n",
    "    for model, output_file_path in output_file_paths.items():\n",
    "        df = pd.read_csv(output_file_path, index_col=0)\n",
    "        df[\"model\"] = model\n",
    "        dfs.append(df)\n",
    "    return pd.concat(dfs)\n",
    "\n",
    "\n",
    "def compute_class_distribution(df, label_col, n, format=False):\n",
    "    labels_counts = df[label_col].value_counts()\n",
    "    print(labels_counts)\n",
    "    labels_counts = labels_counts / n * 100\n",
    "    labels_counts = labels_counts.to_dict()\n",
    "    if format:\n",
    "        labels_counts = {k: f\"{k}\\n(n={int(v/100*n)}, {v:.3f}%)\" for k, v, in labels_counts.items()}\n",
    "    return labels_counts"
   ]
  },
  {
   "cell_type": "code",
   "execution_count": 6,
   "id": "b86cb344",
   "metadata": {},
   "outputs": [],
   "source": [
    "df = read_output_df(virprobert_output_auprc_file_paths)\n",
    "dataset_df = pd.read_csv(dataset_file_path)"
   ]
  },
  {
   "cell_type": "code",
   "execution_count": 7,
   "id": "4e455139",
   "metadata": {},
   "outputs": [
    {
     "data": {
      "text/plain": [
       "(1470, 4)"
      ]
     },
     "execution_count": 7,
     "metadata": {},
     "output_type": "execute_result"
    }
   ],
   "source": [
    "df.shape"
   ]
  },
  {
   "cell_type": "code",
   "execution_count": 8,
   "id": "bb78c558",
   "metadata": {},
   "outputs": [
    {
     "name": "stdout",
     "output_type": "stream",
     "text": [
      "Homo sapiens                          218631\n",
      "Macaca mulatta                           849\n",
      "Felis catus                              143\n",
      "Cercocebus atys                          122\n",
      "Puma concolor                             24\n",
      "Macaca nemestrina                         23\n",
      "Mandrillus sphinx                         23\n",
      "Mandrillus leucophaeus                    20\n",
      "Cercopithecus nictitans                   19\n",
      "Cercopithecus solatus                     17\n",
      "Cercocebus torquatus                      16\n",
      "Cercopithecus aethiops                    14\n",
      "Cercopithecus cephus                      13\n",
      "Chlorocebus sabaeus                       13\n",
      "Colobus guereza                           13\n",
      "Panthera leo                              12\n",
      "Cercopithecus neglectus                   12\n",
      "Cercopithecus mona                        10\n",
      "Chlorocebus tantalus                      10\n",
      "Felis silvestris catus                     9\n",
      "Cercopithecus lhoesti                      8\n",
      "Chlorocebus pygerythrus                    7\n",
      "Cercopithecus mitis                        6\n",
      "Cercopithecus erythrotis                   5\n",
      "Felis domesticus                           5\n",
      "Macaca arctoides                           5\n",
      "Macaca fascicularis                        5\n",
      "Semnopithecus entellus                     5\n",
      "Bos taurus                                 4\n",
      "Miopithecus ogouensis                      4\n",
      "Cercopithecus ascanius                     4\n",
      "Cercocebus torquatus atys                  3\n",
      "Lynx rufus                                 3\n",
      "Cercopithecus aethiops pygerythrus         3\n",
      "Piliocolobus tephrosceles                  2\n",
      "Piliocolobus badius                        2\n",
      "Otocolobus manul                           1\n",
      "Panthera pardus                            1\n",
      "Papio ursinus                              1\n",
      "Procolobus verus                           1\n",
      "Name: virus_host_name, dtype: int64\n"
     ]
    },
    {
     "data": {
      "text/plain": [
       "{'Homo sapiens': 'Homo sapiens\\n(n=218631, 99.347%)',\n",
       " 'Macaca mulatta': 'Macaca mulatta\\n(n=849, 0.386%)',\n",
       " 'Felis catus': 'Felis catus\\n(n=143, 0.065%)',\n",
       " 'Cercocebus atys': 'Cercocebus atys\\n(n=122, 0.055%)',\n",
       " 'Puma concolor': 'Puma concolor\\n(n=24, 0.011%)',\n",
       " 'Macaca nemestrina': 'Macaca nemestrina\\n(n=23, 0.010%)',\n",
       " 'Mandrillus sphinx': 'Mandrillus sphinx\\n(n=23, 0.010%)',\n",
       " 'Mandrillus leucophaeus': 'Mandrillus leucophaeus\\n(n=20, 0.009%)',\n",
       " 'Cercopithecus nictitans': 'Cercopithecus nictitans\\n(n=19, 0.009%)',\n",
       " 'Cercopithecus solatus': 'Cercopithecus solatus\\n(n=17, 0.008%)',\n",
       " 'Cercocebus torquatus': 'Cercocebus torquatus\\n(n=16, 0.007%)',\n",
       " 'Cercopithecus aethiops': 'Cercopithecus aethiops\\n(n=14, 0.006%)',\n",
       " 'Cercopithecus cephus': 'Cercopithecus cephus\\n(n=13, 0.006%)',\n",
       " 'Chlorocebus sabaeus': 'Chlorocebus sabaeus\\n(n=13, 0.006%)',\n",
       " 'Colobus guereza': 'Colobus guereza\\n(n=13, 0.006%)',\n",
       " 'Panthera leo': 'Panthera leo\\n(n=12, 0.005%)',\n",
       " 'Cercopithecus neglectus': 'Cercopithecus neglectus\\n(n=12, 0.005%)',\n",
       " 'Cercopithecus mona': 'Cercopithecus mona\\n(n=10, 0.005%)',\n",
       " 'Chlorocebus tantalus': 'Chlorocebus tantalus\\n(n=10, 0.005%)',\n",
       " 'Felis silvestris catus': 'Felis silvestris catus\\n(n=9, 0.004%)',\n",
       " 'Cercopithecus lhoesti': 'Cercopithecus lhoesti\\n(n=8, 0.004%)',\n",
       " 'Chlorocebus pygerythrus': 'Chlorocebus pygerythrus\\n(n=7, 0.003%)',\n",
       " 'Cercopithecus mitis': 'Cercopithecus mitis\\n(n=6, 0.003%)',\n",
       " 'Cercopithecus erythrotis': 'Cercopithecus erythrotis\\n(n=5, 0.002%)',\n",
       " 'Felis domesticus': 'Felis domesticus\\n(n=5, 0.002%)',\n",
       " 'Macaca arctoides': 'Macaca arctoides\\n(n=5, 0.002%)',\n",
       " 'Macaca fascicularis': 'Macaca fascicularis\\n(n=5, 0.002%)',\n",
       " 'Semnopithecus entellus': 'Semnopithecus entellus\\n(n=5, 0.002%)',\n",
       " 'Bos taurus': 'Bos taurus\\n(n=4, 0.002%)',\n",
       " 'Miopithecus ogouensis': 'Miopithecus ogouensis\\n(n=4, 0.002%)',\n",
       " 'Cercopithecus ascanius': 'Cercopithecus ascanius\\n(n=4, 0.002%)',\n",
       " 'Cercocebus torquatus atys': 'Cercocebus torquatus atys\\n(n=3, 0.001%)',\n",
       " 'Lynx rufus': 'Lynx rufus\\n(n=3, 0.001%)',\n",
       " 'Cercopithecus aethiops pygerythrus': 'Cercopithecus aethiops pygerythrus\\n(n=3, 0.001%)',\n",
       " 'Piliocolobus tephrosceles': 'Piliocolobus tephrosceles\\n(n=2, 0.001%)',\n",
       " 'Piliocolobus badius': 'Piliocolobus badius\\n(n=2, 0.001%)',\n",
       " 'Otocolobus manul': 'Otocolobus manul\\n(n=1, 0.000%)',\n",
       " 'Panthera pardus': 'Panthera pardus\\n(n=1, 0.000%)',\n",
       " 'Papio ursinus': 'Papio ursinus\\n(n=1, 0.000%)',\n",
       " 'Procolobus verus': 'Procolobus verus\\n(n=1, 0.000%)'}"
      ]
     },
     "execution_count": 8,
     "metadata": {},
     "output_type": "execute_result"
    }
   ],
   "source": [
    "metadata_formatted = compute_class_distribution(dataset_df, \"virus_host_name\", n=220068, format=True)\n",
    "metadata_formatted"
   ]
  },
  {
   "cell_type": "code",
   "execution_count": 9,
   "id": "d315b80c",
   "metadata": {},
   "outputs": [
    {
     "data": {
      "text/plain": [
       "40"
      ]
     },
     "execution_count": 9,
     "metadata": {},
     "output_type": "execute_result"
    }
   ],
   "source": [
    "dataset_df[\"virus_host_name\"].nunique()"
   ]
  },
  {
   "cell_type": "code",
   "execution_count": 10,
   "id": "ee7d010d",
   "metadata": {},
   "outputs": [
    {
     "name": "stdout",
     "output_type": "stream",
     "text": [
      "Homo sapiens                          218631\n",
      "Macaca mulatta                           849\n",
      "Felis catus                              143\n",
      "Cercocebus atys                          122\n",
      "Puma concolor                             24\n",
      "Macaca nemestrina                         23\n",
      "Mandrillus sphinx                         23\n",
      "Mandrillus leucophaeus                    20\n",
      "Cercopithecus nictitans                   19\n",
      "Cercopithecus solatus                     17\n",
      "Cercocebus torquatus                      16\n",
      "Cercopithecus aethiops                    14\n",
      "Cercopithecus cephus                      13\n",
      "Chlorocebus sabaeus                       13\n",
      "Colobus guereza                           13\n",
      "Panthera leo                              12\n",
      "Cercopithecus neglectus                   12\n",
      "Cercopithecus mona                        10\n",
      "Chlorocebus tantalus                      10\n",
      "Felis silvestris catus                     9\n",
      "Cercopithecus lhoesti                      8\n",
      "Chlorocebus pygerythrus                    7\n",
      "Cercopithecus mitis                        6\n",
      "Cercopithecus erythrotis                   5\n",
      "Felis domesticus                           5\n",
      "Macaca arctoides                           5\n",
      "Macaca fascicularis                        5\n",
      "Semnopithecus entellus                     5\n",
      "Bos taurus                                 4\n",
      "Miopithecus ogouensis                      4\n",
      "Cercopithecus ascanius                     4\n",
      "Cercocebus torquatus atys                  3\n",
      "Lynx rufus                                 3\n",
      "Cercopithecus aethiops pygerythrus         3\n",
      "Piliocolobus tephrosceles                  2\n",
      "Piliocolobus badius                        2\n",
      "Otocolobus manul                           1\n",
      "Panthera pardus                            1\n",
      "Papio ursinus                              1\n",
      "Procolobus verus                           1\n",
      "Name: virus_host_name, dtype: int64\n"
     ]
    },
    {
     "data": {
      "text/plain": [
       "{'Homo sapiens': 99.34702001199629,\n",
       " 'Macaca mulatta': 0.3857898467746333,\n",
       " 'Felis catus': 0.0649799152989076,\n",
       " 'Cercocebus atys': 0.05543741025501209,\n",
       " 'Puma concolor': 0.010905720050166313,\n",
       " 'Macaca nemestrina': 0.01045131504807605,\n",
       " 'Mandrillus sphinx': 0.01045131504807605,\n",
       " 'Mandrillus leucophaeus': 0.009088100041805259,\n",
       " 'Cercopithecus nictitans': 0.008633695039714997,\n",
       " 'Cercopithecus solatus': 0.007724885035534471,\n",
       " 'Cercocebus torquatus': 0.0072704800334442085,\n",
       " 'Cercopithecus aethiops': 0.0063616700292636824,\n",
       " 'Cercopithecus cephus': 0.005907265027173419,\n",
       " 'Chlorocebus sabaeus': 0.005907265027173419,\n",
       " 'Colobus guereza': 0.005907265027173419,\n",
       " 'Panthera leo': 0.005452860025083156,\n",
       " 'Cercopithecus neglectus': 0.005452860025083156,\n",
       " 'Cercopithecus mona': 0.0045440500209026295,\n",
       " 'Chlorocebus tantalus': 0.0045440500209026295,\n",
       " 'Felis silvestris catus': 0.004089645018812368,\n",
       " 'Cercopithecus lhoesti': 0.0036352400167221043,\n",
       " 'Chlorocebus pygerythrus': 0.0031808350146318412,\n",
       " 'Cercopithecus mitis': 0.002726430012541578,\n",
       " 'Cercopithecus erythrotis': 0.0022720250104513147,\n",
       " 'Felis domesticus': 0.0022720250104513147,\n",
       " 'Macaca arctoides': 0.0022720250104513147,\n",
       " 'Macaca fascicularis': 0.0022720250104513147,\n",
       " 'Semnopithecus entellus': 0.0022720250104513147,\n",
       " 'Bos taurus': 0.0018176200083610521,\n",
       " 'Miopithecus ogouensis': 0.0018176200083610521,\n",
       " 'Cercopithecus ascanius': 0.0018176200083610521,\n",
       " 'Cercocebus torquatus atys': 0.001363215006270789,\n",
       " 'Lynx rufus': 0.001363215006270789,\n",
       " 'Cercopithecus aethiops pygerythrus': 0.001363215006270789,\n",
       " 'Piliocolobus tephrosceles': 0.0009088100041805261,\n",
       " 'Piliocolobus badius': 0.0009088100041805261,\n",
       " 'Otocolobus manul': 0.00045440500209026303,\n",
       " 'Panthera pardus': 0.00045440500209026303,\n",
       " 'Papio ursinus': 0.00045440500209026303,\n",
       " 'Procolobus verus': 0.00045440500209026303}"
      ]
     },
     "execution_count": 10,
     "metadata": {},
     "output_type": "execute_result"
    }
   ],
   "source": [
    "metadata_unformatted = compute_class_distribution(dataset_df, \"virus_host_name\", n=220068, format=False)\n",
    "metadata_unformatted"
   ]
  },
  {
   "cell_type": "code",
   "execution_count": 11,
   "id": "1a97fbe9",
   "metadata": {},
   "outputs": [],
   "source": [
    "# Retain only the hosts from the idv dataset\n",
    "df = df[df[\"class\"].isin(metadata_unformatted.keys())]"
   ]
  },
  {
   "cell_type": "code",
   "execution_count": 12,
   "id": "22625e77",
   "metadata": {},
   "outputs": [
    {
     "data": {
      "text/plain": [
       "7"
      ]
     },
     "execution_count": 12,
     "metadata": {},
     "output_type": "execute_result"
    }
   ],
   "source": [
    "df[\"class\"].nunique()"
   ]
  },
  {
   "cell_type": "code",
   "execution_count": 13,
   "id": "e3b88056",
   "metadata": {},
   "outputs": [
    {
     "data": {
      "text/html": [
       "<div>\n",
       "<style scoped>\n",
       "    .dataframe tbody tr th:only-of-type {\n",
       "        vertical-align: middle;\n",
       "    }\n",
       "\n",
       "    .dataframe tbody tr th {\n",
       "        vertical-align: top;\n",
       "    }\n",
       "\n",
       "    .dataframe thead th {\n",
       "        text-align: right;\n",
       "    }\n",
       "</style>\n",
       "<table border=\"1\" class=\"dataframe\">\n",
       "  <thead>\n",
       "    <tr style=\"text-align: right;\">\n",
       "      <th></th>\n",
       "      <th>class</th>\n",
       "      <th>auprc</th>\n",
       "      <th>itr</th>\n",
       "      <th>model</th>\n",
       "      <th>prevalence</th>\n",
       "    </tr>\n",
       "  </thead>\n",
       "  <tbody>\n",
       "    <tr>\n",
       "      <th>18</th>\n",
       "      <td>Bos taurus</td>\n",
       "      <td>0.028634</td>\n",
       "      <td>0</td>\n",
       "      <td>unseen_hosts_with_non_idv_wo_human</td>\n",
       "      <td>0.001818</td>\n",
       "    </tr>\n",
       "    <tr>\n",
       "      <th>47</th>\n",
       "      <td>Felis catus</td>\n",
       "      <td>0.216775</td>\n",
       "      <td>0</td>\n",
       "      <td>unseen_hosts_with_non_idv_wo_human</td>\n",
       "      <td>0.064980</td>\n",
       "    </tr>\n",
       "    <tr>\n",
       "      <th>48</th>\n",
       "      <td>Felis domesticus</td>\n",
       "      <td>0.045172</td>\n",
       "      <td>0</td>\n",
       "      <td>unseen_hosts_with_non_idv_wo_human</td>\n",
       "      <td>0.002272</td>\n",
       "    </tr>\n",
       "    <tr>\n",
       "      <th>69</th>\n",
       "      <td>Macaca arctoides</td>\n",
       "      <td>0.083898</td>\n",
       "      <td>0</td>\n",
       "      <td>unseen_hosts_with_non_idv_wo_human</td>\n",
       "      <td>0.002272</td>\n",
       "    </tr>\n",
       "    <tr>\n",
       "      <th>70</th>\n",
       "      <td>Macaca fascicularis</td>\n",
       "      <td>0.017534</td>\n",
       "      <td>0</td>\n",
       "      <td>unseen_hosts_with_non_idv_wo_human</td>\n",
       "      <td>0.002272</td>\n",
       "    </tr>\n",
       "    <tr>\n",
       "      <th>...</th>\n",
       "      <td>...</td>\n",
       "      <td>...</td>\n",
       "      <td>...</td>\n",
       "      <td>...</td>\n",
       "      <td>...</td>\n",
       "    </tr>\n",
       "    <tr>\n",
       "      <th>1371</th>\n",
       "      <td>Felis domesticus</td>\n",
       "      <td>0.156829</td>\n",
       "      <td>0</td>\n",
       "      <td>unseen_hosts_with_non_idv_wo_human</td>\n",
       "      <td>0.002272</td>\n",
       "    </tr>\n",
       "    <tr>\n",
       "      <th>1392</th>\n",
       "      <td>Macaca arctoides</td>\n",
       "      <td>0.047486</td>\n",
       "      <td>0</td>\n",
       "      <td>unseen_hosts_with_non_idv_wo_human</td>\n",
       "      <td>0.002272</td>\n",
       "    </tr>\n",
       "    <tr>\n",
       "      <th>1393</th>\n",
       "      <td>Macaca fascicularis</td>\n",
       "      <td>0.018432</td>\n",
       "      <td>0</td>\n",
       "      <td>unseen_hosts_with_non_idv_wo_human</td>\n",
       "      <td>0.002272</td>\n",
       "    </tr>\n",
       "    <tr>\n",
       "      <th>1395</th>\n",
       "      <td>Macaca mulatta</td>\n",
       "      <td>0.689325</td>\n",
       "      <td>0</td>\n",
       "      <td>unseen_hosts_with_non_idv_wo_human</td>\n",
       "      <td>0.385790</td>\n",
       "    </tr>\n",
       "    <tr>\n",
       "      <th>1396</th>\n",
       "      <td>Mandrillus sphinx</td>\n",
       "      <td>0.045194</td>\n",
       "      <td>0</td>\n",
       "      <td>unseen_hosts_with_non_idv_wo_human</td>\n",
       "      <td>0.010451</td>\n",
       "    </tr>\n",
       "  </tbody>\n",
       "</table>\n",
       "<p>70 rows × 5 columns</p>\n",
       "</div>"
      ],
      "text/plain": [
       "                    class     auprc  itr                               model  \\\n",
       "18             Bos taurus  0.028634    0  unseen_hosts_with_non_idv_wo_human   \n",
       "47            Felis catus  0.216775    0  unseen_hosts_with_non_idv_wo_human   \n",
       "48       Felis domesticus  0.045172    0  unseen_hosts_with_non_idv_wo_human   \n",
       "69       Macaca arctoides  0.083898    0  unseen_hosts_with_non_idv_wo_human   \n",
       "70    Macaca fascicularis  0.017534    0  unseen_hosts_with_non_idv_wo_human   \n",
       "...                   ...       ...  ...                                 ...   \n",
       "1371     Felis domesticus  0.156829    0  unseen_hosts_with_non_idv_wo_human   \n",
       "1392     Macaca arctoides  0.047486    0  unseen_hosts_with_non_idv_wo_human   \n",
       "1393  Macaca fascicularis  0.018432    0  unseen_hosts_with_non_idv_wo_human   \n",
       "1395       Macaca mulatta  0.689325    0  unseen_hosts_with_non_idv_wo_human   \n",
       "1396    Mandrillus sphinx  0.045194    0  unseen_hosts_with_non_idv_wo_human   \n",
       "\n",
       "      prevalence  \n",
       "18      0.001818  \n",
       "47      0.064980  \n",
       "48      0.002272  \n",
       "69      0.002272  \n",
       "70      0.002272  \n",
       "...          ...  \n",
       "1371    0.002272  \n",
       "1392    0.002272  \n",
       "1393    0.002272  \n",
       "1395    0.385790  \n",
       "1396    0.010451  \n",
       "\n",
       "[70 rows x 5 columns]"
      ]
     },
     "execution_count": 13,
     "metadata": {},
     "output_type": "execute_result"
    }
   ],
   "source": [
    "df[\"prevalence\"] = df[\"class\"].apply(lambda x: metadata_unformatted[x])\n",
    "df"
   ]
  },
  {
   "cell_type": "code",
   "execution_count": 14,
   "id": "54bd2ba2",
   "metadata": {},
   "outputs": [
    {
     "data": {
      "text/plain": [
       "['Homo sapiens',\n",
       " 'Macaca mulatta',\n",
       " 'Felis catus',\n",
       " 'Cercocebus atys',\n",
       " 'Puma concolor',\n",
       " 'Macaca nemestrina',\n",
       " 'Mandrillus sphinx',\n",
       " 'Mandrillus leucophaeus',\n",
       " 'Cercopithecus nictitans',\n",
       " 'Cercopithecus solatus',\n",
       " 'Cercocebus torquatus',\n",
       " 'Cercopithecus aethiops',\n",
       " 'Cercopithecus cephus',\n",
       " 'Chlorocebus sabaeus',\n",
       " 'Colobus guereza',\n",
       " 'Panthera leo',\n",
       " 'Cercopithecus neglectus',\n",
       " 'Cercopithecus mona',\n",
       " 'Chlorocebus tantalus',\n",
       " 'Felis silvestris catus',\n",
       " 'Cercopithecus lhoesti',\n",
       " 'Chlorocebus pygerythrus',\n",
       " 'Cercopithecus mitis',\n",
       " 'Cercopithecus erythrotis',\n",
       " 'Felis domesticus',\n",
       " 'Macaca arctoides',\n",
       " 'Macaca fascicularis',\n",
       " 'Semnopithecus entellus',\n",
       " 'Bos taurus',\n",
       " 'Miopithecus ogouensis',\n",
       " 'Cercopithecus ascanius',\n",
       " 'Cercocebus torquatus atys',\n",
       " 'Lynx rufus',\n",
       " 'Cercopithecus aethiops pygerythrus',\n",
       " 'Piliocolobus tephrosceles',\n",
       " 'Piliocolobus badius',\n",
       " 'Otocolobus manul',\n",
       " 'Panthera pardus',\n",
       " 'Papio ursinus',\n",
       " 'Procolobus verus']"
      ]
     },
     "execution_count": 14,
     "metadata": {},
     "output_type": "execute_result"
    }
   ],
   "source": [
    "classes = list(metadata_unformatted.keys())\n",
    "classes"
   ]
  },
  {
   "cell_type": "code",
   "execution_count": 15,
   "id": "fe983b77",
   "metadata": {},
   "outputs": [
    {
     "data": {
      "text/plain": [
       "{'Homo sapiens': 0,\n",
       " 'Macaca mulatta': 1,\n",
       " 'Felis catus': 2,\n",
       " 'Cercocebus atys': 3,\n",
       " 'Puma concolor': 4,\n",
       " 'Macaca nemestrina': 5,\n",
       " 'Mandrillus sphinx': 6,\n",
       " 'Mandrillus leucophaeus': 7,\n",
       " 'Cercopithecus nictitans': 8,\n",
       " 'Cercopithecus solatus': 9,\n",
       " 'Cercocebus torquatus': 10,\n",
       " 'Cercopithecus aethiops': 11,\n",
       " 'Cercopithecus cephus': 12,\n",
       " 'Chlorocebus sabaeus': 13,\n",
       " 'Colobus guereza': 14,\n",
       " 'Panthera leo': 15,\n",
       " 'Cercopithecus neglectus': 16,\n",
       " 'Cercopithecus mona': 17,\n",
       " 'Chlorocebus tantalus': 18,\n",
       " 'Felis silvestris catus': 19,\n",
       " 'Cercopithecus lhoesti': 20,\n",
       " 'Chlorocebus pygerythrus': 21,\n",
       " 'Cercopithecus mitis': 22,\n",
       " 'Cercopithecus erythrotis': 23,\n",
       " 'Felis domesticus': 24,\n",
       " 'Macaca arctoides': 25,\n",
       " 'Macaca fascicularis': 26,\n",
       " 'Semnopithecus entellus': 27,\n",
       " 'Bos taurus': 28,\n",
       " 'Miopithecus ogouensis': 29,\n",
       " 'Cercopithecus ascanius': 30,\n",
       " 'Cercocebus torquatus atys': 31,\n",
       " 'Lynx rufus': 32,\n",
       " 'Cercopithecus aethiops pygerythrus': 33,\n",
       " 'Piliocolobus tephrosceles': 34,\n",
       " 'Piliocolobus badius': 35,\n",
       " 'Otocolobus manul': 36,\n",
       " 'Panthera pardus': 37,\n",
       " 'Papio ursinus': 38,\n",
       " 'Procolobus verus': 39}"
      ]
     },
     "execution_count": 15,
     "metadata": {},
     "output_type": "execute_result"
    }
   ],
   "source": [
    "classes_order = {k:i for i, k in enumerate(classes)}\n",
    "classes_order"
   ]
  },
  {
   "cell_type": "code",
   "execution_count": 16,
   "id": "1d58b77e",
   "metadata": {
    "scrolled": false
   },
   "outputs": [],
   "source": [
    "import math\n",
    "\n",
    "def get_uniformly_divided_position_bins(positions, n_bins):\n",
    "    bin_width = math.floor(len(positions)/n_bins)\n",
    "    bins = []\n",
    "    start = 0\n",
    "    for i in range(n_bins):\n",
    "        end = start + bin_width\n",
    "        bins.append(positions[start:end])\n",
    "        start = end\n",
    "    return bins"
   ]
  },
  {
   "cell_type": "code",
   "execution_count": 19,
   "id": "07e4730a",
   "metadata": {},
   "outputs": [
    {
     "data": {
      "text/plain": [
       "<Figure size 432x288 with 0 Axes>"
      ]
     },
     "metadata": {},
     "output_type": "display_data"
    },
    {
     "data": {
      "image/png": "[encoded data removed]",
      "text/plain": [
       "<Figure size 1152x1008 with 1 Axes>"
      ]
     },
     "metadata": {
      "needs_background": "light"
     },
     "output_type": "display_data"
    }
   ],
   "source": [
    "plt.rcParams['figure.autolayout'] = True\n",
    "plt.clf()\n",
    "fig, axs = plt.subplots(1, 1, figsize=(16, 14), sharex=True)\n",
    "plt.rcParams['xtick.labelsize'] = 20\n",
    "plt.rcParams['ytick.labelsize'] = 20\n",
    "plt.rcParams.update({'font.size': 20})\n",
    "\n",
    "\n",
    "\n",
    "df.sort_values(by=[\"class\"], key=lambda x: x.map(classes_order), inplace=True)\n",
    "formatted_df = df.replace({\"class\": metadata_formatted})\n",
    "classes = list(formatted_df[\"class\"].unique())\n",
    "bins = get_uniformly_divided_position_bins(list(classes), 1)\n",
    "for i in range(1):\n",
    "    #sns.violinplot(data=formatted_df[formatted_df[\"class\"].isin(bins[i])],  x=\"auprc\", y=\"class\", ax=axs, orient=\"h\",  order=bins[i], fill=False,)\n",
    "    sns.boxplot(data=formatted_df[formatted_df[\"class\"].isin(bins[i])],  x=\"auprc\", y=\"class\", ax=axs, orient=\"h\", linewidth=3, fill=False, fliersize=2.5, order=bins[i])\n",
    "    sns.stripplot(data=formatted_df[formatted_df[\"class\"].isin(bins[i])],  x=\"auprc\", y=\"class\", ax=axs, orient=\"h\", order=bins[i], color=\"black\", alpha=.7, s=5)\n",
    "    \n",
    "    #sns.stripplot(data=formatted_df[formatted_df[\"class\"].isin(bins[i])], x=\"auprc\", y=\"class\", ax=axs[i], orient=\"h\", color=\"black\", order=bins[i])\n",
    "    #plt.draw()\n",
    "\n",
    "    axs.set_ylabel(\"\")\n",
    "    axs.set_xlabel(\"AUPRC\", fontsize=20)\n",
    "    axs.set_xlim(0, 1)\n",
    "    axs.xaxis.set_major_locator(ticker.MultipleLocator(.1))\n",
    "    axs.xaxis.set_major_formatter(ticker.ScalarFormatter())\n",
    "\n",
    "plt.tight_layout(pad=.1)\n",
    "plt.savefig(os.path.join(os.getcwd(), \"..\",\"..\", \"..\", \"output/visualization/temp_new/host_multi_fsl_idv_w_non_idv_wo_human_classwise_boxplot.pdf\"))\n",
    "plt.show()"
   ]
  },
  {
   "cell_type": "code",
   "execution_count": 25,
   "id": "ded147e3",
   "metadata": {},
   "outputs": [
    {
     "data": {
      "text/plain": [
       "<Figure size 432x288 with 0 Axes>"
      ]
     },
     "metadata": {},
     "output_type": "display_data"
    },
    {
     "data": {
      "text/plain": [
       "<Figure size 576x576 with 0 Axes>"
      ]
     },
     "metadata": {},
     "output_type": "display_data"
    },
    {
     "data": {
      "image/png": "[encoded data removed]",
      "text/plain": [
       "<Figure size 720x720 with 3 Axes>"
      ]
     },
     "metadata": {
      "needs_background": "light"
     },
     "output_type": "display_data"
    }
   ],
   "source": [
    "plt.clf()\n",
    "plt.figure(figsize=(8,8))\n",
    "plt.rcParams[\"figure.autolayout\"] = True\n",
    "plt.rcParams[\"xtick.labelsize\"] = 18\n",
    "plt.rcParams[\"ytick.labelsize\"] = 18\n",
    "plt.rcParams.update({'font.size': 18})\n",
    "\n",
    "ax = sns.jointplot(data=df, x=\"prevalence\", y=\"auprc\",\n",
    "                   height=10, ylim=(0, 1),  xlim=(0, 1),\n",
    "                   ratio=2, legend=False, marginal_ticks=True)\n",
    "ax.plot_joint(sns.scatterplot, alpha=1, s=100, legend=False)\n",
    "ax.plot_marginals(sns.histplot, kde=True, fill=False, color=\"0.2\", line_kws={\"color\": \"black\", \"lw\": 3, \"ls\": \"-\"})\n",
    "# ax = sns.scatterplot(mean_auprc_df, x=\"prevalance\", y=\"auprc\", hue=\"model\", alpha=1)\n",
    "ax.ax_joint.set_xlabel(\"Class Prevalence (%)\")\n",
    "ax.ax_joint.set_ylabel(\"AUPRC\")\n",
    "ax.ax_joint.xaxis.set_major_locator(ticker.MultipleLocator(.1))\n",
    "ax.ax_joint.xaxis.set_major_formatter(ticker.ScalarFormatter())\n",
    "ax.ax_joint.yaxis.set_major_locator(ticker.MultipleLocator(.1))\n",
    "ax.ax_joint.yaxis.set_major_formatter(ticker.ScalarFormatter())\n",
    "ax = plt.gca()\n",
    "#ax.legend()\n",
    "ax.figure.tight_layout()\n",
    "plt.savefig(os.path.join(os.getcwd(), \"..\",\"..\", \"..\", \"output/visualization/temp_new/host_multi_fsl_idv_auprc_scatterplot_w_hist_20240924.pdf\"))\n",
    "plt.show()"
   ]
  },
  {
   "cell_type": "code",
   "execution_count": null,
   "id": "3f7e0621",
   "metadata": {},
   "outputs": [],
   "source": []
  }
 ],
 "metadata": {
  "kernelspec": {
   "display_name": "Python 3 (ipykernel)",
   "language": "python",
   "name": "python3"
  },
  "language_info": {
   "codemirror_mode": {
    "name": "ipython",
    "version": 3
   },
   "file_extension": ".py",
   "mimetype": "text/x-python",
   "name": "python",
   "nbconvert_exporter": "python",
   "pygments_lexer": "ipython3",
   "version": "3.8.12"
  }
 },
 "nbformat": 4,
 "nbformat_minor": 5
}
