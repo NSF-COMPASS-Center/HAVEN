{
 "cells": [
  {
   "cell_type": "code",
   "execution_count": 1,
   "id": "db6d420b",
   "metadata": {},
   "outputs": [
    {
     "data": {
      "text/plain": [
       "['/home/blessyantony/dev/git/zoonosis/src/jupyter_notebooks/few_shot_learning',\n",
       " '/opt/conda/lib/python38.zip',\n",
       " '/opt/conda/lib/python3.8',\n",
       " '/opt/conda/lib/python3.8/lib-dynload',\n",
       " '',\n",
       " '/home/blessyantony/.local/lib/python3.8/site-packages',\n",
       " '/opt/conda/lib/python3.8/site-packages',\n",
       " '/opt/conda/lib/python3.8/site-packages/IPython/extensions',\n",
       " '/home/blessyantony/.ipython',\n",
       " '/home/blessyantony/dev/git/zoonosis/src/jupyter_notebooks/few_shot_learning/../../../../..',\n",
       " '/home/blessyantony/dev/git/zoonosis/src/jupyter_notebooks/few_shot_learning/../../../..',\n",
       " '/home/blessyantony/dev/git/zoonosis/src/jupyter_notebooks/few_shot_learning/../../..',\n",
       " '/home/blessyantony/dev/git/zoonosis/src/jupyter_notebooks/few_shot_learning/../..']"
      ]
     },
     "execution_count": 1,
     "metadata": {},
     "output_type": "execute_result"
    }
   ],
   "source": [
    "import sys\n",
    "import os\n",
    "sys.path.append(os.path.join(os.getcwd(), \"..\", \"..\", \"..\", \"..\", \"..\"))\n",
    "sys.path.append(os.path.join(os.getcwd(), \"..\", \"..\", \"..\", \"..\"))\n",
    "sys.path.append(os.path.join(os.getcwd(), \"..\", \"..\", \"..\"))\n",
    "sys.path.append(os.path.join(os.getcwd(), \"..\", \"..\"))\n",
    "sys.path"
   ]
  },
  {
   "cell_type": "code",
   "execution_count": 2,
   "id": "a4fc7af4",
   "metadata": {},
   "outputs": [
    {
     "name": "stdout",
     "output_type": "stream",
     "text": [
      "Defaulting to user installation because normal site-packages is not writeable\n",
      "\u001b[33mWARNING: Ignoring invalid distribution -eaborn (/home/blessyantony/.local/lib/python3.8/site-packages)\u001b[0m\n",
      "\u001b[33mWARNING: Ignoring invalid distribution -eaborn (/home/blessyantony/.local/lib/python3.8/site-packages)\u001b[0m\n",
      "Looking in indexes: https://pypi.org/simple, https://pypi.ngc.nvidia.com\n",
      "Requirement already satisfied: seaborn==0.13.0 in /home/blessyantony/.local/lib/python3.8/site-packages (0.13.0)\n",
      "Requirement already satisfied: pandas>=1.2 in /opt/conda/lib/python3.8/site-packages (from seaborn==0.13.0) (1.3.4)\n",
      "Requirement already satisfied: matplotlib!=3.6.1,>=3.3 in /home/blessyantony/.local/lib/python3.8/site-packages (from seaborn==0.13.0) (3.5.3)\n",
      "Requirement already satisfied: numpy!=1.24.0,>=1.20 in /opt/conda/lib/python3.8/site-packages (from seaborn==0.13.0) (1.21.4)\n",
      "Requirement already satisfied: python-dateutil>=2.7 in /opt/conda/lib/python3.8/site-packages (from matplotlib!=3.6.1,>=3.3->seaborn==0.13.0) (2.8.2)\n",
      "Requirement already satisfied: packaging>=20.0 in /opt/conda/lib/python3.8/site-packages (from matplotlib!=3.6.1,>=3.3->seaborn==0.13.0) (21.3)\n",
      "Requirement already satisfied: cycler>=0.10 in /opt/conda/lib/python3.8/site-packages (from matplotlib!=3.6.1,>=3.3->seaborn==0.13.0) (0.11.0)\n",
      "Requirement already satisfied: pyparsing>=2.2.1 in /opt/conda/lib/python3.8/site-packages (from matplotlib!=3.6.1,>=3.3->seaborn==0.13.0) (3.0.6)\n",
      "Requirement already satisfied: fonttools>=4.22.0 in /opt/conda/lib/python3.8/site-packages (from matplotlib!=3.6.1,>=3.3->seaborn==0.13.0) (4.28.2)\n",
      "Requirement already satisfied: pillow>=6.2.0 in /opt/conda/lib/python3.8/site-packages (from matplotlib!=3.6.1,>=3.3->seaborn==0.13.0) (8.2.0)\n",
      "Requirement already satisfied: kiwisolver>=1.0.1 in /opt/conda/lib/python3.8/site-packages (from matplotlib!=3.6.1,>=3.3->seaborn==0.13.0) (1.3.2)\n",
      "Requirement already satisfied: pytz>=2017.3 in /opt/conda/lib/python3.8/site-packages (from pandas>=1.2->seaborn==0.13.0) (2021.3)\n",
      "Requirement already satisfied: six>=1.5 in /opt/conda/lib/python3.8/site-packages (from python-dateutil>=2.7->matplotlib!=3.6.1,>=3.3->seaborn==0.13.0) (1.16.0)\n",
      "\u001b[33mWARNING: Ignoring invalid distribution -eaborn (/home/blessyantony/.local/lib/python3.8/site-packages)\u001b[0m\n",
      "\u001b[33mWARNING: Ignoring invalid distribution -eaborn (/home/blessyantony/.local/lib/python3.8/site-packages)\u001b[0m\n",
      "\u001b[33mWARNING: Ignoring invalid distribution -eaborn (/home/blessyantony/.local/lib/python3.8/site-packages)\u001b[0m\n",
      "\u001b[33mWARNING: Ignoring invalid distribution -eaborn (/home/blessyantony/.local/lib/python3.8/site-packages)\u001b[0m\n"
     ]
    }
   ],
   "source": [
    "!pip install seaborn==0.13.0"
   ]
  },
  {
   "cell_type": "code",
   "execution_count": 3,
   "id": "c450c3b5",
   "metadata": {},
   "outputs": [],
   "source": [
    "import pandas as pd\n",
    "import os\n",
    "import numpy as np\n",
    "import seaborn as sns\n",
    "import matplotlib.pyplot as plt\n",
    "from pathlib import Path\n",
    "import textwrap\n",
    "from sklearn.metrics import roc_curve, accuracy_score, f1_score, auc, precision_recall_curve\n",
    "from statistics import mean\n",
    "\n",
    "from src.utils import utils, evaluation_utils, visualization_utils"
   ]
  },
  {
   "cell_type": "code",
   "execution_count": 4,
   "id": "b2b7fbd4",
   "metadata": {},
   "outputs": [],
   "source": [
    "virprobert_output_auprc_file_paths =  {\n",
    "    \"sl256st64_w5s5\": os.path.join(os.getcwd(), \"..\",\"..\", \"..\", \"output/raw/uniref90_embl_vertebrates_idv_unseen_hosts/20240921/host_multi/few_shot_learning/fsl_tr_w5s5q10_te_w5s5q-1_tsk10e1b32_split70-10-20_hybrid-attention_sl256st64vs30_ae_bn_fnn_2l_d1024_lr1e-4_output.csv\"),\n",
    "    #\"sl256st64_w5s2\": os.path.join(os.getcwd(), \"..\",\"..\", \"..\", \"output/raw/uniref90_embl_vertebrates_non_idv/20240906/host_multi/few_shot_learning/fsl_tr_w5s2q10_te_w5s2q-1_e100b32_split70-10-20_hybrid-attention_sl256st64vs30_ae_bn_fnn_2l_d1024_lr1e-4_classwise_auprc.csv\")\n",
    "}\n",
    "dataset_file_path = os.path.join(os.getcwd(), \"..\",\"..\", \"..\", \"input/data/uniref90/20240131/uniref90_viridae_embl_hosts_pruned_metadata_species_vertebrates_w_seq_idv.csv\")"
   ]
  },
  {
   "cell_type": "code",
   "execution_count": 5,
   "id": "8a2b3e09",
   "metadata": {},
   "outputs": [],
   "source": [
    "def read_output_df(output_file_paths):\n",
    "    dfs = []\n",
    "    for model, output_file_path in output_file_paths.items():\n",
    "        df = pd.read_csv(output_file_path, index_col=0)\n",
    "        df[\"model\"] = model\n",
    "        dfs.append(df)\n",
    "    return pd.concat(dfs)\n",
    "\n",
    "\n",
    "def compute_class_distribution(df, label_col, n, format=False):\n",
    "    labels_counts = df[label_col].value_counts()\n",
    "    labels_counts = labels_counts / n * 100\n",
    "    labels_counts = labels_counts.to_dict()\n",
    "    if format:\n",
    "        labels_counts = {k: f\"{k}\\n({v:.3f}%)\" for k, v, in labels_counts.items()}\n",
    "    return labels_counts"
   ]
  },
  {
   "cell_type": "code",
   "execution_count": 6,
   "id": "b86cb344",
   "metadata": {},
   "outputs": [],
   "source": [
    "df = read_output_df(virprobert_output_auprc_file_paths)\n",
    "dataset_df = pd.read_csv(dataset_file_path)"
   ]
  },
  {
   "cell_type": "code",
   "execution_count": 7,
   "id": "4e455139",
   "metadata": {},
   "outputs": [
    {
     "data": {
      "text/plain": [
       "(1500, 8)"
      ]
     },
     "execution_count": 7,
     "metadata": {},
     "output_type": "execute_result"
    }
   ],
   "source": [
    "df.shape"
   ]
  },
  {
   "cell_type": "code",
   "execution_count": 8,
   "id": "c7d55d19",
   "metadata": {},
   "outputs": [],
   "source": [
    "class_vals = list(df[\"y_true\"].unique())"
   ]
  },
  {
   "cell_type": "code",
   "execution_count": 9,
   "id": "75ce8ace",
   "metadata": {},
   "outputs": [],
   "source": [
    "df[\"y_pred\"] = df[class_vals].idxmax(axis=1)"
   ]
  },
  {
   "cell_type": "code",
   "execution_count": 10,
   "id": "ead25f6b",
   "metadata": {},
   "outputs": [
    {
     "data": {
      "text/html": [
       "<div>\n",
       "<style scoped>\n",
       "    .dataframe tbody tr th:only-of-type {\n",
       "        vertical-align: middle;\n",
       "    }\n",
       "\n",
       "    .dataframe tbody tr th {\n",
       "        vertical-align: top;\n",
       "    }\n",
       "\n",
       "    .dataframe thead th {\n",
       "        text-align: right;\n",
       "    }\n",
       "</style>\n",
       "<table border=\"1\" class=\"dataframe\">\n",
       "  <thead>\n",
       "    <tr style=\"text-align: right;\">\n",
       "      <th></th>\n",
       "      <th>Cercocebus atys</th>\n",
       "      <th>Cercocebus torquatus</th>\n",
       "      <th>Cercopithecus aethiops</th>\n",
       "      <th>Cercopithecus mitis</th>\n",
       "      <th>Cercopithecus solatus</th>\n",
       "      <th>y_true</th>\n",
       "      <th>itr</th>\n",
       "      <th>model</th>\n",
       "      <th>y_pred</th>\n",
       "    </tr>\n",
       "  </thead>\n",
       "  <tbody>\n",
       "    <tr>\n",
       "      <th>0</th>\n",
       "      <td>-1.609438</td>\n",
       "      <td>-1.609438</td>\n",
       "      <td>-1.609438</td>\n",
       "      <td>-1.609438</td>\n",
       "      <td>-1.609438</td>\n",
       "      <td>Cercocebus atys</td>\n",
       "      <td>0</td>\n",
       "      <td>sl256st64_w5s5</td>\n",
       "      <td>Cercocebus atys</td>\n",
       "    </tr>\n",
       "    <tr>\n",
       "      <th>1</th>\n",
       "      <td>-1.609438</td>\n",
       "      <td>-1.609438</td>\n",
       "      <td>-1.609438</td>\n",
       "      <td>-1.609438</td>\n",
       "      <td>-1.609438</td>\n",
       "      <td>Cercocebus atys</td>\n",
       "      <td>0</td>\n",
       "      <td>sl256st64_w5s5</td>\n",
       "      <td>Cercocebus atys</td>\n",
       "    </tr>\n",
       "    <tr>\n",
       "      <th>2</th>\n",
       "      <td>-1.609438</td>\n",
       "      <td>-1.609438</td>\n",
       "      <td>-1.609438</td>\n",
       "      <td>-1.609438</td>\n",
       "      <td>-1.609438</td>\n",
       "      <td>Cercocebus atys</td>\n",
       "      <td>0</td>\n",
       "      <td>sl256st64_w5s5</td>\n",
       "      <td>Cercocebus atys</td>\n",
       "    </tr>\n",
       "    <tr>\n",
       "      <th>3</th>\n",
       "      <td>-1.609438</td>\n",
       "      <td>-1.609438</td>\n",
       "      <td>-1.609438</td>\n",
       "      <td>-1.609438</td>\n",
       "      <td>-1.609438</td>\n",
       "      <td>Cercocebus atys</td>\n",
       "      <td>0</td>\n",
       "      <td>sl256st64_w5s5</td>\n",
       "      <td>Cercocebus atys</td>\n",
       "    </tr>\n",
       "    <tr>\n",
       "      <th>4</th>\n",
       "      <td>-1.609438</td>\n",
       "      <td>-1.609438</td>\n",
       "      <td>-1.609438</td>\n",
       "      <td>-1.609438</td>\n",
       "      <td>-1.609438</td>\n",
       "      <td>Cercocebus atys</td>\n",
       "      <td>0</td>\n",
       "      <td>sl256st64_w5s5</td>\n",
       "      <td>Cercocebus atys</td>\n",
       "    </tr>\n",
       "    <tr>\n",
       "      <th>...</th>\n",
       "      <td>...</td>\n",
       "      <td>...</td>\n",
       "      <td>...</td>\n",
       "      <td>...</td>\n",
       "      <td>...</td>\n",
       "      <td>...</td>\n",
       "      <td>...</td>\n",
       "      <td>...</td>\n",
       "      <td>...</td>\n",
       "    </tr>\n",
       "    <tr>\n",
       "      <th>1495</th>\n",
       "      <td>-1.609438</td>\n",
       "      <td>-1.609438</td>\n",
       "      <td>-1.609438</td>\n",
       "      <td>-1.609438</td>\n",
       "      <td>-1.609438</td>\n",
       "      <td>Cercopithecus solatus</td>\n",
       "      <td>0</td>\n",
       "      <td>sl256st64_w5s5</td>\n",
       "      <td>Cercocebus atys</td>\n",
       "    </tr>\n",
       "    <tr>\n",
       "      <th>1496</th>\n",
       "      <td>-1.609438</td>\n",
       "      <td>-1.609438</td>\n",
       "      <td>-1.609438</td>\n",
       "      <td>-1.609438</td>\n",
       "      <td>-1.609438</td>\n",
       "      <td>Cercopithecus solatus</td>\n",
       "      <td>0</td>\n",
       "      <td>sl256st64_w5s5</td>\n",
       "      <td>Cercocebus atys</td>\n",
       "    </tr>\n",
       "    <tr>\n",
       "      <th>1497</th>\n",
       "      <td>-1.609438</td>\n",
       "      <td>-1.609438</td>\n",
       "      <td>-1.609438</td>\n",
       "      <td>-1.609438</td>\n",
       "      <td>-1.609438</td>\n",
       "      <td>Cercopithecus solatus</td>\n",
       "      <td>0</td>\n",
       "      <td>sl256st64_w5s5</td>\n",
       "      <td>Cercocebus atys</td>\n",
       "    </tr>\n",
       "    <tr>\n",
       "      <th>1498</th>\n",
       "      <td>-1.609438</td>\n",
       "      <td>-1.609438</td>\n",
       "      <td>-1.609438</td>\n",
       "      <td>-1.609438</td>\n",
       "      <td>-1.609438</td>\n",
       "      <td>Cercopithecus solatus</td>\n",
       "      <td>0</td>\n",
       "      <td>sl256st64_w5s5</td>\n",
       "      <td>Cercocebus atys</td>\n",
       "    </tr>\n",
       "    <tr>\n",
       "      <th>1499</th>\n",
       "      <td>-1.609438</td>\n",
       "      <td>-1.609438</td>\n",
       "      <td>-1.609438</td>\n",
       "      <td>-1.609438</td>\n",
       "      <td>-1.609438</td>\n",
       "      <td>Cercopithecus solatus</td>\n",
       "      <td>0</td>\n",
       "      <td>sl256st64_w5s5</td>\n",
       "      <td>Cercocebus atys</td>\n",
       "    </tr>\n",
       "  </tbody>\n",
       "</table>\n",
       "<p>1500 rows × 9 columns</p>\n",
       "</div>"
      ],
      "text/plain": [
       "      Cercocebus atys  Cercocebus torquatus  Cercopithecus aethiops  \\\n",
       "0           -1.609438             -1.609438               -1.609438   \n",
       "1           -1.609438             -1.609438               -1.609438   \n",
       "2           -1.609438             -1.609438               -1.609438   \n",
       "3           -1.609438             -1.609438               -1.609438   \n",
       "4           -1.609438             -1.609438               -1.609438   \n",
       "...               ...                   ...                     ...   \n",
       "1495        -1.609438             -1.609438               -1.609438   \n",
       "1496        -1.609438             -1.609438               -1.609438   \n",
       "1497        -1.609438             -1.609438               -1.609438   \n",
       "1498        -1.609438             -1.609438               -1.609438   \n",
       "1499        -1.609438             -1.609438               -1.609438   \n",
       "\n",
       "      Cercopithecus mitis  Cercopithecus solatus                 y_true  itr  \\\n",
       "0               -1.609438              -1.609438        Cercocebus atys    0   \n",
       "1               -1.609438              -1.609438        Cercocebus atys    0   \n",
       "2               -1.609438              -1.609438        Cercocebus atys    0   \n",
       "3               -1.609438              -1.609438        Cercocebus atys    0   \n",
       "4               -1.609438              -1.609438        Cercocebus atys    0   \n",
       "...                   ...                    ...                    ...  ...   \n",
       "1495            -1.609438              -1.609438  Cercopithecus solatus    0   \n",
       "1496            -1.609438              -1.609438  Cercopithecus solatus    0   \n",
       "1497            -1.609438              -1.609438  Cercopithecus solatus    0   \n",
       "1498            -1.609438              -1.609438  Cercopithecus solatus    0   \n",
       "1499            -1.609438              -1.609438  Cercopithecus solatus    0   \n",
       "\n",
       "               model           y_pred  \n",
       "0     sl256st64_w5s5  Cercocebus atys  \n",
       "1     sl256st64_w5s5  Cercocebus atys  \n",
       "2     sl256st64_w5s5  Cercocebus atys  \n",
       "3     sl256st64_w5s5  Cercocebus atys  \n",
       "4     sl256st64_w5s5  Cercocebus atys  \n",
       "...              ...              ...  \n",
       "1495  sl256st64_w5s5  Cercocebus atys  \n",
       "1496  sl256st64_w5s5  Cercocebus atys  \n",
       "1497  sl256st64_w5s5  Cercocebus atys  \n",
       "1498  sl256st64_w5s5  Cercocebus atys  \n",
       "1499  sl256st64_w5s5  Cercocebus atys  \n",
       "\n",
       "[1500 rows x 9 columns]"
      ]
     },
     "execution_count": 10,
     "metadata": {},
     "output_type": "execute_result"
    }
   ],
   "source": [
    "df"
   ]
  },
  {
   "cell_type": "code",
   "execution_count": 11,
   "id": "8ffe1e00",
   "metadata": {},
   "outputs": [
    {
     "data": {
      "text/plain": [
       "array(['Cercocebus atys'], dtype=object)"
      ]
     },
     "execution_count": 11,
     "metadata": {},
     "output_type": "execute_result"
    }
   ],
   "source": [
    "df[\"y_pred\"].unique()"
   ]
  },
  {
   "cell_type": "code",
   "execution_count": 12,
   "id": "274830a0",
   "metadata": {},
   "outputs": [
    {
     "name": "stdout",
     "output_type": "stream",
     "text": [
      "(220068, 11)\n",
      "['sl256st64_w5s5']\n"
     ]
    },
    {
     "ename": "KeyError",
     "evalue": "'class'",
     "output_type": "error",
     "traceback": [
      "\u001b[0;31m---------------------------------------------------------------------------\u001b[0m",
      "\u001b[0;31mKeyError\u001b[0m                                  Traceback (most recent call last)",
      "\u001b[0;32m/opt/conda/lib/python3.8/site-packages/pandas/core/indexes/base.py\u001b[0m in \u001b[0;36mget_loc\u001b[0;34m(self, key, method, tolerance)\u001b[0m\n\u001b[1;32m   3360\u001b[0m             \u001b[0;32mtry\u001b[0m\u001b[0;34m:\u001b[0m\u001b[0;34m\u001b[0m\u001b[0;34m\u001b[0m\u001b[0m\n\u001b[0;32m-> 3361\u001b[0;31m                 \u001b[0;32mreturn\u001b[0m \u001b[0mself\u001b[0m\u001b[0;34m.\u001b[0m\u001b[0m_engine\u001b[0m\u001b[0;34m.\u001b[0m\u001b[0mget_loc\u001b[0m\u001b[0;34m(\u001b[0m\u001b[0mcasted_key\u001b[0m\u001b[0;34m)\u001b[0m\u001b[0;34m\u001b[0m\u001b[0;34m\u001b[0m\u001b[0m\n\u001b[0m\u001b[1;32m   3362\u001b[0m             \u001b[0;32mexcept\u001b[0m \u001b[0mKeyError\u001b[0m \u001b[0;32mas\u001b[0m \u001b[0merr\u001b[0m\u001b[0;34m:\u001b[0m\u001b[0;34m\u001b[0m\u001b[0;34m\u001b[0m\u001b[0m\n",
      "\u001b[0;32m/opt/conda/lib/python3.8/site-packages/pandas/_libs/index.pyx\u001b[0m in \u001b[0;36mpandas._libs.index.IndexEngine.get_loc\u001b[0;34m()\u001b[0m\n",
      "\u001b[0;32m/opt/conda/lib/python3.8/site-packages/pandas/_libs/index.pyx\u001b[0m in \u001b[0;36mpandas._libs.index.IndexEngine.get_loc\u001b[0;34m()\u001b[0m\n",
      "\u001b[0;32mpandas/_libs/hashtable_class_helper.pxi\u001b[0m in \u001b[0;36mpandas._libs.hashtable.PyObjectHashTable.get_item\u001b[0;34m()\u001b[0m\n",
      "\u001b[0;32mpandas/_libs/hashtable_class_helper.pxi\u001b[0m in \u001b[0;36mpandas._libs.hashtable.PyObjectHashTable.get_item\u001b[0;34m()\u001b[0m\n",
      "\u001b[0;31mKeyError\u001b[0m: 'class'",
      "\nThe above exception was the direct cause of the following exception:\n",
      "\u001b[0;31mKeyError\u001b[0m                                  Traceback (most recent call last)",
      "\u001b[0;32m/tmp/ipykernel_2321212/2759738022.py\u001b[0m in \u001b[0;36m<module>\u001b[0;34m\u001b[0m\n\u001b[1;32m      1\u001b[0m \u001b[0mprint\u001b[0m\u001b[0;34m(\u001b[0m\u001b[0mdataset_df\u001b[0m\u001b[0;34m.\u001b[0m\u001b[0mshape\u001b[0m\u001b[0;34m)\u001b[0m\u001b[0;34m\u001b[0m\u001b[0;34m\u001b[0m\u001b[0m\n\u001b[1;32m      2\u001b[0m \u001b[0mprint\u001b[0m\u001b[0;34m(\u001b[0m\u001b[0mdf\u001b[0m\u001b[0;34m[\u001b[0m\u001b[0;34m\"model\"\u001b[0m\u001b[0;34m]\u001b[0m\u001b[0;34m.\u001b[0m\u001b[0munique\u001b[0m\u001b[0;34m(\u001b[0m\u001b[0;34m)\u001b[0m\u001b[0;34m)\u001b[0m\u001b[0;34m\u001b[0m\u001b[0;34m\u001b[0m\u001b[0m\n\u001b[0;32m----> 3\u001b[0;31m \u001b[0mprint\u001b[0m\u001b[0;34m(\u001b[0m\u001b[0mdf\u001b[0m\u001b[0;34m[\u001b[0m\u001b[0;34m\"class\"\u001b[0m\u001b[0;34m]\u001b[0m\u001b[0;34m.\u001b[0m\u001b[0munique\u001b[0m\u001b[0;34m(\u001b[0m\u001b[0;34m)\u001b[0m\u001b[0;34m)\u001b[0m\u001b[0;34m\u001b[0m\u001b[0;34m\u001b[0m\u001b[0m\n\u001b[0m",
      "\u001b[0;32m/opt/conda/lib/python3.8/site-packages/pandas/core/frame.py\u001b[0m in \u001b[0;36m__getitem__\u001b[0;34m(self, key)\u001b[0m\n\u001b[1;32m   3456\u001b[0m             \u001b[0;32mif\u001b[0m \u001b[0mself\u001b[0m\u001b[0;34m.\u001b[0m\u001b[0mcolumns\u001b[0m\u001b[0;34m.\u001b[0m\u001b[0mnlevels\u001b[0m \u001b[0;34m>\u001b[0m \u001b[0;36m1\u001b[0m\u001b[0;34m:\u001b[0m\u001b[0;34m\u001b[0m\u001b[0;34m\u001b[0m\u001b[0m\n\u001b[1;32m   3457\u001b[0m                 \u001b[0;32mreturn\u001b[0m \u001b[0mself\u001b[0m\u001b[0;34m.\u001b[0m\u001b[0m_getitem_multilevel\u001b[0m\u001b[0;34m(\u001b[0m\u001b[0mkey\u001b[0m\u001b[0;34m)\u001b[0m\u001b[0;34m\u001b[0m\u001b[0;34m\u001b[0m\u001b[0m\n\u001b[0;32m-> 3458\u001b[0;31m             \u001b[0mindexer\u001b[0m \u001b[0;34m=\u001b[0m \u001b[0mself\u001b[0m\u001b[0;34m.\u001b[0m\u001b[0mcolumns\u001b[0m\u001b[0;34m.\u001b[0m\u001b[0mget_loc\u001b[0m\u001b[0;34m(\u001b[0m\u001b[0mkey\u001b[0m\u001b[0;34m)\u001b[0m\u001b[0;34m\u001b[0m\u001b[0;34m\u001b[0m\u001b[0m\n\u001b[0m\u001b[1;32m   3459\u001b[0m             \u001b[0;32mif\u001b[0m \u001b[0mis_integer\u001b[0m\u001b[0;34m(\u001b[0m\u001b[0mindexer\u001b[0m\u001b[0;34m)\u001b[0m\u001b[0;34m:\u001b[0m\u001b[0;34m\u001b[0m\u001b[0;34m\u001b[0m\u001b[0m\n\u001b[1;32m   3460\u001b[0m                 \u001b[0mindexer\u001b[0m \u001b[0;34m=\u001b[0m \u001b[0;34m[\u001b[0m\u001b[0mindexer\u001b[0m\u001b[0;34m]\u001b[0m\u001b[0;34m\u001b[0m\u001b[0;34m\u001b[0m\u001b[0m\n",
      "\u001b[0;32m/opt/conda/lib/python3.8/site-packages/pandas/core/indexes/base.py\u001b[0m in \u001b[0;36mget_loc\u001b[0;34m(self, key, method, tolerance)\u001b[0m\n\u001b[1;32m   3361\u001b[0m                 \u001b[0;32mreturn\u001b[0m \u001b[0mself\u001b[0m\u001b[0;34m.\u001b[0m\u001b[0m_engine\u001b[0m\u001b[0;34m.\u001b[0m\u001b[0mget_loc\u001b[0m\u001b[0;34m(\u001b[0m\u001b[0mcasted_key\u001b[0m\u001b[0;34m)\u001b[0m\u001b[0;34m\u001b[0m\u001b[0;34m\u001b[0m\u001b[0m\n\u001b[1;32m   3362\u001b[0m             \u001b[0;32mexcept\u001b[0m \u001b[0mKeyError\u001b[0m \u001b[0;32mas\u001b[0m \u001b[0merr\u001b[0m\u001b[0;34m:\u001b[0m\u001b[0;34m\u001b[0m\u001b[0;34m\u001b[0m\u001b[0m\n\u001b[0;32m-> 3363\u001b[0;31m                 \u001b[0;32mraise\u001b[0m \u001b[0mKeyError\u001b[0m\u001b[0;34m(\u001b[0m\u001b[0mkey\u001b[0m\u001b[0;34m)\u001b[0m \u001b[0;32mfrom\u001b[0m \u001b[0merr\u001b[0m\u001b[0;34m\u001b[0m\u001b[0;34m\u001b[0m\u001b[0m\n\u001b[0m\u001b[1;32m   3364\u001b[0m \u001b[0;34m\u001b[0m\u001b[0m\n\u001b[1;32m   3365\u001b[0m         \u001b[0;32mif\u001b[0m \u001b[0mis_scalar\u001b[0m\u001b[0;34m(\u001b[0m\u001b[0mkey\u001b[0m\u001b[0;34m)\u001b[0m \u001b[0;32mand\u001b[0m \u001b[0misna\u001b[0m\u001b[0;34m(\u001b[0m\u001b[0mkey\u001b[0m\u001b[0;34m)\u001b[0m \u001b[0;32mand\u001b[0m \u001b[0;32mnot\u001b[0m \u001b[0mself\u001b[0m\u001b[0;34m.\u001b[0m\u001b[0mhasnans\u001b[0m\u001b[0;34m:\u001b[0m\u001b[0;34m\u001b[0m\u001b[0;34m\u001b[0m\u001b[0m\n",
      "\u001b[0;31mKeyError\u001b[0m: 'class'"
     ]
    }
   ],
   "source": [
    "print(dataset_df.shape)\n",
    "print(df[\"model\"].unique())\n",
    "print(df[\"class\"].unique())\n"
   ]
  },
  {
   "cell_type": "code",
   "execution_count": null,
   "id": "bb78c558",
   "metadata": {},
   "outputs": [],
   "source": [
    "metadata_formatted = compute_class_distribution(dataset_df, \"virus_host_name\", n=220068, format=True)\n",
    "metadata_formatted"
   ]
  },
  {
   "cell_type": "code",
   "execution_count": null,
   "id": "d315b80c",
   "metadata": {},
   "outputs": [],
   "source": [
    "dataset_df[\"virus_host_name\"].nunique()"
   ]
  },
  {
   "cell_type": "code",
   "execution_count": null,
   "id": "ee7d010d",
   "metadata": {},
   "outputs": [],
   "source": [
    "metadata_unformatted = compute_class_distribution(dataset_df, \"virus_host_name\", n=220068, format=False)\n",
    "metadata_unformatted"
   ]
  },
  {
   "cell_type": "code",
   "execution_count": null,
   "id": "e3b88056",
   "metadata": {},
   "outputs": [],
   "source": [
    "df[\"prevalence\"] = df[\"class\"].apply(lambda x: metadata_unformatted[x])\n",
    "df"
   ]
  },
  {
   "cell_type": "code",
   "execution_count": null,
   "id": "54bd2ba2",
   "metadata": {},
   "outputs": [],
   "source": [
    "classes = list(metadata_unformatted.keys())\n",
    "classes"
   ]
  },
  {
   "cell_type": "code",
   "execution_count": null,
   "id": "fe983b77",
   "metadata": {},
   "outputs": [],
   "source": [
    "classes_order = {k:i for i, k in enumerate(classes)}\n",
    "classes_order"
   ]
  },
  {
   "cell_type": "code",
   "execution_count": null,
   "id": "1d58b77e",
   "metadata": {
    "scrolled": false
   },
   "outputs": [],
   "source": [
    "import math\n",
    "\n",
    "def get_uniformly_divided_position_bins(positions, n_bins):\n",
    "    bin_width = math.floor(len(positions)/n_bins)\n",
    "    bins = []\n",
    "    start = 0\n",
    "    for i in range(n_bins):\n",
    "        end = start + bin_width\n",
    "        bins.append(positions[start:end])\n",
    "        start = end\n",
    "    return bins"
   ]
  },
  {
   "cell_type": "code",
   "execution_count": null,
   "id": "07e4730a",
   "metadata": {},
   "outputs": [],
   "source": [
    "plt.rcParams['figure.autolayout'] = True\n",
    "plt.clf()\n",
    "fig, axs = plt.subplots(1, 4, figsize=(40, 22), sharex=True)\n",
    "plt.rcParams['xtick.labelsize'] = 25\n",
    "plt.rcParams['ytick.labelsize'] = 25\n",
    "plt.rcParams.update({'font.size': 25})\n",
    "\n",
    "df.sort_values(by=[\"class\"], key=lambda x: x.map(classes_order), inplace=True)\n",
    "formatted_df = df.replace({\"class\": metadata_formatted})\n",
    "classes = list(formatted_df[\"class\"].unique())\n",
    "bins = get_uniformly_divided_position_bins(list(classes), 4)\n",
    "for i in range(4):\n",
    "    #sns.violinplot(data=df[df[\"class\"].isin(bins[i])],  x=\"auprc\", y=\"class\", hue=\"model\", ax=axs[i], split=True, orient=\"h\", linewidth=2.5, fill=False,  order=bins[i])\n",
    "    sns.boxplot(data=formatted_df[formatted_df[\"class\"].isin(bins[i])],  x=\"auprc\", y=\"class\", ax=axs[i], orient=\"h\", linewidth=2.5, fill=False, fliersize=2.5, order=bins[i])\n",
    "    \n",
    "    #sns.stripplot(data=formatted_df[formatted_df[\"class\"].isin(bins[i])], x=\"auprc\", y=\"class\", ax=axs[i], orient=\"h\", color=\"black\", order=bins[i])\n",
    "    #plt.draw()\n",
    "\n",
    "    axs[i].set_ylabel(\"\")\n",
    "    axs[i].set_xlabel(\"AUPRC\")\n",
    "\n",
    "plt.tight_layout(pad=.1)\n",
    "plt.savefig(os.path.join(os.getcwd(), \"..\",\"..\", \"..\", \"output/visualization/temp_new/host_multi_fsl_idv_classwise_boxplot.pdf\"))\n",
    "plt.show()"
   ]
  },
  {
   "cell_type": "code",
   "execution_count": null,
   "id": "f6ff8e49",
   "metadata": {},
   "outputs": [],
   "source": [
    "df = pd.read_csv(output_file_path, index_col=0)"
   ]
  },
  {
   "cell_type": "code",
   "execution_count": null,
   "id": "619750d8",
   "metadata": {},
   "outputs": [],
   "source": [
    "df"
   ]
  },
  {
   "cell_type": "code",
   "execution_count": null,
   "id": "06021c40",
   "metadata": {},
   "outputs": [],
   "source": [
    "itr_col = \"itr\"\n",
    "experiment_col = \"experiment\"\n",
    "y_true_col = \"y_true\"\n",
    "def class_wise_auprc_analysis(df, classes, figure_output_filepath=None):\n",
    "    auprc_results = []\n",
    "    itrs = df[itr_col].unique()\n",
    "    for itr in itrs:\n",
    "        df_itr = df[df[itr_col] == itr]\n",
    "        _, auprcs_df = evaluation_utils.compute_class_auprc(df_itr, y_pred_columns=classes, y_true_col=y_true_col)\n",
    "        auprcs_df[\"model\"] = model\n",
    "        auprcs_df[\"itr\"] = itr\n",
    "        auprc_results.append(auprcs_df)\n",
    "    metadata = utils.compute_class_distribution(df_itr, y_true_col, format=False)\n",
    "    metadata_formatted = utils.compute_class_distribution(df_itr, y_true_col, format=True)\n",
    "    metadata_sorted = {}\n",
    "    for k, v in metadata.items():\n",
    "        metadata_sorted[metadata_formatted[k]] = v\n",
    "\n",
    "    auprc_results_df = pd.concat(auprc_results, ignore_index=True)\n",
    "    auprc_results_df.replace({\"class\":metadata_formatted}, inplace=True)\n",
    "    \n",
    "    FIGURE_CONFIG = {\n",
    "        \"figsize\": (15, 10),\n",
    "        \"xtick.labelsize\": 20,\n",
    "        \"ytick.labelsize\": 20    \n",
    "    }\n",
    "\n",
    "    visualization_utils.pre_plot_config(FIGURE_CONFIG)\n",
    "    ax = sns.lineplot(data=auprc_results_df, x=\"class\", y=\"auprc\", hue=\"model\", markers=True, dashes=False)\n",
    "    plt.draw()\n",
    "    \n",
    "    ax.set_ylim(0, 1)\n",
    "    ax.set_ylabel(\"AUPRC\", size=22)\n",
    "    ax.set_xlabel(\"\", size=22, labelpad=2)\n",
    "    sns.move_legend(ax, \"lower center\", bbox_to_anchor=(.5, 1), ncol=5, title=None, frameon=False)\n",
    "    plt.setp(ax.get_legend().get_texts(), fontsize=16)\n",
    "    visualization_utils.wrap_xticklabels(ax)\n",
    "    # visualization_utils.view(figure_output_filepath)\n",
    "    plt.show()\n",
    "    return auprc_results_df\n",
    "\n",
    "\n",
    "# compute class-wise auprc in given df\n",
    "def compute_class_auprc(df, y_pred_columns, y_true_col):\n",
    "    pr_curves = []\n",
    "    auprcs = []\n",
    "    for y_pred_column in y_pred_columns:\n",
    "        class_df = df.\n",
    "        precision, recall, _ = precision_recall_curve(y_true=df[y_true_col].values, probas_pred=df[y_pred_column].values, pos_label=y_pred_column)\n",
    "        pr_curves.append(pd.DataFrame({\"precision\": precision, \"recall\": recall, \"class\": y_pred_column}))\n",
    "        auprcs.append({\"class\": y_pred_column, \"auprc\": auc(recall, precision)})\n",
    "    return pd.concat(pr_curves, ignore_index=True), pd.DataFrame(auprcs)"
   ]
  },
  {
   "cell_type": "code",
   "execution_count": null,
   "id": "6f3cf4a7",
   "metadata": {},
   "outputs": [],
   "source": [
    "classes = df.columns"
   ]
  },
  {
   "cell_type": "code",
   "execution_count": null,
   "id": "6aeb031a",
   "metadata": {},
   "outputs": [],
   "source": [
    "classes = ['Cercocebus torquatus', 'Homo sapiens', 'Puma concolor',\n",
    "       'Cercopithecus solatus', 'Macaca mulatta', 'Mandrillus sphinx',\n",
    "       'Cercopithecus nictitans', 'Cercocebus atys', 'Macaca nemestrina',\n",
    "       'Felis catus', 'Mandrillus leucophaeus']"
   ]
  },
  {
   "cell_type": "code",
   "execution_count": null,
   "id": "2eca91c9",
   "metadata": {},
   "outputs": [],
   "source": [
    "df.dropna(axis=0, subset=[\"Cercocebus torquatus\"])\n",
    "df.dropna(axis=1)"
   ]
  },
  {
   "cell_type": "code",
   "execution_count": null,
   "id": "a4567127",
   "metadata": {},
   "outputs": [],
   "source": [
    "class_wise_auprc_analysis(df, classes, figure_output_filepath=None)"
   ]
  },
  {
   "cell_type": "code",
   "execution_count": null,
   "id": "8049d43b",
   "metadata": {},
   "outputs": [],
   "source": []
  }
 ],
 "metadata": {
  "kernelspec": {
   "display_name": "Python 3 (ipykernel)",
   "language": "python",
   "name": "python3"
  },
  "language_info": {
   "codemirror_mode": {
    "name": "ipython",
    "version": 3
   },
   "file_extension": ".py",
   "mimetype": "text/x-python",
   "name": "python",
   "nbconvert_exporter": "python",
   "pygments_lexer": "ipython3",
   "version": "3.8.12"
  }
 },
 "nbformat": 4,
 "nbformat_minor": 5
}
