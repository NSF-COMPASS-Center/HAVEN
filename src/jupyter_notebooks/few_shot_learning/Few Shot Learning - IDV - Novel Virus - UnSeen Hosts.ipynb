{
 "cells": [
  {
   "cell_type": "code",
   "execution_count": 1,
   "id": "db6d420b",
   "metadata": {},
   "outputs": [
    {
     "data": {
      "text/plain": [
       "['/home/blessyantony/dev/git/zoonosis/src/jupyter_notebooks/few_shot_learning',\n",
       " '/opt/conda/lib/python38.zip',\n",
       " '/opt/conda/lib/python3.8',\n",
       " '/opt/conda/lib/python3.8/lib-dynload',\n",
       " '',\n",
       " '/home/blessyantony/.local/lib/python3.8/site-packages',\n",
       " '/opt/conda/lib/python3.8/site-packages',\n",
       " '/opt/conda/lib/python3.8/site-packages/IPython/extensions',\n",
       " '/home/blessyantony/.ipython',\n",
       " '/home/blessyantony/dev/git/zoonosis/src/jupyter_notebooks/few_shot_learning/../../../../..',\n",
       " '/home/blessyantony/dev/git/zoonosis/src/jupyter_notebooks/few_shot_learning/../../../..',\n",
       " '/home/blessyantony/dev/git/zoonosis/src/jupyter_notebooks/few_shot_learning/../../..',\n",
       " '/home/blessyantony/dev/git/zoonosis/src/jupyter_notebooks/few_shot_learning/../..']"
      ]
     },
     "execution_count": 1,
     "metadata": {},
     "output_type": "execute_result"
    }
   ],
   "source": [
    "import sys\n",
    "import os\n",
    "sys.path.append(os.path.join(os.getcwd(), \"..\", \"..\", \"..\", \"..\", \"..\"))\n",
    "sys.path.append(os.path.join(os.getcwd(), \"..\", \"..\", \"..\", \"..\"))\n",
    "sys.path.append(os.path.join(os.getcwd(), \"..\", \"..\", \"..\"))\n",
    "sys.path.append(os.path.join(os.getcwd(), \"..\", \"..\"))\n",
    "sys.path"
   ]
  },
  {
   "cell_type": "code",
   "execution_count": 2,
   "id": "a4fc7af4",
   "metadata": {},
   "outputs": [
    {
     "name": "stdout",
     "output_type": "stream",
     "text": [
      "Defaulting to user installation because normal site-packages is not writeable\n",
      "\u001b[33mWARNING: Ignoring invalid distribution -eaborn (/home/blessyantony/.local/lib/python3.8/site-packages)\u001b[0m\n",
      "\u001b[33mWARNING: Ignoring invalid distribution -eaborn (/home/blessyantony/.local/lib/python3.8/site-packages)\u001b[0m\n",
      "Looking in indexes: https://pypi.org/simple, https://pypi.ngc.nvidia.com\n",
      "Requirement already satisfied: seaborn==0.13.0 in /home/blessyantony/.local/lib/python3.8/site-packages (0.13.0)\n",
      "Requirement already satisfied: numpy!=1.24.0,>=1.20 in /opt/conda/lib/python3.8/site-packages (from seaborn==0.13.0) (1.21.4)\n",
      "Requirement already satisfied: matplotlib!=3.6.1,>=3.3 in /home/blessyantony/.local/lib/python3.8/site-packages (from seaborn==0.13.0) (3.5.3)\n",
      "Requirement already satisfied: pandas>=1.2 in /opt/conda/lib/python3.8/site-packages (from seaborn==0.13.0) (1.3.4)\n",
      "Requirement already satisfied: kiwisolver>=1.0.1 in /opt/conda/lib/python3.8/site-packages (from matplotlib!=3.6.1,>=3.3->seaborn==0.13.0) (1.3.2)\n",
      "Requirement already satisfied: packaging>=20.0 in /opt/conda/lib/python3.8/site-packages (from matplotlib!=3.6.1,>=3.3->seaborn==0.13.0) (21.3)\n",
      "Requirement already satisfied: cycler>=0.10 in /opt/conda/lib/python3.8/site-packages (from matplotlib!=3.6.1,>=3.3->seaborn==0.13.0) (0.11.0)\n",
      "Requirement already satisfied: python-dateutil>=2.7 in /opt/conda/lib/python3.8/site-packages (from matplotlib!=3.6.1,>=3.3->seaborn==0.13.0) (2.8.2)\n",
      "Requirement already satisfied: pillow>=6.2.0 in /opt/conda/lib/python3.8/site-packages (from matplotlib!=3.6.1,>=3.3->seaborn==0.13.0) (8.2.0)\n",
      "Requirement already satisfied: fonttools>=4.22.0 in /opt/conda/lib/python3.8/site-packages (from matplotlib!=3.6.1,>=3.3->seaborn==0.13.0) (4.28.2)\n",
      "Requirement already satisfied: pyparsing>=2.2.1 in /opt/conda/lib/python3.8/site-packages (from matplotlib!=3.6.1,>=3.3->seaborn==0.13.0) (3.0.6)\n",
      "Requirement already satisfied: pytz>=2017.3 in /opt/conda/lib/python3.8/site-packages (from pandas>=1.2->seaborn==0.13.0) (2021.3)\n",
      "Requirement already satisfied: six>=1.5 in /opt/conda/lib/python3.8/site-packages (from python-dateutil>=2.7->matplotlib!=3.6.1,>=3.3->seaborn==0.13.0) (1.16.0)\n",
      "\u001b[33mWARNING: Ignoring invalid distribution -eaborn (/home/blessyantony/.local/lib/python3.8/site-packages)\u001b[0m\n",
      "\u001b[33mWARNING: Ignoring invalid distribution -eaborn (/home/blessyantony/.local/lib/python3.8/site-packages)\u001b[0m\n",
      "\u001b[33mWARNING: Ignoring invalid distribution -eaborn (/home/blessyantony/.local/lib/python3.8/site-packages)\u001b[0m\n",
      "\u001b[33mWARNING: Ignoring invalid distribution -eaborn (/home/blessyantony/.local/lib/python3.8/site-packages)\u001b[0m\n"
     ]
    }
   ],
   "source": [
    "!pip install seaborn==0.13.0"
   ]
  },
  {
   "cell_type": "code",
   "execution_count": 3,
   "id": "c450c3b5",
   "metadata": {},
   "outputs": [],
   "source": [
    "import pandas as pd\n",
    "import os\n",
    "import numpy as np\n",
    "import seaborn as sns\n",
    "import matplotlib.pyplot as plt\n",
    "import matplotlib.ticker as ticker\n",
    "from pathlib import Path\n",
    "import textwrap\n",
    "from sklearn.metrics import roc_curve, accuracy_score, f1_score, auc, precision_recall_curve, precision_score, recall_score\n",
    "from statistics import mean\n",
    "from src.utils import utils, evaluation_utils, visualization_utils"
   ]
  },
  {
   "cell_type": "code",
   "execution_count": 4,
   "id": "b2b7fbd4",
   "metadata": {},
   "outputs": [],
   "source": [
    "dataset_file_path = os.path.join(os.getcwd(), \"..\",\"..\", \"..\", \"input/data/uniref90/20240131/uniref90_viridae_embl_hosts_pruned_metadata_species_vertebrates_w_seq_idv.csv\")\n",
    "hosts_file_path = os.path.join(os.getcwd(), \"..\",\"..\", \"..\", \"input/data/uniref90/20240131/uniref90_viridae_embl_hosts_pruned_metadata_species_vertebrates_w_seq_idv_unseen_hosts.csv\")"
   ]
  },
  {
   "cell_type": "code",
   "execution_count": 5,
   "id": "8a2b3e09",
   "metadata": {},
   "outputs": [],
   "source": [
    "def compute_class_distribution(df, label_col, n, format=False):\n",
    "    labels_counts = df[label_col].value_counts()\n",
    "    print(labels_counts)\n",
    "    labels_counts = labels_counts / n * 100\n",
    "    labels_counts = labels_counts.to_dict()\n",
    "    if format:\n",
    "        labels_counts = {k: f\"{k}\\n(n={int(v/100*n)}, {v:.3f}%)\" for k, v, in labels_counts.items()}\n",
    "    return labels_counts"
   ]
  },
  {
   "cell_type": "code",
   "execution_count": 6,
   "id": "9d573e25",
   "metadata": {},
   "outputs": [],
   "source": [
    "dataset_df = pd.read_csv(dataset_file_path)"
   ]
  },
  {
   "cell_type": "code",
   "execution_count": 7,
   "id": "bb78c558",
   "metadata": {},
   "outputs": [
    {
     "name": "stdout",
     "output_type": "stream",
     "text": [
      "Homo sapiens                          218631\n",
      "Macaca mulatta                           849\n",
      "Felis catus                              143\n",
      "Cercocebus atys                          122\n",
      "Puma concolor                             24\n",
      "Macaca nemestrina                         23\n",
      "Mandrillus sphinx                         23\n",
      "Mandrillus leucophaeus                    20\n",
      "Cercopithecus nictitans                   19\n",
      "Cercopithecus solatus                     17\n",
      "Cercocebus torquatus                      16\n",
      "Cercopithecus aethiops                    14\n",
      "Cercopithecus cephus                      13\n",
      "Chlorocebus sabaeus                       13\n",
      "Colobus guereza                           13\n",
      "Panthera leo                              12\n",
      "Cercopithecus neglectus                   12\n",
      "Cercopithecus mona                        10\n",
      "Chlorocebus tantalus                      10\n",
      "Felis silvestris catus                     9\n",
      "Cercopithecus lhoesti                      8\n",
      "Chlorocebus pygerythrus                    7\n",
      "Cercopithecus mitis                        6\n",
      "Cercopithecus erythrotis                   5\n",
      "Felis domesticus                           5\n",
      "Macaca arctoides                           5\n",
      "Macaca fascicularis                        5\n",
      "Semnopithecus entellus                     5\n",
      "Bos taurus                                 4\n",
      "Miopithecus ogouensis                      4\n",
      "Cercopithecus ascanius                     4\n",
      "Cercocebus torquatus atys                  3\n",
      "Lynx rufus                                 3\n",
      "Cercopithecus aethiops pygerythrus         3\n",
      "Piliocolobus tephrosceles                  2\n",
      "Piliocolobus badius                        2\n",
      "Otocolobus manul                           1\n",
      "Panthera pardus                            1\n",
      "Papio ursinus                              1\n",
      "Procolobus verus                           1\n",
      "Name: virus_host_name, dtype: int64\n"
     ]
    },
    {
     "data": {
      "text/plain": [
       "{'Homo sapiens': 'Homo sapiens\\n(n=218631, 99.347%)',\n",
       " 'Macaca mulatta': 'Macaca mulatta\\n(n=849, 0.386%)',\n",
       " 'Felis catus': 'Felis catus\\n(n=143, 0.065%)',\n",
       " 'Cercocebus atys': 'Cercocebus atys\\n(n=122, 0.055%)',\n",
       " 'Puma concolor': 'Puma concolor\\n(n=24, 0.011%)',\n",
       " 'Macaca nemestrina': 'Macaca nemestrina\\n(n=23, 0.010%)',\n",
       " 'Mandrillus sphinx': 'Mandrillus sphinx\\n(n=23, 0.010%)',\n",
       " 'Mandrillus leucophaeus': 'Mandrillus leucophaeus\\n(n=20, 0.009%)',\n",
       " 'Cercopithecus nictitans': 'Cercopithecus nictitans\\n(n=19, 0.009%)',\n",
       " 'Cercopithecus solatus': 'Cercopithecus solatus\\n(n=17, 0.008%)',\n",
       " 'Cercocebus torquatus': 'Cercocebus torquatus\\n(n=16, 0.007%)',\n",
       " 'Cercopithecus aethiops': 'Cercopithecus aethiops\\n(n=14, 0.006%)',\n",
       " 'Cercopithecus cephus': 'Cercopithecus cephus\\n(n=13, 0.006%)',\n",
       " 'Chlorocebus sabaeus': 'Chlorocebus sabaeus\\n(n=13, 0.006%)',\n",
       " 'Colobus guereza': 'Colobus guereza\\n(n=13, 0.006%)',\n",
       " 'Panthera leo': 'Panthera leo\\n(n=12, 0.005%)',\n",
       " 'Cercopithecus neglectus': 'Cercopithecus neglectus\\n(n=12, 0.005%)',\n",
       " 'Cercopithecus mona': 'Cercopithecus mona\\n(n=10, 0.005%)',\n",
       " 'Chlorocebus tantalus': 'Chlorocebus tantalus\\n(n=10, 0.005%)',\n",
       " 'Felis silvestris catus': 'Felis silvestris catus\\n(n=9, 0.004%)',\n",
       " 'Cercopithecus lhoesti': 'Cercopithecus lhoesti\\n(n=8, 0.004%)',\n",
       " 'Chlorocebus pygerythrus': 'Chlorocebus pygerythrus\\n(n=7, 0.003%)',\n",
       " 'Cercopithecus mitis': 'Cercopithecus mitis\\n(n=6, 0.003%)',\n",
       " 'Cercopithecus erythrotis': 'Cercopithecus erythrotis\\n(n=5, 0.002%)',\n",
       " 'Felis domesticus': 'Felis domesticus\\n(n=5, 0.002%)',\n",
       " 'Macaca arctoides': 'Macaca arctoides\\n(n=5, 0.002%)',\n",
       " 'Macaca fascicularis': 'Macaca fascicularis\\n(n=5, 0.002%)',\n",
       " 'Semnopithecus entellus': 'Semnopithecus entellus\\n(n=5, 0.002%)',\n",
       " 'Bos taurus': 'Bos taurus\\n(n=4, 0.002%)',\n",
       " 'Miopithecus ogouensis': 'Miopithecus ogouensis\\n(n=4, 0.002%)',\n",
       " 'Cercopithecus ascanius': 'Cercopithecus ascanius\\n(n=4, 0.002%)',\n",
       " 'Cercocebus torquatus atys': 'Cercocebus torquatus atys\\n(n=3, 0.001%)',\n",
       " 'Lynx rufus': 'Lynx rufus\\n(n=3, 0.001%)',\n",
       " 'Cercopithecus aethiops pygerythrus': 'Cercopithecus aethiops pygerythrus\\n(n=3, 0.001%)',\n",
       " 'Piliocolobus tephrosceles': 'Piliocolobus tephrosceles\\n(n=2, 0.001%)',\n",
       " 'Piliocolobus badius': 'Piliocolobus badius\\n(n=2, 0.001%)',\n",
       " 'Otocolobus manul': 'Otocolobus manul\\n(n=1, 0.000%)',\n",
       " 'Panthera pardus': 'Panthera pardus\\n(n=1, 0.000%)',\n",
       " 'Papio ursinus': 'Papio ursinus\\n(n=1, 0.000%)',\n",
       " 'Procolobus verus': 'Procolobus verus\\n(n=1, 0.000%)'}"
      ]
     },
     "execution_count": 7,
     "metadata": {},
     "output_type": "execute_result"
    }
   ],
   "source": [
    "metadata_formatted = compute_class_distribution(dataset_df, \"virus_host_name\", n=220068, format=True)\n",
    "metadata_formatted"
   ]
  },
  {
   "cell_type": "code",
   "execution_count": 8,
   "id": "ee7d010d",
   "metadata": {},
   "outputs": [
    {
     "name": "stdout",
     "output_type": "stream",
     "text": [
      "Homo sapiens                          218631\n",
      "Macaca mulatta                           849\n",
      "Felis catus                              143\n",
      "Cercocebus atys                          122\n",
      "Puma concolor                             24\n",
      "Macaca nemestrina                         23\n",
      "Mandrillus sphinx                         23\n",
      "Mandrillus leucophaeus                    20\n",
      "Cercopithecus nictitans                   19\n",
      "Cercopithecus solatus                     17\n",
      "Cercocebus torquatus                      16\n",
      "Cercopithecus aethiops                    14\n",
      "Cercopithecus cephus                      13\n",
      "Chlorocebus sabaeus                       13\n",
      "Colobus guereza                           13\n",
      "Panthera leo                              12\n",
      "Cercopithecus neglectus                   12\n",
      "Cercopithecus mona                        10\n",
      "Chlorocebus tantalus                      10\n",
      "Felis silvestris catus                     9\n",
      "Cercopithecus lhoesti                      8\n",
      "Chlorocebus pygerythrus                    7\n",
      "Cercopithecus mitis                        6\n",
      "Cercopithecus erythrotis                   5\n",
      "Felis domesticus                           5\n",
      "Macaca arctoides                           5\n",
      "Macaca fascicularis                        5\n",
      "Semnopithecus entellus                     5\n",
      "Bos taurus                                 4\n",
      "Miopithecus ogouensis                      4\n",
      "Cercopithecus ascanius                     4\n",
      "Cercocebus torquatus atys                  3\n",
      "Lynx rufus                                 3\n",
      "Cercopithecus aethiops pygerythrus         3\n",
      "Piliocolobus tephrosceles                  2\n",
      "Piliocolobus badius                        2\n",
      "Otocolobus manul                           1\n",
      "Panthera pardus                            1\n",
      "Papio ursinus                              1\n",
      "Procolobus verus                           1\n",
      "Name: virus_host_name, dtype: int64\n"
     ]
    },
    {
     "data": {
      "text/plain": [
       "{'Homo sapiens': 99.34702001199629,\n",
       " 'Macaca mulatta': 0.3857898467746333,\n",
       " 'Felis catus': 0.0649799152989076,\n",
       " 'Cercocebus atys': 0.05543741025501209,\n",
       " 'Puma concolor': 0.010905720050166313,\n",
       " 'Macaca nemestrina': 0.01045131504807605,\n",
       " 'Mandrillus sphinx': 0.01045131504807605,\n",
       " 'Mandrillus leucophaeus': 0.009088100041805259,\n",
       " 'Cercopithecus nictitans': 0.008633695039714997,\n",
       " 'Cercopithecus solatus': 0.007724885035534471,\n",
       " 'Cercocebus torquatus': 0.0072704800334442085,\n",
       " 'Cercopithecus aethiops': 0.0063616700292636824,\n",
       " 'Cercopithecus cephus': 0.005907265027173419,\n",
       " 'Chlorocebus sabaeus': 0.005907265027173419,\n",
       " 'Colobus guereza': 0.005907265027173419,\n",
       " 'Panthera leo': 0.005452860025083156,\n",
       " 'Cercopithecus neglectus': 0.005452860025083156,\n",
       " 'Cercopithecus mona': 0.0045440500209026295,\n",
       " 'Chlorocebus tantalus': 0.0045440500209026295,\n",
       " 'Felis silvestris catus': 0.004089645018812368,\n",
       " 'Cercopithecus lhoesti': 0.0036352400167221043,\n",
       " 'Chlorocebus pygerythrus': 0.0031808350146318412,\n",
       " 'Cercopithecus mitis': 0.002726430012541578,\n",
       " 'Cercopithecus erythrotis': 0.0022720250104513147,\n",
       " 'Felis domesticus': 0.0022720250104513147,\n",
       " 'Macaca arctoides': 0.0022720250104513147,\n",
       " 'Macaca fascicularis': 0.0022720250104513147,\n",
       " 'Semnopithecus entellus': 0.0022720250104513147,\n",
       " 'Bos taurus': 0.0018176200083610521,\n",
       " 'Miopithecus ogouensis': 0.0018176200083610521,\n",
       " 'Cercopithecus ascanius': 0.0018176200083610521,\n",
       " 'Cercocebus torquatus atys': 0.001363215006270789,\n",
       " 'Lynx rufus': 0.001363215006270789,\n",
       " 'Cercopithecus aethiops pygerythrus': 0.001363215006270789,\n",
       " 'Piliocolobus tephrosceles': 0.0009088100041805261,\n",
       " 'Piliocolobus badius': 0.0009088100041805261,\n",
       " 'Otocolobus manul': 0.00045440500209026303,\n",
       " 'Panthera pardus': 0.00045440500209026303,\n",
       " 'Papio ursinus': 0.00045440500209026303,\n",
       " 'Procolobus verus': 0.00045440500209026303}"
      ]
     },
     "execution_count": 8,
     "metadata": {},
     "output_type": "execute_result"
    }
   ],
   "source": [
    "metadata_unformatted = compute_class_distribution(dataset_df, \"virus_host_name\", n=220068, format=False)\n",
    "metadata_unformatted"
   ]
  },
  {
   "cell_type": "code",
   "execution_count": 9,
   "id": "54bd2ba2",
   "metadata": {},
   "outputs": [
    {
     "data": {
      "text/plain": [
       "['Homo sapiens',\n",
       " 'Macaca mulatta',\n",
       " 'Felis catus',\n",
       " 'Cercocebus atys',\n",
       " 'Puma concolor',\n",
       " 'Macaca nemestrina',\n",
       " 'Mandrillus sphinx',\n",
       " 'Mandrillus leucophaeus',\n",
       " 'Cercopithecus nictitans',\n",
       " 'Cercopithecus solatus',\n",
       " 'Cercocebus torquatus',\n",
       " 'Cercopithecus aethiops',\n",
       " 'Cercopithecus cephus',\n",
       " 'Chlorocebus sabaeus',\n",
       " 'Colobus guereza',\n",
       " 'Panthera leo',\n",
       " 'Cercopithecus neglectus',\n",
       " 'Cercopithecus mona',\n",
       " 'Chlorocebus tantalus',\n",
       " 'Felis silvestris catus',\n",
       " 'Cercopithecus lhoesti',\n",
       " 'Chlorocebus pygerythrus',\n",
       " 'Cercopithecus mitis',\n",
       " 'Cercopithecus erythrotis',\n",
       " 'Felis domesticus',\n",
       " 'Macaca arctoides',\n",
       " 'Macaca fascicularis',\n",
       " 'Semnopithecus entellus',\n",
       " 'Bos taurus',\n",
       " 'Miopithecus ogouensis',\n",
       " 'Cercopithecus ascanius',\n",
       " 'Cercocebus torquatus atys',\n",
       " 'Lynx rufus',\n",
       " 'Cercopithecus aethiops pygerythrus',\n",
       " 'Piliocolobus tephrosceles',\n",
       " 'Piliocolobus badius',\n",
       " 'Otocolobus manul',\n",
       " 'Panthera pardus',\n",
       " 'Papio ursinus',\n",
       " 'Procolobus verus']"
      ]
     },
     "execution_count": 9,
     "metadata": {},
     "output_type": "execute_result"
    }
   ],
   "source": [
    "classes = list(metadata_unformatted.keys())\n",
    "classes"
   ]
  },
  {
   "cell_type": "code",
   "execution_count": 10,
   "id": "fe983b77",
   "metadata": {},
   "outputs": [
    {
     "name": "stdout",
     "output_type": "stream",
     "text": [
      "{'Homo sapiens': 0, 'Macaca mulatta': 1, 'Felis catus': 2, 'Cercocebus atys': 3, 'Puma concolor': 4, 'Macaca nemestrina': 5, 'Mandrillus sphinx': 6, 'Mandrillus leucophaeus': 7, 'Cercopithecus nictitans': 8, 'Cercopithecus solatus': 9, 'Cercocebus torquatus': 10, 'Cercopithecus aethiops': 11, 'Cercopithecus cephus': 12, 'Chlorocebus sabaeus': 13, 'Colobus guereza': 14, 'Panthera leo': 15, 'Cercopithecus neglectus': 16, 'Cercopithecus mona': 17, 'Chlorocebus tantalus': 18, 'Felis silvestris catus': 19, 'Cercopithecus lhoesti': 20, 'Chlorocebus pygerythrus': 21, 'Cercopithecus mitis': 22, 'Cercopithecus erythrotis': 23, 'Felis domesticus': 24, 'Macaca arctoides': 25, 'Macaca fascicularis': 26, 'Semnopithecus entellus': 27, 'Bos taurus': 28, 'Miopithecus ogouensis': 29, 'Cercopithecus ascanius': 30, 'Cercocebus torquatus atys': 31, 'Lynx rufus': 32, 'Cercopithecus aethiops pygerythrus': 33, 'Piliocolobus tephrosceles': 34, 'Piliocolobus badius': 35, 'Otocolobus manul': 36, 'Panthera pardus': 37, 'Papio ursinus': 38, 'Procolobus verus': 39}\n",
      "{'Homo sapiens\\n(n=218631, 99.347%)': 0, 'Macaca mulatta\\n(n=849, 0.386%)': 1, 'Felis catus\\n(n=143, 0.065%)': 2, 'Cercocebus atys\\n(n=122, 0.055%)': 3, 'Puma concolor\\n(n=24, 0.011%)': 4, 'Macaca nemestrina\\n(n=23, 0.010%)': 5, 'Mandrillus sphinx\\n(n=23, 0.010%)': 6, 'Mandrillus leucophaeus\\n(n=20, 0.009%)': 7, 'Cercopithecus nictitans\\n(n=19, 0.009%)': 8, 'Cercopithecus solatus\\n(n=17, 0.008%)': 9, 'Cercocebus torquatus\\n(n=16, 0.007%)': 10, 'Cercopithecus aethiops\\n(n=14, 0.006%)': 11, 'Cercopithecus cephus\\n(n=13, 0.006%)': 12, 'Chlorocebus sabaeus\\n(n=13, 0.006%)': 13, 'Colobus guereza\\n(n=13, 0.006%)': 14, 'Panthera leo\\n(n=12, 0.005%)': 15, 'Cercopithecus neglectus\\n(n=12, 0.005%)': 16, 'Cercopithecus mona\\n(n=10, 0.005%)': 17, 'Chlorocebus tantalus\\n(n=10, 0.005%)': 18, 'Felis silvestris catus\\n(n=9, 0.004%)': 19, 'Cercopithecus lhoesti\\n(n=8, 0.004%)': 20, 'Chlorocebus pygerythrus\\n(n=7, 0.003%)': 21, 'Cercopithecus mitis\\n(n=6, 0.003%)': 22, 'Cercopithecus erythrotis\\n(n=5, 0.002%)': 23, 'Felis domesticus\\n(n=5, 0.002%)': 24, 'Macaca arctoides\\n(n=5, 0.002%)': 25, 'Macaca fascicularis\\n(n=5, 0.002%)': 26, 'Semnopithecus entellus\\n(n=5, 0.002%)': 27, 'Bos taurus\\n(n=4, 0.002%)': 28, 'Miopithecus ogouensis\\n(n=4, 0.002%)': 29, 'Cercopithecus ascanius\\n(n=4, 0.002%)': 30, 'Cercocebus torquatus atys\\n(n=3, 0.001%)': 31, 'Lynx rufus\\n(n=3, 0.001%)': 32, 'Cercopithecus aethiops pygerythrus\\n(n=3, 0.001%)': 33, 'Piliocolobus tephrosceles\\n(n=2, 0.001%)': 34, 'Piliocolobus badius\\n(n=2, 0.001%)': 35, 'Otocolobus manul\\n(n=1, 0.000%)': 36, 'Panthera pardus\\n(n=1, 0.000%)': 37, 'Papio ursinus\\n(n=1, 0.000%)': 38, 'Procolobus verus\\n(n=1, 0.000%)': 39}\n"
     ]
    }
   ],
   "source": [
    "classes_order = {k:i for i, k in enumerate(classes)}\n",
    "class_formatted_order = {val: classes_order[key] for key, val in metadata_formatted.items()}\n",
    "print(classes_order)\n",
    "print(class_formatted_order)"
   ]
  },
  {
   "cell_type": "code",
   "execution_count": 11,
   "id": "e678e435",
   "metadata": {},
   "outputs": [
    {
     "data": {
      "text/plain": [
       "40"
      ]
     },
     "execution_count": 11,
     "metadata": {},
     "output_type": "execute_result"
    }
   ],
   "source": [
    "dataset_df[\"virus_host_name\"].nunique()"
   ]
  },
  {
   "cell_type": "code",
   "execution_count": 12,
   "id": "1d58b77e",
   "metadata": {
    "scrolled": false
   },
   "outputs": [],
   "source": [
    "import math\n",
    "\n",
    "def get_uniformly_divided_position_bins(positions, n_bins):\n",
    "    bin_width = math.floor(len(positions)/n_bins)\n",
    "    bins = []\n",
    "    start = 0\n",
    "    for i in range(n_bins):\n",
    "        end = start + bin_width\n",
    "        bins.append(positions[start:end])\n",
    "        start = end\n",
    "    return bins"
   ]
  },
  {
   "cell_type": "code",
   "execution_count": 13,
   "id": "11180b62",
   "metadata": {},
   "outputs": [],
   "source": [
    "def get_rank(row, all_output_labels):\n",
    "    y_true = row[\"y_true\"]\n",
    "    ranks = row[all_output_labels].rank(ascending=False, method=\"min\")\n",
    "    return ranks[y_true]\n",
    "\n",
    "def plot_rank_distribution(df):\n",
    "    plt.clf()\n",
    "    plt.figure(figsize=(10, 10))\n",
    "    sns.set_theme()\n",
    "    plt.rcParams['xtick.labelsize'] = 16\n",
    "    plt.rcParams['ytick.labelsize'] = 16\n",
    "    plt.rcParams.update({'font.size': 16})\n",
    "    ax = sns.displot(df, x=\"y_true_rank\", hue=\"y_true\", kind=\"kde\", fill=True)\n",
    "    ax.set_xlabel(\"Rank based on Probability\", fontsize=20)\n",
    "    sns.move_legend(ax, \"upper right\", bbox_to_anchor=(1.3, 1))\n",
    "\n",
    "   # plt.legend(title=\"Classes\", loc=\"upper right\", fontsize=10)\n",
    "    plt.show()\n",
    "\n",
    "    \n",
    "def plot_probability_distribution(class_prob_df, random_predictor, output_file_path=None):\n",
    "    n = len(rank_bins)\n",
    "    color_palette = sns.color_palette(\"ch:s=.25,rot=-.25_r\", n_colors=n)\n",
    "\n",
    "    random_predictor = 1/19\n",
    "    plt.clf()\n",
    "    fig, ax = plt.subplots(1, 2, figsize=(20, 16), sharey=True)\n",
    "    sns.set_theme(style=\"whitegrid\")\n",
    "    plt.rcParams['xtick.labelsize'] = 20\n",
    "    plt.rcParams['ytick.labelsize'] = 20\n",
    "    plt.rcParams.update({'font.size': 20})\n",
    "    class_prob_df.sort_values(by=\"class\", key=lambda x: x.map(class_formatted_order), inplace=True)\n",
    "\n",
    "\n",
    "    sns.stripplot(data=class_prob_df, x=\"probability\", y=\"class\", hue=\"y_true_rank_bin\",\n",
    "                  palette=color_palette, hue_order=rank_bins, ax=ax[0], legend=False, size=10,\n",
    "                 linewidth=.2)\n",
    "    ax[0].axvline(random_predictor, color=\"gray\", linestyle=\"--\", linewidth=2)\n",
    "    ax[0].set_ylabel(\"\", fontsize=20)\n",
    "    ax[0].set_xlabel(\"True Class Probability\", fontsize=22)\n",
    "    ax[0].set_xlim(0, 1)\n",
    "\n",
    "    barplot_df = pd.crosstab(class_prob_df[\"class\"], class_prob_df[\"y_true_rank_bin\"], normalize=\"index\")[rank_bins].cumsum(axis=1).stack().reset_index().rename(columns={0:\"proportion\"})\n",
    "    barplot_df[\"percent\"] = barplot_df[\"proportion\"]*100\n",
    "\n",
    "    sns.barplot(data=barplot_df, x=\"percent\", y=\"class\", hue=\"y_true_rank_bin\", dodge=False, palette=color_palette[::-1], hue_order=rank_bins[::-1], ax=ax[1])\n",
    "    ax[1].set_xlabel(\"Rank Distribution (%)\", fontsize=22)\n",
    "\n",
    "    plt.legend(title=\"Prediction\", loc=\"upper right\", fontsize=22)\n",
    "    #sns.move_legend(ax[0], \"lower center\", ncol=6, title=None, bbox_to_anchor=(.9, 1), fontsize=16)\n",
    "    sns.move_legend(ax[1], \"lower center\", ncol=6, title=None, bbox_to_anchor=(-0.08, 1), fontsize=16)\n",
    "    plt.subplots_adjust(wspace = 0.05)\n",
    "    if output_file_path:\n",
    "        plt.savefig(output_file_path, bbox_inches=\"tight\")\n",
    "    plt.show()\n",
    "    \n",
    "    \n",
    "def analyze_all_way_fsl_results(output_file_path, auprc_file_path, hosts_file_path):\n",
    "    output_auprc_df = pd.read_csv(auprc_file_path, index_col=0)\n",
    "    output_df = pd.read_csv(output_file_path, index_col=0)\n",
    "    print(f\"Number of unique classes in output_df = {output_auprc_df['class'].nunique()}\")\n",
    "    \n",
    "    all_output_labels = list(output_df.columns)\n",
    "    all_output_labels.remove(\"itr\")\n",
    "    all_output_labels.remove(\"y_true\")\n",
    "    print(f\"Number of unique labels in output_df = {len(all_output_labels)}\")\n",
    "    \n",
    "    sub_df = output_df[output_df[\"itr\"] == 0]\n",
    "    sub_df.drop(columns=\"itr\", inplace=True)\n",
    "    sub_df[\"y_true_rank\"] = sub_df.apply(lambda x: get_rank(x, all_output_labels), axis=1)\n",
    "    sub_df[\"y_true_rank_bin\"] = sub_df.apply(get_rank_bin, axis=1)\n",
    "    \n",
    "    #plot_rank_distribution(sub_df.replace({\"y_true\": metadata_formatted}))\n",
    "    \n",
    "    idv_hosts = set(pd.read_csv(hosts_file_path)[\"virus_host_name\"].unique()).intersection(set(all_output_labels))\n",
    "    print(f\"Number of IDV hosts  - {len(idv_hosts)}\")\n",
    "    print(idv_hosts)\n",
    "    \n",
    "    output_df[\"y_pred\"] = output_df[all_output_labels].idxmax(axis=1)\n",
    "        \n",
    "    classwise_prob_dfs = []\n",
    "    \n",
    "    for label in idv_hosts:\n",
    "        class_prob_df = sub_df[[label, \"y_true\", \"y_true_rank_bin\", \"y_true_rank\"]][sub_df[\"y_true\"] == label]\n",
    "        class_prob_df = class_prob_df.rename(columns={label: \"probability\", \"y_true\": \"class\"})\n",
    "        classwise_prob_dfs.append(class_prob_df)\n",
    "    class_prob_df = pd.concat(classwise_prob_dfs)\n",
    "    class_prob_df.replace({\"class\": metadata_formatted}, inplace=True)\n",
    "    \n",
    "    #plot_probability_distribution(class_prob_df, 1/len(all_output_labels))\n",
    "    return class_prob_df, 1/len(all_output_labels)\n"
   ]
  },
  {
   "cell_type": "markdown",
   "id": "f77b6bc3",
   "metadata": {},
   "source": [
    "### Unseen hosts"
   ]
  },
  {
   "cell_type": "markdown",
   "id": "31c7b3fb",
   "metadata": {},
   "source": [
    "#### 167-way"
   ]
  },
  {
   "cell_type": "code",
   "execution_count": 14,
   "id": "69de80a2",
   "metadata": {},
   "outputs": [],
   "source": [
    "#output_file_path =  os.path.join(os.getcwd(), \"..\",\"..\", \"..\", \"output/raw/uniref90_embl_vertebrates_idv_unseen_hosts/20241010/host_multi/few_shot_learning/fsl_tr_w3s5q10_ev_walls5q-1_tsk1e1b16itr5_split70-10-20-gpu2_hybrid-attention_sl256st64vs30_ae_bn_fnn_2l_d1024_lr1e-4_output.csv\")\n",
    "#auprc_file_path =  os.path.join(os.getcwd(), \"..\",\"..\", \"..\", \"output/raw/uniref90_embl_vertebrates_idv_unseen_hosts/20241010/host_multi/few_shot_learning/fsl_tr_w3s5q10_ev_walls5q-1_tsk1e1b16itr5_split70-10-20-gpu2_hybrid-attention_sl256st64vs30_ae_bn_fnn_2l_d1024_lr1e-4_classwise_auprc.csv\")\n",
    "output_file_path =  os.path.join(os.getcwd(), \"..\",\"..\", \"..\", \"output/raw/uniref90_embl_vertebrates_idv_all_hosts/20241022/host_multi/few_shot_learning/fsl_tr_w3s5q10_ev_walls5q-1_tsk1e1b16itr5_split70-10-20-gpu2_hybrid-attention_sl256st64vs30_ae_bn_fnn_2l_d1024_lr1e-4_output.csv\")\n",
    "auprc_file_path =  os.path.join(os.getcwd(), \"..\",\"..\", \"..\", \"output/raw/uniref90_embl_vertebrates_idv_all_hosts/20241022/host_multi/few_shot_learning/fsl_tr_w3s5q10_ev_walls5q-1_tsk1e1b16itr5_split70-10-20-gpu2_hybrid-attention_sl256st64vs30_ae_bn_fnn_2l_d1024_lr1e-4_classwise_auprc.csv\")\n"
   ]
  },
  {
   "cell_type": "code",
   "execution_count": 15,
   "id": "74695129",
   "metadata": {},
   "outputs": [],
   "source": [
    "def get_rank_bin(row):\n",
    "    rank = row[\"y_true_rank\"]\n",
    "    if rank == 1:\n",
    "        return \"Correct Prediction\"\n",
    "    elif rank <= 5:\n",
    "        return \"Top 5 ranks\"\n",
    "    elif rank <= 10:\n",
    "        return \"Top 10 ranks\"\n",
    "    elif rank <= 15:\n",
    "        return \"Top 15 ranks\"\n",
    "    elif rank <= 20:\n",
    "        return \"Top 20 ranks\"\n",
    "    else:\n",
    "        return \"Rank > 20\"\n",
    "    \n",
    "rank_bins = [\"Correct Prediction\", \"Top 5 ranks\", \"Top 10 ranks\", \"Top 15 ranks\", \"Top 20 ranks\", \"Rank > 20\"]"
   ]
  },
  {
   "cell_type": "code",
   "execution_count": null,
   "id": "df50c2ec",
   "metadata": {
    "scrolled": false
   },
   "outputs": [],
   "source": [
    "class_prob_df, random_predictor= analyze_all_way_fsl_results(output_file_path, auprc_file_path, hosts_file_path)"
   ]
  },
  {
   "cell_type": "code",
   "execution_count": null,
   "id": "ff37be62",
   "metadata": {},
   "outputs": [],
   "source": [
    "plot_probability_distribution(class_prob_df, random_predictor, output_file_path = os.path.join(os.getcwd(),  \"..\", \"..\", \"..\", f\"output/visualization/temp_new/idv_fsl_unseenhosts_167way.pdf\"))"
   ]
  },
  {
   "cell_type": "markdown",
   "id": "4e05d9e9",
   "metadata": {},
   "source": [
    "#### 23-way"
   ]
  },
  {
   "cell_type": "code",
   "execution_count": null,
   "id": "1b8fab9f",
   "metadata": {},
   "outputs": [],
   "source": [
    "#output_file_path =  os.path.join(os.getcwd(), \"..\",\"..\", \"..\", \"output/raw/uniref90_embl_vertebrates_idv_unseen_hosts/20241010/host_multi/few_shot_learning/fsl_tr_w5s3q10_te_walls3q-1_tsk1e1b16itr5_split70-10-20-gpu2_hybrid-attention_sl256st64vs30_ae_bn_fnn_2l_d1024_lr1e-4_output.csv\")\n",
    "#auprc_file_path =  os.path.join(os.getcwd(), \"..\",\"..\", \"..\", \"output/raw/uniref90_embl_vertebrates_idv_unseen_hosts/20241010/host_multi/few_shot_learning/fsl_tr_w5s3q10_te_walls3q-1_tsk1e1b16itr5_split70-10-20-gpu2_hybrid-attention_sl256st64vs30_ae_bn_fnn_2l_d1024_lr1e-4_classwise_auprc.csv\")\n",
    "output_file_path =  os.path.join(os.getcwd(), \"..\",\"..\", \"..\", \"output/raw/uniref90_embl_vertebrates_idv_all_hosts/20241022/host_multi/few_shot_learning/fsl_tr_w3s5q10_te_walls5q-1_tsk1e1b16itr5_split70-10-20-gpu2_hybrid-attention_sl256st64vs30_ae_bn_fnn_2l_d1024_lr1e-4_output.csv\")\n",
    "auprc_file_path =  os.path.join(os.getcwd(), \"..\",\"..\", \"..\", \"output/raw/uniref90_embl_vertebrates_idv_all_hosts/20241022/host_multi/few_shot_learning/fsl_tr_w3s5q10_te_walls5q-1_tsk1e1b16itr5_split70-10-20-gpu2_hybrid-attention_sl256st64vs30_ae_bn_fnn_2l_d1024_lr1e-4_classwise_auprc.csv\")"
   ]
  },
  {
   "cell_type": "code",
   "execution_count": null,
   "id": "b2695eef",
   "metadata": {
    "scrolled": false
   },
   "outputs": [],
   "source": [
    "def get_rank_bin(row):\n",
    "    rank = row[\"y_true_rank\"]\n",
    "    if rank == 1:\n",
    "        return \"Correct Prediction\"\n",
    "    elif rank <= 3:\n",
    "        return \"Top 3 ranks\"\n",
    "    elif rank <= 5:\n",
    "        return \"Top 5 ranks\"\n",
    "    elif rank <= 10:\n",
    "        return \"Top 10 ranks\"\n",
    "    else:\n",
    "        return \"Rank > 10\"\n",
    "    \n",
    "rank_bins = [\"Correct Prediction\", \"Top 3 ranks\", \"Top 5 ranks\", \"Top 10 ranks\", \"Rank > 10\"]\n",
    "class_prob_df, random_predictor = analyze_all_way_fsl_results(output_file_path, auprc_file_path, hosts_file_path)"
   ]
  },
  {
   "cell_type": "code",
   "execution_count": null,
   "id": "6e24ca4a",
   "metadata": {},
   "outputs": [],
   "source": [
    "plot_probability_distribution(class_prob_df, random_predictor, output_file_path = os.path.join(os.getcwd(), \"..\", \"..\", \"..\", f\"output/visualization/temp_new/idv_fsl_unseenhosts_23way.pdf\"))"
   ]
  },
  {
   "cell_type": "code",
   "execution_count": null,
   "id": "edf21862",
   "metadata": {},
   "outputs": [],
   "source": [
    "barplot_df = pd.crosstab(class_probab_df[\"class\"], class_probab_df[\"y_true_rank_bin\"], normalize=\"index\")[rank_bins].cumsum(axis=1).stack().reset_index().rename(columns={0:\"proportion\"})\n",
    "barplot_df[\"percent\"] = barplot_df[\"proportion\"]*100\n",
    "barplot_df"
   ]
  },
  {
   "cell_type": "code",
   "execution_count": null,
   "id": "69677d82",
   "metadata": {},
   "outputs": [],
   "source": []
  }
 ],
 "metadata": {
  "kernelspec": {
   "display_name": "Python 3 (ipykernel)",
   "language": "python",
   "name": "python3"
  },
  "language_info": {
   "codemirror_mode": {
    "name": "ipython",
    "version": 3
   },
   "file_extension": ".py",
   "mimetype": "text/x-python",
   "name": "python",
   "nbconvert_exporter": "python",
   "pygments_lexer": "ipython3",
   "version": "3.8.12"
  }
 },
 "nbformat": 4,
 "nbformat_minor": 5
}
