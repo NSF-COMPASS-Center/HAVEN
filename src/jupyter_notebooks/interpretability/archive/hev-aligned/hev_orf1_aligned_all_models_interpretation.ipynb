{
 "cells": [
  {
   "cell_type": "markdown",
   "id": "bd64c278",
   "metadata": {},
   "source": [
    "## Interpretation of models trained on HEV ORF 1 dataset for multiclass classification\n",
    "\n",
    "### Dataset: HEV sequences: ORF 1\n",
    "### Sequences aligned using MAFFT\n",
    "\n",
    "**Models**: FNN, CNN, RNN, LSTM, TF\n",
    "\n",
    "**Positional Embedding**: Sin-Cos\n",
    "\n",
    "**Maximum Sequence Length**:\n",
    "\n",
    "**Classification**: Multi-class\n",
    "\n",
    "**\\# classes**: 3 (Human, Boar, Others)\n",
    "\n",
    "**\\# ORF1 (n=954)**\n",
    "***train=763, val=95, test=96***\n"
   ]
  },
  {
   "cell_type": "code",
   "execution_count": 1,
   "id": "6f0a7a94",
   "metadata": {},
   "outputs": [
    {
     "data": {
      "text/plain": [
       "['/home/grads/blessyantony/dev/git/zoonosis/src/jupyter_notebooks/interpretation/hev-aligned',\n",
       " '/home/grads/blessyantony/anaconda3/envs/zoonosis/lib/python310.zip',\n",
       " '/home/grads/blessyantony/anaconda3/envs/zoonosis/lib/python3.10',\n",
       " '/home/grads/blessyantony/anaconda3/envs/zoonosis/lib/python3.10/lib-dynload',\n",
       " '',\n",
       " '/home/grads/blessyantony/anaconda3/envs/zoonosis/lib/python3.10/site-packages',\n",
       " '/home/grads/blessyantony/anaconda3/envs/zoonosis/lib/python3.10/site-packages/PyQt5_sip-12.11.0-py3.10-linux-x86_64.egg',\n",
       " '/home/grads/blessyantony/dev/git/zoonosis/src/jupyter_notebooks/interpretation/hev-aligned/../../..',\n",
       " '/home/grads/blessyantony/dev/git/zoonosis/src/jupyter_notebooks/interpretation/hev-aligned/../../../..',\n",
       " '/home/grads/blessyantony/dev/git/zoonosis/src/jupyter_notebooks/interpretation/hev-aligned/../..',\n",
       " '/home/grads/blessyantony/dev/git/zoonosis/src/jupyter_notebooks/interpretation/hev-aligned/..']"
      ]
     },
     "execution_count": 1,
     "metadata": {},
     "output_type": "execute_result"
    }
   ],
   "source": [
    "import sys\n",
    "import os\n",
    "sys.path.append(os.path.join(os.getcwd(), \"..\", \"..\", \"..\"))\n",
    "sys.path.append(os.path.join(os.getcwd(), \"..\", \"..\", \"..\", \"..\"))\n",
    "sys.path.append(os.path.join(os.getcwd(), \"..\", \"..\"))\n",
    "sys.path.append(os.path.join(os.getcwd(), \"..\"))\n",
    "sys.path"
   ]
  },
  {
   "cell_type": "code",
   "execution_count": 2,
   "id": "256b5134",
   "metadata": {},
   "outputs": [],
   "source": [
    "from models.nlp.transformer import transformer, transformer_model\n",
    "from models.nlp import cnn1d, lstm\n",
    "from models.nlp.fnn import fnn\n",
    "from datasets.protein_sequence_dataset import ProteinSequenceDataset\n",
    "from src.utils import utils, nn_utils\n",
    "from models.nlp.embedding.padding import Padding\n",
    "\n",
    "import torch\n",
    "import torch.nn as nn\n",
    "import torch.nn.functional as F\n",
    "from torch.utils.data import DataLoader\n",
    "\n",
    "import pandas as pd\n",
    "import numpy as np\n",
    "\n",
    "import matplotlib\n",
    "import matplotlib.pyplot as plt\n",
    "import seaborn as sns\n",
    "\n",
    "from sklearn.metrics import roc_curve, accuracy_score, f1_score, auc, precision_recall_curve\n",
    "from statistics import mean\n",
    "\n",
    "from captum.attr import LayerIntegratedGradients, TokenReferenceBase, LayerGradientXActivation, LayerDeepLift, LayerLRP"
   ]
  },
  {
   "cell_type": "code",
   "execution_count": 3,
   "id": "6e0c3063",
   "metadata": {},
   "outputs": [],
   "source": [
    "label_groupings = {\n",
    "                    \"Human\": [ \"Human\" ],\n",
    "                    \"Boar\": [ \"Boar\" ],\n",
    "                    \"Others\": [ \"*\" ] # Leporidae\", \"Rodent\", \"Avian\", \"Ferret\", \"Camel\", \"Mongoose\", \"Bat\", \"Primate\", \"Shrew\", \"Deer\", \"Hare\", \"Canine\" ]\n",
    "                    }\n",
    "\n",
    "amino_acid_idx_map = {'A': 1, 'R': 2, 'N': 3, 'D': 4, 'C': 5,\n",
    "                  'Q': 6, 'E': 7, 'G': 8, 'H': 9, 'I': 10,\n",
    "                  'L': 11, 'K': 12, 'M': 13, 'F': 14, 'P': 15,\n",
    "                  'O': 16, 'S': 17, 'U': 18, 'T': 19, 'W': 20,\n",
    "                  'Y': 21, 'V': 22, 'B': 23, 'Z': 24, 'X': 25,\n",
    "                  'J': 26, '-': 0}\n",
    "idx_amino_acid_map = {v:k for k,v in amino_acid_idx_map.items()}\n",
    "\n",
    "train_sequence_settings =  {\n",
    "    \"sequence_col\": \"sequence\",\n",
    "    \"batch_size\": 16,\n",
    "    \"max_sequence_length\": 2481,\n",
    "    \"pad_sequence_val\": 0,\n",
    "    \"truncate\": True,\n",
    "    \"feature_type\": \"token\"\n",
    "}\n",
    "\n",
    "test_sequence_settings =  train_sequence_settings.copy()\n",
    "test_sequence_settings[\"batch_size\"] = 1\n",
    "\n",
    "label_settings = {\n",
    "    \"label_col\": \"host\",\n",
    "    \"exclude_labels\": [ \"nan\"],\n",
    "    \"label_groupings\":  label_groupings\n",
    "}\n",
    "\n",
    "model = {\n",
    "    \"max_seq_len\": 2481,\n",
    "    \"loss\": \"CrossEntropyLoss\",\n",
    "    \"with_convolution\": False,\n",
    "    \"n_heads\": 8,\n",
    "    \"depth\": 6,\n",
    "    \"n_tokens\": 27,\n",
    "    \"n_classes\": 3,\n",
    "    \"n_epochs\": 10,\n",
    "    \"input_dim\": 512, # input embedding dimension\n",
    "    \"hidden_dim\": 1024\n",
    "}"
   ]
  },
  {
   "cell_type": "markdown",
   "id": "d7a4b303",
   "metadata": {},
   "source": [
    "### Load the datasets"
   ]
  },
  {
   "cell_type": "code",
   "execution_count": 4,
   "id": "9dc7319f",
   "metadata": {},
   "outputs": [],
   "source": [
    "def get_token_dataset_loader(df, sequence_settings, label_settings):\n",
    "    label_col = label_settings[\"label_col\"]\n",
    "    \n",
    "    seq_col = sequence_settings[\"sequence_col\"]\n",
    "    batch_size = sequence_settings[\"batch_size\"]\n",
    "    max_seq_len = sequence_settings[\"max_sequence_length\"]\n",
    "    pad_sequence_val = sequence_settings[\"pad_sequence_val\"]\n",
    "    truncate = sequence_settings[\"truncate\"]\n",
    "    \n",
    "    df = df[[seq_col, label_col]]\n",
    "    df, index_label_map = utils.transform_labels(df, label_settings, classification_type=\"multi\")\n",
    "    \n",
    "    dataset = ProteinSequenceDataset(df, seq_col, max_seq_len, truncate, label_col)\n",
    "    return index_label_map, DataLoader(dataset=dataset, batch_size=batch_size, shuffle=True,\n",
    "                      collate_fn=Padding(max_seq_len, pad_sequence_val))\n",
    "\n",
    "def print_dataset_loader(dataset_loader):\n",
    "    sequence, label = next(iter(dataset_loader))\n",
    "    print(f\"Sequence tensor size = {sequence.shape}\")\n",
    "    print(f\"Sequence = {sequence}\")\n",
    "    print(f\"Label tensor size = {label.shape}\")\n",
    "    print(f\"Label = {label}\")\n",
    "    \n",
    "def get_aligned_seq_pos_mapping(seq):\n",
    "    aligned_seq_pos_map = {}\n",
    "    token_count = 0\n",
    "    for i, token in enumerate(seq):\n",
    "        if token == 0:\n",
    "            aligned_seq_pos_map[i] = 0\n",
    "        else:\n",
    "            token_count += 1\n",
    "            aligned_seq_pos_map[i] = token_count\n",
    "    return aligned_seq_pos_map"
   ]
  },
  {
   "cell_type": "code",
   "execution_count": 5,
   "id": "90e657b8",
   "metadata": {},
   "outputs": [
    {
     "data": {
      "text/html": [
       "<div>\n",
       "<style scoped>\n",
       "    .dataframe tbody tr th:only-of-type {\n",
       "        vertical-align: middle;\n",
       "    }\n",
       "\n",
       "    .dataframe tbody tr th {\n",
       "        vertical-align: top;\n",
       "    }\n",
       "\n",
       "    .dataframe thead th {\n",
       "        text-align: right;\n",
       "    }\n",
       "</style>\n",
       "<table border=\"1\" class=\"dataframe\">\n",
       "  <thead>\n",
       "    <tr style=\"text-align: right;\">\n",
       "      <th></th>\n",
       "      <th>id</th>\n",
       "      <th>region</th>\n",
       "      <th>host</th>\n",
       "      <th>genotype</th>\n",
       "      <th>host-genotype</th>\n",
       "      <th>sequence</th>\n",
       "    </tr>\n",
       "  </thead>\n",
       "  <tbody>\n",
       "    <tr>\n",
       "      <th>0</th>\n",
       "      <td>QJQ50412.1</td>\n",
       "      <td>ORF1</td>\n",
       "      <td>Avian</td>\n",
       "      <td>unknown</td>\n",
       "      <td>Avian-unknown</td>\n",
       "      <td>-MDVSQFAESKGVKTALEAAALAAANTALRNARVVTPYLTQQQTKN...</td>\n",
       "    </tr>\n",
       "    <tr>\n",
       "      <th>1</th>\n",
       "      <td>UNQ84074.1</td>\n",
       "      <td>ORF1</td>\n",
       "      <td>Avian</td>\n",
       "      <td>unknown</td>\n",
       "      <td>Avian-unknown</td>\n",
       "      <td>-MDVSQFAESKGVKTALEAAALAAANTALRNARVVTPYLTQQQTKN...</td>\n",
       "    </tr>\n",
       "    <tr>\n",
       "      <th>2</th>\n",
       "      <td>AAS45830.1</td>\n",
       "      <td>ORF1</td>\n",
       "      <td>Avian</td>\n",
       "      <td>unknown</td>\n",
       "      <td>Avian-unknown</td>\n",
       "      <td>-MDVSQFAESKGVKTALEAAALAAANTALRNARVVTPYLTQQQTKN...</td>\n",
       "    </tr>\n",
       "    <tr>\n",
       "      <th>3</th>\n",
       "      <td>YP_009001465.1</td>\n",
       "      <td>ORF1</td>\n",
       "      <td>Avian</td>\n",
       "      <td>unknown</td>\n",
       "      <td>Avian-unknown</td>\n",
       "      <td>-MDVSQFAESKGVKTALEAAALAAANTALRNARVVTPYLTQQQTKN...</td>\n",
       "    </tr>\n",
       "    <tr>\n",
       "      <th>4</th>\n",
       "      <td>UFQ90535.1</td>\n",
       "      <td>ORF1</td>\n",
       "      <td>Avian</td>\n",
       "      <td>unknown</td>\n",
       "      <td>Avian-unknown</td>\n",
       "      <td>-MDVSQFAESKGVKTALEAAALAAANTALRNARVVTPYLTQQQTKN...</td>\n",
       "    </tr>\n",
       "    <tr>\n",
       "      <th>...</th>\n",
       "      <td>...</td>\n",
       "      <td>...</td>\n",
       "      <td>...</td>\n",
       "      <td>...</td>\n",
       "      <td>...</td>\n",
       "      <td>...</td>\n",
       "    </tr>\n",
       "    <tr>\n",
       "      <th>949</th>\n",
       "      <td>AAA45732.1</td>\n",
       "      <td>ORF1</td>\n",
       "      <td>Unknown</td>\n",
       "      <td>HEV2</td>\n",
       "      <td>Unknown-HEV2</td>\n",
       "      <td>----------------------------------------------...</td>\n",
       "    </tr>\n",
       "    <tr>\n",
       "      <th>950</th>\n",
       "      <td>AAA45736.1</td>\n",
       "      <td>ORF1</td>\n",
       "      <td>Unknown</td>\n",
       "      <td>HEV1</td>\n",
       "      <td>Unknown-HEV1</td>\n",
       "      <td>----------------------------------------------...</td>\n",
       "    </tr>\n",
       "    <tr>\n",
       "      <th>951</th>\n",
       "      <td>AAS45831.1</td>\n",
       "      <td>ORF1</td>\n",
       "      <td>Avian</td>\n",
       "      <td>unknown</td>\n",
       "      <td>Avian-unknown</td>\n",
       "      <td>----------------------------------------------...</td>\n",
       "    </tr>\n",
       "    <tr>\n",
       "      <th>952</th>\n",
       "      <td>YP_009001467.1</td>\n",
       "      <td>ORF1</td>\n",
       "      <td>Avian</td>\n",
       "      <td>unknown</td>\n",
       "      <td>Avian-unknown</td>\n",
       "      <td>----------------------------------------------...</td>\n",
       "    </tr>\n",
       "    <tr>\n",
       "      <th>953</th>\n",
       "      <td>UFQ90537.1</td>\n",
       "      <td>ORF1</td>\n",
       "      <td>Avian</td>\n",
       "      <td>unknown</td>\n",
       "      <td>Avian-unknown</td>\n",
       "      <td>----------------------------------------------...</td>\n",
       "    </tr>\n",
       "  </tbody>\n",
       "</table>\n",
       "<p>954 rows × 6 columns</p>\n",
       "</div>"
      ],
      "text/plain": [
       "                 id region     host genotype  host-genotype  \\\n",
       "0        QJQ50412.1   ORF1    Avian  unknown  Avian-unknown   \n",
       "1        UNQ84074.1   ORF1    Avian  unknown  Avian-unknown   \n",
       "2        AAS45830.1   ORF1    Avian  unknown  Avian-unknown   \n",
       "3    YP_009001465.1   ORF1    Avian  unknown  Avian-unknown   \n",
       "4        UFQ90535.1   ORF1    Avian  unknown  Avian-unknown   \n",
       "..              ...    ...      ...      ...            ...   \n",
       "949      AAA45732.1   ORF1  Unknown     HEV2   Unknown-HEV2   \n",
       "950      AAA45736.1   ORF1  Unknown     HEV1   Unknown-HEV1   \n",
       "951      AAS45831.1   ORF1    Avian  unknown  Avian-unknown   \n",
       "952  YP_009001467.1   ORF1    Avian  unknown  Avian-unknown   \n",
       "953      UFQ90537.1   ORF1    Avian  unknown  Avian-unknown   \n",
       "\n",
       "                                              sequence  \n",
       "0    -MDVSQFAESKGVKTALEAAALAAANTALRNARVVTPYLTQQQTKN...  \n",
       "1    -MDVSQFAESKGVKTALEAAALAAANTALRNARVVTPYLTQQQTKN...  \n",
       "2    -MDVSQFAESKGVKTALEAAALAAANTALRNARVVTPYLTQQQTKN...  \n",
       "3    -MDVSQFAESKGVKTALEAAALAAANTALRNARVVTPYLTQQQTKN...  \n",
       "4    -MDVSQFAESKGVKTALEAAALAAANTALRNARVVTPYLTQQQTKN...  \n",
       "..                                                 ...  \n",
       "949  ----------------------------------------------...  \n",
       "950  ----------------------------------------------...  \n",
       "951  ----------------------------------------------...  \n",
       "952  ----------------------------------------------...  \n",
       "953  ----------------------------------------------...  \n",
       "\n",
       "[954 rows x 6 columns]"
      ]
     },
     "execution_count": 5,
     "metadata": {},
     "output_type": "execute_result"
    }
   ],
   "source": [
    "hev_df = pd.read_csv(\"/home/grads/blessyantony/dev/git/zoonosis/input/data/hev/aligned/hev_orf1_alignment_ba.fasta_processed.csv\")\n",
    "hev_df"
   ]
  },
  {
   "cell_type": "code",
   "execution_count": 6,
   "id": "a4440ec0",
   "metadata": {
    "scrolled": false
   },
   "outputs": [
    {
     "data": {
      "text/plain": [
       "Human                                698\n",
       "Boar                                 118\n",
       "Leporidae                             38\n",
       "Rodent                                30\n",
       "Unknown                               19\n",
       "Avian                                 16\n",
       "Camel                                  8\n",
       "Ferret                                 8\n",
       "culture supernatant (Unknown map)      4\n",
       "Mongoose                               3\n",
       "Primate                                3\n",
       "Bat                                    3\n",
       "Deer                                   2\n",
       "Shrew                                  2\n",
       "Canine                                 1\n",
       "Hare                                   1\n",
       "Name: host, dtype: int64"
      ]
     },
     "execution_count": 6,
     "metadata": {},
     "output_type": "execute_result"
    }
   ],
   "source": [
    "hev_df[\"host\"].value_counts()"
   ]
  },
  {
   "cell_type": "code",
   "execution_count": 7,
   "id": "23898e62",
   "metadata": {},
   "outputs": [],
   "source": [
    "def get_target_dataset_loader(target):\n",
    "    hev_target_df = hev_df[hev_df[label_settings[\"label_col\"]] == target]\n",
    "    print(f\"Size {target} df = {hev_target_df.shape}\")\n",
    "    return get_token_dataset_loader(hev_target_df, test_sequence_settings, label_settings)"
   ]
  },
  {
   "cell_type": "code",
   "execution_count": 8,
   "id": "1f371b50",
   "metadata": {},
   "outputs": [
    {
     "name": "stdout",
     "output_type": "stream",
     "text": [
      "Grouping labels using config : {'Human': ['Human'], 'Boar': ['Boar'], 'Others': ['*']}\n",
      "label_idx_map={'Boar': 0, 'Human': 1, 'Others': 2}\n",
      "idx_label_map={0: 'Boar', 1: 'Human', 2: 'Others'}\n"
     ]
    },
    {
     "name": "stderr",
     "output_type": "stream",
     "text": [
      "/home/grads/blessyantony/dev/git/zoonosis/src/jupyter_notebooks/interpretation/hev-aligned/../../../../src/utils/utils.py:57: SettingWithCopyWarning: \n",
      "A value is trying to be set on a copy of a slice from a DataFrame\n",
      "\n",
      "See the caveats in the documentation: https://pandas.pydata.org/pandas-docs/stable/user_guide/indexing.html#returning-a-view-versus-a-copy\n",
      "  df.loc[df[label_col].isin(v), label_col] = k\n",
      "/home/grads/blessyantony/dev/git/zoonosis/src/jupyter_notebooks/interpretation/hev-aligned/../../../../src/utils/utils.py:60: SettingWithCopyWarning: \n",
      "A value is trying to be set on a copy of a slice from a DataFrame\n",
      "\n",
      "See the caveats in the documentation: https://pandas.pydata.org/pandas-docs/stable/user_guide/indexing.html#returning-a-view-versus-a-copy\n",
      "  df.loc[~df[label_col].isin(values), label_col] = group_others_key\n",
      "/home/grads/blessyantony/dev/git/zoonosis/src/jupyter_notebooks/interpretation/hev-aligned/../../../../src/utils/utils.py:45: SettingWithCopyWarning: \n",
      "A value is trying to be set on a copy of a slice from a DataFrame.\n",
      "Try using .loc[row_indexer,col_indexer] = value instead\n",
      "\n",
      "See the caveats in the documentation: https://pandas.pydata.org/pandas-docs/stable/user_guide/indexing.html#returning-a-view-versus-a-copy\n",
      "  df[label_col] = df[label_col].transform(lambda x: label_idx_map[x])\n",
      "/home/grads/blessyantony/dev/git/zoonosis/src/jupyter_notebooks/interpretation/hev-aligned/../../../datasets/protein_sequence_dataset.py:29: SettingWithCopyWarning: \n",
      "A value is trying to be set on a copy of a slice from a DataFrame.\n",
      "Try using .loc[row_indexer,col_indexer] = value instead\n",
      "\n",
      "See the caveats in the documentation: https://pandas.pydata.org/pandas-docs/stable/user_guide/indexing.html#returning-a-view-versus-a-copy\n",
      "  df[self.sequence_col] = df[self.sequence_col].apply(lambda x: x[0:self.max_seq_len])\n"
     ]
    }
   ],
   "source": [
    "index_label_map, hev_dataset_loader = get_token_dataset_loader(hev_df, test_sequence_settings, label_settings)"
   ]
  },
  {
   "cell_type": "markdown",
   "id": "ab719dd1",
   "metadata": {},
   "source": [
    "### Load the trained models"
   ]
  },
  {
   "cell_type": "markdown",
   "id": "b79ff211",
   "metadata": {},
   "source": [
    "#### Model: TF trained on Coronaviridae S protein dataset\n",
    "#### Training Dataset: HEV ORF 2 (hev_orf2_alignment_ba.fasta_processed.csv)\n",
    "#### max sequence length: 794\n"
   ]
  },
  {
   "cell_type": "code",
   "execution_count": 9,
   "id": "44b793de",
   "metadata": {},
   "outputs": [],
   "source": [
    "models_dir = \"/home/grads/blessyantony/dev/git/zoonosis/output/raw/hev/20231012/host_multi_e50/orf1\""
   ]
  },
  {
   "cell_type": "markdown",
   "id": "ee346b7f",
   "metadata": {},
   "source": [
    "#### CNN Model"
   ]
  },
  {
   "cell_type": "code",
   "execution_count": 10,
   "id": "5a43d108",
   "metadata": {},
   "outputs": [
    {
     "name": "stdout",
     "output_type": "stream",
     "text": [
      "CNN_1D_VirusHostPrediction(\n",
      "  (embedding): EmbeddingLayer(\n",
      "    (token_embedding): Embedding(27, 512)\n",
      "    (positional_embedding): PositionalEncoding()\n",
      "  )\n",
      "  (conv1d): Conv1d(512, 1024, kernel_size=(3,), stride=(1,))\n",
      "  (conv1d_hidden): Conv1d(1024, 1024, kernel_size=(3,), stride=(1,))\n",
      "  (conv1d_hidden_layers): ModuleList(\n",
      "    (0-2): 3 x Conv1d(1024, 1024, kernel_size=(3,), stride=(1,))\n",
      "  )\n",
      "  (linear): Linear(in_features=1024, out_features=3, bias=True)\n",
      ")\n",
      "Number of parameters =  14177795\n"
     ]
    }
   ],
   "source": [
    "model[\"kernel_size\"] = 3\n",
    "model[\"stride\"] = 1\n",
    "model[\"depth\"] = 4\n",
    "cnn_model = cnn1d.get_cnn_model(model)\n",
    "cnn_model.load_state_dict(torch.load(os.path.join(models_dir, \"cnn-l_4-lr1e-3-orf1_itr0.pth\")))\n",
    "cnn_model = cnn_model.to(nn_utils.get_device())\n",
    "cnn_model.eval()\n",
    "cnn_model.zero_grad()"
   ]
  },
  {
   "cell_type": "markdown",
   "id": "b93a8779",
   "metadata": {},
   "source": [
    "#### LSTM Model"
   ]
  },
  {
   "cell_type": "code",
   "execution_count": 11,
   "id": "43245227",
   "metadata": {},
   "outputs": [
    {
     "name": "stdout",
     "output_type": "stream",
     "text": [
      "LSTM_VirusHostPrediction(\n",
      "  (embedding): EmbeddingLayer(\n",
      "    (token_embedding): Embedding(27, 512)\n",
      "    (positional_embedding): PositionalEncoding()\n",
      "  )\n",
      "  (lstm): LSTM(512, 1024, num_layers=2, batch_first=True)\n",
      "  (linear): Linear(in_features=1024, out_features=3, bias=True)\n",
      ")\n",
      "Number of parameters =  14713347\n"
     ]
    }
   ],
   "source": [
    "model[\"depth\"] = 2\n",
    "lstm_model = lstm.get_lstm_model(model)\n",
    "lstm_model.load_state_dict(torch.load(os.path.join(models_dir, \"lstm-l_2-lr1e-3-orf1_itr0.pth\")))\n",
    "lstm_model = lstm_model.to(nn_utils.get_device())"
   ]
  },
  {
   "cell_type": "markdown",
   "id": "397277e8",
   "metadata": {},
   "source": [
    "#### TF - Custom Model"
   ]
  },
  {
   "cell_type": "code",
   "execution_count": 12,
   "id": "63452bb1",
   "metadata": {},
   "outputs": [
    {
     "name": "stdout",
     "output_type": "stream",
     "text": [
      "Transformer(\n",
      "  (embedding): EmbeddingLayer(\n",
      "    (token_embedding): Embedding(27, 512)\n",
      "    (positional_embedding): PositionalEncoding()\n",
      "  )\n",
      "  (encoder): Encoder(\n",
      "    (layers): ModuleList(\n",
      "      (0-5): 6 x EncoderLayer(\n",
      "        (self_attn): MultiHeadAttention(\n",
      "          (W_Q): Linear(in_features=512, out_features=512, bias=True)\n",
      "          (W_K): Linear(in_features=512, out_features=512, bias=True)\n",
      "          (W_V): Linear(in_features=512, out_features=512, bias=True)\n",
      "          (W_O): Linear(in_features=512, out_features=512, bias=True)\n",
      "        )\n",
      "        (feed_forward): FeedForwardLayer(\n",
      "          (W_1): Linear(in_features=512, out_features=1024, bias=True)\n",
      "          (W_2): Linear(in_features=1024, out_features=512, bias=True)\n",
      "        )\n",
      "        (residual_connections): ModuleList(\n",
      "          (0-1): 2 x ResidualConnectionLayer(\n",
      "            (norm): NormalizationLayer()\n",
      "          )\n",
      "        )\n",
      "      )\n",
      "    )\n",
      "    (norm): NormalizationLayer()\n",
      "  )\n",
      "  (linear): Linear(in_features=512, out_features=3, bias=True)\n",
      ")\n",
      "Number of parameters =  12619779\n"
     ]
    }
   ],
   "source": [
    "model[\"depth\"] = 6\n",
    "tf_custom_model = transformer.get_transformer_model(model)\n",
    "tf_custom_model.load_state_dict(torch.load(os.path.join(models_dir, \"transformer-l_6-h_8-lr1e-4-orf1_itr0.pth\")))\n",
    "tf_custom_model = tf_custom_model.to(nn_utils.get_device())\n",
    "tf_custom_model.eval()\n",
    "tf_custom_model.zero_grad()"
   ]
  },
  {
   "cell_type": "markdown",
   "id": "23e66eda",
   "metadata": {},
   "source": [
    "### Prediction Performance"
   ]
  },
  {
   "cell_type": "code",
   "execution_count": 13,
   "id": "431c131b",
   "metadata": {},
   "outputs": [],
   "source": [
    "def validate(model, dataset_loader):\n",
    "    with torch.no_grad():\n",
    "        model.eval()\n",
    "\n",
    "        results = []\n",
    "\n",
    "        for _, data in enumerate(dataset_loader):\n",
    "            # get input and labels; data is a list of [(inputs, labels)]\n",
    "            inputs, labels = data\n",
    "\n",
    "            output = model(inputs)\n",
    "\n",
    "            # tensorboard + logs\n",
    "\n",
    "            # to get probabilities of the output\n",
    "            output = F.softmax(output, dim=-1)\n",
    "            result_df = pd.DataFrame(output.cpu().numpy())\n",
    "            result_df[\"y_true\"] = labels.cpu().numpy()\n",
    "            results.append(result_df)\n",
    "    \n",
    "    return pd.concat(results, ignore_index=True)"
   ]
  },
  {
   "cell_type": "code",
   "execution_count": 14,
   "id": "462e183f",
   "metadata": {},
   "outputs": [],
   "source": [
    "results = validate(tf_custom_model, hev_dataset_loader)"
   ]
  },
  {
   "cell_type": "code",
   "execution_count": 15,
   "id": "0ca6b9b0",
   "metadata": {},
   "outputs": [
    {
     "data": {
      "text/html": [
       "<div>\n",
       "<style scoped>\n",
       "    .dataframe tbody tr th:only-of-type {\n",
       "        vertical-align: middle;\n",
       "    }\n",
       "\n",
       "    .dataframe tbody tr th {\n",
       "        vertical-align: top;\n",
       "    }\n",
       "\n",
       "    .dataframe thead th {\n",
       "        text-align: right;\n",
       "    }\n",
       "</style>\n",
       "<table border=\"1\" class=\"dataframe\">\n",
       "  <thead>\n",
       "    <tr style=\"text-align: right;\">\n",
       "      <th></th>\n",
       "      <th>Boar</th>\n",
       "      <th>Human</th>\n",
       "      <th>Others</th>\n",
       "      <th>y_true</th>\n",
       "    </tr>\n",
       "  </thead>\n",
       "  <tbody>\n",
       "    <tr>\n",
       "      <th>0</th>\n",
       "      <td>0.002466</td>\n",
       "      <td>0.231411</td>\n",
       "      <td>0.766123</td>\n",
       "      <td>Others</td>\n",
       "    </tr>\n",
       "    <tr>\n",
       "      <th>1</th>\n",
       "      <td>0.000071</td>\n",
       "      <td>0.110287</td>\n",
       "      <td>0.889642</td>\n",
       "      <td>Others</td>\n",
       "    </tr>\n",
       "    <tr>\n",
       "      <th>2</th>\n",
       "      <td>0.421554</td>\n",
       "      <td>0.268850</td>\n",
       "      <td>0.309596</td>\n",
       "      <td>Boar</td>\n",
       "    </tr>\n",
       "    <tr>\n",
       "      <th>3</th>\n",
       "      <td>0.348093</td>\n",
       "      <td>0.646359</td>\n",
       "      <td>0.005547</td>\n",
       "      <td>Human</td>\n",
       "    </tr>\n",
       "    <tr>\n",
       "      <th>4</th>\n",
       "      <td>0.349096</td>\n",
       "      <td>0.645423</td>\n",
       "      <td>0.005481</td>\n",
       "      <td>Human</td>\n",
       "    </tr>\n",
       "    <tr>\n",
       "      <th>...</th>\n",
       "      <td>...</td>\n",
       "      <td>...</td>\n",
       "      <td>...</td>\n",
       "      <td>...</td>\n",
       "    </tr>\n",
       "    <tr>\n",
       "      <th>949</th>\n",
       "      <td>0.703822</td>\n",
       "      <td>0.282815</td>\n",
       "      <td>0.013363</td>\n",
       "      <td>Boar</td>\n",
       "    </tr>\n",
       "    <tr>\n",
       "      <th>950</th>\n",
       "      <td>0.078563</td>\n",
       "      <td>0.705685</td>\n",
       "      <td>0.215753</td>\n",
       "      <td>Human</td>\n",
       "    </tr>\n",
       "    <tr>\n",
       "      <th>951</th>\n",
       "      <td>0.703532</td>\n",
       "      <td>0.283066</td>\n",
       "      <td>0.013402</td>\n",
       "      <td>Boar</td>\n",
       "    </tr>\n",
       "    <tr>\n",
       "      <th>952</th>\n",
       "      <td>0.002094</td>\n",
       "      <td>0.173184</td>\n",
       "      <td>0.824722</td>\n",
       "      <td>Others</td>\n",
       "    </tr>\n",
       "    <tr>\n",
       "      <th>953</th>\n",
       "      <td>0.000976</td>\n",
       "      <td>0.184032</td>\n",
       "      <td>0.814992</td>\n",
       "      <td>Others</td>\n",
       "    </tr>\n",
       "  </tbody>\n",
       "</table>\n",
       "<p>954 rows × 4 columns</p>\n",
       "</div>"
      ],
      "text/plain": [
       "         Boar     Human    Others  y_true\n",
       "0    0.002466  0.231411  0.766123  Others\n",
       "1    0.000071  0.110287  0.889642  Others\n",
       "2    0.421554  0.268850  0.309596    Boar\n",
       "3    0.348093  0.646359  0.005547   Human\n",
       "4    0.349096  0.645423  0.005481   Human\n",
       "..        ...       ...       ...     ...\n",
       "949  0.703822  0.282815  0.013363    Boar\n",
       "950  0.078563  0.705685  0.215753   Human\n",
       "951  0.703532  0.283066  0.013402    Boar\n",
       "952  0.002094  0.173184  0.824722  Others\n",
       "953  0.000976  0.184032  0.814992  Others\n",
       "\n",
       "[954 rows x 4 columns]"
      ]
     },
     "execution_count": 15,
     "metadata": {},
     "output_type": "execute_result"
    }
   ],
   "source": [
    "results_df = results.rename(columns=index_label_map)\n",
    "results_df[\"y_true\"] = results_df[\"y_true\"].map(lambda x: index_label_map[x])\n",
    "results_df"
   ]
  },
  {
   "cell_type": "code",
   "execution_count": 16,
   "id": "2077fd32",
   "metadata": {},
   "outputs": [
    {
     "name": "stdout",
     "output_type": "stream",
     "text": [
      "AUPRC for class Boar = 0.4604933269260953\n",
      "AUPRC for class Human = 0.9487475045302458\n",
      "AUPRC for class Others = 0.8967161999325725\n",
      "Macro AUPRC = 0.7686523437963045\n"
     ]
    }
   ],
   "source": [
    "auprcs = []\n",
    "for i in index_label_map.values():\n",
    "    precision, recall, _ = precision_recall_curve(y_true=results_df[\"y_true\"].values, probas_pred=results_df[i].values, pos_label=i)\n",
    "    auprc = auc(recall, precision)\n",
    "    print(f\"AUPRC for class {i} = {auprc}\")\n",
    "    auprcs.append(auprc)\n",
    "\n",
    "macro_auprc = mean(auprcs)\n",
    "print(f\"Macro AUPRC = {macro_auprc}\")"
   ]
  },
  {
   "cell_type": "markdown",
   "id": "5710b799",
   "metadata": {},
   "source": [
    "## Intepretation"
   ]
  },
  {
   "cell_type": "code",
   "execution_count": 17,
   "id": "fd473e53",
   "metadata": {},
   "outputs": [],
   "source": [
    "def compute_top_n_positions(attr_df, n):\n",
    "    attr_rank_df = attr_df.abs().rank(\"columns\", ascending=False).astype(int)\n",
    "    # retain only top n ranks\n",
    "    attr_rank_df[attr_rank_df > n] = None\n",
    "    # drop all columns (positions) with all NaN i.e. this position is not in the top 10 for any sequence\n",
    "    attr_rank_df.dropna(axis=1, how=\"all\", inplace=True)\n",
    "    print(attr_rank_df.columns)\n",
    "    print(attr_rank_df.head(20))\n",
    "    sns.heatmap(data=attr_df[attr_rank_df.columns])\n",
    "    plt.show()"
   ]
  },
  {
   "cell_type": "markdown",
   "id": "5d4a12aa",
   "metadata": {},
   "source": [
    "#### Inputs"
   ]
  },
  {
   "cell_type": "code",
   "execution_count": 18,
   "id": "6974a8aa",
   "metadata": {},
   "outputs": [
    {
     "name": "stdout",
     "output_type": "stream",
     "text": [
      "Size Human df = (698, 6)\n",
      "Grouping labels using config : {'Human': ['Human'], 'Boar': ['Boar'], 'Others': ['*']}\n",
      "label_idx_map={'Boar': 0, 'Human': 1, 'Others': 2}\n",
      "idx_label_map={0: 'Boar', 1: 'Human', 2: 'Others'}\n",
      "Size Boar df = (118, 6)\n",
      "Grouping labels using config : {'Human': ['Human'], 'Boar': ['Boar'], 'Others': ['*']}\n",
      "label_idx_map={'Boar': 0, 'Human': 1, 'Others': 2}\n",
      "idx_label_map={0: 'Boar', 1: 'Human', 2: 'Others'}\n"
     ]
    },
    {
     "name": "stderr",
     "output_type": "stream",
     "text": [
      "/home/grads/blessyantony/dev/git/zoonosis/src/jupyter_notebooks/interpretation/hev-aligned/../../../../src/utils/utils.py:57: SettingWithCopyWarning: \n",
      "A value is trying to be set on a copy of a slice from a DataFrame\n",
      "\n",
      "See the caveats in the documentation: https://pandas.pydata.org/pandas-docs/stable/user_guide/indexing.html#returning-a-view-versus-a-copy\n",
      "  df.loc[df[label_col].isin(v), label_col] = k\n",
      "/home/grads/blessyantony/dev/git/zoonosis/src/jupyter_notebooks/interpretation/hev-aligned/../../../../src/utils/utils.py:60: SettingWithCopyWarning: \n",
      "A value is trying to be set on a copy of a slice from a DataFrame\n",
      "\n",
      "See the caveats in the documentation: https://pandas.pydata.org/pandas-docs/stable/user_guide/indexing.html#returning-a-view-versus-a-copy\n",
      "  df.loc[~df[label_col].isin(values), label_col] = group_others_key\n",
      "/home/grads/blessyantony/dev/git/zoonosis/src/jupyter_notebooks/interpretation/hev-aligned/../../../../src/utils/utils.py:45: SettingWithCopyWarning: \n",
      "A value is trying to be set on a copy of a slice from a DataFrame.\n",
      "Try using .loc[row_indexer,col_indexer] = value instead\n",
      "\n",
      "See the caveats in the documentation: https://pandas.pydata.org/pandas-docs/stable/user_guide/indexing.html#returning-a-view-versus-a-copy\n",
      "  df[label_col] = df[label_col].transform(lambda x: label_idx_map[x])\n",
      "/home/grads/blessyantony/dev/git/zoonosis/src/jupyter_notebooks/interpretation/hev-aligned/../../../datasets/protein_sequence_dataset.py:29: SettingWithCopyWarning: \n",
      "A value is trying to be set on a copy of a slice from a DataFrame.\n",
      "Try using .loc[row_indexer,col_indexer] = value instead\n",
      "\n",
      "See the caveats in the documentation: https://pandas.pydata.org/pandas-docs/stable/user_guide/indexing.html#returning-a-view-versus-a-copy\n",
      "  df[self.sequence_col] = df[self.sequence_col].apply(lambda x: x[0:self.max_seq_len])\n",
      "/home/grads/blessyantony/dev/git/zoonosis/src/jupyter_notebooks/interpretation/hev-aligned/../../../../src/utils/utils.py:57: SettingWithCopyWarning: \n",
      "A value is trying to be set on a copy of a slice from a DataFrame\n",
      "\n",
      "See the caveats in the documentation: https://pandas.pydata.org/pandas-docs/stable/user_guide/indexing.html#returning-a-view-versus-a-copy\n",
      "  df.loc[df[label_col].isin(v), label_col] = k\n",
      "/home/grads/blessyantony/dev/git/zoonosis/src/jupyter_notebooks/interpretation/hev-aligned/../../../../src/utils/utils.py:60: SettingWithCopyWarning: \n",
      "A value is trying to be set on a copy of a slice from a DataFrame\n",
      "\n",
      "See the caveats in the documentation: https://pandas.pydata.org/pandas-docs/stable/user_guide/indexing.html#returning-a-view-versus-a-copy\n",
      "  df.loc[~df[label_col].isin(values), label_col] = group_others_key\n",
      "/home/grads/blessyantony/dev/git/zoonosis/src/jupyter_notebooks/interpretation/hev-aligned/../../../../src/utils/utils.py:45: SettingWithCopyWarning: \n",
      "A value is trying to be set on a copy of a slice from a DataFrame.\n",
      "Try using .loc[row_indexer,col_indexer] = value instead\n",
      "\n",
      "See the caveats in the documentation: https://pandas.pydata.org/pandas-docs/stable/user_guide/indexing.html#returning-a-view-versus-a-copy\n",
      "  df[label_col] = df[label_col].transform(lambda x: label_idx_map[x])\n",
      "/home/grads/blessyantony/dev/git/zoonosis/src/jupyter_notebooks/interpretation/hev-aligned/../../../datasets/protein_sequence_dataset.py:29: SettingWithCopyWarning: \n",
      "A value is trying to be set on a copy of a slice from a DataFrame.\n",
      "Try using .loc[row_indexer,col_indexer] = value instead\n",
      "\n",
      "See the caveats in the documentation: https://pandas.pydata.org/pandas-docs/stable/user_guide/indexing.html#returning-a-view-versus-a-copy\n",
      "  df[self.sequence_col] = df[self.sequence_col].apply(lambda x: x[0:self.max_seq_len])\n"
     ]
    }
   ],
   "source": [
    "human_inputs = []\n",
    "_, human_dataset_loader = get_target_dataset_loader(\"Human\")\n",
    "for i in range(20):\n",
    "    human_inputs.append(next(iter(human_dataset_loader)))\n",
    "    \n",
    "boar_inputs = []\n",
    "_, boar_dataset_loader = get_target_dataset_loader(\"Boar\")\n",
    "for i in range(20):\n",
    "    boar_inputs.append(next(iter(boar_dataset_loader)))"
   ]
  },
  {
   "cell_type": "code",
   "execution_count": 19,
   "id": "905c2a27",
   "metadata": {},
   "outputs": [],
   "source": [
    "human_input = next(iter(human_dataset_loader))\n",
    "boar_input = next(iter(boar_dataset_loader))"
   ]
  },
  {
   "cell_type": "code",
   "execution_count": 20,
   "id": "8b4dd7a8",
   "metadata": {},
   "outputs": [],
   "source": [
    "human_seq, _ = human_input\n",
    "human_seq_detach = human_seq.detach().cpu().numpy()[0]\n",
    "human_input_seq_pos_map = get_aligned_seq_pos_mapping(human_seq_detach)"
   ]
  },
  {
   "cell_type": "markdown",
   "id": "9c005dd0",
   "metadata": {},
   "source": [
    "#### Outputs"
   ]
  },
  {
   "cell_type": "code",
   "execution_count": 21,
   "id": "172fb1c7",
   "metadata": {},
   "outputs": [],
   "source": [
    "n_attr_dfs = []\n",
    "single_seq_attr_dfs = []"
   ]
  },
  {
   "cell_type": "markdown",
   "id": "a7996f5e",
   "metadata": {},
   "source": [
    "### LayerGradientXActivation"
   ]
  },
  {
   "cell_type": "code",
   "execution_count": 22,
   "id": "c4a51855",
   "metadata": {},
   "outputs": [],
   "source": [
    "def compute_lgxa_attributions(model, inputs, target):\n",
    "    attributions = []\n",
    "    for seq, label in inputs:\n",
    "        interpreter = LayerGradientXActivation(model, model.embedding)\n",
    "        attribution = interpreter.attribute(seq, target=target)\n",
    "        \n",
    "        attribution = attribution.sum(dim=2).squeeze(0)\n",
    "        attribution = attribution / torch.norm(attribution)\n",
    "        attributions.append(attribution.detach().cpu().numpy())\n",
    "    return pd.DataFrame(attributions)"
   ]
  },
  {
   "cell_type": "code",
   "execution_count": 23,
   "id": "96b2d67b",
   "metadata": {},
   "outputs": [],
   "source": [
    "n_attr_dfs.append({\n",
    "    \"model\": \"CNN\",\n",
    "    \"method\": \"LayerGradientXActivation\",\n",
    "    \"class\": \"Human\",\n",
    "    \"attr_df\": compute_lgxa_attributions(cnn_model, human_inputs, target=1)\n",
    "})\n",
    "\n",
    "n_attr_dfs.append({\n",
    "    \"model\": \"CNN\",\n",
    "    \"method\": \"LayerGradientXActivation\",\n",
    "    \"class\": \"Boar\",\n",
    "    \"attr_df\": compute_lgxa_attributions(cnn_model, boar_inputs, target=0)\n",
    "})"
   ]
  },
  {
   "cell_type": "code",
   "execution_count": 24,
   "id": "beef18ab",
   "metadata": {},
   "outputs": [],
   "source": [
    "n_attr_dfs.append({\n",
    "    \"model\": \"LSTM\",\n",
    "    \"method\": \"LayerGradientXActivation\",\n",
    "    \"class\": \"Human\",\n",
    "    \"attr_df\": compute_lgxa_attributions(lstm_model, human_inputs, target=1)\n",
    "})\n",
    "\n",
    "n_attr_dfs.append({\n",
    "    \"model\": \"LSTM\",\n",
    "    \"method\": \"LayerGradientXActivation\",\n",
    "    \"class\": \"Boar\",\n",
    "    \"attr_df\": compute_lgxa_attributions(lstm_model, boar_inputs, target=0)\n",
    "})"
   ]
  },
  {
   "cell_type": "code",
   "execution_count": 25,
   "id": "4fae09cf",
   "metadata": {},
   "outputs": [],
   "source": [
    "single_seq_attr_dfs.append({\n",
    "    \"model\": \"CNN\",\n",
    "    \"method\": \"LayerGradientXActivation\",\n",
    "    \"class\": \"Human\",\n",
    "    \"attr_df\": compute_lgxa_attributions(cnn_model, [human_input], target=1)\n",
    "})\n",
    "\n",
    "single_seq_attr_dfs.append({\n",
    "    \"model\": \"CNN\",\n",
    "    \"method\": \"LayerGradientXActivation\",\n",
    "    \"class\": \"Boar\",\n",
    "    \"attr_df\": compute_lgxa_attributions(cnn_model, [boar_input], target=0)\n",
    "})"
   ]
  },
  {
   "cell_type": "code",
   "execution_count": 26,
   "id": "24a919e3",
   "metadata": {},
   "outputs": [],
   "source": [
    "single_seq_attr_dfs.append({\n",
    "    \"model\": \"LSTM\",\n",
    "    \"method\": \"LayerGradientXActivation\",\n",
    "    \"class\": \"Human\",\n",
    "    \"attr_df\": compute_lgxa_attributions(lstm_model, [human_input], target=1)\n",
    "})\n",
    "\n",
    "single_seq_attr_dfs.append({\n",
    "    \"model\": \"LSTM\",\n",
    "    \"method\": \"LayerGradientXActivation\",\n",
    "    \"class\": \"Boar\",\n",
    "    \"attr_df\": compute_lgxa_attributions(lstm_model, [boar_input], target=0)\n",
    "})"
   ]
  },
  {
   "cell_type": "markdown",
   "id": "68ce278d",
   "metadata": {},
   "source": [
    "### LayerIntegratedGradients"
   ]
  },
  {
   "cell_type": "code",
   "execution_count": 40,
   "id": "8e015932",
   "metadata": {},
   "outputs": [],
   "source": [
    "def compute_lig_attributions(model, inputs, target, reference_seq):\n",
    "    attributions = []\n",
    "    for seq, label in inputs:\n",
    "        interpreter = LayerIntegratedGradients(model, model.embedding)\n",
    "        attribution = interpreter.attribute(seq, reference_seq, target=target)\n",
    "        \n",
    "        attribution = attribution.sum(dim=2).squeeze(0)\n",
    "        attribution = attribution / torch.norm(attribution)\n",
    "        attributions.append(attribution.detach().cpu().numpy())\n",
    "    return pd.DataFrame(attributions)"
   ]
  },
  {
   "cell_type": "code",
   "execution_count": 41,
   "id": "f07fe4dc",
   "metadata": {},
   "outputs": [],
   "source": [
    "reference_seq = TokenReferenceBase(reference_token_idx=0).generate_reference(test_sequence_settings[\"max_sequence_length\"],\n",
    "                                                                       device=nn_utils.get_device()).unsqueeze(0)\n",
    "n_attr_dfs.append({\n",
    "    \"model\": \"CNN\",\n",
    "    \"method\": \"LayerIntegratedGradients\",\n",
    "    \"class\": \"Human\",\n",
    "    \"attr_df\": compute_lig_attributions(cnn_model, human_inputs, target=1, reference_seq=reference_seq)\n",
    "})\n",
    "\n",
    "n_attr_dfs.append({\n",
    "    \"model\": \"CNN\",\n",
    "    \"method\": \"LayerIntegratedGradients\",\n",
    "    \"class\": \"Boar\",\n",
    "    \"attr_df\": compute_lig_attributions(cnn_model, boar_inputs, target=0, reference_seq=reference_seq)\n",
    "})\n"
   ]
  },
  {
   "cell_type": "code",
   "execution_count": 42,
   "id": "554fdf04",
   "metadata": {},
   "outputs": [
    {
     "ename": "OutOfMemoryError",
     "evalue": "CUDA out of memory. Tried to allocate 486.00 MiB (GPU 0; 12.00 GiB total capacity; 7.06 GiB already allocated; 382.86 MiB free; 7.21 GiB reserved in total by PyTorch) If reserved memory is >> allocated memory try setting max_split_size_mb to avoid fragmentation.  See documentation for Memory Management and PYTORCH_CUDA_ALLOC_CONF",
     "output_type": "error",
     "traceback": [
      "\u001b[0;31m---------------------------------------------------------------------------\u001b[0m",
      "\u001b[0;31mOutOfMemoryError\u001b[0m                          Traceback (most recent call last)",
      "Cell \u001b[0;32mIn[42], line 7\u001b[0m\n\u001b[1;32m      1\u001b[0m reference_seq \u001b[38;5;241m=\u001b[39m TokenReferenceBase(reference_token_idx\u001b[38;5;241m=\u001b[39m\u001b[38;5;241m0\u001b[39m)\u001b[38;5;241m.\u001b[39mgenerate_reference(test_sequence_settings[\u001b[38;5;124m\"\u001b[39m\u001b[38;5;124mmax_sequence_length\u001b[39m\u001b[38;5;124m\"\u001b[39m],\n\u001b[1;32m      2\u001b[0m                                                                        device\u001b[38;5;241m=\u001b[39mnn_utils\u001b[38;5;241m.\u001b[39mget_device())\u001b[38;5;241m.\u001b[39munsqueeze(\u001b[38;5;241m0\u001b[39m)\n\u001b[1;32m      3\u001b[0m n_attr_dfs\u001b[38;5;241m.\u001b[39mappend({\n\u001b[1;32m      4\u001b[0m     \u001b[38;5;124m\"\u001b[39m\u001b[38;5;124mmodel\u001b[39m\u001b[38;5;124m\"\u001b[39m: \u001b[38;5;124m\"\u001b[39m\u001b[38;5;124mLSTM\u001b[39m\u001b[38;5;124m\"\u001b[39m,\n\u001b[1;32m      5\u001b[0m     \u001b[38;5;124m\"\u001b[39m\u001b[38;5;124mmethod\u001b[39m\u001b[38;5;124m\"\u001b[39m: \u001b[38;5;124m\"\u001b[39m\u001b[38;5;124mLayerIntegratedGradients\u001b[39m\u001b[38;5;124m\"\u001b[39m,\n\u001b[1;32m      6\u001b[0m     \u001b[38;5;124m\"\u001b[39m\u001b[38;5;124mclass\u001b[39m\u001b[38;5;124m\"\u001b[39m: \u001b[38;5;124m\"\u001b[39m\u001b[38;5;124mHuman\u001b[39m\u001b[38;5;124m\"\u001b[39m,\n\u001b[0;32m----> 7\u001b[0m     \u001b[38;5;124m\"\u001b[39m\u001b[38;5;124mattr_df\u001b[39m\u001b[38;5;124m\"\u001b[39m: \u001b[43mcompute_lig_attributions\u001b[49m\u001b[43m(\u001b[49m\u001b[43mlstm_model\u001b[49m\u001b[43m,\u001b[49m\u001b[43m \u001b[49m\u001b[43mhuman_inputs\u001b[49m\u001b[43m,\u001b[49m\u001b[43m \u001b[49m\u001b[43mtarget\u001b[49m\u001b[38;5;241;43m=\u001b[39;49m\u001b[38;5;241;43m1\u001b[39;49m\u001b[43m,\u001b[49m\u001b[43m \u001b[49m\u001b[43mreference_seq\u001b[49m\u001b[38;5;241;43m=\u001b[39;49m\u001b[43mreference_seq\u001b[49m\u001b[43m)\u001b[49m\n\u001b[1;32m      8\u001b[0m })\n\u001b[1;32m     10\u001b[0m n_attr_dfs\u001b[38;5;241m.\u001b[39mappend({\n\u001b[1;32m     11\u001b[0m     \u001b[38;5;124m\"\u001b[39m\u001b[38;5;124mmodel\u001b[39m\u001b[38;5;124m\"\u001b[39m: \u001b[38;5;124m\"\u001b[39m\u001b[38;5;124mLSTM\u001b[39m\u001b[38;5;124m\"\u001b[39m,\n\u001b[1;32m     12\u001b[0m     \u001b[38;5;124m\"\u001b[39m\u001b[38;5;124mmethod\u001b[39m\u001b[38;5;124m\"\u001b[39m: \u001b[38;5;124m\"\u001b[39m\u001b[38;5;124mLayerIntegratedGradients\u001b[39m\u001b[38;5;124m\"\u001b[39m,\n\u001b[1;32m     13\u001b[0m     \u001b[38;5;124m\"\u001b[39m\u001b[38;5;124mclass\u001b[39m\u001b[38;5;124m\"\u001b[39m: \u001b[38;5;124m\"\u001b[39m\u001b[38;5;124mBoar\u001b[39m\u001b[38;5;124m\"\u001b[39m,\n\u001b[1;32m     14\u001b[0m     \u001b[38;5;124m\"\u001b[39m\u001b[38;5;124mattr_df\u001b[39m\u001b[38;5;124m\"\u001b[39m: compute_lig_attributions(lstm_model, boar_inputs, target\u001b[38;5;241m=\u001b[39m\u001b[38;5;241m0\u001b[39m, reference_seq\u001b[38;5;241m=\u001b[39mreference_seq)\n\u001b[1;32m     15\u001b[0m })\n",
      "Cell \u001b[0;32mIn[40], line 5\u001b[0m, in \u001b[0;36mcompute_lig_attributions\u001b[0;34m(model, inputs, target, reference_seq)\u001b[0m\n\u001b[1;32m      3\u001b[0m \u001b[38;5;28;01mfor\u001b[39;00m seq, label \u001b[38;5;129;01min\u001b[39;00m inputs:\n\u001b[1;32m      4\u001b[0m     interpreter \u001b[38;5;241m=\u001b[39m LayerIntegratedGradients(model, model\u001b[38;5;241m.\u001b[39membedding)\n\u001b[0;32m----> 5\u001b[0m     attribution \u001b[38;5;241m=\u001b[39m \u001b[43minterpreter\u001b[49m\u001b[38;5;241;43m.\u001b[39;49m\u001b[43mattribute\u001b[49m\u001b[43m(\u001b[49m\u001b[43mseq\u001b[49m\u001b[43m,\u001b[49m\u001b[43m \u001b[49m\u001b[43mreference_seq\u001b[49m\u001b[43m,\u001b[49m\u001b[43m \u001b[49m\u001b[43mtarget\u001b[49m\u001b[38;5;241;43m=\u001b[39;49m\u001b[43mtarget\u001b[49m\u001b[43m)\u001b[49m\n\u001b[1;32m      7\u001b[0m     attribution \u001b[38;5;241m=\u001b[39m attribution\u001b[38;5;241m.\u001b[39msum(dim\u001b[38;5;241m=\u001b[39m\u001b[38;5;241m2\u001b[39m)\u001b[38;5;241m.\u001b[39msqueeze(\u001b[38;5;241m0\u001b[39m)\n\u001b[1;32m      8\u001b[0m     attribution \u001b[38;5;241m=\u001b[39m attribution \u001b[38;5;241m/\u001b[39m torch\u001b[38;5;241m.\u001b[39mnorm(attribution)\n",
      "File \u001b[0;32m~/anaconda3/envs/zoonosis/lib/python3.10/site-packages/captum/log/__init__.py:42\u001b[0m, in \u001b[0;36mlog_usage.<locals>._log_usage.<locals>.wrapper\u001b[0;34m(*args, **kwargs)\u001b[0m\n\u001b[1;32m     40\u001b[0m \u001b[38;5;129m@wraps\u001b[39m(func)\n\u001b[1;32m     41\u001b[0m \u001b[38;5;28;01mdef\u001b[39;00m \u001b[38;5;21mwrapper\u001b[39m(\u001b[38;5;241m*\u001b[39margs, \u001b[38;5;241m*\u001b[39m\u001b[38;5;241m*\u001b[39mkwargs):\n\u001b[0;32m---> 42\u001b[0m     \u001b[38;5;28;01mreturn\u001b[39;00m \u001b[43mfunc\u001b[49m\u001b[43m(\u001b[49m\u001b[38;5;241;43m*\u001b[39;49m\u001b[43margs\u001b[49m\u001b[43m,\u001b[49m\u001b[43m \u001b[49m\u001b[38;5;241;43m*\u001b[39;49m\u001b[38;5;241;43m*\u001b[39;49m\u001b[43mkwargs\u001b[49m\u001b[43m)\u001b[49m\n",
      "File \u001b[0;32m~/anaconda3/envs/zoonosis/lib/python3.10/site-packages/captum/attr/_core/layer/layer_integrated_gradients.py:494\u001b[0m, in \u001b[0;36mLayerIntegratedGradients.attribute\u001b[0;34m(self, inputs, baselines, target, additional_forward_args, n_steps, method, internal_batch_size, return_convergence_delta, attribute_to_layer_input)\u001b[0m\n\u001b[1;32m    487\u001b[0m \u001b[38;5;28mself\u001b[39m\u001b[38;5;241m.\u001b[39mig\u001b[38;5;241m.\u001b[39mgradient_func \u001b[38;5;241m=\u001b[39m gradient_func\n\u001b[1;32m    488\u001b[0m all_inputs \u001b[38;5;241m=\u001b[39m (\n\u001b[1;32m    489\u001b[0m     (inps \u001b[38;5;241m+\u001b[39m additional_forward_args)\n\u001b[1;32m    490\u001b[0m     \u001b[38;5;28;01mif\u001b[39;00m additional_forward_args \u001b[38;5;129;01mis\u001b[39;00m \u001b[38;5;129;01mnot\u001b[39;00m \u001b[38;5;28;01mNone\u001b[39;00m\n\u001b[1;32m    491\u001b[0m     \u001b[38;5;28;01melse\u001b[39;00m inps\n\u001b[1;32m    492\u001b[0m )\n\u001b[0;32m--> 494\u001b[0m attributions \u001b[38;5;241m=\u001b[39m \u001b[38;5;28;43mself\u001b[39;49m\u001b[38;5;241;43m.\u001b[39;49m\u001b[43mig\u001b[49m\u001b[38;5;241;43m.\u001b[39;49m\u001b[43mattribute\u001b[49m\u001b[38;5;241;43m.\u001b[39;49m\u001b[43m__wrapped__\u001b[49m\u001b[43m(\u001b[49m\u001b[43m  \u001b[49m\u001b[38;5;66;43;03m# type: ignore\u001b[39;49;00m\n\u001b[1;32m    495\u001b[0m \u001b[43m    \u001b[49m\u001b[38;5;28;43mself\u001b[39;49m\u001b[38;5;241;43m.\u001b[39;49m\u001b[43mig\u001b[49m\u001b[43m,\u001b[49m\u001b[43m  \u001b[49m\u001b[38;5;66;43;03m# self\u001b[39;49;00m\n\u001b[1;32m    496\u001b[0m \u001b[43m    \u001b[49m\u001b[43minputs_layer\u001b[49m\u001b[43m,\u001b[49m\n\u001b[1;32m    497\u001b[0m \u001b[43m    \u001b[49m\u001b[43mbaselines\u001b[49m\u001b[38;5;241;43m=\u001b[39;49m\u001b[43mbaselines_layer\u001b[49m\u001b[43m,\u001b[49m\n\u001b[1;32m    498\u001b[0m \u001b[43m    \u001b[49m\u001b[43mtarget\u001b[49m\u001b[38;5;241;43m=\u001b[39;49m\u001b[43mtarget\u001b[49m\u001b[43m,\u001b[49m\n\u001b[1;32m    499\u001b[0m \u001b[43m    \u001b[49m\u001b[43madditional_forward_args\u001b[49m\u001b[38;5;241;43m=\u001b[39;49m\u001b[43mall_inputs\u001b[49m\u001b[43m,\u001b[49m\n\u001b[1;32m    500\u001b[0m \u001b[43m    \u001b[49m\u001b[43mn_steps\u001b[49m\u001b[38;5;241;43m=\u001b[39;49m\u001b[43mn_steps\u001b[49m\u001b[43m,\u001b[49m\n\u001b[1;32m    501\u001b[0m \u001b[43m    \u001b[49m\u001b[43mmethod\u001b[49m\u001b[38;5;241;43m=\u001b[39;49m\u001b[43mmethod\u001b[49m\u001b[43m,\u001b[49m\n\u001b[1;32m    502\u001b[0m \u001b[43m    \u001b[49m\u001b[43minternal_batch_size\u001b[49m\u001b[38;5;241;43m=\u001b[39;49m\u001b[43minternal_batch_size\u001b[49m\u001b[43m,\u001b[49m\n\u001b[1;32m    503\u001b[0m \u001b[43m    \u001b[49m\u001b[43mreturn_convergence_delta\u001b[49m\u001b[38;5;241;43m=\u001b[39;49m\u001b[38;5;28;43;01mFalse\u001b[39;49;00m\u001b[43m,\u001b[49m\n\u001b[1;32m    504\u001b[0m \u001b[43m\u001b[49m\u001b[43m)\u001b[49m\n\u001b[1;32m    506\u001b[0m \u001b[38;5;66;03m# handle multiple outputs\u001b[39;00m\n\u001b[1;32m    507\u001b[0m output: List[Tuple[Tensor, \u001b[38;5;241m.\u001b[39m\u001b[38;5;241m.\u001b[39m\u001b[38;5;241m.\u001b[39m]] \u001b[38;5;241m=\u001b[39m [\n\u001b[1;32m    508\u001b[0m     \u001b[38;5;28mtuple\u001b[39m(\n\u001b[1;32m    509\u001b[0m         attributions[\n\u001b[0;32m   (...)\u001b[0m\n\u001b[1;32m    513\u001b[0m     \u001b[38;5;28;01mfor\u001b[39;00m i \u001b[38;5;129;01min\u001b[39;00m \u001b[38;5;28mrange\u001b[39m(\u001b[38;5;28mlen\u001b[39m(num_outputs))\n\u001b[1;32m    514\u001b[0m ]\n",
      "File \u001b[0;32m~/anaconda3/envs/zoonosis/lib/python3.10/site-packages/captum/attr/_core/integrated_gradients.py:286\u001b[0m, in \u001b[0;36mIntegratedGradients.attribute\u001b[0;34m(self, inputs, baselines, target, additional_forward_args, n_steps, method, internal_batch_size, return_convergence_delta)\u001b[0m\n\u001b[1;32m    274\u001b[0m     attributions \u001b[38;5;241m=\u001b[39m _batch_attribution(\n\u001b[1;32m    275\u001b[0m         \u001b[38;5;28mself\u001b[39m,\n\u001b[1;32m    276\u001b[0m         num_examples,\n\u001b[0;32m   (...)\u001b[0m\n\u001b[1;32m    283\u001b[0m         method\u001b[38;5;241m=\u001b[39mmethod,\n\u001b[1;32m    284\u001b[0m     )\n\u001b[1;32m    285\u001b[0m \u001b[38;5;28;01melse\u001b[39;00m:\n\u001b[0;32m--> 286\u001b[0m     attributions \u001b[38;5;241m=\u001b[39m \u001b[38;5;28;43mself\u001b[39;49m\u001b[38;5;241;43m.\u001b[39;49m\u001b[43m_attribute\u001b[49m\u001b[43m(\u001b[49m\n\u001b[1;32m    287\u001b[0m \u001b[43m        \u001b[49m\u001b[43minputs\u001b[49m\u001b[38;5;241;43m=\u001b[39;49m\u001b[43minputs\u001b[49m\u001b[43m,\u001b[49m\n\u001b[1;32m    288\u001b[0m \u001b[43m        \u001b[49m\u001b[43mbaselines\u001b[49m\u001b[38;5;241;43m=\u001b[39;49m\u001b[43mbaselines\u001b[49m\u001b[43m,\u001b[49m\n\u001b[1;32m    289\u001b[0m \u001b[43m        \u001b[49m\u001b[43mtarget\u001b[49m\u001b[38;5;241;43m=\u001b[39;49m\u001b[43mtarget\u001b[49m\u001b[43m,\u001b[49m\n\u001b[1;32m    290\u001b[0m \u001b[43m        \u001b[49m\u001b[43madditional_forward_args\u001b[49m\u001b[38;5;241;43m=\u001b[39;49m\u001b[43madditional_forward_args\u001b[49m\u001b[43m,\u001b[49m\n\u001b[1;32m    291\u001b[0m \u001b[43m        \u001b[49m\u001b[43mn_steps\u001b[49m\u001b[38;5;241;43m=\u001b[39;49m\u001b[43mn_steps\u001b[49m\u001b[43m,\u001b[49m\n\u001b[1;32m    292\u001b[0m \u001b[43m        \u001b[49m\u001b[43mmethod\u001b[49m\u001b[38;5;241;43m=\u001b[39;49m\u001b[43mmethod\u001b[49m\u001b[43m,\u001b[49m\n\u001b[1;32m    293\u001b[0m \u001b[43m    \u001b[49m\u001b[43m)\u001b[49m\n\u001b[1;32m    295\u001b[0m \u001b[38;5;28;01mif\u001b[39;00m return_convergence_delta:\n\u001b[1;32m    296\u001b[0m     start_point, end_point \u001b[38;5;241m=\u001b[39m baselines, inputs\n",
      "File \u001b[0;32m~/anaconda3/envs/zoonosis/lib/python3.10/site-packages/captum/attr/_core/integrated_gradients.py:351\u001b[0m, in \u001b[0;36mIntegratedGradients._attribute\u001b[0;34m(self, inputs, baselines, target, additional_forward_args, n_steps, method, step_sizes_and_alphas)\u001b[0m\n\u001b[1;32m    348\u001b[0m expanded_target \u001b[38;5;241m=\u001b[39m _expand_target(target, n_steps)\n\u001b[1;32m    350\u001b[0m \u001b[38;5;66;03m# grads: dim -> (bsz * #steps x inputs[0].shape[1:], ...)\u001b[39;00m\n\u001b[0;32m--> 351\u001b[0m grads \u001b[38;5;241m=\u001b[39m \u001b[38;5;28;43mself\u001b[39;49m\u001b[38;5;241;43m.\u001b[39;49m\u001b[43mgradient_func\u001b[49m\u001b[43m(\u001b[49m\n\u001b[1;32m    352\u001b[0m \u001b[43m    \u001b[49m\u001b[43mforward_fn\u001b[49m\u001b[38;5;241;43m=\u001b[39;49m\u001b[38;5;28;43mself\u001b[39;49m\u001b[38;5;241;43m.\u001b[39;49m\u001b[43mforward_func\u001b[49m\u001b[43m,\u001b[49m\n\u001b[1;32m    353\u001b[0m \u001b[43m    \u001b[49m\u001b[43minputs\u001b[49m\u001b[38;5;241;43m=\u001b[39;49m\u001b[43mscaled_features_tpl\u001b[49m\u001b[43m,\u001b[49m\n\u001b[1;32m    354\u001b[0m \u001b[43m    \u001b[49m\u001b[43mtarget_ind\u001b[49m\u001b[38;5;241;43m=\u001b[39;49m\u001b[43mexpanded_target\u001b[49m\u001b[43m,\u001b[49m\n\u001b[1;32m    355\u001b[0m \u001b[43m    \u001b[49m\u001b[43madditional_forward_args\u001b[49m\u001b[38;5;241;43m=\u001b[39;49m\u001b[43minput_additional_args\u001b[49m\u001b[43m,\u001b[49m\n\u001b[1;32m    356\u001b[0m \u001b[43m\u001b[49m\u001b[43m)\u001b[49m\n\u001b[1;32m    358\u001b[0m \u001b[38;5;66;03m# flattening grads so that we can multilpy it with step-size\u001b[39;00m\n\u001b[1;32m    359\u001b[0m \u001b[38;5;66;03m# calling contiguous to avoid `memory whole` problems\u001b[39;00m\n\u001b[1;32m    360\u001b[0m scaled_grads \u001b[38;5;241m=\u001b[39m [\n\u001b[1;32m    361\u001b[0m     grad\u001b[38;5;241m.\u001b[39mcontiguous()\u001b[38;5;241m.\u001b[39mview(n_steps, \u001b[38;5;241m-\u001b[39m\u001b[38;5;241m1\u001b[39m)\n\u001b[1;32m    362\u001b[0m     \u001b[38;5;241m*\u001b[39m torch\u001b[38;5;241m.\u001b[39mtensor(step_sizes)\u001b[38;5;241m.\u001b[39mview(n_steps, \u001b[38;5;241m1\u001b[39m)\u001b[38;5;241m.\u001b[39mto(grad\u001b[38;5;241m.\u001b[39mdevice)\n\u001b[1;32m    363\u001b[0m     \u001b[38;5;28;01mfor\u001b[39;00m grad \u001b[38;5;129;01min\u001b[39;00m grads\n\u001b[1;32m    364\u001b[0m ]\n",
      "File \u001b[0;32m~/anaconda3/envs/zoonosis/lib/python3.10/site-packages/captum/attr/_core/layer/layer_integrated_gradients.py:484\u001b[0m, in \u001b[0;36mLayerIntegratedGradients.attribute.<locals>.gradient_func\u001b[0;34m(forward_fn, inputs, target_ind, additional_forward_args)\u001b[0m\n\u001b[1;32m    478\u001b[0m     \u001b[38;5;28;01massert\u001b[39;00m output[\u001b[38;5;241m0\u001b[39m]\u001b[38;5;241m.\u001b[39mnumel() \u001b[38;5;241m==\u001b[39m \u001b[38;5;241m1\u001b[39m, (\n\u001b[1;32m    479\u001b[0m         \u001b[38;5;124m\"\u001b[39m\u001b[38;5;124mTarget not provided when necessary, cannot\u001b[39m\u001b[38;5;124m\"\u001b[39m\n\u001b[1;32m    480\u001b[0m         \u001b[38;5;124m\"\u001b[39m\u001b[38;5;124m take gradient with respect to multiple outputs.\u001b[39m\u001b[38;5;124m\"\u001b[39m\n\u001b[1;32m    481\u001b[0m     )\n\u001b[1;32m    482\u001b[0m     \u001b[38;5;66;03m# torch.unbind(forward_out) is a list of scalar tensor tuples and\u001b[39;00m\n\u001b[1;32m    483\u001b[0m     \u001b[38;5;66;03m# contains batch_size * #steps elements\u001b[39;00m\n\u001b[0;32m--> 484\u001b[0m     grads \u001b[38;5;241m=\u001b[39m \u001b[43mtorch\u001b[49m\u001b[38;5;241;43m.\u001b[39;49m\u001b[43mautograd\u001b[49m\u001b[38;5;241;43m.\u001b[39;49m\u001b[43mgrad\u001b[49m\u001b[43m(\u001b[49m\u001b[43mtorch\u001b[49m\u001b[38;5;241;43m.\u001b[39;49m\u001b[43munbind\u001b[49m\u001b[43m(\u001b[49m\u001b[43moutput\u001b[49m\u001b[43m)\u001b[49m\u001b[43m,\u001b[49m\u001b[43m \u001b[49m\u001b[43minputs\u001b[49m\u001b[43m)\u001b[49m\n\u001b[1;32m    485\u001b[0m \u001b[38;5;28;01mreturn\u001b[39;00m grads\n",
      "File \u001b[0;32m~/anaconda3/envs/zoonosis/lib/python3.10/site-packages/torch/autograd/__init__.py:303\u001b[0m, in \u001b[0;36mgrad\u001b[0;34m(outputs, inputs, grad_outputs, retain_graph, create_graph, only_inputs, allow_unused, is_grads_batched)\u001b[0m\n\u001b[1;32m    301\u001b[0m     \u001b[38;5;28;01mreturn\u001b[39;00m _vmap_internals\u001b[38;5;241m.\u001b[39m_vmap(vjp, \u001b[38;5;241m0\u001b[39m, \u001b[38;5;241m0\u001b[39m, allow_none_pass_through\u001b[38;5;241m=\u001b[39m\u001b[38;5;28;01mTrue\u001b[39;00m)(grad_outputs_)\n\u001b[1;32m    302\u001b[0m \u001b[38;5;28;01melse\u001b[39;00m:\n\u001b[0;32m--> 303\u001b[0m     \u001b[38;5;28;01mreturn\u001b[39;00m \u001b[43mVariable\u001b[49m\u001b[38;5;241;43m.\u001b[39;49m\u001b[43m_execution_engine\u001b[49m\u001b[38;5;241;43m.\u001b[39;49m\u001b[43mrun_backward\u001b[49m\u001b[43m(\u001b[49m\u001b[43m  \u001b[49m\u001b[38;5;66;43;03m# Calls into the C++ engine to run the backward pass\u001b[39;49;00m\n\u001b[1;32m    304\u001b[0m \u001b[43m        \u001b[49m\u001b[43mt_outputs\u001b[49m\u001b[43m,\u001b[49m\u001b[43m \u001b[49m\u001b[43mgrad_outputs_\u001b[49m\u001b[43m,\u001b[49m\u001b[43m \u001b[49m\u001b[43mretain_graph\u001b[49m\u001b[43m,\u001b[49m\u001b[43m \u001b[49m\u001b[43mcreate_graph\u001b[49m\u001b[43m,\u001b[49m\u001b[43m \u001b[49m\u001b[43mt_inputs\u001b[49m\u001b[43m,\u001b[49m\n\u001b[1;32m    305\u001b[0m \u001b[43m        \u001b[49m\u001b[43mallow_unused\u001b[49m\u001b[43m,\u001b[49m\u001b[43m \u001b[49m\u001b[43maccumulate_grad\u001b[49m\u001b[38;5;241;43m=\u001b[39;49m\u001b[38;5;28;43;01mFalse\u001b[39;49;00m\u001b[43m)\u001b[49m\n",
      "\u001b[0;31mOutOfMemoryError\u001b[0m: CUDA out of memory. Tried to allocate 486.00 MiB (GPU 0; 12.00 GiB total capacity; 7.06 GiB already allocated; 382.86 MiB free; 7.21 GiB reserved in total by PyTorch) If reserved memory is >> allocated memory try setting max_split_size_mb to avoid fragmentation.  See documentation for Memory Management and PYTORCH_CUDA_ALLOC_CONF"
     ]
    }
   ],
   "source": [
    "reference_seq = TokenReferenceBase(reference_token_idx=0).generate_reference(test_sequence_settings[\"max_sequence_length\"],\n",
    "                                                                       device=nn_utils.get_device()).unsqueeze(0)\n",
    "n_attr_dfs.append({\n",
    "    \"model\": \"LSTM\",\n",
    "    \"method\": \"LayerIntegratedGradients\",\n",
    "    \"class\": \"Human\",\n",
    "    \"attr_df\": compute_lig_attributions(lstm_model, human_inputs, target=1, reference_seq=reference_seq)\n",
    "})\n",
    "\n",
    "n_attr_dfs.append({\n",
    "    \"model\": \"LSTM\",\n",
    "    \"method\": \"LayerIntegratedGradients\",\n",
    "    \"class\": \"Boar\",\n",
    "    \"attr_df\": compute_lig_attributions(lstm_model, boar_inputs, target=0, reference_seq=reference_seq)\n",
    "})"
   ]
  },
  {
   "cell_type": "code",
   "execution_count": null,
   "id": "1a0f065c",
   "metadata": {},
   "outputs": [],
   "source": [
    "reference_seq = TokenReferenceBase(reference_token_idx=0).generate_reference(test_sequence_settings[\"max_sequence_length\"],\n",
    "                                                                       device=nn_utils.get_device()).unsqueeze(0)\n",
    "single_seq_attr_dfs.append({\n",
    "    \"model\": \"CNN\",\n",
    "    \"method\": \"LayerIntegratedGradients\",\n",
    "    \"class\": \"Human\",\n",
    "    \"attr_df\": compute_lig_attributions(cnn_model, [human_input], target=1, reference_seq=reference_seq)\n",
    "})\n",
    "\n",
    "single_seq_attr_dfs.append({\n",
    "    \"model\": \"CNN\",\n",
    "    \"method\": \"LayerIntegratedGradients\",\n",
    "    \"class\": \"Boar\",\n",
    "    \"attr_df\": compute_lig_attributions(cnn_model, [boar_input], target=0, reference_seq=reference_seq)\n",
    "})\n"
   ]
  },
  {
   "cell_type": "code",
   "execution_count": null,
   "id": "a8081eb3",
   "metadata": {},
   "outputs": [],
   "source": [
    "reference_seq = TokenReferenceBase(reference_token_idx=0).generate_reference(test_sequence_settings[\"max_sequence_length\"],\n",
    "                                                                       device=nn_utils.get_device()).unsqueeze(0)\n",
    "single_seq_attr_dfs.append({\n",
    "    \"model\": \"LSTM\",\n",
    "    \"method\": \"LayerIntegratedGradients\",\n",
    "    \"class\": \"Human\",\n",
    "    \"attr_df\": compute_lig_attributions(lstm_model, [human_input], target=1, reference_seq=reference_seq)\n",
    "})\n",
    "\n",
    "single_seq_attr_dfs.append({\n",
    "    \"model\": \"LSTM\",\n",
    "    \"method\": \"LayerIntegratedGradients\",\n",
    "    \"class\": \"Boar\",\n",
    "    \"attr_df\": compute_lig_attributions(lstm_model, [boar_input], target=0, reference_seq=reference_seq)\n",
    "})"
   ]
  },
  {
   "cell_type": "markdown",
   "id": "c9dbac10",
   "metadata": {},
   "source": [
    "### LayerDeepLift"
   ]
  },
  {
   "cell_type": "code",
   "execution_count": null,
   "id": "58a15e0f",
   "metadata": {},
   "outputs": [],
   "source": [
    "def compute_ldeeplift_attributions(model, inputs, reference_seq, target):\n",
    "    attributions = []\n",
    "    for seq, label in inputs:\n",
    "        interpreter = LayerDeepLift(model, model.embedding)\n",
    "        attribution = interpreter.attribute(seq, baselines=reference_seq, target=target)\n",
    "        \n",
    "        attribution = attribution.sum(dim=2).squeeze(0)\n",
    "        attribution = attribution / torch.norm(attribution)\n",
    "        attributions.append(attribution.detach().cpu().numpy())\n",
    "    return pd.DataFrame(attributions)"
   ]
  },
  {
   "cell_type": "code",
   "execution_count": null,
   "id": "ff3c1e72",
   "metadata": {},
   "outputs": [],
   "source": [
    "reference_seq = TokenReferenceBase(reference_token_idx=0).generate_reference(test_sequence_settings[\"max_sequence_length\"],\n",
    "                                                                       device=nn_utils.get_device()).unsqueeze(0)\n",
    "n_attr_dfs.append({\n",
    "    \"model\": \"CNN\",\n",
    "    \"method\": \"LayerDeepLift\",\n",
    "    \"class\": \"Human\",\n",
    "    \"attr_df\": compute_ldeeplift_attributions(cnn_model, human_inputs, reference_seq, target=1)\n",
    "})\n",
    "\n",
    "n_attr_dfs.append({\n",
    "    \"model\": \"CNN\",\n",
    "    \"method\": \"LayerDeepLift\",\n",
    "    \"class\": \"Boar\",\n",
    "    \"attr_df\": compute_ldeeplift_attributions(cnn_model, boar_inputs, reference_seq, target=0)\n",
    "})"
   ]
  },
  {
   "cell_type": "code",
   "execution_count": null,
   "id": "7a1a7e89",
   "metadata": {},
   "outputs": [],
   "source": [
    "reference_seq = TokenReferenceBase(reference_token_idx=0).generate_reference(test_sequence_settings[\"max_sequence_length\"],\n",
    "                                                                       device=nn_utils.get_device()).unsqueeze(0)\n",
    "n_attr_dfs.append({\n",
    "    \"model\": \"LSTM\",\n",
    "    \"method\": \"LayerDeepLift\",\n",
    "    \"class\": \"Human\",\n",
    "    \"attr_df\": compute_ldeeplift_attributions(lstm_model, human_inputs, reference_seq, target=1)\n",
    "})\n",
    "\n",
    "n_attr_dfs.append({\n",
    "    \"model\": \"LSTM\",\n",
    "    \"method\": \"LayerDeepLift\",\n",
    "    \"class\": \"Boar\",\n",
    "    \"attr_df\": compute_ldeeplift_attributions(lstm_model, boar_inputs, reference_seq, target=0)\n",
    "})"
   ]
  },
  {
   "cell_type": "code",
   "execution_count": null,
   "id": "ac0ce369",
   "metadata": {},
   "outputs": [],
   "source": [
    "single_seq_attr_dfs.append({\n",
    "    \"model\": \"CNN\",\n",
    "    \"method\": \"LayerDeepLift\",\n",
    "    \"class\": \"Human\",\n",
    "    \"attr_df\": compute_ldeeplift_attributions(cnn_model, [human_input], reference_seq, target=1)\n",
    "})\n",
    "\n",
    "single_seq_attr_dfs.append({\n",
    "    \"model\": \"CNN\",\n",
    "    \"method\": \"LayerDeepLift\",\n",
    "    \"class\": \"Boar\",\n",
    "    \"attr_df\": compute_ldeeplift_attributions(cnn_model, [boar_input], reference_seq, target=0)\n",
    "})"
   ]
  },
  {
   "cell_type": "code",
   "execution_count": null,
   "id": "6fe85fa0",
   "metadata": {},
   "outputs": [],
   "source": [
    "single_seq_attr_dfs.append({\n",
    "    \"model\": \"LSTM\",\n",
    "    \"method\": \"LayerDeepLift\",\n",
    "    \"class\": \"Human\",\n",
    "    \"attr_df\": compute_ldeeplift_attributions(lstm_model, [human_input], reference_seq, target=1)\n",
    "})\n",
    "\n",
    "single_seq_attr_dfs.append({\n",
    "    \"model\": \"LSTM\",\n",
    "    \"method\": \"LayerDeepLift\",\n",
    "    \"class\": \"Boar\",\n",
    "    \"attr_df\": compute_ldeeplift_attributions(lstm_model, [boar_input], reference_seq, target=0)\n",
    "})"
   ]
  },
  {
   "cell_type": "markdown",
   "id": "da742e61",
   "metadata": {},
   "source": [
    "### Attention - Only for Transformer"
   ]
  },
  {
   "cell_type": "code",
   "execution_count": null,
   "id": "ad298acd",
   "metadata": {},
   "outputs": [],
   "source": [
    "def compute_attention_attributions(tf_model, inputs):\n",
    "    tf_model.eval()\n",
    "    attn_dfs = []\n",
    "    \n",
    "    for seq, label in inputs:\n",
    "        tf_model(seq)\n",
    "        attn_values = tf_model.encoder.layers[5].self_attn.self_attn.squeeze()\n",
    "        mean_attn_values = torch.mean(attn_values, dim=0)\n",
    "        mean_of_mean = torch.mean(mean_attn_values, dim=0, keepdim=True)\n",
    "        df = pd.DataFrame(mean_of_mean.cpu().detach().numpy())\n",
    "        attn_dfs.append(df)\n",
    "\n",
    "    return pd.concat(attn_dfs, axis=0)"
   ]
  },
  {
   "cell_type": "code",
   "execution_count": null,
   "id": "5fb44389",
   "metadata": {},
   "outputs": [],
   "source": [
    "n_attr_dfs.append({\n",
    "    \"model\": \"TF\",\n",
    "    \"method\": \"Attention\",\n",
    "    \"class\": \"Human\",\n",
    "    \"attr_df\": compute_attention_attributions(tf_custom_model, human_inputs)\n",
    "})\n",
    "\n",
    "n_attr_dfs.append({\n",
    "    \"model\": \"TF\",\n",
    "    \"method\": \"Attention\",\n",
    "    \"class\": \"Boar\",\n",
    "    \"attr_df\": compute_attention_attributions(tf_custom_model, boar_inputs)\n",
    "})"
   ]
  },
  {
   "cell_type": "code",
   "execution_count": null,
   "id": "164a6ce8",
   "metadata": {},
   "outputs": [],
   "source": [
    "single_seq_attr_dfs.append({\n",
    "    \"model\": \"TF\",\n",
    "    \"method\": \"Attention\",\n",
    "    \"class\": \"Human\",\n",
    "    \"attr_df\": compute_attention_attributions(tf_custom_model, [human_input])\n",
    "})\n",
    "\n",
    "single_seq_attr_dfs.append({\n",
    "    \"model\": \"TF\",\n",
    "    \"method\": \"Attention\",\n",
    "    \"class\": \"Boar\",\n",
    "    \"attr_df\": compute_attention_attributions(tf_custom_model, [boar_input])\n",
    "})"
   ]
  },
  {
   "cell_type": "markdown",
   "id": "c867f05d",
   "metadata": {},
   "source": [
    "### LayerLRP"
   ]
  },
  {
   "cell_type": "code",
   "execution_count": 31,
   "id": "f05ac6b1",
   "metadata": {},
   "outputs": [],
   "source": [
    "def compute_llrp_attributions(model, inputs, target):\n",
    "    attributions = []\n",
    "    for seq, label in inputs:\n",
    "        interpreter = LayerLRP(model, model.embedding)\n",
    "        attribution = interpreter.attribute(seq, target=target)\n",
    "        \n",
    "        attribution = attribution.sum(dim=2).squeeze(0)\n",
    "        attribution = attribution / torch.norm(attribution)\n",
    "        attributions.append(attribution.detach().cpu().numpy())\n",
    "    return pd.DataFrame(attributions)\n",
    "\n",
    "\n",
    "def compute_target_llrp_attributions(model, model_name, target, n=10):\n",
    "    _, human_dataset_loader = get_target_dataset_loader(target)\n",
    "    inputs = []\n",
    "    for i in range(n):\n",
    "        inputs.append(next(iter(human_dataset_loader)))\n",
    "    interpret_results_df = compute_llrp_attributions(model, inputs, target=2)\n",
    "    plot_top_n_attr(interpret_results_df, n=10)"
   ]
  },
  {
   "cell_type": "code",
   "execution_count": null,
   "id": "9338e429",
   "metadata": {},
   "outputs": [],
   "source": [
    "compute_target_llrp_attributions(cnn_model, \"CNN\", target=\"Homo sapiens (Human) [TaxID: 9606]\", n=10)\n",
    "compute_target_llrp_attributions(cnn_model, \"CNN\", target=\"Sus scrofa (Pig) [TaxID: 9823]\", n=10)"
   ]
  },
  {
   "cell_type": "code",
   "execution_count": null,
   "id": "9d2ef107",
   "metadata": {},
   "outputs": [],
   "source": [
    "compute_target_llrp_attributions(lstm_model, \"LSTM\", target=\"Homo sapiens (Human) [TaxID: 9606]\", n=10)\n",
    "compute_target_llrp_attributions(lstm_model, \"LSTM\", target=\"Sus scrofa (Pig) [TaxID: 9823]\", n=10)"
   ]
  },
  {
   "cell_type": "markdown",
   "id": "0a17079e",
   "metadata": {},
   "source": [
    "### Visualization for n=20 Human sequences"
   ]
  },
  {
   "cell_type": "code",
   "execution_count": null,
   "id": "3a7d0b39",
   "metadata": {},
   "outputs": [],
   "source": [
    "n_attr_dfs"
   ]
  },
  {
   "cell_type": "markdown",
   "id": "93eba486",
   "metadata": {},
   "source": [
    "#### Attribution values for n=20 sequences for all model-method combinations - Human"
   ]
  },
  {
   "cell_type": "code",
   "execution_count": null,
   "id": "31da9ac2",
   "metadata": {},
   "outputs": [],
   "source": [
    "figs, axs = plt.subplots(2, 4, figsize=(48, 18))\n",
    "\n",
    "def draw_subplot(model, method, class_name, ax):\n",
    "    entry = list(filter(lambda x: x[\"model\"] == model and x[\"method\"] == method and x[\"class\"] == class_name, n_attr_dfs))[0]\n",
    "    df = entry[\"attr_df\"]\n",
    "    sns.heatmap(df, ax=ax)\n",
    "    ax.set_title(f\"{model}-{method}\")\n",
    "\n",
    "\n",
    "# 0, 0: CNN-LayerGradientXActivation\n",
    "draw_subplot(\"CNN\", \"LayerGradientXActivation\", \"Human\", axs[0, 0])\n",
    "\n",
    "# 0, 1: CNN-LayerIntegratedGradients\n",
    "draw_subplot(\"CNN\", \"LayerIntegratedGradients\", \"Human\", axs[0, 1])\n",
    "\n",
    "# 0, 2: CNN-LayerDeepLift\n",
    "draw_subplot(\"CNN\", \"LayerDeepLift\", \"Human\", axs[0, 2])\n",
    "\n",
    "# 0, 3: TF-Attention\n",
    "draw_subplot(\"TF\", \"Attention\", \"Human\", axs[0, 3])\n",
    "\n",
    "# 1, 0: LSTM-LayerGradientXActivation\n",
    "draw_subplot(\"LSTM\", \"LayerGradientXActivation\", \"Human\", axs[1, 0])\n",
    "\n",
    "# 1, 1: LSTM-LayerIntegratedGradients\n",
    "draw_subplot(\"LSTM\", \"LayerIntegratedGradients\", \"Human\", axs[1, 1])\n",
    "\n",
    "# 1, 2: LSTM-LayerDeepLift\n",
    "draw_subplot(\"LSTM\", \"LayerDeepLift\", \"Human\", axs[1, 2])\n",
    "\n",
    "# 1, 3: TF-Attention\n",
    "draw_subplot(\"TF\", \"Attention\", \"Human\", axs[1, 3])\n",
    "\n",
    "plt.show()"
   ]
  },
  {
   "cell_type": "code",
   "execution_count": null,
   "id": "f6b0cde0",
   "metadata": {},
   "outputs": [],
   "source": [
    "figs, axs = plt.subplots(2, 4, figsize=(48, 18))\n",
    "\n",
    "def draw_subplot(model, method, class_name, ax):\n",
    "    entry = list(filter(lambda x: x[\"model\"] == model and x[\"method\"] == method and x[\"class\"] == class_name, n_attr_dfs))[0]\n",
    "    df = entry[\"attr_df\"]\n",
    "    sns.heatmap(df, ax=ax)\n",
    "    ax.set_title(f\"{model}-{method}\")\n",
    "\n",
    "\n",
    "# 0, 0: CNN-LayerGradientXActivation\n",
    "draw_subplot(\"CNN\", \"LayerGradientXActivation\", \"Boar\", axs[0, 0])\n",
    "\n",
    "# 0, 1: CNN-LayerIntegratedGradients\n",
    "draw_subplot(\"CNN\", \"LayerIntegratedGradients\", \"Boar\", axs[0, 1])\n",
    "\n",
    "# 0, 2: CNN-LayerDeepLift\n",
    "draw_subplot(\"CNN\", \"LayerDeepLift\", \"Boar\", axs[0, 2])\n",
    "\n",
    "# 0, 3: TF-Attention\n",
    "draw_subplot(\"TF\", \"Attention\", \"Boar\", axs[0, 3])\n",
    "\n",
    "# 1, 0: LSTM-LayerGradientXActivation\n",
    "draw_subplot(\"LSTM\", \"LayerGradientXActivation\", \"Boar\", axs[1, 0])\n",
    "\n",
    "# 1, 1: LSTM-LayerIntegratedGradients\n",
    "draw_subplot(\"LSTM\", \"LayerIntegratedGradients\", \"Boar\", axs[1, 1])\n",
    "\n",
    "# 1, 2: LSTM-LayerDeepLift\n",
    "draw_subplot(\"LSTM\", \"LayerDeepLift\", \"Boar\", axs[1, 2])\n",
    "\n",
    "# 1, 3: TF-Attention\n",
    "draw_subplot(\"TF\", \"Attention\", \"Boar\", axs[1, 3])\n",
    "\n",
    "plt.show()"
   ]
  },
  {
   "cell_type": "markdown",
   "id": "ac6b314e",
   "metadata": {},
   "source": [
    "### Single Sequence Attribution Value Analysis"
   ]
  },
  {
   "cell_type": "code",
   "execution_count": null,
   "id": "53e1d9ac",
   "metadata": {},
   "outputs": [],
   "source": [
    "# compute ranks\n",
    "for entry in single_seq_attr_dfs:\n",
    "    attr_df = entry[\"attr_df\"]\n",
    "    attr = attr_df.iloc[0, :].values\n",
    "    attr_abs = np.abs(attr)\n",
    "    # top 20 attr values\n",
    "    entry[\"top_n_attr\"] = np.argsort(attr_abs)[-20:]"
   ]
  },
  {
   "cell_type": "code",
   "execution_count": null,
   "id": "e71bdb6f",
   "metadata": {},
   "outputs": [],
   "source": [
    "entry"
   ]
  },
  {
   "cell_type": "code",
   "execution_count": null,
   "id": "c07521eb",
   "metadata": {},
   "outputs": [],
   "source": [
    "df = pd.DataFrame(single_seq_attr_dfs)\n",
    "df.drop(columns=\"attr_df\", inplace=True)"
   ]
  },
  {
   "cell_type": "code",
   "execution_count": null,
   "id": "2219e0c6",
   "metadata": {},
   "outputs": [],
   "source": [
    "def jaccard_sim(a, b):\n",
    "    a = set(a)\n",
    "    b = set(b)\n",
    "    union = len(a.union(b))\n",
    "    intersection = len(a.intersection(b))\n",
    "    return intersection / union\n",
    "\n",
    "def jaccard_analysis(df):\n",
    "    df[\"model-method\"] = df[\"model\"] + \"-\" + df[\"method\"]\n",
    "    sim_list = []\n",
    "    model_method_vals = df[\"model-method\"].unique()\n",
    "    for val_1 in model_method_vals:\n",
    "        for val_2 in model_method_vals:\n",
    "            series_1 = list(df[df[\"model-method\"] == val_1][\"top_n_attr\"].values[0])\n",
    "            series_2 = list(df[df[\"model-method\"] == val_2][\"top_n_attr\"].values[0])\n",
    "            sim_list.append({\n",
    "                \"model-method-1\": val_1,\n",
    "                \"model-method-2\": val_2,\n",
    "                \"jaccard_sim\": jaccard_sim(series_1, series_2)\n",
    "            })\n",
    "    sim_df = pd.DataFrame(sim_list)\n",
    "    sim_df_pivot = sim_df.pivot(columns=\"model-method-2\", index=\"model-method-1\", values=\"jaccard_sim\")\n",
    "    sns.heatmap(sim_df_pivot, linewidth=.5)\n",
    "    plt.show()"
   ]
  },
  {
   "cell_type": "markdown",
   "id": "27e51f11",
   "metadata": {},
   "source": [
    "#### Jaccard similarity between top 20 positions for different model-method combination pairs - Human class"
   ]
  },
  {
   "cell_type": "code",
   "execution_count": null,
   "id": "73ae1b5a",
   "metadata": {},
   "outputs": [],
   "source": [
    "human_df = df[df[\"class\"] == \"Human\"]\n",
    "jaccard_analysis(human_df)"
   ]
  },
  {
   "cell_type": "markdown",
   "id": "99e2b070",
   "metadata": {},
   "source": [
    "#### Jaccard similarity between top 20 positions for different model-method combination pairs - Boar class"
   ]
  },
  {
   "cell_type": "code",
   "execution_count": null,
   "id": "64070f4a",
   "metadata": {},
   "outputs": [],
   "source": [
    "pig_df = df[df[\"class\"] == \"Boar\"]\n",
    "jaccard_analysis(pig_df)"
   ]
  },
  {
   "cell_type": "code",
   "execution_count": null,
   "id": "294d0f42",
   "metadata": {},
   "outputs": [],
   "source": [
    "df"
   ]
  },
  {
   "cell_type": "code",
   "execution_count": null,
   "id": "a8dfc615",
   "metadata": {},
   "outputs": [],
   "source": [
    "# map the perturb positions to sequence positions\n",
    "df[\"top_n_pos_attr\"] = df[\"top_n_attr\"].apply(lambda x: [human_input_seq_pos_map[item] for item in x])"
   ]
  },
  {
   "cell_type": "code",
   "execution_count": 50,
   "id": "03b26935",
   "metadata": {},
   "outputs": [],
   "source": [
    "df[\"model-method\"] = df[\"model\"] + \" - \" + df[\"method\"]\n",
    "exploded_df = df.explode(\"top_n_attr\")"
   ]
  },
  {
   "cell_type": "code",
   "execution_count": 51,
   "id": "3e8d86a5",
   "metadata": {},
   "outputs": [
    {
     "data": {
      "image/png": "[encoded data removed]",
      "text/plain": [
       "<Figure size 1400x800 with 1 Axes>"
      ]
     },
     "metadata": {},
     "output_type": "display_data"
    }
   ],
   "source": [
    "plt.figure(figsize=(14,8))\n",
    "ax = sns.scatterplot(data=exploded_df[exploded_df[\"class\"] == \"Human\"], x=\"top_n_attr\", y=\"model-method\")\n",
    "plt.show()"
   ]
  },
  {
   "cell_type": "code",
   "execution_count": 52,
   "id": "ca6bea12",
   "metadata": {},
   "outputs": [
    {
     "data": {
      "image/png": "[encoded data removed]",
      "text/plain": [
       "<Figure size 1400x800 with 1 Axes>"
      ]
     },
     "metadata": {},
     "output_type": "display_data"
    }
   ],
   "source": [
    "plt.figure(figsize=(14,8))\n",
    "ax = sns.scatterplot(data=exploded_df[exploded_df[\"class\"] == \"Boar\"], x=\"top_n_attr\", y=\"model-method\")\n",
    "plt.show()"
   ]
  },
  {
   "cell_type": "markdown",
   "id": "24959a7f",
   "metadata": {},
   "source": [
    "### LayerIntegratedGradients and LayerDeepLift with different host reference sequences"
   ]
  },
  {
   "cell_type": "code",
   "execution_count": 53,
   "id": "b7d036bd",
   "metadata": {},
   "outputs": [
    {
     "data": {
      "text/plain": [
       "{'Human': ['Human'], 'Boar': ['Boar'], 'Others': ['*']}"
      ]
     },
     "execution_count": 53,
     "metadata": {},
     "output_type": "execute_result"
    }
   ],
   "source": [
    "label_groupings"
   ]
  },
  {
   "cell_type": "code",
   "execution_count": 63,
   "id": "3fc31a97",
   "metadata": {},
   "outputs": [
    {
     "name": "stdout",
     "output_type": "stream",
     "text": [
      "Key: Human, Value: Human\n",
      "Size Human df = (698, 6)\n",
      "Grouping labels using config : {'Human': ['Human'], 'Boar': ['Boar'], 'Others': ['*']}\n",
      "label_idx_map={'Boar': 0, 'Human': 1, 'Others': 2}\n",
      "idx_label_map={0: 'Boar', 1: 'Human', 2: 'Others'}\n"
     ]
    },
    {
     "name": "stderr",
     "output_type": "stream",
     "text": [
      "/home/grads/blessyantony/dev/git/zoonosis/src/jupyter_notebooks/interpretation/hev-aligned/../../../../src/utils/utils.py:57: SettingWithCopyWarning: \n",
      "A value is trying to be set on a copy of a slice from a DataFrame\n",
      "\n",
      "See the caveats in the documentation: https://pandas.pydata.org/pandas-docs/stable/user_guide/indexing.html#returning-a-view-versus-a-copy\n",
      "  df.loc[df[label_col].isin(v), label_col] = k\n",
      "/home/grads/blessyantony/dev/git/zoonosis/src/jupyter_notebooks/interpretation/hev-aligned/../../../../src/utils/utils.py:60: SettingWithCopyWarning: \n",
      "A value is trying to be set on a copy of a slice from a DataFrame\n",
      "\n",
      "See the caveats in the documentation: https://pandas.pydata.org/pandas-docs/stable/user_guide/indexing.html#returning-a-view-versus-a-copy\n",
      "  df.loc[~df[label_col].isin(values), label_col] = group_others_key\n",
      "/home/grads/blessyantony/dev/git/zoonosis/src/jupyter_notebooks/interpretation/hev-aligned/../../../../src/utils/utils.py:45: SettingWithCopyWarning: \n",
      "A value is trying to be set on a copy of a slice from a DataFrame.\n",
      "Try using .loc[row_indexer,col_indexer] = value instead\n",
      "\n",
      "See the caveats in the documentation: https://pandas.pydata.org/pandas-docs/stable/user_guide/indexing.html#returning-a-view-versus-a-copy\n",
      "  df[label_col] = df[label_col].transform(lambda x: label_idx_map[x])\n",
      "/home/grads/blessyantony/dev/git/zoonosis/src/jupyter_notebooks/interpretation/hev-aligned/../../../datasets/protein_sequence_dataset.py:29: SettingWithCopyWarning: \n",
      "A value is trying to be set on a copy of a slice from a DataFrame.\n",
      "Try using .loc[row_indexer,col_indexer] = value instead\n",
      "\n",
      "See the caveats in the documentation: https://pandas.pydata.org/pandas-docs/stable/user_guide/indexing.html#returning-a-view-versus-a-copy\n",
      "  df[self.sequence_col] = df[self.sequence_col].apply(lambda x: x[0:self.max_seq_len])\n"
     ]
    },
    {
     "ename": "OutOfMemoryError",
     "evalue": "CUDA out of memory. Tried to allocate 5.21 GiB (GPU 0; 12.00 GiB total capacity; 3.63 GiB already allocated; 1.56 GiB free; 8.80 GiB reserved in total by PyTorch) If reserved memory is >> allocated memory try setting max_split_size_mb to avoid fragmentation.  See documentation for Memory Management and PYTORCH_CUDA_ALLOC_CONF",
     "output_type": "error",
     "traceback": [
      "\u001b[0;31m---------------------------------------------------------------------------\u001b[0m",
      "\u001b[0;31mOutOfMemoryError\u001b[0m                          Traceback (most recent call last)",
      "Cell \u001b[0;32mIn[63], line 20\u001b[0m\n\u001b[1;32m      7\u001b[0m ref_seq, ref_label \u001b[38;5;241m=\u001b[39m \u001b[38;5;28mnext\u001b[39m(\u001b[38;5;28miter\u001b[39m(target_dataset_loader))\n\u001b[1;32m      9\u001b[0m single_seq_attr_diff_ref_dfs\u001b[38;5;241m.\u001b[39mappend({\n\u001b[1;32m     10\u001b[0m     \u001b[38;5;124m\"\u001b[39m\u001b[38;5;124mmodel\u001b[39m\u001b[38;5;124m\"\u001b[39m: \u001b[38;5;124m\"\u001b[39m\u001b[38;5;124mCNN\u001b[39m\u001b[38;5;124m\"\u001b[39m,\n\u001b[1;32m     11\u001b[0m     \u001b[38;5;124m\"\u001b[39m\u001b[38;5;124mmethod\u001b[39m\u001b[38;5;124m\"\u001b[39m: \u001b[38;5;124m\"\u001b[39m\u001b[38;5;124mLayerIntegratedGradients\u001b[39m\u001b[38;5;124m\"\u001b[39m,\n\u001b[1;32m     12\u001b[0m     \u001b[38;5;124m\"\u001b[39m\u001b[38;5;124mref_class\u001b[39m\u001b[38;5;124m\"\u001b[39m: key,\n\u001b[1;32m     13\u001b[0m     \u001b[38;5;124m\"\u001b[39m\u001b[38;5;124mattr_df\u001b[39m\u001b[38;5;124m\"\u001b[39m: compute_lig_attributions(cnn_model, [human_input], target\u001b[38;5;241m=\u001b[39m\u001b[38;5;241m1\u001b[39m, reference_seq\u001b[38;5;241m=\u001b[39mreference_seq)\n\u001b[1;32m     14\u001b[0m })\n\u001b[1;32m     16\u001b[0m single_seq_attr_diff_ref_dfs\u001b[38;5;241m.\u001b[39mappend({\n\u001b[1;32m     17\u001b[0m     \u001b[38;5;124m\"\u001b[39m\u001b[38;5;124mmodel\u001b[39m\u001b[38;5;124m\"\u001b[39m: \u001b[38;5;124m\"\u001b[39m\u001b[38;5;124mLSTM\u001b[39m\u001b[38;5;124m\"\u001b[39m,\n\u001b[1;32m     18\u001b[0m     \u001b[38;5;124m\"\u001b[39m\u001b[38;5;124mmethod\u001b[39m\u001b[38;5;124m\"\u001b[39m: \u001b[38;5;124m\"\u001b[39m\u001b[38;5;124mLayerIntegratedGradients\u001b[39m\u001b[38;5;124m\"\u001b[39m,\n\u001b[1;32m     19\u001b[0m     \u001b[38;5;124m\"\u001b[39m\u001b[38;5;124mref_class\u001b[39m\u001b[38;5;124m\"\u001b[39m: key,\n\u001b[0;32m---> 20\u001b[0m     \u001b[38;5;124m\"\u001b[39m\u001b[38;5;124mattr_df\u001b[39m\u001b[38;5;124m\"\u001b[39m: \u001b[43mcompute_lig_attributions\u001b[49m\u001b[43m(\u001b[49m\u001b[43mlstm_model\u001b[49m\u001b[43m,\u001b[49m\u001b[43m \u001b[49m\u001b[43m[\u001b[49m\u001b[43mhuman_input\u001b[49m\u001b[43m]\u001b[49m\u001b[43m,\u001b[49m\u001b[43m \u001b[49m\u001b[43mtarget\u001b[49m\u001b[38;5;241;43m=\u001b[39;49m\u001b[38;5;241;43m1\u001b[39;49m\u001b[43m,\u001b[49m\u001b[43m \u001b[49m\u001b[43mreference_seq\u001b[49m\u001b[38;5;241;43m=\u001b[39;49m\u001b[43mreference_seq\u001b[49m\u001b[43m)\u001b[49m\n\u001b[1;32m     21\u001b[0m })\n\u001b[1;32m     23\u001b[0m single_seq_attr_diff_ref_dfs\u001b[38;5;241m.\u001b[39mappend({\n\u001b[1;32m     24\u001b[0m     \u001b[38;5;124m\"\u001b[39m\u001b[38;5;124mmodel\u001b[39m\u001b[38;5;124m\"\u001b[39m: \u001b[38;5;124m\"\u001b[39m\u001b[38;5;124mCNN\u001b[39m\u001b[38;5;124m\"\u001b[39m,\n\u001b[1;32m     25\u001b[0m     \u001b[38;5;124m\"\u001b[39m\u001b[38;5;124mmethod\u001b[39m\u001b[38;5;124m\"\u001b[39m: \u001b[38;5;124m\"\u001b[39m\u001b[38;5;124mLayerDeepLift\u001b[39m\u001b[38;5;124m\"\u001b[39m,\n\u001b[1;32m     26\u001b[0m     \u001b[38;5;124m\"\u001b[39m\u001b[38;5;124mref_class\u001b[39m\u001b[38;5;124m\"\u001b[39m: key,\n\u001b[1;32m     27\u001b[0m     \u001b[38;5;124m\"\u001b[39m\u001b[38;5;124mattr_df\u001b[39m\u001b[38;5;124m\"\u001b[39m: compute_ldeeplift_attributions(cnn_model, [human_input], target\u001b[38;5;241m=\u001b[39m\u001b[38;5;241m1\u001b[39m, reference_seq\u001b[38;5;241m=\u001b[39mreference_seq)\n\u001b[1;32m     28\u001b[0m })\n\u001b[1;32m     30\u001b[0m single_seq_attr_diff_ref_dfs\u001b[38;5;241m.\u001b[39mappend({\n\u001b[1;32m     31\u001b[0m     \u001b[38;5;124m\"\u001b[39m\u001b[38;5;124mmodel\u001b[39m\u001b[38;5;124m\"\u001b[39m: \u001b[38;5;124m\"\u001b[39m\u001b[38;5;124mLSTM\u001b[39m\u001b[38;5;124m\"\u001b[39m,\n\u001b[1;32m     32\u001b[0m     \u001b[38;5;124m\"\u001b[39m\u001b[38;5;124mmethod\u001b[39m\u001b[38;5;124m\"\u001b[39m: \u001b[38;5;124m\"\u001b[39m\u001b[38;5;124mLayerDeepLift\u001b[39m\u001b[38;5;124m\"\u001b[39m,\n\u001b[1;32m     33\u001b[0m     \u001b[38;5;124m\"\u001b[39m\u001b[38;5;124mref_class\u001b[39m\u001b[38;5;124m\"\u001b[39m: key,\n\u001b[1;32m     34\u001b[0m     \u001b[38;5;124m\"\u001b[39m\u001b[38;5;124mattr_df\u001b[39m\u001b[38;5;124m\"\u001b[39m: compute_ldeeplift_attributions(lstm_model, [human_input], target\u001b[38;5;241m=\u001b[39m\u001b[38;5;241m1\u001b[39m, reference_seq\u001b[38;5;241m=\u001b[39mreference_seq)\n\u001b[1;32m     35\u001b[0m })\n",
      "Cell \u001b[0;32mIn[27], line 5\u001b[0m, in \u001b[0;36mcompute_lig_attributions\u001b[0;34m(model, inputs, target, reference_seq)\u001b[0m\n\u001b[1;32m      3\u001b[0m \u001b[38;5;28;01mfor\u001b[39;00m seq, label \u001b[38;5;129;01min\u001b[39;00m inputs:\n\u001b[1;32m      4\u001b[0m     interpreter \u001b[38;5;241m=\u001b[39m LayerIntegratedGradients(model, model\u001b[38;5;241m.\u001b[39membedding)\n\u001b[0;32m----> 5\u001b[0m     attribution \u001b[38;5;241m=\u001b[39m \u001b[43minterpreter\u001b[49m\u001b[38;5;241;43m.\u001b[39;49m\u001b[43mattribute\u001b[49m\u001b[43m(\u001b[49m\u001b[43mseq\u001b[49m\u001b[43m,\u001b[49m\u001b[43m \u001b[49m\u001b[43mreference_seq\u001b[49m\u001b[43m,\u001b[49m\u001b[43m \u001b[49m\u001b[43mtarget\u001b[49m\u001b[38;5;241;43m=\u001b[39;49m\u001b[43mtarget\u001b[49m\u001b[43m)\u001b[49m\n\u001b[1;32m      7\u001b[0m     attribution \u001b[38;5;241m=\u001b[39m attribution\u001b[38;5;241m.\u001b[39msum(dim\u001b[38;5;241m=\u001b[39m\u001b[38;5;241m2\u001b[39m)\u001b[38;5;241m.\u001b[39msqueeze(\u001b[38;5;241m0\u001b[39m)\n\u001b[1;32m      8\u001b[0m     attribution \u001b[38;5;241m=\u001b[39m attribution \u001b[38;5;241m/\u001b[39m torch\u001b[38;5;241m.\u001b[39mnorm(attribution)\n",
      "File \u001b[0;32m~/anaconda3/envs/zoonosis/lib/python3.10/site-packages/captum/log/__init__.py:42\u001b[0m, in \u001b[0;36mlog_usage.<locals>._log_usage.<locals>.wrapper\u001b[0;34m(*args, **kwargs)\u001b[0m\n\u001b[1;32m     40\u001b[0m \u001b[38;5;129m@wraps\u001b[39m(func)\n\u001b[1;32m     41\u001b[0m \u001b[38;5;28;01mdef\u001b[39;00m \u001b[38;5;21mwrapper\u001b[39m(\u001b[38;5;241m*\u001b[39margs, \u001b[38;5;241m*\u001b[39m\u001b[38;5;241m*\u001b[39mkwargs):\n\u001b[0;32m---> 42\u001b[0m     \u001b[38;5;28;01mreturn\u001b[39;00m \u001b[43mfunc\u001b[49m\u001b[43m(\u001b[49m\u001b[38;5;241;43m*\u001b[39;49m\u001b[43margs\u001b[49m\u001b[43m,\u001b[49m\u001b[43m \u001b[49m\u001b[38;5;241;43m*\u001b[39;49m\u001b[38;5;241;43m*\u001b[39;49m\u001b[43mkwargs\u001b[49m\u001b[43m)\u001b[49m\n",
      "File \u001b[0;32m~/anaconda3/envs/zoonosis/lib/python3.10/site-packages/captum/attr/_core/layer/layer_integrated_gradients.py:494\u001b[0m, in \u001b[0;36mLayerIntegratedGradients.attribute\u001b[0;34m(self, inputs, baselines, target, additional_forward_args, n_steps, method, internal_batch_size, return_convergence_delta, attribute_to_layer_input)\u001b[0m\n\u001b[1;32m    487\u001b[0m \u001b[38;5;28mself\u001b[39m\u001b[38;5;241m.\u001b[39mig\u001b[38;5;241m.\u001b[39mgradient_func \u001b[38;5;241m=\u001b[39m gradient_func\n\u001b[1;32m    488\u001b[0m all_inputs \u001b[38;5;241m=\u001b[39m (\n\u001b[1;32m    489\u001b[0m     (inps \u001b[38;5;241m+\u001b[39m additional_forward_args)\n\u001b[1;32m    490\u001b[0m     \u001b[38;5;28;01mif\u001b[39;00m additional_forward_args \u001b[38;5;129;01mis\u001b[39;00m \u001b[38;5;129;01mnot\u001b[39;00m \u001b[38;5;28;01mNone\u001b[39;00m\n\u001b[1;32m    491\u001b[0m     \u001b[38;5;28;01melse\u001b[39;00m inps\n\u001b[1;32m    492\u001b[0m )\n\u001b[0;32m--> 494\u001b[0m attributions \u001b[38;5;241m=\u001b[39m \u001b[38;5;28;43mself\u001b[39;49m\u001b[38;5;241;43m.\u001b[39;49m\u001b[43mig\u001b[49m\u001b[38;5;241;43m.\u001b[39;49m\u001b[43mattribute\u001b[49m\u001b[38;5;241;43m.\u001b[39;49m\u001b[43m__wrapped__\u001b[49m\u001b[43m(\u001b[49m\u001b[43m  \u001b[49m\u001b[38;5;66;43;03m# type: ignore\u001b[39;49;00m\n\u001b[1;32m    495\u001b[0m \u001b[43m    \u001b[49m\u001b[38;5;28;43mself\u001b[39;49m\u001b[38;5;241;43m.\u001b[39;49m\u001b[43mig\u001b[49m\u001b[43m,\u001b[49m\u001b[43m  \u001b[49m\u001b[38;5;66;43;03m# self\u001b[39;49;00m\n\u001b[1;32m    496\u001b[0m \u001b[43m    \u001b[49m\u001b[43minputs_layer\u001b[49m\u001b[43m,\u001b[49m\n\u001b[1;32m    497\u001b[0m \u001b[43m    \u001b[49m\u001b[43mbaselines\u001b[49m\u001b[38;5;241;43m=\u001b[39;49m\u001b[43mbaselines_layer\u001b[49m\u001b[43m,\u001b[49m\n\u001b[1;32m    498\u001b[0m \u001b[43m    \u001b[49m\u001b[43mtarget\u001b[49m\u001b[38;5;241;43m=\u001b[39;49m\u001b[43mtarget\u001b[49m\u001b[43m,\u001b[49m\n\u001b[1;32m    499\u001b[0m \u001b[43m    \u001b[49m\u001b[43madditional_forward_args\u001b[49m\u001b[38;5;241;43m=\u001b[39;49m\u001b[43mall_inputs\u001b[49m\u001b[43m,\u001b[49m\n\u001b[1;32m    500\u001b[0m \u001b[43m    \u001b[49m\u001b[43mn_steps\u001b[49m\u001b[38;5;241;43m=\u001b[39;49m\u001b[43mn_steps\u001b[49m\u001b[43m,\u001b[49m\n\u001b[1;32m    501\u001b[0m \u001b[43m    \u001b[49m\u001b[43mmethod\u001b[49m\u001b[38;5;241;43m=\u001b[39;49m\u001b[43mmethod\u001b[49m\u001b[43m,\u001b[49m\n\u001b[1;32m    502\u001b[0m \u001b[43m    \u001b[49m\u001b[43minternal_batch_size\u001b[49m\u001b[38;5;241;43m=\u001b[39;49m\u001b[43minternal_batch_size\u001b[49m\u001b[43m,\u001b[49m\n\u001b[1;32m    503\u001b[0m \u001b[43m    \u001b[49m\u001b[43mreturn_convergence_delta\u001b[49m\u001b[38;5;241;43m=\u001b[39;49m\u001b[38;5;28;43;01mFalse\u001b[39;49;00m\u001b[43m,\u001b[49m\n\u001b[1;32m    504\u001b[0m \u001b[43m\u001b[49m\u001b[43m)\u001b[49m\n\u001b[1;32m    506\u001b[0m \u001b[38;5;66;03m# handle multiple outputs\u001b[39;00m\n\u001b[1;32m    507\u001b[0m output: List[Tuple[Tensor, \u001b[38;5;241m.\u001b[39m\u001b[38;5;241m.\u001b[39m\u001b[38;5;241m.\u001b[39m]] \u001b[38;5;241m=\u001b[39m [\n\u001b[1;32m    508\u001b[0m     \u001b[38;5;28mtuple\u001b[39m(\n\u001b[1;32m    509\u001b[0m         attributions[\n\u001b[0;32m   (...)\u001b[0m\n\u001b[1;32m    513\u001b[0m     \u001b[38;5;28;01mfor\u001b[39;00m i \u001b[38;5;129;01min\u001b[39;00m \u001b[38;5;28mrange\u001b[39m(\u001b[38;5;28mlen\u001b[39m(num_outputs))\n\u001b[1;32m    514\u001b[0m ]\n",
      "File \u001b[0;32m~/anaconda3/envs/zoonosis/lib/python3.10/site-packages/captum/attr/_core/integrated_gradients.py:286\u001b[0m, in \u001b[0;36mIntegratedGradients.attribute\u001b[0;34m(self, inputs, baselines, target, additional_forward_args, n_steps, method, internal_batch_size, return_convergence_delta)\u001b[0m\n\u001b[1;32m    274\u001b[0m     attributions \u001b[38;5;241m=\u001b[39m _batch_attribution(\n\u001b[1;32m    275\u001b[0m         \u001b[38;5;28mself\u001b[39m,\n\u001b[1;32m    276\u001b[0m         num_examples,\n\u001b[0;32m   (...)\u001b[0m\n\u001b[1;32m    283\u001b[0m         method\u001b[38;5;241m=\u001b[39mmethod,\n\u001b[1;32m    284\u001b[0m     )\n\u001b[1;32m    285\u001b[0m \u001b[38;5;28;01melse\u001b[39;00m:\n\u001b[0;32m--> 286\u001b[0m     attributions \u001b[38;5;241m=\u001b[39m \u001b[38;5;28;43mself\u001b[39;49m\u001b[38;5;241;43m.\u001b[39;49m\u001b[43m_attribute\u001b[49m\u001b[43m(\u001b[49m\n\u001b[1;32m    287\u001b[0m \u001b[43m        \u001b[49m\u001b[43minputs\u001b[49m\u001b[38;5;241;43m=\u001b[39;49m\u001b[43minputs\u001b[49m\u001b[43m,\u001b[49m\n\u001b[1;32m    288\u001b[0m \u001b[43m        \u001b[49m\u001b[43mbaselines\u001b[49m\u001b[38;5;241;43m=\u001b[39;49m\u001b[43mbaselines\u001b[49m\u001b[43m,\u001b[49m\n\u001b[1;32m    289\u001b[0m \u001b[43m        \u001b[49m\u001b[43mtarget\u001b[49m\u001b[38;5;241;43m=\u001b[39;49m\u001b[43mtarget\u001b[49m\u001b[43m,\u001b[49m\n\u001b[1;32m    290\u001b[0m \u001b[43m        \u001b[49m\u001b[43madditional_forward_args\u001b[49m\u001b[38;5;241;43m=\u001b[39;49m\u001b[43madditional_forward_args\u001b[49m\u001b[43m,\u001b[49m\n\u001b[1;32m    291\u001b[0m \u001b[43m        \u001b[49m\u001b[43mn_steps\u001b[49m\u001b[38;5;241;43m=\u001b[39;49m\u001b[43mn_steps\u001b[49m\u001b[43m,\u001b[49m\n\u001b[1;32m    292\u001b[0m \u001b[43m        \u001b[49m\u001b[43mmethod\u001b[49m\u001b[38;5;241;43m=\u001b[39;49m\u001b[43mmethod\u001b[49m\u001b[43m,\u001b[49m\n\u001b[1;32m    293\u001b[0m \u001b[43m    \u001b[49m\u001b[43m)\u001b[49m\n\u001b[1;32m    295\u001b[0m \u001b[38;5;28;01mif\u001b[39;00m return_convergence_delta:\n\u001b[1;32m    296\u001b[0m     start_point, end_point \u001b[38;5;241m=\u001b[39m baselines, inputs\n",
      "File \u001b[0;32m~/anaconda3/envs/zoonosis/lib/python3.10/site-packages/captum/attr/_core/integrated_gradients.py:351\u001b[0m, in \u001b[0;36mIntegratedGradients._attribute\u001b[0;34m(self, inputs, baselines, target, additional_forward_args, n_steps, method, step_sizes_and_alphas)\u001b[0m\n\u001b[1;32m    348\u001b[0m expanded_target \u001b[38;5;241m=\u001b[39m _expand_target(target, n_steps)\n\u001b[1;32m    350\u001b[0m \u001b[38;5;66;03m# grads: dim -> (bsz * #steps x inputs[0].shape[1:], ...)\u001b[39;00m\n\u001b[0;32m--> 351\u001b[0m grads \u001b[38;5;241m=\u001b[39m \u001b[38;5;28;43mself\u001b[39;49m\u001b[38;5;241;43m.\u001b[39;49m\u001b[43mgradient_func\u001b[49m\u001b[43m(\u001b[49m\n\u001b[1;32m    352\u001b[0m \u001b[43m    \u001b[49m\u001b[43mforward_fn\u001b[49m\u001b[38;5;241;43m=\u001b[39;49m\u001b[38;5;28;43mself\u001b[39;49m\u001b[38;5;241;43m.\u001b[39;49m\u001b[43mforward_func\u001b[49m\u001b[43m,\u001b[49m\n\u001b[1;32m    353\u001b[0m \u001b[43m    \u001b[49m\u001b[43minputs\u001b[49m\u001b[38;5;241;43m=\u001b[39;49m\u001b[43mscaled_features_tpl\u001b[49m\u001b[43m,\u001b[49m\n\u001b[1;32m    354\u001b[0m \u001b[43m    \u001b[49m\u001b[43mtarget_ind\u001b[49m\u001b[38;5;241;43m=\u001b[39;49m\u001b[43mexpanded_target\u001b[49m\u001b[43m,\u001b[49m\n\u001b[1;32m    355\u001b[0m \u001b[43m    \u001b[49m\u001b[43madditional_forward_args\u001b[49m\u001b[38;5;241;43m=\u001b[39;49m\u001b[43minput_additional_args\u001b[49m\u001b[43m,\u001b[49m\n\u001b[1;32m    356\u001b[0m \u001b[43m\u001b[49m\u001b[43m)\u001b[49m\n\u001b[1;32m    358\u001b[0m \u001b[38;5;66;03m# flattening grads so that we can multilpy it with step-size\u001b[39;00m\n\u001b[1;32m    359\u001b[0m \u001b[38;5;66;03m# calling contiguous to avoid `memory whole` problems\u001b[39;00m\n\u001b[1;32m    360\u001b[0m scaled_grads \u001b[38;5;241m=\u001b[39m [\n\u001b[1;32m    361\u001b[0m     grad\u001b[38;5;241m.\u001b[39mcontiguous()\u001b[38;5;241m.\u001b[39mview(n_steps, \u001b[38;5;241m-\u001b[39m\u001b[38;5;241m1\u001b[39m)\n\u001b[1;32m    362\u001b[0m     \u001b[38;5;241m*\u001b[39m torch\u001b[38;5;241m.\u001b[39mtensor(step_sizes)\u001b[38;5;241m.\u001b[39mview(n_steps, \u001b[38;5;241m1\u001b[39m)\u001b[38;5;241m.\u001b[39mto(grad\u001b[38;5;241m.\u001b[39mdevice)\n\u001b[1;32m    363\u001b[0m     \u001b[38;5;28;01mfor\u001b[39;00m grad \u001b[38;5;129;01min\u001b[39;00m grads\n\u001b[1;32m    364\u001b[0m ]\n",
      "File \u001b[0;32m~/anaconda3/envs/zoonosis/lib/python3.10/site-packages/captum/attr/_core/layer/layer_integrated_gradients.py:470\u001b[0m, in \u001b[0;36mLayerIntegratedGradients.attribute.<locals>.gradient_func\u001b[0;34m(forward_fn, inputs, target_ind, additional_forward_args)\u001b[0m\n\u001b[1;32m    462\u001b[0m             hook \u001b[38;5;241m=\u001b[39m layer\u001b[38;5;241m.\u001b[39mregister_forward_hook(\n\u001b[1;32m    463\u001b[0m                 functools\u001b[38;5;241m.\u001b[39mpartial(\n\u001b[1;32m    464\u001b[0m                     layer_forward_hook, layer_idx\u001b[38;5;241m=\u001b[39mlayer_idx\n\u001b[1;32m    465\u001b[0m                 )\n\u001b[1;32m    466\u001b[0m             )\n\u001b[1;32m    468\u001b[0m         hooks\u001b[38;5;241m.\u001b[39mappend(hook)\n\u001b[0;32m--> 470\u001b[0m     output \u001b[38;5;241m=\u001b[39m \u001b[43m_run_forward\u001b[49m\u001b[43m(\u001b[49m\n\u001b[1;32m    471\u001b[0m \u001b[43m        \u001b[49m\u001b[38;5;28;43mself\u001b[39;49m\u001b[38;5;241;43m.\u001b[39;49m\u001b[43mforward_func\u001b[49m\u001b[43m,\u001b[49m\u001b[43m \u001b[49m\u001b[38;5;28;43mtuple\u001b[39;49m\u001b[43m(\u001b[49m\u001b[43m)\u001b[49m\u001b[43m,\u001b[49m\u001b[43m \u001b[49m\u001b[43mtarget_ind\u001b[49m\u001b[43m,\u001b[49m\u001b[43m \u001b[49m\u001b[43madditional_forward_args\u001b[49m\n\u001b[1;32m    472\u001b[0m \u001b[43m    \u001b[49m\u001b[43m)\u001b[49m\n\u001b[1;32m    473\u001b[0m \u001b[38;5;28;01mfinally\u001b[39;00m:\n\u001b[1;32m    474\u001b[0m     \u001b[38;5;28;01mfor\u001b[39;00m hook \u001b[38;5;129;01min\u001b[39;00m hooks:\n",
      "File \u001b[0;32m~/anaconda3/envs/zoonosis/lib/python3.10/site-packages/captum/_utils/common.py:482\u001b[0m, in \u001b[0;36m_run_forward\u001b[0;34m(forward_func, inputs, target, additional_forward_args)\u001b[0m\n\u001b[1;32m    479\u001b[0m inputs \u001b[38;5;241m=\u001b[39m _format_inputs(inputs)\n\u001b[1;32m    480\u001b[0m additional_forward_args \u001b[38;5;241m=\u001b[39m _format_additional_forward_args(additional_forward_args)\n\u001b[0;32m--> 482\u001b[0m output \u001b[38;5;241m=\u001b[39m \u001b[43mforward_func\u001b[49m\u001b[43m(\u001b[49m\n\u001b[1;32m    483\u001b[0m \u001b[43m    \u001b[49m\u001b[38;5;241;43m*\u001b[39;49m\u001b[43m(\u001b[49m\u001b[38;5;241;43m*\u001b[39;49m\u001b[43minputs\u001b[49m\u001b[43m,\u001b[49m\u001b[43m \u001b[49m\u001b[38;5;241;43m*\u001b[39;49m\u001b[43madditional_forward_args\u001b[49m\u001b[43m)\u001b[49m\n\u001b[1;32m    484\u001b[0m \u001b[43m    \u001b[49m\u001b[38;5;28;43;01mif\u001b[39;49;00m\u001b[43m \u001b[49m\u001b[43madditional_forward_args\u001b[49m\u001b[43m \u001b[49m\u001b[38;5;129;43;01mis\u001b[39;49;00m\u001b[43m \u001b[49m\u001b[38;5;129;43;01mnot\u001b[39;49;00m\u001b[43m \u001b[49m\u001b[38;5;28;43;01mNone\u001b[39;49;00m\n\u001b[1;32m    485\u001b[0m \u001b[43m    \u001b[49m\u001b[38;5;28;43;01melse\u001b[39;49;00m\u001b[43m \u001b[49m\u001b[43minputs\u001b[49m\n\u001b[1;32m    486\u001b[0m \u001b[43m\u001b[49m\u001b[43m)\u001b[49m\n\u001b[1;32m    487\u001b[0m \u001b[38;5;28;01mreturn\u001b[39;00m _select_targets(output, target)\n",
      "File \u001b[0;32m~/anaconda3/envs/zoonosis/lib/python3.10/site-packages/torch/nn/modules/module.py:1501\u001b[0m, in \u001b[0;36mModule._call_impl\u001b[0;34m(self, *args, **kwargs)\u001b[0m\n\u001b[1;32m   1496\u001b[0m \u001b[38;5;66;03m# If we don't have any hooks, we want to skip the rest of the logic in\u001b[39;00m\n\u001b[1;32m   1497\u001b[0m \u001b[38;5;66;03m# this function, and just call forward.\u001b[39;00m\n\u001b[1;32m   1498\u001b[0m \u001b[38;5;28;01mif\u001b[39;00m \u001b[38;5;129;01mnot\u001b[39;00m (\u001b[38;5;28mself\u001b[39m\u001b[38;5;241m.\u001b[39m_backward_hooks \u001b[38;5;129;01mor\u001b[39;00m \u001b[38;5;28mself\u001b[39m\u001b[38;5;241m.\u001b[39m_backward_pre_hooks \u001b[38;5;129;01mor\u001b[39;00m \u001b[38;5;28mself\u001b[39m\u001b[38;5;241m.\u001b[39m_forward_hooks \u001b[38;5;129;01mor\u001b[39;00m \u001b[38;5;28mself\u001b[39m\u001b[38;5;241m.\u001b[39m_forward_pre_hooks\n\u001b[1;32m   1499\u001b[0m         \u001b[38;5;129;01mor\u001b[39;00m _global_backward_pre_hooks \u001b[38;5;129;01mor\u001b[39;00m _global_backward_hooks\n\u001b[1;32m   1500\u001b[0m         \u001b[38;5;129;01mor\u001b[39;00m _global_forward_hooks \u001b[38;5;129;01mor\u001b[39;00m _global_forward_pre_hooks):\n\u001b[0;32m-> 1501\u001b[0m     \u001b[38;5;28;01mreturn\u001b[39;00m \u001b[43mforward_call\u001b[49m\u001b[43m(\u001b[49m\u001b[38;5;241;43m*\u001b[39;49m\u001b[43margs\u001b[49m\u001b[43m,\u001b[49m\u001b[43m \u001b[49m\u001b[38;5;241;43m*\u001b[39;49m\u001b[38;5;241;43m*\u001b[39;49m\u001b[43mkwargs\u001b[49m\u001b[43m)\u001b[49m\n\u001b[1;32m   1502\u001b[0m \u001b[38;5;66;03m# Do not call functions when jit is used\u001b[39;00m\n\u001b[1;32m   1503\u001b[0m full_backward_hooks, non_full_backward_hooks \u001b[38;5;241m=\u001b[39m [], []\n",
      "File \u001b[0;32m~/dev/git/zoonosis/src/jupyter_notebooks/interpretation/hev-aligned/../../../models/nlp/lstm.py:31\u001b[0m, in \u001b[0;36mLSTM_Model.forward\u001b[0;34m(self, X)\u001b[0m\n\u001b[1;32m     25\u001b[0m cell_input \u001b[38;5;241m=\u001b[39m \u001b[38;5;28mself\u001b[39m\u001b[38;5;241m.\u001b[39minit_zeros(batch_size\u001b[38;5;241m=\u001b[39mX\u001b[38;5;241m.\u001b[39msize(\u001b[38;5;241m0\u001b[39m))\n\u001b[1;32m     27\u001b[0m \u001b[38;5;66;03m# return values from rnn:\u001b[39;00m\n\u001b[1;32m     28\u001b[0m \u001b[38;5;66;03m# output: output features from the last layer for each token: num_lstm_layers x batch_size X sequence_length X hidden_dim\u001b[39;00m\n\u001b[1;32m     29\u001b[0m \u001b[38;5;66;03m# hidden_output: final hidden state (embedding) for each sequence: num_lstm_layers x batch_size X hidden_dim\u001b[39;00m\n\u001b[1;32m     30\u001b[0m \u001b[38;5;66;03m# cell_output: final cell state (embedding) for each sequence: num_lstm_layers x batch_size X hidden_dim\u001b[39;00m\n\u001b[0;32m---> 31\u001b[0m output, (hidden_output, cell_output) \u001b[38;5;241m=\u001b[39m \u001b[38;5;28;43mself\u001b[39;49m\u001b[38;5;241;43m.\u001b[39;49m\u001b[43mlstm\u001b[49m\u001b[43m(\u001b[49m\u001b[43mX\u001b[49m\u001b[43m,\u001b[49m\u001b[43m \u001b[49m\u001b[43m(\u001b[49m\u001b[43mhidden_input\u001b[49m\u001b[43m,\u001b[49m\u001b[43m \u001b[49m\u001b[43mcell_input\u001b[49m\u001b[43m)\u001b[49m\u001b[43m)\u001b[49m\n\u001b[1;32m     33\u001b[0m \u001b[38;5;66;03m# aggregate the embeddings from lstm\u001b[39;00m\n\u001b[1;32m     34\u001b[0m \u001b[38;5;66;03m# mean of the representations of all tokens\u001b[39;00m\n\u001b[1;32m     35\u001b[0m \u001b[38;5;28mself\u001b[39m\u001b[38;5;241m.\u001b[39mlstm_emb \u001b[38;5;241m=\u001b[39m output\u001b[38;5;241m.\u001b[39mmean(dim\u001b[38;5;241m=\u001b[39m\u001b[38;5;241m1\u001b[39m)\n",
      "File \u001b[0;32m~/anaconda3/envs/zoonosis/lib/python3.10/site-packages/torch/nn/modules/module.py:1501\u001b[0m, in \u001b[0;36mModule._call_impl\u001b[0;34m(self, *args, **kwargs)\u001b[0m\n\u001b[1;32m   1496\u001b[0m \u001b[38;5;66;03m# If we don't have any hooks, we want to skip the rest of the logic in\u001b[39;00m\n\u001b[1;32m   1497\u001b[0m \u001b[38;5;66;03m# this function, and just call forward.\u001b[39;00m\n\u001b[1;32m   1498\u001b[0m \u001b[38;5;28;01mif\u001b[39;00m \u001b[38;5;129;01mnot\u001b[39;00m (\u001b[38;5;28mself\u001b[39m\u001b[38;5;241m.\u001b[39m_backward_hooks \u001b[38;5;129;01mor\u001b[39;00m \u001b[38;5;28mself\u001b[39m\u001b[38;5;241m.\u001b[39m_backward_pre_hooks \u001b[38;5;129;01mor\u001b[39;00m \u001b[38;5;28mself\u001b[39m\u001b[38;5;241m.\u001b[39m_forward_hooks \u001b[38;5;129;01mor\u001b[39;00m \u001b[38;5;28mself\u001b[39m\u001b[38;5;241m.\u001b[39m_forward_pre_hooks\n\u001b[1;32m   1499\u001b[0m         \u001b[38;5;129;01mor\u001b[39;00m _global_backward_pre_hooks \u001b[38;5;129;01mor\u001b[39;00m _global_backward_hooks\n\u001b[1;32m   1500\u001b[0m         \u001b[38;5;129;01mor\u001b[39;00m _global_forward_hooks \u001b[38;5;129;01mor\u001b[39;00m _global_forward_pre_hooks):\n\u001b[0;32m-> 1501\u001b[0m     \u001b[38;5;28;01mreturn\u001b[39;00m \u001b[43mforward_call\u001b[49m\u001b[43m(\u001b[49m\u001b[38;5;241;43m*\u001b[39;49m\u001b[43margs\u001b[49m\u001b[43m,\u001b[49m\u001b[43m \u001b[49m\u001b[38;5;241;43m*\u001b[39;49m\u001b[38;5;241;43m*\u001b[39;49m\u001b[43mkwargs\u001b[49m\u001b[43m)\u001b[49m\n\u001b[1;32m   1502\u001b[0m \u001b[38;5;66;03m# Do not call functions when jit is used\u001b[39;00m\n\u001b[1;32m   1503\u001b[0m full_backward_hooks, non_full_backward_hooks \u001b[38;5;241m=\u001b[39m [], []\n",
      "File \u001b[0;32m~/anaconda3/envs/zoonosis/lib/python3.10/site-packages/torch/nn/modules/rnn.py:812\u001b[0m, in \u001b[0;36mLSTM.forward\u001b[0;34m(self, input, hx)\u001b[0m\n\u001b[1;32m    810\u001b[0m \u001b[38;5;28mself\u001b[39m\u001b[38;5;241m.\u001b[39mcheck_forward_args(\u001b[38;5;28minput\u001b[39m, hx, batch_sizes)\n\u001b[1;32m    811\u001b[0m \u001b[38;5;28;01mif\u001b[39;00m batch_sizes \u001b[38;5;129;01mis\u001b[39;00m \u001b[38;5;28;01mNone\u001b[39;00m:\n\u001b[0;32m--> 812\u001b[0m     result \u001b[38;5;241m=\u001b[39m \u001b[43m_VF\u001b[49m\u001b[38;5;241;43m.\u001b[39;49m\u001b[43mlstm\u001b[49m\u001b[43m(\u001b[49m\u001b[38;5;28;43minput\u001b[39;49m\u001b[43m,\u001b[49m\u001b[43m \u001b[49m\u001b[43mhx\u001b[49m\u001b[43m,\u001b[49m\u001b[43m \u001b[49m\u001b[38;5;28;43mself\u001b[39;49m\u001b[38;5;241;43m.\u001b[39;49m\u001b[43m_flat_weights\u001b[49m\u001b[43m,\u001b[49m\u001b[43m \u001b[49m\u001b[38;5;28;43mself\u001b[39;49m\u001b[38;5;241;43m.\u001b[39;49m\u001b[43mbias\u001b[49m\u001b[43m,\u001b[49m\u001b[43m \u001b[49m\u001b[38;5;28;43mself\u001b[39;49m\u001b[38;5;241;43m.\u001b[39;49m\u001b[43mnum_layers\u001b[49m\u001b[43m,\u001b[49m\n\u001b[1;32m    813\u001b[0m \u001b[43m                      \u001b[49m\u001b[38;5;28;43mself\u001b[39;49m\u001b[38;5;241;43m.\u001b[39;49m\u001b[43mdropout\u001b[49m\u001b[43m,\u001b[49m\u001b[43m \u001b[49m\u001b[38;5;28;43mself\u001b[39;49m\u001b[38;5;241;43m.\u001b[39;49m\u001b[43mtraining\u001b[49m\u001b[43m,\u001b[49m\u001b[43m \u001b[49m\u001b[38;5;28;43mself\u001b[39;49m\u001b[38;5;241;43m.\u001b[39;49m\u001b[43mbidirectional\u001b[49m\u001b[43m,\u001b[49m\u001b[43m \u001b[49m\u001b[38;5;28;43mself\u001b[39;49m\u001b[38;5;241;43m.\u001b[39;49m\u001b[43mbatch_first\u001b[49m\u001b[43m)\u001b[49m\n\u001b[1;32m    814\u001b[0m \u001b[38;5;28;01melse\u001b[39;00m:\n\u001b[1;32m    815\u001b[0m     result \u001b[38;5;241m=\u001b[39m _VF\u001b[38;5;241m.\u001b[39mlstm(\u001b[38;5;28minput\u001b[39m, batch_sizes, hx, \u001b[38;5;28mself\u001b[39m\u001b[38;5;241m.\u001b[39m_flat_weights, \u001b[38;5;28mself\u001b[39m\u001b[38;5;241m.\u001b[39mbias,\n\u001b[1;32m    816\u001b[0m                       \u001b[38;5;28mself\u001b[39m\u001b[38;5;241m.\u001b[39mnum_layers, \u001b[38;5;28mself\u001b[39m\u001b[38;5;241m.\u001b[39mdropout, \u001b[38;5;28mself\u001b[39m\u001b[38;5;241m.\u001b[39mtraining, \u001b[38;5;28mself\u001b[39m\u001b[38;5;241m.\u001b[39mbidirectional)\n",
      "\u001b[0;31mOutOfMemoryError\u001b[0m: CUDA out of memory. Tried to allocate 5.21 GiB (GPU 0; 12.00 GiB total capacity; 3.63 GiB already allocated; 1.56 GiB free; 8.80 GiB reserved in total by PyTorch) If reserved memory is >> allocated memory try setting max_split_size_mb to avoid fragmentation.  See documentation for Memory Management and PYTORCH_CUDA_ALLOC_CONF"
     ]
    }
   ],
   "source": [
    "single_seq_attr_diff_ref_dfs = []\n",
    "\n",
    "for key, value in label_groupings.items():\n",
    "    target_value = value[0]\n",
    "    print(f\"Key: {key}, Value: {target_value}\")\n",
    "    _, target_dataset_loader = get_target_dataset_loader(target_value)\n",
    "    ref_seq, ref_label = next(iter(target_dataset_loader))\n",
    "    \n",
    "    single_seq_attr_diff_ref_dfs.append({\n",
    "        \"model\": \"CNN\",\n",
    "        \"method\": \"LayerIntegratedGradients\",\n",
    "        \"ref_class\": key,\n",
    "        \"attr_df\": compute_lig_attributions(cnn_model, [human_input], target=1, reference_seq=reference_seq)\n",
    "    })\n",
    "\n",
    "    single_seq_attr_diff_ref_dfs.append({\n",
    "        \"model\": \"LSTM\",\n",
    "        \"method\": \"LayerIntegratedGradients\",\n",
    "        \"ref_class\": key,\n",
    "        \"attr_df\": compute_lig_attributions(lstm_model, [human_input], target=1, reference_seq=reference_seq)\n",
    "    })\n",
    "\n",
    "    single_seq_attr_diff_ref_dfs.append({\n",
    "        \"model\": \"CNN\",\n",
    "        \"method\": \"LayerDeepLift\",\n",
    "        \"ref_class\": key,\n",
    "        \"attr_df\": compute_ldeeplift_attributions(cnn_model, [human_input], target=1, reference_seq=reference_seq)\n",
    "    })\n",
    "\n",
    "    single_seq_attr_diff_ref_dfs.append({\n",
    "        \"model\": \"LSTM\",\n",
    "        \"method\": \"LayerDeepLift\",\n",
    "        \"ref_class\": key,\n",
    "        \"attr_df\": compute_ldeeplift_attributions(lstm_model, [human_input], target=1, reference_seq=reference_seq)\n",
    "    })\n"
   ]
  },
  {
   "cell_type": "code",
   "execution_count": 64,
   "id": "0a175f43",
   "metadata": {},
   "outputs": [
    {
     "data": {
      "text/plain": [
       "[{'model': 'CNN',\n",
       "  'method': 'LayerIntegratedGradients',\n",
       "  'ref_class': 'Human',\n",
       "  'attr_df':    0        1         2         3         4         5         6         7     \\\n",
       "  0   0.0  0.00022  0.000681  0.001697  0.002299  0.003591  0.003597  0.003807   \n",
       "  \n",
       "         8         9     ...      2471      2472      2473      2474      2475  \\\n",
       "  0  0.003942  0.003922  ...  0.003357  0.002471  0.002876  0.003335  0.002292   \n",
       "  \n",
       "         2476     2477      2478     2479      2480  \n",
       "  0  0.001654  0.00137  0.000535  0.00017  0.000041  \n",
       "  \n",
       "  [1 rows x 2481 columns]}]"
      ]
     },
     "execution_count": 64,
     "metadata": {},
     "output_type": "execute_result"
    }
   ],
   "source": [
    "single_seq_attr_diff_ref_dfs"
   ]
  },
  {
   "cell_type": "code",
   "execution_count": 65,
   "id": "dd757f53",
   "metadata": {},
   "outputs": [],
   "source": [
    "# compute ranks\n",
    "for entry in single_seq_attr_diff_ref_dfs:\n",
    "    attr_df = entry[\"attr_df\"]\n",
    "    attr = attr_df.iloc[0, :].values\n",
    "    attr_abs = np.abs(attr)\n",
    "    # top 20 attr values\n",
    "    entry[\"top_n_attr\"] = np.argsort(attr_abs)[-20:]"
   ]
  },
  {
   "cell_type": "code",
   "execution_count": 57,
   "id": "63972d35",
   "metadata": {},
   "outputs": [],
   "source": [
    "df = pd.DataFrame(single_seq_attr_diff_ref_dfs)\n",
    "df.drop(columns=\"attr_df\", inplace=True)"
   ]
  },
  {
   "cell_type": "code",
   "execution_count": 58,
   "id": "1ee47f86",
   "metadata": {},
   "outputs": [
    {
     "data": {
      "text/html": [
       "<div>\n",
       "<style scoped>\n",
       "    .dataframe tbody tr th:only-of-type {\n",
       "        vertical-align: middle;\n",
       "    }\n",
       "\n",
       "    .dataframe tbody tr th {\n",
       "        vertical-align: top;\n",
       "    }\n",
       "\n",
       "    .dataframe thead th {\n",
       "        text-align: right;\n",
       "    }\n",
       "</style>\n",
       "<table border=\"1\" class=\"dataframe\">\n",
       "  <thead>\n",
       "    <tr style=\"text-align: right;\">\n",
       "      <th></th>\n",
       "      <th>model</th>\n",
       "      <th>method</th>\n",
       "      <th>ref_class</th>\n",
       "      <th>top_n_attr</th>\n",
       "    </tr>\n",
       "  </thead>\n",
       "  <tbody>\n",
       "    <tr>\n",
       "      <th>0</th>\n",
       "      <td>CNN</td>\n",
       "      <td>LayerIntegratedGradients</td>\n",
       "      <td>Human</td>\n",
       "      <td>[930, 663, 641, 927, 643, 662, 697, 925, 699, ...</td>\n",
       "    </tr>\n",
       "  </tbody>\n",
       "</table>\n",
       "</div>"
      ],
      "text/plain": [
       "  model                    method ref_class  \\\n",
       "0   CNN  LayerIntegratedGradients     Human   \n",
       "\n",
       "                                          top_n_attr  \n",
       "0  [930, 663, 641, 927, 643, 662, 697, 925, 699, ...  "
      ]
     },
     "execution_count": 58,
     "metadata": {},
     "output_type": "execute_result"
    }
   ],
   "source": [
    "df"
   ]
  },
  {
   "cell_type": "code",
   "execution_count": 59,
   "id": "2fdd77ae",
   "metadata": {},
   "outputs": [],
   "source": [
    "df[\"model-method\"] = df[\"model\"] + \" - \" + df[\"method\"]"
   ]
  },
  {
   "cell_type": "code",
   "execution_count": 60,
   "id": "83bd4f1c",
   "metadata": {},
   "outputs": [
    {
     "data": {
      "text/html": [
       "<div>\n",
       "<style scoped>\n",
       "    .dataframe tbody tr th:only-of-type {\n",
       "        vertical-align: middle;\n",
       "    }\n",
       "\n",
       "    .dataframe tbody tr th {\n",
       "        vertical-align: top;\n",
       "    }\n",
       "\n",
       "    .dataframe thead th {\n",
       "        text-align: right;\n",
       "    }\n",
       "</style>\n",
       "<table border=\"1\" class=\"dataframe\">\n",
       "  <thead>\n",
       "    <tr style=\"text-align: right;\">\n",
       "      <th></th>\n",
       "      <th>model</th>\n",
       "      <th>method</th>\n",
       "      <th>ref_class</th>\n",
       "      <th>top_n_attr</th>\n",
       "      <th>model-method</th>\n",
       "    </tr>\n",
       "  </thead>\n",
       "  <tbody>\n",
       "    <tr>\n",
       "      <th>0</th>\n",
       "      <td>CNN</td>\n",
       "      <td>LayerIntegratedGradients</td>\n",
       "      <td>Human</td>\n",
       "      <td>[930, 663, 641, 927, 643, 662, 697, 925, 699, ...</td>\n",
       "      <td>CNN - LayerIntegratedGradients</td>\n",
       "    </tr>\n",
       "  </tbody>\n",
       "</table>\n",
       "</div>"
      ],
      "text/plain": [
       "  model                    method ref_class  \\\n",
       "0   CNN  LayerIntegratedGradients     Human   \n",
       "\n",
       "                                          top_n_attr  \\\n",
       "0  [930, 663, 641, 927, 643, 662, 697, 925, 699, ...   \n",
       "\n",
       "                     model-method  \n",
       "0  CNN - LayerIntegratedGradients  "
      ]
     },
     "execution_count": 60,
     "metadata": {},
     "output_type": "execute_result"
    }
   ],
   "source": [
    "df"
   ]
  },
  {
   "cell_type": "code",
   "execution_count": 61,
   "id": "05fad0e5",
   "metadata": {},
   "outputs": [
    {
     "data": {
      "text/plain": [
       "array(['CNN - LayerIntegratedGradients'], dtype=object)"
      ]
     },
     "execution_count": 61,
     "metadata": {},
     "output_type": "execute_result"
    }
   ],
   "source": [
    "df[\"model-method\"].unique()"
   ]
  },
  {
   "cell_type": "code",
   "execution_count": 62,
   "id": "d1eef217",
   "metadata": {},
   "outputs": [
    {
     "data": {
      "image/png": "[encoded data removed]",
      "text/plain": [
       "<Figure size 4800x1800 with 4 Axes>"
      ]
     },
     "metadata": {},
     "output_type": "display_data"
    }
   ],
   "source": [
    "figs, axs = plt.subplots(2, 2, figsize=(48, 18), sharex=True)\n",
    "\n",
    "def draw_subplot(model_method, ax):\n",
    "    sub_df = df[df[\"model-method\"] == model_method]\n",
    "    exploded_sub_df = sub_df.explode(\"top_n_attr\")\n",
    "    sns.scatterplot(data=exploded_sub_df, x=\"top_n_attr\", y=\"ref_class\", ax=ax)\n",
    "    ax.set_title(f\"{model_method}\")\n",
    "\n",
    "\n",
    "# 0, 0: CNN - LayerIntegratedGradients\n",
    "draw_subplot(\"CNN - LayerIntegratedGradients\", axs[0, 0])\n",
    "\n",
    "# 0, 1: LSTM - LayerIntegratedGradients\n",
    "draw_subplot(\"LSTM - LayerIntegratedGradients\", axs[0, 1])\n",
    "\n",
    "# 1, 0: CNN - LayerDeepLift\n",
    "draw_subplot(\"CNN - LayerDeepLift\", axs[1, 0])\n",
    "\n",
    "# 1, 1: LSTM - LayerDeepLift\n",
    "draw_subplot(\"LSTM - LayerDeepLift\", axs[1, 1])\n",
    "\n",
    "\n",
    "plt.show()"
   ]
  }
 ],
 "metadata": {
  "kernelspec": {
   "display_name": "Python 3 (ipykernel)",
   "language": "python",
   "name": "python3"
  },
  "language_info": {
   "codemirror_mode": {
    "name": "ipython",
    "version": 3
   },
   "file_extension": ".py",
   "mimetype": "text/x-python",
   "name": "python",
   "nbconvert_exporter": "python",
   "pygments_lexer": "ipython3",
   "version": "3.10.6"
  }
 },
 "nbformat": 4,
 "nbformat_minor": 5
}
