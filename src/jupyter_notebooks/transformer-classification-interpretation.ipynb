{
 "cells": [
  {
   "cell_type": "markdown",
   "id": "bd64c278",
   "metadata": {},
   "source": [
    "## Interpretation of TF models trained on UniRef90 dataset for multiclass classification"
   ]
  },
  {
   "cell_type": "code",
   "execution_count": 1,
   "id": "6f0a7a94",
   "metadata": {},
   "outputs": [
    {
     "data": {
      "text/plain": [
       "['/home/grads/blessyantony/dev/git/zoonosis/src/jupyter_notebooks',\n",
       " '/home/grads/blessyantony/anaconda3/envs/zoonosis/lib/python310.zip',\n",
       " '/home/grads/blessyantony/anaconda3/envs/zoonosis/lib/python3.10',\n",
       " '/home/grads/blessyantony/anaconda3/envs/zoonosis/lib/python3.10/lib-dynload',\n",
       " '',\n",
       " '/home/grads/blessyantony/anaconda3/envs/zoonosis/lib/python3.10/site-packages',\n",
       " '/home/grads/blessyantony/anaconda3/envs/zoonosis/lib/python3.10/site-packages/PyQt5_sip-12.11.0-py3.10-linux-x86_64.egg',\n",
       " '/home/grads/blessyantony/dev/git/zoonosis/src/jupyter_notebooks/../..',\n",
       " '/home/grads/blessyantony/dev/git/zoonosis/src/jupyter_notebooks/..']"
      ]
     },
     "execution_count": 1,
     "metadata": {},
     "output_type": "execute_result"
    }
   ],
   "source": [
    "import sys\n",
    "import os\n",
    "sys.path.append(os.path.join(os.getcwd(), \"..\", \"..\"))\n",
    "sys.path.append(os.path.join(os.getcwd(), \"..\"))\n",
    "sys.path"
   ]
  },
  {
   "cell_type": "code",
   "execution_count": 2,
   "id": "256b5134",
   "metadata": {},
   "outputs": [],
   "source": [
    "from prediction.models.nlp import transformer\n",
    "from src.utils import utils, nn_utils\n",
    "\n",
    "import torch\n",
    "import torch.nn.functional as F\n",
    "\n",
    "import pandas as pd\n",
    "import numpy as np\n",
    "\n",
    "import matplotlib\n",
    "import matplotlib.pyplot as plt\n",
    "import seaborn as sns\n",
    "\n",
    "from sklearn.manifold import TSNE\n",
    "\n"
   ]
  },
  {
   "cell_type": "code",
   "execution_count": 3,
   "id": "6e0c3063",
   "metadata": {},
   "outputs": [],
   "source": [
    "input_dir = \"/home/grads/blessyantony/dev/git/zoonosis/input/data/uniref90/splits/s79221635\"\n",
    "train_file_names = [\"uniref90_final.csv_tr0.8_train.csv\"]\n",
    "test_file_names = [\"uniref90_final.csv_tr0.8_test.csv\"]\n",
    "\n",
    "label_groupings = {\"Human\": [ \"Homo sapiens\" ],\n",
    "                  \"Desert warthog\": [ \"Phacochoerus aethiopicus\" ],\n",
    "                  \"Lesser bandicoot rat\": [ \"Bandicota bengalensis\" ],\n",
    "                  \"Horse\": [ \"Equus caballus\" ],\n",
    "                  \"Goat\": [ \"Capra hircus\" ],\n",
    "                  \"Red junglefowl\": [ \"Gallus gallus\" ],\n",
    "                  \"Wood mouse\": [ \"Apodemus sylvaticus\" ],\n",
    "                  \"Cattle\": [ \"Bos taurus\" ],\n",
    "                  \"Others\": [ \"*\" ]}\n",
    "host_classes = [\"Homo sapiens\",  \"Phacochoerus aethiopicus\",    \"Bandicota bengalensis\",     \"Equus caballus\",   \"Capra hircus\", \n",
    "                \"Gallus gallus\",   \"Apodemus sylvaticus\",     \"Bos taurus\",  \"Others\"]\n",
    "\n",
    "amino_acid_idx_map = {'A': 1, 'R': 2, 'N': 3, 'D': 4, 'C': 5,\n",
    "                  'Q': 6, 'E': 7, 'G': 8, 'H': 9, 'I': 10,\n",
    "                  'L': 11, 'K': 12, 'M': 13, 'F': 14, 'P': 15,\n",
    "                  'O': 16, 'S': 17, 'U': 18, 'T': 19, 'W': 20,\n",
    "                  'Y': 21, 'V': 22, 'B': 23, 'Z': 24, 'X': 25,\n",
    "                  'J': 26}\n",
    "idx_amino_acid_map = {v:k for k,v in amino_acid_idx_map.items()}\n",
    "\n",
    "train_sequence_settings =  {\n",
    "    \"sequence_col\": \"seq\",\n",
    "    \"batch_size\": 8,\n",
    "    \"max_sequence_length\": 1024,\n",
    "    \"pad_sequence_val\": 0,\n",
    "    \"truncate\": True\n",
    "}\n",
    "\n",
    "test_sequence_settings =  train_sequence_settings.copy()\n",
    "test_sequence_settings[\"batch_size\"] = 1\n",
    "\n",
    "label_settings = {\n",
    "    \"label_col\": \"virus_host_name\",\n",
    "    \"exclude_labels\": [ \"nan\"],\n",
    "    \"label_groupings\":  label_groupings\n",
    "}\n",
    "\n",
    "model = {\n",
    "    \"max_seq_len\": 1024,\n",
    "    \"loss\": \"CrossEntropyLoss\",\n",
    "    \"with_convolution\": False,\n",
    "    \"n_heads\": 8,\n",
    "    \"depth\": 6,\n",
    "    \"n_tokens\": 27,\n",
    "    \"n_classes\": 9,\n",
    "    \"n_epochs\": 10,\n",
    "    \"dim\": 512,\n",
    "    \"weight_initialization\": \"normal\"\n",
    "}"
   ]
  },
  {
   "cell_type": "markdown",
   "id": "d7a4b303",
   "metadata": {},
   "source": [
    "### Load the datasets"
   ]
  },
  {
   "cell_type": "code",
   "execution_count": 4,
   "id": "9dc7319f",
   "metadata": {},
   "outputs": [],
   "source": [
    "def load_dataset(input_dir, input_file_names, sequence_settings):\n",
    "    df = utils.read_dataset(input_dir, input_file_names, cols=[sequence_settings[\"sequence_col\"], label_settings[\"label_col\"]])\n",
    "    df, index_label_map = utils.transform_labels(df, label_settings, classification_type=\"multi\")\n",
    "    dataset_loader = nn_utils.get_dataset_loader(df, sequence_settings, label_settings[\"label_col\"])\n",
    "    return index_label_map, dataset_loader\n",
    "\n",
    "def load_dataset_with_df(df, sequence_settings):\n",
    "    df = df[[sequence_settings[\"sequence_col\"], label_settings[\"label_col\"]]]\n",
    "    df, index_label_map = utils.transform_labels(df, label_settings, classification_type=\"multi\")\n",
    "    dataset_loader = nn_utils.get_dataset_loader(df, sequence_settings, label_settings[\"label_col\"])\n",
    "    return index_label_map, dataset_loader\n",
    "\n",
    "def print_dataset_loader(dataset_loader):\n",
    "    sequence, label = next(iter(dataset_loader))\n",
    "    print(sequence.shape)\n",
    "    print(sequence)\n",
    "    print(label.shape)\n",
    "    print(label)"
   ]
  },
  {
   "cell_type": "markdown",
   "id": "1055848d",
   "metadata": {},
   "source": [
    "### Training-based interpretation\n",
    "#### Encoding visualization - all viruses, all hosts"
   ]
  },
  {
   "cell_type": "code",
   "execution_count": 5,
   "id": "4285e6d7",
   "metadata": {},
   "outputs": [],
   "source": [
    "def compute_dataset_representations(nlp_model, dataset_loader):\n",
    "    nlp_model.eval()\n",
    "    seq_dfs = []\n",
    "    for _, record in enumerate(dataset_loader):\n",
    "        seq, label = record\n",
    "        output = nlp_model(seq)\n",
    "        seq_encoding = nlp_model.encoder.encoding\n",
    "        # embedding = value for each dimension = mean of the dimensional values of all tokens in the input sequence\n",
    "        seq_encoding = torch.mean(seq_encoding, dim=1, keepdim=True)\n",
    "        seq_df = pd.DataFrame(seq_encoding.squeeze().cpu().detach().numpy())\n",
    "        seq_df[\"label\"] = label.squeeze().cpu().detach().numpy()\n",
    "        seq_dfs.append(seq_df)\n",
    "    df = pd.concat(seq_dfs)\n",
    "    print(df.shape)\n",
    "    return df\n",
    "\n",
    "\n",
    "def visualize_dataset(rep_df):\n",
    "    columns = rep_df.columns\n",
    "    print(columns)\n",
    "    X = rep_df[range(512)]\n",
    "    tsne_model = TSNE(n_components=2, verbose=1, init=\"pca\", learning_rate=\"auto\").fit(X)\n",
    "    X_emb = pd.DataFrame(tsne_model.fit_transform(X))\n",
    "    print(X_emb.shape)\n",
    "    print(X_emb)\n",
    "    X_emb[\"label\"] = rep_df[\"label\"].values\n",
    "    return tsne_model, X_emb\n",
    "    \n",
    "def visualize_prediction(nlp_model, seq, label, rep_df):\n",
    "    nlp_model.eval()\n",
    "    output = nlp_model(seq)\n",
    "    seq_encoding = nlp_model.encoder.encoding\n",
    "    seq_encoding = torch.mean(seq_encoding, dim=1, keepdim=True)\n",
    "\n",
    "    seq_df = pd.DataFrame(seq_encoding.squeeze(1).cpu().detach().numpy())\n",
    "    seq_df[\"label\"] = label.squeeze().cpu().detach().numpy()\n",
    "    sample_pred = torch.argmax(F.softmax(output, dim=1), dim=1)\n",
    "    print(f\"Label {label} = {index_label_map[label.item()]}\")\n",
    "    sample_pred_mapped = index_label_map[sample_pred.item()]\n",
    "    print(f\"Prediction {sample_pred}= {sample_pred_mapped}\")\n",
    "    seq_df[\"label\"] = \"prediction-\" + sample_pred_mapped\n",
    "    \n",
    "    rep_df_copy = rep_df.copy()\n",
    "    rep_df_copy[\"label\"] = rep_df[\"label\"].map(index_label_map)\n",
    "    rep_df_copy = rep_df_copy[rep_df_copy[\"label\"] != \"Others\"]\n",
    "    rep_seq_df = pd.concat([rep_df_copy, seq_df])\n",
    "    print(f\"rep_seq_df shape = {rep_seq_df.shape}\")\n",
    "    X = rep_seq_df[range(512)]\n",
    "    print(f\"X shape = {X.shape}\")\n",
    "    \n",
    "    tsne_model = TSNE(n_components=2, verbose=1, init=\"pca\", learning_rate=\"auto\").fit(X)\n",
    "    X_emb = pd.DataFrame(tsne_model.fit_transform(X))\n",
    "    print(f\"X_emb shape = {X_emb.shape}\")\n",
    "    X_emb[\"label\"] = rep_seq_df[\"label\"].values\n",
    "    print(f\"X_emb shape = {X_emb.shape}\")\n",
    "    sns.scatterplot(data = X_emb, x=0, y=1, hue=\"label\")\n",
    "    plt.legend(bbox_to_anchor=(1.02, 1), loc='upper left', borderaxespad=0)\n",
    "    plt.show()"
   ]
  },
  {
   "cell_type": "markdown",
   "id": "6c6faf24",
   "metadata": {},
   "source": [
    "### Testing-based interpretation\n",
    "#### Attention based interpretation"
   ]
  },
  {
   "cell_type": "code",
   "execution_count": 6,
   "id": "9b263cf7",
   "metadata": {},
   "outputs": [],
   "source": [
    "def compute_mean_attn_values(nlp_model):\n",
    "    attn_values = nlp_model.encoder.layers[5].self_attn.self_attn.squeeze()\n",
    "    return torch.mean(attn_values, dim=0)\n",
    "\n",
    "\n",
    "def plot_mean_attention_values(x, seq=None, seq_len=None):\n",
    "    ticklabels = seq.cpu().detach().numpy().squeeze()[:seq_len]\n",
    "    ticklabels_mapped = [idx_amino_acid_map[x] for x in ticklabels]\n",
    "\n",
    "    plt.rcParams['xtick.labelsize'] = 5\n",
    "    plt.rcParams['ytick.labelsize'] = 5\n",
    "    plt.figure(figsize=(12,12))\n",
    "    data = x.cpu().detach().numpy()\n",
    "    \n",
    "    sns.heatmap(data=data[:seq_len, :seq_len], xticklabels=ticklabels_mapped, yticklabels=ticklabels_mapped)\n",
    "    #plt.xticks(rotation=20)\n",
    "    plt.show()\n",
    "\n",
    "\n",
    "def plot_mean_of_mean_attention_values(x, seq=None, seq_len=None, seq_max_length=None):\n",
    "    tokens = seq.cpu().detach().numpy().squeeze()\n",
    "    \n",
    "    x = torch.mean(x, dim=0)\n",
    "    df = pd.DataFrame({\"tokens\": tokens, \"attn_vals\": x.cpu().detach().numpy(), \"pos\": range(seq_max_length)})\n",
    "    df[\"tokens\"] = df[\"tokens\"].map(idx_amino_acid_map)\n",
    "    df = df.dropna()\n",
    "    sorted_df = df.sort_values(by=\"attn_vals\", ascending=False).head(10)\n",
    "    print(\"Top 10 tokens + positions with highest attention values for the whole sequence\")\n",
    "    print(sorted_df.head(10))\n",
    "    plt.rcParams['xtick.labelsize'] = 8\n",
    "    plt.rcParams['ytick.labelsize'] = 8\n",
    "    plt.figure(figsize=(12,6))\n",
    "    sns.scatterplot(data=df, x=\"pos\", y=\"attn_vals\", hue=\"tokens\")\n",
    "    plt.show()\n",
    "    \n",
    "def analyze_attention_of_prediction(nlp_model, sample_seq, sample_label, seq_max_length):\n",
    "    # sample_seq = sample_seq.unsqueeze(0)\n",
    "    seq_len= torch.count_nonzero(sample_seq)\n",
    "    print(sample_seq.shape)\n",
    "    print(f\"seq_len = {seq_len}\")\n",
    "    \n",
    "    nlp_model.eval()\n",
    "    output = nlp_model(sample_seq)\n",
    "    sample_pred = torch.argmax(F.softmax(nlp_model(sample_seq), dim=1), dim=1)\n",
    "    print(f\"Label = {index_label_map[sample_label.item()]}\")\n",
    "    print(f\"Prediction = {index_label_map[sample_pred.item()]}\")\n",
    "    mean_attn_values = compute_mean_attn_values(nlp_model)\n",
    "\n",
    "    plot_mean_attention_values(mean_attn_values, seq=sample_seq, seq_len=seq_len)\n",
    "    plot_mean_of_mean_attention_values(mean_attn_values, seq=sample_seq, seq_len=seq_len, seq_max_length=seq_max_length)\n",
    "    \n",
    "def analyze_attention_of_df(nlp_model, dataset_loader, seq_max_length):\n",
    "    attn_dfs = []\n",
    "    max_seq_len_actual = 0\n",
    "    for _, record in enumerate(dataset_loader):\n",
    "        seq, label = record\n",
    "        seq_len = torch.count_nonzero(seq).item()\n",
    "        if seq_len > max_seq_len_actual:\n",
    "            max_seq_len_actual = seq_len\n",
    "        nlp_model(seq)\n",
    "        mean_attn_values = compute_mean_attn_values(nlp_model)\n",
    "        mean_of_mean = torch.mean(mean_attn_values, dim=0, keepdim=True)\n",
    "        attn_dfs.append(mean_of_mean.cpu().detach().numpy())\n",
    "    print(\"max_seq_len_actual = \", max_seq_len_actual)\n",
    "    attn_df = np.concatenate(attn_dfs, axis=0)\n",
    "    plt.figure(figsize=(12,12))\n",
    "    sns.heatmap(data=attn_df[:,:max_seq_len_actual])"
   ]
  },
  {
   "cell_type": "markdown",
   "id": "48e715d5",
   "metadata": {},
   "source": [
    " ### Analysis Pipeline"
   ]
  },
  {
   "cell_type": "code",
   "execution_count": 7,
   "id": "daf57719",
   "metadata": {},
   "outputs": [],
   "source": [
    "def analyse_model(model, train_dataset_loader, test_dataset_loader, seq_max_length, viz_train=False, viz_test=False):\n",
    "    seq, label = next(iter(test_dataset_loader))\n",
    "    if viz_train:\n",
    "        train_rep_df = compute_dataset_representations(model, train_dataset_loader)\n",
    "        visualize_prediction(model, seq, label, train_rep_df)\n",
    "    if viz_test:\n",
    "        test_rep_df = compute_dataset_representations(model, test_dataset_loader)\n",
    "        visualize_dataset(test_rep_df)\n",
    "    \n",
    "    \n",
    "    analyze_attention_of_prediction(model, seq, label, seq_max_length)\n",
    "    \n",
    "    analyze_attention_of_df(model, test_dataset_loader, seq_max_length)"
   ]
  },
  {
   "cell_type": "markdown",
   "id": "f8dd9bb2",
   "metadata": {},
   "source": [
    "#### UniRef90 Datasets\n",
    "19k\n",
    "all viruses, all hosts, all proteins, without duplicates and single hosts"
   ]
  },
  {
   "cell_type": "code",
   "execution_count": 8,
   "id": "6a8a0c9a",
   "metadata": {},
   "outputs": [
    {
     "name": "stdout",
     "output_type": "stream",
     "text": [
      "input file: /home/grads/blessyantony/dev/git/zoonosis/input/data/uniref90/splits/s79221635/uniref90_final.csv_tr0.8_train.csv, size = (15274, 2)\n",
      "Size of input dataset = (15274, 2)\n",
      "Grouping labels using config : {'Human': ['Homo sapiens'], 'Desert warthog': ['Phacochoerus aethiopicus'], 'Lesser bandicoot rat': ['Bandicota bengalensis'], 'Horse': ['Equus caballus'], 'Goat': ['Capra hircus'], 'Red junglefowl': ['Gallus gallus'], 'Wood mouse': ['Apodemus sylvaticus'], 'Cattle': ['Bos taurus'], 'Others': ['*']}\n",
      "label_idx_map={'Cattle': 0, 'Desert warthog': 1, 'Goat': 2, 'Horse': 3, 'Human': 4, 'Lesser bandicoot rat': 5, 'Others': 6, 'Red junglefowl': 7, 'Wood mouse': 8}\n",
      "idx_label_map={0: 'Cattle', 1: 'Desert warthog', 2: 'Goat', 3: 'Horse', 4: 'Human', 5: 'Lesser bandicoot rat', 6: 'Others', 7: 'Red junglefowl', 8: 'Wood mouse'}\n",
      "[4 3 0 6 5 1 2 8 7]\n",
      "torch.Size([8, 1024])\n",
      "tensor([[13,  8,  8,  ...,  0,  0,  0],\n",
      "        [13, 11, 22,  ...,  0,  0,  0],\n",
      "        [22, 10,  9,  ..., 25, 25, 25],\n",
      "        ...,\n",
      "        [17,  2, 11,  ...,  0,  0,  0],\n",
      "        [13, 17,  8,  ...,  0,  0,  0],\n",
      "        [ 7,  4, 20,  ...,  0,  0,  0]], device='cuda:0')\n",
      "torch.Size([8])\n",
      "tensor([4, 6, 5, 4, 4, 4, 6, 4], device='cuda:0')\n"
     ]
    }
   ],
   "source": [
    "index_label_map, train_dataset_loader = load_dataset(input_dir, train_file_names, train_sequence_settings)\n",
    "print_dataset_loader(train_dataset_loader)"
   ]
  },
  {
   "cell_type": "code",
   "execution_count": 9,
   "id": "87b0e375",
   "metadata": {},
   "outputs": [
    {
     "name": "stdout",
     "output_type": "stream",
     "text": [
      "input file: /home/grads/blessyantony/dev/git/zoonosis/input/data/uniref90/splits/s79221635/uniref90_final.csv_tr0.8_test.csv, size = (3819, 2)\n",
      "Size of input dataset = (3819, 2)\n",
      "Grouping labels using config : {'Human': ['Homo sapiens'], 'Desert warthog': ['Phacochoerus aethiopicus'], 'Lesser bandicoot rat': ['Bandicota bengalensis'], 'Horse': ['Equus caballus'], 'Goat': ['Capra hircus'], 'Red junglefowl': ['Gallus gallus'], 'Wood mouse': ['Apodemus sylvaticus'], 'Cattle': ['Bos taurus'], 'Others': ['*']}\n",
      "label_idx_map={'Cattle': 0, 'Desert warthog': 1, 'Goat': 2, 'Horse': 3, 'Human': 4, 'Lesser bandicoot rat': 5, 'Others': 6, 'Red junglefowl': 7, 'Wood mouse': 8}\n",
      "idx_label_map={0: 'Cattle', 1: 'Desert warthog', 2: 'Goat', 3: 'Horse', 4: 'Human', 5: 'Lesser bandicoot rat', 6: 'Others', 7: 'Red junglefowl', 8: 'Wood mouse'}\n",
      "[4 5 3 1 7 8 6 0 2]\n",
      "torch.Size([1, 1024])\n",
      "tensor([[17,  2, 10,  ...,  0,  0,  0]], device='cuda:0')\n",
      "torch.Size([1])\n",
      "tensor([4], device='cuda:0')\n"
     ]
    }
   ],
   "source": [
    "index_label_map, test_dataset_loader = load_dataset(input_dir, test_file_names, test_sequence_settings)\n",
    "print_dataset_loader(test_dataset_loader)"
   ]
  },
  {
   "cell_type": "markdown",
   "id": "427e2adb",
   "metadata": {},
   "source": [
    "#### UniProtKB Coronavirus only"
   ]
  },
  {
   "cell_type": "code",
   "execution_count": 10,
   "id": "e2c949e7",
   "metadata": {},
   "outputs": [
    {
     "data": {
      "text/html": [
       "<div>\n",
       "<style scoped>\n",
       "    .dataframe tbody tr th:only-of-type {\n",
       "        vertical-align: middle;\n",
       "    }\n",
       "\n",
       "    .dataframe tbody tr th {\n",
       "        vertical-align: top;\n",
       "    }\n",
       "\n",
       "    .dataframe thead th {\n",
       "        text-align: right;\n",
       "    }\n",
       "</style>\n",
       "<table border=\"1\" class=\"dataframe\">\n",
       "  <thead>\n",
       "    <tr style=\"text-align: right;\">\n",
       "      <th></th>\n",
       "      <th>id</th>\n",
       "      <th>seq</th>\n",
       "      <th>virus</th>\n",
       "      <th>seq_len</th>\n",
       "      <th>virus_host</th>\n",
       "      <th>binary_label</th>\n",
       "    </tr>\n",
       "  </thead>\n",
       "  <tbody>\n",
       "    <tr>\n",
       "      <th>0</th>\n",
       "      <td>A3EX94</td>\n",
       "      <td>MTLLMCLLMSLLIFVRGCDSQFVDMSPASNTSECLESQVDAAAFSK...</td>\n",
       "      <td>Bat coronavirus HKU4 (BtCoV) (BtCoV/HKU4/2004)</td>\n",
       "      <td>1352</td>\n",
       "      <td>Tylonycteris pachypus (Lesser bamboo bat) (Ves...</td>\n",
       "      <td>Not Human</td>\n",
       "    </tr>\n",
       "    <tr>\n",
       "      <th>1</th>\n",
       "      <td>A3EXD0</td>\n",
       "      <td>MIRSVLVLMCSLTFIGNLTRGQSVDMGHNGTGSCLDSQVQPDYFES...</td>\n",
       "      <td>Bat coronavirus HKU5 (BtCoV) (BtCoV/HKU5/2004)</td>\n",
       "      <td>1352</td>\n",
       "      <td>Pipistrellus abramus (Japanese pipistrelle) (P...</td>\n",
       "      <td>Not Human</td>\n",
       "    </tr>\n",
       "    <tr>\n",
       "      <th>2</th>\n",
       "      <td>P0DTC2</td>\n",
       "      <td>MFVFLVLLPLVSSQCVNLTTRTQLPPAYTNSFTRGVYYPDKVFRSS...</td>\n",
       "      <td>Severe acute respiratory syndrome coronavirus ...</td>\n",
       "      <td>1273</td>\n",
       "      <td>Homo sapiens (Human) [TaxID: 9606]</td>\n",
       "      <td>Human</td>\n",
       "    </tr>\n",
       "    <tr>\n",
       "      <th>3</th>\n",
       "      <td>P11223</td>\n",
       "      <td>MLVTPLLLVTLLCALCSAVLYDSSSYVYYYQSAFRPPSGWHLQGGA...</td>\n",
       "      <td>Avian infectious bronchitis virus (strain Beau...</td>\n",
       "      <td>1162</td>\n",
       "      <td>Gallus gallus (Chicken) [TaxID: 9031]</td>\n",
       "      <td>Not Human</td>\n",
       "    </tr>\n",
       "    <tr>\n",
       "      <th>4</th>\n",
       "      <td>P12651</td>\n",
       "      <td>MLVTPLLLVTLLCVLCSAALYDSSSYVYYYQSAFRPPNGWHLHGGA...</td>\n",
       "      <td>Avian infectious bronchitis virus (strain M41)...</td>\n",
       "      <td>1162</td>\n",
       "      <td>Gallus gallus (Chicken) [TaxID: 9031]</td>\n",
       "      <td>Not Human</td>\n",
       "    </tr>\n",
       "  </tbody>\n",
       "</table>\n",
       "</div>"
      ],
      "text/plain": [
       "       id                                                seq  \\\n",
       "0  A3EX94  MTLLMCLLMSLLIFVRGCDSQFVDMSPASNTSECLESQVDAAAFSK...   \n",
       "1  A3EXD0  MIRSVLVLMCSLTFIGNLTRGQSVDMGHNGTGSCLDSQVQPDYFES...   \n",
       "2  P0DTC2  MFVFLVLLPLVSSQCVNLTTRTQLPPAYTNSFTRGVYYPDKVFRSS...   \n",
       "3  P11223  MLVTPLLLVTLLCALCSAVLYDSSSYVYYYQSAFRPPSGWHLQGGA...   \n",
       "4  P12651  MLVTPLLLVTLLCVLCSAALYDSSSYVYYYQSAFRPPNGWHLHGGA...   \n",
       "\n",
       "                                               virus  seq_len  \\\n",
       "0     Bat coronavirus HKU4 (BtCoV) (BtCoV/HKU4/2004)     1352   \n",
       "1     Bat coronavirus HKU5 (BtCoV) (BtCoV/HKU5/2004)     1352   \n",
       "2  Severe acute respiratory syndrome coronavirus ...     1273   \n",
       "3  Avian infectious bronchitis virus (strain Beau...     1162   \n",
       "4  Avian infectious bronchitis virus (strain M41)...     1162   \n",
       "\n",
       "                                          virus_host binary_label  \n",
       "0  Tylonycteris pachypus (Lesser bamboo bat) (Ves...    Not Human  \n",
       "1  Pipistrellus abramus (Japanese pipistrelle) (P...    Not Human  \n",
       "2                 Homo sapiens (Human) [TaxID: 9606]        Human  \n",
       "3              Gallus gallus (Chicken) [TaxID: 9031]    Not Human  \n",
       "4              Gallus gallus (Chicken) [TaxID: 9031]    Not Human  "
      ]
     },
     "execution_count": 10,
     "metadata": {},
     "output_type": "execute_result"
    }
   ],
   "source": [
    "uniref90_coronaviruses_df = pd.read_csv(\"/home/grads/blessyantony/dev/git/zoonosis/input/data/coronaviridae/coronaviridae_top_7_hosts.csv\")\n",
    "uniref90_coronaviruses_df.head()"
   ]
  },
  {
   "cell_type": "code",
   "execution_count": 11,
   "id": "a4440ec0",
   "metadata": {},
   "outputs": [
    {
     "data": {
      "text/plain": [
       "Sus scrofa (Pig) [TaxID: 9823]                                                                  2620\n",
       "Homo sapiens (Human) [TaxID: 9606]                                                              2400\n",
       "Meleagris gallopavo (Wild turkey) [TaxID: 9103]                                                   36\n",
       "Pipistrellus abramus (Japanese pipistrelle) (Pipistrellus javanicus abramus) [TaxID: 105295]      19\n",
       "Tylonycteris pachypus (Lesser bamboo bat) (Vespertilio pachypus) [TaxID: 258959]                  17\n",
       "Gallus gallus (Chicken) [TaxID: 9031]                                                             13\n",
       "Bos taurus (Bovine) [TaxID: 9913]                                                                 10\n",
       "Name: virus_host, dtype: int64"
      ]
     },
     "execution_count": 11,
     "metadata": {},
     "output_type": "execute_result"
    }
   ],
   "source": [
    "uniref90_coronaviruses_df[\"virus_host\"].value_counts()"
   ]
  },
  {
   "cell_type": "code",
   "execution_count": 12,
   "id": "23898e62",
   "metadata": {},
   "outputs": [
    {
     "name": "stdout",
     "output_type": "stream",
     "text": [
      "(2400, 6)\n"
     ]
    },
    {
     "data": {
      "text/html": [
       "<div>\n",
       "<style scoped>\n",
       "    .dataframe tbody tr th:only-of-type {\n",
       "        vertical-align: middle;\n",
       "    }\n",
       "\n",
       "    .dataframe tbody tr th {\n",
       "        vertical-align: top;\n",
       "    }\n",
       "\n",
       "    .dataframe thead th {\n",
       "        text-align: right;\n",
       "    }\n",
       "</style>\n",
       "<table border=\"1\" class=\"dataframe\">\n",
       "  <thead>\n",
       "    <tr style=\"text-align: right;\">\n",
       "      <th></th>\n",
       "      <th>id</th>\n",
       "      <th>seq</th>\n",
       "      <th>virus</th>\n",
       "      <th>seq_len</th>\n",
       "      <th>virus_host</th>\n",
       "      <th>binary_label</th>\n",
       "    </tr>\n",
       "  </thead>\n",
       "  <tbody>\n",
       "    <tr>\n",
       "      <th>2</th>\n",
       "      <td>P0DTC2</td>\n",
       "      <td>MFVFLVLLPLVSSQCVNLTTRTQLPPAYTNSFTRGVYYPDKVFRSS...</td>\n",
       "      <td>Severe acute respiratory syndrome coronavirus ...</td>\n",
       "      <td>1273</td>\n",
       "      <td>Homo sapiens (Human) [TaxID: 9606]</td>\n",
       "      <td>Human</td>\n",
       "    </tr>\n",
       "    <tr>\n",
       "      <th>5</th>\n",
       "      <td>P15423</td>\n",
       "      <td>MFVLLVAYALLHIAGCQTTNGLNTSYSVCNGCVGYSENVFAVESGG...</td>\n",
       "      <td>Human coronavirus 229E (HCoV-229E)</td>\n",
       "      <td>1173</td>\n",
       "      <td>Homo sapiens (Human) [TaxID: 9606]</td>\n",
       "      <td>Human</td>\n",
       "    </tr>\n",
       "    <tr>\n",
       "      <th>12</th>\n",
       "      <td>P36334</td>\n",
       "      <td>MFLILLISLPTAFAVIGDLKCTSDNINDKDTGPPPISTDTVDVTNG...</td>\n",
       "      <td>Human coronavirus OC43 (HCoV-OC43)</td>\n",
       "      <td>1353</td>\n",
       "      <td>Homo sapiens (Human) [TaxID: 9606]</td>\n",
       "      <td>Human</td>\n",
       "    </tr>\n",
       "    <tr>\n",
       "      <th>14</th>\n",
       "      <td>Q0ZME7</td>\n",
       "      <td>MFLIIFILPTTLAVIGDFNCTNSFINDYNKTIPRISEDVVDVSLGL...</td>\n",
       "      <td>Human coronavirus HKU1 (isolate N5) (HCoV-HKU1)</td>\n",
       "      <td>1351</td>\n",
       "      <td>Homo sapiens (Human) [TaxID: 9606]</td>\n",
       "      <td>Human</td>\n",
       "    </tr>\n",
       "    <tr>\n",
       "      <th>15</th>\n",
       "      <td>Q14EB0</td>\n",
       "      <td>MFLIIFILPTTLAVIGDFNCTNSFINDYNKTIPRISEDVVDVSLGL...</td>\n",
       "      <td>Human coronavirus HKU1 (isolate N2) (HCoV-HKU1)</td>\n",
       "      <td>1351</td>\n",
       "      <td>Homo sapiens (Human) [TaxID: 9606]</td>\n",
       "      <td>Human</td>\n",
       "    </tr>\n",
       "  </tbody>\n",
       "</table>\n",
       "</div>"
      ],
      "text/plain": [
       "        id                                                seq  \\\n",
       "2   P0DTC2  MFVFLVLLPLVSSQCVNLTTRTQLPPAYTNSFTRGVYYPDKVFRSS...   \n",
       "5   P15423  MFVLLVAYALLHIAGCQTTNGLNTSYSVCNGCVGYSENVFAVESGG...   \n",
       "12  P36334  MFLILLISLPTAFAVIGDLKCTSDNINDKDTGPPPISTDTVDVTNG...   \n",
       "14  Q0ZME7  MFLIIFILPTTLAVIGDFNCTNSFINDYNKTIPRISEDVVDVSLGL...   \n",
       "15  Q14EB0  MFLIIFILPTTLAVIGDFNCTNSFINDYNKTIPRISEDVVDVSLGL...   \n",
       "\n",
       "                                                virus  seq_len  \\\n",
       "2   Severe acute respiratory syndrome coronavirus ...     1273   \n",
       "5                  Human coronavirus 229E (HCoV-229E)     1173   \n",
       "12                 Human coronavirus OC43 (HCoV-OC43)     1353   \n",
       "14    Human coronavirus HKU1 (isolate N5) (HCoV-HKU1)     1351   \n",
       "15    Human coronavirus HKU1 (isolate N2) (HCoV-HKU1)     1351   \n",
       "\n",
       "                            virus_host binary_label  \n",
       "2   Homo sapiens (Human) [TaxID: 9606]        Human  \n",
       "5   Homo sapiens (Human) [TaxID: 9606]        Human  \n",
       "12  Homo sapiens (Human) [TaxID: 9606]        Human  \n",
       "14  Homo sapiens (Human) [TaxID: 9606]        Human  \n",
       "15  Homo sapiens (Human) [TaxID: 9606]        Human  "
      ]
     },
     "execution_count": 12,
     "metadata": {},
     "output_type": "execute_result"
    }
   ],
   "source": [
    "uniref90_coronaviruses_humans_df = uniref90_coronaviruses_df[uniref90_coronaviruses_df[\"virus_host\"] == \"Homo sapiens (Human) [TaxID: 9606]\"]\n",
    "print(uniref90_coronaviruses_humans_df.shape)\n",
    "uniref90_coronaviruses_humans_df.head()"
   ]
  },
  {
   "cell_type": "code",
   "execution_count": 13,
   "id": "54c49ed0",
   "metadata": {},
   "outputs": [
    {
     "name": "stderr",
     "output_type": "stream",
     "text": [
      "/tmp/ipykernel_20626/804901245.py:1: SettingWithCopyWarning: \n",
      "A value is trying to be set on a copy of a slice from a DataFrame.\n",
      "Try using .loc[row_indexer,col_indexer] = value instead\n",
      "\n",
      "See the caveats in the documentation: https://pandas.pydata.org/pandas-docs/stable/user_guide/indexing.html#returning-a-view-versus-a-copy\n",
      "  uniref90_coronaviruses_humans_df[\"virus_host\"] = \"Homo sapiens\"\n",
      "/tmp/ipykernel_20626/804901245.py:2: SettingWithCopyWarning: \n",
      "A value is trying to be set on a copy of a slice from a DataFrame\n",
      "\n",
      "See the caveats in the documentation: https://pandas.pydata.org/pandas-docs/stable/user_guide/indexing.html#returning-a-view-versus-a-copy\n",
      "  uniref90_coronaviruses_humans_df.rename(columns={\"virus_host\": \"virus_host_name\"}, inplace=True)\n"
     ]
    },
    {
     "data": {
      "text/html": [
       "<div>\n",
       "<style scoped>\n",
       "    .dataframe tbody tr th:only-of-type {\n",
       "        vertical-align: middle;\n",
       "    }\n",
       "\n",
       "    .dataframe tbody tr th {\n",
       "        vertical-align: top;\n",
       "    }\n",
       "\n",
       "    .dataframe thead th {\n",
       "        text-align: right;\n",
       "    }\n",
       "</style>\n",
       "<table border=\"1\" class=\"dataframe\">\n",
       "  <thead>\n",
       "    <tr style=\"text-align: right;\">\n",
       "      <th></th>\n",
       "      <th>id</th>\n",
       "      <th>seq</th>\n",
       "      <th>virus</th>\n",
       "      <th>seq_len</th>\n",
       "      <th>virus_host_name</th>\n",
       "      <th>binary_label</th>\n",
       "    </tr>\n",
       "  </thead>\n",
       "  <tbody>\n",
       "    <tr>\n",
       "      <th>2</th>\n",
       "      <td>P0DTC2</td>\n",
       "      <td>MFVFLVLLPLVSSQCVNLTTRTQLPPAYTNSFTRGVYYPDKVFRSS...</td>\n",
       "      <td>Severe acute respiratory syndrome coronavirus ...</td>\n",
       "      <td>1273</td>\n",
       "      <td>Homo sapiens</td>\n",
       "      <td>Human</td>\n",
       "    </tr>\n",
       "    <tr>\n",
       "      <th>5</th>\n",
       "      <td>P15423</td>\n",
       "      <td>MFVLLVAYALLHIAGCQTTNGLNTSYSVCNGCVGYSENVFAVESGG...</td>\n",
       "      <td>Human coronavirus 229E (HCoV-229E)</td>\n",
       "      <td>1173</td>\n",
       "      <td>Homo sapiens</td>\n",
       "      <td>Human</td>\n",
       "    </tr>\n",
       "    <tr>\n",
       "      <th>12</th>\n",
       "      <td>P36334</td>\n",
       "      <td>MFLILLISLPTAFAVIGDLKCTSDNINDKDTGPPPISTDTVDVTNG...</td>\n",
       "      <td>Human coronavirus OC43 (HCoV-OC43)</td>\n",
       "      <td>1353</td>\n",
       "      <td>Homo sapiens</td>\n",
       "      <td>Human</td>\n",
       "    </tr>\n",
       "    <tr>\n",
       "      <th>14</th>\n",
       "      <td>Q0ZME7</td>\n",
       "      <td>MFLIIFILPTTLAVIGDFNCTNSFINDYNKTIPRISEDVVDVSLGL...</td>\n",
       "      <td>Human coronavirus HKU1 (isolate N5) (HCoV-HKU1)</td>\n",
       "      <td>1351</td>\n",
       "      <td>Homo sapiens</td>\n",
       "      <td>Human</td>\n",
       "    </tr>\n",
       "    <tr>\n",
       "      <th>15</th>\n",
       "      <td>Q14EB0</td>\n",
       "      <td>MFLIIFILPTTLAVIGDFNCTNSFINDYNKTIPRISEDVVDVSLGL...</td>\n",
       "      <td>Human coronavirus HKU1 (isolate N2) (HCoV-HKU1)</td>\n",
       "      <td>1351</td>\n",
       "      <td>Homo sapiens</td>\n",
       "      <td>Human</td>\n",
       "    </tr>\n",
       "  </tbody>\n",
       "</table>\n",
       "</div>"
      ],
      "text/plain": [
       "        id                                                seq  \\\n",
       "2   P0DTC2  MFVFLVLLPLVSSQCVNLTTRTQLPPAYTNSFTRGVYYPDKVFRSS...   \n",
       "5   P15423  MFVLLVAYALLHIAGCQTTNGLNTSYSVCNGCVGYSENVFAVESGG...   \n",
       "12  P36334  MFLILLISLPTAFAVIGDLKCTSDNINDKDTGPPPISTDTVDVTNG...   \n",
       "14  Q0ZME7  MFLIIFILPTTLAVIGDFNCTNSFINDYNKTIPRISEDVVDVSLGL...   \n",
       "15  Q14EB0  MFLIIFILPTTLAVIGDFNCTNSFINDYNKTIPRISEDVVDVSLGL...   \n",
       "\n",
       "                                                virus  seq_len  \\\n",
       "2   Severe acute respiratory syndrome coronavirus ...     1273   \n",
       "5                  Human coronavirus 229E (HCoV-229E)     1173   \n",
       "12                 Human coronavirus OC43 (HCoV-OC43)     1353   \n",
       "14    Human coronavirus HKU1 (isolate N5) (HCoV-HKU1)     1351   \n",
       "15    Human coronavirus HKU1 (isolate N2) (HCoV-HKU1)     1351   \n",
       "\n",
       "   virus_host_name binary_label  \n",
       "2     Homo sapiens        Human  \n",
       "5     Homo sapiens        Human  \n",
       "12    Homo sapiens        Human  \n",
       "14    Homo sapiens        Human  \n",
       "15    Homo sapiens        Human  "
      ]
     },
     "execution_count": 13,
     "metadata": {},
     "output_type": "execute_result"
    }
   ],
   "source": [
    "uniref90_coronaviruses_humans_df[\"virus_host\"] = \"Homo sapiens\"\n",
    "uniref90_coronaviruses_humans_df.rename(columns={\"virus_host\": \"virus_host_name\"}, inplace=True)\n",
    "uniref90_coronaviruses_humans_df.head()"
   ]
  },
  {
   "cell_type": "code",
   "execution_count": 14,
   "id": "65e1d908",
   "metadata": {},
   "outputs": [
    {
     "name": "stdout",
     "output_type": "stream",
     "text": [
      "min seq len = 35\n",
      "max seq len = 1366\n"
     ]
    },
    {
     "data": {
      "image/png": "[encoded data removed]",
      "text/plain": [
       "<Figure size 640x480 with 1 Axes>"
      ]
     },
     "metadata": {},
     "output_type": "display_data"
    }
   ],
   "source": [
    "sns.histplot(uniref90_coronaviruses_humans_df[\"seq_len\"])\n",
    "print(f\"min seq len = {min(uniref90_coronaviruses_humans_df['seq_len'])}\")\n",
    "print(f\"max seq len = {max(uniref90_coronaviruses_humans_df['seq_len'])}\")\n",
    "plt.show()"
   ]
  },
  {
   "cell_type": "code",
   "execution_count": 16,
   "id": "1f371b50",
   "metadata": {},
   "outputs": [
    {
     "name": "stdout",
     "output_type": "stream",
     "text": [
      "Grouping labels using config : {'Human': ['Homo sapiens'], 'Desert warthog': ['Phacochoerus aethiopicus'], 'Lesser bandicoot rat': ['Bandicota bengalensis'], 'Horse': ['Equus caballus'], 'Goat': ['Capra hircus'], 'Red junglefowl': ['Gallus gallus'], 'Wood mouse': ['Apodemus sylvaticus'], 'Cattle': ['Bos taurus'], 'Others': ['*']}\n",
      "label_idx_map={'Human': 0}\n",
      "idx_label_map={0: 'Human'}\n",
      "[0]\n",
      "torch.Size([8, 1024])\n",
      "tensor([[13, 12, 11,  ...,  0,  0,  0],\n",
      "        [22, 11, 15,  ...,  0,  0,  0],\n",
      "        [13, 14, 22,  ...,  1,  3, 11],\n",
      "        ...,\n",
      "        [13, 14, 22,  ...,  1,  3, 11],\n",
      "        [13, 12, 11,  ...,  0,  0,  0],\n",
      "        [11, 15, 15,  ...,  0,  0,  0]], device='cuda:0')\n",
      "torch.Size([8])\n",
      "tensor([0, 0, 0, 0, 0, 0, 0, 0], device='cuda:0')\n"
     ]
    },
    {
     "name": "stderr",
     "output_type": "stream",
     "text": [
      "/home/grads/blessyantony/dev/git/zoonosis/src/jupyter_notebooks/../../src/utils/utils.py:52: SettingWithCopyWarning: \n",
      "A value is trying to be set on a copy of a slice from a DataFrame\n",
      "\n",
      "See the caveats in the documentation: https://pandas.pydata.org/pandas-docs/stable/user_guide/indexing.html#returning-a-view-versus-a-copy\n",
      "  df.loc[df[label_col].isin(v), label_col] = k\n",
      "/home/grads/blessyantony/dev/git/zoonosis/src/jupyter_notebooks/../../src/utils/utils.py:55: SettingWithCopyWarning: \n",
      "A value is trying to be set on a copy of a slice from a DataFrame\n",
      "\n",
      "See the caveats in the documentation: https://pandas.pydata.org/pandas-docs/stable/user_guide/indexing.html#returning-a-view-versus-a-copy\n",
      "  df.loc[~df[label_col].isin(values), label_col] = group_others_key\n",
      "/home/grads/blessyantony/dev/git/zoonosis/src/jupyter_notebooks/../../src/utils/utils.py:39: SettingWithCopyWarning: \n",
      "A value is trying to be set on a copy of a slice from a DataFrame.\n",
      "Try using .loc[row_indexer,col_indexer] = value instead\n",
      "\n",
      "See the caveats in the documentation: https://pandas.pydata.org/pandas-docs/stable/user_guide/indexing.html#returning-a-view-versus-a-copy\n",
      "  df[label_col] = df[label_col].transform(lambda x: label_idx_map[x])\n",
      "/home/grads/blessyantony/dev/git/zoonosis/src/jupyter_notebooks/../prediction/datasets/protein_sequence_dataset.py:31: SettingWithCopyWarning: \n",
      "A value is trying to be set on a copy of a slice from a DataFrame.\n",
      "Try using .loc[row_indexer,col_indexer] = value instead\n",
      "\n",
      "See the caveats in the documentation: https://pandas.pydata.org/pandas-docs/stable/user_guide/indexing.html#returning-a-view-versus-a-copy\n",
      "  df[self.sequence_col] = df[self.sequence_col].apply(lambda x: x[0:self.max_seq_len])\n"
     ]
    }
   ],
   "source": [
    "_, coronavirus_dataset_loader = load_dataset_with_df(uniref90_coronaviruses_humans_df, train_sequence_settings)\n",
    "print_dataset_loader(coronavirus_dataset_loader)\n"
   ]
  },
  {
   "cell_type": "markdown",
   "id": "ab719dd1",
   "metadata": {},
   "source": [
    "### Load the trained model"
   ]
  },
  {
   "cell_type": "markdown",
   "id": "410b4d3b",
   "metadata": {},
   "source": [
    "#### Model: TF - PosEmb_SINCOS - MSL_1024 - d_512\n",
    "#### Initialization: Normal"
   ]
  },
  {
   "cell_type": "code",
   "execution_count": 18,
   "id": "dada368d",
   "metadata": {},
   "outputs": [
    {
     "name": "stdout",
     "output_type": "stream",
     "text": [
      "WARNING: 'Embedding' object has no attribute 'bias'\n",
      "WARNING: 'PositionalEncoding' object has no attribute 'weight'\n",
      "WARNING: 'EmbeddingLayer' object has no attribute 'weight'\n",
      "WARNING: 'MultiHeadAttention' object has no attribute 'weight'\n",
      "WARNING: 'FeedForwardLayer' object has no attribute 'weight'\n",
      "WARNING: 'NormalizationLayer' object has no attribute 'weight'\n",
      "WARNING: 'ResidualConnectionLayer' object has no attribute 'weight'\n",
      "WARNING: 'NormalizationLayer' object has no attribute 'weight'\n",
      "WARNING: 'ResidualConnectionLayer' object has no attribute 'weight'\n",
      "WARNING: 'ModuleList' object has no attribute 'weight'\n",
      "WARNING: 'EncoderLayer' object has no attribute 'weight'\n",
      "WARNING: 'MultiHeadAttention' object has no attribute 'weight'\n",
      "WARNING: 'FeedForwardLayer' object has no attribute 'weight'\n",
      "WARNING: 'NormalizationLayer' object has no attribute 'weight'\n",
      "WARNING: 'ResidualConnectionLayer' object has no attribute 'weight'\n",
      "WARNING: 'NormalizationLayer' object has no attribute 'weight'\n",
      "WARNING: 'ResidualConnectionLayer' object has no attribute 'weight'\n",
      "WARNING: 'ModuleList' object has no attribute 'weight'\n",
      "WARNING: 'EncoderLayer' object has no attribute 'weight'\n",
      "WARNING: 'MultiHeadAttention' object has no attribute 'weight'\n",
      "WARNING: 'FeedForwardLayer' object has no attribute 'weight'\n",
      "WARNING: 'NormalizationLayer' object has no attribute 'weight'\n",
      "WARNING: 'ResidualConnectionLayer' object has no attribute 'weight'\n",
      "WARNING: 'NormalizationLayer' object has no attribute 'weight'\n",
      "WARNING: 'ResidualConnectionLayer' object has no attribute 'weight'\n",
      "WARNING: 'ModuleList' object has no attribute 'weight'\n",
      "WARNING: 'EncoderLayer' object has no attribute 'weight'\n",
      "WARNING: 'MultiHeadAttention' object has no attribute 'weight'\n",
      "WARNING: 'FeedForwardLayer' object has no attribute 'weight'\n",
      "WARNING: 'NormalizationLayer' object has no attribute 'weight'\n",
      "WARNING: 'ResidualConnectionLayer' object has no attribute 'weight'\n",
      "WARNING: 'NormalizationLayer' object has no attribute 'weight'\n",
      "WARNING: 'ResidualConnectionLayer' object has no attribute 'weight'\n",
      "WARNING: 'ModuleList' object has no attribute 'weight'\n",
      "WARNING: 'EncoderLayer' object has no attribute 'weight'\n",
      "WARNING: 'MultiHeadAttention' object has no attribute 'weight'\n",
      "WARNING: 'FeedForwardLayer' object has no attribute 'weight'\n",
      "WARNING: 'NormalizationLayer' object has no attribute 'weight'\n",
      "WARNING: 'ResidualConnectionLayer' object has no attribute 'weight'\n",
      "WARNING: 'NormalizationLayer' object has no attribute 'weight'\n",
      "WARNING: 'ResidualConnectionLayer' object has no attribute 'weight'\n",
      "WARNING: 'ModuleList' object has no attribute 'weight'\n",
      "WARNING: 'EncoderLayer' object has no attribute 'weight'\n",
      "WARNING: 'MultiHeadAttention' object has no attribute 'weight'\n",
      "WARNING: 'FeedForwardLayer' object has no attribute 'weight'\n",
      "WARNING: 'NormalizationLayer' object has no attribute 'weight'\n",
      "WARNING: 'ResidualConnectionLayer' object has no attribute 'weight'\n",
      "WARNING: 'NormalizationLayer' object has no attribute 'weight'\n",
      "WARNING: 'ResidualConnectionLayer' object has no attribute 'weight'\n",
      "WARNING: 'ModuleList' object has no attribute 'weight'\n",
      "WARNING: 'EncoderLayer' object has no attribute 'weight'\n",
      "WARNING: 'ModuleList' object has no attribute 'weight'\n",
      "WARNING: 'NormalizationLayer' object has no attribute 'weight'\n",
      "WARNING: 'Encoder' object has no attribute 'weight'\n",
      "WARNING: 'Transformer' object has no attribute 'weight'\n",
      "Transformer(\n",
      "  (embedding): EmbeddingLayer(\n",
      "    (token_embedding): Embedding(27, 512)\n",
      "    (positional_embedding): PositionalEncoding()\n",
      "  )\n",
      "  (encoder): Encoder(\n",
      "    (layers): ModuleList(\n",
      "      (0-5): 6 x EncoderLayer(\n",
      "        (self_attn): MultiHeadAttention(\n",
      "          (W_Q): Linear(in_features=512, out_features=512, bias=True)\n",
      "          (W_K): Linear(in_features=512, out_features=512, bias=True)\n",
      "          (W_V): Linear(in_features=512, out_features=512, bias=True)\n",
      "          (W_O): Linear(in_features=512, out_features=512, bias=True)\n",
      "        )\n",
      "        (feed_forward): FeedForwardLayer(\n",
      "          (W_1): Linear(in_features=512, out_features=2048, bias=True)\n",
      "          (W_2): Linear(in_features=2048, out_features=512, bias=True)\n",
      "        )\n",
      "        (residual_connections): ModuleList(\n",
      "          (0-1): 2 x ResidualConnectionLayer(\n",
      "            (norm): NormalizationLayer()\n",
      "          )\n",
      "        )\n",
      "      )\n",
      "    )\n",
      "    (norm): NormalizationLayer()\n",
      "  )\n",
      "  (linear): Linear(in_features=512, out_features=9, bias=True)\n",
      ")\n",
      "Number of parameters =  18920457\n",
      "Weight initialization = normal\n"
     ]
    }
   ],
   "source": [
    "model_path = \"/home/grads/blessyantony/dev/git/zoonosis/output/raw/uniref90/20230531/host_multi-w_normal/transformer-crossentropy_itr4.pth\"\n",
    "\n",
    "nlp_model = transformer.get_transformer_model(model)\n",
    "nlp_model.load_state_dict(torch.load(model_path))\n",
    "nlp_model = nlp_model.to(nn_utils.get_device())\n"
   ]
  },
  {
   "cell_type": "code",
   "execution_count": null,
   "id": "3b3c933d",
   "metadata": {},
   "outputs": [],
   "source": [
    "analyse_model(nlp_model, train_dataset_loader, test_dataset_loader, seq_max_length=1024, viz_train=True, viz_test=False)"
   ]
  },
  {
   "cell_type": "code",
   "execution_count": null,
   "id": "748bfca6",
   "metadata": {},
   "outputs": [],
   "source": [
    "analyse_model(nlp_model, train_dataset_loader, coronavirus_dataset_loader, seq_max_length=1024, viz_train=False, viz_test=True)"
   ]
  },
  {
   "cell_type": "code",
   "execution_count": null,
   "id": "f45c15a4",
   "metadata": {},
   "outputs": [],
   "source": [
    "from Bio import motifs\n",
    "from Bio.Seq import Seq\n",
    "from Bio.Alphabet import generic_protein"
   ]
  },
  {
   "cell_type": "code",
   "execution_count": null,
   "id": "c04a65f2",
   "metadata": {},
   "outputs": [],
   "source": [
    "instances = []\n",
    "for s in uniref90_coronaviruses_humans_df[\"seq\"]:\n",
    "    if len(s) >= 900:\n",
    "        instances.append(Seq(s[:900]))"
   ]
  },
  {
   "cell_type": "code",
   "execution_count": null,
   "id": "9e153203",
   "metadata": {},
   "outputs": [],
   "source": [
    "m = motifs.create(instances, alphabet=generic_protein)"
   ]
  }
 ],
 "metadata": {
  "kernelspec": {
   "display_name": "Python 3 (ipykernel)",
   "language": "python",
   "name": "python3"
  },
  "language_info": {
   "codemirror_mode": {
    "name": "ipython",
    "version": 3
   },
   "file_extension": ".py",
   "mimetype": "text/x-python",
   "name": "python",
   "nbconvert_exporter": "python",
   "pygments_lexer": "ipython3",
   "version": "3.10.6"
  }
 },
 "nbformat": 4,
 "nbformat_minor": 5
}
