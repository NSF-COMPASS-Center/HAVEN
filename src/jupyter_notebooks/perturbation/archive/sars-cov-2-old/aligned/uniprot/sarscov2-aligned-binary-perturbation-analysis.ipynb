{
 "cells": [
  {
   "cell_type": "markdown",
   "id": "d941fa6e",
   "metadata": {},
   "source": [
    "## Perturbation of sequences\n",
    "### Dataset: UniProt SARS-CoV-2 aligned w.r.t WIV04\n",
    "### Number of sequences = \n",
    "### Model: VirProBERT (CoV-S-UniRef90, CoV-S-UniRef90-aligned) "
   ]
  },
  {
   "cell_type": "code",
   "execution_count": 1,
   "id": "f2b3c800",
   "metadata": {},
   "outputs": [
    {
     "data": {
      "text/plain": [
       "['/home/blessyantony/dev/git/zoonosis/src/jupyter_notebooks/perturbation/sars-cov-2/uniprot',\n",
       " '/opt/conda/lib/python38.zip',\n",
       " '/opt/conda/lib/python3.8',\n",
       " '/opt/conda/lib/python3.8/lib-dynload',\n",
       " '',\n",
       " '/home/blessyantony/.local/lib/python3.8/site-packages',\n",
       " '/opt/conda/lib/python3.8/site-packages',\n",
       " '/opt/conda/lib/python3.8/site-packages/IPython/extensions',\n",
       " '/home/blessyantony/.ipython',\n",
       " '/home/blessyantony/dev/git/zoonosis/src/jupyter_notebooks/perturbation/sars-cov-2/uniprot/../../..',\n",
       " '/home/blessyantony/dev/git/zoonosis/src/jupyter_notebooks/perturbation/sars-cov-2/uniprot/../..',\n",
       " '/home/blessyantony/dev/git/zoonosis/src/jupyter_notebooks/perturbation/sars-cov-2/uniprot/..']"
      ]
     },
     "execution_count": 1,
     "metadata": {},
     "output_type": "execute_result"
    }
   ],
   "source": [
    "import sys\n",
    "import os\n",
    "sys.path.append(os.path.join(os.getcwd(), \"..\", \"..\", \"..\"))\n",
    "sys.path.append(os.path.join(os.getcwd(), \"..\", \"..\"))\n",
    "sys.path.append(os.path.join(os.getcwd(), \"..\"))\n",
    "sys.path"
   ]
  },
  {
   "cell_type": "code",
   "execution_count": 2,
   "id": "989b37a7",
   "metadata": {},
   "outputs": [],
   "source": [
    "import pandas as pd\n",
    "import numpy as np\n",
    "import os\n",
    "import torch\n",
    "import torch.nn as nn\n",
    "import torch.nn.functional as F\n",
    "import re\n",
    "\n",
    "import matplotlib\n",
    "import matplotlib.pyplot as plt\n",
    "import seaborn as sns\n",
    "cmap = sns.color_palette(\"vlag\", as_cmap=True)\n",
    "\n",
    "from Bio import SeqIO\n",
    "from Bio.Seq import Seq\n",
    "from Bio import motifs\n"
   ]
  },
  {
   "cell_type": "code",
   "execution_count": 3,
   "id": "102b086d",
   "metadata": {},
   "outputs": [
    {
     "data": {
      "text/plain": [
       "1019"
      ]
     },
     "execution_count": 3,
     "metadata": {},
     "output_type": "execute_result"
    }
   ],
   "source": [
    "human_label = \"Human\"\n",
    "pred_diff_col = f\"{human_label}_pred_diff\"\n",
    "perturbation_processed_output_dir = os.path.join(os.getcwd(), \"..\", \"..\", \"..\", \"..\", \"..\", \"output/raw/coronaviridae_s_prot_perturbation/20240320/sars-cov-2/uniprot/cov-S-aligned-binary-transfer_learning_mlm_fnn_2l_lr1e-4/processed\")\n",
    "perturbation_output_files = os.listdir(perturbation_processed_output_dir)\n",
    "len(perturbation_output_files)"
   ]
  },
  {
   "cell_type": "code",
   "execution_count": 4,
   "id": "4a10f7ef",
   "metadata": {},
   "outputs": [],
   "source": [
    "perturbed_output_dfs = []\n",
    "for perturbation_output_file in perturbation_output_files:\n",
    "    df = pd.read_csv(os.path.join(perturbation_processed_output_dir, perturbation_output_file))\n",
    "    orig_seq_df = df[df[\"orig_token\"] == df[\"new_token\"]]\n",
    "    orig_pred_val = orig_seq_df[human_label].values[0]\n",
    "    df[pred_diff_col] = df[human_label] - orig_pred_val\n",
    "    df[f\"abs_{pred_diff_col}\"] = df[pred_diff_col].abs()\n",
    "    perturbed_output_dfs.append(df)\n",
    "perturbed_output_df = pd.concat(perturbed_output_dfs)"
   ]
  },
  {
   "cell_type": "code",
   "execution_count": 5,
   "id": "6a6b0584",
   "metadata": {
    "scrolled": true
   },
   "outputs": [
    {
     "name": "stdout",
     "output_type": "stream",
     "text": [
      "(32347819, 9)\n"
     ]
    },
    {
     "data": {
      "text/html": [
       "<div>\n",
       "<style scoped>\n",
       "    .dataframe tbody tr th:only-of-type {\n",
       "        vertical-align: middle;\n",
       "    }\n",
       "\n",
       "    .dataframe tbody tr th {\n",
       "        vertical-align: top;\n",
       "    }\n",
       "\n",
       "    .dataframe thead th {\n",
       "        text-align: right;\n",
       "    }\n",
       "</style>\n",
       "<table border=\"1\" class=\"dataframe\">\n",
       "  <thead>\n",
       "    <tr style=\"text-align: right;\">\n",
       "      <th></th>\n",
       "      <th>Human</th>\n",
       "      <th>Non-Human</th>\n",
       "      <th>uniprot_id</th>\n",
       "      <th>y_true</th>\n",
       "      <th>orig_token</th>\n",
       "      <th>perturb_pos</th>\n",
       "      <th>new_token</th>\n",
       "      <th>Human_pred_diff</th>\n",
       "      <th>abs_Human_pred_diff</th>\n",
       "    </tr>\n",
       "  </thead>\n",
       "  <tbody>\n",
       "    <tr>\n",
       "      <th>0</th>\n",
       "      <td>0.978952</td>\n",
       "      <td>0.021048</td>\n",
       "      <td>A0A8B6RKP4</td>\n",
       "      <td>Human</td>\n",
       "      <td>A</td>\n",
       "      <td>1324</td>\n",
       "      <td>N</td>\n",
       "      <td>0.000134</td>\n",
       "      <td>0.000134</td>\n",
       "    </tr>\n",
       "    <tr>\n",
       "      <th>1</th>\n",
       "      <td>0.978818</td>\n",
       "      <td>0.021182</td>\n",
       "      <td>A0A8B6RKP4</td>\n",
       "      <td>Human</td>\n",
       "      <td>K</td>\n",
       "      <td>1573</td>\n",
       "      <td>T</td>\n",
       "      <td>0.000000</td>\n",
       "      <td>0.000000</td>\n",
       "    </tr>\n",
       "    <tr>\n",
       "      <th>2</th>\n",
       "      <td>0.978822</td>\n",
       "      <td>0.021178</td>\n",
       "      <td>A0A8B6RKP4</td>\n",
       "      <td>Human</td>\n",
       "      <td>Q</td>\n",
       "      <td>1170</td>\n",
       "      <td>G</td>\n",
       "      <td>0.000005</td>\n",
       "      <td>0.000005</td>\n",
       "    </tr>\n",
       "    <tr>\n",
       "      <th>3</th>\n",
       "      <td>0.978853</td>\n",
       "      <td>0.021147</td>\n",
       "      <td>A0A8B6RKP4</td>\n",
       "      <td>Human</td>\n",
       "      <td>V</td>\n",
       "      <td>923</td>\n",
       "      <td>I</td>\n",
       "      <td>0.000035</td>\n",
       "      <td>0.000035</td>\n",
       "    </tr>\n",
       "    <tr>\n",
       "      <th>4</th>\n",
       "      <td>0.978818</td>\n",
       "      <td>0.021182</td>\n",
       "      <td>A0A8B6RKP4</td>\n",
       "      <td>Human</td>\n",
       "      <td>A</td>\n",
       "      <td>1622</td>\n",
       "      <td>B</td>\n",
       "      <td>0.000000</td>\n",
       "      <td>0.000000</td>\n",
       "    </tr>\n",
       "  </tbody>\n",
       "</table>\n",
       "</div>"
      ],
      "text/plain": [
       "      Human  Non-Human  uniprot_id y_true orig_token  perturb_pos new_token  \\\n",
       "0  0.978952   0.021048  A0A8B6RKP4  Human          A         1324         N   \n",
       "1  0.978818   0.021182  A0A8B6RKP4  Human          K         1573         T   \n",
       "2  0.978822   0.021178  A0A8B6RKP4  Human          Q         1170         G   \n",
       "3  0.978853   0.021147  A0A8B6RKP4  Human          V          923         I   \n",
       "4  0.978818   0.021182  A0A8B6RKP4  Human          A         1622         B   \n",
       "\n",
       "   Human_pred_diff  abs_Human_pred_diff  \n",
       "0         0.000134             0.000134  \n",
       "1         0.000000             0.000000  \n",
       "2         0.000005             0.000005  \n",
       "3         0.000035             0.000035  \n",
       "4         0.000000             0.000000  "
      ]
     },
     "execution_count": 5,
     "metadata": {},
     "output_type": "execute_result"
    }
   ],
   "source": [
    "print(perturbed_output_df.shape)\n",
    "perturbed_output_df.head()"
   ]
  },
  {
   "cell_type": "markdown",
   "id": "93823a3e",
   "metadata": {},
   "source": [
    "### WIV04 reference sequence"
   ]
  },
  {
   "cell_type": "code",
   "execution_count": 6,
   "id": "ebc02852",
   "metadata": {},
   "outputs": [
    {
     "data": {
      "text/html": [
       "<div>\n",
       "<style scoped>\n",
       "    .dataframe tbody tr th:only-of-type {\n",
       "        vertical-align: middle;\n",
       "    }\n",
       "\n",
       "    .dataframe tbody tr th {\n",
       "        vertical-align: top;\n",
       "    }\n",
       "\n",
       "    .dataframe thead th {\n",
       "        text-align: right;\n",
       "    }\n",
       "</style>\n",
       "<table border=\"1\" class=\"dataframe\">\n",
       "  <thead>\n",
       "    <tr style=\"text-align: right;\">\n",
       "      <th></th>\n",
       "      <th>uniprot_id</th>\n",
       "      <th>aligned_seq</th>\n",
       "      <th>seq</th>\n",
       "      <th>virus_name</th>\n",
       "      <th>virus_host_name</th>\n",
       "      <th>human_binary_label</th>\n",
       "    </tr>\n",
       "  </thead>\n",
       "  <tbody>\n",
       "    <tr>\n",
       "      <th>0</th>\n",
       "      <td>WIV04</td>\n",
       "      <td>-----MFVFLVLLPLVS---------------------------SQ...</td>\n",
       "      <td>MFVFLVLLPLVSSQCVNLTTRTQLPPAYTNSFTRGVYYPDKVFRSS...</td>\n",
       "      <td>WIV04(MN996528.1) Wuhan variant index virus</td>\n",
       "      <td>homo sapiens</td>\n",
       "      <td>homo sapiens</td>\n",
       "    </tr>\n",
       "  </tbody>\n",
       "</table>\n",
       "</div>"
      ],
      "text/plain": [
       "  uniprot_id                                        aligned_seq  \\\n",
       "0      WIV04  -----MFVFLVLLPLVS---------------------------SQ...   \n",
       "\n",
       "                                                 seq  \\\n",
       "0  MFVFLVLLPLVSSQCVNLTTRTQLPPAYTNSFTRGVYYPDKVFRSS...   \n",
       "\n",
       "                                    virus_name virus_host_name  \\\n",
       "0  WIV04(MN996528.1) Wuhan variant index virus    homo sapiens   \n",
       "\n",
       "  human_binary_label  \n",
       "0       homo sapiens  "
      ]
     },
     "execution_count": 6,
     "metadata": {},
     "output_type": "execute_result"
    }
   ],
   "source": [
    "wiv04_aligned_file_path = os.path.join(os.getcwd(), \"..\", \"..\", \"..\", \"..\", \"..\", \"input/data/coronaviridae/20240313/uniprot/aligned/coronaviridae_s_uniprot_uniprot_metadata_embl_hosts_pruned_metadata_corrected_species_virus_host_vertebrates_w_seq_t0.01_c8_aligned.csv\")\n",
    "wiv04_df = pd.read_csv(wiv04_aligned_file_path)\n",
    "wiv04_df = wiv04_df[wiv04_df[\"uniprot_id\"] == \"WIV04\"]\n",
    "wiv04_df.head()"
   ]
  },
  {
   "cell_type": "code",
   "execution_count": 7,
   "id": "e36fda93",
   "metadata": {},
   "outputs": [
    {
     "data": {
      "text/plain": [
       "'-----MFVFLVLLPLVS---------------------------SQCVNLTTRTQLPP--AYTN--SFTR-----------------------------GVYYPDKVFRSSVLHSTQDLFLPFFSNVTWFHAIHVSGTNGTKRFDNPVLPFNDGVYFASTEKSNI-----IRGWIFGTTLDS----------KTQSLLIVNNAT----------N--------------VVIKVCEFQFCN-----------------------------------------------------------------DPFLGVY--------YHKNNK--------SWMESEF-RVYSS-----ANNCT-----FEYVSQP--FLMDLEGKQGNFK-------------NLREFVFK-NIDGYFKIYSKHTPINL---VRD-------------------------LPQGFS-------------------ALEPLV-----------------------------------DLPIGI--------NIT---------------------------------RFQTLLALHRSYLT-----PGDSSSGWTAGAAAYYVGYLQPRTFLLKYNENGTITDAVDCALDPLSETKCTLKSFTVEKGIYQTSNFRVQ----PTESI---VRF-----PNITNLC----PFGEVF-------------------NATR-------------FASVYAWNRK-----------RISNCVADYSVLYNS-ASFSTFKC-----------YGVSPTKL----------------------NDLCFTNVYADSF----------VIRGD-------------------EVR-QIA----------PGQTGKI------ADYNYKLPDDFT--------G----CV----------IA-------WNSNNLDSKVGGNYNYLY---RLFRKSNL-----KPFERDISTEIYQAGST------------------------PCNGVE--GF-----------------------NCYFPLQ------SYGFQPTNGV-------GYQPYRV-------VVLSFEL-------LHAPATVCGPKKSTNLV-KNKCVNFNFNGLTGTGVLTESNKK------FLP--------FQQFGR---DIADTTDAVRDPQTLEI--------------LDITPC-SF------------GGVSVITPGT----------------------NTSNQVAVLY-------------------QDVNCTEVPVAIHADQLTPTWRVYSTGSNVFQTRAGCLIGAEHVNNSYECDIPIGAGICASYQT-------------------QTNSPRRARSVASQS--IIAYTM---SLGAENSVAYSNNSIAIPTNFTISVTT-EILPVSMTKTSVDCTMYICGDSTECSNLLLQYGSFCTQLNRALTGIAVEQDKNTQEVFAQVKQI-YKTP-------PIKD-------FG---------------------GF--NFSQILP-----DPSKPS---KRSFIEDLLFNKVTLADAGFI-KQYGDCLGDI--AARDLICAQKFNGLTVLPPLLTDEMIA---QYTSALLAGTITSGWTFGA--GAALQIPFAMQMAYRFNGIGVTQNVLYE-NQKLIANQFNSAIGKI--------------QDSLSSTASALGKLQDVVNQNAQALNTLVKQLSSNFGAISSVLNDILSRLDKVEAEVQIDRLITGRLQSLQTYVTQQLIRAAEIRA-SANLAATKMSECVLGQSKRVDFCG-KGYHLMSF-----PQSAPHGVVFLHVTYVPAQEKNFTTAPAICHDG-------------KAHFPREGVFVS----NGTH----WFVTQRNFYEPQIITTDNTFVSGNCDVVIGIVNNTVYDPLQPELD-------SFKEELDKYFKNHTSPDVDLG--DISGINASV--VNIQKEI--------------DRLNEVAKNLNESLIDLQELGKYEQYIKWPWYIWLGFIAGLIAIVMVTIML--CCMTSCC-SCLKGCCS----C-GSCCK-------FDE----DDSEP----VLKGVKLHYT'"
      ]
     },
     "execution_count": 7,
     "metadata": {},
     "output_type": "execute_result"
    }
   ],
   "source": [
    "wiv04_aligned_seq = wiv04_df[\"aligned_seq\"].values[0]\n",
    "wiv04_aligned_seq"
   ]
  },
  {
   "cell_type": "code",
   "execution_count": 8,
   "id": "a6158bf4",
   "metadata": {},
   "outputs": [],
   "source": [
    "wiv04_position_mapping = {}\n",
    "pos = 0\n",
    "for i, token in enumerate(wiv04_aligned_seq):\n",
    "    if token == \"-\":\n",
    "        continue\n",
    "    else:\n",
    "        pos += 1\n",
    "        wiv04_position_mapping[i] = pos\n",
    "        \n",
    "try:\n",
    "    perturbed_output_df[\"perturb_seq_pos\"] = perturbed_output_df[\"perturb_pos\"].apply(lambda x: int(wiv04_position_mapping[x]) if x in wiv04_position_mapping else None)\n",
    "except: \n",
    "    pass"
   ]
  },
  {
   "cell_type": "markdown",
   "id": "a2fdbc97",
   "metadata": {},
   "source": [
    "### Distribution of prediction difference values"
   ]
  },
  {
   "cell_type": "code",
   "execution_count": 9,
   "id": "71669f9a",
   "metadata": {},
   "outputs": [],
   "source": [
    "# plt.clf()\n",
    "# plt.figure(figsize=(48, 16))\n",
    "# plt.rcParams['xtick.labelsize'] = 24\n",
    "# plt.rcParams['ytick.labelsize'] = 24\n",
    "# sns.distplot(perturbed_output_df[\"Human_pred_diff\"])\n",
    "# plt.show()"
   ]
  },
  {
   "cell_type": "code",
   "execution_count": 10,
   "id": "c05f995d",
   "metadata": {},
   "outputs": [
    {
     "data": {
      "text/html": [
       "<div>\n",
       "<style scoped>\n",
       "    .dataframe tbody tr th:only-of-type {\n",
       "        vertical-align: middle;\n",
       "    }\n",
       "\n",
       "    .dataframe tbody tr th {\n",
       "        vertical-align: top;\n",
       "    }\n",
       "\n",
       "    .dataframe thead th {\n",
       "        text-align: right;\n",
       "    }\n",
       "</style>\n",
       "<table border=\"1\" class=\"dataframe\">\n",
       "  <thead>\n",
       "    <tr style=\"text-align: right;\">\n",
       "      <th></th>\n",
       "      <th>start</th>\n",
       "      <th>end</th>\n",
       "      <th>count</th>\n",
       "      <th>percentage</th>\n",
       "    </tr>\n",
       "  </thead>\n",
       "  <tbody>\n",
       "    <tr>\n",
       "      <th>0</th>\n",
       "      <td>-0.762564</td>\n",
       "      <td>-0.690810</td>\n",
       "      <td>5</td>\n",
       "      <td>0.000015</td>\n",
       "    </tr>\n",
       "    <tr>\n",
       "      <th>1</th>\n",
       "      <td>-0.690810</td>\n",
       "      <td>-0.619056</td>\n",
       "      <td>6</td>\n",
       "      <td>0.000019</td>\n",
       "    </tr>\n",
       "    <tr>\n",
       "      <th>2</th>\n",
       "      <td>-0.619056</td>\n",
       "      <td>-0.547302</td>\n",
       "      <td>5</td>\n",
       "      <td>0.000015</td>\n",
       "    </tr>\n",
       "    <tr>\n",
       "      <th>3</th>\n",
       "      <td>-0.547302</td>\n",
       "      <td>-0.475548</td>\n",
       "      <td>7</td>\n",
       "      <td>0.000022</td>\n",
       "    </tr>\n",
       "    <tr>\n",
       "      <th>4</th>\n",
       "      <td>-0.475548</td>\n",
       "      <td>-0.403794</td>\n",
       "      <td>172</td>\n",
       "      <td>0.000532</td>\n",
       "    </tr>\n",
       "    <tr>\n",
       "      <th>5</th>\n",
       "      <td>-0.403794</td>\n",
       "      <td>-0.332040</td>\n",
       "      <td>26</td>\n",
       "      <td>0.000080</td>\n",
       "    </tr>\n",
       "    <tr>\n",
       "      <th>6</th>\n",
       "      <td>-0.332040</td>\n",
       "      <td>-0.260286</td>\n",
       "      <td>13</td>\n",
       "      <td>0.000040</td>\n",
       "    </tr>\n",
       "    <tr>\n",
       "      <th>7</th>\n",
       "      <td>-0.260286</td>\n",
       "      <td>-0.188532</td>\n",
       "      <td>97</td>\n",
       "      <td>0.000300</td>\n",
       "    </tr>\n",
       "    <tr>\n",
       "      <th>8</th>\n",
       "      <td>-0.188532</td>\n",
       "      <td>-0.116778</td>\n",
       "      <td>361</td>\n",
       "      <td>0.001116</td>\n",
       "    </tr>\n",
       "    <tr>\n",
       "      <th>9</th>\n",
       "      <td>-0.116778</td>\n",
       "      <td>-0.045024</td>\n",
       "      <td>893</td>\n",
       "      <td>0.002761</td>\n",
       "    </tr>\n",
       "    <tr>\n",
       "      <th>10</th>\n",
       "      <td>-0.045024</td>\n",
       "      <td>0.026730</td>\n",
       "      <td>32259815</td>\n",
       "      <td>99.727945</td>\n",
       "    </tr>\n",
       "    <tr>\n",
       "      <th>11</th>\n",
       "      <td>0.026730</td>\n",
       "      <td>0.098484</td>\n",
       "      <td>86419</td>\n",
       "      <td>0.267156</td>\n",
       "    </tr>\n",
       "  </tbody>\n",
       "</table>\n",
       "</div>"
      ],
      "text/plain": [
       "       start       end     count  percentage\n",
       "0  -0.762564 -0.690810         5    0.000015\n",
       "1  -0.690810 -0.619056         6    0.000019\n",
       "2  -0.619056 -0.547302         5    0.000015\n",
       "3  -0.547302 -0.475548         7    0.000022\n",
       "4  -0.475548 -0.403794       172    0.000532\n",
       "5  -0.403794 -0.332040        26    0.000080\n",
       "6  -0.332040 -0.260286        13    0.000040\n",
       "7  -0.260286 -0.188532        97    0.000300\n",
       "8  -0.188532 -0.116778       361    0.001116\n",
       "9  -0.116778 -0.045024       893    0.002761\n",
       "10 -0.045024  0.026730  32259815   99.727945\n",
       "11  0.026730  0.098484     86419    0.267156"
      ]
     },
     "execution_count": 10,
     "metadata": {},
     "output_type": "execute_result"
    }
   ],
   "source": [
    "n_bins = 12\n",
    "n = perturbed_output_df.shape[0]\n",
    "freq, bins = np.histogram(perturbed_output_df[pred_diff_col], bins=n_bins)\n",
    "hist_map = []\n",
    "for i in range(n_bins):\n",
    "    hist_map.append({\"start\": bins[i], \"end\":bins[i+1], \"count\": freq[i], \"percentage\": freq[i]/n*100})\n",
    "    \n",
    "hist_df = pd.DataFrame(hist_map)\n",
    "hist_df.head(20)"
   ]
  },
  {
   "cell_type": "code",
   "execution_count": 11,
   "id": "eb65b86e",
   "metadata": {},
   "outputs": [
    {
     "name": "stdout",
     "output_type": "stream",
     "text": [
      "Number of sequences = 761\n",
      "Number of unique positions = 4\n",
      "Unique positions = [517. 513. 533. 502.]\n"
     ]
    }
   ],
   "source": [
    "perturbed_output_df_selected = perturbed_output_df[perturbed_output_df[f\"abs_{pred_diff_col}\"] > 0.1]\n",
    "print(f\"Number of sequences = {perturbed_output_df_selected.shape[0]}\")\n",
    "print(f\"Number of unique positions = {len(perturbed_output_df_selected['perturb_seq_pos'].unique())}\")\n",
    "print(f\"Unique positions = {perturbed_output_df_selected['perturb_seq_pos'].unique()}\")"
   ]
  },
  {
   "cell_type": "code",
   "execution_count": 12,
   "id": "ca395591",
   "metadata": {},
   "outputs": [
    {
     "name": "stderr",
     "output_type": "stream",
     "text": [
      "/tmp/ipykernel_279001/3081544423.py:1: SettingWithCopyWarning: \n",
      "A value is trying to be set on a copy of a slice from a DataFrame.\n",
      "Try using .loc[row_indexer,col_indexer] = value instead\n",
      "\n",
      "See the caveats in the documentation: https://pandas.pydata.org/pandas-docs/stable/user_guide/indexing.html#returning-a-view-versus-a-copy\n",
      "  perturbed_output_df_selected[\"experiment\"] = \"sarscov2-uniprot-aligned-binary\"\n"
     ]
    }
   ],
   "source": [
    "perturbed_output_df_selected[\"experiment\"] = \"sarscov2-uniprot-aligned-binary\"\n",
    "perturbation_selected_output_file_path = os.path.join(os.getcwd(), \"..\", \"..\", \"..\", \"..\", \"..\", \"output/raw/coronaviridae_s_prot_perturbation/20240320/sars-cov-2/analysis/uniprot_aligned_binary.csv\")\n",
    "perturbed_output_df_selected.to_csv(perturbation_selected_output_file_path, index=False)"
   ]
  },
  {
   "cell_type": "markdown",
   "id": "efbfe2b6",
   "metadata": {},
   "source": [
    "### Top 10 perturbations with highest change in prediction probability"
   ]
  },
  {
   "cell_type": "code",
   "execution_count": 13,
   "id": "169502a4",
   "metadata": {},
   "outputs": [
    {
     "data": {
      "text/html": [
       "<div>\n",
       "<style scoped>\n",
       "    .dataframe tbody tr th:only-of-type {\n",
       "        vertical-align: middle;\n",
       "    }\n",
       "\n",
       "    .dataframe tbody tr th {\n",
       "        vertical-align: top;\n",
       "    }\n",
       "\n",
       "    .dataframe thead th {\n",
       "        text-align: right;\n",
       "    }\n",
       "</style>\n",
       "<table border=\"1\" class=\"dataframe\">\n",
       "  <thead>\n",
       "    <tr style=\"text-align: right;\">\n",
       "      <th></th>\n",
       "      <th>Human</th>\n",
       "      <th>Non-Human</th>\n",
       "      <th>uniprot_id</th>\n",
       "      <th>y_true</th>\n",
       "      <th>orig_token</th>\n",
       "      <th>perturb_pos</th>\n",
       "      <th>new_token</th>\n",
       "      <th>Human_pred_diff</th>\n",
       "      <th>abs_Human_pred_diff</th>\n",
       "      <th>perturb_seq_pos</th>\n",
       "      <th>experiment</th>\n",
       "    </tr>\n",
       "  </thead>\n",
       "  <tbody>\n",
       "    <tr>\n",
       "      <th>16306</th>\n",
       "      <td>0.205657</td>\n",
       "      <td>0.794343</td>\n",
       "      <td>A0A7U3MR70</td>\n",
       "      <td>Human</td>\n",
       "      <td>L</td>\n",
       "      <td>1124</td>\n",
       "      <td>R</td>\n",
       "      <td>-0.762564</td>\n",
       "      <td>0.762564</td>\n",
       "      <td>533.0</td>\n",
       "      <td>sarscov2-uniprot-aligned-binary</td>\n",
       "    </tr>\n",
       "    <tr>\n",
       "      <th>11608</th>\n",
       "      <td>0.211700</td>\n",
       "      <td>0.788300</td>\n",
       "      <td>A0A7U3MRY6</td>\n",
       "      <td>Human</td>\n",
       "      <td>L</td>\n",
       "      <td>1124</td>\n",
       "      <td>R</td>\n",
       "      <td>-0.756378</td>\n",
       "      <td>0.756378</td>\n",
       "      <td>533.0</td>\n",
       "      <td>sarscov2-uniprot-aligned-binary</td>\n",
       "    </tr>\n",
       "    <tr>\n",
       "      <th>17828</th>\n",
       "      <td>0.211700</td>\n",
       "      <td>0.788300</td>\n",
       "      <td>A0A7U3MRZ9</td>\n",
       "      <td>Human</td>\n",
       "      <td>L</td>\n",
       "      <td>1124</td>\n",
       "      <td>R</td>\n",
       "      <td>-0.756378</td>\n",
       "      <td>0.756378</td>\n",
       "      <td>533.0</td>\n",
       "      <td>sarscov2-uniprot-aligned-binary</td>\n",
       "    </tr>\n",
       "    <tr>\n",
       "      <th>25817</th>\n",
       "      <td>0.211700</td>\n",
       "      <td>0.788300</td>\n",
       "      <td>A0A7U3MS26</td>\n",
       "      <td>Human</td>\n",
       "      <td>L</td>\n",
       "      <td>1124</td>\n",
       "      <td>R</td>\n",
       "      <td>-0.756378</td>\n",
       "      <td>0.756378</td>\n",
       "      <td>533.0</td>\n",
       "      <td>sarscov2-uniprot-aligned-binary</td>\n",
       "    </tr>\n",
       "    <tr>\n",
       "      <th>15624</th>\n",
       "      <td>0.222376</td>\n",
       "      <td>0.777624</td>\n",
       "      <td>A0A7U3MRK2</td>\n",
       "      <td>Human</td>\n",
       "      <td>L</td>\n",
       "      <td>1124</td>\n",
       "      <td>R</td>\n",
       "      <td>-0.746344</td>\n",
       "      <td>0.746344</td>\n",
       "      <td>533.0</td>\n",
       "      <td>sarscov2-uniprot-aligned-binary</td>\n",
       "    </tr>\n",
       "    <tr>\n",
       "      <th>5509</th>\n",
       "      <td>0.279408</td>\n",
       "      <td>0.720592</td>\n",
       "      <td>A0A7D4XSL8</td>\n",
       "      <td>Human</td>\n",
       "      <td>L</td>\n",
       "      <td>1124</td>\n",
       "      <td>R</td>\n",
       "      <td>-0.689249</td>\n",
       "      <td>0.689249</td>\n",
       "      <td>533.0</td>\n",
       "      <td>sarscov2-uniprot-aligned-binary</td>\n",
       "    </tr>\n",
       "    <tr>\n",
       "      <th>26887</th>\n",
       "      <td>0.286713</td>\n",
       "      <td>0.713287</td>\n",
       "      <td>A0A7U3MS27</td>\n",
       "      <td>Human</td>\n",
       "      <td>L</td>\n",
       "      <td>1124</td>\n",
       "      <td>R</td>\n",
       "      <td>-0.682544</td>\n",
       "      <td>0.682544</td>\n",
       "      <td>533.0</td>\n",
       "      <td>sarscov2-uniprot-aligned-binary</td>\n",
       "    </tr>\n",
       "    <tr>\n",
       "      <th>13622</th>\n",
       "      <td>0.301248</td>\n",
       "      <td>0.698752</td>\n",
       "      <td>A0A8B6RWV4</td>\n",
       "      <td>Human</td>\n",
       "      <td>L</td>\n",
       "      <td>1124</td>\n",
       "      <td>R</td>\n",
       "      <td>-0.667096</td>\n",
       "      <td>0.667096</td>\n",
       "      <td>533.0</td>\n",
       "      <td>sarscov2-uniprot-aligned-binary</td>\n",
       "    </tr>\n",
       "    <tr>\n",
       "      <th>30290</th>\n",
       "      <td>0.304969</td>\n",
       "      <td>0.695031</td>\n",
       "      <td>A0A7U3H6A7</td>\n",
       "      <td>Human</td>\n",
       "      <td>L</td>\n",
       "      <td>1124</td>\n",
       "      <td>R</td>\n",
       "      <td>-0.663762</td>\n",
       "      <td>0.663762</td>\n",
       "      <td>533.0</td>\n",
       "      <td>sarscov2-uniprot-aligned-binary</td>\n",
       "    </tr>\n",
       "    <tr>\n",
       "      <th>27863</th>\n",
       "      <td>0.320786</td>\n",
       "      <td>0.679214</td>\n",
       "      <td>A0A7U3EBP1</td>\n",
       "      <td>Human</td>\n",
       "      <td>L</td>\n",
       "      <td>1124</td>\n",
       "      <td>R</td>\n",
       "      <td>-0.648574</td>\n",
       "      <td>0.648574</td>\n",
       "      <td>533.0</td>\n",
       "      <td>sarscov2-uniprot-aligned-binary</td>\n",
       "    </tr>\n",
       "  </tbody>\n",
       "</table>\n",
       "</div>"
      ],
      "text/plain": [
       "          Human  Non-Human  uniprot_id y_true orig_token  perturb_pos  \\\n",
       "16306  0.205657   0.794343  A0A7U3MR70  Human          L         1124   \n",
       "11608  0.211700   0.788300  A0A7U3MRY6  Human          L         1124   \n",
       "17828  0.211700   0.788300  A0A7U3MRZ9  Human          L         1124   \n",
       "25817  0.211700   0.788300  A0A7U3MS26  Human          L         1124   \n",
       "15624  0.222376   0.777624  A0A7U3MRK2  Human          L         1124   \n",
       "5509   0.279408   0.720592  A0A7D4XSL8  Human          L         1124   \n",
       "26887  0.286713   0.713287  A0A7U3MS27  Human          L         1124   \n",
       "13622  0.301248   0.698752  A0A8B6RWV4  Human          L         1124   \n",
       "30290  0.304969   0.695031  A0A7U3H6A7  Human          L         1124   \n",
       "27863  0.320786   0.679214  A0A7U3EBP1  Human          L         1124   \n",
       "\n",
       "      new_token  Human_pred_diff  abs_Human_pred_diff  perturb_seq_pos  \\\n",
       "16306         R        -0.762564             0.762564            533.0   \n",
       "11608         R        -0.756378             0.756378            533.0   \n",
       "17828         R        -0.756378             0.756378            533.0   \n",
       "25817         R        -0.756378             0.756378            533.0   \n",
       "15624         R        -0.746344             0.746344            533.0   \n",
       "5509          R        -0.689249             0.689249            533.0   \n",
       "26887         R        -0.682544             0.682544            533.0   \n",
       "13622         R        -0.667096             0.667096            533.0   \n",
       "30290         R        -0.663762             0.663762            533.0   \n",
       "27863         R        -0.648574             0.648574            533.0   \n",
       "\n",
       "                            experiment  \n",
       "16306  sarscov2-uniprot-aligned-binary  \n",
       "11608  sarscov2-uniprot-aligned-binary  \n",
       "17828  sarscov2-uniprot-aligned-binary  \n",
       "25817  sarscov2-uniprot-aligned-binary  \n",
       "15624  sarscov2-uniprot-aligned-binary  \n",
       "5509   sarscov2-uniprot-aligned-binary  \n",
       "26887  sarscov2-uniprot-aligned-binary  \n",
       "13622  sarscov2-uniprot-aligned-binary  \n",
       "30290  sarscov2-uniprot-aligned-binary  \n",
       "27863  sarscov2-uniprot-aligned-binary  "
      ]
     },
     "execution_count": 13,
     "metadata": {},
     "output_type": "execute_result"
    }
   ],
   "source": [
    "perturbed_output_df_selected.sort_values(by=\"abs_Human_pred_diff\", ascending=False).head(10)\n"
   ]
  },
  {
   "cell_type": "code",
   "execution_count": 14,
   "id": "74305ef4",
   "metadata": {},
   "outputs": [
    {
     "name": "stderr",
     "output_type": "stream",
     "text": [
      "/tmp/ipykernel_279001/2825421286.py:1: SettingWithCopyWarning: \n",
      "A value is trying to be set on a copy of a slice from a DataFrame.\n",
      "Try using .loc[row_indexer,col_indexer] = value instead\n",
      "\n",
      "See the caveats in the documentation: https://pandas.pydata.org/pandas-docs/stable/user_guide/indexing.html#returning-a-view-versus-a-copy\n",
      "  perturbed_output_df_selected[\"perturbation_id\"] = perturbed_output_df_selected.apply(lambda x: f\"{x['perturb_seq_pos']}_{x['new_token']}\", axis=1)\n"
     ]
    },
    {
     "data": {
      "text/html": [
       "<div>\n",
       "<style scoped>\n",
       "    .dataframe tbody tr th:only-of-type {\n",
       "        vertical-align: middle;\n",
       "    }\n",
       "\n",
       "    .dataframe tbody tr th {\n",
       "        vertical-align: top;\n",
       "    }\n",
       "\n",
       "    .dataframe thead th {\n",
       "        text-align: right;\n",
       "    }\n",
       "</style>\n",
       "<table border=\"1\" class=\"dataframe\">\n",
       "  <thead>\n",
       "    <tr style=\"text-align: right;\">\n",
       "      <th></th>\n",
       "      <th>Human</th>\n",
       "      <th>Non-Human</th>\n",
       "      <th>uniprot_id</th>\n",
       "      <th>y_true</th>\n",
       "      <th>orig_token</th>\n",
       "      <th>perturb_pos</th>\n",
       "      <th>new_token</th>\n",
       "      <th>Human_pred_diff</th>\n",
       "      <th>abs_Human_pred_diff</th>\n",
       "      <th>perturb_seq_pos</th>\n",
       "      <th>experiment</th>\n",
       "      <th>perturbation_id</th>\n",
       "    </tr>\n",
       "  </thead>\n",
       "  <tbody>\n",
       "    <tr>\n",
       "      <th>12051</th>\n",
       "      <td>0.449116</td>\n",
       "      <td>0.550884</td>\n",
       "      <td>A0A7L9CHP7</td>\n",
       "      <td>Human</td>\n",
       "      <td>L</td>\n",
       "      <td>1101</td>\n",
       "      <td>R</td>\n",
       "      <td>-0.436667</td>\n",
       "      <td>0.436667</td>\n",
       "      <td>517.0</td>\n",
       "      <td>sarscov2-uniprot-aligned-binary</td>\n",
       "      <td>517.0_R</td>\n",
       "    </tr>\n",
       "    <tr>\n",
       "      <th>15633</th>\n",
       "      <td>0.736900</td>\n",
       "      <td>0.263100</td>\n",
       "      <td>A0A7L9CHP7</td>\n",
       "      <td>Human</td>\n",
       "      <td>L</td>\n",
       "      <td>1097</td>\n",
       "      <td>R</td>\n",
       "      <td>-0.148883</td>\n",
       "      <td>0.148883</td>\n",
       "      <td>513.0</td>\n",
       "      <td>sarscov2-uniprot-aligned-binary</td>\n",
       "      <td>513.0_R</td>\n",
       "    </tr>\n",
       "    <tr>\n",
       "      <th>1990</th>\n",
       "      <td>0.568825</td>\n",
       "      <td>0.431175</td>\n",
       "      <td>A0A7L9VWI5</td>\n",
       "      <td>Human</td>\n",
       "      <td>L</td>\n",
       "      <td>1101</td>\n",
       "      <td>R</td>\n",
       "      <td>-0.324766</td>\n",
       "      <td>0.324766</td>\n",
       "      <td>517.0</td>\n",
       "      <td>sarscov2-uniprot-aligned-binary</td>\n",
       "      <td>517.0_R</td>\n",
       "    </tr>\n",
       "    <tr>\n",
       "      <th>8876</th>\n",
       "      <td>0.778404</td>\n",
       "      <td>0.221596</td>\n",
       "      <td>A0A7L9VWI5</td>\n",
       "      <td>Human</td>\n",
       "      <td>L</td>\n",
       "      <td>1097</td>\n",
       "      <td>R</td>\n",
       "      <td>-0.115187</td>\n",
       "      <td>0.115187</td>\n",
       "      <td>513.0</td>\n",
       "      <td>sarscov2-uniprot-aligned-binary</td>\n",
       "      <td>513.0_R</td>\n",
       "    </tr>\n",
       "    <tr>\n",
       "      <th>3296</th>\n",
       "      <td>0.848765</td>\n",
       "      <td>0.151235</td>\n",
       "      <td>A0A7U3MRK2</td>\n",
       "      <td>Human</td>\n",
       "      <td>L</td>\n",
       "      <td>1124</td>\n",
       "      <td>D</td>\n",
       "      <td>-0.119954</td>\n",
       "      <td>0.119954</td>\n",
       "      <td>533.0</td>\n",
       "      <td>sarscov2-uniprot-aligned-binary</td>\n",
       "      <td>533.0_D</td>\n",
       "    </tr>\n",
       "  </tbody>\n",
       "</table>\n",
       "</div>"
      ],
      "text/plain": [
       "          Human  Non-Human  uniprot_id y_true orig_token  perturb_pos  \\\n",
       "12051  0.449116   0.550884  A0A7L9CHP7  Human          L         1101   \n",
       "15633  0.736900   0.263100  A0A7L9CHP7  Human          L         1097   \n",
       "1990   0.568825   0.431175  A0A7L9VWI5  Human          L         1101   \n",
       "8876   0.778404   0.221596  A0A7L9VWI5  Human          L         1097   \n",
       "3296   0.848765   0.151235  A0A7U3MRK2  Human          L         1124   \n",
       "\n",
       "      new_token  Human_pred_diff  abs_Human_pred_diff  perturb_seq_pos  \\\n",
       "12051         R        -0.436667             0.436667            517.0   \n",
       "15633         R        -0.148883             0.148883            513.0   \n",
       "1990          R        -0.324766             0.324766            517.0   \n",
       "8876          R        -0.115187             0.115187            513.0   \n",
       "3296          D        -0.119954             0.119954            533.0   \n",
       "\n",
       "                            experiment perturbation_id  \n",
       "12051  sarscov2-uniprot-aligned-binary         517.0_R  \n",
       "15633  sarscov2-uniprot-aligned-binary         513.0_R  \n",
       "1990   sarscov2-uniprot-aligned-binary         517.0_R  \n",
       "8876   sarscov2-uniprot-aligned-binary         513.0_R  \n",
       "3296   sarscov2-uniprot-aligned-binary         533.0_D  "
      ]
     },
     "execution_count": 14,
     "metadata": {},
     "output_type": "execute_result"
    }
   ],
   "source": [
    "perturbed_output_df_selected[\"perturbation_id\"] = perturbed_output_df_selected.apply(lambda x: f\"{x['perturb_seq_pos']}_{x['new_token']}\", axis=1)\n",
    "perturbed_output_df_selected.head()"
   ]
  },
  {
   "cell_type": "code",
   "execution_count": 15,
   "id": "ce035928",
   "metadata": {},
   "outputs": [],
   "source": [
    "mean_diff_df = perturbed_output_df_selected[[\"perturbation_id\", \"abs_Human_pred_diff\"]].groupby(\"perturbation_id\").mean(pred_diff_col)"
   ]
  },
  {
   "cell_type": "code",
   "execution_count": 16,
   "id": "c1b269ea",
   "metadata": {},
   "outputs": [],
   "source": [
    "mean_diff_df = mean_diff_df.reset_index()"
   ]
  },
  {
   "cell_type": "code",
   "execution_count": 17,
   "id": "7e16c617",
   "metadata": {},
   "outputs": [],
   "source": [
    "mean_diff_df[[\"perturb_seq_pos\", \"new_token\"]] = mean_diff_df[\"perturbation_id\"].str.split(\"_\", expand=True)"
   ]
  },
  {
   "cell_type": "code",
   "execution_count": 18,
   "id": "20db678d",
   "metadata": {},
   "outputs": [
    {
     "data": {
      "text/html": [
       "<div>\n",
       "<style scoped>\n",
       "    .dataframe tbody tr th:only-of-type {\n",
       "        vertical-align: middle;\n",
       "    }\n",
       "\n",
       "    .dataframe tbody tr th {\n",
       "        vertical-align: top;\n",
       "    }\n",
       "\n",
       "    .dataframe thead th {\n",
       "        text-align: right;\n",
       "    }\n",
       "</style>\n",
       "<table border=\"1\" class=\"dataframe\">\n",
       "  <thead>\n",
       "    <tr style=\"text-align: right;\">\n",
       "      <th></th>\n",
       "      <th>perturbation_id</th>\n",
       "      <th>abs_Human_pred_diff</th>\n",
       "      <th>perturb_seq_pos</th>\n",
       "      <th>new_token</th>\n",
       "    </tr>\n",
       "  </thead>\n",
       "  <tbody>\n",
       "    <tr>\n",
       "      <th>0</th>\n",
       "      <td>502.0_D</td>\n",
       "      <td>0.101086</td>\n",
       "      <td>502.0</td>\n",
       "      <td>D</td>\n",
       "    </tr>\n",
       "    <tr>\n",
       "      <th>1</th>\n",
       "      <td>513.0_A</td>\n",
       "      <td>0.100356</td>\n",
       "      <td>513.0</td>\n",
       "      <td>A</td>\n",
       "    </tr>\n",
       "    <tr>\n",
       "      <th>2</th>\n",
       "      <td>513.0_G</td>\n",
       "      <td>0.111945</td>\n",
       "      <td>513.0</td>\n",
       "      <td>G</td>\n",
       "    </tr>\n",
       "    <tr>\n",
       "      <th>3</th>\n",
       "      <td>513.0_M</td>\n",
       "      <td>0.100065</td>\n",
       "      <td>513.0</td>\n",
       "      <td>M</td>\n",
       "    </tr>\n",
       "    <tr>\n",
       "      <th>4</th>\n",
       "      <td>513.0_R</td>\n",
       "      <td>0.144133</td>\n",
       "      <td>513.0</td>\n",
       "      <td>R</td>\n",
       "    </tr>\n",
       "  </tbody>\n",
       "</table>\n",
       "</div>"
      ],
      "text/plain": [
       "  perturbation_id  abs_Human_pred_diff perturb_seq_pos new_token\n",
       "0         502.0_D             0.101086           502.0         D\n",
       "1         513.0_A             0.100356           513.0         A\n",
       "2         513.0_G             0.111945           513.0         G\n",
       "3         513.0_M             0.100065           513.0         M\n",
       "4         513.0_R             0.144133           513.0         R"
      ]
     },
     "execution_count": 18,
     "metadata": {},
     "output_type": "execute_result"
    }
   ],
   "source": [
    "mean_diff_df.head()"
   ]
  },
  {
   "cell_type": "code",
   "execution_count": 19,
   "id": "57a23d9c",
   "metadata": {},
   "outputs": [
    {
     "data": {
      "text/html": [
       "<div>\n",
       "<style scoped>\n",
       "    .dataframe tbody tr th:only-of-type {\n",
       "        vertical-align: middle;\n",
       "    }\n",
       "\n",
       "    .dataframe tbody tr th {\n",
       "        vertical-align: top;\n",
       "    }\n",
       "\n",
       "    .dataframe thead th {\n",
       "        text-align: right;\n",
       "    }\n",
       "</style>\n",
       "<table border=\"1\" class=\"dataframe\">\n",
       "  <thead>\n",
       "    <tr style=\"text-align: right;\">\n",
       "      <th></th>\n",
       "      <th>perturbation_id</th>\n",
       "      <th>abs_Human_pred_diff</th>\n",
       "      <th>perturb_seq_pos</th>\n",
       "      <th>new_token</th>\n",
       "    </tr>\n",
       "  </thead>\n",
       "  <tbody>\n",
       "  </tbody>\n",
       "</table>\n",
       "</div>"
      ],
      "text/plain": [
       "Empty DataFrame\n",
       "Columns: [perturbation_id, abs_Human_pred_diff, perturb_seq_pos, new_token]\n",
       "Index: []"
      ]
     },
     "execution_count": 19,
     "metadata": {},
     "output_type": "execute_result"
    }
   ],
   "source": [
    "mean_diff_df[mean_diff_df[[\"perturb_seq_pos\", \"new_token\"]].duplicated()]"
   ]
  },
  {
   "cell_type": "code",
   "execution_count": 20,
   "id": "8bde6811",
   "metadata": {},
   "outputs": [],
   "source": [
    "df = mean_diff_df.pivot(columns=\"perturb_seq_pos\", index=\"new_token\", values=\"abs_Human_pred_diff\")\n",
    "# df[token_positions]"
   ]
  },
  {
   "cell_type": "code",
   "execution_count": 21,
   "id": "daa5b0e7",
   "metadata": {},
   "outputs": [
    {
     "data": {
      "text/html": [
       "<div>\n",
       "<style scoped>\n",
       "    .dataframe tbody tr th:only-of-type {\n",
       "        vertical-align: middle;\n",
       "    }\n",
       "\n",
       "    .dataframe tbody tr th {\n",
       "        vertical-align: top;\n",
       "    }\n",
       "\n",
       "    .dataframe thead th {\n",
       "        text-align: right;\n",
       "    }\n",
       "</style>\n",
       "<table border=\"1\" class=\"dataframe\">\n",
       "  <thead>\n",
       "    <tr style=\"text-align: right;\">\n",
       "      <th></th>\n",
       "      <th>perturbation_id</th>\n",
       "      <th>abs_Human_pred_diff</th>\n",
       "      <th>perturb_seq_pos</th>\n",
       "      <th>new_token</th>\n",
       "    </tr>\n",
       "  </thead>\n",
       "  <tbody>\n",
       "    <tr>\n",
       "      <th>26</th>\n",
       "      <td>533.0_R</td>\n",
       "      <td>0.560895</td>\n",
       "      <td>533.0</td>\n",
       "      <td>R</td>\n",
       "    </tr>\n",
       "    <tr>\n",
       "      <th>9</th>\n",
       "      <td>517.0_R</td>\n",
       "      <td>0.418476</td>\n",
       "      <td>517.0</td>\n",
       "      <td>R</td>\n",
       "    </tr>\n",
       "    <tr>\n",
       "      <th>31</th>\n",
       "      <td>533.0_W</td>\n",
       "      <td>0.251190</td>\n",
       "      <td>533.0</td>\n",
       "      <td>W</td>\n",
       "    </tr>\n",
       "    <tr>\n",
       "      <th>20</th>\n",
       "      <td>533.0_K</td>\n",
       "      <td>0.190481</td>\n",
       "      <td>533.0</td>\n",
       "      <td>K</td>\n",
       "    </tr>\n",
       "    <tr>\n",
       "      <th>16</th>\n",
       "      <td>533.0_G</td>\n",
       "      <td>0.180741</td>\n",
       "      <td>533.0</td>\n",
       "      <td>G</td>\n",
       "    </tr>\n",
       "    <tr>\n",
       "      <th>32</th>\n",
       "      <td>533.0_X</td>\n",
       "      <td>0.165909</td>\n",
       "      <td>533.0</td>\n",
       "      <td>X</td>\n",
       "    </tr>\n",
       "    <tr>\n",
       "      <th>12</th>\n",
       "      <td>533.0_C</td>\n",
       "      <td>0.165236</td>\n",
       "      <td>533.0</td>\n",
       "      <td>C</td>\n",
       "    </tr>\n",
       "    <tr>\n",
       "      <th>25</th>\n",
       "      <td>533.0_Q</td>\n",
       "      <td>0.162974</td>\n",
       "      <td>533.0</td>\n",
       "      <td>Q</td>\n",
       "    </tr>\n",
       "    <tr>\n",
       "      <th>24</th>\n",
       "      <td>533.0_P</td>\n",
       "      <td>0.162927</td>\n",
       "      <td>533.0</td>\n",
       "      <td>P</td>\n",
       "    </tr>\n",
       "    <tr>\n",
       "      <th>33</th>\n",
       "      <td>533.0_Y</td>\n",
       "      <td>0.159098</td>\n",
       "      <td>533.0</td>\n",
       "      <td>Y</td>\n",
       "    </tr>\n",
       "  </tbody>\n",
       "</table>\n",
       "</div>"
      ],
      "text/plain": [
       "   perturbation_id  abs_Human_pred_diff perturb_seq_pos new_token\n",
       "26         533.0_R             0.560895           533.0         R\n",
       "9          517.0_R             0.418476           517.0         R\n",
       "31         533.0_W             0.251190           533.0         W\n",
       "20         533.0_K             0.190481           533.0         K\n",
       "16         533.0_G             0.180741           533.0         G\n",
       "32         533.0_X             0.165909           533.0         X\n",
       "12         533.0_C             0.165236           533.0         C\n",
       "25         533.0_Q             0.162974           533.0         Q\n",
       "24         533.0_P             0.162927           533.0         P\n",
       "33         533.0_Y             0.159098           533.0         Y"
      ]
     },
     "execution_count": 21,
     "metadata": {},
     "output_type": "execute_result"
    }
   ],
   "source": [
    "mean_diff_df.sort_values(by=\"abs_Human_pred_diff\", ascending=False).head(10)"
   ]
  },
  {
   "cell_type": "code",
   "execution_count": 22,
   "id": "9ea734b4",
   "metadata": {},
   "outputs": [
    {
     "data": {
      "text/plain": [
       "<Figure size 432x288 with 0 Axes>"
      ]
     },
     "metadata": {},
     "output_type": "display_data"
    },
    {
     "data": {
      "image/png": "[encoded data removed]",
      "text/plain": [
       "<Figure size 3456x1152 with 2 Axes>"
      ]
     },
     "metadata": {
      "needs_background": "light"
     },
     "output_type": "display_data"
    }
   ],
   "source": [
    "plt.clf()\n",
    "plt.figure(figsize=(48, 16))\n",
    "plt.rcParams['xtick.labelsize'] = 24\n",
    "plt.rcParams['ytick.labelsize'] = 24\n",
    "# plt.rcParams['figure.autolayout'] = True\n",
    "ax = sns.heatmap(df, cmap=cmap, center=0)\n",
    "plt.xlabel('Position', fontsize=24)\n",
    "plt.ylabel('New perturbed tokens', fontsize=24)\n",
    "plt.show()"
   ]
  },
  {
   "cell_type": "code",
   "execution_count": 23,
   "id": "4ac56e8a",
   "metadata": {},
   "outputs": [
    {
     "data": {
      "text/plain": [
       "perturb_seq_pos\n",
       "502.0    0.101086\n",
       "513.0    0.108124\n",
       "517.0    0.418476\n",
       "533.0    0.178572\n",
       "dtype: float64"
      ]
     },
     "execution_count": 23,
     "metadata": {},
     "output_type": "execute_result"
    }
   ],
   "source": [
    "df.mean(axis=0)"
   ]
  },
  {
   "cell_type": "code",
   "execution_count": 24,
   "id": "306aa32d",
   "metadata": {},
   "outputs": [
    {
     "data": {
      "text/plain": [
       "<Figure size 432x288 with 0 Axes>"
      ]
     },
     "metadata": {},
     "output_type": "display_data"
    },
    {
     "data": {
      "image/png": "[encoded data removed]",
      "text/plain": [
       "<Figure size 2160x1008 with 1 Axes>"
      ]
     },
     "metadata": {
      "needs_background": "light"
     },
     "output_type": "display_data"
    }
   ],
   "source": [
    "plt.clf()\n",
    "plt.figure(figsize=(30, 14))\n",
    "ax = sns.lineplot(df.mean(axis=0))\n",
    "ax.axhline(0.0, color=\"gray\", linestyle=\"--\")\n",
    "plt.rcParams['xtick.labelsize'] = 30\n",
    "plt.rcParams['ytick.labelsize'] = 30\n",
    "plt.xlabel('Position', fontsize=30)\n",
    "plt.ylabel('Prediction Difference', fontsize=30)\n",
    "#ax.set_xlim(0, 1273)\n",
    "plt.show()"
   ]
  },
  {
   "cell_type": "code",
   "execution_count": null,
   "id": "34f4e442",
   "metadata": {},
   "outputs": [],
   "source": []
  }
 ],
 "metadata": {
  "kernelspec": {
   "display_name": "Python 3 (ipykernel)",
   "language": "python",
   "name": "python3"
  },
  "language_info": {
   "codemirror_mode": {
    "name": "ipython",
    "version": 3
   },
   "file_extension": ".py",
   "mimetype": "text/x-python",
   "name": "python",
   "nbconvert_exporter": "python",
   "pygments_lexer": "ipython3",
   "version": "3.8.12"
  }
 },
 "nbformat": 4,
 "nbformat_minor": 5
}
