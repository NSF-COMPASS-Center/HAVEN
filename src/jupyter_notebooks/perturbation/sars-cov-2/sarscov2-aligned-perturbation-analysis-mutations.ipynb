{
 "cells": [
  {
   "cell_type": "code",
   "execution_count": 1,
   "id": "ebf083da",
   "metadata": {},
   "outputs": [],
   "source": [
    "import sys\n",
    "import os\n",
    "sys.path.append(os.path.join(os.getcwd(), \"..\", \"..\", \"..\"))\n",
    "sys.path.append(os.path.join(os.getcwd(), \"..\", \"..\"))\n",
    "sys.path.append(os.path.join(os.getcwd(), \"..\"))\n",
    "sys.path\n",
    "\n",
    "import pandas as pd\n",
    "import numpy as np\n",
    "import os\n",
    "import re\n",
    "\n",
    "import matplotlib\n",
    "import matplotlib.pyplot as plt\n",
    "import seaborn as sns"
   ]
  },
  {
   "cell_type": "code",
   "execution_count": 2,
   "id": "1caa61e4",
   "metadata": {},
   "outputs": [],
   "source": [
    "uniref90_aligned_binary_dir_path = os.path.join(os.getcwd(), \"..\", \"..\", \"..\", \"..\",\"output/raw/coronaviridae_s_prot_perturbation/20240320/sars-cov-2/cov-S-aligned-binary-transfer_learning_mlm_fnn_2l_lr1e-4/processed\")\n",
    "uniref90_aligned_multi_dir_path = os.path.join(os.getcwd(), \"..\", \"..\", \"..\", \"..\",\"output/raw/coronaviridae_s_prot_perturbation/20240320/sars-cov-2/cov-S-aligned-multi-transfer_learning_mlm_fnn_2l_lr1e-4/processed\")\n",
    "uniprot_aligned_binary_dir_path = os.path.join(os.getcwd(), \"..\", \"..\", \"..\", \"..\",\"output/raw/coronaviridae_s_prot_perturbation/20240320/sars-cov-2/uniprot/cov-S-aligned-binary-transfer_learning_mlm_fnn_2l_lr1e-4/processed\")\n",
    "uniprot_aligned_multi_dir_path = os.path.join(os.getcwd(), \"..\", \"..\", \"..\", \"..\",\"output/raw/coronaviridae_s_prot_perturbation/20240320/sars-cov-2/uniprot/cov-S-aligned-multi-transfer_learning_mlm_fnn_2l_lr1e-4/processed\")\n",
    "s_mutations_file_path = os.path.join(os.getcwd(), \"..\", \"..\", \"..\", \"..\",\"input/data/coronaviridae/20240313/wiv04/s_mutations.csv\")\n",
    "\n",
    "uniref90_aligned_csv_file_path = os.path.join(os.getcwd(), \"..\", \"..\", \"..\", \"..\",\"input/data/coronaviridae/20240313/uniref/aligned/coronaviridae_s_uniref90_embl_hosts_pruned_metadata_corrected_species_virus_host_vertebrates_w_seq_t0.01_c8_aligned.csv\")\n",
    "uniprot_aligned_csv_file_path = os.path.join(os.getcwd(), \"..\", \"..\", \"..\", \"..\",\"input/data/coronaviridae/20240313/uniprot/aligned/coronaviridae_s_uniprot_uniprot_metadata_embl_hosts_pruned_metadata_corrected_species_virus_host_vertebrates_w_seq_t0.01_c8_aligned.csv\")"
   ]
  },
  {
   "cell_type": "code",
   "execution_count": 3,
   "id": "dadae0af",
   "metadata": {},
   "outputs": [],
   "source": [
    "spike_protein_domain_map = {\n",
    "    \"NTD\": [14, 305],\n",
    "    \"S1 Subunit\": [14, 685],\n",
    "    \"S2 Subunit\": [686, 1273],\n",
    "    \"RBD\": [319, 541],\n",
    "#     \"FP\": [788, 806],\n",
    "#     \"HR1\": [912, 984],\n",
    "#     \"HR2\": [1163, 1213]\n",
    "}\n",
    "\n",
    "human_label = \"Human\"\n",
    "pred_diff_col = f\"{human_label}_pred_diff\"\n",
    "\n",
    "def annotate_region(pos, region):\n",
    "    pos = int(pos)\n",
    "    start = spike_protein_domain_map[region][0]\n",
    "    end = spike_protein_domain_map[region][1]\n",
    "    if (int(pos) >= start and int(pos) <= end):\n",
    "        return 1\n",
    "    else:\n",
    "        return 0"
   ]
  },
  {
   "cell_type": "code",
   "execution_count": 4,
   "id": "03ba2ab9",
   "metadata": {},
   "outputs": [
    {
     "name": "stdout",
     "output_type": "stream",
     "text": [
      "(13, 3)\n"
     ]
    },
    {
     "data": {
      "text/html": [
       "<div>\n",
       "<style scoped>\n",
       "    .dataframe tbody tr th:only-of-type {\n",
       "        vertical-align: middle;\n",
       "    }\n",
       "\n",
       "    .dataframe tbody tr th {\n",
       "        vertical-align: top;\n",
       "    }\n",
       "\n",
       "    .dataframe thead th {\n",
       "        text-align: right;\n",
       "    }\n",
       "</style>\n",
       "<table border=\"1\" class=\"dataframe\">\n",
       "  <thead>\n",
       "    <tr style=\"text-align: right;\">\n",
       "      <th></th>\n",
       "      <th>orig_token</th>\n",
       "      <th>pos</th>\n",
       "      <th>new_token</th>\n",
       "      <th>perturbation_id</th>\n",
       "    </tr>\n",
       "  </thead>\n",
       "  <tbody>\n",
       "    <tr>\n",
       "      <th>0</th>\n",
       "      <td>D</td>\n",
       "      <td>614</td>\n",
       "      <td>G</td>\n",
       "      <td>D_614_G</td>\n",
       "    </tr>\n",
       "    <tr>\n",
       "      <th>1</th>\n",
       "      <td>S</td>\n",
       "      <td>943</td>\n",
       "      <td>P</td>\n",
       "      <td>S_943_P</td>\n",
       "    </tr>\n",
       "    <tr>\n",
       "      <th>2</th>\n",
       "      <td>E</td>\n",
       "      <td>484</td>\n",
       "      <td>K</td>\n",
       "      <td>E_484_K</td>\n",
       "    </tr>\n",
       "    <tr>\n",
       "      <th>3</th>\n",
       "      <td>N</td>\n",
       "      <td>501</td>\n",
       "      <td>Y</td>\n",
       "      <td>N_501_Y</td>\n",
       "    </tr>\n",
       "    <tr>\n",
       "      <th>4</th>\n",
       "      <td>L</td>\n",
       "      <td>452</td>\n",
       "      <td>R</td>\n",
       "      <td>L_452_R</td>\n",
       "    </tr>\n",
       "  </tbody>\n",
       "</table>\n",
       "</div>"
      ],
      "text/plain": [
       "  orig_token  pos new_token perturbation_id\n",
       "0          D  614         G         D_614_G\n",
       "1          S  943         P         S_943_P\n",
       "2          E  484         K         E_484_K\n",
       "3          N  501         Y         N_501_Y\n",
       "4          L  452         R         L_452_R"
      ]
     },
     "execution_count": 4,
     "metadata": {},
     "output_type": "execute_result"
    }
   ],
   "source": [
    "s_mutations_df = pd.read_csv(s_mutations_file_path)\n",
    "print(s_mutations_df.shape)\n",
    "s_mutations_df[\"perturbation_id\"] = s_mutations_df[\"orig_token\"] +  \"_\" + s_mutations_df[\"pos\"].astype(\"str\") + \"_\" + s_mutations_df[\"new_token\"]\n",
    "s_mutations_df.head()"
   ]
  },
  {
   "cell_type": "code",
   "execution_count": 5,
   "id": "125a9d79",
   "metadata": {},
   "outputs": [
    {
     "name": "stdout",
     "output_type": "stream",
     "text": [
      "(682, 6)\n",
      "(3568, 6)\n"
     ]
    }
   ],
   "source": [
    "uniref90_df = pd.read_csv(uniref90_aligned_csv_file_path)\n",
    "print(uniref90_df.shape)\n",
    "uniprot_df = pd.read_csv(uniprot_aligned_csv_file_path)\n",
    "print(uniprot_df.shape)"
   ]
  },
  {
   "cell_type": "markdown",
   "id": "93823a3e",
   "metadata": {},
   "source": [
    "### WIV04 reference sequence"
   ]
  },
  {
   "cell_type": "code",
   "execution_count": 6,
   "id": "ebc02852",
   "metadata": {},
   "outputs": [],
   "source": [
    "def get_wiv04_position_mapping(df, id):\n",
    "    wiv04_df = df[df[id] == \"WIV04\"]\n",
    "    wiv04_aligned_seq = wiv04_df[\"aligned_seq\"].values[0]\n",
    "    \n",
    "    print(wiv04_aligned_seq)\n",
    "    \n",
    "    wiv04_position_mapping = {}\n",
    "    pos = 0\n",
    "    for i, token in enumerate(wiv04_aligned_seq):\n",
    "        if token == \"-\":\n",
    "            continue\n",
    "        else:\n",
    "            pos += 1\n",
    "            wiv04_position_mapping[i] = pos\n",
    "    return wiv04_position_mapping"
   ]
  },
  {
   "cell_type": "code",
   "execution_count": 7,
   "id": "e36fda93",
   "metadata": {},
   "outputs": [
    {
     "name": "stdout",
     "output_type": "stream",
     "text": [
      "--------------MFVFLVLLPLVSS--------Q----------------CVN--------LTTRTQLPPAY----TNSFTRGVYYPDKVFRSSVLHSTQDLFLPF----------------FSNVTWFHAIHVSGT---------------NGTKRFDNPVLPFN-DGVYFASTEK---------SNIIRGWIFGTTLDSKTQSLLIVNNAT---------------------------N--------------------------VVIKVCEFQ----------------------FCNDPFLG-----VYYHKNNK------------SWMESEFRVY-----------------------------------------------------------------------------SSANNC--TFEYVSQPFLM------------DLEGKQG-NFKNLREFV------------------------------------------------------------------------------------------------------------------------------------------------------------------F-----------KNID-------------GYFKIYSKHTPIN--LVRDLPQGFSALEPLVDLPIGINITRFQTLLALHRSYLTPGDSSSGWTAGAAAYYVGYLQPRTFLLKYNENGTITDAVDCALDPLSETKCTLKSFTVEKGIY------QTSNFRVQPTESIVRF----------------------------------------------------PNITNLCPFGEVFNATRF-ASVY--AWNRKRI----------SNCVADY--------------------------------------SVLYN----SASFST--------------------------------FKCYGVSP------------TKLND-LCFT---NVYAD---------------SF-----------------------------VIRGDEVRQI-------APG------------QTGKIA---DYNY---KLPDDFTGCVI-----------------------------------------------------------------AWNSN-------------------------------NLDSKVGGNYN---YLYRLFRKSNLKPF--------ERDISTEIYQAGSTPCN-----------------GVEGFNC-----YFPLQSY----------------------------GFQPT-------------------------------------------------NGVGYQPY-------------------RVVVLSFE----LLHAPA---TVCG---------------------------------PKKSTNLVKNKCVNFNFNGLTGTGVLTESNKKFLPF-----------------QQFGRDIADTTDAV--RDPQTLEILDITPCSFGGVSVITP-----GTNTSNQVAVLYQDVNCTEVPVAI-------HADQLTPTWRVYSTGS--NVFQTRAGCLIGAEHVN--NSYECDIPI----GAGICASYQTQTN-SPRRARSVASQSIIAYTMSLGAENSVAYSNN---------SIAIPTNFTISVTTEILPVSMTKTSVD-CTMYICGDSTECSNLLLQYGSFCTQLNRALTGIAVEQDKNTQEVFAQVKQI--YKTPPIKDF-----------------GGF-------NFSQILPDPSK-----PSKRSFIEDLLFNKVTLADAGFIKQ-YGDCLGDI---AARDLICAQKFNGLTVLPPLLTD-EM-IAQYTSALLAGTITSGWTFG--AGAAL-QIPFAMQMAYRFNGIGVTQNVLYENQKLIANQFNSAIGKI--------------QDSLSSTASALGKLQDVVNQNAQALNTLVKQLSSNFGAISSVLND--ILSRLDKVEAEVQIDRLITGRLQSLQTYVTQQLIRAAEIRASANLAATKMSECVLGQSKRVDFC-GKGYHLMSFPQSAPHGVVFLHVTYVPAQEKNFTTAPAIC---------HDGKAHFPRE---GVFVS-----NGTHWFVTQRNFYEPQIITTDNTFVSGNCDVVIGIVNNTVYDPLQPEL----DSFKEELDKYFKNHTSPDVDLGDIS-GINASV--VNIQKEID--------------RLNEVAKNLNESLIDLQELGKYEQYIKWPWYIWLGFIAGLIAIVMVTIML-CCMTS-----CCS-----------CLKG------------CCSCGSCCKFD-----------EDDSEPVLKGVKLHYT--\n"
     ]
    }
   ],
   "source": [
    "uniref90_wiv04_position_mapping = get_wiv04_position_mapping(uniref90_df, \"uniref90_id\")"
   ]
  },
  {
   "cell_type": "code",
   "execution_count": 8,
   "id": "9e25b948",
   "metadata": {},
   "outputs": [
    {
     "name": "stdout",
     "output_type": "stream",
     "text": [
      "-----MFVFLVLLPLVS---------------------------SQCVNLTTRTQLPP--AYTN--SFTR-----------------------------GVYYPDKVFRSSVLHSTQDLFLPFFSNVTWFHAIHVSGTNGTKRFDNPVLPFNDGVYFASTEKSNI-----IRGWIFGTTLDS----------KTQSLLIVNNAT----------N--------------VVIKVCEFQFCN-----------------------------------------------------------------DPFLGVY--------YHKNNK--------SWMESEF-RVYSS-----ANNCT-----FEYVSQP--FLMDLEGKQGNFK-------------NLREFVFK-NIDGYFKIYSKHTPINL---VRD-------------------------LPQGFS-------------------ALEPLV-----------------------------------DLPIGI--------NIT---------------------------------RFQTLLALHRSYLT-----PGDSSSGWTAGAAAYYVGYLQPRTFLLKYNENGTITDAVDCALDPLSETKCTLKSFTVEKGIYQTSNFRVQ----PTESI---VRF-----PNITNLC----PFGEVF-------------------NATR-------------FASVYAWNRK-----------RISNCVADYSVLYNS-ASFSTFKC-----------YGVSPTKL----------------------NDLCFTNVYADSF----------VIRGD-------------------EVR-QIA----------PGQTGKI------ADYNYKLPDDFT--------G----CV----------IA-------WNSNNLDSKVGGNYNYLY---RLFRKSNL-----KPFERDISTEIYQAGST------------------------PCNGVE--GF-----------------------NCYFPLQ------SYGFQPTNGV-------GYQPYRV-------VVLSFEL-------LHAPATVCGPKKSTNLV-KNKCVNFNFNGLTGTGVLTESNKK------FLP--------FQQFGR---DIADTTDAVRDPQTLEI--------------LDITPC-SF------------GGVSVITPGT----------------------NTSNQVAVLY-------------------QDVNCTEVPVAIHADQLTPTWRVYSTGSNVFQTRAGCLIGAEHVNNSYECDIPIGAGICASYQT-------------------QTNSPRRARSVASQS--IIAYTM---SLGAENSVAYSNNSIAIPTNFTISVTT-EILPVSMTKTSVDCTMYICGDSTECSNLLLQYGSFCTQLNRALTGIAVEQDKNTQEVFAQVKQI-YKTP-------PIKD-------FG---------------------GF--NFSQILP-----DPSKPS---KRSFIEDLLFNKVTLADAGFI-KQYGDCLGDI--AARDLICAQKFNGLTVLPPLLTDEMIA---QYTSALLAGTITSGWTFGA--GAALQIPFAMQMAYRFNGIGVTQNVLYE-NQKLIANQFNSAIGKI--------------QDSLSSTASALGKLQDVVNQNAQALNTLVKQLSSNFGAISSVLNDILSRLDKVEAEVQIDRLITGRLQSLQTYVTQQLIRAAEIRA-SANLAATKMSECVLGQSKRVDFCG-KGYHLMSF-----PQSAPHGVVFLHVTYVPAQEKNFTTAPAICHDG-------------KAHFPREGVFVS----NGTH----WFVTQRNFYEPQIITTDNTFVSGNCDVVIGIVNNTVYDPLQPELD-------SFKEELDKYFKNHTSPDVDLG--DISGINASV--VNIQKEI--------------DRLNEVAKNLNESLIDLQELGKYEQYIKWPWYIWLGFIAGLIAIVMVTIML--CCMTSCC-SCLKGCCS----C-GSCCK-------FDE----DDSEP----VLKGVKLHYT\n"
     ]
    }
   ],
   "source": [
    "uniprot_wiv04_position_mapping = get_wiv04_position_mapping(uniprot_df, \"uniprot_id\")"
   ]
  },
  {
   "cell_type": "code",
   "execution_count": 9,
   "id": "f78fda1f",
   "metadata": {},
   "outputs": [],
   "source": [
    "columns = [\"id\", human_label, \"y_true\", \"orig_token\", \"perturb_seq_pos\", \"new_token\", pred_diff_col, f\"abs_{pred_diff_col}\", \"perturb_pos\", \"perturbation_id\"]\n",
    "\n",
    "def get_perturbation_results_df(dir_path, wiv04_position_mapping):\n",
    "    perturbed_output_dfs = []\n",
    "    perturbation_output_files = os.listdir(dir_path)\n",
    "    print(f\"Number of files: {len(perturbation_output_files)}\")\n",
    "    # read all the files for each experiment\n",
    "    for perturbation_output_file in perturbation_output_files:\n",
    "        df = pd.read_csv(os.path.join(dir_path, perturbation_output_file))\n",
    "        \n",
    "        # compute the perturbation difference\n",
    "        orig_seq_df = df[df[\"orig_token\"] == df[\"new_token\"]]\n",
    "        orig_pred_val = orig_seq_df[human_label].values[0]\n",
    "        df[pred_diff_col] = df[human_label] - orig_pred_val\n",
    "        df[f\"abs_{pred_diff_col}\"] = df[pred_diff_col].abs()\n",
    "        \n",
    "        if \"WIV04\" in perturbation_output_file:\n",
    "            perturbed_output_dfs.append(df)\n",
    "    \n",
    "    perturbed_output_df = pd.concat(perturbed_output_dfs)\n",
    "    perturbed_output_df.rename(columns={\"uniref90_id\": \"id\", \"uniprot_id\": \"id\"}, inplace=True)\n",
    "    \n",
    "    # compute the perturb_seq_pos\n",
    "    try:\n",
    "        perturbed_output_df[\"perturb_seq_pos\"] = perturbed_output_df[\"perturb_pos\"].apply(lambda x: int(wiv04_position_mapping[x]) if x in wiv04_position_mapping else None)\n",
    "        perturbed_output_df[\"perturb_seq_pos\"] = perturbed_output_df[\"perturb_seq_pos\"].astype(\"Int64\")\n",
    "    except: \n",
    "        pass\n",
    "    \n",
    "    perturbed_output_df[\"perturbation_id\"] = perturbed_output_df[\"orig_token\"] +  \"_\" + perturbed_output_df[\"perturb_seq_pos\"].astype(\"str\") + \"_\" + perturbed_output_df[\"new_token\"]\n",
    "\n",
    "    return perturbed_output_df[columns]"
   ]
  },
  {
   "cell_type": "code",
   "execution_count": 10,
   "id": "bb16e16e",
   "metadata": {},
   "outputs": [],
   "source": [
    "def get_mutations_df(df):\n",
    "    mutations_dfs = []\n",
    "    for _, row in s_mutations_df.iterrows():\n",
    "        mutation_df = df[df[\"perturbation_id\"] == row[\"perturbation_id\"]]\n",
    "        mutations_dfs.append(mutation_df)\n",
    "    return pd.concat(mutations_dfs)"
   ]
  },
  {
   "cell_type": "code",
   "execution_count": 11,
   "id": "268b7c66",
   "metadata": {},
   "outputs": [
    {
     "name": "stdout",
     "output_type": "stream",
     "text": [
      "Experiment: UniRef90-Aligned-Binary\n",
      "UniRef90 WIV04 Mapping\n",
      "Number of files: 94\n",
      "mutations_df = (13, 11)\n",
      "Experiment: UniRef90-Aligned-Multi\n",
      "UniRef90 WIV04 Mapping\n",
      "Number of files: 94\n",
      "mutations_df = (13, 11)\n",
      "Experiment: UniProt-Aligned-Binary\n",
      "UniProt WIV04 Mapping\n",
      "Number of files: 1019\n",
      "mutations_df = (13, 11)\n",
      "Experiment: UniProt-Aligned-Multi\n",
      "UniProt WIV04 Mapping\n",
      "Number of files: 1019\n",
      "mutations_df = (13, 11)\n",
      "(52, 11)\n"
     ]
    }
   ],
   "source": [
    "dir_paths = {\n",
    "    \"UniRef90-Aligned-Binary\": uniref90_aligned_binary_dir_path,\n",
    "    \"UniRef90-Aligned-Multi\": uniref90_aligned_multi_dir_path,\n",
    "    \"UniProt-Aligned-Binary\": uniprot_aligned_binary_dir_path,\n",
    "    \"UniProt-Aligned-Multi\": uniprot_aligned_multi_dir_path\n",
    "}\n",
    "\n",
    "experiment_stats = []\n",
    "dfs = []\n",
    "for key, dir_path in dir_paths.items():\n",
    "    wiv04_position_mapping = None\n",
    "    print(f\"Experiment: {key}\")\n",
    "    if \"UniRef90\" in key:\n",
    "        print(\"UniRef90 WIV04 Mapping\")\n",
    "        wiv04_position_mapping = uniref90_wiv04_position_mapping\n",
    "    else:\n",
    "        print(\"UniProt WIV04 Mapping\")\n",
    "        wiv04_position_mapping = uniprot_wiv04_position_mapping\n",
    "    \n",
    "    perturbed_output_df = get_perturbation_results_df(dir_path, wiv04_position_mapping)\n",
    "    perturbed_output_df[\"experiment\"] = key\n",
    "    \n",
    "    mutations_df = get_mutations_df(perturbed_output_df)\n",
    "    print(f\"mutations_df = {mutations_df.shape}\")\n",
    "    \n",
    "    del perturbed_output_df\n",
    "    dfs.append(mutations_df)\n",
    "\n",
    "df = pd.concat(dfs)\n",
    "print(df.shape)"
   ]
  },
  {
   "cell_type": "code",
   "execution_count": 12,
   "id": "a5a00bd7",
   "metadata": {
    "scrolled": true
   },
   "outputs": [
    {
     "data": {
      "text/html": [
       "<div>\n",
       "<style scoped>\n",
       "    .dataframe tbody tr th:only-of-type {\n",
       "        vertical-align: middle;\n",
       "    }\n",
       "\n",
       "    .dataframe tbody tr th {\n",
       "        vertical-align: top;\n",
       "    }\n",
       "\n",
       "    .dataframe thead th {\n",
       "        text-align: right;\n",
       "    }\n",
       "</style>\n",
       "<table border=\"1\" class=\"dataframe\">\n",
       "  <thead>\n",
       "    <tr style=\"text-align: right;\">\n",
       "      <th></th>\n",
       "      <th>id</th>\n",
       "      <th>Human</th>\n",
       "      <th>y_true</th>\n",
       "      <th>orig_token</th>\n",
       "      <th>perturb_seq_pos</th>\n",
       "      <th>new_token</th>\n",
       "      <th>Human_pred_diff</th>\n",
       "      <th>abs_Human_pred_diff</th>\n",
       "      <th>perturb_pos</th>\n",
       "      <th>perturbation_id</th>\n",
       "      <th>experiment</th>\n",
       "    </tr>\n",
       "  </thead>\n",
       "  <tbody>\n",
       "    <tr>\n",
       "      <th>17782</th>\n",
       "      <td>WIV04</td>\n",
       "      <td>0.978202</td>\n",
       "      <td>Human</td>\n",
       "      <td>D</td>\n",
       "      <td>614</td>\n",
       "      <td>G</td>\n",
       "      <td>0.000000</td>\n",
       "      <td>0.000000</td>\n",
       "      <td>1595</td>\n",
       "      <td>D_614_G</td>\n",
       "      <td>UniRef90-Aligned-Binary</td>\n",
       "    </tr>\n",
       "    <tr>\n",
       "      <th>21476</th>\n",
       "      <td>WIV04</td>\n",
       "      <td>0.978202</td>\n",
       "      <td>Human</td>\n",
       "      <td>S</td>\n",
       "      <td>943</td>\n",
       "      <td>P</td>\n",
       "      <td>0.000000</td>\n",
       "      <td>0.000000</td>\n",
       "      <td>2004</td>\n",
       "      <td>S_943_P</td>\n",
       "      <td>UniRef90-Aligned-Binary</td>\n",
       "    </tr>\n",
       "    <tr>\n",
       "      <th>6015</th>\n",
       "      <td>WIV04</td>\n",
       "      <td>0.978306</td>\n",
       "      <td>Human</td>\n",
       "      <td>E</td>\n",
       "      <td>484</td>\n",
       "      <td>K</td>\n",
       "      <td>0.000104</td>\n",
       "      <td>0.000104</td>\n",
       "      <td>1300</td>\n",
       "      <td>E_484_K</td>\n",
       "      <td>UniRef90-Aligned-Binary</td>\n",
       "    </tr>\n",
       "    <tr>\n",
       "      <th>27351</th>\n",
       "      <td>WIV04</td>\n",
       "      <td>0.978202</td>\n",
       "      <td>Human</td>\n",
       "      <td>N</td>\n",
       "      <td>501</td>\n",
       "      <td>Y</td>\n",
       "      <td>0.000000</td>\n",
       "      <td>0.000000</td>\n",
       "      <td>1399</td>\n",
       "      <td>N_501_Y</td>\n",
       "      <td>UniRef90-Aligned-Binary</td>\n",
       "    </tr>\n",
       "    <tr>\n",
       "      <th>2372</th>\n",
       "      <td>WIV04</td>\n",
       "      <td>0.978061</td>\n",
       "      <td>Human</td>\n",
       "      <td>L</td>\n",
       "      <td>452</td>\n",
       "      <td>R</td>\n",
       "      <td>-0.000141</td>\n",
       "      <td>0.000141</td>\n",
       "      <td>1243</td>\n",
       "      <td>L_452_R</td>\n",
       "      <td>UniRef90-Aligned-Binary</td>\n",
       "    </tr>\n",
       "  </tbody>\n",
       "</table>\n",
       "</div>"
      ],
      "text/plain": [
       "          id     Human y_true orig_token  perturb_seq_pos new_token  \\\n",
       "17782  WIV04  0.978202  Human          D              614         G   \n",
       "21476  WIV04  0.978202  Human          S              943         P   \n",
       "6015   WIV04  0.978306  Human          E              484         K   \n",
       "27351  WIV04  0.978202  Human          N              501         Y   \n",
       "2372   WIV04  0.978061  Human          L              452         R   \n",
       "\n",
       "       Human_pred_diff  abs_Human_pred_diff  perturb_pos perturbation_id  \\\n",
       "17782         0.000000             0.000000         1595         D_614_G   \n",
       "21476         0.000000             0.000000         2004         S_943_P   \n",
       "6015          0.000104             0.000104         1300         E_484_K   \n",
       "27351         0.000000             0.000000         1399         N_501_Y   \n",
       "2372         -0.000141             0.000141         1243         L_452_R   \n",
       "\n",
       "                    experiment  \n",
       "17782  UniRef90-Aligned-Binary  \n",
       "21476  UniRef90-Aligned-Binary  \n",
       "6015   UniRef90-Aligned-Binary  \n",
       "27351  UniRef90-Aligned-Binary  \n",
       "2372   UniRef90-Aligned-Binary  "
      ]
     },
     "execution_count": 12,
     "metadata": {},
     "output_type": "execute_result"
    }
   ],
   "source": [
    "df.head()"
   ]
  },
  {
   "cell_type": "code",
   "execution_count": 13,
   "id": "3645b656",
   "metadata": {},
   "outputs": [
    {
     "data": {
      "text/plain": [
       "experiment               perturbation_id\n",
       "UniProt-Aligned-Binary   D_614_G            1\n",
       "                         E_484_K            1\n",
       "UniRef90-Aligned-Binary  E_484_Q            1\n",
       "                         K_417_N            1\n",
       "                         K_417_T            1\n",
       "                         L_452_R            1\n",
       "                         N_501_Y            1\n",
       "                         P_681_H            1\n",
       "                         Q_677_H            1\n",
       "                         Q_677_P            1\n",
       "                         S_477_G            1\n",
       "                         S_477_N            1\n",
       "                         S_943_P            1\n",
       "UniRef90-Aligned-Multi   D_614_G            1\n",
       "                         E_484_K            1\n",
       "                         E_484_Q            1\n",
       "                         K_417_N            1\n",
       "                         K_417_T            1\n",
       "                         L_452_R            1\n",
       "                         N_501_Y            1\n",
       "                         P_681_H            1\n",
       "                         Q_677_H            1\n",
       "                         Q_677_P            1\n",
       "                         S_477_G            1\n",
       "                         S_477_N            1\n",
       "UniRef90-Aligned-Binary  E_484_K            1\n",
       "                         D_614_G            1\n",
       "UniProt-Aligned-Multi    S_943_P            1\n",
       "UniProt-Aligned-Binary   S_943_P            1\n",
       "                         E_484_Q            1\n",
       "                         K_417_N            1\n",
       "                         K_417_T            1\n",
       "                         L_452_R            1\n",
       "                         N_501_Y            1\n",
       "                         P_681_H            1\n",
       "                         Q_677_H            1\n",
       "                         Q_677_P            1\n",
       "                         S_477_G            1\n",
       "                         S_477_N            1\n",
       "UniProt-Aligned-Multi    D_614_G            1\n",
       "                         S_477_N            1\n",
       "                         E_484_K            1\n",
       "                         E_484_Q            1\n",
       "                         K_417_N            1\n",
       "                         K_417_T            1\n",
       "                         L_452_R            1\n",
       "                         N_501_Y            1\n",
       "                         P_681_H            1\n",
       "                         Q_677_H            1\n",
       "                         Q_677_P            1\n",
       "                         S_477_G            1\n",
       "UniRef90-Aligned-Multi   S_943_P            1\n",
       "dtype: int64"
      ]
     },
     "execution_count": 13,
     "metadata": {},
     "output_type": "execute_result"
    }
   ],
   "source": [
    "df[[\"experiment\",\"perturbation_id\"]].value_counts()"
   ]
  },
  {
   "cell_type": "code",
   "execution_count": 14,
   "id": "4982764a",
   "metadata": {},
   "outputs": [
    {
     "data": {
      "text/html": [
       "<div>\n",
       "<style scoped>\n",
       "    .dataframe tbody tr th:only-of-type {\n",
       "        vertical-align: middle;\n",
       "    }\n",
       "\n",
       "    .dataframe tbody tr th {\n",
       "        vertical-align: top;\n",
       "    }\n",
       "\n",
       "    .dataframe thead th {\n",
       "        text-align: right;\n",
       "    }\n",
       "</style>\n",
       "<table border=\"1\" class=\"dataframe\">\n",
       "  <thead>\n",
       "    <tr style=\"text-align: right;\">\n",
       "      <th></th>\n",
       "      <th>id</th>\n",
       "      <th>Human</th>\n",
       "      <th>y_true</th>\n",
       "      <th>orig_token</th>\n",
       "      <th>perturb_seq_pos</th>\n",
       "      <th>new_token</th>\n",
       "      <th>Human_pred_diff</th>\n",
       "      <th>abs_Human_pred_diff</th>\n",
       "      <th>perturb_pos</th>\n",
       "      <th>perturbation_id</th>\n",
       "      <th>experiment</th>\n",
       "    </tr>\n",
       "  </thead>\n",
       "  <tbody>\n",
       "  </tbody>\n",
       "</table>\n",
       "</div>"
      ],
      "text/plain": [
       "Empty DataFrame\n",
       "Columns: [id, Human, y_true, orig_token, perturb_seq_pos, new_token, Human_pred_diff, abs_Human_pred_diff, perturb_pos, perturbation_id, experiment]\n",
       "Index: []"
      ]
     },
     "execution_count": 14,
     "metadata": {},
     "output_type": "execute_result"
    }
   ],
   "source": [
    "df[df[\"perturbation_id\"] == \"D_839_Y\"]"
   ]
  },
  {
   "cell_type": "code",
   "execution_count": 15,
   "id": "8fbc86ce",
   "metadata": {
    "scrolled": true
   },
   "outputs": [
    {
     "data": {
      "text/plain": [
       "<Figure size 432x288 with 0 Axes>"
      ]
     },
     "metadata": {},
     "output_type": "display_data"
    },
    {
     "data": {
      "text/plain": [
       "<Figure size 1296x864 with 0 Axes>"
      ]
     },
     "metadata": {},
     "output_type": "display_data"
    }
   ],
   "source": [
    "plt.clf()\n",
    "plt.figure(figsize=(18, 12))\n",
    "plt.rcParams['xtick.labelsize'] = 14\n",
    "plt.rcParams['ytick.labelsize'] = 14\n",
    "plt.rcParams.update({'font.size': 14})\n",
    "# sns.swarmplot(data=df, x=pred_diff_col, y=\"perturbation_id\",size=1, palette=\"dark:k\", hue=\"experiment\", ax=g.ax)\n"
   ]
  },
  {
   "cell_type": "code",
   "execution_count": 16,
   "id": "77243fdd",
   "metadata": {
    "scrolled": false
   },
   "outputs": [
    {
     "name": "stderr",
     "output_type": "stream",
     "text": [
      "/home/blessyantony/.local/lib/python3.8/site-packages/seaborn/axisgrid.py:718: UserWarning: Using the boxplot function without specifying `order` is likely to produce an incorrect plot.\n",
      "  warnings.warn(warning)\n"
     ]
    },
    {
     "data": {
      "text/plain": [
       "<seaborn.axisgrid.FacetGrid at 0x1555209f4340>"
      ]
     },
     "execution_count": 16,
     "metadata": {},
     "output_type": "execute_result"
    },
    {
     "data": {
      "image/png": "[encoded data removed]",
      "text/plain": [
       "<Figure size 1152x1152 with 13 Axes>"
      ]
     },
     "metadata": {
      "needs_background": "light"
     },
     "output_type": "display_data"
    }
   ],
   "source": [
    "g = sns.FacetGrid(data=df, col=\"perturbation_id\", col_wrap=4, height=4, sharex=True, sharey=True)\n",
    "g.map(sns.boxplot, pred_diff_col, \"experiment\")"
   ]
  },
  {
   "cell_type": "code",
   "execution_count": null,
   "id": "1c64acdd",
   "metadata": {},
   "outputs": [],
   "source": []
  }
 ],
 "metadata": {
  "kernelspec": {
   "display_name": "Python 3 (ipykernel)",
   "language": "python",
   "name": "python3"
  },
  "language_info": {
   "codemirror_mode": {
    "name": "ipython",
    "version": 3
   },
   "file_extension": ".py",
   "mimetype": "text/x-python",
   "name": "python",
   "nbconvert_exporter": "python",
   "pygments_lexer": "ipython3",
   "version": "3.8.12"
  }
 },
 "nbformat": 4,
 "nbformat_minor": 5
}
