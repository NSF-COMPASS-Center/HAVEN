{
 "cells": [
  {
   "cell_type": "markdown",
   "id": "d941fa6e",
   "metadata": {},
   "source": [
    "## Perturbation of sequences\n",
    "### Dataset: UniProt SARS-CoV-2 aligned w.r.t WIV04\n",
    "### Number of sequences = \n",
    "### Model: VirProBERT (CoV-S-UniRef90, CoV-S-UniRef90-aligned) "
   ]
  },
  {
   "cell_type": "code",
   "execution_count": 1,
   "id": "f2b3c800",
   "metadata": {},
   "outputs": [
    {
     "data": {
      "text/plain": [
       "['/home/blessyantony/dev/git/zoonosis/src/jupyter_notebooks/perturbation/sars-cov-2/uniprot',\n",
       " '/opt/conda/lib/python38.zip',\n",
       " '/opt/conda/lib/python3.8',\n",
       " '/opt/conda/lib/python3.8/lib-dynload',\n",
       " '',\n",
       " '/home/blessyantony/.local/lib/python3.8/site-packages',\n",
       " '/opt/conda/lib/python3.8/site-packages',\n",
       " '/opt/conda/lib/python3.8/site-packages/IPython/extensions',\n",
       " '/home/blessyantony/.ipython',\n",
       " '/home/blessyantony/dev/git/zoonosis/src/jupyter_notebooks/perturbation/sars-cov-2/uniprot/../../..',\n",
       " '/home/blessyantony/dev/git/zoonosis/src/jupyter_notebooks/perturbation/sars-cov-2/uniprot/../..',\n",
       " '/home/blessyantony/dev/git/zoonosis/src/jupyter_notebooks/perturbation/sars-cov-2/uniprot/..']"
      ]
     },
     "execution_count": 1,
     "metadata": {},
     "output_type": "execute_result"
    }
   ],
   "source": [
    "import sys\n",
    "import os\n",
    "sys.path.append(os.path.join(os.getcwd(), \"..\", \"..\", \"..\"))\n",
    "sys.path.append(os.path.join(os.getcwd(), \"..\", \"..\"))\n",
    "sys.path.append(os.path.join(os.getcwd(), \"..\"))\n",
    "sys.path"
   ]
  },
  {
   "cell_type": "code",
   "execution_count": 2,
   "id": "989b37a7",
   "metadata": {},
   "outputs": [],
   "source": [
    "import pandas as pd\n",
    "import numpy as np\n",
    "import os\n",
    "import torch\n",
    "import torch.nn as nn\n",
    "import torch.nn.functional as F\n",
    "import re\n",
    "\n",
    "import matplotlib\n",
    "import matplotlib.pyplot as plt\n",
    "import seaborn as sns\n",
    "cmap = sns.color_palette(\"vlag\", as_cmap=True)\n",
    "\n",
    "from Bio import SeqIO\n",
    "from Bio.Seq import Seq\n",
    "from Bio import motifs\n"
   ]
  },
  {
   "cell_type": "code",
   "execution_count": 3,
   "id": "102b086d",
   "metadata": {},
   "outputs": [
    {
     "data": {
      "text/plain": [
       "199"
      ]
     },
     "execution_count": 3,
     "metadata": {},
     "output_type": "execute_result"
    }
   ],
   "source": [
    "human_label = \"Human\"\n",
    "pred_diff_col = f\"{human_label}_pred_diff\"\n",
    "perturbation_processed_output_dir = os.path.join(os.getcwd(), \"..\", \"..\", \"..\", \"..\", \"..\", \"output/raw/coronaviridae_s_prot_perturbation/20240320/sars-cov-2/uniprot/cov-S-aligned-binary-transfer_learning_mlm_fnn_2l_lr1e-4/processed\")\n",
    "perturbation_output_files = os.listdir(perturbation_processed_output_dir)\n",
    "len(perturbation_output_files)"
   ]
  },
  {
   "cell_type": "code",
   "execution_count": 4,
   "id": "4a10f7ef",
   "metadata": {},
   "outputs": [],
   "source": [
    "perturbed_output_dfs = []\n",
    "for perturbation_output_file in perturbation_output_files:\n",
    "    df = pd.read_csv(os.path.join(perturbation_processed_output_dir, perturbation_output_file))\n",
    "    orig_seq_df = df[df[\"orig_token\"] == df[\"new_token\"]]\n",
    "    orig_pred_val = orig_seq_df[human_label].values[0]\n",
    "    df[pred_diff_col] = orig_pred_val - df[human_label]\n",
    "    df[f\"abs_{pred_diff_col}\"] = df[pred_diff_col].abs()\n",
    "    perturbed_output_dfs.append(df)\n",
    "perturbed_output_df = pd.concat(perturbed_output_dfs)"
   ]
  },
  {
   "cell_type": "code",
   "execution_count": 5,
   "id": "6a6b0584",
   "metadata": {
    "scrolled": true
   },
   "outputs": [
    {
     "name": "stdout",
     "output_type": "stream",
     "text": [
      "(6316449, 9)\n"
     ]
    },
    {
     "data": {
      "text/html": [
       "<div>\n",
       "<style scoped>\n",
       "    .dataframe tbody tr th:only-of-type {\n",
       "        vertical-align: middle;\n",
       "    }\n",
       "\n",
       "    .dataframe tbody tr th {\n",
       "        vertical-align: top;\n",
       "    }\n",
       "\n",
       "    .dataframe thead th {\n",
       "        text-align: right;\n",
       "    }\n",
       "</style>\n",
       "<table border=\"1\" class=\"dataframe\">\n",
       "  <thead>\n",
       "    <tr style=\"text-align: right;\">\n",
       "      <th></th>\n",
       "      <th>Human</th>\n",
       "      <th>Non-Human</th>\n",
       "      <th>uniprot_id</th>\n",
       "      <th>y_true</th>\n",
       "      <th>orig_token</th>\n",
       "      <th>perturb_pos</th>\n",
       "      <th>new_token</th>\n",
       "      <th>Human_pred_diff</th>\n",
       "      <th>abs_Human_pred_diff</th>\n",
       "    </tr>\n",
       "  </thead>\n",
       "  <tbody>\n",
       "    <tr>\n",
       "      <th>0</th>\n",
       "      <td>0.980133</td>\n",
       "      <td>0.019867</td>\n",
       "      <td>A0A8B1JA98</td>\n",
       "      <td>Human</td>\n",
       "      <td>H</td>\n",
       "      <td>1836</td>\n",
       "      <td>X</td>\n",
       "      <td>0.000000</td>\n",
       "      <td>0.000000</td>\n",
       "    </tr>\n",
       "    <tr>\n",
       "      <th>1</th>\n",
       "      <td>0.980285</td>\n",
       "      <td>0.019715</td>\n",
       "      <td>A0A8B1JA98</td>\n",
       "      <td>Human</td>\n",
       "      <td>D</td>\n",
       "      <td>949</td>\n",
       "      <td>K</td>\n",
       "      <td>-0.000152</td>\n",
       "      <td>0.000152</td>\n",
       "    </tr>\n",
       "    <tr>\n",
       "      <th>2</th>\n",
       "      <td>0.980163</td>\n",
       "      <td>0.019837</td>\n",
       "      <td>A0A8B1JA98</td>\n",
       "      <td>Human</td>\n",
       "      <td>Q</td>\n",
       "      <td>1321</td>\n",
       "      <td>B</td>\n",
       "      <td>-0.000030</td>\n",
       "      <td>0.000030</td>\n",
       "    </tr>\n",
       "    <tr>\n",
       "      <th>3</th>\n",
       "      <td>0.980133</td>\n",
       "      <td>0.019867</td>\n",
       "      <td>A0A8B1JA98</td>\n",
       "      <td>Human</td>\n",
       "      <td>V</td>\n",
       "      <td>1423</td>\n",
       "      <td>O</td>\n",
       "      <td>0.000000</td>\n",
       "      <td>0.000000</td>\n",
       "    </tr>\n",
       "    <tr>\n",
       "      <th>4</th>\n",
       "      <td>0.980250</td>\n",
       "      <td>0.019750</td>\n",
       "      <td>A0A8B1JA98</td>\n",
       "      <td>Human</td>\n",
       "      <td>V</td>\n",
       "      <td>485</td>\n",
       "      <td>J</td>\n",
       "      <td>-0.000117</td>\n",
       "      <td>0.000117</td>\n",
       "    </tr>\n",
       "  </tbody>\n",
       "</table>\n",
       "</div>"
      ],
      "text/plain": [
       "      Human  Non-Human  uniprot_id y_true orig_token  perturb_pos new_token  \\\n",
       "0  0.980133   0.019867  A0A8B1JA98  Human          H         1836         X   \n",
       "1  0.980285   0.019715  A0A8B1JA98  Human          D          949         K   \n",
       "2  0.980163   0.019837  A0A8B1JA98  Human          Q         1321         B   \n",
       "3  0.980133   0.019867  A0A8B1JA98  Human          V         1423         O   \n",
       "4  0.980250   0.019750  A0A8B1JA98  Human          V          485         J   \n",
       "\n",
       "   Human_pred_diff  abs_Human_pred_diff  \n",
       "0         0.000000             0.000000  \n",
       "1        -0.000152             0.000152  \n",
       "2        -0.000030             0.000030  \n",
       "3         0.000000             0.000000  \n",
       "4        -0.000117             0.000117  "
      ]
     },
     "execution_count": 5,
     "metadata": {},
     "output_type": "execute_result"
    }
   ],
   "source": [
    "print(perturbed_output_df.shape)\n",
    "perturbed_output_df.head()"
   ]
  },
  {
   "cell_type": "markdown",
   "id": "93823a3e",
   "metadata": {},
   "source": [
    "### WIV04 reference sequence"
   ]
  },
  {
   "cell_type": "code",
   "execution_count": 6,
   "id": "ebc02852",
   "metadata": {},
   "outputs": [
    {
     "data": {
      "text/html": [
       "<div>\n",
       "<style scoped>\n",
       "    .dataframe tbody tr th:only-of-type {\n",
       "        vertical-align: middle;\n",
       "    }\n",
       "\n",
       "    .dataframe tbody tr th {\n",
       "        vertical-align: top;\n",
       "    }\n",
       "\n",
       "    .dataframe thead th {\n",
       "        text-align: right;\n",
       "    }\n",
       "</style>\n",
       "<table border=\"1\" class=\"dataframe\">\n",
       "  <thead>\n",
       "    <tr style=\"text-align: right;\">\n",
       "      <th></th>\n",
       "      <th>uniprot_id</th>\n",
       "      <th>aligned_seq</th>\n",
       "      <th>seq</th>\n",
       "      <th>virus_name</th>\n",
       "      <th>virus_host_name</th>\n",
       "      <th>human_binary_label</th>\n",
       "    </tr>\n",
       "  </thead>\n",
       "  <tbody>\n",
       "    <tr>\n",
       "      <th>0</th>\n",
       "      <td>WIV04</td>\n",
       "      <td>-----MFVFLVLLPLVS---------------------------SQ...</td>\n",
       "      <td>MFVFLVLLPLVSSQCVNLTTRTQLPPAYTNSFTRGVYYPDKVFRSS...</td>\n",
       "      <td>WIV04(MN996528.1) Wuhan variant index virus</td>\n",
       "      <td>homo sapiens</td>\n",
       "      <td>homo sapiens</td>\n",
       "    </tr>\n",
       "  </tbody>\n",
       "</table>\n",
       "</div>"
      ],
      "text/plain": [
       "  uniprot_id                                        aligned_seq  \\\n",
       "0      WIV04  -----MFVFLVLLPLVS---------------------------SQ...   \n",
       "\n",
       "                                                 seq  \\\n",
       "0  MFVFLVLLPLVSSQCVNLTTRTQLPPAYTNSFTRGVYYPDKVFRSS...   \n",
       "\n",
       "                                    virus_name virus_host_name  \\\n",
       "0  WIV04(MN996528.1) Wuhan variant index virus    homo sapiens   \n",
       "\n",
       "  human_binary_label  \n",
       "0       homo sapiens  "
      ]
     },
     "execution_count": 6,
     "metadata": {},
     "output_type": "execute_result"
    }
   ],
   "source": [
    "wiv04_aligned_file_path = os.path.join(os.getcwd(), \"..\", \"..\", \"..\", \"..\", \"..\", \"input/data/coronaviridae/20240313/uniprot/aligned/coronaviridae_s_uniprot_uniprot_metadata_embl_hosts_pruned_metadata_corrected_species_virus_host_vertebrates_w_seq_t0.01_c8_aligned.csv\")\n",
    "wiv04_df = pd.read_csv(wiv04_aligned_file_path)\n",
    "wiv04_df = wiv04_df[wiv04_df[\"uniprot_id\"] == \"WIV04\"]\n",
    "wiv04_df.head()"
   ]
  },
  {
   "cell_type": "code",
   "execution_count": 7,
   "id": "e36fda93",
   "metadata": {},
   "outputs": [
    {
     "data": {
      "text/plain": [
       "'-----MFVFLVLLPLVS---------------------------SQCVNLTTRTQLPP--AYTN--SFTR-----------------------------GVYYPDKVFRSSVLHSTQDLFLPFFSNVTWFHAIHVSGTNGTKRFDNPVLPFNDGVYFASTEKSNI-----IRGWIFGTTLDS----------KTQSLLIVNNAT----------N--------------VVIKVCEFQFCN-----------------------------------------------------------------DPFLGVY--------YHKNNK--------SWMESEF-RVYSS-----ANNCT-----FEYVSQP--FLMDLEGKQGNFK-------------NLREFVFK-NIDGYFKIYSKHTPINL---VRD-------------------------LPQGFS-------------------ALEPLV-----------------------------------DLPIGI--------NIT---------------------------------RFQTLLALHRSYLT-----PGDSSSGWTAGAAAYYVGYLQPRTFLLKYNENGTITDAVDCALDPLSETKCTLKSFTVEKGIYQTSNFRVQ----PTESI---VRF-----PNITNLC----PFGEVF-------------------NATR-------------FASVYAWNRK-----------RISNCVADYSVLYNS-ASFSTFKC-----------YGVSPTKL----------------------NDLCFTNVYADSF----------VIRGD-------------------EVR-QIA----------PGQTGKI------ADYNYKLPDDFT--------G----CV----------IA-------WNSNNLDSKVGGNYNYLY---RLFRKSNL-----KPFERDISTEIYQAGST------------------------PCNGVE--GF-----------------------NCYFPLQ------SYGFQPTNGV-------GYQPYRV-------VVLSFEL-------LHAPATVCGPKKSTNLV-KNKCVNFNFNGLTGTGVLTESNKK------FLP--------FQQFGR---DIADTTDAVRDPQTLEI--------------LDITPC-SF------------GGVSVITPGT----------------------NTSNQVAVLY-------------------QDVNCTEVPVAIHADQLTPTWRVYSTGSNVFQTRAGCLIGAEHVNNSYECDIPIGAGICASYQT-------------------QTNSPRRARSVASQS--IIAYTM---SLGAENSVAYSNNSIAIPTNFTISVTT-EILPVSMTKTSVDCTMYICGDSTECSNLLLQYGSFCTQLNRALTGIAVEQDKNTQEVFAQVKQI-YKTP-------PIKD-------FG---------------------GF--NFSQILP-----DPSKPS---KRSFIEDLLFNKVTLADAGFI-KQYGDCLGDI--AARDLICAQKFNGLTVLPPLLTDEMIA---QYTSALLAGTITSGWTFGA--GAALQIPFAMQMAYRFNGIGVTQNVLYE-NQKLIANQFNSAIGKI--------------QDSLSSTASALGKLQDVVNQNAQALNTLVKQLSSNFGAISSVLNDILSRLDKVEAEVQIDRLITGRLQSLQTYVTQQLIRAAEIRA-SANLAATKMSECVLGQSKRVDFCG-KGYHLMSF-----PQSAPHGVVFLHVTYVPAQEKNFTTAPAICHDG-------------KAHFPREGVFVS----NGTH----WFVTQRNFYEPQIITTDNTFVSGNCDVVIGIVNNTVYDPLQPELD-------SFKEELDKYFKNHTSPDVDLG--DISGINASV--VNIQKEI--------------DRLNEVAKNLNESLIDLQELGKYEQYIKWPWYIWLGFIAGLIAIVMVTIML--CCMTSCC-SCLKGCCS----C-GSCCK-------FDE----DDSEP----VLKGVKLHYT'"
      ]
     },
     "execution_count": 7,
     "metadata": {},
     "output_type": "execute_result"
    }
   ],
   "source": [
    "wiv04_aligned_seq = wiv04_df[\"aligned_seq\"].values[0]\n",
    "wiv04_aligned_seq"
   ]
  },
  {
   "cell_type": "code",
   "execution_count": 8,
   "id": "a6158bf4",
   "metadata": {},
   "outputs": [],
   "source": [
    "wiv04_position_mapping = {}\n",
    "pos = 0\n",
    "for i, token in enumerate(wiv04_aligned_seq):\n",
    "    if token == \"-\":\n",
    "        continue\n",
    "    else:\n",
    "        pos += 1\n",
    "        wiv04_position_mapping[i] = pos\n",
    "        \n",
    "try:\n",
    "    perturbed_output_df[\"perturb_seq_pos\"] = perturbed_output_df[\"perturb_pos\"].apply(lambda x: int(wiv04_position_mapping[x]) if x in wiv04_position_mapping else None)\n",
    "except: \n",
    "    pass"
   ]
  },
  {
   "cell_type": "markdown",
   "id": "a2fdbc97",
   "metadata": {},
   "source": [
    "### Distribution of prediction difference values"
   ]
  },
  {
   "cell_type": "code",
   "execution_count": 9,
   "id": "71669f9a",
   "metadata": {},
   "outputs": [
    {
     "name": "stderr",
     "output_type": "stream",
     "text": [
      "/tmp/ipykernel_2497408/2860024834.py:5: UserWarning: \n",
      "\n",
      "`distplot` is a deprecated function and will be removed in seaborn v0.14.0.\n",
      "\n",
      "Please adapt your code to use either `displot` (a figure-level function with\n",
      "similar flexibility) or `histplot` (an axes-level function for histograms).\n",
      "\n",
      "For a guide to updating your code to use the new functions, please see\n",
      "https://gist.github.com/mwaskom/de44147ed2974457ad6372750bbe5751\n",
      "\n",
      "  sns.distplot(perturbed_output_df[\"Human_pred_diff\"])\n"
     ]
    },
    {
     "data": {
      "text/plain": [
       "<Figure size 432x288 with 0 Axes>"
      ]
     },
     "metadata": {},
     "output_type": "display_data"
    },
    {
     "data": {
      "image/png": "[encoded data removed]",
      "text/plain": [
       "<Figure size 3456x1152 with 1 Axes>"
      ]
     },
     "metadata": {
      "needs_background": "light"
     },
     "output_type": "display_data"
    }
   ],
   "source": [
    "plt.clf()\n",
    "plt.figure(figsize=(48, 16))\n",
    "plt.rcParams['xtick.labelsize'] = 24\n",
    "plt.rcParams['ytick.labelsize'] = 24\n",
    "sns.distplot(perturbed_output_df[\"Human_pred_diff\"])\n",
    "plt.show()"
   ]
  },
  {
   "cell_type": "code",
   "execution_count": 10,
   "id": "c05f995d",
   "metadata": {},
   "outputs": [
    {
     "data": {
      "text/html": [
       "<div>\n",
       "<style scoped>\n",
       "    .dataframe tbody tr th:only-of-type {\n",
       "        vertical-align: middle;\n",
       "    }\n",
       "\n",
       "    .dataframe tbody tr th {\n",
       "        vertical-align: top;\n",
       "    }\n",
       "\n",
       "    .dataframe thead th {\n",
       "        text-align: right;\n",
       "    }\n",
       "</style>\n",
       "<table border=\"1\" class=\"dataframe\">\n",
       "  <thead>\n",
       "    <tr style=\"text-align: right;\">\n",
       "      <th></th>\n",
       "      <th>start</th>\n",
       "      <th>end</th>\n",
       "      <th>count</th>\n",
       "      <th>percentage</th>\n",
       "    </tr>\n",
       "  </thead>\n",
       "  <tbody>\n",
       "    <tr>\n",
       "      <th>0</th>\n",
       "      <td>-0.094868</td>\n",
       "      <td>-0.031649</td>\n",
       "      <td>13063</td>\n",
       "      <td>0.206809</td>\n",
       "    </tr>\n",
       "    <tr>\n",
       "      <th>1</th>\n",
       "      <td>-0.031649</td>\n",
       "      <td>0.031570</td>\n",
       "      <td>6303081</td>\n",
       "      <td>99.788362</td>\n",
       "    </tr>\n",
       "    <tr>\n",
       "      <th>2</th>\n",
       "      <td>0.031570</td>\n",
       "      <td>0.094789</td>\n",
       "      <td>195</td>\n",
       "      <td>0.003087</td>\n",
       "    </tr>\n",
       "    <tr>\n",
       "      <th>3</th>\n",
       "      <td>0.094789</td>\n",
       "      <td>0.158009</td>\n",
       "      <td>44</td>\n",
       "      <td>0.000697</td>\n",
       "    </tr>\n",
       "    <tr>\n",
       "      <th>4</th>\n",
       "      <td>0.158009</td>\n",
       "      <td>0.221228</td>\n",
       "      <td>17</td>\n",
       "      <td>0.000269</td>\n",
       "    </tr>\n",
       "    <tr>\n",
       "      <th>5</th>\n",
       "      <td>0.221228</td>\n",
       "      <td>0.284447</td>\n",
       "      <td>9</td>\n",
       "      <td>0.000142</td>\n",
       "    </tr>\n",
       "    <tr>\n",
       "      <th>6</th>\n",
       "      <td>0.284447</td>\n",
       "      <td>0.347666</td>\n",
       "      <td>1</td>\n",
       "      <td>0.000016</td>\n",
       "    </tr>\n",
       "    <tr>\n",
       "      <th>7</th>\n",
       "      <td>0.347666</td>\n",
       "      <td>0.410886</td>\n",
       "      <td>10</td>\n",
       "      <td>0.000158</td>\n",
       "    </tr>\n",
       "    <tr>\n",
       "      <th>8</th>\n",
       "      <td>0.410886</td>\n",
       "      <td>0.474105</td>\n",
       "      <td>26</td>\n",
       "      <td>0.000412</td>\n",
       "    </tr>\n",
       "    <tr>\n",
       "      <th>9</th>\n",
       "      <td>0.474105</td>\n",
       "      <td>0.537324</td>\n",
       "      <td>0</td>\n",
       "      <td>0.000000</td>\n",
       "    </tr>\n",
       "    <tr>\n",
       "      <th>10</th>\n",
       "      <td>0.537324</td>\n",
       "      <td>0.600543</td>\n",
       "      <td>2</td>\n",
       "      <td>0.000032</td>\n",
       "    </tr>\n",
       "    <tr>\n",
       "      <th>11</th>\n",
       "      <td>0.600543</td>\n",
       "      <td>0.663762</td>\n",
       "      <td>1</td>\n",
       "      <td>0.000016</td>\n",
       "    </tr>\n",
       "  </tbody>\n",
       "</table>\n",
       "</div>"
      ],
      "text/plain": [
       "       start       end    count  percentage\n",
       "0  -0.094868 -0.031649    13063    0.206809\n",
       "1  -0.031649  0.031570  6303081   99.788362\n",
       "2   0.031570  0.094789      195    0.003087\n",
       "3   0.094789  0.158009       44    0.000697\n",
       "4   0.158009  0.221228       17    0.000269\n",
       "5   0.221228  0.284447        9    0.000142\n",
       "6   0.284447  0.347666        1    0.000016\n",
       "7   0.347666  0.410886       10    0.000158\n",
       "8   0.410886  0.474105       26    0.000412\n",
       "9   0.474105  0.537324        0    0.000000\n",
       "10  0.537324  0.600543        2    0.000032\n",
       "11  0.600543  0.663762        1    0.000016"
      ]
     },
     "execution_count": 10,
     "metadata": {},
     "output_type": "execute_result"
    }
   ],
   "source": [
    "n_bins = 12\n",
    "n = perturbed_output_df.shape[0]\n",
    "freq, bins = np.histogram(perturbed_output_df[pred_diff_col], bins=n_bins)\n",
    "hist_map = []\n",
    "for i in range(n_bins):\n",
    "    hist_map.append({\"start\": bins[i], \"end\":bins[i+1], \"count\": freq[i], \"percentage\": freq[i]/n*100})\n",
    "    \n",
    "hist_df = pd.DataFrame(hist_map)\n",
    "hist_df.head(20)"
   ]
  },
  {
   "cell_type": "code",
   "execution_count": 11,
   "id": "eb65b86e",
   "metadata": {},
   "outputs": [
    {
     "name": "stdout",
     "output_type": "stream",
     "text": [
      "Number of sequences = 105\n",
      "Number of unique positions = 4\n",
      "Unique positions = [513. 517. 533. 502.]\n"
     ]
    }
   ],
   "source": [
    "perturbed_output_df_selected = perturbed_output_df[perturbed_output_df[f\"abs_{pred_diff_col}\"] > 0.1]\n",
    "print(f\"Number of sequences = {perturbed_output_df_selected.shape[0]}\")\n",
    "print(f\"Number of unique positions = {len(perturbed_output_df_selected['perturb_seq_pos'].unique())}\")\n",
    "print(f\"Unique positions = {perturbed_output_df_selected['perturb_seq_pos'].unique()}\")"
   ]
  },
  {
   "cell_type": "code",
   "execution_count": 12,
   "id": "ca395591",
   "metadata": {},
   "outputs": [
    {
     "name": "stderr",
     "output_type": "stream",
     "text": [
      "/tmp/ipykernel_2497408/3081544423.py:1: SettingWithCopyWarning: \n",
      "A value is trying to be set on a copy of a slice from a DataFrame.\n",
      "Try using .loc[row_indexer,col_indexer] = value instead\n",
      "\n",
      "See the caveats in the documentation: https://pandas.pydata.org/pandas-docs/stable/user_guide/indexing.html#returning-a-view-versus-a-copy\n",
      "  perturbed_output_df_selected[\"experiment\"] = \"sarscov2-uniprot-aligned-binary\"\n"
     ]
    }
   ],
   "source": [
    "perturbed_output_df_selected[\"experiment\"] = \"sarscov2-uniprot-aligned-binary\"\n",
    "perturbation_selected_output_file_path = os.path.join(os.getcwd(), \"..\", \"..\", \"..\", \"..\", \"..\", \"output/raw/coronaviridae_s_prot_perturbation/20240320/sars-cov-2/analysis/uniprot_aligned_binary.csv\")\n",
    "perturbed_output_df_selected.to_csv(perturbation_selected_output_file_path, index=False)"
   ]
  },
  {
   "cell_type": "markdown",
   "id": "efbfe2b6",
   "metadata": {},
   "source": [
    "### Top 10 perturbations with highest change in prediction probability"
   ]
  },
  {
   "cell_type": "code",
   "execution_count": 13,
   "id": "169502a4",
   "metadata": {},
   "outputs": [
    {
     "data": {
      "text/html": [
       "<div>\n",
       "<style scoped>\n",
       "    .dataframe tbody tr th:only-of-type {\n",
       "        vertical-align: middle;\n",
       "    }\n",
       "\n",
       "    .dataframe tbody tr th {\n",
       "        vertical-align: top;\n",
       "    }\n",
       "\n",
       "    .dataframe thead th {\n",
       "        text-align: right;\n",
       "    }\n",
       "</style>\n",
       "<table border=\"1\" class=\"dataframe\">\n",
       "  <thead>\n",
       "    <tr style=\"text-align: right;\">\n",
       "      <th></th>\n",
       "      <th>Human</th>\n",
       "      <th>Non-Human</th>\n",
       "      <th>uniprot_id</th>\n",
       "      <th>y_true</th>\n",
       "      <th>orig_token</th>\n",
       "      <th>perturb_pos</th>\n",
       "      <th>new_token</th>\n",
       "      <th>Human_pred_diff</th>\n",
       "      <th>abs_Human_pred_diff</th>\n",
       "      <th>perturb_seq_pos</th>\n",
       "      <th>experiment</th>\n",
       "    </tr>\n",
       "  </thead>\n",
       "  <tbody>\n",
       "    <tr>\n",
       "      <th>30290</th>\n",
       "      <td>0.304969</td>\n",
       "      <td>0.695031</td>\n",
       "      <td>A0A7U3H6A7</td>\n",
       "      <td>Human</td>\n",
       "      <td>L</td>\n",
       "      <td>1124</td>\n",
       "      <td>R</td>\n",
       "      <td>0.663762</td>\n",
       "      <td>0.663762</td>\n",
       "      <td>533.0</td>\n",
       "      <td>sarscov2-uniprot-aligned-binary</td>\n",
       "    </tr>\n",
       "    <tr>\n",
       "      <th>16642</th>\n",
       "      <td>0.381002</td>\n",
       "      <td>0.618998</td>\n",
       "      <td>A0A7U3DWN4</td>\n",
       "      <td>Human</td>\n",
       "      <td>L</td>\n",
       "      <td>1124</td>\n",
       "      <td>R</td>\n",
       "      <td>0.588450</td>\n",
       "      <td>0.588450</td>\n",
       "      <td>533.0</td>\n",
       "      <td>sarscov2-uniprot-aligned-binary</td>\n",
       "    </tr>\n",
       "    <tr>\n",
       "      <th>9696</th>\n",
       "      <td>0.396671</td>\n",
       "      <td>0.603329</td>\n",
       "      <td>A0A7U3DWM4</td>\n",
       "      <td>Human</td>\n",
       "      <td>L</td>\n",
       "      <td>1124</td>\n",
       "      <td>R</td>\n",
       "      <td>0.579047</td>\n",
       "      <td>0.579047</td>\n",
       "      <td>533.0</td>\n",
       "      <td>sarscov2-uniprot-aligned-binary</td>\n",
       "    </tr>\n",
       "    <tr>\n",
       "      <th>10116</th>\n",
       "      <td>0.444387</td>\n",
       "      <td>0.555613</td>\n",
       "      <td>A0A6N1WF48</td>\n",
       "      <td>Human</td>\n",
       "      <td>L</td>\n",
       "      <td>1101</td>\n",
       "      <td>R</td>\n",
       "      <td>0.440936</td>\n",
       "      <td>0.440936</td>\n",
       "      <td>517.0</td>\n",
       "      <td>sarscov2-uniprot-aligned-binary</td>\n",
       "    </tr>\n",
       "    <tr>\n",
       "      <th>6742</th>\n",
       "      <td>0.445686</td>\n",
       "      <td>0.554315</td>\n",
       "      <td>A0A8B1JGW7</td>\n",
       "      <td>Human</td>\n",
       "      <td>L</td>\n",
       "      <td>1101</td>\n",
       "      <td>R</td>\n",
       "      <td>0.439460</td>\n",
       "      <td>0.439460</td>\n",
       "      <td>517.0</td>\n",
       "      <td>sarscov2-uniprot-aligned-binary</td>\n",
       "    </tr>\n",
       "    <tr>\n",
       "      <th>13360</th>\n",
       "      <td>0.449469</td>\n",
       "      <td>0.550531</td>\n",
       "      <td>A0A8B1JBB1</td>\n",
       "      <td>Human</td>\n",
       "      <td>L</td>\n",
       "      <td>1101</td>\n",
       "      <td>R</td>\n",
       "      <td>0.435902</td>\n",
       "      <td>0.435902</td>\n",
       "      <td>517.0</td>\n",
       "      <td>sarscov2-uniprot-aligned-binary</td>\n",
       "    </tr>\n",
       "    <tr>\n",
       "      <th>31760</th>\n",
       "      <td>0.449469</td>\n",
       "      <td>0.550531</td>\n",
       "      <td>A0A7T7P276</td>\n",
       "      <td>Human</td>\n",
       "      <td>L</td>\n",
       "      <td>1101</td>\n",
       "      <td>R</td>\n",
       "      <td>0.435902</td>\n",
       "      <td>0.435902</td>\n",
       "      <td>517.0</td>\n",
       "      <td>sarscov2-uniprot-aligned-binary</td>\n",
       "    </tr>\n",
       "    <tr>\n",
       "      <th>31324</th>\n",
       "      <td>0.452878</td>\n",
       "      <td>0.547122</td>\n",
       "      <td>A0A8B6RB96</td>\n",
       "      <td>Human</td>\n",
       "      <td>L</td>\n",
       "      <td>1101</td>\n",
       "      <td>R</td>\n",
       "      <td>0.432568</td>\n",
       "      <td>0.432568</td>\n",
       "      <td>517.0</td>\n",
       "      <td>sarscov2-uniprot-aligned-binary</td>\n",
       "    </tr>\n",
       "    <tr>\n",
       "      <th>28153</th>\n",
       "      <td>0.454781</td>\n",
       "      <td>0.545219</td>\n",
       "      <td>A0A6M3HLG5</td>\n",
       "      <td>Human</td>\n",
       "      <td>L</td>\n",
       "      <td>1101</td>\n",
       "      <td>R</td>\n",
       "      <td>0.430470</td>\n",
       "      <td>0.430470</td>\n",
       "      <td>517.0</td>\n",
       "      <td>sarscov2-uniprot-aligned-binary</td>\n",
       "    </tr>\n",
       "    <tr>\n",
       "      <th>13461</th>\n",
       "      <td>0.456388</td>\n",
       "      <td>0.543612</td>\n",
       "      <td>A0A8B1J7Y2</td>\n",
       "      <td>Human</td>\n",
       "      <td>L</td>\n",
       "      <td>1101</td>\n",
       "      <td>R</td>\n",
       "      <td>0.428968</td>\n",
       "      <td>0.428968</td>\n",
       "      <td>517.0</td>\n",
       "      <td>sarscov2-uniprot-aligned-binary</td>\n",
       "    </tr>\n",
       "  </tbody>\n",
       "</table>\n",
       "</div>"
      ],
      "text/plain": [
       "          Human  Non-Human  uniprot_id y_true orig_token  perturb_pos  \\\n",
       "30290  0.304969   0.695031  A0A7U3H6A7  Human          L         1124   \n",
       "16642  0.381002   0.618998  A0A7U3DWN4  Human          L         1124   \n",
       "9696   0.396671   0.603329  A0A7U3DWM4  Human          L         1124   \n",
       "10116  0.444387   0.555613  A0A6N1WF48  Human          L         1101   \n",
       "6742   0.445686   0.554315  A0A8B1JGW7  Human          L         1101   \n",
       "13360  0.449469   0.550531  A0A8B1JBB1  Human          L         1101   \n",
       "31760  0.449469   0.550531  A0A7T7P276  Human          L         1101   \n",
       "31324  0.452878   0.547122  A0A8B6RB96  Human          L         1101   \n",
       "28153  0.454781   0.545219  A0A6M3HLG5  Human          L         1101   \n",
       "13461  0.456388   0.543612  A0A8B1J7Y2  Human          L         1101   \n",
       "\n",
       "      new_token  Human_pred_diff  abs_Human_pred_diff  perturb_seq_pos  \\\n",
       "30290         R         0.663762             0.663762            533.0   \n",
       "16642         R         0.588450             0.588450            533.0   \n",
       "9696          R         0.579047             0.579047            533.0   \n",
       "10116         R         0.440936             0.440936            517.0   \n",
       "6742          R         0.439460             0.439460            517.0   \n",
       "13360         R         0.435902             0.435902            517.0   \n",
       "31760         R         0.435902             0.435902            517.0   \n",
       "31324         R         0.432568             0.432568            517.0   \n",
       "28153         R         0.430470             0.430470            517.0   \n",
       "13461         R         0.428968             0.428968            517.0   \n",
       "\n",
       "                            experiment  \n",
       "30290  sarscov2-uniprot-aligned-binary  \n",
       "16642  sarscov2-uniprot-aligned-binary  \n",
       "9696   sarscov2-uniprot-aligned-binary  \n",
       "10116  sarscov2-uniprot-aligned-binary  \n",
       "6742   sarscov2-uniprot-aligned-binary  \n",
       "13360  sarscov2-uniprot-aligned-binary  \n",
       "31760  sarscov2-uniprot-aligned-binary  \n",
       "31324  sarscov2-uniprot-aligned-binary  \n",
       "28153  sarscov2-uniprot-aligned-binary  \n",
       "13461  sarscov2-uniprot-aligned-binary  "
      ]
     },
     "execution_count": 13,
     "metadata": {},
     "output_type": "execute_result"
    }
   ],
   "source": [
    "perturbed_output_df_selected.sort_values(by=\"abs_Human_pred_diff\", ascending=False).head(10)\n"
   ]
  },
  {
   "cell_type": "code",
   "execution_count": 14,
   "id": "74305ef4",
   "metadata": {},
   "outputs": [
    {
     "name": "stderr",
     "output_type": "stream",
     "text": [
      "/tmp/ipykernel_2497408/2825421286.py:1: SettingWithCopyWarning: \n",
      "A value is trying to be set on a copy of a slice from a DataFrame.\n",
      "Try using .loc[row_indexer,col_indexer] = value instead\n",
      "\n",
      "See the caveats in the documentation: https://pandas.pydata.org/pandas-docs/stable/user_guide/indexing.html#returning-a-view-versus-a-copy\n",
      "  perturbed_output_df_selected[\"perturbation_id\"] = perturbed_output_df_selected.apply(lambda x: f\"{x['perturb_seq_pos']}_{x['new_token']}\", axis=1)\n"
     ]
    },
    {
     "data": {
      "text/html": [
       "<div>\n",
       "<style scoped>\n",
       "    .dataframe tbody tr th:only-of-type {\n",
       "        vertical-align: middle;\n",
       "    }\n",
       "\n",
       "    .dataframe tbody tr th {\n",
       "        vertical-align: top;\n",
       "    }\n",
       "\n",
       "    .dataframe thead th {\n",
       "        text-align: right;\n",
       "    }\n",
       "</style>\n",
       "<table border=\"1\" class=\"dataframe\">\n",
       "  <thead>\n",
       "    <tr style=\"text-align: right;\">\n",
       "      <th></th>\n",
       "      <th>Human</th>\n",
       "      <th>Non-Human</th>\n",
       "      <th>uniprot_id</th>\n",
       "      <th>y_true</th>\n",
       "      <th>orig_token</th>\n",
       "      <th>perturb_pos</th>\n",
       "      <th>new_token</th>\n",
       "      <th>Human_pred_diff</th>\n",
       "      <th>abs_Human_pred_diff</th>\n",
       "      <th>perturb_seq_pos</th>\n",
       "      <th>experiment</th>\n",
       "      <th>perturbation_id</th>\n",
       "    </tr>\n",
       "  </thead>\n",
       "  <tbody>\n",
       "    <tr>\n",
       "      <th>10176</th>\n",
       "      <td>0.745694</td>\n",
       "      <td>0.254306</td>\n",
       "      <td>A0A7U0MMV8</td>\n",
       "      <td>Human</td>\n",
       "      <td>L</td>\n",
       "      <td>1097</td>\n",
       "      <td>R</td>\n",
       "      <td>0.140228</td>\n",
       "      <td>0.140228</td>\n",
       "      <td>513.0</td>\n",
       "      <td>sarscov2-uniprot-aligned-binary</td>\n",
       "      <td>513.0_R</td>\n",
       "    </tr>\n",
       "    <tr>\n",
       "      <th>26230</th>\n",
       "      <td>0.479659</td>\n",
       "      <td>0.520341</td>\n",
       "      <td>A0A7U0MMV8</td>\n",
       "      <td>Human</td>\n",
       "      <td>L</td>\n",
       "      <td>1101</td>\n",
       "      <td>R</td>\n",
       "      <td>0.406263</td>\n",
       "      <td>0.406263</td>\n",
       "      <td>517.0</td>\n",
       "      <td>sarscov2-uniprot-aligned-binary</td>\n",
       "      <td>517.0_R</td>\n",
       "    </tr>\n",
       "    <tr>\n",
       "      <th>21163</th>\n",
       "      <td>0.756153</td>\n",
       "      <td>0.243847</td>\n",
       "      <td>A0A7U3EDI5</td>\n",
       "      <td>Human</td>\n",
       "      <td>L</td>\n",
       "      <td>1124</td>\n",
       "      <td>R</td>\n",
       "      <td>0.223293</td>\n",
       "      <td>0.223293</td>\n",
       "      <td>533.0</td>\n",
       "      <td>sarscov2-uniprot-aligned-binary</td>\n",
       "      <td>533.0_R</td>\n",
       "    </tr>\n",
       "    <tr>\n",
       "      <th>3403</th>\n",
       "      <td>0.576479</td>\n",
       "      <td>0.423521</td>\n",
       "      <td>A0A7U3DWG5</td>\n",
       "      <td>Human</td>\n",
       "      <td>L</td>\n",
       "      <td>1124</td>\n",
       "      <td>R</td>\n",
       "      <td>0.402482</td>\n",
       "      <td>0.402482</td>\n",
       "      <td>533.0</td>\n",
       "      <td>sarscov2-uniprot-aligned-binary</td>\n",
       "      <td>533.0_R</td>\n",
       "    </tr>\n",
       "    <tr>\n",
       "      <th>4320</th>\n",
       "      <td>0.818276</td>\n",
       "      <td>0.181724</td>\n",
       "      <td>A0A7U3DWG5</td>\n",
       "      <td>Human</td>\n",
       "      <td>L</td>\n",
       "      <td>1124</td>\n",
       "      <td>W</td>\n",
       "      <td>0.160685</td>\n",
       "      <td>0.160685</td>\n",
       "      <td>533.0</td>\n",
       "      <td>sarscov2-uniprot-aligned-binary</td>\n",
       "      <td>533.0_W</td>\n",
       "    </tr>\n",
       "  </tbody>\n",
       "</table>\n",
       "</div>"
      ],
      "text/plain": [
       "          Human  Non-Human  uniprot_id y_true orig_token  perturb_pos  \\\n",
       "10176  0.745694   0.254306  A0A7U0MMV8  Human          L         1097   \n",
       "26230  0.479659   0.520341  A0A7U0MMV8  Human          L         1101   \n",
       "21163  0.756153   0.243847  A0A7U3EDI5  Human          L         1124   \n",
       "3403   0.576479   0.423521  A0A7U3DWG5  Human          L         1124   \n",
       "4320   0.818276   0.181724  A0A7U3DWG5  Human          L         1124   \n",
       "\n",
       "      new_token  Human_pred_diff  abs_Human_pred_diff  perturb_seq_pos  \\\n",
       "10176         R         0.140228             0.140228            513.0   \n",
       "26230         R         0.406263             0.406263            517.0   \n",
       "21163         R         0.223293             0.223293            533.0   \n",
       "3403          R         0.402482             0.402482            533.0   \n",
       "4320          W         0.160685             0.160685            533.0   \n",
       "\n",
       "                            experiment perturbation_id  \n",
       "10176  sarscov2-uniprot-aligned-binary         513.0_R  \n",
       "26230  sarscov2-uniprot-aligned-binary         517.0_R  \n",
       "21163  sarscov2-uniprot-aligned-binary         533.0_R  \n",
       "3403   sarscov2-uniprot-aligned-binary         533.0_R  \n",
       "4320   sarscov2-uniprot-aligned-binary         533.0_W  "
      ]
     },
     "execution_count": 14,
     "metadata": {},
     "output_type": "execute_result"
    }
   ],
   "source": [
    "perturbed_output_df_selected[\"perturbation_id\"] = perturbed_output_df_selected.apply(lambda x: f\"{x['perturb_seq_pos']}_{x['new_token']}\", axis=1)\n",
    "perturbed_output_df_selected.head()"
   ]
  },
  {
   "cell_type": "code",
   "execution_count": 15,
   "id": "ce035928",
   "metadata": {},
   "outputs": [],
   "source": [
    "mean_diff_df = perturbed_output_df_selected[[\"perturbation_id\", \"abs_Human_pred_diff\"]].groupby(\"perturbation_id\").mean(pred_diff_col)"
   ]
  },
  {
   "cell_type": "code",
   "execution_count": 16,
   "id": "c1b269ea",
   "metadata": {},
   "outputs": [],
   "source": [
    "mean_diff_df = mean_diff_df.reset_index()"
   ]
  },
  {
   "cell_type": "code",
   "execution_count": 17,
   "id": "7e16c617",
   "metadata": {},
   "outputs": [],
   "source": [
    "mean_diff_df[[\"perturb_seq_pos\", \"new_token\"]] = mean_diff_df[\"perturbation_id\"].str.split(\"_\", expand=True)"
   ]
  },
  {
   "cell_type": "code",
   "execution_count": 18,
   "id": "20db678d",
   "metadata": {},
   "outputs": [
    {
     "data": {
      "text/html": [
       "<div>\n",
       "<style scoped>\n",
       "    .dataframe tbody tr th:only-of-type {\n",
       "        vertical-align: middle;\n",
       "    }\n",
       "\n",
       "    .dataframe tbody tr th {\n",
       "        vertical-align: top;\n",
       "    }\n",
       "\n",
       "    .dataframe thead th {\n",
       "        text-align: right;\n",
       "    }\n",
       "</style>\n",
       "<table border=\"1\" class=\"dataframe\">\n",
       "  <thead>\n",
       "    <tr style=\"text-align: right;\">\n",
       "      <th></th>\n",
       "      <th>perturbation_id</th>\n",
       "      <th>abs_Human_pred_diff</th>\n",
       "      <th>perturb_seq_pos</th>\n",
       "      <th>new_token</th>\n",
       "    </tr>\n",
       "  </thead>\n",
       "  <tbody>\n",
       "    <tr>\n",
       "      <th>0</th>\n",
       "      <td>502.0_D</td>\n",
       "      <td>0.101086</td>\n",
       "      <td>502.0</td>\n",
       "      <td>D</td>\n",
       "    </tr>\n",
       "    <tr>\n",
       "      <th>1</th>\n",
       "      <td>513.0_R</td>\n",
       "      <td>0.143218</td>\n",
       "      <td>513.0</td>\n",
       "      <td>R</td>\n",
       "    </tr>\n",
       "    <tr>\n",
       "      <th>2</th>\n",
       "      <td>517.0_R</td>\n",
       "      <td>0.419025</td>\n",
       "      <td>517.0</td>\n",
       "      <td>R</td>\n",
       "    </tr>\n",
       "    <tr>\n",
       "      <th>3</th>\n",
       "      <td>533.0_A</td>\n",
       "      <td>0.213219</td>\n",
       "      <td>533.0</td>\n",
       "      <td>A</td>\n",
       "    </tr>\n",
       "    <tr>\n",
       "      <th>4</th>\n",
       "      <td>533.0_B</td>\n",
       "      <td>0.213386</td>\n",
       "      <td>533.0</td>\n",
       "      <td>B</td>\n",
       "    </tr>\n",
       "  </tbody>\n",
       "</table>\n",
       "</div>"
      ],
      "text/plain": [
       "  perturbation_id  abs_Human_pred_diff perturb_seq_pos new_token\n",
       "0         502.0_D             0.101086           502.0         D\n",
       "1         513.0_R             0.143218           513.0         R\n",
       "2         517.0_R             0.419025           517.0         R\n",
       "3         533.0_A             0.213219           533.0         A\n",
       "4         533.0_B             0.213386           533.0         B"
      ]
     },
     "execution_count": 18,
     "metadata": {},
     "output_type": "execute_result"
    }
   ],
   "source": [
    "mean_diff_df.head()"
   ]
  },
  {
   "cell_type": "code",
   "execution_count": 19,
   "id": "57a23d9c",
   "metadata": {},
   "outputs": [
    {
     "data": {
      "text/html": [
       "<div>\n",
       "<style scoped>\n",
       "    .dataframe tbody tr th:only-of-type {\n",
       "        vertical-align: middle;\n",
       "    }\n",
       "\n",
       "    .dataframe tbody tr th {\n",
       "        vertical-align: top;\n",
       "    }\n",
       "\n",
       "    .dataframe thead th {\n",
       "        text-align: right;\n",
       "    }\n",
       "</style>\n",
       "<table border=\"1\" class=\"dataframe\">\n",
       "  <thead>\n",
       "    <tr style=\"text-align: right;\">\n",
       "      <th></th>\n",
       "      <th>perturbation_id</th>\n",
       "      <th>abs_Human_pred_diff</th>\n",
       "      <th>perturb_seq_pos</th>\n",
       "      <th>new_token</th>\n",
       "    </tr>\n",
       "  </thead>\n",
       "  <tbody>\n",
       "  </tbody>\n",
       "</table>\n",
       "</div>"
      ],
      "text/plain": [
       "Empty DataFrame\n",
       "Columns: [perturbation_id, abs_Human_pred_diff, perturb_seq_pos, new_token]\n",
       "Index: []"
      ]
     },
     "execution_count": 19,
     "metadata": {},
     "output_type": "execute_result"
    }
   ],
   "source": [
    "mean_diff_df[mean_diff_df[[\"perturb_seq_pos\", \"new_token\"]].duplicated()]"
   ]
  },
  {
   "cell_type": "code",
   "execution_count": 20,
   "id": "8bde6811",
   "metadata": {},
   "outputs": [],
   "source": [
    "df = mean_diff_df.pivot(columns=\"perturb_seq_pos\", index=\"new_token\", values=\"abs_Human_pred_diff\")\n",
    "# df[token_positions]"
   ]
  },
  {
   "cell_type": "code",
   "execution_count": 21,
   "id": "daa5b0e7",
   "metadata": {},
   "outputs": [
    {
     "data": {
      "text/html": [
       "<div>\n",
       "<style scoped>\n",
       "    .dataframe tbody tr th:only-of-type {\n",
       "        vertical-align: middle;\n",
       "    }\n",
       "\n",
       "    .dataframe tbody tr th {\n",
       "        vertical-align: top;\n",
       "    }\n",
       "\n",
       "    .dataframe thead th {\n",
       "        text-align: right;\n",
       "    }\n",
       "</style>\n",
       "<table border=\"1\" class=\"dataframe\">\n",
       "  <thead>\n",
       "    <tr style=\"text-align: right;\">\n",
       "      <th></th>\n",
       "      <th>perturbation_id</th>\n",
       "      <th>abs_Human_pred_diff</th>\n",
       "      <th>perturb_seq_pos</th>\n",
       "      <th>new_token</th>\n",
       "    </tr>\n",
       "  </thead>\n",
       "  <tbody>\n",
       "    <tr>\n",
       "      <th>19</th>\n",
       "      <td>533.0_R</td>\n",
       "      <td>0.476093</td>\n",
       "      <td>533.0</td>\n",
       "      <td>R</td>\n",
       "    </tr>\n",
       "    <tr>\n",
       "      <th>2</th>\n",
       "      <td>517.0_R</td>\n",
       "      <td>0.419025</td>\n",
       "      <td>517.0</td>\n",
       "      <td>R</td>\n",
       "    </tr>\n",
       "    <tr>\n",
       "      <th>9</th>\n",
       "      <td>533.0_G</td>\n",
       "      <td>0.230991</td>\n",
       "      <td>533.0</td>\n",
       "      <td>G</td>\n",
       "    </tr>\n",
       "    <tr>\n",
       "      <th>17</th>\n",
       "      <td>533.0_P</td>\n",
       "      <td>0.227721</td>\n",
       "      <td>533.0</td>\n",
       "      <td>P</td>\n",
       "    </tr>\n",
       "    <tr>\n",
       "      <th>18</th>\n",
       "      <td>533.0_Q</td>\n",
       "      <td>0.227248</td>\n",
       "      <td>533.0</td>\n",
       "      <td>Q</td>\n",
       "    </tr>\n",
       "    <tr>\n",
       "      <th>25</th>\n",
       "      <td>533.0_X</td>\n",
       "      <td>0.227207</td>\n",
       "      <td>533.0</td>\n",
       "      <td>X</td>\n",
       "    </tr>\n",
       "    <tr>\n",
       "      <th>26</th>\n",
       "      <td>533.0_Y</td>\n",
       "      <td>0.224234</td>\n",
       "      <td>533.0</td>\n",
       "      <td>Y</td>\n",
       "    </tr>\n",
       "    <tr>\n",
       "      <th>10</th>\n",
       "      <td>533.0_H</td>\n",
       "      <td>0.221997</td>\n",
       "      <td>533.0</td>\n",
       "      <td>H</td>\n",
       "    </tr>\n",
       "    <tr>\n",
       "      <th>20</th>\n",
       "      <td>533.0_S</td>\n",
       "      <td>0.218614</td>\n",
       "      <td>533.0</td>\n",
       "      <td>S</td>\n",
       "    </tr>\n",
       "    <tr>\n",
       "      <th>7</th>\n",
       "      <td>533.0_E</td>\n",
       "      <td>0.218368</td>\n",
       "      <td>533.0</td>\n",
       "      <td>E</td>\n",
       "    </tr>\n",
       "  </tbody>\n",
       "</table>\n",
       "</div>"
      ],
      "text/plain": [
       "   perturbation_id  abs_Human_pred_diff perturb_seq_pos new_token\n",
       "19         533.0_R             0.476093           533.0         R\n",
       "2          517.0_R             0.419025           517.0         R\n",
       "9          533.0_G             0.230991           533.0         G\n",
       "17         533.0_P             0.227721           533.0         P\n",
       "18         533.0_Q             0.227248           533.0         Q\n",
       "25         533.0_X             0.227207           533.0         X\n",
       "26         533.0_Y             0.224234           533.0         Y\n",
       "10         533.0_H             0.221997           533.0         H\n",
       "20         533.0_S             0.218614           533.0         S\n",
       "7          533.0_E             0.218368           533.0         E"
      ]
     },
     "execution_count": 21,
     "metadata": {},
     "output_type": "execute_result"
    }
   ],
   "source": [
    "mean_diff_df.sort_values(by=\"abs_Human_pred_diff\", ascending=False).head(10)"
   ]
  },
  {
   "cell_type": "code",
   "execution_count": 22,
   "id": "9ea734b4",
   "metadata": {},
   "outputs": [
    {
     "data": {
      "text/plain": [
       "<Figure size 432x288 with 0 Axes>"
      ]
     },
     "metadata": {},
     "output_type": "display_data"
    },
    {
     "data": {
      "image/png": "[encoded data removed]",
      "text/plain": [
       "<Figure size 3456x1152 with 2 Axes>"
      ]
     },
     "metadata": {
      "needs_background": "light"
     },
     "output_type": "display_data"
    }
   ],
   "source": [
    "plt.clf()\n",
    "plt.figure(figsize=(48, 16))\n",
    "plt.rcParams['xtick.labelsize'] = 24\n",
    "plt.rcParams['ytick.labelsize'] = 24\n",
    "# plt.rcParams['figure.autolayout'] = True\n",
    "ax = sns.heatmap(df, cmap=cmap, center=0)\n",
    "plt.xlabel('Position', fontsize=24)\n",
    "plt.ylabel('New perturbed tokens', fontsize=24)\n",
    "plt.show()"
   ]
  },
  {
   "cell_type": "code",
   "execution_count": 23,
   "id": "4ac56e8a",
   "metadata": {},
   "outputs": [
    {
     "data": {
      "text/plain": [
       "perturb_seq_pos\n",
       "502.0    0.101086\n",
       "513.0    0.143218\n",
       "517.0    0.419025\n",
       "533.0    0.223089\n",
       "dtype: float64"
      ]
     },
     "execution_count": 23,
     "metadata": {},
     "output_type": "execute_result"
    }
   ],
   "source": [
    "df.mean(axis=0)"
   ]
  },
  {
   "cell_type": "code",
   "execution_count": 24,
   "id": "306aa32d",
   "metadata": {},
   "outputs": [
    {
     "data": {
      "text/plain": [
       "<Figure size 432x288 with 0 Axes>"
      ]
     },
     "metadata": {},
     "output_type": "display_data"
    },
    {
     "data": {
      "image/png": "[encoded data removed]",
      "text/plain": [
       "<Figure size 2160x1008 with 1 Axes>"
      ]
     },
     "metadata": {
      "needs_background": "light"
     },
     "output_type": "display_data"
    }
   ],
   "source": [
    "plt.clf()\n",
    "plt.figure(figsize=(30, 14))\n",
    "ax = sns.lineplot(df.mean(axis=0))\n",
    "ax.axhline(0.0, color=\"gray\", linestyle=\"--\")\n",
    "plt.rcParams['xtick.labelsize'] = 30\n",
    "plt.rcParams['ytick.labelsize'] = 30\n",
    "plt.xlabel('Position', fontsize=30)\n",
    "plt.ylabel('Prediction Difference', fontsize=30)\n",
    "#ax.set_xlim(0, 1273)\n",
    "plt.show()"
   ]
  },
  {
   "cell_type": "code",
   "execution_count": null,
   "id": "34f4e442",
   "metadata": {},
   "outputs": [],
   "source": []
  }
 ],
 "metadata": {
  "kernelspec": {
   "display_name": "Python 3 (ipykernel)",
   "language": "python",
   "name": "python3"
  },
  "language_info": {
   "codemirror_mode": {
    "name": "ipython",
    "version": 3
   },
   "file_extension": ".py",
   "mimetype": "text/x-python",
   "name": "python",
   "nbconvert_exporter": "python",
   "pygments_lexer": "ipython3",
   "version": "3.8.12"
  }
 },
 "nbformat": 4,
 "nbformat_minor": 5
}
