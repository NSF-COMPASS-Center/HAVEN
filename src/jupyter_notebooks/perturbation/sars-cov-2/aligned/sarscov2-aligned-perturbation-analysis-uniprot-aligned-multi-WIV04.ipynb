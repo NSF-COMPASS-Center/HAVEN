{
 "cells": [
  {
   "cell_type": "code",
   "execution_count": 1,
   "id": "105ea38c",
   "metadata": {
    "scrolled": true
   },
   "outputs": [],
   "source": [
    "import sys\n",
    "import os\n",
    "sys.path.append(os.path.join(os.getcwd(), \"..\", \"..\", \"..\"))\n",
    "sys.path.append(os.path.join(os.getcwd(), \"..\", \"..\"))\n",
    "sys.path.append(os.path.join(os.getcwd(), \"..\"))\n",
    "sys.path\n",
    "\n",
    "import pandas as pd\n",
    "import numpy as np\n",
    "import os\n",
    "import re\n",
    "\n",
    "import matplotlib\n",
    "import matplotlib.pyplot as plt"
   ]
  },
  {
   "cell_type": "code",
   "execution_count": 2,
   "id": "19c75743",
   "metadata": {},
   "outputs": [
    {
     "name": "stdout",
     "output_type": "stream",
     "text": [
      "Defaulting to user installation because normal site-packages is not writeable\n",
      "\u001b[33mWARNING: Ignoring invalid distribution -eaborn (/home/blessyantony/.local/lib/python3.8/site-packages)\u001b[0m\n",
      "\u001b[33mWARNING: Ignoring invalid distribution -eaborn (/home/blessyantony/.local/lib/python3.8/site-packages)\u001b[0m\n",
      "Looking in indexes: https://pypi.org/simple, https://pypi.ngc.nvidia.com\n",
      "Requirement already satisfied: seaborn==0.12.0 in /home/blessyantony/.local/lib/python3.8/site-packages (0.12.0)\n",
      "Requirement already satisfied: pandas>=0.25 in /opt/conda/lib/python3.8/site-packages (from seaborn==0.12.0) (1.3.4)\n",
      "Requirement already satisfied: matplotlib>=3.1 in /opt/conda/lib/python3.8/site-packages (from seaborn==0.12.0) (3.5.0)\n",
      "Requirement already satisfied: numpy>=1.17 in /opt/conda/lib/python3.8/site-packages (from seaborn==0.12.0) (1.21.4)\n",
      "Requirement already satisfied: python-dateutil>=2.7 in /opt/conda/lib/python3.8/site-packages (from matplotlib>=3.1->seaborn==0.12.0) (2.8.2)\n",
      "Requirement already satisfied: packaging>=20.0 in /opt/conda/lib/python3.8/site-packages (from matplotlib>=3.1->seaborn==0.12.0) (21.3)\n",
      "Requirement already satisfied: cycler>=0.10 in /opt/conda/lib/python3.8/site-packages (from matplotlib>=3.1->seaborn==0.12.0) (0.11.0)\n",
      "Requirement already satisfied: pyparsing>=2.2.1 in /opt/conda/lib/python3.8/site-packages (from matplotlib>=3.1->seaborn==0.12.0) (3.0.6)\n",
      "Requirement already satisfied: kiwisolver>=1.0.1 in /opt/conda/lib/python3.8/site-packages (from matplotlib>=3.1->seaborn==0.12.0) (1.3.2)\n",
      "Requirement already satisfied: setuptools-scm>=4 in /opt/conda/lib/python3.8/site-packages (from matplotlib>=3.1->seaborn==0.12.0) (6.3.2)\n",
      "Requirement already satisfied: fonttools>=4.22.0 in /opt/conda/lib/python3.8/site-packages (from matplotlib>=3.1->seaborn==0.12.0) (4.28.2)\n",
      "Requirement already satisfied: pillow>=6.2.0 in /opt/conda/lib/python3.8/site-packages (from matplotlib>=3.1->seaborn==0.12.0) (8.2.0)\n",
      "Requirement already satisfied: pytz>=2017.3 in /opt/conda/lib/python3.8/site-packages (from pandas>=0.25->seaborn==0.12.0) (2021.3)\n",
      "Requirement already satisfied: six>=1.5 in /opt/conda/lib/python3.8/site-packages (from python-dateutil>=2.7->matplotlib>=3.1->seaborn==0.12.0) (1.16.0)\n",
      "Requirement already satisfied: setuptools in /opt/conda/lib/python3.8/site-packages (from setuptools-scm>=4->matplotlib>=3.1->seaborn==0.12.0) (59.4.0)\n",
      "Requirement already satisfied: tomli>=1.0.0 in /opt/conda/lib/python3.8/site-packages (from setuptools-scm>=4->matplotlib>=3.1->seaborn==0.12.0) (1.2.2)\n",
      "\u001b[33mWARNING: Ignoring invalid distribution -eaborn (/home/blessyantony/.local/lib/python3.8/site-packages)\u001b[0m\n",
      "\u001b[33mWARNING: Ignoring invalid distribution -eaborn (/home/blessyantony/.local/lib/python3.8/site-packages)\u001b[0m\n",
      "\u001b[33mWARNING: Ignoring invalid distribution -eaborn (/home/blessyantony/.local/lib/python3.8/site-packages)\u001b[0m\n",
      "\u001b[33mWARNING: Ignoring invalid distribution -eaborn (/home/blessyantony/.local/lib/python3.8/site-packages)\u001b[0m\n"
     ]
    }
   ],
   "source": [
    "!pip install seaborn==0.12.0"
   ]
  },
  {
   "cell_type": "code",
   "execution_count": 3,
   "id": "3098c571",
   "metadata": {
    "scrolled": true
   },
   "outputs": [
    {
     "data": {
      "text/plain": [
       "'0.12.0'"
      ]
     },
     "execution_count": 3,
     "metadata": {},
     "output_type": "execute_result"
    }
   ],
   "source": [
    "import seaborn as sns\n",
    "sns.__version__"
   ]
  },
  {
   "cell_type": "code",
   "execution_count": 4,
   "id": "5679f825",
   "metadata": {
    "scrolled": true
   },
   "outputs": [
    {
     "data": {
      "text/plain": [
       "'1.3.4'"
      ]
     },
     "execution_count": 4,
     "metadata": {},
     "output_type": "execute_result"
    }
   ],
   "source": [
    "pd.__version__"
   ]
  },
  {
   "cell_type": "code",
   "execution_count": 10,
   "id": "100d26b5",
   "metadata": {
    "scrolled": true
   },
   "outputs": [],
   "source": [
    "#perturbation_processed_output_dir = os.path.join(os.getcwd(), \"..\", \"..\", \"..\", \"..\", \"..\", \"output/raw/coronaviridae_s_prot_perturbation/20240320/sars-cov-2/uniref90/cov-S-aligned-multi-transfer_learning_mlm_fnn_2l_lr1e-4/processed\")\n",
    "# perturbation_output_filepath = os.path.join(os.getcwd(), \"..\", \"..\", \"..\", \"..\", \"..\", \"output/raw/coronaviridae_s_prot_perturbation/20240702/sars-cov-2/uniref90/cov-S-multi-transfer_learning_mlm_hybrid_attn_fnn_2l_lr1e-4/aligned_msl256_s64/processed/tl_tf_multi_coronaviridae_s_uniref90_sars_cov_2_aligned.csv_WIV04.csv\")\n",
    "perturbation_output_filepath = os.path.join(os.getcwd(), \"..\", \"..\", \"..\", \"..\", \"..\", \"output/raw/coronaviridae_s_prot_perturbation/20240710/sars-cov-2/uniprot/cov-S-multi-transfer_learning_mlm_cls_hybrid_attn_fnn_2l_lr1e-4/aligned_msl256_s64/processed/tl_tf_multi_coronaviridae_s_uniprot_sars_cov_2_aligned.csv_WIV04.csv\")\n",
    "\n",
    "human_label = \"Human\"\n",
    "pred_diff_col = f\"{human_label}_pred_diff\"\n",
    "classes=[\"Pig\", \"Human\", \"Cat\", \"Dromedary camel\", \"Cattle\", \"Chicken\", \"Gray wolf\", \"Yak\"]"
   ]
  },
  {
   "cell_type": "code",
   "execution_count": 11,
   "id": "f97b9c95",
   "metadata": {
    "scrolled": true
   },
   "outputs": [],
   "source": [
    "def get_perturbation_output(perturbation_output_filepath):\n",
    "    df = pd.read_csv(perturbation_output_filepath)\n",
    "    orig_seq_df = df[df[\"orig_token\"] == df[\"new_token\"]]\n",
    "    orig_pred_val = orig_seq_df[human_label].values[0]\n",
    "    orig_pred_class = orig_seq_df[classes].idxmax(axis=1).values[0]\n",
    "\n",
    "    df[pred_diff_col] = df[human_label] - orig_pred_val\n",
    "    df[f\"abs_{pred_diff_col}\"] = df[pred_diff_col].abs()\n",
    "    df[\"orig_y_pred\"] = orig_pred_class\n",
    "    df[\"new_y_pred\"] = df[classes].idxmax(axis=1)\n",
    "    return df"
   ]
  },
  {
   "cell_type": "code",
   "execution_count": 12,
   "id": "6c67d9be",
   "metadata": {
    "scrolled": true
   },
   "outputs": [],
   "source": [
    "import textwrap\n",
    "def wrap_xticklabels(ax, label_width=10, break_long_words=False):\n",
    "    wrapped_labels = []\n",
    "    for label in ax.get_xticklabels():\n",
    "        label_text = label.get_text()\n",
    "        wrapped_labels.append(textwrap.fill(text=label_text, width=label_width, break_long_words=break_long_words))\n",
    "    ax.set_xticklabels(wrapped_labels, rotation=0)\n",
    "    \n",
    "def wrap_yticklabels(ax, label_width=10, break_long_words=False):\n",
    "    wrapped_labels = []\n",
    "    for label in ax.get_yticklabels():\n",
    "        label_text = label.get_text()\n",
    "        wrapped_labels.append(textwrap.fill(text=label_text, width=label_width, break_long_words=break_long_words))\n",
    "    ax.set_yticklabels(wrapped_labels, rotation=0)"
   ]
  },
  {
   "cell_type": "code",
   "execution_count": 13,
   "id": "2279a669",
   "metadata": {
    "scrolled": true
   },
   "outputs": [],
   "source": [
    "def get_distribution_df(df, orig_token, perturb_pos, perturbation_id, perturbation_id_label):\n",
    "    print(f\"Perturbation id = {perturbation_id}\")\n",
    "    # perturbation df\n",
    "    perturbation_df = df[df[\"perturbation_id\"] == perturbation_id].copy()\n",
    "    perturbation_df.loc[:, \"type\"] = \"mutation\"\n",
    "    perturbation_id_x = perturbation_id[:-1]\n",
    "    perturbation_id_x += \"X\"\n",
    "    print(perturbation_id_x)\n",
    "    # not perturbation df: all other perturbations in all sequences\n",
    "#     non_perturbation_df = df[df[\"perturbation_id\"] != perturbation_id].copy()\n",
    "#     non_perturbation_df.loc[:, \"type\"] = \"all seq, all non-mutatn perturbatns\"\n",
    "    perturbation_id_x_df = df[df[\"perturbation_id\"] == perturbation_id_x].copy()\n",
    "    perturbation_id_x_df[\"type\"] = \"mutation w/ new token = X\"\n",
    "    # all other perturbations in the same position in all sequences\n",
    "    pos_non_perturbation_df = df[(df[\"perturb_seq_pos\"] == perturb_pos) &\n",
    "                                 (df[\"perturbation_id\"] != perturbation_id_x) &\n",
    "                                 (df[\"perturbation_id\"] != perturbation_id)].copy()\n",
    "    pos_non_perturbation_df.loc[:, \"type\"] = \"all seq, same pos non-mutation perturbations\"\n",
    "    \n",
    "    # sequences with original token\n",
    "    sequence_w_orig_token_df = df[(df[\"orig_token\"] == orig_token) & (df[\"perturb_seq_pos\"] == perturb_pos)].copy()\n",
    "    sequence_w_orig_token_ids = list(sequence_w_orig_token_df[\"uniref90_id\"].unique())\n",
    "    \n",
    "    # all other perturbations in sequences with original token\n",
    "#     swo_non_perturbation_df = non_perturbation_df[non_perturbation_df[\"uniref90_id\"].isin(sequence_w_orig_token_ids)].copy()\n",
    "#     swo_non_perturbation_df.loc[:, \"type\"] = \"seq w/ orig token, all non-mutatn perturbatns\"\n",
    "    \n",
    "    # all other perturbations in the same positions in sequences with the original token\n",
    "    swo_pos_non_perturbation_df = sequence_w_orig_token_df[(sequence_w_orig_token_df[\"perturbation_id\"] != perturbation_id) &\n",
    "                                                           (sequence_w_orig_token_df[\"new_token\"] != \"X\")].copy()\n",
    "    swo_pos_non_perturbation_df.loc[:, \"type\"] = \"seq w/ orig token, same pos non-mutation perturbations\"\n",
    "    \n",
    "#     print(f\"perturbation = {perturbation_df.shape}\")\n",
    "#     print(f\"all seq, all non-perturbations = {non_perturbation_df.shape}\")\n",
    "#     print(f\"all seq, same pos non-perturbations = {pos_non_perturbation_df.shape}\")\n",
    "#     print(f\"sequence_w_orig_token_df = {sequence_w_orig_token_df.shape}\")\n",
    "#     print(f\"seq w/ orig token, all non-perturbations = {swo_non_perturbation_df.shape}\")\n",
    "#     print(f\"seq w/ orig token, same pos non-perturbations = {swo_pos_non_perturbation_df.shape}\")\n",
    "    \n",
    "    # result_df = pd.concat([perturbation_df, non_perturbation_df, pos_non_perturbation_df, swo_non_perturbation_df, swo_pos_non_perturbation_df])\n",
    "    result_df = pd.concat([perturbation_df, perturbation_id_x_df, pos_non_perturbation_df, swo_pos_non_perturbation_df])\n",
    "    result_df[\"label\"] = perturbation_id_label\n",
    "    return result_df"
   ]
  },
  {
   "cell_type": "code",
   "execution_count": 15,
   "id": "754bef59",
   "metadata": {
    "scrolled": true
   },
   "outputs": [
    {
     "name": "stdout",
     "output_type": "stream",
     "text": [
      "perturbed_output_df shape = (31826, 17)\n"
     ]
    }
   ],
   "source": [
    "perturbed_output_df = get_perturbation_output(perturbation_output_filepath)\n",
    "print(f\"perturbed_output_df shape = {perturbed_output_df.shape}\")"
   ]
  },
  {
   "cell_type": "markdown",
   "id": "a279aa87",
   "metadata": {},
   "source": [
    "\n",
    "#### WIV04 reference sequence"
   ]
  },
  {
   "cell_type": "code",
   "execution_count": 16,
   "id": "4b6562c3",
   "metadata": {
    "scrolled": true
   },
   "outputs": [
    {
     "data": {
      "text/html": [
       "<div>\n",
       "<style scoped>\n",
       "    .dataframe tbody tr th:only-of-type {\n",
       "        vertical-align: middle;\n",
       "    }\n",
       "\n",
       "    .dataframe tbody tr th {\n",
       "        vertical-align: top;\n",
       "    }\n",
       "\n",
       "    .dataframe thead th {\n",
       "        text-align: right;\n",
       "    }\n",
       "</style>\n",
       "<table border=\"1\" class=\"dataframe\">\n",
       "  <thead>\n",
       "    <tr style=\"text-align: right;\">\n",
       "      <th></th>\n",
       "      <th>uniprot_id</th>\n",
       "      <th>aligned_seq</th>\n",
       "      <th>seq</th>\n",
       "      <th>virus_name</th>\n",
       "      <th>virus_host_name</th>\n",
       "      <th>human_binary_label</th>\n",
       "    </tr>\n",
       "  </thead>\n",
       "  <tbody>\n",
       "    <tr>\n",
       "      <th>0</th>\n",
       "      <td>WIV04</td>\n",
       "      <td>-----MFVFLVLLPLVS---------------------------SQ...</td>\n",
       "      <td>MFVFLVLLPLVSSQCVNLTTRTQLPPAYTNSFTRGVYYPDKVFRSS...</td>\n",
       "      <td>WIV04(MN996528.1) Wuhan variant index virus</td>\n",
       "      <td>homo sapiens</td>\n",
       "      <td>homo sapiens</td>\n",
       "    </tr>\n",
       "  </tbody>\n",
       "</table>\n",
       "</div>"
      ],
      "text/plain": [
       "  uniprot_id                                        aligned_seq  \\\n",
       "0      WIV04  -----MFVFLVLLPLVS---------------------------SQ...   \n",
       "\n",
       "                                                 seq  \\\n",
       "0  MFVFLVLLPLVSSQCVNLTTRTQLPPAYTNSFTRGVYYPDKVFRSS...   \n",
       "\n",
       "                                    virus_name virus_host_name  \\\n",
       "0  WIV04(MN996528.1) Wuhan variant index virus    homo sapiens   \n",
       "\n",
       "  human_binary_label  \n",
       "0       homo sapiens  "
      ]
     },
     "execution_count": 16,
     "metadata": {},
     "output_type": "execute_result"
    }
   ],
   "source": [
    "wiv04_aligned_file_path = os.path.join(os.getcwd(), \"..\", \"..\", \"..\", \"..\", \"..\", \"input/data/coronaviridae/20240313/uniprot/alignment/coronaviridae_s_uniprot_uniprot_metadata_embl_hosts_pruned_metadata_corrected_species_virus_host_vertebrates_w_seq_t0.01_c8_aligned.csv\")\n",
    "wiv04_df = pd.read_csv(wiv04_aligned_file_path)\n",
    "wiv04_df = wiv04_df[wiv04_df[\"uniprot_id\"] == \"WIV04\"]\n",
    "wiv04_df.head()"
   ]
  },
  {
   "cell_type": "code",
   "execution_count": 17,
   "id": "76bdb5bc",
   "metadata": {
    "scrolled": true
   },
   "outputs": [
    {
     "name": "stdout",
     "output_type": "stream",
     "text": [
      "2121\n"
     ]
    },
    {
     "data": {
      "text/plain": [
       "'-----MFVFLVLLPLVS---------------------------SQCVNLTTRTQLPP--AYTN--SFTR-----------------------------GVYYPDKVFRSSVLHSTQDLFLPFFSNVTWFHAIHVSGTNGTKRFDNPVLPFNDGVYFASTEKSNI-----IRGWIFGTTLDS----------KTQSLLIVNNAT----------N--------------VVIKVCEFQFCN-----------------------------------------------------------------DPFLGVY--------YHKNNK--------SWMESEF-RVYSS-----ANNCT-----FEYVSQP--FLMDLEGKQGNFK-------------NLREFVFK-NIDGYFKIYSKHTPINL---VRD-------------------------LPQGFS-------------------ALEPLV-----------------------------------DLPIGI--------NIT---------------------------------RFQTLLALHRSYLT-----PGDSSSGWTAGAAAYYVGYLQPRTFLLKYNENGTITDAVDCALDPLSETKCTLKSFTVEKGIYQTSNFRVQ----PTESI---VRF-----PNITNLC----PFGEVF-------------------NATR-------------FASVYAWNRK-----------RISNCVADYSVLYNS-ASFSTFKC-----------YGVSPTKL----------------------NDLCFTNVYADSF----------VIRGD-------------------EVR-QIA----------PGQTGKI------ADYNYKLPDDFT--------G----CV----------IA-------WNSNNLDSKVGGNYNYLY---RLFRKSNL-----KPFERDISTEIYQAGST------------------------PCNGVE--GF-----------------------NCYFPLQ------SYGFQPTNGV-------GYQPYRV-------VVLSFEL-------LHAPATVCGPKKSTNLV-KNKCVNFNFNGLTGTGVLTESNKK------FLP--------FQQFGR---DIADTTDAVRDPQTLEI--------------LDITPC-SF------------GGVSVITPGT----------------------NTSNQVAVLY-------------------QDVNCTEVPVAIHADQLTPTWRVYSTGSNVFQTRAGCLIGAEHVNNSYECDIPIGAGICASYQT-------------------QTNSPRRARSVASQS--IIAYTM---SLGAENSVAYSNNSIAIPTNFTISVTT-EILPVSMTKTSVDCTMYICGDSTECSNLLLQYGSFCTQLNRALTGIAVEQDKNTQEVFAQVKQI-YKTP-------PIKD-------FG---------------------GF--NFSQILP-----DPSKPS---KRSFIEDLLFNKVTLADAGFI-KQYGDCLGDI--AARDLICAQKFNGLTVLPPLLTDEMIA---QYTSALLAGTITSGWTFGA--GAALQIPFAMQMAYRFNGIGVTQNVLYE-NQKLIANQFNSAIGKI--------------QDSLSSTASALGKLQDVVNQNAQALNTLVKQLSSNFGAISSVLNDILSRLDKVEAEVQIDRLITGRLQSLQTYVTQQLIRAAEIRA-SANLAATKMSECVLGQSKRVDFCG-KGYHLMSF-----PQSAPHGVVFLHVTYVPAQEKNFTTAPAICHDG-------------KAHFPREGVFVS----NGTH----WFVTQRNFYEPQIITTDNTFVSGNCDVVIGIVNNTVYDPLQPELD-------SFKEELDKYFKNHTSPDVDLG--DISGINASV--VNIQKEI--------------DRLNEVAKNLNESLIDLQELGKYEQYIKWPWYIWLGFIAGLIAIVMVTIML--CCMTSCC-SCLKGCCS----C-GSCCK-------FDE----DDSEP----VLKGVKLHYT'"
      ]
     },
     "execution_count": 17,
     "metadata": {},
     "output_type": "execute_result"
    }
   ],
   "source": [
    "wiv04_aligned_seq = wiv04_df[\"aligned_seq\"].values[0]\n",
    "print(len(wiv04_aligned_seq))\n",
    "wiv04_aligned_seq"
   ]
  },
  {
   "cell_type": "code",
   "execution_count": 18,
   "id": "8baf444b",
   "metadata": {
    "scrolled": false
   },
   "outputs": [],
   "source": [
    "wiv04_position_mapping = {}\n",
    "pos = 0\n",
    "for i, token in enumerate(wiv04_aligned_seq):\n",
    "    if token == \"-\":\n",
    "        continue\n",
    "    else:\n",
    "        pos += 1\n",
    "        wiv04_position_mapping[i] = int(pos)\n",
    "        \n",
    "perturbed_output_df[\"perturb_seq_pos\"] = perturbed_output_df[\"perturb_pos\"].apply(lambda x: int(wiv04_position_mapping[x]) if x in wiv04_position_mapping else None)        \n",
    "perturbed_output_df[\"perturb_seq_pos\"] = perturbed_output_df[\"perturb_seq_pos\"].astype(\"Int64\")"
   ]
  },
  {
   "cell_type": "code",
   "execution_count": 19,
   "id": "5357757e",
   "metadata": {
    "scrolled": true
   },
   "outputs": [
    {
     "data": {
      "text/html": [
       "<div>\n",
       "<style scoped>\n",
       "    .dataframe tbody tr th:only-of-type {\n",
       "        vertical-align: middle;\n",
       "    }\n",
       "\n",
       "    .dataframe tbody tr th {\n",
       "        vertical-align: top;\n",
       "    }\n",
       "\n",
       "    .dataframe thead th {\n",
       "        text-align: right;\n",
       "    }\n",
       "</style>\n",
       "<table border=\"1\" class=\"dataframe\">\n",
       "  <thead>\n",
       "    <tr style=\"text-align: right;\">\n",
       "      <th></th>\n",
       "      <th>Cat</th>\n",
       "      <th>Cattle</th>\n",
       "      <th>Chicken</th>\n",
       "      <th>Dromedary camel</th>\n",
       "      <th>Gray wolf</th>\n",
       "      <th>Human</th>\n",
       "      <th>Pig</th>\n",
       "      <th>Yak</th>\n",
       "      <th>uniprot_id</th>\n",
       "      <th>y_true</th>\n",
       "      <th>orig_token</th>\n",
       "      <th>perturb_pos</th>\n",
       "      <th>new_token</th>\n",
       "      <th>Human_pred_diff</th>\n",
       "      <th>abs_Human_pred_diff</th>\n",
       "      <th>orig_y_pred</th>\n",
       "      <th>new_y_pred</th>\n",
       "      <th>perturb_seq_pos</th>\n",
       "    </tr>\n",
       "  </thead>\n",
       "  <tbody>\n",
       "    <tr>\n",
       "      <th>0</th>\n",
       "      <td>0.194020</td>\n",
       "      <td>0.000153</td>\n",
       "      <td>0.001569</td>\n",
       "      <td>0.004417</td>\n",
       "      <td>0.001848</td>\n",
       "      <td>0.796143</td>\n",
       "      <td>0.001830</td>\n",
       "      <td>0.000020</td>\n",
       "      <td>WIV04</td>\n",
       "      <td>Human</td>\n",
       "      <td>Q</td>\n",
       "      <td>1990</td>\n",
       "      <td>X</td>\n",
       "      <td>-6.681000e-05</td>\n",
       "      <td>6.681000e-05</td>\n",
       "      <td>Human</td>\n",
       "      <td>Human</td>\n",
       "      <td>1180</td>\n",
       "    </tr>\n",
       "    <tr>\n",
       "      <th>1</th>\n",
       "      <td>0.193631</td>\n",
       "      <td>0.000149</td>\n",
       "      <td>0.001545</td>\n",
       "      <td>0.004299</td>\n",
       "      <td>0.001813</td>\n",
       "      <td>0.796735</td>\n",
       "      <td>0.001809</td>\n",
       "      <td>0.000020</td>\n",
       "      <td>WIV04</td>\n",
       "      <td>Human</td>\n",
       "      <td>I</td>\n",
       "      <td>1343</td>\n",
       "      <td>C</td>\n",
       "      <td>5.253500e-04</td>\n",
       "      <td>5.253500e-04</td>\n",
       "      <td>Human</td>\n",
       "      <td>Human</td>\n",
       "      <td>666</td>\n",
       "    </tr>\n",
       "    <tr>\n",
       "      <th>2</th>\n",
       "      <td>0.193425</td>\n",
       "      <td>0.000145</td>\n",
       "      <td>0.001504</td>\n",
       "      <td>0.004331</td>\n",
       "      <td>0.001791</td>\n",
       "      <td>0.797031</td>\n",
       "      <td>0.001753</td>\n",
       "      <td>0.000019</td>\n",
       "      <td>WIV04</td>\n",
       "      <td>Human</td>\n",
       "      <td>T</td>\n",
       "      <td>1915</td>\n",
       "      <td>Z</td>\n",
       "      <td>8.212500e-04</td>\n",
       "      <td>8.212500e-04</td>\n",
       "      <td>Human</td>\n",
       "      <td>Human</td>\n",
       "      <td>1116</td>\n",
       "    </tr>\n",
       "    <tr>\n",
       "      <th>3</th>\n",
       "      <td>0.194392</td>\n",
       "      <td>0.000158</td>\n",
       "      <td>0.001607</td>\n",
       "      <td>0.004511</td>\n",
       "      <td>0.001887</td>\n",
       "      <td>0.795552</td>\n",
       "      <td>0.001872</td>\n",
       "      <td>0.000021</td>\n",
       "      <td>WIV04</td>\n",
       "      <td>Human</td>\n",
       "      <td>D</td>\n",
       "      <td>1917</td>\n",
       "      <td>S</td>\n",
       "      <td>-6.572500e-04</td>\n",
       "      <td>6.572500e-04</td>\n",
       "      <td>Human</td>\n",
       "      <td>Human</td>\n",
       "      <td>1118</td>\n",
       "    </tr>\n",
       "    <tr>\n",
       "      <th>4</th>\n",
       "      <td>0.193957</td>\n",
       "      <td>0.000152</td>\n",
       "      <td>0.001565</td>\n",
       "      <td>0.004419</td>\n",
       "      <td>0.001846</td>\n",
       "      <td>0.796215</td>\n",
       "      <td>0.001826</td>\n",
       "      <td>0.000020</td>\n",
       "      <td>WIV04</td>\n",
       "      <td>Human</td>\n",
       "      <td>Q</td>\n",
       "      <td>1912</td>\n",
       "      <td>G</td>\n",
       "      <td>5.610000e-06</td>\n",
       "      <td>5.610000e-06</td>\n",
       "      <td>Human</td>\n",
       "      <td>Human</td>\n",
       "      <td>1113</td>\n",
       "    </tr>\n",
       "    <tr>\n",
       "      <th>...</th>\n",
       "      <td>...</td>\n",
       "      <td>...</td>\n",
       "      <td>...</td>\n",
       "      <td>...</td>\n",
       "      <td>...</td>\n",
       "      <td>...</td>\n",
       "      <td>...</td>\n",
       "      <td>...</td>\n",
       "      <td>...</td>\n",
       "      <td>...</td>\n",
       "      <td>...</td>\n",
       "      <td>...</td>\n",
       "      <td>...</td>\n",
       "      <td>...</td>\n",
       "      <td>...</td>\n",
       "      <td>...</td>\n",
       "      <td>...</td>\n",
       "      <td>...</td>\n",
       "    </tr>\n",
       "    <tr>\n",
       "      <th>31821</th>\n",
       "      <td>0.148129</td>\n",
       "      <td>0.000044</td>\n",
       "      <td>0.000985</td>\n",
       "      <td>0.001271</td>\n",
       "      <td>0.000709</td>\n",
       "      <td>0.847505</td>\n",
       "      <td>0.001352</td>\n",
       "      <td>0.000005</td>\n",
       "      <td>WIV04</td>\n",
       "      <td>Human</td>\n",
       "      <td>E</td>\n",
       "      <td>1296</td>\n",
       "      <td>H</td>\n",
       "      <td>5.129558e-02</td>\n",
       "      <td>5.129558e-02</td>\n",
       "      <td>Human</td>\n",
       "      <td>Human</td>\n",
       "      <td>619</td>\n",
       "    </tr>\n",
       "    <tr>\n",
       "      <th>31822</th>\n",
       "      <td>0.194445</td>\n",
       "      <td>0.000159</td>\n",
       "      <td>0.001629</td>\n",
       "      <td>0.004409</td>\n",
       "      <td>0.001888</td>\n",
       "      <td>0.795539</td>\n",
       "      <td>0.001909</td>\n",
       "      <td>0.000021</td>\n",
       "      <td>WIV04</td>\n",
       "      <td>Human</td>\n",
       "      <td>E</td>\n",
       "      <td>1788</td>\n",
       "      <td>J</td>\n",
       "      <td>-6.701900e-04</td>\n",
       "      <td>6.701900e-04</td>\n",
       "      <td>Human</td>\n",
       "      <td>Human</td>\n",
       "      <td>1017</td>\n",
       "    </tr>\n",
       "    <tr>\n",
       "      <th>31823</th>\n",
       "      <td>0.193980</td>\n",
       "      <td>0.000152</td>\n",
       "      <td>0.001562</td>\n",
       "      <td>0.004410</td>\n",
       "      <td>0.001843</td>\n",
       "      <td>0.796209</td>\n",
       "      <td>0.001823</td>\n",
       "      <td>0.000020</td>\n",
       "      <td>WIV04</td>\n",
       "      <td>Human</td>\n",
       "      <td>G</td>\n",
       "      <td>1717</td>\n",
       "      <td>Y</td>\n",
       "      <td>-5.500000e-07</td>\n",
       "      <td>5.500000e-07</td>\n",
       "      <td>Human</td>\n",
       "      <td>Human</td>\n",
       "      <td>946</td>\n",
       "    </tr>\n",
       "    <tr>\n",
       "      <th>31824</th>\n",
       "      <td>0.194320</td>\n",
       "      <td>0.000153</td>\n",
       "      <td>0.001571</td>\n",
       "      <td>0.004443</td>\n",
       "      <td>0.001857</td>\n",
       "      <td>0.795804</td>\n",
       "      <td>0.001832</td>\n",
       "      <td>0.000020</td>\n",
       "      <td>WIV04</td>\n",
       "      <td>Human</td>\n",
       "      <td>G</td>\n",
       "      <td>99</td>\n",
       "      <td>P</td>\n",
       "      <td>-4.054900e-04</td>\n",
       "      <td>4.054900e-04</td>\n",
       "      <td>Human</td>\n",
       "      <td>Human</td>\n",
       "      <td>35</td>\n",
       "    </tr>\n",
       "    <tr>\n",
       "      <th>31825</th>\n",
       "      <td>0.193976</td>\n",
       "      <td>0.000152</td>\n",
       "      <td>0.001563</td>\n",
       "      <td>0.004409</td>\n",
       "      <td>0.001844</td>\n",
       "      <td>0.796212</td>\n",
       "      <td>0.001824</td>\n",
       "      <td>0.000020</td>\n",
       "      <td>WIV04</td>\n",
       "      <td>Human</td>\n",
       "      <td>Y</td>\n",
       "      <td>415</td>\n",
       "      <td>L</td>\n",
       "      <td>2.850000e-06</td>\n",
       "      <td>2.850000e-06</td>\n",
       "      <td>Human</td>\n",
       "      <td>Human</td>\n",
       "      <td>204</td>\n",
       "    </tr>\n",
       "  </tbody>\n",
       "</table>\n",
       "<p>31826 rows × 18 columns</p>\n",
       "</div>"
      ],
      "text/plain": [
       "            Cat    Cattle   Chicken  Dromedary camel  Gray wolf     Human  \\\n",
       "0      0.194020  0.000153  0.001569         0.004417   0.001848  0.796143   \n",
       "1      0.193631  0.000149  0.001545         0.004299   0.001813  0.796735   \n",
       "2      0.193425  0.000145  0.001504         0.004331   0.001791  0.797031   \n",
       "3      0.194392  0.000158  0.001607         0.004511   0.001887  0.795552   \n",
       "4      0.193957  0.000152  0.001565         0.004419   0.001846  0.796215   \n",
       "...         ...       ...       ...              ...        ...       ...   \n",
       "31821  0.148129  0.000044  0.000985         0.001271   0.000709  0.847505   \n",
       "31822  0.194445  0.000159  0.001629         0.004409   0.001888  0.795539   \n",
       "31823  0.193980  0.000152  0.001562         0.004410   0.001843  0.796209   \n",
       "31824  0.194320  0.000153  0.001571         0.004443   0.001857  0.795804   \n",
       "31825  0.193976  0.000152  0.001563         0.004409   0.001844  0.796212   \n",
       "\n",
       "            Pig       Yak uniprot_id y_true orig_token  perturb_pos new_token  \\\n",
       "0      0.001830  0.000020      WIV04  Human          Q         1990         X   \n",
       "1      0.001809  0.000020      WIV04  Human          I         1343         C   \n",
       "2      0.001753  0.000019      WIV04  Human          T         1915         Z   \n",
       "3      0.001872  0.000021      WIV04  Human          D         1917         S   \n",
       "4      0.001826  0.000020      WIV04  Human          Q         1912         G   \n",
       "...         ...       ...        ...    ...        ...          ...       ...   \n",
       "31821  0.001352  0.000005      WIV04  Human          E         1296         H   \n",
       "31822  0.001909  0.000021      WIV04  Human          E         1788         J   \n",
       "31823  0.001823  0.000020      WIV04  Human          G         1717         Y   \n",
       "31824  0.001832  0.000020      WIV04  Human          G           99         P   \n",
       "31825  0.001824  0.000020      WIV04  Human          Y          415         L   \n",
       "\n",
       "       Human_pred_diff  abs_Human_pred_diff orig_y_pred new_y_pred  \\\n",
       "0        -6.681000e-05         6.681000e-05       Human      Human   \n",
       "1         5.253500e-04         5.253500e-04       Human      Human   \n",
       "2         8.212500e-04         8.212500e-04       Human      Human   \n",
       "3        -6.572500e-04         6.572500e-04       Human      Human   \n",
       "4         5.610000e-06         5.610000e-06       Human      Human   \n",
       "...                ...                  ...         ...        ...   \n",
       "31821     5.129558e-02         5.129558e-02       Human      Human   \n",
       "31822    -6.701900e-04         6.701900e-04       Human      Human   \n",
       "31823    -5.500000e-07         5.500000e-07       Human      Human   \n",
       "31824    -4.054900e-04         4.054900e-04       Human      Human   \n",
       "31825     2.850000e-06         2.850000e-06       Human      Human   \n",
       "\n",
       "       perturb_seq_pos  \n",
       "0                 1180  \n",
       "1                  666  \n",
       "2                 1116  \n",
       "3                 1118  \n",
       "4                 1113  \n",
       "...                ...  \n",
       "31821              619  \n",
       "31822             1017  \n",
       "31823              946  \n",
       "31824               35  \n",
       "31825              204  \n",
       "\n",
       "[31826 rows x 18 columns]"
      ]
     },
     "execution_count": 19,
     "metadata": {},
     "output_type": "execute_result"
    }
   ],
   "source": [
    "perturbed_output_df"
   ]
  },
  {
   "cell_type": "code",
   "execution_count": 20,
   "id": "ab057292",
   "metadata": {
    "scrolled": true
   },
   "outputs": [],
   "source": [
    "perturbed_output_df = perturbed_output_df[~perturbed_output_df[\"perturb_seq_pos\"].isna()]"
   ]
  },
  {
   "cell_type": "code",
   "execution_count": 21,
   "id": "04e3a647",
   "metadata": {
    "scrolled": true
   },
   "outputs": [
    {
     "data": {
      "text/html": [
       "<div>\n",
       "<style scoped>\n",
       "    .dataframe tbody tr th:only-of-type {\n",
       "        vertical-align: middle;\n",
       "    }\n",
       "\n",
       "    .dataframe tbody tr th {\n",
       "        vertical-align: top;\n",
       "    }\n",
       "\n",
       "    .dataframe thead th {\n",
       "        text-align: right;\n",
       "    }\n",
       "</style>\n",
       "<table border=\"1\" class=\"dataframe\">\n",
       "  <thead>\n",
       "    <tr style=\"text-align: right;\">\n",
       "      <th></th>\n",
       "      <th>Cat</th>\n",
       "      <th>Cattle</th>\n",
       "      <th>Chicken</th>\n",
       "      <th>Dromedary camel</th>\n",
       "      <th>Gray wolf</th>\n",
       "      <th>Human</th>\n",
       "      <th>Pig</th>\n",
       "      <th>Yak</th>\n",
       "      <th>uniprot_id</th>\n",
       "      <th>y_true</th>\n",
       "      <th>orig_token</th>\n",
       "      <th>perturb_pos</th>\n",
       "      <th>new_token</th>\n",
       "      <th>Human_pred_diff</th>\n",
       "      <th>abs_Human_pred_diff</th>\n",
       "      <th>orig_y_pred</th>\n",
       "      <th>new_y_pred</th>\n",
       "      <th>perturb_seq_pos</th>\n",
       "    </tr>\n",
       "  </thead>\n",
       "  <tbody>\n",
       "    <tr>\n",
       "      <th>0</th>\n",
       "      <td>0.194020</td>\n",
       "      <td>0.000153</td>\n",
       "      <td>0.001569</td>\n",
       "      <td>0.004417</td>\n",
       "      <td>0.001848</td>\n",
       "      <td>0.796143</td>\n",
       "      <td>0.001830</td>\n",
       "      <td>0.000020</td>\n",
       "      <td>WIV04</td>\n",
       "      <td>Human</td>\n",
       "      <td>Q</td>\n",
       "      <td>1990</td>\n",
       "      <td>X</td>\n",
       "      <td>-6.681000e-05</td>\n",
       "      <td>6.681000e-05</td>\n",
       "      <td>Human</td>\n",
       "      <td>Human</td>\n",
       "      <td>1180</td>\n",
       "    </tr>\n",
       "    <tr>\n",
       "      <th>1</th>\n",
       "      <td>0.193631</td>\n",
       "      <td>0.000149</td>\n",
       "      <td>0.001545</td>\n",
       "      <td>0.004299</td>\n",
       "      <td>0.001813</td>\n",
       "      <td>0.796735</td>\n",
       "      <td>0.001809</td>\n",
       "      <td>0.000020</td>\n",
       "      <td>WIV04</td>\n",
       "      <td>Human</td>\n",
       "      <td>I</td>\n",
       "      <td>1343</td>\n",
       "      <td>C</td>\n",
       "      <td>5.253500e-04</td>\n",
       "      <td>5.253500e-04</td>\n",
       "      <td>Human</td>\n",
       "      <td>Human</td>\n",
       "      <td>666</td>\n",
       "    </tr>\n",
       "    <tr>\n",
       "      <th>2</th>\n",
       "      <td>0.193425</td>\n",
       "      <td>0.000145</td>\n",
       "      <td>0.001504</td>\n",
       "      <td>0.004331</td>\n",
       "      <td>0.001791</td>\n",
       "      <td>0.797031</td>\n",
       "      <td>0.001753</td>\n",
       "      <td>0.000019</td>\n",
       "      <td>WIV04</td>\n",
       "      <td>Human</td>\n",
       "      <td>T</td>\n",
       "      <td>1915</td>\n",
       "      <td>Z</td>\n",
       "      <td>8.212500e-04</td>\n",
       "      <td>8.212500e-04</td>\n",
       "      <td>Human</td>\n",
       "      <td>Human</td>\n",
       "      <td>1116</td>\n",
       "    </tr>\n",
       "    <tr>\n",
       "      <th>3</th>\n",
       "      <td>0.194392</td>\n",
       "      <td>0.000158</td>\n",
       "      <td>0.001607</td>\n",
       "      <td>0.004511</td>\n",
       "      <td>0.001887</td>\n",
       "      <td>0.795552</td>\n",
       "      <td>0.001872</td>\n",
       "      <td>0.000021</td>\n",
       "      <td>WIV04</td>\n",
       "      <td>Human</td>\n",
       "      <td>D</td>\n",
       "      <td>1917</td>\n",
       "      <td>S</td>\n",
       "      <td>-6.572500e-04</td>\n",
       "      <td>6.572500e-04</td>\n",
       "      <td>Human</td>\n",
       "      <td>Human</td>\n",
       "      <td>1118</td>\n",
       "    </tr>\n",
       "    <tr>\n",
       "      <th>4</th>\n",
       "      <td>0.193957</td>\n",
       "      <td>0.000152</td>\n",
       "      <td>0.001565</td>\n",
       "      <td>0.004419</td>\n",
       "      <td>0.001846</td>\n",
       "      <td>0.796215</td>\n",
       "      <td>0.001826</td>\n",
       "      <td>0.000020</td>\n",
       "      <td>WIV04</td>\n",
       "      <td>Human</td>\n",
       "      <td>Q</td>\n",
       "      <td>1912</td>\n",
       "      <td>G</td>\n",
       "      <td>5.610000e-06</td>\n",
       "      <td>5.610000e-06</td>\n",
       "      <td>Human</td>\n",
       "      <td>Human</td>\n",
       "      <td>1113</td>\n",
       "    </tr>\n",
       "    <tr>\n",
       "      <th>...</th>\n",
       "      <td>...</td>\n",
       "      <td>...</td>\n",
       "      <td>...</td>\n",
       "      <td>...</td>\n",
       "      <td>...</td>\n",
       "      <td>...</td>\n",
       "      <td>...</td>\n",
       "      <td>...</td>\n",
       "      <td>...</td>\n",
       "      <td>...</td>\n",
       "      <td>...</td>\n",
       "      <td>...</td>\n",
       "      <td>...</td>\n",
       "      <td>...</td>\n",
       "      <td>...</td>\n",
       "      <td>...</td>\n",
       "      <td>...</td>\n",
       "      <td>...</td>\n",
       "    </tr>\n",
       "    <tr>\n",
       "      <th>31821</th>\n",
       "      <td>0.148129</td>\n",
       "      <td>0.000044</td>\n",
       "      <td>0.000985</td>\n",
       "      <td>0.001271</td>\n",
       "      <td>0.000709</td>\n",
       "      <td>0.847505</td>\n",
       "      <td>0.001352</td>\n",
       "      <td>0.000005</td>\n",
       "      <td>WIV04</td>\n",
       "      <td>Human</td>\n",
       "      <td>E</td>\n",
       "      <td>1296</td>\n",
       "      <td>H</td>\n",
       "      <td>5.129558e-02</td>\n",
       "      <td>5.129558e-02</td>\n",
       "      <td>Human</td>\n",
       "      <td>Human</td>\n",
       "      <td>619</td>\n",
       "    </tr>\n",
       "    <tr>\n",
       "      <th>31822</th>\n",
       "      <td>0.194445</td>\n",
       "      <td>0.000159</td>\n",
       "      <td>0.001629</td>\n",
       "      <td>0.004409</td>\n",
       "      <td>0.001888</td>\n",
       "      <td>0.795539</td>\n",
       "      <td>0.001909</td>\n",
       "      <td>0.000021</td>\n",
       "      <td>WIV04</td>\n",
       "      <td>Human</td>\n",
       "      <td>E</td>\n",
       "      <td>1788</td>\n",
       "      <td>J</td>\n",
       "      <td>-6.701900e-04</td>\n",
       "      <td>6.701900e-04</td>\n",
       "      <td>Human</td>\n",
       "      <td>Human</td>\n",
       "      <td>1017</td>\n",
       "    </tr>\n",
       "    <tr>\n",
       "      <th>31823</th>\n",
       "      <td>0.193980</td>\n",
       "      <td>0.000152</td>\n",
       "      <td>0.001562</td>\n",
       "      <td>0.004410</td>\n",
       "      <td>0.001843</td>\n",
       "      <td>0.796209</td>\n",
       "      <td>0.001823</td>\n",
       "      <td>0.000020</td>\n",
       "      <td>WIV04</td>\n",
       "      <td>Human</td>\n",
       "      <td>G</td>\n",
       "      <td>1717</td>\n",
       "      <td>Y</td>\n",
       "      <td>-5.500000e-07</td>\n",
       "      <td>5.500000e-07</td>\n",
       "      <td>Human</td>\n",
       "      <td>Human</td>\n",
       "      <td>946</td>\n",
       "    </tr>\n",
       "    <tr>\n",
       "      <th>31824</th>\n",
       "      <td>0.194320</td>\n",
       "      <td>0.000153</td>\n",
       "      <td>0.001571</td>\n",
       "      <td>0.004443</td>\n",
       "      <td>0.001857</td>\n",
       "      <td>0.795804</td>\n",
       "      <td>0.001832</td>\n",
       "      <td>0.000020</td>\n",
       "      <td>WIV04</td>\n",
       "      <td>Human</td>\n",
       "      <td>G</td>\n",
       "      <td>99</td>\n",
       "      <td>P</td>\n",
       "      <td>-4.054900e-04</td>\n",
       "      <td>4.054900e-04</td>\n",
       "      <td>Human</td>\n",
       "      <td>Human</td>\n",
       "      <td>35</td>\n",
       "    </tr>\n",
       "    <tr>\n",
       "      <th>31825</th>\n",
       "      <td>0.193976</td>\n",
       "      <td>0.000152</td>\n",
       "      <td>0.001563</td>\n",
       "      <td>0.004409</td>\n",
       "      <td>0.001844</td>\n",
       "      <td>0.796212</td>\n",
       "      <td>0.001824</td>\n",
       "      <td>0.000020</td>\n",
       "      <td>WIV04</td>\n",
       "      <td>Human</td>\n",
       "      <td>Y</td>\n",
       "      <td>415</td>\n",
       "      <td>L</td>\n",
       "      <td>2.850000e-06</td>\n",
       "      <td>2.850000e-06</td>\n",
       "      <td>Human</td>\n",
       "      <td>Human</td>\n",
       "      <td>204</td>\n",
       "    </tr>\n",
       "  </tbody>\n",
       "</table>\n",
       "<p>31826 rows × 18 columns</p>\n",
       "</div>"
      ],
      "text/plain": [
       "            Cat    Cattle   Chicken  Dromedary camel  Gray wolf     Human  \\\n",
       "0      0.194020  0.000153  0.001569         0.004417   0.001848  0.796143   \n",
       "1      0.193631  0.000149  0.001545         0.004299   0.001813  0.796735   \n",
       "2      0.193425  0.000145  0.001504         0.004331   0.001791  0.797031   \n",
       "3      0.194392  0.000158  0.001607         0.004511   0.001887  0.795552   \n",
       "4      0.193957  0.000152  0.001565         0.004419   0.001846  0.796215   \n",
       "...         ...       ...       ...              ...        ...       ...   \n",
       "31821  0.148129  0.000044  0.000985         0.001271   0.000709  0.847505   \n",
       "31822  0.194445  0.000159  0.001629         0.004409   0.001888  0.795539   \n",
       "31823  0.193980  0.000152  0.001562         0.004410   0.001843  0.796209   \n",
       "31824  0.194320  0.000153  0.001571         0.004443   0.001857  0.795804   \n",
       "31825  0.193976  0.000152  0.001563         0.004409   0.001844  0.796212   \n",
       "\n",
       "            Pig       Yak uniprot_id y_true orig_token  perturb_pos new_token  \\\n",
       "0      0.001830  0.000020      WIV04  Human          Q         1990         X   \n",
       "1      0.001809  0.000020      WIV04  Human          I         1343         C   \n",
       "2      0.001753  0.000019      WIV04  Human          T         1915         Z   \n",
       "3      0.001872  0.000021      WIV04  Human          D         1917         S   \n",
       "4      0.001826  0.000020      WIV04  Human          Q         1912         G   \n",
       "...         ...       ...        ...    ...        ...          ...       ...   \n",
       "31821  0.001352  0.000005      WIV04  Human          E         1296         H   \n",
       "31822  0.001909  0.000021      WIV04  Human          E         1788         J   \n",
       "31823  0.001823  0.000020      WIV04  Human          G         1717         Y   \n",
       "31824  0.001832  0.000020      WIV04  Human          G           99         P   \n",
       "31825  0.001824  0.000020      WIV04  Human          Y          415         L   \n",
       "\n",
       "       Human_pred_diff  abs_Human_pred_diff orig_y_pred new_y_pred  \\\n",
       "0        -6.681000e-05         6.681000e-05       Human      Human   \n",
       "1         5.253500e-04         5.253500e-04       Human      Human   \n",
       "2         8.212500e-04         8.212500e-04       Human      Human   \n",
       "3        -6.572500e-04         6.572500e-04       Human      Human   \n",
       "4         5.610000e-06         5.610000e-06       Human      Human   \n",
       "...                ...                  ...         ...        ...   \n",
       "31821     5.129558e-02         5.129558e-02       Human      Human   \n",
       "31822    -6.701900e-04         6.701900e-04       Human      Human   \n",
       "31823    -5.500000e-07         5.500000e-07       Human      Human   \n",
       "31824    -4.054900e-04         4.054900e-04       Human      Human   \n",
       "31825     2.850000e-06         2.850000e-06       Human      Human   \n",
       "\n",
       "       perturb_seq_pos  \n",
       "0                 1180  \n",
       "1                  666  \n",
       "2                 1116  \n",
       "3                 1118  \n",
       "4                 1113  \n",
       "...                ...  \n",
       "31821              619  \n",
       "31822             1017  \n",
       "31823              946  \n",
       "31824               35  \n",
       "31825              204  \n",
       "\n",
       "[31826 rows x 18 columns]"
      ]
     },
     "execution_count": 21,
     "metadata": {},
     "output_type": "execute_result"
    }
   ],
   "source": [
    "perturbed_output_df"
   ]
  },
  {
   "cell_type": "markdown",
   "id": "766ae5d0",
   "metadata": {},
   "source": [
    "# Overview"
   ]
  },
  {
   "cell_type": "markdown",
   "id": "a00c09d4",
   "metadata": {},
   "source": [
    "### Distribution of Human class difference"
   ]
  },
  {
   "cell_type": "code",
   "execution_count": 22,
   "id": "fed1e0b2",
   "metadata": {
    "scrolled": true
   },
   "outputs": [],
   "source": [
    "def print_histogram(distribution, n_bins=20):\n",
    "    n = distribution.shape[0]\n",
    "    print(f\"n={n}\")\n",
    "    freq, bins = np.histogram(distribution, bins=n_bins)\n",
    "    hist_map = []\n",
    "    for i in range(n_bins):\n",
    "        hist_map.append({\"start\": bins[i], \"end\":bins[i+1], \"count\": freq[i], \"percentage\": freq[i]/n*100})\n",
    "\n",
    "    hist_df = pd.DataFrame(hist_map)\n",
    "    print(hist_df.head(20))"
   ]
  },
  {
   "cell_type": "code",
   "execution_count": 23,
   "id": "71aa64c9",
   "metadata": {
    "scrolled": true
   },
   "outputs": [
    {
     "name": "stdout",
     "output_type": "stream",
     "text": [
      "Number of sequences with abs_Human_pred_diff >= 0.1: 2 (0.006284170175328349)\n",
      "Distribution of full perturbation output\n",
      "n=31826\n",
      "       start       end  count  percentage\n",
      "0  -0.099796 -0.088380      3    0.009426\n",
      "1  -0.088380 -0.076965      7    0.021995\n",
      "2  -0.076965 -0.065549      9    0.028279\n",
      "3  -0.065549 -0.054134     17    0.053415\n",
      "4  -0.054134 -0.042718     16    0.050273\n",
      "5  -0.042718 -0.031303     15    0.047131\n",
      "6  -0.031303 -0.019887     60    0.188525\n",
      "7  -0.019887 -0.008472    114    0.358198\n",
      "8  -0.008472  0.002944  30879   97.024445\n",
      "9   0.002944  0.014359    511    1.605605\n",
      "10  0.014359  0.025775     91    0.285930\n",
      "11  0.025775  0.037191     16    0.050273\n",
      "12  0.037191  0.048606      6    0.018853\n",
      "13  0.048606  0.060022     24    0.075410\n",
      "14  0.060022  0.071437     27    0.084836\n",
      "15  0.071437  0.082853     28    0.087978\n",
      "16  0.082853  0.094268      0    0.000000\n",
      "17  0.094268  0.105684      1    0.003142\n",
      "18  0.105684  0.117099      0    0.000000\n",
      "19  0.117099  0.128515      2    0.006284\n",
      "\n",
      ">>>>>>>>>>>>><<<<<<<<<<<<<<<<\n",
      "\n",
      "Distribution of perturbation output with |Human_pred_diff| >= 0.1\n",
      "n=2\n",
      "       start       end  count  percentage\n",
      "0   0.127317  0.127377      1        50.0\n",
      "1   0.127377  0.127437      0         0.0\n",
      "2   0.127437  0.127497      0         0.0\n",
      "3   0.127497  0.127557      0         0.0\n",
      "4   0.127557  0.127617      0         0.0\n",
      "5   0.127617  0.127676      0         0.0\n",
      "6   0.127676  0.127736      0         0.0\n",
      "7   0.127736  0.127796      0         0.0\n",
      "8   0.127796  0.127856      0         0.0\n",
      "9   0.127856  0.127916      0         0.0\n",
      "10  0.127916  0.127976      0         0.0\n",
      "11  0.127976  0.128036      0         0.0\n",
      "12  0.128036  0.128096      0         0.0\n",
      "13  0.128096  0.128155      0         0.0\n",
      "14  0.128155  0.128215      0         0.0\n",
      "15  0.128215  0.128275      0         0.0\n",
      "16  0.128275  0.128335      0         0.0\n",
      "17  0.128335  0.128395      0         0.0\n",
      "18  0.128395  0.128455      0         0.0\n",
      "19  0.128455  0.128515      1        50.0\n"
     ]
    }
   ],
   "source": [
    "selected_df = perturbed_output_df[perturbed_output_df[f\"abs_{pred_diff_col}\"] >= 0.1]\n",
    "print(f\"Number of sequences with abs_{pred_diff_col} >= 0.1: {selected_df.shape[0]} ({selected_df.shape[0]/perturbed_output_df.shape[0]*100})\")\n",
    "\n",
    "print(\"Distribution of full perturbation output\")\n",
    "print_histogram(perturbed_output_df[pred_diff_col], n_bins=20)\n",
    "print(\"\\n>>>>>>>>>>>>><<<<<<<<<<<<<<<<\\n\")\n",
    "print(f\"Distribution of perturbation output with |{pred_diff_col}| >= 0.1\")\n",
    "print_histogram(selected_df[pred_diff_col], n_bins=20)"
   ]
  },
  {
   "cell_type": "code",
   "execution_count": null,
   "id": "c6bc3a2b",
   "metadata": {
    "scrolled": true
   },
   "outputs": [],
   "source": [
    "plt.clf()\n",
    "plt.rcParams[\"xtick.labelsize\"] = 30\n",
    "plt.rcParams[\"ytick.labelsize\"] = 30\n",
    "plt.rcParams.update({'font.size': 30})\n",
    "fig, axs = plt.subplots(1, 2, figsize=(30, 10), sharex=True, sharey=False)\n",
    "\n",
    "sns.histplot(perturbed_output_df[\"Human_pred_diff\"], bins=100, ax=axs[0])\n",
    "sns.histplot(selected_df[\"Human_pred_diff\"], bins=100, ax=axs[1])\n",
    "plt.show()\n",
    "\n"
   ]
  },
  {
   "cell_type": "markdown",
   "id": "feae02e6",
   "metadata": {},
   "source": [
    "### Distribution of Human pred diff in each position"
   ]
  },
  {
   "cell_type": "code",
   "execution_count": null,
   "id": "c7d6de66",
   "metadata": {
    "scrolled": false
   },
   "outputs": [],
   "source": [
    "plt.clf()\n",
    "plt.rcParams[\"xtick.labelsize\"] = 30\n",
    "plt.rcParams[\"ytick.labelsize\"] = 30\n",
    "plt.rcParams.update({'font.size': 30})\n",
    "fig, axs = plt.subplots(12, 1, figsize=(50, 100), sharex=False, sharey=True)\n",
    "\n",
    "j = 0\n",
    "for i in range(0, 1274, 110):\n",
    "    plot_df = perturbed_output_df[(perturbed_output_df[\"perturb_seq_pos\"] >= i) & (perturbed_output_df[\"perturb_seq_pos\"] < i+110)]\n",
    "    sns.barplot(plot_df, x=\"perturb_seq_pos\", y=pred_diff_col, ax=axs[j])\n",
    "    axs[j].tick_params(axis='x', rotation=90)\n",
    "    j += 1\n",
    "    \n",
    "plt.tight_layout(pad=.1)\n",
    "plt.show()\n",
    "\n",
    "# plt.clf()\n",
    "# plt.figure(figsize=(70, 20))\n",
    "# plt.rcParams[\"xtick.labelsize\"] = 10\n",
    "# plt.rcParams[\"ytick.labelsize\"] = 10\n",
    "# plt.rcParams.update({'font.size': 10})\n",
    "# sns.barplot(perturbed_output_df, x=\"perturb_seq_pos\", y=pred_diff_col)\n",
    "# plt.xticks(rotation=90)\n",
    "# plt.show()"
   ]
  },
  {
   "cell_type": "markdown",
   "id": "69b0b36a",
   "metadata": {},
   "source": [
    "### Cut-off: mean=0 and variance=0"
   ]
  },
  {
   "cell_type": "code",
   "execution_count": null,
   "id": "b6d472da",
   "metadata": {
    "scrolled": true
   },
   "outputs": [],
   "source": [
    "mean_std_df = perturbed_output_df.groupby(\"perturb_seq_pos\").agg(mean=(pred_diff_col, \"mean\"), std=(pred_diff_col, \"std\")).reset_index()\n",
    "cut_off_pos = list(mean_std_df[(mean_std_df[\"mean\"] == 0) & (mean_std_df[\"std\"] == 0)][\"perturb_seq_pos\"].values)\n",
    "cut_off_df_1 = perturbed_output_df[~perturbed_output_df[\"perturb_seq_pos\"].isin(cut_off_pos)]\n",
    "cut_off_df_1[\"perturb_seq_pos\"].nunique()"
   ]
  },
  {
   "cell_type": "code",
   "execution_count": null,
   "id": "9292ab9e",
   "metadata": {
    "scrolled": true
   },
   "outputs": [],
   "source": [
    "plt.clf()\n",
    "plt.rcParams[\"xtick.labelsize\"] = 30\n",
    "plt.rcParams[\"ytick.labelsize\"] = 30\n",
    "plt.rcParams.update({'font.size': 30})\n",
    "fig, axs = plt.subplots(29, 1, figsize=(30, 100), sharex=False, sharey=False)\n",
    "\n",
    "j = 0\n",
    "for i in range(0, 1273, 45):\n",
    "    plot_df = cut_off_df_1[(cut_off_df_1[\"perturb_seq_pos\"] >= i) & (cut_off_df_1[\"perturb_seq_pos\"] < i+45)]\n",
    "    sns.violinplot(plot_df, x=\"perturb_seq_pos\", y=pred_diff_col, ax=axs[j])\n",
    "    axs[j].tick_params(axis='x', rotation=90)\n",
    "    j += 1\n",
    "    \n",
    "plt.tight_layout(pad=.1)\n",
    "plt.show()"
   ]
  },
  {
   "cell_type": "markdown",
   "id": "5543c914",
   "metadata": {},
   "source": [
    "### Cut-off: abs_Human_pred_diff >= 0.1"
   ]
  },
  {
   "cell_type": "code",
   "execution_count": null,
   "id": "4add59f3",
   "metadata": {
    "scrolled": true
   },
   "outputs": [],
   "source": [
    "cut_off_df_2 = perturbed_output_df[perturbed_output_df[f\"abs_{pred_diff_col}\"] >= 0.1]\n",
    "cut_off_pos_1 = set(cut_off_df_1[\"perturb_seq_pos\"].unique())\n",
    "cut_off_pos_2 = set(cut_off_df_2[\"perturb_seq_pos\"].unique())\n",
    "print(f\"1. Number of unique positions with mean !=0 and variance != 0 : {len(cut_off_pos_1)}\")\n",
    "print(f\"2. Number of unique positions with abs_{pred_diff_col} > 0.1 : {len(cut_off_pos_2)}\")\n",
    "\n",
    "print(f\"1 intersection 2: {len(cut_off_pos_1.intersection(cut_off_pos_2))}\")\n",
    "print(f\"1 minus 2: {len(cut_off_pos_1 - cut_off_pos_2)}\")\n",
    "print(f\"2 minus 1: {len(cut_off_pos_2 - cut_off_pos_1)}\")\n",
    "print(f\"is 2 subset of 1: {cut_off_pos_2 <= cut_off_pos_1}\")"
   ]
  },
  {
   "cell_type": "code",
   "execution_count": null,
   "id": "586ada1e",
   "metadata": {
    "scrolled": true
   },
   "outputs": [],
   "source": [
    "import math\n",
    "\n",
    "def get_uniformly_divided_position_bins(positions, n_bins):\n",
    "    bin_width = math.floor(len(positions)/n_bins)\n",
    "    bins = []\n",
    "    start = 0\n",
    "    for i in range(n_bins):\n",
    "        end = start + bin_width\n",
    "        bins.append(positions[start:end])\n",
    "        start = end\n",
    "    return bins"
   ]
  },
  {
   "cell_type": "code",
   "execution_count": null,
   "id": "853d11d4",
   "metadata": {
    "scrolled": true
   },
   "outputs": [],
   "source": [
    "plt.clf()\n",
    "fig, axs = plt.subplots(1, 1, figsize=(40, 60), sharey=True)\n",
    "plt.rcParams['xtick.labelsize'] = 30\n",
    "plt.rcParams['ytick.labelsize'] = 30\n",
    "plt.rcParams.update({'font.size': 30})\n",
    "\n",
    "bins = get_uniformly_divided_position_bins(list(cut_off_pos_2), 1)\n",
    "\n",
    "for i in range(1):\n",
    "    sns.boxplot(data=cut_off_df_2[cut_off_df_2[\"perturb_seq_pos\"].isin(bins[i])],  y=\"Human_pred_diff\", x=\"perturb_seq_pos\", ax=axs, orient=\"v\", \n",
    "                linewidth=3,\n",
    "                boxprops={\"facecolor\": (.3, .5, .7, .5)})\n",
    "    axs.tick_params(axis='x', rotation=90)\n",
    "    axs.axhline(0.0, color=\"gray\", linestyle=\"--\")\n",
    "\n",
    "plt.show()\n"
   ]
  },
  {
   "cell_type": "markdown",
   "id": "0d7b67b2",
   "metadata": {},
   "source": [
    "### Important positions causing class change from Human"
   ]
  },
  {
   "cell_type": "code",
   "execution_count": null,
   "id": "a6f61f02",
   "metadata": {
    "scrolled": true
   },
   "outputs": [],
   "source": [
    "class_change_df = perturbed_output_df[(perturbed_output_df[\"orig_y_pred\"] == \"Human\") & (perturbed_output_df[\"new_y_pred\"] != \"Human\")]\n",
    "n = class_change_df.shape[0]\n",
    "print(n)\n",
    "df = class_change_df[[\"uniprot_id\", \"perturb_seq_pos\", \"new_y_pred\"]].groupby([\"perturb_seq_pos\", \"new_y_pred\"]).count().reset_index()\n",
    "df[\"%\"] = df[\"uniprot_id\"]/n*100\n",
    "max_val = df[\"%\"].max()\n",
    "print(max_val)\n",
    "df = df.pivot(index=\"perturb_seq_pos\", columns=\"new_y_pred\", values=\"%\")\n",
    "df.columns.name = None\n",
    "df = df.reset_index()\n",
    "# df.drop([\"new_y_pred\"], axis=1, inplace=True)\n",
    "\n",
    "plt.clf()\n",
    "fig, axs = plt.subplots(2, 1, figsize=(40, 10), sharey=True)\n",
    "plt.rcParams.update({'font.size': 30})\n",
    "plt.rcParams['xtick.labelsize'] = 30\n",
    "plt.rcParams['ytick.labelsize'] = 30\n",
    "\n",
    "sns.heatmap(data=df[df[\"perturb_seq_pos\"] <=250].set_index(\"perturb_seq_pos\").T, linewidth=.1, cmap=\"crest\", ax=axs[0], vmax=max_val)\n",
    "wrap_yticklabels(axs[0], label_width=10, break_long_words=True)\n",
    "axs[0].tick_params(axis='x', rotation=90)\n",
    "\n",
    "\n",
    "sns.heatmap(data=df[df[\"perturb_seq_pos\"] > 250].set_index(\"perturb_seq_pos\").T, linewidth=.1, cmap=\"crest\", ax=axs[1], vmax=max_val)\n",
    "wrap_yticklabels(axs[1], label_width=10, break_long_words=True)\n",
    "axs[1].tick_params(axis='x', rotation=90)\n",
    "plt.tight_layout(pad=.1)\n",
    "plt.show()\n"
   ]
  },
  {
   "cell_type": "markdown",
   "id": "46fefb3b",
   "metadata": {},
   "source": [
    "### Important positions causing class change from Human due to difference >= 0.1"
   ]
  },
  {
   "cell_type": "code",
   "execution_count": null,
   "id": "3e23c88e",
   "metadata": {
    "scrolled": true
   },
   "outputs": [],
   "source": [
    "class_change_df = cut_off_df_2[(cut_off_df_2[\"orig_y_pred\"] == \"Human\") & (cut_off_df_2[\"new_y_pred\"] != \"Human\")]\n",
    "n = class_change_df.shape[0]\n",
    "print(n)\n",
    "df = class_change_df[[\"uniref90_id\", \"perturb_seq_pos\", \"new_y_pred\"]].groupby([\"perturb_seq_pos\", \"new_y_pred\"]).count().reset_index()\n",
    "df[\"%\"] = df[\"uniref90_id\"]/n*100\n",
    "df = df.pivot(index=\"perturb_seq_pos\", columns=\"new_y_pred\", values=\"%\")\n",
    "df.columns.name = None\n",
    "# df.drop([\"new_y_pred\"], axis=1, inplace=True)\n",
    "plt.clf()\n",
    "plt.figure(figsize=(40, 5))\n",
    "plt.rcParams.update({'font.size': 30})\n",
    "plt.rcParams['xtick.labelsize'] = 30\n",
    "plt.rcParams['ytick.labelsize'] = 30\n",
    "\n",
    "ax = sns.heatmap(data=df.T, linewidth=.1, cmap=\"crest\")\n",
    "wrap_yticklabels(ax, label_width=10, break_long_words=True)\n",
    "ax.tick_params(axis='x', rotation=90)\n",
    "plt.show()"
   ]
  },
  {
   "cell_type": "markdown",
   "id": "f0045314",
   "metadata": {},
   "source": [
    "## Identified important mutations\n",
    "**Cut-off: abs_Human_pred_diff >= 0.1**"
   ]
  },
  {
   "cell_type": "markdown",
   "id": "75135d01",
   "metadata": {},
   "source": [
    "### Mutations with new token=X"
   ]
  },
  {
   "cell_type": "code",
   "execution_count": null,
   "id": "e1f958bd",
   "metadata": {
    "scrolled": true
   },
   "outputs": [],
   "source": [
    "cut_off_df_2[\"perturbation_id\"] = cut_off_df_2[\"orig_token\"] + cut_off_df_2[\"perturb_seq_pos\"].astype(\"str\") + cut_off_df_2[\"new_token\"]\n",
    "x_mutation_df = cut_off_df_2[cut_off_df_2[\"new_token\"] == \"X\"]\n",
    "non_x_mutation_df = cut_off_df_2[cut_off_df_2[\"new_token\"] != \"X\"].copy()"
   ]
  },
  {
   "cell_type": "code",
   "execution_count": null,
   "id": "14d4a0d6",
   "metadata": {
    "scrolled": true
   },
   "outputs": [],
   "source": [
    "#!pip install textalloc\n"
   ]
  },
  {
   "cell_type": "code",
   "execution_count": null,
   "id": "68a401a9",
   "metadata": {
    "scrolled": true
   },
   "outputs": [],
   "source": [
    "import textalloc as ta\n",
    "plt.clf()\n",
    "plt.figure(figsize=(60, 20))\n",
    "plt.rcParams.update({'font.size': 30})\n",
    "plt.rcParams['xtick.labelsize'] = 30\n",
    "plt.rcParams['ytick.labelsize'] = 30\n",
    "annotate_df = x_mutation_df.sort_values(f\"abs_{pred_diff_col}\", ascending=False)[:20]\n",
    "ax = sns.stripplot(data=x_mutation_df, y=\"Human_pred_diff\", x=\"perturb_seq_pos\", hue=\"orig_token\", orient=\"v\", s=15, linewidth=1)\n",
    "ax.figure.canvas.draw()\n",
    "x_mapping = {}\n",
    "plt.legend(bbox_to_anchor=(.8, -0.1), borderaxespad=2.0, markerscale=4., ncol=10, title=\"Original token\")\n",
    "ax.tick_params(axis='x', rotation=90)\n",
    "for i in ax.get_xticklabels():\n",
    "    x_mapping[str(i.get_text())] = i.get_position()[0]\n",
    "text_list = list(annotate_df[\"perturbation_id\"].values)\n",
    "x = []\n",
    "y = []\n",
    "for _, row in annotate_df.iterrows():\n",
    "    x.append(x_mapping[str(row[\"perturb_seq_pos\"])])\n",
    "    y.append(row[\"Human_pred_diff\"])\n",
    "ta.allocate(ax, x, y, text_list, \n",
    "            x_scatter=[x_mapping[str(i)] for i in x_mutation_df[\"perturb_seq_pos\"].values], \n",
    "            y_scatter=x_mutation_df[pred_diff_col].values, textsize=30)\n",
    "plt.show()"
   ]
  },
  {
   "cell_type": "code",
   "execution_count": null,
   "id": "3b4d7371",
   "metadata": {
    "scrolled": false
   },
   "outputs": [],
   "source": [
    "annotate_df"
   ]
  },
  {
   "cell_type": "markdown",
   "id": "e94bd143",
   "metadata": {},
   "source": [
    "### Mutations with new token NOT = X"
   ]
  },
  {
   "cell_type": "code",
   "execution_count": null,
   "id": "93ad150b",
   "metadata": {
    "scrolled": true
   },
   "outputs": [],
   "source": [
    "print(f\"New token != X = {non_x_mutation_df.shape}\")\n",
    "print(f\"Number of unique mutations = {non_x_mutation_df['perturbation_id'].nunique()}\")\n",
    "annotate_df_pos = non_x_mutation_df.sort_values(by=\"Human_pred_diff\", axis=0, ascending=False)[:10]\n",
    "annotate_df_neg = non_x_mutation_df.sort_values(\"Human_pred_diff\", axis=0)[:10]\n",
    "annotate_df = pd.concat([annotate_df_pos, annotate_df_neg])"
   ]
  },
  {
   "cell_type": "code",
   "execution_count": null,
   "id": "2d0e9634",
   "metadata": {
    "scrolled": true
   },
   "outputs": [],
   "source": [
    "plt.clf()\n",
    "plt.figure(figsize=(70, 20))\n",
    "plt.rcParams.update({'font.size': 20})\n",
    "plt.rcParams['xtick.labelsize'] = 20\n",
    "plt.rcParams['ytick.labelsize'] = 20\n",
    "\n",
    "ax = sns.stripplot(data=non_x_mutation_df, x=\"perturb_seq_pos\", y=\"Human_pred_diff\", hue=\"new_token\", orient=\"v\", s=15, linewidth=1)\n",
    "ax.figure.canvas.draw()\n",
    "plt.legend(bbox_to_anchor=(.8, -0.1), borderaxespad=2.0, markerscale=4., ncol=10, title=\"New Token\")\n",
    "ax.tick_params(axis='x', rotation=90)\n",
    "\n",
    "x_mapping = {}\n",
    "\n",
    "for i in ax.get_xticklabels():\n",
    "    x_mapping[str(i.get_text())] = i.get_position()[0]\n",
    "\n",
    "text_list = list(annotate_df[\"perturbation_id\"].values)\n",
    "x = []\n",
    "y = []\n",
    "for _, row in annotate_df.iterrows():\n",
    "    x.append(x_mapping[str(row[\"perturb_seq_pos\"])])\n",
    "    y.append(row[\"Human_pred_diff\"])\n",
    "\n",
    "ta.allocate(ax, x, y, text_list, \n",
    "            x_scatter=[x_mapping[str(i)] for i in non_x_mutation_df[\"perturb_seq_pos\"].values], \n",
    "            y_scatter=non_x_mutation_df[pred_diff_col].values, textsize=30)\n",
    "plt.show()"
   ]
  },
  {
   "cell_type": "code",
   "execution_count": null,
   "id": "ae43e1e1",
   "metadata": {
    "scrolled": true
   },
   "outputs": [],
   "source": [
    "cut_off_df_2[\"perturbation_id\"].nunique()"
   ]
  },
  {
   "cell_type": "code",
   "execution_count": null,
   "id": "3b19d5ad",
   "metadata": {
    "scrolled": true
   },
   "outputs": [],
   "source": [
    "plt.clf()\n",
    "plt.rcParams['xtick.labelsize'] = 30\n",
    "plt.rcParams['ytick.labelsize'] = 30\n",
    "plt.rcParams.update({'font.size': 30})\n",
    "\n",
    "perturbation_ids = cut_off_df_2.sort_values(\"perturb_seq_pos\")[\"perturbation_id\"].unique()\n",
    "fig, axs = plt.subplots(1, 1, figsize=(50, 80), sharex=False, sharey=True)\n",
    "\n",
    "bins = get_uniformly_divided_position_bins(list(perturbation_ids), 1)\n",
    "\n",
    "j = 0\n",
    "for i in range(1):\n",
    "    plot_df = cut_off_df_2[cut_off_df_2[\"perturbation_id\"].isin(bins[i])]\n",
    "    sns.boxplot(plot_df, x=\"perturbation_id\", y=pred_diff_col, ax=axs, orient=\"v\", order=bins[i],\n",
    "               boxprops={\"facecolor\": (.3, .5, .7, .5)})\n",
    "    axs.tick_params(axis='x', rotation=90)\n",
    "    j += 1\n",
    "    \n",
    "plt.tight_layout(pad=.2)\n",
    "plt.show()"
   ]
  },
  {
   "cell_type": "markdown",
   "id": "2fb02716",
   "metadata": {},
   "source": [
    "## Known Mutations"
   ]
  },
  {
   "cell_type": "code",
   "execution_count": null,
   "id": "dd8c3b07",
   "metadata": {
    "scrolled": true
   },
   "outputs": [],
   "source": [
    "s_mutations_file_path = os.path.join(os.getcwd(), \"..\", \"..\", \"..\", \"..\", \"..\", \"input/data/coronaviridae/20240313/wiv04/s_mutations.csv\")\n",
    "s_mutations_df = pd.read_csv(s_mutations_file_path)\n",
    "s_mutations_df[\"perturbation_id\"] = s_mutations_df[\"orig_token\"] + s_mutations_df[\"pos\"].astype(\"str\") + s_mutations_df[\"new_token\"]\n",
    "s_mutations_df"
   ]
  },
  {
   "cell_type": "code",
   "execution_count": null,
   "id": "18d31609",
   "metadata": {
    "scrolled": true
   },
   "outputs": [],
   "source": [
    "perturbed_output_df[\"perturbation_id\"] = perturbed_output_df.apply(lambda x: f\"{x['orig_token']}{x['perturb_seq_pos']}{x['new_token']}\", axis=1)"
   ]
  },
  {
   "cell_type": "code",
   "execution_count": null,
   "id": "855df1b2",
   "metadata": {
    "scrolled": true
   },
   "outputs": [],
   "source": [
    "known_mutations_df = perturbed_output_df[perturbed_output_df[\"perturbation_id\"].isin(s_mutations_df[\"perturbation_id\"])]\n",
    "known_mutations_stats = known_mutations_df[[\"uniprot_id\", \"perturbation_id\"]].groupby(\"perturbation_id\").count().reset_index()\n",
    "known_mutations_stats.rename(columns={\"uniprot_id\": \"n_unique_sequences\"}, inplace=True)\n",
    "known_mutations_stats[\"percentage\"] = known_mutations_stats[\"n_unique_sequences\"] / 94 * 100\n",
    "known_mutations_stats[\"label\"] = known_mutations_stats.apply(lambda x: f\"{x['perturbation_id']} (n={x['n_unique_sequences']} | {format(x['percentage'], '.2f')}%)\", axis=1)\n",
    "known_mutations_df = known_mutations_df.merge(known_mutations_stats[[\"perturbation_id\", \"label\"]], on=\"perturbation_id\")\n",
    "\n",
    "s_mutations_df = s_mutations_df.merge(known_mutations_stats[[\"perturbation_id\", \"label\"]], on=\"perturbation_id\")\n",
    "s_mutations_df"
   ]
  },
  {
   "cell_type": "code",
   "execution_count": null,
   "id": "6d89d13f",
   "metadata": {
    "scrolled": true
   },
   "outputs": [],
   "source": [
    "plt.clf()\n",
    "plt.figure(figsize=(40, 10))\n",
    "plt.rcParams.update({'font.size': 30})\n",
    "plt.rcParams['xtick.labelsize'] = 30\n",
    "plt.rcParams['ytick.labelsize'] = 30\n",
    "\n",
    "ax = sns.boxplot(data=known_mutations_df, x=\"label\", y=\"Human_pred_diff\", \n",
    "                 order=known_mutations_df.sort_values(\"perturb_seq_pos\")[\"label\"].unique(),\n",
    "                 boxprops={\"facecolor\": (.3, .5, .7, .5)})\n",
    "\n",
    "ax.tick_params(axis='x', rotation=90)\n",
    "plt.show()"
   ]
  },
  {
   "cell_type": "markdown",
   "id": "139f8479",
   "metadata": {},
   "source": [
    "### Identified and Known Mutations"
   ]
  },
  {
   "cell_type": "code",
   "execution_count": null,
   "id": "d0d264b3",
   "metadata": {
    "scrolled": true
   },
   "outputs": [],
   "source": [
    "identified_mutations = set(cut_off_df_2[\"perturbation_id\"].unique())\n",
    "known_mutations = set(s_mutations_df[\"perturbation_id\"].unique())\n",
    "print(f\"identified_mutations = {len(identified_mutations)}\")\n",
    "print(f\"known_mutations = {len(known_mutations)}\")\n",
    "print(f\"intersection = {identified_mutations.intersection(known_mutations)}\")\n",
    "intersection = list(identified_mutations.intersection(known_mutations))"
   ]
  },
  {
   "cell_type": "code",
   "execution_count": null,
   "id": "9035871a",
   "metadata": {
    "scrolled": true
   },
   "outputs": [],
   "source": [
    "plt.rcParams['xtick.labelsize'] = 30\n",
    "plt.rcParams['ytick.labelsize'] = 30\n",
    "plt.rcParams.update({'font.size': 30})\n",
    "fig, axs = plt.subplots(1, 2, figsize=(40, 10), sharex=True, sharey=True)\n",
    "\n",
    "j=0\n",
    "plot_dfs = []\n",
    "for i in intersection:\n",
    "    row = s_mutations_df[s_mutations_df[\"perturbation_id\"] == i]\n",
    "    plot_df = get_distribution_df(perturbed_output_df, \n",
    "                                    orig_token=row[\"orig_token\"].values[0],\n",
    "                                    perturb_pos=row[\"pos\"].values[0],\n",
    "                                    perturbation_id=i,\n",
    "                                    perturbation_id_label=row[\"label\"].values[0])\n",
    "    sns.kdeplot(data=plot_df, x=\"Human_pred_diff\", hue=\"type\", ax=axs[j], legend=True)\n",
    "    axs[j].set_title(row[\"label\"].values[0])\n",
    "    plot_dfs.append(plot_df)\n",
    "    j += 1\n",
    "#ax.legend(bbox_to_anchor=(1.05, 1), loc='upper left', fontsize=\"30\")\n",
    "plt.tight_layout()\n",
    "plt.show()\n"
   ]
  },
  {
   "cell_type": "code",
   "execution_count": null,
   "id": "1fd138e4",
   "metadata": {
    "scrolled": true
   },
   "outputs": [],
   "source": [
    "plt.clf()\n",
    "plt.figure(figsize=(20, 10))\n",
    "plt.rcParams.update({'font.size': 30})\n",
    "plt.rcParams['xtick.labelsize'] = 30\n",
    "plt.rcParams['ytick.labelsize'] = 30\n",
    "\n",
    "ax = sns.violinplot(pd.concat(plot_dfs), x=\"label\", y=\"Human_pred_diff\", hue=\"type\")\n",
    "#ax = (data=pd.concat(plot_dfs), x=\"perturbation_id\", y=\"Human_pred_diff\", hue=\"type\", notch=True)\n",
    "#ax.tick_params(axis='x', rotation=90)\n",
    "ax.legend(bbox_to_anchor=(.8, -0.1), fontsize=\"30\")\n",
    "plt.tight_layout(pad=.2)\n",
    "plt.show()"
   ]
  },
  {
   "cell_type": "code",
   "execution_count": null,
   "id": "c5feeb4d",
   "metadata": {
    "scrolled": true
   },
   "outputs": [],
   "source": [
    "plt.clf()\n",
    "plt.figure(figsize=(20, 10))\n",
    "plt.rcParams.update({'font.size': 30})\n",
    "plt.rcParams['xtick.labelsize'] = 30\n",
    "plt.rcParams['ytick.labelsize'] = 30\n",
    "\n",
    "ax = sns.boxplot(pd.concat(plot_dfs), x=\"label\", y=\"Human_pred_diff\", hue=\"type\", notch=True)\n",
    "#ax = (data=pd.concat(plot_dfs), x=\"perturbation_id\", y=\"Human_pred_diff\", hue=\"type\", notch=True)\n",
    "#ax.tick_params(axis='x', rotation=90)\n",
    "ax.legend(bbox_to_anchor=(.8, -0.1), fontsize=\"30\")\n",
    "plt.tight_layout(pad=.2)\n",
    "plt.show()"
   ]
  },
  {
   "cell_type": "code",
   "execution_count": null,
   "id": "969ae3cf",
   "metadata": {
    "scrolled": true
   },
   "outputs": [],
   "source": []
  }
 ],
 "metadata": {
  "kernelspec": {
   "display_name": "Python 3 (ipykernel)",
   "language": "python",
   "name": "python3"
  },
  "language_info": {
   "codemirror_mode": {
    "name": "ipython",
    "version": 3
   },
   "file_extension": ".py",
   "mimetype": "text/x-python",
   "name": "python",
   "nbconvert_exporter": "python",
   "pygments_lexer": "ipython3",
   "version": "3.8.12"
  }
 },
 "nbformat": 4,
 "nbformat_minor": 5
}
