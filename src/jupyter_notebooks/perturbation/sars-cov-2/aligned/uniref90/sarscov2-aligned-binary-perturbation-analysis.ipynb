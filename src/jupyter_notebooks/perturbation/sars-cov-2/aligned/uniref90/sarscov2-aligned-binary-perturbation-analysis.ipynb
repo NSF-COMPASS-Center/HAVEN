{
 "cells": [
  {
   "cell_type": "markdown",
   "id": "d941fa6e",
   "metadata": {},
   "source": [
    "## Perturbation of sequences\n",
    "### Dataset: SARS-CoV-2 aligned w.r.t WIV04\n",
    "### Number of sequences = 94 (93 + 1) \n",
    "### Model: VirProBERT (CoV-S-UniRef90, CoV-S-UniRef90-aligned) "
   ]
  },
  {
   "cell_type": "code",
   "execution_count": 1,
   "id": "f2b3c800",
   "metadata": {},
   "outputs": [
    {
     "data": {
      "text/plain": [
       "['/home/blessyantony/dev/git/zoonosis/src/jupyter_notebooks/perturbation/sars-cov-2/uniref90',\n",
       " '/opt/conda/lib/python38.zip',\n",
       " '/opt/conda/lib/python3.8',\n",
       " '/opt/conda/lib/python3.8/lib-dynload',\n",
       " '',\n",
       " '/home/blessyantony/.local/lib/python3.8/site-packages',\n",
       " '/opt/conda/lib/python3.8/site-packages',\n",
       " '/opt/conda/lib/python3.8/site-packages/IPython/extensions',\n",
       " '/home/blessyantony/.ipython',\n",
       " '/home/blessyantony/dev/git/zoonosis/src/jupyter_notebooks/perturbation/sars-cov-2/uniref90/../../..',\n",
       " '/home/blessyantony/dev/git/zoonosis/src/jupyter_notebooks/perturbation/sars-cov-2/uniref90/../..',\n",
       " '/home/blessyantony/dev/git/zoonosis/src/jupyter_notebooks/perturbation/sars-cov-2/uniref90/..']"
      ]
     },
     "execution_count": 1,
     "metadata": {},
     "output_type": "execute_result"
    }
   ],
   "source": [
    "import sys\n",
    "import os\n",
    "sys.path.append(os.path.join(os.getcwd(), \"..\", \"..\", \"..\"))\n",
    "sys.path.append(os.path.join(os.getcwd(), \"..\", \"..\"))\n",
    "sys.path.append(os.path.join(os.getcwd(), \"..\"))\n",
    "sys.path"
   ]
  },
  {
   "cell_type": "code",
   "execution_count": 2,
   "id": "989b37a7",
   "metadata": {},
   "outputs": [],
   "source": [
    "import pandas as pd\n",
    "import numpy as np\n",
    "import os\n",
    "import torch\n",
    "import torch.nn as nn\n",
    "import torch.nn.functional as F\n",
    "import re\n",
    "\n",
    "import matplotlib\n",
    "import matplotlib.pyplot as plt\n",
    "import seaborn as sns\n",
    "cmap = sns.color_palette(\"vlag\", as_cmap=True)\n",
    "\n",
    "from Bio import SeqIO\n",
    "from Bio.Seq import Seq\n",
    "from Bio import motifs\n"
   ]
  },
  {
   "cell_type": "code",
   "execution_count": 3,
   "id": "102b086d",
   "metadata": {},
   "outputs": [
    {
     "data": {
      "text/plain": [
       "94"
      ]
     },
     "execution_count": 3,
     "metadata": {},
     "output_type": "execute_result"
    }
   ],
   "source": [
    "human_label = \"Human\"\n",
    "pred_diff_col = f\"{human_label}_pred_diff\"\n",
    "perturbation_processed_output_dir = os.path.join(os.getcwd(), \"..\", \"..\", \"..\", \"..\", \"..\", \"output/raw/coronaviridae_s_prot_perturbation/20240320/sars-cov-2/cov-S-aligned-binary-transfer_learning_mlm_fnn_2l_lr1e-4/processed\")\n",
    "perturbation_output_files = os.listdir(perturbation_processed_output_dir)\n",
    "len(perturbation_output_files)"
   ]
  },
  {
   "cell_type": "code",
   "execution_count": 4,
   "id": "4a10f7ef",
   "metadata": {},
   "outputs": [],
   "source": [
    "perturbed_output_dfs = []\n",
    "for perturbation_output_file in perturbation_output_files:\n",
    "    df = pd.read_csv(os.path.join(perturbation_processed_output_dir, perturbation_output_file))\n",
    "    orig_seq_df = df[df[\"orig_token\"] == df[\"new_token\"]]\n",
    "    orig_pred_val = orig_seq_df[human_label].values[0]\n",
    "    df[pred_diff_col] = df[human_label] - orig_pred_val\n",
    "    df[f\"abs_{pred_diff_col}\"] = df[pred_diff_col].abs()\n",
    "    perturbed_output_dfs.append(df)\n",
    "perturbed_output_df = pd.concat(perturbed_output_dfs)"
   ]
  },
  {
   "cell_type": "code",
   "execution_count": 5,
   "id": "6a6b0584",
   "metadata": {
    "scrolled": true
   },
   "outputs": [
    {
     "name": "stdout",
     "output_type": "stream",
     "text": [
      "(2978369, 9)\n"
     ]
    },
    {
     "data": {
      "text/html": [
       "<div>\n",
       "<style scoped>\n",
       "    .dataframe tbody tr th:only-of-type {\n",
       "        vertical-align: middle;\n",
       "    }\n",
       "\n",
       "    .dataframe tbody tr th {\n",
       "        vertical-align: top;\n",
       "    }\n",
       "\n",
       "    .dataframe thead th {\n",
       "        text-align: right;\n",
       "    }\n",
       "</style>\n",
       "<table border=\"1\" class=\"dataframe\">\n",
       "  <thead>\n",
       "    <tr style=\"text-align: right;\">\n",
       "      <th></th>\n",
       "      <th>Human</th>\n",
       "      <th>Non-Human</th>\n",
       "      <th>uniref90_id</th>\n",
       "      <th>y_true</th>\n",
       "      <th>orig_token</th>\n",
       "      <th>perturb_pos</th>\n",
       "      <th>new_token</th>\n",
       "      <th>Human_pred_diff</th>\n",
       "      <th>abs_Human_pred_diff</th>\n",
       "    </tr>\n",
       "  </thead>\n",
       "  <tbody>\n",
       "    <tr>\n",
       "      <th>0</th>\n",
       "      <td>0.988160</td>\n",
       "      <td>0.011840</td>\n",
       "      <td>UniRef90_A0A8B6RAI1</td>\n",
       "      <td>Human</td>\n",
       "      <td>X</td>\n",
       "      <td>768</td>\n",
       "      <td>N</td>\n",
       "      <td>0.000013</td>\n",
       "      <td>0.000013</td>\n",
       "    </tr>\n",
       "    <tr>\n",
       "      <th>1</th>\n",
       "      <td>0.988147</td>\n",
       "      <td>0.011853</td>\n",
       "      <td>UniRef90_A0A8B6RAI1</td>\n",
       "      <td>Human</td>\n",
       "      <td>I</td>\n",
       "      <td>1718</td>\n",
       "      <td>B</td>\n",
       "      <td>0.000000</td>\n",
       "      <td>0.000000</td>\n",
       "    </tr>\n",
       "    <tr>\n",
       "      <th>2</th>\n",
       "      <td>0.988147</td>\n",
       "      <td>0.011853</td>\n",
       "      <td>UniRef90_A0A8B6RAI1</td>\n",
       "      <td>Human</td>\n",
       "      <td>R</td>\n",
       "      <td>1622</td>\n",
       "      <td>T</td>\n",
       "      <td>0.000000</td>\n",
       "      <td>0.000000</td>\n",
       "    </tr>\n",
       "    <tr>\n",
       "      <th>3</th>\n",
       "      <td>0.988334</td>\n",
       "      <td>0.011666</td>\n",
       "      <td>UniRef90_A0A8B6RAI1</td>\n",
       "      <td>Human</td>\n",
       "      <td>X</td>\n",
       "      <td>127</td>\n",
       "      <td>I</td>\n",
       "      <td>0.000186</td>\n",
       "      <td>0.000186</td>\n",
       "    </tr>\n",
       "    <tr>\n",
       "      <th>4</th>\n",
       "      <td>0.988147</td>\n",
       "      <td>0.011853</td>\n",
       "      <td>UniRef90_A0A8B6RAI1</td>\n",
       "      <td>Human</td>\n",
       "      <td>A</td>\n",
       "      <td>1691</td>\n",
       "      <td>H</td>\n",
       "      <td>0.000000</td>\n",
       "      <td>0.000000</td>\n",
       "    </tr>\n",
       "  </tbody>\n",
       "</table>\n",
       "</div>"
      ],
      "text/plain": [
       "      Human  Non-Human          uniref90_id y_true orig_token  perturb_pos  \\\n",
       "0  0.988160   0.011840  UniRef90_A0A8B6RAI1  Human          X          768   \n",
       "1  0.988147   0.011853  UniRef90_A0A8B6RAI1  Human          I         1718   \n",
       "2  0.988147   0.011853  UniRef90_A0A8B6RAI1  Human          R         1622   \n",
       "3  0.988334   0.011666  UniRef90_A0A8B6RAI1  Human          X          127   \n",
       "4  0.988147   0.011853  UniRef90_A0A8B6RAI1  Human          A         1691   \n",
       "\n",
       "  new_token  Human_pred_diff  abs_Human_pred_diff  \n",
       "0         N         0.000013             0.000013  \n",
       "1         B         0.000000             0.000000  \n",
       "2         T         0.000000             0.000000  \n",
       "3         I         0.000186             0.000186  \n",
       "4         H         0.000000             0.000000  "
      ]
     },
     "execution_count": 5,
     "metadata": {},
     "output_type": "execute_result"
    }
   ],
   "source": [
    "print(perturbed_output_df.shape)\n",
    "perturbed_output_df.head()"
   ]
  },
  {
   "cell_type": "markdown",
   "id": "93823a3e",
   "metadata": {},
   "source": [
    "### WIV04 reference sequence"
   ]
  },
  {
   "cell_type": "code",
   "execution_count": 6,
   "id": "ebc02852",
   "metadata": {},
   "outputs": [
    {
     "data": {
      "text/html": [
       "<div>\n",
       "<style scoped>\n",
       "    .dataframe tbody tr th:only-of-type {\n",
       "        vertical-align: middle;\n",
       "    }\n",
       "\n",
       "    .dataframe tbody tr th {\n",
       "        vertical-align: top;\n",
       "    }\n",
       "\n",
       "    .dataframe thead th {\n",
       "        text-align: right;\n",
       "    }\n",
       "</style>\n",
       "<table border=\"1\" class=\"dataframe\">\n",
       "  <thead>\n",
       "    <tr style=\"text-align: right;\">\n",
       "      <th></th>\n",
       "      <th>uniref90_id</th>\n",
       "      <th>aligned_seq</th>\n",
       "      <th>seq</th>\n",
       "      <th>virus_name</th>\n",
       "      <th>virus_host_name</th>\n",
       "      <th>human_binary_label</th>\n",
       "    </tr>\n",
       "  </thead>\n",
       "  <tbody>\n",
       "    <tr>\n",
       "      <th>0</th>\n",
       "      <td>WIV04</td>\n",
       "      <td>--------------MFVFLVLLPLVSS--------Q----------...</td>\n",
       "      <td>MFVFLVLLPLVSSQCVNLTTRTQLPPAYTNSFTRGVYYPDKVFRSS...</td>\n",
       "      <td>WIV04(MN996528.1) Wuhan variant index virus</td>\n",
       "      <td>homo sapiens</td>\n",
       "      <td>homo sapiens</td>\n",
       "    </tr>\n",
       "  </tbody>\n",
       "</table>\n",
       "</div>"
      ],
      "text/plain": [
       "  uniref90_id                                        aligned_seq  \\\n",
       "0       WIV04  --------------MFVFLVLLPLVSS--------Q----------...   \n",
       "\n",
       "                                                 seq  \\\n",
       "0  MFVFLVLLPLVSSQCVNLTTRTQLPPAYTNSFTRGVYYPDKVFRSS...   \n",
       "\n",
       "                                    virus_name virus_host_name  \\\n",
       "0  WIV04(MN996528.1) Wuhan variant index virus    homo sapiens   \n",
       "\n",
       "  human_binary_label  \n",
       "0       homo sapiens  "
      ]
     },
     "execution_count": 6,
     "metadata": {},
     "output_type": "execute_result"
    }
   ],
   "source": [
    "wiv04_aligned_file_path = os.path.join(os.getcwd(), \"..\", \"..\", \"..\", \"..\", \"..\",  \"input/data/coronaviridae/20240313/uniref/aligned/coronaviridae_s_uniref90_embl_hosts_pruned_metadata_corrected_species_virus_host_vertebrates_w_seq_t0.01_c8_aligned.csv\")\n",
    "wiv04_df = pd.read_csv(wiv04_aligned_file_path)\n",
    "wiv04_df = wiv04_df[wiv04_df[\"uniref90_id\"] == \"WIV04\"]\n",
    "wiv04_df.head()"
   ]
  },
  {
   "cell_type": "code",
   "execution_count": 7,
   "id": "e36fda93",
   "metadata": {},
   "outputs": [
    {
     "data": {
      "text/plain": [
       "'--------------MFVFLVLLPLVSS--------Q----------------CVN--------LTTRTQLPPAY----TNSFTRGVYYPDKVFRSSVLHSTQDLFLPF----------------FSNVTWFHAIHVSGT---------------NGTKRFDNPVLPFN-DGVYFASTEK---------SNIIRGWIFGTTLDSKTQSLLIVNNAT---------------------------N--------------------------VVIKVCEFQ----------------------FCNDPFLG-----VYYHKNNK------------SWMESEFRVY-----------------------------------------------------------------------------SSANNC--TFEYVSQPFLM------------DLEGKQG-NFKNLREFV------------------------------------------------------------------------------------------------------------------------------------------------------------------F-----------KNID-------------GYFKIYSKHTPIN--LVRDLPQGFSALEPLVDLPIGINITRFQTLLALHRSYLTPGDSSSGWTAGAAAYYVGYLQPRTFLLKYNENGTITDAVDCALDPLSETKCTLKSFTVEKGIY------QTSNFRVQPTESIVRF----------------------------------------------------PNITNLCPFGEVFNATRF-ASVY--AWNRKRI----------SNCVADY--------------------------------------SVLYN----SASFST--------------------------------FKCYGVSP------------TKLND-LCFT---NVYAD---------------SF-----------------------------VIRGDEVRQI-------APG------------QTGKIA---DYNY---KLPDDFTGCVI-----------------------------------------------------------------AWNSN-------------------------------NLDSKVGGNYN---YLYRLFRKSNLKPF--------ERDISTEIYQAGSTPCN-----------------GVEGFNC-----YFPLQSY----------------------------GFQPT-------------------------------------------------NGVGYQPY-------------------RVVVLSFE----LLHAPA---TVCG---------------------------------PKKSTNLVKNKCVNFNFNGLTGTGVLTESNKKFLPF-----------------QQFGRDIADTTDAV--RDPQTLEILDITPCSFGGVSVITP-----GTNTSNQVAVLYQDVNCTEVPVAI-------HADQLTPTWRVYSTGS--NVFQTRAGCLIGAEHVN--NSYECDIPI----GAGICASYQTQTN-SPRRARSVASQSIIAYTMSLGAENSVAYSNN---------SIAIPTNFTISVTTEILPVSMTKTSVD-CTMYICGDSTECSNLLLQYGSFCTQLNRALTGIAVEQDKNTQEVFAQVKQI--YKTPPIKDF-----------------GGF-------NFSQILPDPSK-----PSKRSFIEDLLFNKVTLADAGFIKQ-YGDCLGDI---AARDLICAQKFNGLTVLPPLLTD-EM-IAQYTSALLAGTITSGWTFG--AGAAL-QIPFAMQMAYRFNGIGVTQNVLYENQKLIANQFNSAIGKI--------------QDSLSSTASALGKLQDVVNQNAQALNTLVKQLSSNFGAISSVLND--ILSRLDKVEAEVQIDRLITGRLQSLQTYVTQQLIRAAEIRASANLAATKMSECVLGQSKRVDFC-GKGYHLMSFPQSAPHGVVFLHVTYVPAQEKNFTTAPAIC---------HDGKAHFPRE---GVFVS-----NGTHWFVTQRNFYEPQIITTDNTFVSGNCDVVIGIVNNTVYDPLQPEL----DSFKEELDKYFKNHTSPDVDLGDIS-GINASV--VNIQKEID--------------RLNEVAKNLNESLIDLQELGKYEQYIKWPWYIWLGFIAGLIAIVMVTIML-CCMTS-----CCS-----------CLKG------------CCSCGSCCKFD-----------EDDSEPVLKGVKLHYT--'"
      ]
     },
     "execution_count": 7,
     "metadata": {},
     "output_type": "execute_result"
    }
   ],
   "source": [
    "wiv04_aligned_seq = wiv04_df[\"aligned_seq\"].values[0]\n",
    "wiv04_aligned_seq"
   ]
  },
  {
   "cell_type": "code",
   "execution_count": 8,
   "id": "a6158bf4",
   "metadata": {},
   "outputs": [],
   "source": [
    "wiv04_position_mapping = {}\n",
    "pos = 0\n",
    "for i, token in enumerate(wiv04_aligned_seq):\n",
    "    if token == \"-\":\n",
    "        continue\n",
    "    else:\n",
    "        pos += 1\n",
    "        wiv04_position_mapping[i] = pos\n",
    "        \n",
    "try:\n",
    "    perturbed_output_df[\"perturb_seq_pos\"] = perturbed_output_df[\"perturb_pos\"].apply(lambda x: int(wiv04_position_mapping[x]) if x in wiv04_position_mapping else None)\n",
    "except: \n",
    "    pass"
   ]
  },
  {
   "cell_type": "markdown",
   "id": "a2fdbc97",
   "metadata": {},
   "source": [
    "### Distribution of prediction difference values"
   ]
  },
  {
   "cell_type": "code",
   "execution_count": 9,
   "id": "71669f9a",
   "metadata": {},
   "outputs": [
    {
     "name": "stderr",
     "output_type": "stream",
     "text": [
      "/tmp/ipykernel_3244821/2860024834.py:5: UserWarning: \n",
      "\n",
      "`distplot` is a deprecated function and will be removed in seaborn v0.14.0.\n",
      "\n",
      "Please adapt your code to use either `displot` (a figure-level function with\n",
      "similar flexibility) or `histplot` (an axes-level function for histograms).\n",
      "\n",
      "For a guide to updating your code to use the new functions, please see\n",
      "https://gist.github.com/mwaskom/de44147ed2974457ad6372750bbe5751\n",
      "\n",
      "  sns.distplot(perturbed_output_df[\"Human_pred_diff\"])\n"
     ]
    },
    {
     "data": {
      "text/plain": [
       "<Figure size 432x288 with 0 Axes>"
      ]
     },
     "metadata": {},
     "output_type": "display_data"
    },
    {
     "data": {
      "image/png": "[encoded data removed]",
      "text/plain": [
       "<Figure size 3456x1152 with 1 Axes>"
      ]
     },
     "metadata": {
      "needs_background": "light"
     },
     "output_type": "display_data"
    }
   ],
   "source": [
    "plt.clf()\n",
    "plt.figure(figsize=(48, 16))\n",
    "plt.rcParams['xtick.labelsize'] = 24\n",
    "plt.rcParams['ytick.labelsize'] = 24\n",
    "sns.distplot(perturbed_output_df[\"Human_pred_diff\"])\n",
    "plt.show()"
   ]
  },
  {
   "cell_type": "code",
   "execution_count": 10,
   "id": "c05f995d",
   "metadata": {},
   "outputs": [
    {
     "data": {
      "text/html": [
       "<div>\n",
       "<style scoped>\n",
       "    .dataframe tbody tr th:only-of-type {\n",
       "        vertical-align: middle;\n",
       "    }\n",
       "\n",
       "    .dataframe tbody tr th {\n",
       "        vertical-align: top;\n",
       "    }\n",
       "\n",
       "    .dataframe thead th {\n",
       "        text-align: right;\n",
       "    }\n",
       "</style>\n",
       "<table border=\"1\" class=\"dataframe\">\n",
       "  <thead>\n",
       "    <tr style=\"text-align: right;\">\n",
       "      <th></th>\n",
       "      <th>start</th>\n",
       "      <th>end</th>\n",
       "      <th>count</th>\n",
       "      <th>percentage</th>\n",
       "    </tr>\n",
       "  </thead>\n",
       "  <tbody>\n",
       "    <tr>\n",
       "      <th>0</th>\n",
       "      <td>-0.720684</td>\n",
       "      <td>-0.658142</td>\n",
       "      <td>6</td>\n",
       "      <td>0.000201</td>\n",
       "    </tr>\n",
       "    <tr>\n",
       "      <th>1</th>\n",
       "      <td>-0.658142</td>\n",
       "      <td>-0.595600</td>\n",
       "      <td>5</td>\n",
       "      <td>0.000168</td>\n",
       "    </tr>\n",
       "    <tr>\n",
       "      <th>2</th>\n",
       "      <td>-0.595600</td>\n",
       "      <td>-0.533057</td>\n",
       "      <td>19</td>\n",
       "      <td>0.000638</td>\n",
       "    </tr>\n",
       "    <tr>\n",
       "      <th>3</th>\n",
       "      <td>-0.533057</td>\n",
       "      <td>-0.470515</td>\n",
       "      <td>14</td>\n",
       "      <td>0.000470</td>\n",
       "    </tr>\n",
       "    <tr>\n",
       "      <th>4</th>\n",
       "      <td>-0.470515</td>\n",
       "      <td>-0.407973</td>\n",
       "      <td>19</td>\n",
       "      <td>0.000638</td>\n",
       "    </tr>\n",
       "    <tr>\n",
       "      <th>5</th>\n",
       "      <td>-0.407973</td>\n",
       "      <td>-0.345430</td>\n",
       "      <td>34</td>\n",
       "      <td>0.001142</td>\n",
       "    </tr>\n",
       "    <tr>\n",
       "      <th>6</th>\n",
       "      <td>-0.345430</td>\n",
       "      <td>-0.282888</td>\n",
       "      <td>43</td>\n",
       "      <td>0.001444</td>\n",
       "    </tr>\n",
       "    <tr>\n",
       "      <th>7</th>\n",
       "      <td>-0.282888</td>\n",
       "      <td>-0.220346</td>\n",
       "      <td>74</td>\n",
       "      <td>0.002485</td>\n",
       "    </tr>\n",
       "    <tr>\n",
       "      <th>8</th>\n",
       "      <td>-0.220346</td>\n",
       "      <td>-0.157803</td>\n",
       "      <td>52</td>\n",
       "      <td>0.001746</td>\n",
       "    </tr>\n",
       "    <tr>\n",
       "      <th>9</th>\n",
       "      <td>-0.157803</td>\n",
       "      <td>-0.095261</td>\n",
       "      <td>41</td>\n",
       "      <td>0.001377</td>\n",
       "    </tr>\n",
       "    <tr>\n",
       "      <th>10</th>\n",
       "      <td>-0.095261</td>\n",
       "      <td>-0.032719</td>\n",
       "      <td>150</td>\n",
       "      <td>0.005036</td>\n",
       "    </tr>\n",
       "    <tr>\n",
       "      <th>11</th>\n",
       "      <td>-0.032719</td>\n",
       "      <td>0.029824</td>\n",
       "      <td>2977912</td>\n",
       "      <td>99.984656</td>\n",
       "    </tr>\n",
       "  </tbody>\n",
       "</table>\n",
       "</div>"
      ],
      "text/plain": [
       "       start       end    count  percentage\n",
       "0  -0.720684 -0.658142        6    0.000201\n",
       "1  -0.658142 -0.595600        5    0.000168\n",
       "2  -0.595600 -0.533057       19    0.000638\n",
       "3  -0.533057 -0.470515       14    0.000470\n",
       "4  -0.470515 -0.407973       19    0.000638\n",
       "5  -0.407973 -0.345430       34    0.001142\n",
       "6  -0.345430 -0.282888       43    0.001444\n",
       "7  -0.282888 -0.220346       74    0.002485\n",
       "8  -0.220346 -0.157803       52    0.001746\n",
       "9  -0.157803 -0.095261       41    0.001377\n",
       "10 -0.095261 -0.032719      150    0.005036\n",
       "11 -0.032719  0.029824  2977912   99.984656"
      ]
     },
     "execution_count": 10,
     "metadata": {},
     "output_type": "execute_result"
    }
   ],
   "source": [
    "n_bins = 12\n",
    "n = perturbed_output_df.shape[0]\n",
    "freq, bins = np.histogram(perturbed_output_df[pred_diff_col], bins=n_bins)\n",
    "hist_map = []\n",
    "for i in range(n_bins):\n",
    "    hist_map.append({\"start\": bins[i], \"end\":bins[i+1], \"count\": freq[i], \"percentage\": freq[i]/n*100})\n",
    "    \n",
    "hist_df = pd.DataFrame(hist_map)\n",
    "hist_df.head(20)"
   ]
  },
  {
   "cell_type": "code",
   "execution_count": 11,
   "id": "eb65b86e",
   "metadata": {},
   "outputs": [
    {
     "name": "stdout",
     "output_type": "stream",
     "text": [
      "Number of sequences = 301\n",
      "Number of unique positions = 6\n",
      "Unique positions = [402. 401. 409. 403. 452. 458.]\n"
     ]
    }
   ],
   "source": [
    "perturbed_output_df_selected = perturbed_output_df[perturbed_output_df[f\"abs_{pred_diff_col}\"] > 0.1]\n",
    "print(f\"Number of sequences = {perturbed_output_df_selected.shape[0]}\")\n",
    "print(f\"Number of unique positions = {len(perturbed_output_df_selected['perturb_seq_pos'].unique())}\")\n",
    "print(f\"Unique positions = {perturbed_output_df_selected['perturb_seq_pos'].unique()}\")"
   ]
  },
  {
   "cell_type": "code",
   "execution_count": 12,
   "id": "0c74bb1e",
   "metadata": {},
   "outputs": [
    {
     "name": "stderr",
     "output_type": "stream",
     "text": [
      "/tmp/ipykernel_3244821/2695115289.py:1: SettingWithCopyWarning: \n",
      "A value is trying to be set on a copy of a slice from a DataFrame.\n",
      "Try using .loc[row_indexer,col_indexer] = value instead\n",
      "\n",
      "See the caveats in the documentation: https://pandas.pydata.org/pandas-docs/stable/user_guide/indexing.html#returning-a-view-versus-a-copy\n",
      "  perturbed_output_df_selected[\"experiment\"] = \"sarscov2-uniref90-aligned-binary\"\n"
     ]
    }
   ],
   "source": [
    "perturbed_output_df_selected[\"experiment\"] = \"sarscov2-uniref90-aligned-binary\"\n",
    "perturbation_selected_output_file_path = os.path.join(os.getcwd(), \"..\", \"..\", \"..\", \"..\", \"..\", \"output/raw/coronaviridae_s_prot_perturbation/20240320/sars-cov-2/analysis/uniref90_aligned_binary.csv\")\n",
    "perturbed_output_df_selected.to_csv(perturbation_selected_output_file_path, index=False)"
   ]
  },
  {
   "cell_type": "markdown",
   "id": "efbfe2b6",
   "metadata": {},
   "source": [
    "### Top 10 perturbations with highest change in prediction probability"
   ]
  },
  {
   "cell_type": "code",
   "execution_count": 13,
   "id": "169502a4",
   "metadata": {},
   "outputs": [
    {
     "data": {
      "text/html": [
       "<div>\n",
       "<style scoped>\n",
       "    .dataframe tbody tr th:only-of-type {\n",
       "        vertical-align: middle;\n",
       "    }\n",
       "\n",
       "    .dataframe tbody tr th {\n",
       "        vertical-align: top;\n",
       "    }\n",
       "\n",
       "    .dataframe thead th {\n",
       "        text-align: right;\n",
       "    }\n",
       "</style>\n",
       "<table border=\"1\" class=\"dataframe\">\n",
       "  <thead>\n",
       "    <tr style=\"text-align: right;\">\n",
       "      <th></th>\n",
       "      <th>Human</th>\n",
       "      <th>Non-Human</th>\n",
       "      <th>uniref90_id</th>\n",
       "      <th>y_true</th>\n",
       "      <th>orig_token</th>\n",
       "      <th>perturb_pos</th>\n",
       "      <th>new_token</th>\n",
       "      <th>Human_pred_diff</th>\n",
       "      <th>abs_Human_pred_diff</th>\n",
       "      <th>perturb_seq_pos</th>\n",
       "      <th>experiment</th>\n",
       "    </tr>\n",
       "  </thead>\n",
       "  <tbody>\n",
       "    <tr>\n",
       "      <th>29169</th>\n",
       "      <td>0.256521</td>\n",
       "      <td>0.743479</td>\n",
       "      <td>UniRef90_A0A8B6RNC0</td>\n",
       "      <td>Human</td>\n",
       "      <td>I</td>\n",
       "      <td>1069</td>\n",
       "      <td>L</td>\n",
       "      <td>-0.720684</td>\n",
       "      <td>0.720684</td>\n",
       "      <td>402.0</td>\n",
       "      <td>sarscov2-uniref90-aligned-binary</td>\n",
       "    </tr>\n",
       "    <tr>\n",
       "      <th>26323</th>\n",
       "      <td>0.261708</td>\n",
       "      <td>0.738292</td>\n",
       "      <td>UniRef90_A0A8B1JB63</td>\n",
       "      <td>Human</td>\n",
       "      <td>V</td>\n",
       "      <td>1068</td>\n",
       "      <td>L</td>\n",
       "      <td>-0.715977</td>\n",
       "      <td>0.715977</td>\n",
       "      <td>401.0</td>\n",
       "      <td>sarscov2-uniref90-aligned-binary</td>\n",
       "    </tr>\n",
       "    <tr>\n",
       "      <th>20033</th>\n",
       "      <td>0.264555</td>\n",
       "      <td>0.735445</td>\n",
       "      <td>UniRef90_A0A8B6RNC0</td>\n",
       "      <td>Human</td>\n",
       "      <td>V</td>\n",
       "      <td>1068</td>\n",
       "      <td>L</td>\n",
       "      <td>-0.712650</td>\n",
       "      <td>0.712650</td>\n",
       "      <td>401.0</td>\n",
       "      <td>sarscov2-uniref90-aligned-binary</td>\n",
       "    </tr>\n",
       "    <tr>\n",
       "      <th>23461</th>\n",
       "      <td>0.266514</td>\n",
       "      <td>0.733486</td>\n",
       "      <td>UniRef90_A0A8B1JB63</td>\n",
       "      <td>Human</td>\n",
       "      <td>I</td>\n",
       "      <td>1069</td>\n",
       "      <td>L</td>\n",
       "      <td>-0.711171</td>\n",
       "      <td>0.711171</td>\n",
       "      <td>402.0</td>\n",
       "      <td>sarscov2-uniref90-aligned-binary</td>\n",
       "    </tr>\n",
       "    <tr>\n",
       "      <th>18579</th>\n",
       "      <td>0.310273</td>\n",
       "      <td>0.689727</td>\n",
       "      <td>UniRef90_A0A8B1JIJ6</td>\n",
       "      <td>Human</td>\n",
       "      <td>V</td>\n",
       "      <td>1068</td>\n",
       "      <td>L</td>\n",
       "      <td>-0.669402</td>\n",
       "      <td>0.669402</td>\n",
       "      <td>401.0</td>\n",
       "      <td>sarscov2-uniref90-aligned-binary</td>\n",
       "    </tr>\n",
       "    <tr>\n",
       "      <th>25791</th>\n",
       "      <td>0.320661</td>\n",
       "      <td>0.679339</td>\n",
       "      <td>UniRef90_A0A8B1JIJ6</td>\n",
       "      <td>Human</td>\n",
       "      <td>I</td>\n",
       "      <td>1069</td>\n",
       "      <td>L</td>\n",
       "      <td>-0.659014</td>\n",
       "      <td>0.659014</td>\n",
       "      <td>402.0</td>\n",
       "      <td>sarscov2-uniref90-aligned-binary</td>\n",
       "    </tr>\n",
       "    <tr>\n",
       "      <th>9781</th>\n",
       "      <td>0.336345</td>\n",
       "      <td>0.663655</td>\n",
       "      <td>WIV04</td>\n",
       "      <td>Human</td>\n",
       "      <td>V</td>\n",
       "      <td>1068</td>\n",
       "      <td>L</td>\n",
       "      <td>-0.641858</td>\n",
       "      <td>0.641858</td>\n",
       "      <td>401.0</td>\n",
       "      <td>sarscov2-uniref90-aligned-binary</td>\n",
       "    </tr>\n",
       "    <tr>\n",
       "      <th>30002</th>\n",
       "      <td>0.344989</td>\n",
       "      <td>0.655011</td>\n",
       "      <td>UniRef90_A0A8B1JR91</td>\n",
       "      <td>Human</td>\n",
       "      <td>V</td>\n",
       "      <td>1068</td>\n",
       "      <td>L</td>\n",
       "      <td>-0.637040</td>\n",
       "      <td>0.637040</td>\n",
       "      <td>401.0</td>\n",
       "      <td>sarscov2-uniref90-aligned-binary</td>\n",
       "    </tr>\n",
       "    <tr>\n",
       "      <th>19600</th>\n",
       "      <td>0.361662</td>\n",
       "      <td>0.638338</td>\n",
       "      <td>WIV04</td>\n",
       "      <td>Human</td>\n",
       "      <td>I</td>\n",
       "      <td>1069</td>\n",
       "      <td>L</td>\n",
       "      <td>-0.616540</td>\n",
       "      <td>0.616540</td>\n",
       "      <td>402.0</td>\n",
       "      <td>sarscov2-uniref90-aligned-binary</td>\n",
       "    </tr>\n",
       "    <tr>\n",
       "      <th>25636</th>\n",
       "      <td>0.368444</td>\n",
       "      <td>0.631556</td>\n",
       "      <td>UniRef90_A0A8B1JR91</td>\n",
       "      <td>Human</td>\n",
       "      <td>I</td>\n",
       "      <td>1069</td>\n",
       "      <td>L</td>\n",
       "      <td>-0.613585</td>\n",
       "      <td>0.613585</td>\n",
       "      <td>402.0</td>\n",
       "      <td>sarscov2-uniref90-aligned-binary</td>\n",
       "    </tr>\n",
       "  </tbody>\n",
       "</table>\n",
       "</div>"
      ],
      "text/plain": [
       "          Human  Non-Human          uniref90_id y_true orig_token  \\\n",
       "29169  0.256521   0.743479  UniRef90_A0A8B6RNC0  Human          I   \n",
       "26323  0.261708   0.738292  UniRef90_A0A8B1JB63  Human          V   \n",
       "20033  0.264555   0.735445  UniRef90_A0A8B6RNC0  Human          V   \n",
       "23461  0.266514   0.733486  UniRef90_A0A8B1JB63  Human          I   \n",
       "18579  0.310273   0.689727  UniRef90_A0A8B1JIJ6  Human          V   \n",
       "25791  0.320661   0.679339  UniRef90_A0A8B1JIJ6  Human          I   \n",
       "9781   0.336345   0.663655                WIV04  Human          V   \n",
       "30002  0.344989   0.655011  UniRef90_A0A8B1JR91  Human          V   \n",
       "19600  0.361662   0.638338                WIV04  Human          I   \n",
       "25636  0.368444   0.631556  UniRef90_A0A8B1JR91  Human          I   \n",
       "\n",
       "       perturb_pos new_token  Human_pred_diff  abs_Human_pred_diff  \\\n",
       "29169         1069         L        -0.720684             0.720684   \n",
       "26323         1068         L        -0.715977             0.715977   \n",
       "20033         1068         L        -0.712650             0.712650   \n",
       "23461         1069         L        -0.711171             0.711171   \n",
       "18579         1068         L        -0.669402             0.669402   \n",
       "25791         1069         L        -0.659014             0.659014   \n",
       "9781          1068         L        -0.641858             0.641858   \n",
       "30002         1068         L        -0.637040             0.637040   \n",
       "19600         1069         L        -0.616540             0.616540   \n",
       "25636         1069         L        -0.613585             0.613585   \n",
       "\n",
       "       perturb_seq_pos                        experiment  \n",
       "29169            402.0  sarscov2-uniref90-aligned-binary  \n",
       "26323            401.0  sarscov2-uniref90-aligned-binary  \n",
       "20033            401.0  sarscov2-uniref90-aligned-binary  \n",
       "23461            402.0  sarscov2-uniref90-aligned-binary  \n",
       "18579            401.0  sarscov2-uniref90-aligned-binary  \n",
       "25791            402.0  sarscov2-uniref90-aligned-binary  \n",
       "9781             401.0  sarscov2-uniref90-aligned-binary  \n",
       "30002            401.0  sarscov2-uniref90-aligned-binary  \n",
       "19600            402.0  sarscov2-uniref90-aligned-binary  \n",
       "25636            402.0  sarscov2-uniref90-aligned-binary  "
      ]
     },
     "execution_count": 13,
     "metadata": {},
     "output_type": "execute_result"
    }
   ],
   "source": [
    "perturbed_output_df_selected.sort_values(by=\"abs_Human_pred_diff\", ascending=False).head(10)\n"
   ]
  },
  {
   "cell_type": "code",
   "execution_count": 14,
   "id": "74305ef4",
   "metadata": {},
   "outputs": [
    {
     "name": "stderr",
     "output_type": "stream",
     "text": [
      "/tmp/ipykernel_3244821/2825421286.py:1: SettingWithCopyWarning: \n",
      "A value is trying to be set on a copy of a slice from a DataFrame.\n",
      "Try using .loc[row_indexer,col_indexer] = value instead\n",
      "\n",
      "See the caveats in the documentation: https://pandas.pydata.org/pandas-docs/stable/user_guide/indexing.html#returning-a-view-versus-a-copy\n",
      "  perturbed_output_df_selected[\"perturbation_id\"] = perturbed_output_df_selected.apply(lambda x: f\"{x['perturb_seq_pos']}_{x['new_token']}\", axis=1)\n"
     ]
    },
    {
     "data": {
      "text/html": [
       "<div>\n",
       "<style scoped>\n",
       "    .dataframe tbody tr th:only-of-type {\n",
       "        vertical-align: middle;\n",
       "    }\n",
       "\n",
       "    .dataframe tbody tr th {\n",
       "        vertical-align: top;\n",
       "    }\n",
       "\n",
       "    .dataframe thead th {\n",
       "        text-align: right;\n",
       "    }\n",
       "</style>\n",
       "<table border=\"1\" class=\"dataframe\">\n",
       "  <thead>\n",
       "    <tr style=\"text-align: right;\">\n",
       "      <th></th>\n",
       "      <th>Human</th>\n",
       "      <th>Non-Human</th>\n",
       "      <th>uniref90_id</th>\n",
       "      <th>y_true</th>\n",
       "      <th>orig_token</th>\n",
       "      <th>perturb_pos</th>\n",
       "      <th>new_token</th>\n",
       "      <th>Human_pred_diff</th>\n",
       "      <th>abs_Human_pred_diff</th>\n",
       "      <th>perturb_seq_pos</th>\n",
       "      <th>experiment</th>\n",
       "      <th>perturbation_id</th>\n",
       "    </tr>\n",
       "  </thead>\n",
       "  <tbody>\n",
       "    <tr>\n",
       "      <th>2978</th>\n",
       "      <td>0.590175</td>\n",
       "      <td>0.409825</td>\n",
       "      <td>UniRef90_A0A8B6RAI1</td>\n",
       "      <td>Human</td>\n",
       "      <td>I</td>\n",
       "      <td>1069</td>\n",
       "      <td>L</td>\n",
       "      <td>-0.397972</td>\n",
       "      <td>0.397972</td>\n",
       "      <td>402.0</td>\n",
       "      <td>sarscov2-uniref90-aligned-binary</td>\n",
       "      <td>402.0_L</td>\n",
       "    </tr>\n",
       "    <tr>\n",
       "      <th>15899</th>\n",
       "      <td>0.571952</td>\n",
       "      <td>0.428048</td>\n",
       "      <td>UniRef90_A0A8B6RAI1</td>\n",
       "      <td>Human</td>\n",
       "      <td>V</td>\n",
       "      <td>1068</td>\n",
       "      <td>L</td>\n",
       "      <td>-0.416195</td>\n",
       "      <td>0.416195</td>\n",
       "      <td>401.0</td>\n",
       "      <td>sarscov2-uniref90-aligned-binary</td>\n",
       "      <td>401.0_L</td>\n",
       "    </tr>\n",
       "    <tr>\n",
       "      <th>20944</th>\n",
       "      <td>0.863793</td>\n",
       "      <td>0.136207</td>\n",
       "      <td>UniRef90_A0A8B6RAI1</td>\n",
       "      <td>Human</td>\n",
       "      <td>Q</td>\n",
       "      <td>1076</td>\n",
       "      <td>L</td>\n",
       "      <td>-0.124355</td>\n",
       "      <td>0.124355</td>\n",
       "      <td>409.0</td>\n",
       "      <td>sarscov2-uniref90-aligned-binary</td>\n",
       "      <td>409.0_L</td>\n",
       "    </tr>\n",
       "    <tr>\n",
       "      <th>28984</th>\n",
       "      <td>0.741563</td>\n",
       "      <td>0.258438</td>\n",
       "      <td>UniRef90_A0A8B6RAI1</td>\n",
       "      <td>Human</td>\n",
       "      <td>R</td>\n",
       "      <td>1070</td>\n",
       "      <td>L</td>\n",
       "      <td>-0.246585</td>\n",
       "      <td>0.246585</td>\n",
       "      <td>403.0</td>\n",
       "      <td>sarscov2-uniref90-aligned-binary</td>\n",
       "      <td>403.0_L</td>\n",
       "    </tr>\n",
       "    <tr>\n",
       "      <th>9976</th>\n",
       "      <td>0.852662</td>\n",
       "      <td>0.147338</td>\n",
       "      <td>UniRef90_A0A8B6RJG7</td>\n",
       "      <td>Human</td>\n",
       "      <td>Q</td>\n",
       "      <td>1076</td>\n",
       "      <td>L</td>\n",
       "      <td>-0.135196</td>\n",
       "      <td>0.135196</td>\n",
       "      <td>409.0</td>\n",
       "      <td>sarscov2-uniref90-aligned-binary</td>\n",
       "      <td>409.0_L</td>\n",
       "    </tr>\n",
       "  </tbody>\n",
       "</table>\n",
       "</div>"
      ],
      "text/plain": [
       "          Human  Non-Human          uniref90_id y_true orig_token  \\\n",
       "2978   0.590175   0.409825  UniRef90_A0A8B6RAI1  Human          I   \n",
       "15899  0.571952   0.428048  UniRef90_A0A8B6RAI1  Human          V   \n",
       "20944  0.863793   0.136207  UniRef90_A0A8B6RAI1  Human          Q   \n",
       "28984  0.741563   0.258438  UniRef90_A0A8B6RAI1  Human          R   \n",
       "9976   0.852662   0.147338  UniRef90_A0A8B6RJG7  Human          Q   \n",
       "\n",
       "       perturb_pos new_token  Human_pred_diff  abs_Human_pred_diff  \\\n",
       "2978          1069         L        -0.397972             0.397972   \n",
       "15899         1068         L        -0.416195             0.416195   \n",
       "20944         1076         L        -0.124355             0.124355   \n",
       "28984         1070         L        -0.246585             0.246585   \n",
       "9976          1076         L        -0.135196             0.135196   \n",
       "\n",
       "       perturb_seq_pos                        experiment perturbation_id  \n",
       "2978             402.0  sarscov2-uniref90-aligned-binary         402.0_L  \n",
       "15899            401.0  sarscov2-uniref90-aligned-binary         401.0_L  \n",
       "20944            409.0  sarscov2-uniref90-aligned-binary         409.0_L  \n",
       "28984            403.0  sarscov2-uniref90-aligned-binary         403.0_L  \n",
       "9976             409.0  sarscov2-uniref90-aligned-binary         409.0_L  "
      ]
     },
     "execution_count": 14,
     "metadata": {},
     "output_type": "execute_result"
    }
   ],
   "source": [
    "perturbed_output_df_selected[\"perturbation_id\"] = perturbed_output_df_selected.apply(lambda x: f\"{x['perturb_seq_pos']}_{x['new_token']}\", axis=1)\n",
    "perturbed_output_df_selected.head()"
   ]
  },
  {
   "cell_type": "code",
   "execution_count": 15,
   "id": "ce035928",
   "metadata": {},
   "outputs": [],
   "source": [
    "mean_diff_df = perturbed_output_df_selected[[\"perturbation_id\", \"abs_Human_pred_diff\"]].groupby(\"perturbation_id\").mean(pred_diff_col)"
   ]
  },
  {
   "cell_type": "code",
   "execution_count": 16,
   "id": "c1b269ea",
   "metadata": {},
   "outputs": [],
   "source": [
    "mean_diff_df = mean_diff_df.reset_index()"
   ]
  },
  {
   "cell_type": "code",
   "execution_count": 17,
   "id": "7e16c617",
   "metadata": {},
   "outputs": [],
   "source": [
    "mean_diff_df[[\"perturb_seq_pos\", \"new_token\"]] = mean_diff_df[\"perturbation_id\"].str.split(\"_\", expand=True)"
   ]
  },
  {
   "cell_type": "code",
   "execution_count": 18,
   "id": "20db678d",
   "metadata": {},
   "outputs": [
    {
     "data": {
      "text/html": [
       "<div>\n",
       "<style scoped>\n",
       "    .dataframe tbody tr th:only-of-type {\n",
       "        vertical-align: middle;\n",
       "    }\n",
       "\n",
       "    .dataframe tbody tr th {\n",
       "        vertical-align: top;\n",
       "    }\n",
       "\n",
       "    .dataframe thead th {\n",
       "        text-align: right;\n",
       "    }\n",
       "</style>\n",
       "<table border=\"1\" class=\"dataframe\">\n",
       "  <thead>\n",
       "    <tr style=\"text-align: right;\">\n",
       "      <th></th>\n",
       "      <th>perturbation_id</th>\n",
       "      <th>abs_Human_pred_diff</th>\n",
       "      <th>perturb_seq_pos</th>\n",
       "      <th>new_token</th>\n",
       "    </tr>\n",
       "  </thead>\n",
       "  <tbody>\n",
       "    <tr>\n",
       "      <th>0</th>\n",
       "      <td>401.0_L</td>\n",
       "      <td>0.381023</td>\n",
       "      <td>401.0</td>\n",
       "      <td>L</td>\n",
       "    </tr>\n",
       "    <tr>\n",
       "      <th>1</th>\n",
       "      <td>402.0_L</td>\n",
       "      <td>0.357249</td>\n",
       "      <td>402.0</td>\n",
       "      <td>L</td>\n",
       "    </tr>\n",
       "    <tr>\n",
       "      <th>2</th>\n",
       "      <td>403.0_L</td>\n",
       "      <td>0.243152</td>\n",
       "      <td>403.0</td>\n",
       "      <td>L</td>\n",
       "    </tr>\n",
       "    <tr>\n",
       "      <th>3</th>\n",
       "      <td>409.0_L</td>\n",
       "      <td>0.185258</td>\n",
       "      <td>409.0</td>\n",
       "      <td>L</td>\n",
       "    </tr>\n",
       "    <tr>\n",
       "      <th>4</th>\n",
       "      <td>452.0_H</td>\n",
       "      <td>0.133646</td>\n",
       "      <td>452.0</td>\n",
       "      <td>H</td>\n",
       "    </tr>\n",
       "  </tbody>\n",
       "</table>\n",
       "</div>"
      ],
      "text/plain": [
       "  perturbation_id  abs_Human_pred_diff perturb_seq_pos new_token\n",
       "0         401.0_L             0.381023           401.0         L\n",
       "1         402.0_L             0.357249           402.0         L\n",
       "2         403.0_L             0.243152           403.0         L\n",
       "3         409.0_L             0.185258           409.0         L\n",
       "4         452.0_H             0.133646           452.0         H"
      ]
     },
     "execution_count": 18,
     "metadata": {},
     "output_type": "execute_result"
    }
   ],
   "source": [
    "mean_diff_df.head()"
   ]
  },
  {
   "cell_type": "code",
   "execution_count": 19,
   "id": "57a23d9c",
   "metadata": {},
   "outputs": [
    {
     "data": {
      "text/html": [
       "<div>\n",
       "<style scoped>\n",
       "    .dataframe tbody tr th:only-of-type {\n",
       "        vertical-align: middle;\n",
       "    }\n",
       "\n",
       "    .dataframe tbody tr th {\n",
       "        vertical-align: top;\n",
       "    }\n",
       "\n",
       "    .dataframe thead th {\n",
       "        text-align: right;\n",
       "    }\n",
       "</style>\n",
       "<table border=\"1\" class=\"dataframe\">\n",
       "  <thead>\n",
       "    <tr style=\"text-align: right;\">\n",
       "      <th></th>\n",
       "      <th>perturbation_id</th>\n",
       "      <th>abs_Human_pred_diff</th>\n",
       "      <th>perturb_seq_pos</th>\n",
       "      <th>new_token</th>\n",
       "    </tr>\n",
       "  </thead>\n",
       "  <tbody>\n",
       "  </tbody>\n",
       "</table>\n",
       "</div>"
      ],
      "text/plain": [
       "Empty DataFrame\n",
       "Columns: [perturbation_id, abs_Human_pred_diff, perturb_seq_pos, new_token]\n",
       "Index: []"
      ]
     },
     "execution_count": 19,
     "metadata": {},
     "output_type": "execute_result"
    }
   ],
   "source": [
    "mean_diff_df[mean_diff_df[[\"perturb_seq_pos\", \"new_token\"]].duplicated()]"
   ]
  },
  {
   "cell_type": "code",
   "execution_count": 20,
   "id": "8bde6811",
   "metadata": {},
   "outputs": [],
   "source": [
    "df = mean_diff_df.pivot(columns=\"perturb_seq_pos\", index=\"new_token\", values=\"abs_Human_pred_diff\")\n",
    "# df[token_positions]"
   ]
  },
  {
   "cell_type": "code",
   "execution_count": 21,
   "id": "daa5b0e7",
   "metadata": {},
   "outputs": [
    {
     "data": {
      "text/html": [
       "<div>\n",
       "<style scoped>\n",
       "    .dataframe tbody tr th:only-of-type {\n",
       "        vertical-align: middle;\n",
       "    }\n",
       "\n",
       "    .dataframe tbody tr th {\n",
       "        vertical-align: top;\n",
       "    }\n",
       "\n",
       "    .dataframe thead th {\n",
       "        text-align: right;\n",
       "    }\n",
       "</style>\n",
       "<table border=\"1\" class=\"dataframe\">\n",
       "  <thead>\n",
       "    <tr style=\"text-align: right;\">\n",
       "      <th></th>\n",
       "      <th>perturbation_id</th>\n",
       "      <th>abs_Human_pred_diff</th>\n",
       "      <th>perturb_seq_pos</th>\n",
       "      <th>new_token</th>\n",
       "    </tr>\n",
       "  </thead>\n",
       "  <tbody>\n",
       "    <tr>\n",
       "      <th>0</th>\n",
       "      <td>401.0_L</td>\n",
       "      <td>0.381023</td>\n",
       "      <td>401.0</td>\n",
       "      <td>L</td>\n",
       "    </tr>\n",
       "    <tr>\n",
       "      <th>1</th>\n",
       "      <td>402.0_L</td>\n",
       "      <td>0.357249</td>\n",
       "      <td>402.0</td>\n",
       "      <td>L</td>\n",
       "    </tr>\n",
       "    <tr>\n",
       "      <th>2</th>\n",
       "      <td>403.0_L</td>\n",
       "      <td>0.243152</td>\n",
       "      <td>403.0</td>\n",
       "      <td>L</td>\n",
       "    </tr>\n",
       "    <tr>\n",
       "      <th>3</th>\n",
       "      <td>409.0_L</td>\n",
       "      <td>0.185258</td>\n",
       "      <td>409.0</td>\n",
       "      <td>L</td>\n",
       "    </tr>\n",
       "    <tr>\n",
       "      <th>4</th>\n",
       "      <td>452.0_H</td>\n",
       "      <td>0.133646</td>\n",
       "      <td>452.0</td>\n",
       "      <td>H</td>\n",
       "    </tr>\n",
       "    <tr>\n",
       "      <th>5</th>\n",
       "      <td>458.0_H</td>\n",
       "      <td>0.125671</td>\n",
       "      <td>458.0</td>\n",
       "      <td>H</td>\n",
       "    </tr>\n",
       "  </tbody>\n",
       "</table>\n",
       "</div>"
      ],
      "text/plain": [
       "  perturbation_id  abs_Human_pred_diff perturb_seq_pos new_token\n",
       "0         401.0_L             0.381023           401.0         L\n",
       "1         402.0_L             0.357249           402.0         L\n",
       "2         403.0_L             0.243152           403.0         L\n",
       "3         409.0_L             0.185258           409.0         L\n",
       "4         452.0_H             0.133646           452.0         H\n",
       "5         458.0_H             0.125671           458.0         H"
      ]
     },
     "execution_count": 21,
     "metadata": {},
     "output_type": "execute_result"
    }
   ],
   "source": [
    "mean_diff_df.sort_values(by=\"abs_Human_pred_diff\", ascending=False).head(10)"
   ]
  },
  {
   "cell_type": "code",
   "execution_count": 22,
   "id": "9ea734b4",
   "metadata": {},
   "outputs": [
    {
     "data": {
      "text/plain": [
       "<Figure size 432x288 with 0 Axes>"
      ]
     },
     "metadata": {},
     "output_type": "display_data"
    },
    {
     "data": {
      "image/png": "[encoded data removed]",
      "text/plain": [
       "<Figure size 3456x1152 with 2 Axes>"
      ]
     },
     "metadata": {
      "needs_background": "light"
     },
     "output_type": "display_data"
    }
   ],
   "source": [
    "plt.clf()\n",
    "plt.figure(figsize=(48, 16))\n",
    "plt.rcParams['xtick.labelsize'] = 24\n",
    "plt.rcParams['ytick.labelsize'] = 24\n",
    "# plt.rcParams['figure.autolayout'] = True\n",
    "ax = sns.heatmap(df, cmap=cmap, center=0)\n",
    "plt.xlabel('Position', fontsize=24)\n",
    "plt.ylabel('New perturbed tokens', fontsize=24)\n",
    "plt.show()"
   ]
  },
  {
   "cell_type": "code",
   "execution_count": 23,
   "id": "4ac56e8a",
   "metadata": {},
   "outputs": [
    {
     "data": {
      "text/plain": [
       "perturb_seq_pos\n",
       "401.0    0.381023\n",
       "402.0    0.357249\n",
       "403.0    0.243152\n",
       "409.0    0.185258\n",
       "452.0    0.133646\n",
       "458.0    0.125671\n",
       "dtype: float64"
      ]
     },
     "execution_count": 23,
     "metadata": {},
     "output_type": "execute_result"
    }
   ],
   "source": [
    "df.mean(axis=0)"
   ]
  },
  {
   "cell_type": "code",
   "execution_count": 24,
   "id": "306aa32d",
   "metadata": {},
   "outputs": [
    {
     "data": {
      "text/plain": [
       "<Figure size 432x288 with 0 Axes>"
      ]
     },
     "metadata": {},
     "output_type": "display_data"
    },
    {
     "data": {
      "image/png": "[encoded data removed]",
      "text/plain": [
       "<Figure size 2160x1008 with 1 Axes>"
      ]
     },
     "metadata": {
      "needs_background": "light"
     },
     "output_type": "display_data"
    }
   ],
   "source": [
    "plt.clf()\n",
    "plt.figure(figsize=(30, 14))\n",
    "ax = sns.lineplot(df.mean(axis=0))\n",
    "ax.axhline(0.0, color=\"gray\", linestyle=\"--\")\n",
    "plt.rcParams['xtick.labelsize'] = 30\n",
    "plt.rcParams['ytick.labelsize'] = 30\n",
    "plt.xlabel('Position', fontsize=30)\n",
    "plt.ylabel('Prediction Difference', fontsize=30)\n",
    "#ax.set_xlim(0, 1273)\n",
    "plt.show()"
   ]
  },
  {
   "cell_type": "code",
   "execution_count": null,
   "id": "34f4e442",
   "metadata": {},
   "outputs": [],
   "source": []
  }
 ],
 "metadata": {
  "kernelspec": {
   "display_name": "Python 3 (ipykernel)",
   "language": "python",
   "name": "python3"
  },
  "language_info": {
   "codemirror_mode": {
    "name": "ipython",
    "version": 3
   },
   "file_extension": ".py",
   "mimetype": "text/x-python",
   "name": "python",
   "nbconvert_exporter": "python",
   "pygments_lexer": "ipython3",
   "version": "3.8.12"
  }
 },
 "nbformat": 4,
 "nbformat_minor": 5
}
