{
 "cells": [
  {
   "cell_type": "markdown",
   "id": "2434d65b",
   "metadata": {},
   "source": [
    "## Interpretation of LR and RF models trained on UniRef90 dataset for multiclass classification"
   ]
  },
  {
   "cell_type": "code",
   "execution_count": 3,
   "id": "b8dae64f",
   "metadata": {},
   "outputs": [
    {
     "data": {
      "text/plain": [
       "['/home/grads/blessyantony/dev/git/zoonosis/src/jupyter_notebooks/interpretation',\n",
       " '/home/grads/blessyantony/anaconda3/envs/zoonosis/lib/python310.zip',\n",
       " '/home/grads/blessyantony/anaconda3/envs/zoonosis/lib/python3.10',\n",
       " '/home/grads/blessyantony/anaconda3/envs/zoonosis/lib/python3.10/lib-dynload',\n",
       " '',\n",
       " '/home/grads/blessyantony/anaconda3/envs/zoonosis/lib/python3.10/site-packages',\n",
       " '/home/grads/blessyantony/anaconda3/envs/zoonosis/lib/python3.10/site-packages/PyQt5_sip-12.11.0-py3.10-linux-x86_64.egg',\n",
       " '/home/grads/blessyantony/dev/git/zoonosis/src/jupyter_notebooks/interpretation/../../..',\n",
       " '/home/grads/blessyantony/dev/git/zoonosis/src/jupyter_notebooks/interpretation/../..',\n",
       " '/home/grads/blessyantony/dev/git/zoonosis/src/jupyter_notebooks/interpretation/..',\n",
       " '/home/grads/blessyantony/dev/git/zoonosis/src/jupyter_notebooks/interpretation/../../..',\n",
       " '/home/grads/blessyantony/dev/git/zoonosis/src/jupyter_notebooks/interpretation/../..',\n",
       " '/home/grads/blessyantony/dev/git/zoonosis/src/jupyter_notebooks/interpretation/..']"
      ]
     },
     "execution_count": 3,
     "metadata": {},
     "output_type": "execute_result"
    }
   ],
   "source": [
    "import sys\n",
    "import os\n",
    "sys.path.append(os.path.join(os.getcwd(), \"..\", \"..\", \"..\"))\n",
    "sys.path.append(os.path.join(os.getcwd(), \"..\", \"..\"))\n",
    "sys.path.append(os.path.join(os.getcwd(), \"..\"))\n",
    "sys.path"
   ]
  },
  {
   "cell_type": "code",
   "execution_count": 4,
   "id": "a4d4dbcf",
   "metadata": {},
   "outputs": [],
   "source": [
    "from utils import kmer_utils, utils\n",
    "import pandas as pd\n",
    "import numpy as np\n",
    "import joblib\n",
    "\n",
    "import matplotlib\n",
    "import matplotlib.pyplot as plt\n",
    "import seaborn as sns\n",
    "\n",
    "from sklearn.manifold import TSNE\n"
   ]
  },
  {
   "cell_type": "code",
   "execution_count": 22,
   "id": "34e020ab",
   "metadata": {},
   "outputs": [],
   "source": [
    "input_dir = \"/home/grads/blessyantony/dev/git/zoonosis/input/data/uniref90/\"\n",
    "input_file_names = [\"uniref90_final_msl1114.csv\"]\n",
    "\n",
    "label_groupings = {\"Human\": [ \"Homo sapiens\" ],\n",
    "                  \"Desert warthog\": [ \"Phacochoerus aethiopicus\" ],\n",
    "                  \"Lesser bandicoot rat\": [ \"Bandicota bengalensis\" ],\n",
    "                  \"Horse\": [ \"Equus caballus\" ],\n",
    "                  \"Goat\": [ \"Capra hircus\" ],\n",
    "                  \"Red junglefowl\": [ \"Gallus gallus\" ],\n",
    "                  \"Wood mouse\": [ \"Apodemus sylvaticus\" ],\n",
    "                  \"Cattle\": [ \"Bos taurus\" ],\n",
    "                  \"Others\": [ \"*\" ]}\n",
    "host_classes = [\"Homo sapiens\",  \"Phacochoerus aethiopicus\",    \"Bandicota bengalensis\",     \"Equus caballus\",   \"Capra hircus\", \n",
    "                \"Gallus gallus\",   \"Apodemus sylvaticus\",     \"Bos taurus\",  \"Others\"]\n",
    "\n",
    "split_col = \"split\"\n",
    "k = 3\n",
    "sequence_settings= {\n",
    "    \"sequence_col\": \"seq\",\n",
    "    \"id_col\": \"uniref90_id\",\n",
    "    \n",
    "}\n",
    "    \n",
    "classification_settings =  {\n",
    "    \"train_proportion\": 0.8,\n",
    "    \"batch_size\": 8,\n",
    "    \"max_sequence_length\": 1115,\n",
    "    \"pad_sequence_val\": 0,\n",
    "    \"truncate\": True\n",
    "}\n",
    "\n",
    "label_settings = {\n",
    "    \"label_col\": \"virus_host_name\",\n",
    "    \"exclude_labels\": [ \"nan\"],\n",
    "    \"label_groupings\":  label_groupings\n",
    "}\n",
    "\n",
    "lr_model = {\n",
    "    \"C\": [0.01, 0.1, 1],\n",
    "    \"multiclass_type\": \"multinomial\"\n",
    "}\n",
    "\n",
    "rf_model = {\n",
    "    \"n_estimators\": [10, 100, 1000],\n",
    "    \"max_depth\": [3, 5]\n",
    "}"
   ]
  },
  {
   "cell_type": "markdown",
   "id": "75334c69",
   "metadata": {},
   "source": [
    "### Load the datasets"
   ]
  },
  {
   "cell_type": "code",
   "execution_count": 23,
   "id": "523c6468",
   "metadata": {},
   "outputs": [],
   "source": [
    "def load_dataset(input_dir, input_file_names, seed, train_proportion, kmer_keys=None):\n",
    "    id_col = sequence_settings[\"id_col\"]\n",
    "    label_col = label_settings[\"label_col\"]\n",
    "    sequence_col = sequence_settings[\"sequence_col\"]\n",
    "    df = utils.read_dataset(input_dir, input_file_names, \n",
    "                            cols=[id_col, sequence_col, label_col])\n",
    "    df, index_label_map = utils.transform_labels(df, label_settings, classification_type=\"multi\")\n",
    "    train_df, test_df = utils.split_dataset(df, seed, classification_settings[\"train_proportion\"], stratify_col=label_col)\n",
    "    train_df[split_col] = \"train\"\n",
    "    test_df[split_col] = \"test\"\n",
    "    df = pd.concat([train_df, test_df])\n",
    "    print(f\"Loaded dataset size = {df.shape}\")\n",
    "    \n",
    "    kmer_df = kmer_utils.compute_kmer_features(df, k, id_col, sequence_col, label_col, kmer_keys)\n",
    "    print(f\"kmer_df size = {kmer_df.shape}\")\n",
    "    \n",
    "    kmer_df = kmer_df.join(df[\"split\"], on=id_col, how=\"left\")\n",
    "    print(f\"kmer_df size after join with split on id = {kmer_df.shape}\")\n",
    "    return index_label_map, dataset_loader"
   ]
  },
  {
   "cell_type": "markdown",
   "id": "da21aaba",
   "metadata": {},
   "source": [
    "### Load models"
   ]
  },
  {
   "cell_type": "code",
   "execution_count": 24,
   "id": "b7c8e8e4",
   "metadata": {},
   "outputs": [
    {
     "name": "stdout",
     "output_type": "stream",
     "text": [
      "Loading models\n",
      "LogisticRegression(C=1, class_weight='balanced', max_iter=5000,\n",
      "                   multi_class='multinomial', n_jobs=-1, penalty='l1',\n",
      "                   solver='saga')\n",
      "RandomForestClassifier(class_weight='balanced', max_depth=5, n_estimators=1000)\n"
     ]
    }
   ],
   "source": [
    "print(\"Loading models\")\n",
    "lr_model_path = \"/home/grads/blessyantony/dev/git/zoonosis/output/raw/uniref90/20230705/host_multi_msl1114_baseline/kmer_k3_virus_host_name_multi_kmer_k3-loss_ce_itr4_lr_model.joblib\"\n",
    "lr_model = joblib.load(lr_model_path)\n",
    "print(lr_model)\n",
    "\n",
    "rf_model_path = \"/home/grads/blessyantony/dev/git/zoonosis/output/raw/uniref90/20230705/host_multi_msl1114_baseline/kmer_k3_virus_host_name_multi_kmer_k3-loss_ce_itr4_rf_model.joblib\"\n",
    "rf_model =joblib.load(rf_model_path)\n",
    "print(rf_model)"
   ]
  },
  {
   "cell_type": "code",
   "execution_count": 25,
   "id": "e137b5d5",
   "metadata": {},
   "outputs": [
    {
     "name": "stdout",
     "output_type": "stream",
     "text": [
      "(9, 500)\n",
      "['PIP' 'FII' 'NIL' 'GIL' 'GPS' 'YNI' 'CLW' 'FFP' 'AAP' 'IPS' 'LLA' 'YSL'\n",
      " 'WAF' 'GNC' 'GAK' 'RRF' 'GTV' 'SPF' 'AVT' 'HLP' 'FFL' 'PIF' 'PHC' 'MLL'\n",
      " 'LVV' 'WPK' 'CRT' 'PSC' 'VIW' 'LSP' 'LQS' 'MDD' 'GFR' 'LDS' 'GSS' 'SCC'\n",
      " 'PLL' 'KNP' 'DGN' 'KTC' 'WMM' 'FPS' 'GGV' 'IPL' 'PKF' 'IPQ' 'ESL' 'RRA'\n",
      " 'PFL' 'DPA' 'TFG' 'PAG' 'SWA' 'PPP' 'PMG' 'ALY' 'PPL' 'HCL' 'ILT' 'VLL'\n",
      " 'FYH' 'LFT' 'VFL' 'ICP' 'QFS' 'LSL' 'IWM' 'VNR' 'SMF' 'ASA' 'YKT' 'PAR'\n",
      " 'FCL' 'QGT' 'AFP' 'SRY' 'LLT' 'FTA' 'VPF' 'FGR' 'QSL' 'LVG' 'LLD' 'PHN'\n",
      " 'YLW' 'PLH' 'TAS' 'VVR' 'TPP' 'QNL' 'VTN' 'TVP' 'AKS' 'PAP' 'TVW' 'ARV'\n",
      " 'ILG' 'RVT' 'AQG' 'CSR' 'IFL' 'HDS' 'PTS' 'RYV' 'GML' 'PAS' 'TSL' 'DFS'\n",
      " 'LTT' 'FMG' 'TSN' 'LGW' 'RKI' 'RFS' 'SSN' 'GVG' 'VLG' 'GIH' 'LGQ' 'AFG'\n",
      " 'SGF' 'LTN' 'LGL' 'PNL' 'WWT' 'GST' 'MLP' 'TKR' 'LRR' 'FAV' 'NFL' 'SLN'\n",
      " 'CLR' 'WAS' 'IHL' 'CTK' 'DSC' 'LGG' 'GTS' 'HSP' 'SLT' 'AAM' 'PNK' 'LSW'\n",
      " 'GQN' 'SSW' 'NSR' 'ARF' 'PID' 'LGI' 'SDG' 'AQF' 'VVD' 'NRP' 'TST' 'RLS'\n",
      " 'SGL' 'ICS' 'VAR' 'FTS' 'ILL' 'LSS' 'PII' 'PLI' 'QFT' 'LNF' 'TCP' 'PPA'\n",
      " 'SVI' 'RAF' 'SPT' 'HLL' 'SGT' 'VSA' 'SLF' 'YSH' 'QWF' 'TVN' 'LWV' 'SQS'\n",
      " 'IPG' 'HGT' 'TNL' 'FIL' 'VRR' 'TCI' 'AFS' 'STT' 'LLC' 'WGY' 'DDV' 'NHQ'\n",
      " 'QGM' 'WVY' 'RQS' 'VSW' 'RNL' 'ISS' 'GTM' 'SAI' 'MPL' 'PHL' 'SCS' 'DKN'\n",
      " 'SHP' 'NKT' 'PCK' 'TTP' 'HLN' 'GLY' 'TTS' 'AGF' 'IPI' 'PCR' 'LFI' 'WFV'\n",
      " 'KFL' 'SAA' 'NST' 'GLL' 'RIL' 'LAQ' 'TDG' 'WTS' 'PRV' 'PSD' 'GFL' 'VEL'\n",
      " 'STN' 'VGL' 'KIK' 'MMW' 'AAF' 'SST' 'HLE' 'TMQ' 'YVS' 'RTP' 'TAE' 'LLP'\n",
      " 'SNH' 'PTV' 'IFF' 'LNP' 'MGV' 'LLY' 'NPN' 'PSS' 'SAL' 'GLS' 'AVP' 'QSP'\n",
      " 'CPG' 'LIP' 'FLG' 'LVL' 'NLL' 'LHL' 'DYQ' 'PQS' 'GYS' 'CPL' 'TCT' 'SLG'\n",
      " 'IGS' 'LPQ' 'LPI' 'LYS' 'KIP' 'PTC' 'NLH' 'TRI' 'ILS' 'KYL' 'GYV' 'HPA'\n",
      " 'SSI' 'FLL' 'CIP' 'LLG' 'GFF' 'VCP' 'GPL' 'WYW' 'LSV' 'AMP' 'PTT' 'AIC'\n",
      " 'TTV' 'PPI' 'FSQ' 'SLY' 'TSA' 'QAG' 'RFI' 'KRW' 'WMC' 'LYV' 'PVC' 'ELL'\n",
      " 'PLG' 'YRW' 'GVF' 'FSW' 'SLL' 'LPL' 'MGY' 'RPI' 'SWL' 'PTD' 'GTL' 'VRF'\n",
      " 'FSR' 'FHQ' 'SFL' 'FSY' 'SWP' 'GPC' 'YVI' 'TGD' 'NLS' 'LDY' 'PAQ' 'MQN'\n",
      " 'CSV' 'LSR' 'TLP' 'FVQ' 'VCL' 'LWE' 'GDP' 'LGP' 'FLP' 'MEN' 'TGP' 'GYR'\n",
      " 'MCL' 'MWY' 'SSS' 'LGF' 'VGA' 'LLV' 'WEW' 'PIC' 'LLL' 'CPP' 'FLF' 'VLQ'\n",
      " 'LYN' 'CTT' 'FVG' 'SAR' 'AFA' 'VDF' 'QHL' 'KSV' 'RLV' 'VVL' 'NSQ' 'LPV'\n",
      " 'SVV' 'SNS' 'YWG' 'VQH' 'PRT' 'YMD' 'HLY' 'WGP' 'VSL' 'RTC' 'LLS' 'YQT'\n",
      " 'CLA' 'NCT' 'LYK' 'SVQ' 'NLQ' 'ESR' 'LES' 'PTP' 'SRN' 'GGS' 'VPN' 'CKT'\n",
      " 'NTA' 'LDP' 'QLD' 'DSW' 'SVR' 'CCT' 'VTG' 'TGG' 'LSF' 'YVA' 'KPT' 'PGS'\n",
      " 'SSG' 'LHD' 'NHS' 'PAL' 'PFV' 'QNS' 'HPI' 'IPM' 'QTF' 'YQG' 'TAV' 'KVC'\n",
      " 'FAK' 'TKP' 'PSL' 'AST' 'FLW' 'SRL' 'TPA' 'TSM' 'LAF' 'AGG' 'VGS' 'AES'\n",
      " 'SRG' 'CTC' 'QKI' 'CLI' 'TIP' 'PVP' 'SKP' 'LTR' 'CLG' 'KLH' 'PAA' 'VDK'\n",
      " 'LIF' 'DVS' 'RKL' 'FLV' 'LDV' 'KLP' 'MPH' 'MFP' 'VQW' 'LVD' 'PGY' 'SNL'\n",
      " 'FGA' 'VYI' 'FPH' 'TSC' 'IIL' 'KTK' 'SQF' 'SWW' 'RVS' 'RWM' 'FFC' 'KFA'\n",
      " 'LCL' 'LVP' 'EWA' 'WLS' 'TTA' 'SGR' 'TNF' 'SCP' 'CCC' 'RWG' 'NPH' 'PVN'\n",
      " 'GSL' 'LQA' 'LGA' 'CFR' 'ASV' 'SRI' 'RGL' 'LTI' 'TSG' 'AFY' 'GRK' 'SLP'\n",
      " 'SYM' 'KPS' 'NFM' 'STG' 'LYQ' 'SPP' 'LHP' 'YHL' 'HNT' 'VIG' 'SLD' 'QHG'\n",
      " 'TTT' 'ARL' 'NLY' 'NPD' 'IIF' 'DVV' 'VWL' 'FRK']\n",
      "{'C': 1, 'class_weight': 'balanced', 'dual': False, 'fit_intercept': True, 'intercept_scaling': 1, 'l1_ratio': None, 'max_iter': 5000, 'multi_class': 'multinomial', 'n_jobs': -1, 'penalty': 'l1', 'random_state': None, 'solver': 'saga', 'tol': 0.0001, 'verbose': 0, 'warm_start': False}\n"
     ]
    }
   ],
   "source": [
    "print(lr_model.coef_.shape)\n",
    "print(lr_model.feature_names_in_)\n",
    "print(lr_model.get_params())"
   ]
  },
  {
   "cell_type": "markdown",
   "id": "7a1eca51",
   "metadata": {},
   "source": [
    "### Training-based interpretation\n",
    "#### Encoding visualization - all viruses, all hosts"
   ]
  },
  {
   "cell_type": "code",
   "execution_count": 26,
   "id": "a22e9225",
   "metadata": {},
   "outputs": [],
   "source": [
    "def compute_dataset_representations(baseline_model, df, label_col):\n",
    "    df = df[df[split_col] == \"train\"]\n",
    "    coeffs = baseline_model.feature_names_in_\n",
    "    embed_df = None\n",
    "    for _, row in df.iterrows():\n",
    "        label = row[label_col]\n",
    "        row_features = row[features]\n",
    "        print(f\"features shape = {row_features.shape}\")\n",
    "        print(f\"label = {label}\")\n",
    "        embedding = row_features.multiply(coeffs[label])\n",
    "        if embed_df is None:\n",
    "            embed_df = embedding\n",
    "            embedding[label_col] = label\n",
    "        else:\n",
    "            embed_df = pd.concat([embed_df, embedding])\n",
    "    print(\"Final embed_df shape = \")\n",
    "    print(embed_df.shape)\n",
    "    return embed_df\n",
    "\n",
    "\n",
    "def visualize_dataset(rep_df):\n",
    "    columns = rep_df.columns\n",
    "    print(columns)\n",
    "    X = rep_df[range(512)]\n",
    "    tsne_model = TSNE(n_components=2, verbose=1, init=\"pca\", learning_rate=\"auto\").fit(X)\n",
    "    X_emb = pd.DataFrame(tsne_model.fit_transform(X))\n",
    "    print(X_emb.shape)\n",
    "    print(X_emb)\n",
    "    X_emb[\"label\"] = rep_df[\"label\"].values\n",
    "    return tsne_model, X_emb"
   ]
  },
  {
   "cell_type": "code",
   "execution_count": 27,
   "id": "1df4ef01",
   "metadata": {},
   "outputs": [
    {
     "name": "stdout",
     "output_type": "stream",
     "text": [
      "input file: /home/grads/blessyantony/dev/git/zoonosis/input/data/uniref90/uniref90_final_msl1114.csv, size = (18292, 3)\n",
      "Size of input dataset = (18292, 3)\n",
      "Grouping labels using config : {'Human': ['Homo sapiens'], 'Desert warthog': ['Phacochoerus aethiopicus'], 'Lesser bandicoot rat': ['Bandicota bengalensis'], 'Horse': ['Equus caballus'], 'Goat': ['Capra hircus'], 'Red junglefowl': ['Gallus gallus'], 'Wood mouse': ['Apodemus sylvaticus'], 'Cattle': ['Bos taurus'], 'Others': ['*']}\n",
      "label_idx_map={'Cattle': 0, 'Desert warthog': 1, 'Goat': 2, 'Horse': 3, 'Human': 4, 'Lesser bandicoot rat': 5, 'Others': 6, 'Red junglefowl': 7, 'Wood mouse': 8}\n",
      "idx_label_map={0: 'Cattle', 1: 'Desert warthog', 2: 'Goat', 3: 'Horse', 4: 'Human', 5: 'Lesser bandicoot rat', 6: 'Others', 7: 'Red junglefowl', 8: 'Wood mouse'}\n",
      "[4 5 6 3 2 1 7 0 8]\n",
      "Splitting dataset with seed=79221635, train_proportion=0.8, stratify_col=virus_host_name\n",
      "Size of train_dataset = (14633, 3)\n",
      "Size of test_dataset = (3659, 3)\n",
      "Loaded dataset size = (18292, 4)\n"
     ]
    },
    {
     "ename": "TypeError",
     "evalue": "compute_kmer_features() takes 5 positional arguments but 6 were given",
     "output_type": "error",
     "traceback": [
      "\u001b[0;31m---------------------------------------------------------------------------\u001b[0m",
      "\u001b[0;31mTypeError\u001b[0m                                 Traceback (most recent call last)",
      "Cell \u001b[0;32mIn[27], line 1\u001b[0m\n\u001b[0;32m----> 1\u001b[0m dataset \u001b[38;5;241m=\u001b[39m \u001b[43mload_dataset\u001b[49m\u001b[43m(\u001b[49m\u001b[43minput_dir\u001b[49m\u001b[43m,\u001b[49m\n\u001b[1;32m      2\u001b[0m \u001b[43m                       \u001b[49m\u001b[43minput_file_names\u001b[49m\u001b[43m,\u001b[49m\n\u001b[1;32m      3\u001b[0m \u001b[43m                       \u001b[49m\u001b[43mseed\u001b[49m\u001b[38;5;241;43m=\u001b[39;49m\u001b[38;5;241;43m79221635\u001b[39;49m\u001b[43m,\u001b[49m\u001b[43m \u001b[49m\u001b[43mtrain_proportion\u001b[49m\u001b[38;5;241;43m=\u001b[39;49m\u001b[38;5;241;43m0.8\u001b[39;49m\u001b[43m,\u001b[49m\u001b[43m \u001b[49m\u001b[43mkmer_keys\u001b[49m\u001b[38;5;241;43m=\u001b[39;49m\u001b[43mlr_model\u001b[49m\u001b[38;5;241;43m.\u001b[39;49m\u001b[43mfeature_names_in_\u001b[49m\u001b[43m)\u001b[49m\n",
      "Cell \u001b[0;32mIn[23], line 14\u001b[0m, in \u001b[0;36mload_dataset\u001b[0;34m(input_dir, input_file_names, seed, train_proportion, kmer_keys)\u001b[0m\n\u001b[1;32m     11\u001b[0m df \u001b[38;5;241m=\u001b[39m pd\u001b[38;5;241m.\u001b[39mconcat([train_df, test_df])\n\u001b[1;32m     12\u001b[0m \u001b[38;5;28mprint\u001b[39m(\u001b[38;5;124mf\u001b[39m\u001b[38;5;124m\"\u001b[39m\u001b[38;5;124mLoaded dataset size = \u001b[39m\u001b[38;5;132;01m{\u001b[39;00mdf\u001b[38;5;241m.\u001b[39mshape\u001b[38;5;132;01m}\u001b[39;00m\u001b[38;5;124m\"\u001b[39m)\n\u001b[0;32m---> 14\u001b[0m kmer_df \u001b[38;5;241m=\u001b[39m \u001b[43mkmer_utils\u001b[49m\u001b[38;5;241;43m.\u001b[39;49m\u001b[43mcompute_kmer_features\u001b[49m\u001b[43m(\u001b[49m\u001b[43mdf\u001b[49m\u001b[43m,\u001b[49m\u001b[43m \u001b[49m\u001b[43mk\u001b[49m\u001b[43m,\u001b[49m\u001b[43m \u001b[49m\u001b[43mid_col\u001b[49m\u001b[43m,\u001b[49m\u001b[43m \u001b[49m\u001b[43msequence_col\u001b[49m\u001b[43m,\u001b[49m\u001b[43m \u001b[49m\u001b[43mlabel_col\u001b[49m\u001b[43m,\u001b[49m\u001b[43m \u001b[49m\u001b[43mkmer_keys\u001b[49m\u001b[43m)\u001b[49m\n\u001b[1;32m     15\u001b[0m \u001b[38;5;28mprint\u001b[39m(\u001b[38;5;124mf\u001b[39m\u001b[38;5;124m\"\u001b[39m\u001b[38;5;124mkmer_df size = \u001b[39m\u001b[38;5;132;01m{\u001b[39;00mkmer_df\u001b[38;5;241m.\u001b[39mshape\u001b[38;5;132;01m}\u001b[39;00m\u001b[38;5;124m\"\u001b[39m)\n\u001b[1;32m     17\u001b[0m kmer_df \u001b[38;5;241m=\u001b[39m kmer_df\u001b[38;5;241m.\u001b[39mjoin(df[\u001b[38;5;124m\"\u001b[39m\u001b[38;5;124msplit\u001b[39m\u001b[38;5;124m\"\u001b[39m], on\u001b[38;5;241m=\u001b[39mid_col, how\u001b[38;5;241m=\u001b[39m\u001b[38;5;124m\"\u001b[39m\u001b[38;5;124mleft\u001b[39m\u001b[38;5;124m\"\u001b[39m)\n",
      "\u001b[0;31mTypeError\u001b[0m: compute_kmer_features() takes 5 positional arguments but 6 were given"
     ]
    }
   ],
   "source": [
    "dataset = load_dataset(input_dir,\n",
    "                       input_file_names,\n",
    "                       seed=79221635, train_proportion=0.8, kmer_keys=lr_model.feature_names_in_)"
   ]
  },
  {
   "cell_type": "code",
   "execution_count": null,
   "id": "8fc9efed",
   "metadata": {},
   "outputs": [],
   "source": []
  },
  {
   "cell_type": "code",
   "execution_count": null,
   "id": "86411ed2",
   "metadata": {},
   "outputs": [],
   "source": []
  }
 ],
 "metadata": {
  "kernelspec": {
   "display_name": "Python 3 (ipykernel)",
   "language": "python",
   "name": "python3"
  },
  "language_info": {
   "codemirror_mode": {
    "name": "ipython",
    "version": 3
   },
   "file_extension": ".py",
   "mimetype": "text/x-python",
   "name": "python",
   "nbconvert_exporter": "python",
   "pygments_lexer": "ipython3",
   "version": "3.10.6"
  }
 },
 "nbformat": 4,
 "nbformat_minor": 5
}
