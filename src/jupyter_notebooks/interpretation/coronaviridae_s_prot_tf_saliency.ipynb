{
 "cells": [
  {
   "cell_type": "markdown",
   "id": "bd64c278",
   "metadata": {},
   "source": [
    "## Interpretation of TF models trained on UniProtKB Coronaviridae S protein dataset for multiclass classification using Saliency Scores"
   ]
  },
  {
   "cell_type": "code",
   "execution_count": 13,
   "id": "6f0a7a94",
   "metadata": {},
   "outputs": [
    {
     "data": {
      "text/plain": [
       "['/home/grads/blessyantony/dev/git/zoonosis/src/jupyter_notebooks/interpretation',\n",
       " '/home/grads/blessyantony/anaconda3/envs/zoonosis/lib/python310.zip',\n",
       " '/home/grads/blessyantony/anaconda3/envs/zoonosis/lib/python3.10',\n",
       " '/home/grads/blessyantony/anaconda3/envs/zoonosis/lib/python3.10/lib-dynload',\n",
       " '',\n",
       " '/home/grads/blessyantony/anaconda3/envs/zoonosis/lib/python3.10/site-packages',\n",
       " '/home/grads/blessyantony/anaconda3/envs/zoonosis/lib/python3.10/site-packages/PyQt5_sip-12.11.0-py3.10-linux-x86_64.egg',\n",
       " '/home/grads/blessyantony/dev/git/zoonosis/src/jupyter_notebooks/interpretation/../../..',\n",
       " '/home/grads/blessyantony/dev/git/zoonosis/src/jupyter_notebooks/interpretation/../..',\n",
       " '/home/grads/blessyantony/dev/git/zoonosis/src/jupyter_notebooks/interpretation/..',\n",
       " '/home/grads/blessyantony/dev/git/zoonosis/src/jupyter_notebooks/interpretation/../../..',\n",
       " '/home/grads/blessyantony/dev/git/zoonosis/src/jupyter_notebooks/interpretation/../..',\n",
       " '/home/grads/blessyantony/dev/git/zoonosis/src/jupyter_notebooks/interpretation/..']"
      ]
     },
     "execution_count": 13,
     "metadata": {},
     "output_type": "execute_result"
    }
   ],
   "source": [
    "import sys\n",
    "import os\n",
    "sys.path.append(os.path.join(os.getcwd(), \"..\", \"..\", \"..\"))\n",
    "sys.path.append(os.path.join(os.getcwd(), \"..\", \"..\"))\n",
    "sys.path.append(os.path.join(os.getcwd(), \"..\"))\n",
    "sys.path"
   ]
  },
  {
   "cell_type": "code",
   "execution_count": 111,
   "id": "256b5134",
   "metadata": {},
   "outputs": [],
   "source": [
    "from prediction.models.nlp import transformer\n",
    "from src.utils import utils, nn_utils\n",
    "from src.utils.nlp_utils.padding import Padding\n",
    "\n",
    "import torch\n",
    "import torch.nn as nn\n",
    "import torch.nn.functional as F\n",
    "from torch.utils.data import DataLoader\n",
    "from torch.nn import TransformerEncoder, TransformerEncoderLayer\n",
    "\n",
    "import pandas as pd\n",
    "import numpy as np\n",
    "\n",
    "import matplotlib\n",
    "import matplotlib.pyplot as plt\n",
    "import seaborn as sns\n",
    "\n",
    "from sklearn.metrics import roc_curve, accuracy_score, f1_score, auc, precision_recall_curve\n",
    "from statistics import mean"
   ]
  },
  {
   "cell_type": "code",
   "execution_count": 84,
   "id": "6e0c3063",
   "metadata": {},
   "outputs": [],
   "source": [
    "label_groupings = {\n",
    "                    \"Pig\": [ \"Sus scrofa (Pig) [TaxID: 9823]\" ],\n",
    "                    \"Human\": [ \"Homo sapiens (Human) [TaxID: 9606]\" ],\n",
    "                    \"Wild turkey\": [ \"Meleagris gallopavo (Wild turkey) [TaxID: 9103]\" ],\n",
    "                    \"Japanese pipistrelle\": [ \"Pipistrellus abramus (Japanese pipistrelle) (Pipistrellus javanicus abramus) [TaxID: 105295]\" ],\n",
    "                    \"Lesser bamboo bat\": [ \"Tylonycteris pachypus (Lesser bamboo bat) (Vespertilio pachypus) [TaxID: 258959]\" ],\n",
    "                    \"Chicken\": [ \"Gallus gallus (Chicken) [TaxID: 9031]\" ],\n",
    "                    \"Bovine\": [ \"Bos taurus (Bovine) [TaxID: 9913]\" ]\n",
    "                }\n",
    "\n",
    "amino_acid_idx_map = {'A': 1, 'R': 2, 'N': 3, 'D': 4, 'C': 5,\n",
    "                  'Q': 6, 'E': 7, 'G': 8, 'H': 9, 'I': 10,\n",
    "                  'L': 11, 'K': 12, 'M': 13, 'F': 14, 'P': 15,\n",
    "                  'O': 16, 'S': 17, 'U': 18, 'T': 19, 'W': 20,\n",
    "                  'Y': 21, 'V': 22, 'B': 23, 'Z': 24, 'X': 25,\n",
    "                  'J': 26}\n",
    "idx_amino_acid_map = {v:k for k,v in amino_acid_idx_map.items()}\n",
    "\n",
    "train_sequence_settings =  {\n",
    "    \"sequence_col\": \"seq\",\n",
    "    \"batch_size\": 8,\n",
    "    \"max_sequence_length\": 1453,\n",
    "    \"pad_sequence_val\": 0,\n",
    "    \"truncate\": True,\n",
    "    \"feature_type\": \"token\"\n",
    "}\n",
    "\n",
    "test_sequence_settings =  train_sequence_settings.copy()\n",
    "test_sequence_settings[\"batch_size\"] = 1\n",
    "\n",
    "label_settings = {\n",
    "    \"label_col\": \"virus_host\",\n",
    "    \"exclude_labels\": [ \"nan\"],\n",
    "    \"label_groupings\":  label_groupings\n",
    "}\n",
    "\n",
    "model = {\n",
    "    \"max_seq_len\": 1453,\n",
    "    \"loss\": \"CrossEntropyLoss\",\n",
    "    \"with_convolution\": False,\n",
    "    \"n_heads\": 8,\n",
    "    \"depth\": 6,\n",
    "    \"n_tokens\": 27,\n",
    "    \"n_classes\": 7,\n",
    "    \"n_epochs\": 10,\n",
    "    \"input_dim\": 512, # input embedding dimension\n",
    "    \"hidden_dim\": 1024\n",
    "}"
   ]
  },
  {
   "cell_type": "markdown",
   "id": "d7a4b303",
   "metadata": {},
   "source": [
    "### Load the datasets"
   ]
  },
  {
   "cell_type": "code",
   "execution_count": 82,
   "id": "2a19f2d7",
   "metadata": {},
   "outputs": [],
   "source": [
    "from torch.utils.data import Dataset\n",
    "\n",
    "\n",
    "class ProteinSequenceDataset(Dataset):\n",
    "    def __init__(self, df, sequence_col, max_seq_len, truncate, label_col):\n",
    "        super(ProteinSequenceDataset, self).__init__()\n",
    "        self.sequence_col = sequence_col\n",
    "        self.max_seq_len = max_seq_len\n",
    "        self.label_col = label_col\n",
    "        self.amino_acid_map = {'A': 1, 'R': 2, 'N': 3, 'D': 4, 'C': 5,\n",
    "                               'Q': 6, 'E': 7, 'G': 8, 'H': 9, 'I': 10,\n",
    "                               'L': 11, 'K': 12, 'M': 13, 'F': 14, 'P': 15,\n",
    "                               'O': 16, 'S': 17, 'U': 18, 'T': 19, 'W': 20,\n",
    "                               'Y': 21, 'V': 22, 'B': 23, 'Z': 24, 'X': 25,\n",
    "                               'J': 26}\n",
    "        self.data = df\n",
    "        if truncate:\n",
    "            self.data = self.truncate_dataset(df)\n",
    "\n",
    "    def __len__(self) -> int:\n",
    "        return self.data.shape[0]\n",
    "\n",
    "    def truncate_dataset(self, df):\n",
    "        # Truncating sequences to fixed length of sequence_max_length\n",
    "        df[self.sequence_col] = df[self.sequence_col].apply(lambda x: x[0:self.max_seq_len])\n",
    "        return df\n",
    "\n",
    "    def get_labels(self):\n",
    "        return self.data[self.label_col]\n",
    "\n",
    "    def __getitem__(self, idx: int):\n",
    "        # loc selects based on index in df\n",
    "        # iloc selects based on integer location (0, 1, 2, ...)\n",
    "        record = self.data.iloc[idx, :]\n",
    "        sequence = record[self.sequence_col]\n",
    "        label = record[self.label_col]\n",
    "\n",
    "        sequence_vector = np.array([self.amino_acid_map[a] for a in sequence])\n",
    "        label_vector = np.array([label])\n",
    "\n",
    "        return torch.tensor(sequence_vector, \n",
    "                            device=nn_utils.get_device(), \n",
    "                            dtype=torch.float64), torch.tensor(label_vector, device=nn_utils.get_device())\n"
   ]
  },
  {
   "cell_type": "code",
   "execution_count": 85,
   "id": "9dc7319f",
   "metadata": {},
   "outputs": [],
   "source": [
    "def get_token_dataset_loader(df, sequence_settings, label_col):\n",
    "    seq_col = sequence_settings[\"sequence_col\"]\n",
    "    batch_size = sequence_settings[\"batch_size\"]\n",
    "    max_seq_len = sequence_settings[\"max_sequence_length\"]\n",
    "    pad_sequence_val = sequence_settings[\"pad_sequence_val\"]\n",
    "    truncate = sequence_settings[\"truncate\"]\n",
    "    dataset = ProteinSequenceDataset(df, seq_col, max_seq_len, truncate, label_col)\n",
    "    return DataLoader(dataset=dataset, batch_size=batch_size, shuffle=True,\n",
    "                      collate_fn=Padding(max_seq_len, pad_sequence_val))\n",
    "\n",
    "def load_dataset_with_df(df, sequence_settings):\n",
    "    df = df[[sequence_settings[\"sequence_col\"], label_settings[\"label_col\"]]]\n",
    "    df, index_label_map = utils.transform_labels(df, label_settings, classification_type=\"multi\")\n",
    "    dataset_loader = get_token_dataset_loader(df, sequence_settings, label_settings[\"label_col\"])\n",
    "    return index_label_map, dataset_loader\n",
    "\n",
    "def print_dataset_loader(dataset_loader):\n",
    "    sequence, label = next(iter(dataset_loader))\n",
    "    print(sequence.shape)\n",
    "    print(sequence)\n",
    "    print(label.shape)\n",
    "    print(label)"
   ]
  },
  {
   "cell_type": "code",
   "execution_count": 73,
   "id": "810d5ee8",
   "metadata": {},
   "outputs": [
    {
     "data": {
      "text/html": [
       "<div>\n",
       "<style scoped>\n",
       "    .dataframe tbody tr th:only-of-type {\n",
       "        vertical-align: middle;\n",
       "    }\n",
       "\n",
       "    .dataframe tbody tr th {\n",
       "        vertical-align: top;\n",
       "    }\n",
       "\n",
       "    .dataframe thead th {\n",
       "        text-align: right;\n",
       "    }\n",
       "</style>\n",
       "<table border=\"1\" class=\"dataframe\">\n",
       "  <thead>\n",
       "    <tr style=\"text-align: right;\">\n",
       "      <th></th>\n",
       "      <th>id</th>\n",
       "      <th>seq</th>\n",
       "      <th>virus</th>\n",
       "      <th>seq_len</th>\n",
       "      <th>virus_host</th>\n",
       "      <th>binary_label</th>\n",
       "    </tr>\n",
       "  </thead>\n",
       "  <tbody>\n",
       "    <tr>\n",
       "      <th>0</th>\n",
       "      <td>A3EX94</td>\n",
       "      <td>MTLLMCLLMSLLIFVRGCDSQFVDMSPASNTSECLESQVDAAAFSK...</td>\n",
       "      <td>Bat coronavirus HKU4 (BtCoV) (BtCoV/HKU4/2004)</td>\n",
       "      <td>1352</td>\n",
       "      <td>Tylonycteris pachypus (Lesser bamboo bat) (Ves...</td>\n",
       "      <td>Not Human</td>\n",
       "    </tr>\n",
       "    <tr>\n",
       "      <th>1</th>\n",
       "      <td>A3EXD0</td>\n",
       "      <td>MIRSVLVLMCSLTFIGNLTRGQSVDMGHNGTGSCLDSQVQPDYFES...</td>\n",
       "      <td>Bat coronavirus HKU5 (BtCoV) (BtCoV/HKU5/2004)</td>\n",
       "      <td>1352</td>\n",
       "      <td>Pipistrellus abramus (Japanese pipistrelle) (P...</td>\n",
       "      <td>Not Human</td>\n",
       "    </tr>\n",
       "    <tr>\n",
       "      <th>2</th>\n",
       "      <td>P0DTC2</td>\n",
       "      <td>MFVFLVLLPLVSSQCVNLTTRTQLPPAYTNSFTRGVYYPDKVFRSS...</td>\n",
       "      <td>Severe acute respiratory syndrome coronavirus ...</td>\n",
       "      <td>1273</td>\n",
       "      <td>Homo sapiens (Human) [TaxID: 9606]</td>\n",
       "      <td>Human</td>\n",
       "    </tr>\n",
       "    <tr>\n",
       "      <th>3</th>\n",
       "      <td>P11223</td>\n",
       "      <td>MLVTPLLLVTLLCALCSAVLYDSSSYVYYYQSAFRPPSGWHLQGGA...</td>\n",
       "      <td>Avian infectious bronchitis virus (strain Beau...</td>\n",
       "      <td>1162</td>\n",
       "      <td>Gallus gallus (Chicken) [TaxID: 9031]</td>\n",
       "      <td>Not Human</td>\n",
       "    </tr>\n",
       "    <tr>\n",
       "      <th>4</th>\n",
       "      <td>P12651</td>\n",
       "      <td>MLVTPLLLVTLLCVLCSAALYDSSSYVYYYQSAFRPPNGWHLHGGA...</td>\n",
       "      <td>Avian infectious bronchitis virus (strain M41)...</td>\n",
       "      <td>1162</td>\n",
       "      <td>Gallus gallus (Chicken) [TaxID: 9031]</td>\n",
       "      <td>Not Human</td>\n",
       "    </tr>\n",
       "  </tbody>\n",
       "</table>\n",
       "</div>"
      ],
      "text/plain": [
       "       id                                                seq  \\\n",
       "0  A3EX94  MTLLMCLLMSLLIFVRGCDSQFVDMSPASNTSECLESQVDAAAFSK...   \n",
       "1  A3EXD0  MIRSVLVLMCSLTFIGNLTRGQSVDMGHNGTGSCLDSQVQPDYFES...   \n",
       "2  P0DTC2  MFVFLVLLPLVSSQCVNLTTRTQLPPAYTNSFTRGVYYPDKVFRSS...   \n",
       "3  P11223  MLVTPLLLVTLLCALCSAVLYDSSSYVYYYQSAFRPPSGWHLQGGA...   \n",
       "4  P12651  MLVTPLLLVTLLCVLCSAALYDSSSYVYYYQSAFRPPNGWHLHGGA...   \n",
       "\n",
       "                                               virus  seq_len  \\\n",
       "0     Bat coronavirus HKU4 (BtCoV) (BtCoV/HKU4/2004)     1352   \n",
       "1     Bat coronavirus HKU5 (BtCoV) (BtCoV/HKU5/2004)     1352   \n",
       "2  Severe acute respiratory syndrome coronavirus ...     1273   \n",
       "3  Avian infectious bronchitis virus (strain Beau...     1162   \n",
       "4  Avian infectious bronchitis virus (strain M41)...     1162   \n",
       "\n",
       "                                          virus_host binary_label  \n",
       "0  Tylonycteris pachypus (Lesser bamboo bat) (Ves...    Not Human  \n",
       "1  Pipistrellus abramus (Japanese pipistrelle) (P...    Not Human  \n",
       "2                 Homo sapiens (Human) [TaxID: 9606]        Human  \n",
       "3              Gallus gallus (Chicken) [TaxID: 9031]    Not Human  \n",
       "4              Gallus gallus (Chicken) [TaxID: 9031]    Not Human  "
      ]
     },
     "execution_count": 73,
     "metadata": {},
     "output_type": "execute_result"
    }
   ],
   "source": [
    "uniprotkb_coronaviruses_df = pd.read_csv(\"/home/grads/blessyantony/dev/git/zoonosis/input/data/coronaviridae/coronaviridae_top_7_hosts.csv\")\n",
    "uniprotkb_coronaviruses_df.head()"
   ]
  },
  {
   "cell_type": "code",
   "execution_count": 74,
   "id": "a4440ec0",
   "metadata": {
    "scrolled": false
   },
   "outputs": [
    {
     "data": {
      "text/plain": [
       "Sus scrofa (Pig) [TaxID: 9823]                                                                  2620\n",
       "Homo sapiens (Human) [TaxID: 9606]                                                              2400\n",
       "Meleagris gallopavo (Wild turkey) [TaxID: 9103]                                                   36\n",
       "Pipistrellus abramus (Japanese pipistrelle) (Pipistrellus javanicus abramus) [TaxID: 105295]      19\n",
       "Tylonycteris pachypus (Lesser bamboo bat) (Vespertilio pachypus) [TaxID: 258959]                  17\n",
       "Gallus gallus (Chicken) [TaxID: 9031]                                                             13\n",
       "Bos taurus (Bovine) [TaxID: 9913]                                                                 10\n",
       "Name: virus_host, dtype: int64"
      ]
     },
     "execution_count": 74,
     "metadata": {},
     "output_type": "execute_result"
    }
   ],
   "source": [
    "uniprotkb_coronaviruses_df[\"virus_host\"].value_counts()"
   ]
  },
  {
   "cell_type": "code",
   "execution_count": 75,
   "id": "23898e62",
   "metadata": {},
   "outputs": [
    {
     "name": "stdout",
     "output_type": "stream",
     "text": [
      "(2400, 6)\n"
     ]
    },
    {
     "data": {
      "text/html": [
       "<div>\n",
       "<style scoped>\n",
       "    .dataframe tbody tr th:only-of-type {\n",
       "        vertical-align: middle;\n",
       "    }\n",
       "\n",
       "    .dataframe tbody tr th {\n",
       "        vertical-align: top;\n",
       "    }\n",
       "\n",
       "    .dataframe thead th {\n",
       "        text-align: right;\n",
       "    }\n",
       "</style>\n",
       "<table border=\"1\" class=\"dataframe\">\n",
       "  <thead>\n",
       "    <tr style=\"text-align: right;\">\n",
       "      <th></th>\n",
       "      <th>id</th>\n",
       "      <th>seq</th>\n",
       "      <th>virus</th>\n",
       "      <th>seq_len</th>\n",
       "      <th>virus_host</th>\n",
       "      <th>binary_label</th>\n",
       "    </tr>\n",
       "  </thead>\n",
       "  <tbody>\n",
       "    <tr>\n",
       "      <th>2</th>\n",
       "      <td>P0DTC2</td>\n",
       "      <td>MFVFLVLLPLVSSQCVNLTTRTQLPPAYTNSFTRGVYYPDKVFRSS...</td>\n",
       "      <td>Severe acute respiratory syndrome coronavirus ...</td>\n",
       "      <td>1273</td>\n",
       "      <td>Homo sapiens (Human) [TaxID: 9606]</td>\n",
       "      <td>Human</td>\n",
       "    </tr>\n",
       "    <tr>\n",
       "      <th>5</th>\n",
       "      <td>P15423</td>\n",
       "      <td>MFVLLVAYALLHIAGCQTTNGLNTSYSVCNGCVGYSENVFAVESGG...</td>\n",
       "      <td>Human coronavirus 229E (HCoV-229E)</td>\n",
       "      <td>1173</td>\n",
       "      <td>Homo sapiens (Human) [TaxID: 9606]</td>\n",
       "      <td>Human</td>\n",
       "    </tr>\n",
       "    <tr>\n",
       "      <th>12</th>\n",
       "      <td>P36334</td>\n",
       "      <td>MFLILLISLPTAFAVIGDLKCTSDNINDKDTGPPPISTDTVDVTNG...</td>\n",
       "      <td>Human coronavirus OC43 (HCoV-OC43)</td>\n",
       "      <td>1353</td>\n",
       "      <td>Homo sapiens (Human) [TaxID: 9606]</td>\n",
       "      <td>Human</td>\n",
       "    </tr>\n",
       "    <tr>\n",
       "      <th>14</th>\n",
       "      <td>Q0ZME7</td>\n",
       "      <td>MFLIIFILPTTLAVIGDFNCTNSFINDYNKTIPRISEDVVDVSLGL...</td>\n",
       "      <td>Human coronavirus HKU1 (isolate N5) (HCoV-HKU1)</td>\n",
       "      <td>1351</td>\n",
       "      <td>Homo sapiens (Human) [TaxID: 9606]</td>\n",
       "      <td>Human</td>\n",
       "    </tr>\n",
       "    <tr>\n",
       "      <th>15</th>\n",
       "      <td>Q14EB0</td>\n",
       "      <td>MFLIIFILPTTLAVIGDFNCTNSFINDYNKTIPRISEDVVDVSLGL...</td>\n",
       "      <td>Human coronavirus HKU1 (isolate N2) (HCoV-HKU1)</td>\n",
       "      <td>1351</td>\n",
       "      <td>Homo sapiens (Human) [TaxID: 9606]</td>\n",
       "      <td>Human</td>\n",
       "    </tr>\n",
       "  </tbody>\n",
       "</table>\n",
       "</div>"
      ],
      "text/plain": [
       "        id                                                seq  \\\n",
       "2   P0DTC2  MFVFLVLLPLVSSQCVNLTTRTQLPPAYTNSFTRGVYYPDKVFRSS...   \n",
       "5   P15423  MFVLLVAYALLHIAGCQTTNGLNTSYSVCNGCVGYSENVFAVESGG...   \n",
       "12  P36334  MFLILLISLPTAFAVIGDLKCTSDNINDKDTGPPPISTDTVDVTNG...   \n",
       "14  Q0ZME7  MFLIIFILPTTLAVIGDFNCTNSFINDYNKTIPRISEDVVDVSLGL...   \n",
       "15  Q14EB0  MFLIIFILPTTLAVIGDFNCTNSFINDYNKTIPRISEDVVDVSLGL...   \n",
       "\n",
       "                                                virus  seq_len  \\\n",
       "2   Severe acute respiratory syndrome coronavirus ...     1273   \n",
       "5                  Human coronavirus 229E (HCoV-229E)     1173   \n",
       "12                 Human coronavirus OC43 (HCoV-OC43)     1353   \n",
       "14    Human coronavirus HKU1 (isolate N5) (HCoV-HKU1)     1351   \n",
       "15    Human coronavirus HKU1 (isolate N2) (HCoV-HKU1)     1351   \n",
       "\n",
       "                            virus_host binary_label  \n",
       "2   Homo sapiens (Human) [TaxID: 9606]        Human  \n",
       "5   Homo sapiens (Human) [TaxID: 9606]        Human  \n",
       "12  Homo sapiens (Human) [TaxID: 9606]        Human  \n",
       "14  Homo sapiens (Human) [TaxID: 9606]        Human  \n",
       "15  Homo sapiens (Human) [TaxID: 9606]        Human  "
      ]
     },
     "execution_count": 75,
     "metadata": {},
     "output_type": "execute_result"
    }
   ],
   "source": [
    "uniprotkb_coronaviruses_humans_df = uniprotkb_coronaviruses_df[uniprotkb_coronaviruses_df[\"virus_host\"] == \"Homo sapiens (Human) [TaxID: 9606]\"]\n",
    "print(uniprotkb_coronaviruses_humans_df.shape)\n",
    "uniprotkb_coronaviruses_humans_df.head()"
   ]
  },
  {
   "cell_type": "code",
   "execution_count": 76,
   "id": "65e1d908",
   "metadata": {},
   "outputs": [
    {
     "name": "stdout",
     "output_type": "stream",
     "text": [
      "min seq len = 35\n",
      "max seq len = 1366\n"
     ]
    },
    {
     "data": {
      "image/png": "[encoded data removed]",
      "text/plain": [
       "<Figure size 640x480 with 1 Axes>"
      ]
     },
     "metadata": {},
     "output_type": "display_data"
    }
   ],
   "source": [
    "sns.histplot(uniprotkb_coronaviruses_humans_df[\"seq_len\"])\n",
    "print(f\"min seq len = {min(uniprotkb_coronaviruses_humans_df['seq_len'])}\")\n",
    "print(f\"max seq len = {max(uniprotkb_coronaviruses_humans_df['seq_len'])}\")\n",
    "plt.show()"
   ]
  },
  {
   "cell_type": "code",
   "execution_count": 86,
   "id": "1f371b50",
   "metadata": {},
   "outputs": [
    {
     "name": "stdout",
     "output_type": "stream",
     "text": [
      "Grouping labels using config : {'Pig': ['Sus scrofa (Pig) [TaxID: 9823]'], 'Human': ['Homo sapiens (Human) [TaxID: 9606]'], 'Wild turkey': ['Meleagris gallopavo (Wild turkey) [TaxID: 9103]'], 'Japanese pipistrelle': ['Pipistrellus abramus (Japanese pipistrelle) (Pipistrellus javanicus abramus) [TaxID: 105295]'], 'Lesser bamboo bat': ['Tylonycteris pachypus (Lesser bamboo bat) (Vespertilio pachypus) [TaxID: 258959]'], 'Chicken': ['Gallus gallus (Chicken) [TaxID: 9031]'], 'Bovine': ['Bos taurus (Bovine) [TaxID: 9913]']}\n",
      "label_idx_map={'Bovine': 0, 'Chicken': 1, 'Human': 2, 'Japanese pipistrelle': 3, 'Lesser bamboo bat': 4, 'Pig': 5, 'Wild turkey': 6}\n",
      "idx_label_map={0: 'Bovine', 1: 'Chicken', 2: 'Human', 3: 'Japanese pipistrelle', 4: 'Lesser bamboo bat', 5: 'Pig', 6: 'Wild turkey'}\n",
      "[2]\n",
      "torch.Size([1, 1453])\n",
      "tensor([[14.,  2., 17.,  ...,  0.,  0.,  0.]], device='cuda:0',\n",
      "       dtype=torch.float64)\n",
      "torch.Size([1])\n",
      "tensor([2], device='cuda:0')\n"
     ]
    },
    {
     "name": "stderr",
     "output_type": "stream",
     "text": [
      "/home/grads/blessyantony/dev/git/zoonosis/src/jupyter_notebooks/interpretation/../../../src/utils/utils.py:56: SettingWithCopyWarning: \n",
      "A value is trying to be set on a copy of a slice from a DataFrame\n",
      "\n",
      "See the caveats in the documentation: https://pandas.pydata.org/pandas-docs/stable/user_guide/indexing.html#returning-a-view-versus-a-copy\n",
      "  df.loc[df[label_col].isin(v), label_col] = k\n",
      "/home/grads/blessyantony/dev/git/zoonosis/src/jupyter_notebooks/interpretation/../../../src/utils/utils.py:43: SettingWithCopyWarning: \n",
      "A value is trying to be set on a copy of a slice from a DataFrame.\n",
      "Try using .loc[row_indexer,col_indexer] = value instead\n",
      "\n",
      "See the caveats in the documentation: https://pandas.pydata.org/pandas-docs/stable/user_guide/indexing.html#returning-a-view-versus-a-copy\n",
      "  df[label_col] = df[label_col].transform(lambda x: label_idx_map[x])\n",
      "/tmp/ipykernel_26483/845779479.py:25: SettingWithCopyWarning: \n",
      "A value is trying to be set on a copy of a slice from a DataFrame.\n",
      "Try using .loc[row_indexer,col_indexer] = value instead\n",
      "\n",
      "See the caveats in the documentation: https://pandas.pydata.org/pandas-docs/stable/user_guide/indexing.html#returning-a-view-versus-a-copy\n",
      "  df[self.sequence_col] = df[self.sequence_col].apply(lambda x: x[0:self.max_seq_len])\n"
     ]
    }
   ],
   "source": [
    "index_label_map, coronavirus_dataset_loader = load_dataset_with_df(uniprotkb_coronaviruses_humans_df, test_sequence_settings)\n",
    "print_dataset_loader(coronavirus_dataset_loader)\n",
    "# Random seq, label from coronavirus_dataset_loader\n",
    "coronavirus_seq, coronavirus_label = next(iter(coronavirus_dataset_loader))"
   ]
  },
  {
   "cell_type": "markdown",
   "id": "ab719dd1",
   "metadata": {},
   "source": [
    "### Load the trained model"
   ]
  },
  {
   "cell_type": "markdown",
   "id": "b79ff211",
   "metadata": {},
   "source": [
    "##### Model: TF trained on Coronaviridae S protein dataset\n",
    "#### Model: TF - PosEmb_SINCOS - MSL_1024 - d_512\n",
    "#### Training Dataset: UniProtKB Coronaviridae 5K\n",
    "#### Manual Seed = 0"
   ]
  },
  {
   "cell_type": "code",
   "execution_count": 22,
   "id": "63452bb1",
   "metadata": {},
   "outputs": [
    {
     "name": "stdout",
     "output_type": "stream",
     "text": [
      "Transformer(\n",
      "  (embedding): EmbeddingLayer(\n",
      "    (token_embedding): Embedding(27, 512)\n",
      "    (positional_embedding): PositionalEncoding()\n",
      "  )\n",
      "  (encoder): Encoder(\n",
      "    (layers): ModuleList(\n",
      "      (0-5): 6 x EncoderLayer(\n",
      "        (self_attn): MultiHeadAttention(\n",
      "          (W_Q): Linear(in_features=512, out_features=512, bias=True)\n",
      "          (W_K): Linear(in_features=512, out_features=512, bias=True)\n",
      "          (W_V): Linear(in_features=512, out_features=512, bias=True)\n",
      "          (W_O): Linear(in_features=512, out_features=512, bias=True)\n",
      "        )\n",
      "        (feed_forward): FeedForwardLayer(\n",
      "          (W_1): Linear(in_features=512, out_features=1024, bias=True)\n",
      "          (W_2): Linear(in_features=1024, out_features=512, bias=True)\n",
      "        )\n",
      "        (residual_connections): ModuleList(\n",
      "          (0-1): 2 x ResidualConnectionLayer(\n",
      "            (norm): NormalizationLayer()\n",
      "          )\n",
      "        )\n",
      "      )\n",
      "    )\n",
      "    (norm): NormalizationLayer()\n",
      "  )\n",
      "  (linear): Linear(in_features=512, out_features=7, bias=True)\n",
      ")\n",
      "Number of parameters =  12621831\n"
     ]
    }
   ],
   "source": [
    "model_path = \"/home/grads/blessyantony/dev/git/zoonosis/output/raw/coronaviridae/20230813/host_multi_baseline_focal/transformer-l_6-h_8_itr0.pth\"\n",
    "nlp_model_coronaviridae = transformer.get_transformer_model(model)\n",
    "nlp_model_coronaviridae.load_state_dict(torch.load(model_path))\n",
    "nlp_model_coronaviridae = nlp_model_coronaviridae.to(nn_utils.get_device())\n"
   ]
  },
  {
   "cell_type": "code",
   "execution_count": 113,
   "id": "2c7e6180",
   "metadata": {},
   "outputs": [],
   "source": [
    "class TransformerModel(nn.Module):\n",
    "    def __init__(self, n_tokens, max_seq_len, n_classes, N=6, input_dim=512, hidden_dim=1024, h=8):\n",
    "        super(Transformer, self).__init__()\n",
    "        self.embedding = EmbeddingLayer(vocab_size=n_tokens, max_seq_len=max_seq_len, dim=input_dim)\n",
    "\n",
    "\n",
    "        encoder_layers = TransformerEncoderLayer(d_model=input_dim, nhead=h, d_hid=hidden_dim, dropout=0.0, batch_first=True)\n",
    "        self.transformer_encoder = TransformerEncoder(encoder_layers, N, batch_first=True)\n",
    "\n",
    "        self.linear = nn.Linear(input_dim, n_classes)\n",
    "        self.init_weights()\n",
    "    \n",
    "    def init_weights(self):\n",
    "        initrange = 0.1\n",
    "        self.linear.bias.data.zero_()\n",
    "        self.linear.weight.data.uniform_(-initrange, initrange)\n",
    "        \n",
    "    def forward(self, X):\n",
    "        X = self.embedding(X)\n",
    "        X = self.transformer_encoder(X, src_mask=None)\n",
    "        # pool the embeddings of all tokens using mean\n",
    "        X = X.mean(dim=1)\n",
    "\n",
    "        y = self.linear(X)\n",
    "        return y"
   ]
  },
  {
   "cell_type": "markdown",
   "id": "6f2b626e",
   "metadata": {},
   "source": [
    "### Prediction Performance"
   ]
  },
  {
   "cell_type": "code",
   "execution_count": 23,
   "id": "9bcdf84d",
   "metadata": {},
   "outputs": [],
   "source": [
    "def validate(model, dataset_loader):\n",
    "    with torch.no_grad():\n",
    "        model.eval()\n",
    "\n",
    "        results = []\n",
    "\n",
    "        for _, data in enumerate(dataset_loader):\n",
    "            # get input and labels; data is a list of [(inputs, labels)]\n",
    "            inputs, labels = data\n",
    "\n",
    "            output = model(inputs)\n",
    "\n",
    "            # tensorboard + logs\n",
    "\n",
    "            # to get probabilities of the output\n",
    "            output = F.softmax(output, dim=-1)\n",
    "            result_df = pd.DataFrame(output.cpu().numpy())\n",
    "            result_df[\"y_true\"] = labels.cpu().numpy()\n",
    "            results.append(result_df)\n",
    "    \n",
    "    return pd.concat(results, ignore_index=True)"
   ]
  },
  {
   "cell_type": "code",
   "execution_count": 25,
   "id": "346d9a40",
   "metadata": {},
   "outputs": [],
   "source": [
    "results = validate(nlp_model_coronaviridae, coronavirus_dataset_loader)"
   ]
  },
  {
   "cell_type": "code",
   "execution_count": 30,
   "id": "56d3e426",
   "metadata": {},
   "outputs": [
    {
     "data": {
      "text/plain": [
       "{0: 'Bovine',\n",
       " 1: 'Chicken',\n",
       " 2: 'Human',\n",
       " 3: 'Japanese pipistrelle',\n",
       " 4: 'Lesser bamboo bat',\n",
       " 5: 'Pig',\n",
       " 6: 'Wild turkey'}"
      ]
     },
     "execution_count": 30,
     "metadata": {},
     "output_type": "execute_result"
    }
   ],
   "source": [
    "index_label_map"
   ]
  },
  {
   "cell_type": "code",
   "execution_count": 34,
   "id": "07b9bd0c",
   "metadata": {},
   "outputs": [
    {
     "data": {
      "text/html": [
       "<div>\n",
       "<style scoped>\n",
       "    .dataframe tbody tr th:only-of-type {\n",
       "        vertical-align: middle;\n",
       "    }\n",
       "\n",
       "    .dataframe tbody tr th {\n",
       "        vertical-align: top;\n",
       "    }\n",
       "\n",
       "    .dataframe thead th {\n",
       "        text-align: right;\n",
       "    }\n",
       "</style>\n",
       "<table border=\"1\" class=\"dataframe\">\n",
       "  <thead>\n",
       "    <tr style=\"text-align: right;\">\n",
       "      <th></th>\n",
       "      <th>Bovine</th>\n",
       "      <th>Chicken</th>\n",
       "      <th>Human</th>\n",
       "      <th>Japanese pipistrelle</th>\n",
       "      <th>Lesser bamboo bat</th>\n",
       "      <th>Pig</th>\n",
       "      <th>Wild turkey</th>\n",
       "      <th>y_true</th>\n",
       "    </tr>\n",
       "  </thead>\n",
       "  <tbody>\n",
       "    <tr>\n",
       "      <th>0</th>\n",
       "      <td>0.009269</td>\n",
       "      <td>0.003829</td>\n",
       "      <td>0.909964</td>\n",
       "      <td>0.002700</td>\n",
       "      <td>0.020296</td>\n",
       "      <td>0.000029</td>\n",
       "      <td>0.053912</td>\n",
       "      <td>Human</td>\n",
       "    </tr>\n",
       "    <tr>\n",
       "      <th>1</th>\n",
       "      <td>0.009764</td>\n",
       "      <td>0.003731</td>\n",
       "      <td>0.909157</td>\n",
       "      <td>0.002866</td>\n",
       "      <td>0.021172</td>\n",
       "      <td>0.000030</td>\n",
       "      <td>0.053281</td>\n",
       "      <td>Human</td>\n",
       "    </tr>\n",
       "    <tr>\n",
       "      <th>2</th>\n",
       "      <td>0.003933</td>\n",
       "      <td>0.363466</td>\n",
       "      <td>0.250910</td>\n",
       "      <td>0.002976</td>\n",
       "      <td>0.006701</td>\n",
       "      <td>0.300310</td>\n",
       "      <td>0.071703</td>\n",
       "      <td>Human</td>\n",
       "    </tr>\n",
       "    <tr>\n",
       "      <th>3</th>\n",
       "      <td>0.009451</td>\n",
       "      <td>0.003829</td>\n",
       "      <td>0.909095</td>\n",
       "      <td>0.002748</td>\n",
       "      <td>0.020634</td>\n",
       "      <td>0.000029</td>\n",
       "      <td>0.054213</td>\n",
       "      <td>Human</td>\n",
       "    </tr>\n",
       "    <tr>\n",
       "      <th>4</th>\n",
       "      <td>0.006680</td>\n",
       "      <td>0.004134</td>\n",
       "      <td>0.917927</td>\n",
       "      <td>0.001995</td>\n",
       "      <td>0.015391</td>\n",
       "      <td>0.000027</td>\n",
       "      <td>0.053846</td>\n",
       "      <td>Human</td>\n",
       "    </tr>\n",
       "    <tr>\n",
       "      <th>...</th>\n",
       "      <td>...</td>\n",
       "      <td>...</td>\n",
       "      <td>...</td>\n",
       "      <td>...</td>\n",
       "      <td>...</td>\n",
       "      <td>...</td>\n",
       "      <td>...</td>\n",
       "      <td>...</td>\n",
       "    </tr>\n",
       "    <tr>\n",
       "      <th>2395</th>\n",
       "      <td>0.003224</td>\n",
       "      <td>0.393320</td>\n",
       "      <td>0.252757</td>\n",
       "      <td>0.002440</td>\n",
       "      <td>0.005823</td>\n",
       "      <td>0.263034</td>\n",
       "      <td>0.079401</td>\n",
       "      <td>Human</td>\n",
       "    </tr>\n",
       "    <tr>\n",
       "      <th>2396</th>\n",
       "      <td>0.017362</td>\n",
       "      <td>0.005303</td>\n",
       "      <td>0.844665</td>\n",
       "      <td>0.004939</td>\n",
       "      <td>0.036343</td>\n",
       "      <td>0.000037</td>\n",
       "      <td>0.091352</td>\n",
       "      <td>Human</td>\n",
       "    </tr>\n",
       "    <tr>\n",
       "      <th>2397</th>\n",
       "      <td>0.046468</td>\n",
       "      <td>0.011549</td>\n",
       "      <td>0.591894</td>\n",
       "      <td>0.013795</td>\n",
       "      <td>0.090605</td>\n",
       "      <td>0.000068</td>\n",
       "      <td>0.245622</td>\n",
       "      <td>Human</td>\n",
       "    </tr>\n",
       "    <tr>\n",
       "      <th>2398</th>\n",
       "      <td>0.006362</td>\n",
       "      <td>0.004318</td>\n",
       "      <td>0.916721</td>\n",
       "      <td>0.001909</td>\n",
       "      <td>0.014835</td>\n",
       "      <td>0.000027</td>\n",
       "      <td>0.055828</td>\n",
       "      <td>Human</td>\n",
       "    </tr>\n",
       "    <tr>\n",
       "      <th>2399</th>\n",
       "      <td>0.339343</td>\n",
       "      <td>0.000690</td>\n",
       "      <td>0.041447</td>\n",
       "      <td>0.267811</td>\n",
       "      <td>0.331174</td>\n",
       "      <td>0.018418</td>\n",
       "      <td>0.001116</td>\n",
       "      <td>Human</td>\n",
       "    </tr>\n",
       "  </tbody>\n",
       "</table>\n",
       "<p>2400 rows × 8 columns</p>\n",
       "</div>"
      ],
      "text/plain": [
       "        Bovine   Chicken     Human  Japanese pipistrelle  Lesser bamboo bat  \\\n",
       "0     0.009269  0.003829  0.909964              0.002700           0.020296   \n",
       "1     0.009764  0.003731  0.909157              0.002866           0.021172   \n",
       "2     0.003933  0.363466  0.250910              0.002976           0.006701   \n",
       "3     0.009451  0.003829  0.909095              0.002748           0.020634   \n",
       "4     0.006680  0.004134  0.917927              0.001995           0.015391   \n",
       "...        ...       ...       ...                   ...                ...   \n",
       "2395  0.003224  0.393320  0.252757              0.002440           0.005823   \n",
       "2396  0.017362  0.005303  0.844665              0.004939           0.036343   \n",
       "2397  0.046468  0.011549  0.591894              0.013795           0.090605   \n",
       "2398  0.006362  0.004318  0.916721              0.001909           0.014835   \n",
       "2399  0.339343  0.000690  0.041447              0.267811           0.331174   \n",
       "\n",
       "           Pig  Wild turkey y_true  \n",
       "0     0.000029     0.053912  Human  \n",
       "1     0.000030     0.053281  Human  \n",
       "2     0.300310     0.071703  Human  \n",
       "3     0.000029     0.054213  Human  \n",
       "4     0.000027     0.053846  Human  \n",
       "...        ...          ...    ...  \n",
       "2395  0.263034     0.079401  Human  \n",
       "2396  0.000037     0.091352  Human  \n",
       "2397  0.000068     0.245622  Human  \n",
       "2398  0.000027     0.055828  Human  \n",
       "2399  0.018418     0.001116  Human  \n",
       "\n",
       "[2400 rows x 8 columns]"
      ]
     },
     "execution_count": 34,
     "metadata": {},
     "output_type": "execute_result"
    }
   ],
   "source": [
    "results_df = results.rename(columns=index_label_map)\n",
    "results_df[\"y_true\"] = results_df[\"y_true\"].map(lambda x: index_label_map[x])\n",
    "results_df"
   ]
  },
  {
   "cell_type": "code",
   "execution_count": 36,
   "id": "f84f90ac",
   "metadata": {},
   "outputs": [
    {
     "name": "stdout",
     "output_type": "stream",
     "text": [
      "AUPRC for class Bovine = 0.5\n",
      "AUPRC for class Chicken = 0.5\n",
      "AUPRC for class Human = 1.0\n",
      "AUPRC for class Japanese pipistrelle = 0.5\n",
      "AUPRC for class Lesser bamboo bat = 0.5\n",
      "AUPRC for class Pig = 0.5\n",
      "AUPRC for class Wild turkey = 0.5\n",
      "Macro AUPRC = 0.5714285714285714\n"
     ]
    },
    {
     "name": "stderr",
     "output_type": "stream",
     "text": [
      "/home/grads/blessyantony/anaconda3/envs/zoonosis/lib/python3.10/site-packages/sklearn/metrics/_ranking.py:879: UserWarning: No positive class found in y_true, recall is set to one for all thresholds.\n",
      "  warnings.warn(\n",
      "/home/grads/blessyantony/anaconda3/envs/zoonosis/lib/python3.10/site-packages/sklearn/metrics/_ranking.py:879: UserWarning: No positive class found in y_true, recall is set to one for all thresholds.\n",
      "  warnings.warn(\n",
      "/home/grads/blessyantony/anaconda3/envs/zoonosis/lib/python3.10/site-packages/sklearn/metrics/_ranking.py:879: UserWarning: No positive class found in y_true, recall is set to one for all thresholds.\n",
      "  warnings.warn(\n",
      "/home/grads/blessyantony/anaconda3/envs/zoonosis/lib/python3.10/site-packages/sklearn/metrics/_ranking.py:879: UserWarning: No positive class found in y_true, recall is set to one for all thresholds.\n",
      "  warnings.warn(\n",
      "/home/grads/blessyantony/anaconda3/envs/zoonosis/lib/python3.10/site-packages/sklearn/metrics/_ranking.py:879: UserWarning: No positive class found in y_true, recall is set to one for all thresholds.\n",
      "  warnings.warn(\n",
      "/home/grads/blessyantony/anaconda3/envs/zoonosis/lib/python3.10/site-packages/sklearn/metrics/_ranking.py:879: UserWarning: No positive class found in y_true, recall is set to one for all thresholds.\n",
      "  warnings.warn(\n"
     ]
    }
   ],
   "source": [
    "auprcs = []\n",
    "for i in index_label_map.values():\n",
    "    precision, recall, _ = precision_recall_curve(y_true=results_df[\"y_true\"].values, probas_pred=results_df[i].values, pos_label=i)\n",
    "    auprc = auc(recall, precision)\n",
    "    print(f\"AUPRC for class {i} = {auprc}\")\n",
    "    auprcs.append(auprc)\n",
    "\n",
    "macro_auprc = mean(auprcs)\n",
    "print(f\"Macro AUPRC = {macro_auprc}\")"
   ]
  },
  {
   "cell_type": "code",
   "execution_count": 88,
   "id": "12d58d0c",
   "metadata": {},
   "outputs": [],
   "source": [
    "rbd_positions = [332,333,334,335,337,339,340,344,345,346,347,348,349,351,352,354,356,359,362,364,366,367,370,371,372,373,375,376,378,380,381,382,384,385,388,389,390,393,394,395,396,397,399,401,402,403,404,405,406,407,410,411,412,413,414,415,417,418,419,420,424,425,426,427,428,430,431,432,433,434,435,436,437,438,439,440,441,443,444,445,446,447,448,449,450,451,452,453,454,455,456,457,458,459,460,461,462,463,465,466,467,468,469,470,471,472,473,474,475,476,477,478,479,480,481,482,483,484,485,486,487,489,490,491,493,494,495,496,498,499,500,501,502,503,504,505,506,507,508,509,510,511,512,513,514,515,516,517,518,519,520,522,524]\n",
    "rbm_positions = range(438, 506)"
   ]
  },
  {
   "cell_type": "markdown",
   "id": "0a222cad",
   "metadata": {},
   "source": [
    "### Saliency Scores: Gradient Based"
   ]
  },
  {
   "cell_type": "code",
   "execution_count": 105,
   "id": "c41e8e81",
   "metadata": {},
   "outputs": [],
   "source": [
    "# Random seq, label from coronavirus_dataset_loader\n",
    "coronavirus_seq, coronavirus_label = next(iter(coronavirus_dataset_loader))"
   ]
  },
  {
   "cell_type": "code",
   "execution_count": 106,
   "id": "7264e208",
   "metadata": {},
   "outputs": [],
   "source": [
    "coronavirus_seq.requires_grad = True\n",
    "coronavirus_seq.retain_grad=True\n",
    "# forward pass to calculate predictions\n",
    "prediction = nlp_model_coronaviridae(coronavirus_seq)"
   ]
  },
  {
   "cell_type": "code",
   "execution_count": 107,
   "id": "a90539e9",
   "metadata": {},
   "outputs": [
    {
     "name": "stdout",
     "output_type": "stream",
     "text": [
      "torch.Size([1, 7])\n"
     ]
    },
    {
     "data": {
      "text/plain": [
       "tensor([[ 2.0022, -3.9619, -0.2079,  1.8773,  1.9596, -0.3123, -3.7544]],\n",
       "       device='cuda:0', grad_fn=<AddmmBackward0>)"
      ]
     },
     "execution_count": 107,
     "metadata": {},
     "output_type": "execute_result"
    }
   ],
   "source": [
    "print(prediction.shape)\n",
    "prediction"
   ]
  },
  {
   "cell_type": "code",
   "execution_count": 108,
   "id": "5622a110",
   "metadata": {},
   "outputs": [
    {
     "name": "stdout",
     "output_type": "stream",
     "text": [
      "max_pred_score = tensor([2.0022], device='cuda:0', grad_fn=<MaxBackward0>), max_pred_index=tensor([0], device='cuda:0')\n"
     ]
    }
   ],
   "source": [
    "# get index of class with highest prediction score\n",
    "max_pred_score, max_pred_index = torch.max(prediction, dim=1)\n",
    "print(f\"max_pred_score = {max_pred_score}, max_pred_index={max_pred_index}\")"
   ]
  },
  {
   "cell_type": "code",
   "execution_count": 109,
   "id": "4f0449b6",
   "metadata": {},
   "outputs": [],
   "source": [
    "# backward pass on the maximum prediction score to get gradients of score predicted class w.r.t. input image\n",
    "\n",
    "max_pred_score.backward()"
   ]
  },
  {
   "cell_type": "code",
   "execution_count": 110,
   "id": "f8d0304d",
   "metadata": {},
   "outputs": [
    {
     "name": "stdout",
     "output_type": "stream",
     "text": [
      "None\n"
     ]
    }
   ],
   "source": [
    "print(coronavirus_seq.grad)"
   ]
  },
  {
   "cell_type": "code",
   "execution_count": null,
   "id": "5ca8e630",
   "metadata": {},
   "outputs": [],
   "source": []
  }
 ],
 "metadata": {
  "kernelspec": {
   "display_name": "Python 3 (ipykernel)",
   "language": "python",
   "name": "python3"
  },
  "language_info": {
   "codemirror_mode": {
    "name": "ipython",
    "version": 3
   },
   "file_extension": ".py",
   "mimetype": "text/x-python",
   "name": "python",
   "nbconvert_exporter": "python",
   "pygments_lexer": "ipython3",
   "version": "3.10.6"
  }
 },
 "nbformat": 4,
 "nbformat_minor": 5
}
