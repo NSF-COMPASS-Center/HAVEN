{
 "cells": [
  {
   "cell_type": "markdown",
   "id": "5e2ecf0f",
   "metadata": {},
   "source": [
    "## Results of Host Prediction\n",
    "### Dataset: EMBL mapping, Vertebrates, Non-IDV\n",
    "\n",
    "**Models**: FNN, CNN, RNN, LSTM, TF\n",
    "\n",
    "**Positional Embedding**: Sin-Cos\n",
    "\n",
    "**Maximum Sequence Length**: 1036\n",
    "\n",
    "**Classification**: Multi-class\n",
    "\n",
    "**\\# classes**: 5\n",
    "\n",
    "**\\# train samples** = \n",
    "\n",
    "**\\# validation samples** = \n",
    "\n",
    "**\\# test samples** = "
   ]
  },
  {
   "cell_type": "code",
   "execution_count": 1,
   "id": "8349fb54",
   "metadata": {},
   "outputs": [],
   "source": [
    "import seaborn"
   ]
  },
  {
   "cell_type": "code",
   "execution_count": 2,
   "id": "dcd79b74",
   "metadata": {},
   "outputs": [
    {
     "name": "stdout",
     "output_type": "stream",
     "text": [
      "Defaulting to user installation because normal site-packages is not writeable\n",
      "Looking in indexes: https://pypi.org/simple, https://pypi.ngc.nvidia.com\n",
      "Requirement already satisfied: statannotations in /home/blessyantony/.local/lib/python3.8/site-packages (0.6.0)\n",
      "Requirement already satisfied: matplotlib>=2.2.2 in /opt/conda/lib/python3.8/site-packages (from statannotations) (3.5.0)\n",
      "Requirement already satisfied: pandas<2.0.0,>=0.23.0 in /opt/conda/lib/python3.8/site-packages (from statannotations) (1.3.4)\n",
      "Requirement already satisfied: seaborn<0.12,>=0.9.0 in /home/blessyantony/.local/lib/python3.8/site-packages (from statannotations) (0.11.2)\n",
      "Requirement already satisfied: numpy>=1.12.1 in /opt/conda/lib/python3.8/site-packages (from statannotations) (1.21.4)\n",
      "Requirement already satisfied: scipy>=1.1.0 in /opt/conda/lib/python3.8/site-packages (from statannotations) (1.6.3)\n",
      "Requirement already satisfied: packaging>=20.0 in /opt/conda/lib/python3.8/site-packages (from matplotlib>=2.2.2->statannotations) (21.3)\n",
      "Requirement already satisfied: fonttools>=4.22.0 in /opt/conda/lib/python3.8/site-packages (from matplotlib>=2.2.2->statannotations) (4.28.2)\n",
      "Requirement already satisfied: python-dateutil>=2.7 in /opt/conda/lib/python3.8/site-packages (from matplotlib>=2.2.2->statannotations) (2.8.2)\n",
      "Requirement already satisfied: setuptools-scm>=4 in /opt/conda/lib/python3.8/site-packages (from matplotlib>=2.2.2->statannotations) (6.3.2)\n",
      "Requirement already satisfied: kiwisolver>=1.0.1 in /opt/conda/lib/python3.8/site-packages (from matplotlib>=2.2.2->statannotations) (1.3.2)\n",
      "Requirement already satisfied: pillow>=6.2.0 in /opt/conda/lib/python3.8/site-packages (from matplotlib>=2.2.2->statannotations) (8.2.0)\n",
      "Requirement already satisfied: pyparsing>=2.2.1 in /opt/conda/lib/python3.8/site-packages (from matplotlib>=2.2.2->statannotations) (3.0.6)\n",
      "Requirement already satisfied: cycler>=0.10 in /opt/conda/lib/python3.8/site-packages (from matplotlib>=2.2.2->statannotations) (0.11.0)\n",
      "Requirement already satisfied: pytz>=2017.3 in /opt/conda/lib/python3.8/site-packages (from pandas<2.0.0,>=0.23.0->statannotations) (2021.3)\n",
      "Requirement already satisfied: six>=1.5 in /opt/conda/lib/python3.8/site-packages (from python-dateutil>=2.7->matplotlib>=2.2.2->statannotations) (1.16.0)\n",
      "Requirement already satisfied: tomli>=1.0.0 in /opt/conda/lib/python3.8/site-packages (from setuptools-scm>=4->matplotlib>=2.2.2->statannotations) (1.2.2)\n",
      "Requirement already satisfied: setuptools in /opt/conda/lib/python3.8/site-packages (from setuptools-scm>=4->matplotlib>=2.2.2->statannotations) (59.4.0)\n",
      "Defaulting to user installation because normal site-packages is not writeable\n",
      "Looking in indexes: https://pypi.org/simple, https://pypi.ngc.nvidia.com\n",
      "Requirement already satisfied: statsmodels in /home/blessyantony/.local/lib/python3.8/site-packages (0.14.1)\n",
      "Requirement already satisfied: patsy>=0.5.4 in /home/blessyantony/.local/lib/python3.8/site-packages (from statsmodels) (0.5.6)\n",
      "Requirement already satisfied: pandas!=2.1.0,>=1.0 in /opt/conda/lib/python3.8/site-packages (from statsmodels) (1.3.4)\n",
      "Requirement already satisfied: scipy!=1.9.2,>=1.4 in /opt/conda/lib/python3.8/site-packages (from statsmodels) (1.6.3)\n",
      "Requirement already satisfied: packaging>=21.3 in /opt/conda/lib/python3.8/site-packages (from statsmodels) (21.3)\n",
      "Requirement already satisfied: numpy<2,>=1.18 in /opt/conda/lib/python3.8/site-packages (from statsmodels) (1.21.4)\n",
      "Requirement already satisfied: pyparsing!=3.0.5,>=2.0.2 in /opt/conda/lib/python3.8/site-packages (from packaging>=21.3->statsmodels) (3.0.6)\n",
      "Requirement already satisfied: python-dateutil>=2.7.3 in /opt/conda/lib/python3.8/site-packages (from pandas!=2.1.0,>=1.0->statsmodels) (2.8.2)\n",
      "Requirement already satisfied: pytz>=2017.3 in /opt/conda/lib/python3.8/site-packages (from pandas!=2.1.0,>=1.0->statsmodels) (2021.3)\n",
      "Requirement already satisfied: six in /opt/conda/lib/python3.8/site-packages (from patsy>=0.5.4->statsmodels) (1.16.0)\n"
     ]
    }
   ],
   "source": [
    "! pip install statannotations\n",
    "! pip install statsmodels"
   ]
  },
  {
   "cell_type": "code",
   "execution_count": 3,
   "id": "6cfca147",
   "metadata": {
    "scrolled": false
   },
   "outputs": [
    {
     "data": {
      "text/plain": [
       "['/home/blessyantony/dev/git/zoonosis/src/jupyter_notebooks/results-analysis/uniref90/embl',\n",
       " '/opt/conda/lib/python38.zip',\n",
       " '/opt/conda/lib/python3.8',\n",
       " '/opt/conda/lib/python3.8/lib-dynload',\n",
       " '',\n",
       " '/home/blessyantony/.local/lib/python3.8/site-packages',\n",
       " '/opt/conda/lib/python3.8/site-packages',\n",
       " '/opt/conda/lib/python3.8/site-packages/IPython/extensions',\n",
       " '/home/blessyantony/.ipython',\n",
       " '/home/blessyantony/dev/git/zoonosis/src/jupyter_notebooks/results-analysis/uniref90/embl/../../../../..',\n",
       " '/home/blessyantony/dev/git/zoonosis/src/jupyter_notebooks/results-analysis/uniref90/embl/../../../..',\n",
       " '/home/blessyantony/dev/git/zoonosis/src/jupyter_notebooks/results-analysis/uniref90/embl/../../..',\n",
       " '/home/blessyantony/dev/git/zoonosis/src/jupyter_notebooks/results-analysis/uniref90/embl/../..']"
      ]
     },
     "execution_count": 3,
     "metadata": {},
     "output_type": "execute_result"
    }
   ],
   "source": [
    "import sys\n",
    "import os\n",
    "from scipy.stats import mannwhitneyu\n",
    "sys.path.append(os.path.join(os.getcwd(), \"..\", \"..\", \"..\", \"..\", \"..\"))\n",
    "sys.path.append(os.path.join(os.getcwd(), \"..\", \"..\", \"..\", \"..\"))\n",
    "sys.path.append(os.path.join(os.getcwd(), \"..\", \"..\", \"..\"))\n",
    "sys.path.append(os.path.join(os.getcwd(), \"..\", \"..\"))\n",
    "sys.path"
   ]
  },
  {
   "cell_type": "code",
   "execution_count": 4,
   "id": "22cbf7ce",
   "metadata": {
    "scrolled": true
   },
   "outputs": [],
   "source": [
    "import pandas as pd\n",
    "import os\n",
    "import numpy as np\n",
    "import seaborn as sns\n",
    "import matplotlib.pyplot as plt\n",
    "from pathlib import Path\n",
    "from scipy.stats import mannwhitneyu\n",
    "from src.utils import visualization_utils\n",
    "from statannotations.Annotator import Annotator"
   ]
  },
  {
   "cell_type": "code",
   "execution_count": 5,
   "id": "cb6c3cc1",
   "metadata": {
    "scrolled": true
   },
   "outputs": [],
   "source": [
    "itr_col = \"itr\"\n",
    "experiment_col = \"experiment\"\n",
    "y_true_col = \"y_true\"\n",
    "human_col = \"Human\"\n",
    "plt.rcParams['xtick.labelsize'] = 20\n",
    "plt.rcParams['ytick.labelsize'] = 20\n",
    "plt.rcParams['figure.autolayout'] = True\n",
    "\n",
    "DEFAULT_FIGURE_CONFIG = {\n",
    "    \"figsize\": (10, 10),\n",
    "    \"xtick.labelsize\": 18,\n",
    "    \"ytick.labelsize\": 18    \n",
    "}\n",
    "\n",
    "\n"
   ]
  },
  {
   "cell_type": "code",
   "execution_count": 6,
   "id": "e1e184b3",
   "metadata": {
    "scrolled": true
   },
   "outputs": [
    {
     "data": {
      "text/html": [
       "<div>\n",
       "<style scoped>\n",
       "    .dataframe tbody tr th:only-of-type {\n",
       "        vertical-align: middle;\n",
       "    }\n",
       "\n",
       "    .dataframe tbody tr th {\n",
       "        vertical-align: top;\n",
       "    }\n",
       "\n",
       "    .dataframe thead th {\n",
       "        text-align: right;\n",
       "    }\n",
       "</style>\n",
       "<table border=\"1\" class=\"dataframe\">\n",
       "  <thead>\n",
       "    <tr style=\"text-align: right;\">\n",
       "      <th></th>\n",
       "      <th>itr</th>\n",
       "      <th>experiment</th>\n",
       "      <th>auprc</th>\n",
       "    </tr>\n",
       "  </thead>\n",
       "  <tbody>\n",
       "    <tr>\n",
       "      <th>0</th>\n",
       "      <td>0</td>\n",
       "      <td>CNN</td>\n",
       "      <td>0.615186</td>\n",
       "    </tr>\n",
       "    <tr>\n",
       "      <th>1</th>\n",
       "      <td>1</td>\n",
       "      <td>CNN</td>\n",
       "      <td>0.611248</td>\n",
       "    </tr>\n",
       "    <tr>\n",
       "      <th>2</th>\n",
       "      <td>2</td>\n",
       "      <td>CNN</td>\n",
       "      <td>0.592894</td>\n",
       "    </tr>\n",
       "    <tr>\n",
       "      <th>3</th>\n",
       "      <td>3</td>\n",
       "      <td>CNN</td>\n",
       "      <td>0.548679</td>\n",
       "    </tr>\n",
       "    <tr>\n",
       "      <th>4</th>\n",
       "      <td>4</td>\n",
       "      <td>CNN</td>\n",
       "      <td>0.594882</td>\n",
       "    </tr>\n",
       "    <tr>\n",
       "      <th>5</th>\n",
       "      <td>0</td>\n",
       "      <td>LSTM</td>\n",
       "      <td>0.609153</td>\n",
       "    </tr>\n",
       "    <tr>\n",
       "      <th>6</th>\n",
       "      <td>1</td>\n",
       "      <td>LSTM</td>\n",
       "      <td>0.619420</td>\n",
       "    </tr>\n",
       "    <tr>\n",
       "      <th>7</th>\n",
       "      <td>2</td>\n",
       "      <td>LSTM</td>\n",
       "      <td>0.647563</td>\n",
       "    </tr>\n",
       "    <tr>\n",
       "      <th>8</th>\n",
       "      <td>3</td>\n",
       "      <td>LSTM</td>\n",
       "      <td>0.607311</td>\n",
       "    </tr>\n",
       "    <tr>\n",
       "      <th>9</th>\n",
       "      <td>4</td>\n",
       "      <td>LSTM</td>\n",
       "      <td>0.592242</td>\n",
       "    </tr>\n",
       "    <tr>\n",
       "      <th>10</th>\n",
       "      <td>0</td>\n",
       "      <td>Transformer-Encoder</td>\n",
       "      <td>0.684101</td>\n",
       "    </tr>\n",
       "    <tr>\n",
       "      <th>11</th>\n",
       "      <td>1</td>\n",
       "      <td>Transformer-Encoder</td>\n",
       "      <td>0.676797</td>\n",
       "    </tr>\n",
       "    <tr>\n",
       "      <th>12</th>\n",
       "      <td>2</td>\n",
       "      <td>Transformer-Encoder</td>\n",
       "      <td>0.643067</td>\n",
       "    </tr>\n",
       "    <tr>\n",
       "      <th>13</th>\n",
       "      <td>3</td>\n",
       "      <td>Transformer-Encoder</td>\n",
       "      <td>0.682758</td>\n",
       "    </tr>\n",
       "    <tr>\n",
       "      <th>14</th>\n",
       "      <td>4</td>\n",
       "      <td>Transformer-Encoder</td>\n",
       "      <td>0.585893</td>\n",
       "    </tr>\n",
       "    <tr>\n",
       "      <th>15</th>\n",
       "      <td>0</td>\n",
       "      <td>ProteinBERT</td>\n",
       "      <td>0.707902</td>\n",
       "    </tr>\n",
       "    <tr>\n",
       "      <th>16</th>\n",
       "      <td>1</td>\n",
       "      <td>ProteinBERT</td>\n",
       "      <td>0.733048</td>\n",
       "    </tr>\n",
       "    <tr>\n",
       "      <th>17</th>\n",
       "      <td>2</td>\n",
       "      <td>ProteinBERT</td>\n",
       "      <td>0.714691</td>\n",
       "    </tr>\n",
       "    <tr>\n",
       "      <th>18</th>\n",
       "      <td>3</td>\n",
       "      <td>ProteinBERT</td>\n",
       "      <td>0.706463</td>\n",
       "    </tr>\n",
       "    <tr>\n",
       "      <th>19</th>\n",
       "      <td>4</td>\n",
       "      <td>ProteinBERT</td>\n",
       "      <td>0.727451</td>\n",
       "    </tr>\n",
       "    <tr>\n",
       "      <th>20</th>\n",
       "      <td>0</td>\n",
       "      <td>VirProBERT</td>\n",
       "      <td>0.759992</td>\n",
       "    </tr>\n",
       "    <tr>\n",
       "      <th>21</th>\n",
       "      <td>1</td>\n",
       "      <td>VirProBERT</td>\n",
       "      <td>0.753071</td>\n",
       "    </tr>\n",
       "    <tr>\n",
       "      <th>22</th>\n",
       "      <td>2</td>\n",
       "      <td>VirProBERT</td>\n",
       "      <td>0.754607</td>\n",
       "    </tr>\n",
       "    <tr>\n",
       "      <th>23</th>\n",
       "      <td>3</td>\n",
       "      <td>VirProBERT</td>\n",
       "      <td>0.735709</td>\n",
       "    </tr>\n",
       "    <tr>\n",
       "      <th>24</th>\n",
       "      <td>4</td>\n",
       "      <td>VirProBERT</td>\n",
       "      <td>0.730681</td>\n",
       "    </tr>\n",
       "  </tbody>\n",
       "</table>\n",
       "</div>"
      ],
      "text/plain": [
       "    itr           experiment     auprc\n",
       "0     0                  CNN  0.615186\n",
       "1     1                  CNN  0.611248\n",
       "2     2                  CNN  0.592894\n",
       "3     3                  CNN  0.548679\n",
       "4     4                  CNN  0.594882\n",
       "5     0                 LSTM  0.609153\n",
       "6     1                 LSTM  0.619420\n",
       "7     2                 LSTM  0.647563\n",
       "8     3                 LSTM  0.607311\n",
       "9     4                 LSTM  0.592242\n",
       "10    0  Transformer-Encoder  0.684101\n",
       "11    1  Transformer-Encoder  0.676797\n",
       "12    2  Transformer-Encoder  0.643067\n",
       "13    3  Transformer-Encoder  0.682758\n",
       "14    4  Transformer-Encoder  0.585893\n",
       "15    0          ProteinBERT  0.707902\n",
       "16    1          ProteinBERT  0.733048\n",
       "17    2          ProteinBERT  0.714691\n",
       "18    3          ProteinBERT  0.706463\n",
       "19    4          ProteinBERT  0.727451\n",
       "20    0           VirProBERT  0.759992\n",
       "21    1           VirProBERT  0.753071\n",
       "22    2           VirProBERT  0.754607\n",
       "23    3           VirProBERT  0.735709\n",
       "24    4           VirProBERT  0.730681"
      ]
     },
     "execution_count": 6,
     "metadata": {},
     "output_type": "execute_result"
    }
   ],
   "source": [
    "df = pd.read_csv(os.path.join(os.getcwd(), \"..\", \"..\", \"..\", \"..\", \"..\", \"output/evaluation/uniref90/20240312/prelim_exam/host_multi_all_models_evaluation_metrics.csv\"))\n",
    "df.drop(columns=\"Unnamed: 0\", inplace=True)\n",
    "df"
   ]
  },
  {
   "cell_type": "code",
   "execution_count": 7,
   "id": "449abfaf",
   "metadata": {},
   "outputs": [],
   "source": [
    "pairs = [(\"VirProBERT\", \"ProteinBERT\"),\n",
    "        (\"VirProBERT\", \"Transformer-Encoder\"),\n",
    "        (\"VirProBERT\", \"LSTM\"),\n",
    "        (\"VirProBERT\", \"CNN\")]\n",
    "virprobert_values = df[df[\"experiment\"] == \"VirProBERT\"][\"auprc\"].values\n",
    "proteinbert_values = df[df[\"experiment\"] == \"ProteinBERT\"][\"auprc\"].values\n",
    "cnn_values = df[df[\"experiment\"] == \"CNN\"][\"auprc\"].values\n",
    "lstm_values = df[df[\"experiment\"] == \"LSTM\"][\"auprc\"].values\n",
    "tf_enc_values = df[df[\"experiment\"] == \"Transformer-Encoder\"][\"auprc\"].values"
   ]
  },
  {
   "cell_type": "code",
   "execution_count": 8,
   "id": "6eac752a",
   "metadata": {},
   "outputs": [],
   "source": [
    "p_values = [mannwhitneyu(virprobert_values, proteinbert_values, alternative=\"two-sided\").pvalue,\n",
    "            mannwhitneyu(virprobert_values, tf_enc_values, alternative=\"two-sided\").pvalue,\n",
    "            mannwhitneyu(virprobert_values, lstm_values, alternative=\"two-sided\").pvalue,\n",
    "            mannwhitneyu(virprobert_values, cnn_values, alternative=\"two-sided\").pvalue]"
   ]
  },
  {
   "cell_type": "code",
   "execution_count": 9,
   "id": "aac14e86",
   "metadata": {},
   "outputs": [
    {
     "data": {
      "text/plain": [
       "[0.02157174794772092,\n",
       " 0.012185780355344813,\n",
       " 0.012185780355344813,\n",
       " 0.012185780355344813]"
      ]
     },
     "execution_count": 9,
     "metadata": {},
     "output_type": "execute_result"
    }
   ],
   "source": [
    "p_values"
   ]
  },
  {
   "cell_type": "code",
   "execution_count": 10,
   "id": "310907c5",
   "metadata": {},
   "outputs": [
    {
     "name": "stdout",
     "output_type": "stream",
     "text": [
      "['p=2.16e-02', 'p=1.22e-02', 'p=1.22e-02', 'p=1.22e-02']\n"
     ]
    }
   ],
   "source": [
    "formatted_pvalues= [f\"p={p_value:.2e}\" for p_value in p_values]\n",
    "print(formatted_pvalues)\n",
    "from statannotations.Annotator import Annotator"
   ]
  },
  {
   "cell_type": "code",
   "execution_count": 15,
   "id": "1f146c17",
   "metadata": {},
   "outputs": [
    {
     "name": "stdout",
     "output_type": "stream",
     "text": [
      "p-value annotation legend:\n",
      "      ns: 5.00e-02 < p <= 1.00e+00\n",
      "       *: 1.00e-02 < p <= 5.00e-02\n",
      "      **: 1.00e-03 < p <= 1.00e-02\n",
      "     ***: 1.00e-04 < p <= 1.00e-03\n",
      "    ****: p <= 1.00e-04\n",
      "\n",
      "ProteinBERT vs. VirProBERT: Custom statistical test, P_val:2.157e-02\n",
      "Transformer-Encoder vs. VirProBERT: Custom statistical test, P_val:1.219e-02\n",
      "LSTM vs. VirProBERT: Custom statistical test, P_val:1.219e-02\n",
      "CNN vs. VirProBERT: Custom statistical test, P_val:1.219e-02\n"
     ]
    },
    {
     "data": {
      "text/plain": [
       "<Figure size 432x288 with 0 Axes>"
      ]
     },
     "metadata": {},
     "output_type": "display_data"
    },
    {
     "data": {
      "image/png": "[encoded data removed]",
      "text/plain": [
       "<Figure size 648x504 with 1 Axes>"
      ]
     },
     "metadata": {},
     "output_type": "display_data"
    }
   ],
   "source": [
    "DEFAULT_FIGURE_CONFIG = {\n",
    "    \"figsize\": (9, 7),\n",
    "    \"xtick.labelsize\": 16,\n",
    "    \"ytick.labelsize\": 16\n",
    "}\n",
    "\n",
    "plotting_parameters = {\n",
    "    'data':    df,\n",
    "    'x':       'experiment',\n",
    "    'y':       'auprc',\n",
    "    'palette': \"deep\"\n",
    "}\n",
    "\n",
    "visualization_utils.pre_plot_config(DEFAULT_FIGURE_CONFIG)\n",
    "ax = sns.boxplot(**plotting_parameters)\n",
    "annotator = Annotator(ax, pairs, **plotting_parameters)\n",
    "#annotator.set_custom_annotations(p_values)\n",
    "annotator.set_pvalues(p_values)\n",
    "#annotator.configure(test=\"Mann-Whitney\")\n",
    "ax.set_xlabel(\"\", size=20, labelpad=5)\n",
    "ax.set_ylabel(\"AUPRC\", size=20)\n",
    "plt.xticks(rotation=45)\n",
    "visualization_utils.wrap_xticklabels(ax)\n",
    "#annotator.apply_and_annotate()\n",
    "annotator.annotate()\n",
    "ax.set_ylim(0.5, 1)\n",
    "plt.tight_layout()\n",
    "plt.savefig(os.path.join(os.getcwd(), \"..\", \"..\", \"..\", \"..\", \"..\", \"output/visualization/prelim_exam/host_multi_all_models_auprc_boxplot.pdf\"), bbox_inches=\"tight\")\n",
    "plt.show()"
   ]
  },
  {
   "cell_type": "code",
   "execution_count": null,
   "id": "a9b1cab6",
   "metadata": {},
   "outputs": [],
   "source": []
  }
 ],
 "metadata": {
  "kernelspec": {
   "display_name": "Python 3 (ipykernel)",
   "language": "python",
   "name": "python3"
  },
  "language_info": {
   "codemirror_mode": {
    "name": "ipython",
    "version": 3
   },
   "file_extension": ".py",
   "mimetype": "text/x-python",
   "name": "python",
   "nbconvert_exporter": "python",
   "pygments_lexer": "ipython3",
   "version": "3.8.12"
  }
 },
 "nbformat": 4,
 "nbformat_minor": 5
}
