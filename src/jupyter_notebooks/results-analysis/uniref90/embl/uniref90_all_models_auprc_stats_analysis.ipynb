{
 "cells": [
  {
   "cell_type": "markdown",
   "id": "5e2ecf0f",
   "metadata": {},
   "source": [
    "## Results of Host Prediction\n",
    "### Dataset: EMBL mapping, Vertebrates, Non-IDV\n",
    "\n",
    "**Models**: FNN, CNN, RNN, LSTM, TF\n",
    "\n",
    "**Positional Embedding**: Sin-Cos\n",
    "\n",
    "**Maximum Sequence Length**: 1036\n",
    "\n",
    "**Classification**: Multi-class\n",
    "\n",
    "**\\# classes**: 5\n",
    "\n",
    "**\\# train samples** = \n",
    "\n",
    "**\\# validation samples** = \n",
    "\n",
    "**\\# test samples** = "
   ]
  },
  {
   "cell_type": "code",
   "execution_count": 1,
   "id": "8349fb54",
   "metadata": {},
   "outputs": [],
   "source": [
    "import seaborn"
   ]
  },
  {
   "cell_type": "code",
   "execution_count": 4,
   "id": "dcd79b74",
   "metadata": {},
   "outputs": [
    {
     "name": "stdout",
     "output_type": "stream",
     "text": [
      "Requirement already satisfied: statannotations in c:\\users\\bless\\anaconda3\\envs\\zoonosis\\lib\\site-packages (0.6.0)\n",
      "Requirement already satisfied: pandas<2.0.0,>=0.23.0 in c:\\users\\bless\\anaconda3\\envs\\zoonosis\\lib\\site-packages (from statannotations) (1.4.4)\n",
      "Requirement already satisfied: seaborn<0.12,>=0.9.0 in c:\\users\\bless\\anaconda3\\envs\\zoonosis\\lib\\site-packages (from statannotations) (0.11.2)\n",
      "Requirement already satisfied: numpy>=1.12.1 in c:\\users\\bless\\anaconda3\\envs\\zoonosis\\lib\\site-packages (from statannotations) (1.23.3)\n",
      "Requirement already satisfied: matplotlib>=2.2.2 in c:\\users\\bless\\anaconda3\\envs\\zoonosis\\lib\\site-packages (from statannotations) (3.5.2)\n",
      "Requirement already satisfied: scipy>=1.1.0 in c:\\users\\bless\\anaconda3\\envs\\zoonosis\\lib\\site-packages (from statannotations) (1.9.1)\n",
      "Requirement already satisfied: fonttools>=4.22.0 in c:\\users\\bless\\anaconda3\\envs\\zoonosis\\lib\\site-packages (from matplotlib>=2.2.2->statannotations) (4.25.0)\n",
      "Requirement already satisfied: python-dateutil>=2.7 in c:\\users\\bless\\anaconda3\\envs\\zoonosis\\lib\\site-packages (from matplotlib>=2.2.2->statannotations) (2.8.2)\n",
      "Requirement already satisfied: kiwisolver>=1.0.1 in c:\\users\\bless\\anaconda3\\envs\\zoonosis\\lib\\site-packages (from matplotlib>=2.2.2->statannotations) (1.4.2)\n",
      "Requirement already satisfied: pyparsing>=2.2.1 in c:\\users\\bless\\anaconda3\\envs\\zoonosis\\lib\\site-packages (from matplotlib>=2.2.2->statannotations) (3.0.9)\n",
      "Requirement already satisfied: pillow>=6.2.0 in c:\\users\\bless\\anaconda3\\envs\\zoonosis\\lib\\site-packages (from matplotlib>=2.2.2->statannotations) (10.2.0)\n",
      "Requirement already satisfied: packaging>=20.0 in c:\\users\\bless\\anaconda3\\envs\\zoonosis\\lib\\site-packages (from matplotlib>=2.2.2->statannotations) (21.3)\n",
      "Requirement already satisfied: cycler>=0.10 in c:\\users\\bless\\anaconda3\\envs\\zoonosis\\lib\\site-packages (from matplotlib>=2.2.2->statannotations) (0.11.0)\n",
      "Requirement already satisfied: pytz>=2020.1 in c:\\users\\bless\\anaconda3\\envs\\zoonosis\\lib\\site-packages (from pandas<2.0.0,>=0.23.0->statannotations) (2022.1)\n",
      "Requirement already satisfied: six>=1.5 in c:\\users\\bless\\anaconda3\\envs\\zoonosis\\lib\\site-packages (from python-dateutil>=2.7->matplotlib>=2.2.2->statannotations) (1.16.0)\n",
      "Collecting statsmodels\n",
      "  Downloading statsmodels-0.14.1-cp310-cp310-win_amd64.whl (9.8 MB)\n",
      "     ---------------------------------------- 9.8/9.8 MB 2.7 MB/s eta 0:00:00\n",
      "Requirement already satisfied: packaging>=21.3 in c:\\users\\bless\\anaconda3\\envs\\zoonosis\\lib\\site-packages (from statsmodels) (21.3)\n",
      "Requirement already satisfied: pandas!=2.1.0,>=1.0 in c:\\users\\bless\\anaconda3\\envs\\zoonosis\\lib\\site-packages (from statsmodels) (1.4.4)\n",
      "Requirement already satisfied: scipy!=1.9.2,>=1.4 in c:\\users\\bless\\anaconda3\\envs\\zoonosis\\lib\\site-packages (from statsmodels) (1.9.1)\n",
      "Collecting patsy>=0.5.4\n",
      "  Downloading patsy-0.5.6-py2.py3-none-any.whl (233 kB)\n",
      "     -------------------------------------- 233.9/233.9 kB 3.6 MB/s eta 0:00:00\n",
      "Requirement already satisfied: numpy<2,>=1.18 in c:\\users\\bless\\anaconda3\\envs\\zoonosis\\lib\\site-packages (from statsmodels) (1.23.3)\n",
      "Requirement already satisfied: pyparsing!=3.0.5,>=2.0.2 in c:\\users\\bless\\anaconda3\\envs\\zoonosis\\lib\\site-packages (from packaging>=21.3->statsmodels) (3.0.9)\n",
      "Requirement already satisfied: pytz>=2020.1 in c:\\users\\bless\\anaconda3\\envs\\zoonosis\\lib\\site-packages (from pandas!=2.1.0,>=1.0->statsmodels) (2022.1)\n",
      "Requirement already satisfied: python-dateutil>=2.8.1 in c:\\users\\bless\\anaconda3\\envs\\zoonosis\\lib\\site-packages (from pandas!=2.1.0,>=1.0->statsmodels) (2.8.2)\n",
      "Requirement already satisfied: six in c:\\users\\bless\\anaconda3\\envs\\zoonosis\\lib\\site-packages (from patsy>=0.5.4->statsmodels) (1.16.0)\n",
      "Installing collected packages: patsy, statsmodels\n",
      "Successfully installed patsy-0.5.6 statsmodels-0.14.1\n"
     ]
    }
   ],
   "source": [
    "! pip install statannotations\n",
    "! pip install statsmodels"
   ]
  },
  {
   "cell_type": "code",
   "execution_count": 5,
   "id": "6cfca147",
   "metadata": {
    "scrolled": false
   },
   "outputs": [
    {
     "data": {
      "text/plain": [
       "['C:\\\\Dev\\\\git\\\\zoonosis\\\\src\\\\jupyter_notebooks\\\\results-analysis\\\\uniref90\\\\embl',\n",
       " 'C:\\\\Users\\\\bless\\\\anaconda3\\\\python39.zip',\n",
       " 'C:\\\\Users\\\\bless\\\\anaconda3\\\\DLLs',\n",
       " 'C:\\\\Users\\\\bless\\\\anaconda3\\\\lib',\n",
       " 'C:\\\\Users\\\\bless\\\\anaconda3',\n",
       " '',\n",
       " 'C:\\\\Users\\\\bless\\\\anaconda3\\\\lib\\\\site-packages',\n",
       " 'C:\\\\Users\\\\bless\\\\anaconda3\\\\lib\\\\site-packages\\\\locket-0.2.1-py3.9.egg',\n",
       " 'C:\\\\Users\\\\bless\\\\anaconda3\\\\lib\\\\site-packages\\\\win32',\n",
       " 'C:\\\\Users\\\\bless\\\\anaconda3\\\\lib\\\\site-packages\\\\win32\\\\lib',\n",
       " 'C:\\\\Users\\\\bless\\\\anaconda3\\\\lib\\\\site-packages\\\\Pythonwin',\n",
       " 'C:\\\\Users\\\\bless\\\\anaconda3\\\\lib\\\\site-packages\\\\IPython\\\\extensions',\n",
       " 'C:\\\\Users\\\\bless\\\\.ipython',\n",
       " 'C:\\\\Dev\\\\git\\\\zoonosis\\\\src\\\\jupyter_notebooks\\\\results-analysis\\\\uniref90\\\\embl\\\\..\\\\..\\\\..\\\\..\\\\..',\n",
       " 'C:\\\\Dev\\\\git\\\\zoonosis\\\\src\\\\jupyter_notebooks\\\\results-analysis\\\\uniref90\\\\embl\\\\..\\\\..\\\\..\\\\..',\n",
       " 'C:\\\\Dev\\\\git\\\\zoonosis\\\\src\\\\jupyter_notebooks\\\\results-analysis\\\\uniref90\\\\embl\\\\..\\\\..\\\\..',\n",
       " 'C:\\\\Dev\\\\git\\\\zoonosis\\\\src\\\\jupyter_notebooks\\\\results-analysis\\\\uniref90\\\\embl\\\\..\\\\..',\n",
       " 'C:\\\\Dev\\\\git\\\\zoonosis\\\\src\\\\jupyter_notebooks\\\\results-analysis\\\\uniref90\\\\embl\\\\..\\\\..\\\\..\\\\..\\\\..',\n",
       " 'C:\\\\Dev\\\\git\\\\zoonosis\\\\src\\\\jupyter_notebooks\\\\results-analysis\\\\uniref90\\\\embl\\\\..\\\\..\\\\..\\\\..',\n",
       " 'C:\\\\Dev\\\\git\\\\zoonosis\\\\src\\\\jupyter_notebooks\\\\results-analysis\\\\uniref90\\\\embl\\\\..\\\\..\\\\..',\n",
       " 'C:\\\\Dev\\\\git\\\\zoonosis\\\\src\\\\jupyter_notebooks\\\\results-analysis\\\\uniref90\\\\embl\\\\..\\\\..']"
      ]
     },
     "execution_count": 5,
     "metadata": {},
     "output_type": "execute_result"
    }
   ],
   "source": [
    "import sys\n",
    "import os\n",
    "from scipy.stats import mannwhitneyu\n",
    "sys.path.append(os.path.join(os.getcwd(), \"..\", \"..\", \"..\", \"..\", \"..\"))\n",
    "sys.path.append(os.path.join(os.getcwd(), \"..\", \"..\", \"..\", \"..\"))\n",
    "sys.path.append(os.path.join(os.getcwd(), \"..\", \"..\", \"..\"))\n",
    "sys.path.append(os.path.join(os.getcwd(), \"..\", \"..\"))\n",
    "sys.path"
   ]
  },
  {
   "cell_type": "code",
   "execution_count": 12,
   "id": "22cbf7ce",
   "metadata": {
    "scrolled": true
   },
   "outputs": [],
   "source": [
    "import pandas as pd\n",
    "import os\n",
    "import numpy as np\n",
    "import seaborn as sns\n",
    "import matplotlib.pyplot as plt\n",
    "from pathlib import Path\n",
    "from scipy.stats import mannwhitneyu\n",
    "#from statannotations.Annotator import Annotator"
   ]
  },
  {
   "cell_type": "code",
   "execution_count": 8,
   "id": "cb6c3cc1",
   "metadata": {
    "scrolled": true
   },
   "outputs": [],
   "source": [
    "itr_col = \"itr\"\n",
    "experiment_col = \"experiment\"\n",
    "y_true_col = \"y_true\"\n",
    "human_col = \"Human\"\n",
    "plt.rcParams['xtick.labelsize'] = 20\n",
    "plt.rcParams['ytick.labelsize'] = 20\n",
    "plt.rcParams['figure.autolayout'] = True\n",
    "\n",
    "DEFAULT_FIGURE_CONFIG = {\n",
    "    \"figsize\": (10, 10),\n",
    "    \"xtick.labelsize\": 18,\n",
    "    \"ytick.labelsize\": 18    \n",
    "}\n",
    "\n",
    "\n"
   ]
  },
  {
   "cell_type": "code",
   "execution_count": 11,
   "id": "e1e184b3",
   "metadata": {
    "scrolled": true
   },
   "outputs": [
    {
     "data": {
      "text/html": [
       "<div>\n",
       "<style scoped>\n",
       "    .dataframe tbody tr th:only-of-type {\n",
       "        vertical-align: middle;\n",
       "    }\n",
       "\n",
       "    .dataframe tbody tr th {\n",
       "        vertical-align: top;\n",
       "    }\n",
       "\n",
       "    .dataframe thead th {\n",
       "        text-align: right;\n",
       "    }\n",
       "</style>\n",
       "<table border=\"1\" class=\"dataframe\">\n",
       "  <thead>\n",
       "    <tr style=\"text-align: right;\">\n",
       "      <th></th>\n",
       "      <th>itr</th>\n",
       "      <th>experiment</th>\n",
       "      <th>auprc</th>\n",
       "    </tr>\n",
       "  </thead>\n",
       "  <tbody>\n",
       "    <tr>\n",
       "      <th>0</th>\n",
       "      <td>0</td>\n",
       "      <td>CNN</td>\n",
       "      <td>0.615186</td>\n",
       "    </tr>\n",
       "    <tr>\n",
       "      <th>1</th>\n",
       "      <td>1</td>\n",
       "      <td>CNN</td>\n",
       "      <td>0.611248</td>\n",
       "    </tr>\n",
       "    <tr>\n",
       "      <th>2</th>\n",
       "      <td>2</td>\n",
       "      <td>CNN</td>\n",
       "      <td>0.592894</td>\n",
       "    </tr>\n",
       "    <tr>\n",
       "      <th>3</th>\n",
       "      <td>3</td>\n",
       "      <td>CNN</td>\n",
       "      <td>0.548679</td>\n",
       "    </tr>\n",
       "    <tr>\n",
       "      <th>4</th>\n",
       "      <td>4</td>\n",
       "      <td>CNN</td>\n",
       "      <td>0.594882</td>\n",
       "    </tr>\n",
       "    <tr>\n",
       "      <th>5</th>\n",
       "      <td>0</td>\n",
       "      <td>LSTM</td>\n",
       "      <td>0.609153</td>\n",
       "    </tr>\n",
       "    <tr>\n",
       "      <th>6</th>\n",
       "      <td>1</td>\n",
       "      <td>LSTM</td>\n",
       "      <td>0.619420</td>\n",
       "    </tr>\n",
       "    <tr>\n",
       "      <th>7</th>\n",
       "      <td>2</td>\n",
       "      <td>LSTM</td>\n",
       "      <td>0.647563</td>\n",
       "    </tr>\n",
       "    <tr>\n",
       "      <th>8</th>\n",
       "      <td>3</td>\n",
       "      <td>LSTM</td>\n",
       "      <td>0.607311</td>\n",
       "    </tr>\n",
       "    <tr>\n",
       "      <th>9</th>\n",
       "      <td>4</td>\n",
       "      <td>LSTM</td>\n",
       "      <td>0.592242</td>\n",
       "    </tr>\n",
       "    <tr>\n",
       "      <th>10</th>\n",
       "      <td>0</td>\n",
       "      <td>Transformer-Encoder</td>\n",
       "      <td>0.684101</td>\n",
       "    </tr>\n",
       "    <tr>\n",
       "      <th>11</th>\n",
       "      <td>1</td>\n",
       "      <td>Transformer-Encoder</td>\n",
       "      <td>0.676797</td>\n",
       "    </tr>\n",
       "    <tr>\n",
       "      <th>12</th>\n",
       "      <td>2</td>\n",
       "      <td>Transformer-Encoder</td>\n",
       "      <td>0.643067</td>\n",
       "    </tr>\n",
       "    <tr>\n",
       "      <th>13</th>\n",
       "      <td>3</td>\n",
       "      <td>Transformer-Encoder</td>\n",
       "      <td>0.682758</td>\n",
       "    </tr>\n",
       "    <tr>\n",
       "      <th>14</th>\n",
       "      <td>4</td>\n",
       "      <td>Transformer-Encoder</td>\n",
       "      <td>0.585893</td>\n",
       "    </tr>\n",
       "    <tr>\n",
       "      <th>15</th>\n",
       "      <td>0</td>\n",
       "      <td>ProteinBERT</td>\n",
       "      <td>0.707902</td>\n",
       "    </tr>\n",
       "    <tr>\n",
       "      <th>16</th>\n",
       "      <td>1</td>\n",
       "      <td>ProteinBERT</td>\n",
       "      <td>0.733048</td>\n",
       "    </tr>\n",
       "    <tr>\n",
       "      <th>17</th>\n",
       "      <td>2</td>\n",
       "      <td>ProteinBERT</td>\n",
       "      <td>0.714691</td>\n",
       "    </tr>\n",
       "    <tr>\n",
       "      <th>18</th>\n",
       "      <td>3</td>\n",
       "      <td>ProteinBERT</td>\n",
       "      <td>0.706463</td>\n",
       "    </tr>\n",
       "    <tr>\n",
       "      <th>19</th>\n",
       "      <td>4</td>\n",
       "      <td>ProteinBERT</td>\n",
       "      <td>0.727451</td>\n",
       "    </tr>\n",
       "    <tr>\n",
       "      <th>20</th>\n",
       "      <td>0</td>\n",
       "      <td>VirProBERT</td>\n",
       "      <td>0.759992</td>\n",
       "    </tr>\n",
       "    <tr>\n",
       "      <th>21</th>\n",
       "      <td>1</td>\n",
       "      <td>VirProBERT</td>\n",
       "      <td>0.753071</td>\n",
       "    </tr>\n",
       "    <tr>\n",
       "      <th>22</th>\n",
       "      <td>2</td>\n",
       "      <td>VirProBERT</td>\n",
       "      <td>0.754607</td>\n",
       "    </tr>\n",
       "    <tr>\n",
       "      <th>23</th>\n",
       "      <td>3</td>\n",
       "      <td>VirProBERT</td>\n",
       "      <td>0.735709</td>\n",
       "    </tr>\n",
       "    <tr>\n",
       "      <th>24</th>\n",
       "      <td>4</td>\n",
       "      <td>VirProBERT</td>\n",
       "      <td>0.730681</td>\n",
       "    </tr>\n",
       "  </tbody>\n",
       "</table>\n",
       "</div>"
      ],
      "text/plain": [
       "    itr           experiment     auprc\n",
       "0     0                  CNN  0.615186\n",
       "1     1                  CNN  0.611248\n",
       "2     2                  CNN  0.592894\n",
       "3     3                  CNN  0.548679\n",
       "4     4                  CNN  0.594882\n",
       "5     0                 LSTM  0.609153\n",
       "6     1                 LSTM  0.619420\n",
       "7     2                 LSTM  0.647563\n",
       "8     3                 LSTM  0.607311\n",
       "9     4                 LSTM  0.592242\n",
       "10    0  Transformer-Encoder  0.684101\n",
       "11    1  Transformer-Encoder  0.676797\n",
       "12    2  Transformer-Encoder  0.643067\n",
       "13    3  Transformer-Encoder  0.682758\n",
       "14    4  Transformer-Encoder  0.585893\n",
       "15    0          ProteinBERT  0.707902\n",
       "16    1          ProteinBERT  0.733048\n",
       "17    2          ProteinBERT  0.714691\n",
       "18    3          ProteinBERT  0.706463\n",
       "19    4          ProteinBERT  0.727451\n",
       "20    0           VirProBERT  0.759992\n",
       "21    1           VirProBERT  0.753071\n",
       "22    2           VirProBERT  0.754607\n",
       "23    3           VirProBERT  0.735709\n",
       "24    4           VirProBERT  0.730681"
      ]
     },
     "execution_count": 11,
     "metadata": {},
     "output_type": "execute_result"
    }
   ],
   "source": [
    "df = pd.read_csv(os.path.join(os.getcwd(), \"..\", \"..\", \"..\", \"..\", \"..\", \"output/evaluation/uniref90/20240312/prelim_exam/host_multi_all_models_evaluation_metrics.csv\"))\n",
    "df.drop(columns=\"Unnamed: 0\", inplace=True)\n",
    "df"
   ]
  },
  {
   "cell_type": "code",
   "execution_count": 21,
   "id": "449abfaf",
   "metadata": {},
   "outputs": [],
   "source": [
    "pairs = [(\"VirProBERT\", \"ProteinBERT\"),\n",
    "        (\"VirProBERT\", \"Transformer-Encoder\"),\n",
    "        (\"VirProBERT\", \"LSTM\"),\n",
    "        (\"VirProBERT\", \"CNN\")]\n",
    "virprobert_values = df[df[\"experiment\"] == \"VirProBERT\"][\"auprc\"].values\n",
    "proteinbert_values = df[df[\"experiment\"] == \"ProteinBERT\"][\"auprc\"].values\n",
    "cnn_values = df[df[\"experiment\"] == \"CNN\"][\"auprc\"].values\n",
    "lstm_values = df[df[\"experiment\"] == \"LSTM\"][\"auprc\"].values\n",
    "tf_enc_values = df[df[\"experiment\"] == \"Transformer-Encoder\"][\"auprc\"].values"
   ]
  },
  {
   "cell_type": "code",
   "execution_count": 27,
   "id": "6eac752a",
   "metadata": {},
   "outputs": [],
   "source": [
    "p_values = [mannwhitneyu(virprobert_values, proteinbert_values, alternative=\"two-sided\").pvalue, \n",
    "           mannwhitneyu(virprobert_values, tf_enc_values, alternative=\"two-sided\").pvalue,\n",
    "           mannwhitneyu(virprobert_values, lstm_values).pvalue,\n",
    "           mannwhitneyu(virprobert_values, cnn_values).pvalue]"
   ]
  },
  {
   "cell_type": "code",
   "execution_count": 28,
   "id": "aac14e86",
   "metadata": {},
   "outputs": [
    {
     "data": {
      "text/plain": [
       "[0.015873015873015872,\n",
       " 0.007936507936507936,\n",
       " 0.007936507936507936,\n",
       " 0.007936507936507936]"
      ]
     },
     "execution_count": 28,
     "metadata": {},
     "output_type": "execute_result"
    }
   ],
   "source": [
    "p_values"
   ]
  },
  {
   "cell_type": "code",
   "execution_count": 26,
   "id": "310907c5",
   "metadata": {},
   "outputs": [
    {
     "ename": "ModuleNotFoundError",
     "evalue": "No module named 'statannotations'",
     "output_type": "error",
     "traceback": [
      "\u001b[1;31m---------------------------------------------------------------------------\u001b[0m",
      "\u001b[1;31mModuleNotFoundError\u001b[0m                       Traceback (most recent call last)",
      "\u001b[1;32m~\\AppData\\Local\\Temp/ipykernel_11056/3338780661.py\u001b[0m in \u001b[0;36m<module>\u001b[1;34m\u001b[0m\n\u001b[1;32m----> 1\u001b[1;33m \u001b[1;32mfrom\u001b[0m \u001b[0mstatannotations\u001b[0m\u001b[1;33m.\u001b[0m\u001b[0mAnnotator\u001b[0m \u001b[1;32mimport\u001b[0m \u001b[0mAnnotator\u001b[0m\u001b[1;33m\u001b[0m\u001b[1;33m\u001b[0m\u001b[0m\n\u001b[0m",
      "\u001b[1;31mModuleNotFoundError\u001b[0m: No module named 'statannotations'"
     ]
    }
   ],
   "source": [
    "formatted_pvalue s= [f\"p={p_value:.2e}\"]\n",
    "from statannotations.Annotator import Annotator"
   ]
  },
  {
   "cell_type": "code",
   "execution_count": null,
   "id": "1f146c17",
   "metadata": {},
   "outputs": [],
   "source": []
  }
 ],
 "metadata": {
  "kernelspec": {
   "display_name": "Python 3 (ipykernel)",
   "language": "python",
   "name": "python3"
  },
  "language_info": {
   "codemirror_mode": {
    "name": "ipython",
    "version": 3
   },
   "file_extension": ".py",
   "mimetype": "text/x-python",
   "name": "python",
   "nbconvert_exporter": "python",
   "pygments_lexer": "ipython3",
   "version": "3.9.7"
  }
 },
 "nbformat": 4,
 "nbformat_minor": 5
}
