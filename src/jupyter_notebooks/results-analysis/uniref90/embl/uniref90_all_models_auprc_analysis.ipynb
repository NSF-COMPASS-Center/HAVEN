{
 "cells": [
  {
   "cell_type": "markdown",
   "id": "5e2ecf0f",
   "metadata": {},
   "source": [
    "## Results of Host Prediction\n",
    "### Dataset: EMBL mapping, Vertebrates, Non-IDV\n",
    "\n",
    "**Models**: FNN, CNN, RNN, LSTM, TF\n",
    "\n",
    "**Positional Embedding**: Sin-Cos\n",
    "\n",
    "**Maximum Sequence Length**: 1036\n",
    "\n",
    "**Classification**: Multi-class\n",
    "\n",
    "**\\# classes**: 5\n",
    "\n",
    "**\\# train samples** = \n",
    "\n",
    "**\\# validation samples** = \n",
    "\n",
    "**\\# test samples** = "
   ]
  },
  {
   "cell_type": "code",
   "execution_count": 1,
   "id": "8349fb54",
   "metadata": {},
   "outputs": [
    {
     "name": "stdout",
     "output_type": "stream",
     "text": [
      "Requirement already satisfied: seaborn==0.13.0 in /home/grads/blessyantony/anaconda3/envs/zoonosis/lib/python3.10/site-packages (0.13.0)\n",
      "Requirement already satisfied: matplotlib!=3.6.1,>=3.3 in /home/grads/blessyantony/anaconda3/envs/zoonosis/lib/python3.10/site-packages (from seaborn==0.13.0) (3.5.2)\n",
      "Requirement already satisfied: pandas>=1.2 in /home/grads/blessyantony/anaconda3/envs/zoonosis/lib/python3.10/site-packages (from seaborn==0.13.0) (1.4.4)\n",
      "Requirement already satisfied: numpy!=1.24.0,>=1.20 in /home/grads/blessyantony/anaconda3/envs/zoonosis/lib/python3.10/site-packages (from seaborn==0.13.0) (1.23.3)\n",
      "Requirement already satisfied: packaging>=20.0 in /home/grads/blessyantony/anaconda3/envs/zoonosis/lib/python3.10/site-packages (from matplotlib!=3.6.1,>=3.3->seaborn==0.13.0) (23.0)\n",
      "Requirement already satisfied: pillow>=6.2.0 in /home/grads/blessyantony/anaconda3/envs/zoonosis/lib/python3.10/site-packages (from matplotlib!=3.6.1,>=3.3->seaborn==0.13.0) (9.2.0)\n",
      "Requirement already satisfied: cycler>=0.10 in /home/grads/blessyantony/anaconda3/envs/zoonosis/lib/python3.10/site-packages (from matplotlib!=3.6.1,>=3.3->seaborn==0.13.0) (0.11.0)\n",
      "Requirement already satisfied: fonttools>=4.22.0 in /home/grads/blessyantony/anaconda3/envs/zoonosis/lib/python3.10/site-packages (from matplotlib!=3.6.1,>=3.3->seaborn==0.13.0) (4.25.0)\n",
      "Requirement already satisfied: pyparsing>=2.2.1 in /home/grads/blessyantony/anaconda3/envs/zoonosis/lib/python3.10/site-packages (from matplotlib!=3.6.1,>=3.3->seaborn==0.13.0) (3.0.9)\n",
      "Requirement already satisfied: python-dateutil>=2.7 in /home/grads/blessyantony/anaconda3/envs/zoonosis/lib/python3.10/site-packages (from matplotlib!=3.6.1,>=3.3->seaborn==0.13.0) (2.8.2)\n",
      "Requirement already satisfied: kiwisolver>=1.0.1 in /home/grads/blessyantony/anaconda3/envs/zoonosis/lib/python3.10/site-packages (from matplotlib!=3.6.1,>=3.3->seaborn==0.13.0) (1.4.2)\n",
      "Requirement already satisfied: pytz>=2020.1 in /home/grads/blessyantony/anaconda3/envs/zoonosis/lib/python3.10/site-packages (from pandas>=1.2->seaborn==0.13.0) (2022.1)\n",
      "Requirement already satisfied: six>=1.5 in /home/grads/blessyantony/anaconda3/envs/zoonosis/lib/python3.10/site-packages (from python-dateutil>=2.7->matplotlib!=3.6.1,>=3.3->seaborn==0.13.0) (1.16.0)\n"
     ]
    }
   ],
   "source": [
    "import seaborn\n",
    "! echo \"Y\" > pip uninstall statannotations\n",
    "! echo \"Y\" > pip uninstall seaborn\n",
    "!pip install seaborn==0.13.0"
   ]
  },
  {
   "cell_type": "code",
   "execution_count": 2,
   "id": "48749e31",
   "metadata": {},
   "outputs": [
    {
     "data": {
      "text/plain": [
       "'0.13.0'"
      ]
     },
     "execution_count": 2,
     "metadata": {},
     "output_type": "execute_result"
    }
   ],
   "source": [
    "seaborn.__version__"
   ]
  },
  {
   "cell_type": "code",
   "execution_count": 3,
   "id": "6cfca147",
   "metadata": {
    "scrolled": false
   },
   "outputs": [
    {
     "data": {
      "text/plain": [
       "['/home/grads/blessyantony/dev/git/zoonosis/src/jupyter_notebooks/results-analysis/uniref90/embl',\n",
       " '/home/grads/blessyantony/anaconda3/envs/zoonosis/lib/python310.zip',\n",
       " '/home/grads/blessyantony/anaconda3/envs/zoonosis/lib/python3.10',\n",
       " '/home/grads/blessyantony/anaconda3/envs/zoonosis/lib/python3.10/lib-dynload',\n",
       " '',\n",
       " '/home/grads/blessyantony/anaconda3/envs/zoonosis/lib/python3.10/site-packages',\n",
       " '/home/grads/blessyantony/anaconda3/envs/zoonosis/lib/python3.10/site-packages/PyQt5_sip-12.11.0-py3.10-linux-x86_64.egg',\n",
       " '/home/grads/blessyantony/dev/git/zoonosis/src/jupyter_notebooks/results-analysis/uniref90/embl/../../../../..',\n",
       " '/home/grads/blessyantony/dev/git/zoonosis/src/jupyter_notebooks/results-analysis/uniref90/embl/../../../..',\n",
       " '/home/grads/blessyantony/dev/git/zoonosis/src/jupyter_notebooks/results-analysis/uniref90/embl/../../..',\n",
       " '/home/grads/blessyantony/dev/git/zoonosis/src/jupyter_notebooks/results-analysis/uniref90/embl/../..']"
      ]
     },
     "execution_count": 3,
     "metadata": {},
     "output_type": "execute_result"
    }
   ],
   "source": [
    "import sys\n",
    "import os\n",
    "sys.path.append(os.path.join(os.getcwd(), \"..\", \"..\", \"..\", \"..\", \"..\"))\n",
    "sys.path.append(os.path.join(os.getcwd(), \"..\", \"..\", \"..\", \"..\"))\n",
    "sys.path.append(os.path.join(os.getcwd(), \"..\", \"..\", \"..\"))\n",
    "sys.path.append(os.path.join(os.getcwd(), \"..\", \"..\"))\n",
    "sys.path"
   ]
  },
  {
   "cell_type": "code",
   "execution_count": 4,
   "id": "22cbf7ce",
   "metadata": {
    "scrolled": true
   },
   "outputs": [],
   "source": [
    "import pandas as pd\n",
    "import os\n",
    "import numpy as np\n",
    "import seaborn as sns\n",
    "import matplotlib.pyplot as plt\n",
    "from pathlib import Path\n",
    "\n",
    "from src.utils import utils, evaluation_utils, visualization_utils"
   ]
  },
  {
   "cell_type": "code",
   "execution_count": 5,
   "id": "cb6c3cc1",
   "metadata": {
    "scrolled": true
   },
   "outputs": [],
   "source": [
    "itr_col = \"itr\"\n",
    "experiment_col = \"experiment\"\n",
    "y_true_col = \"y_true\"\n",
    "human_col = \"Human\"\n",
    "plt.rcParams['xtick.labelsize'] = 20\n",
    "plt.rcParams['ytick.labelsize'] = 20\n",
    "plt.rcParams['figure.autolayout'] = True\n",
    "\n",
    "DEFAULT_FIGURE_CONFIG = {\n",
    "    \"figsize\": (10, 10),\n",
    "    \"xtick.labelsize\": 18,\n",
    "    \"ytick.labelsize\": 18    \n",
    "}\n",
    "\n",
    "\n",
    "def plot_auprc(auprc_df, metadata, model_name):\n",
    "    # sort by median\n",
    "    sorted_median_auprc_df = auprc_df.groupby(\"class\")[\"auprc\"].median().sort_values(ascending=False)\n",
    "    visualization_utils.pre_plot_config(DEFAULT_FIGURE_CONFIG)\n",
    "    plt.rcParams['xtick.labelsize'] = 18\n",
    "    plt.rcParams['ytick.labelsize'] = 18\n",
    "    ax = sns.boxplot(data=auprc_df, x=\"class\", y=\"auprc\", order=sorted_median_auprc_df.index)\n",
    "    \n",
    "    ax.set_ylim(0, 1)\n",
    "    # ax.set_xticklabels([metadata[t.get_text()] for t in ax.get_xticklabels()])\n",
    "    ax.set_title(f\"Model = {model_name}\")\n",
    "    plt.tight_layout()\n",
    "    plt.xticks(rotation=-90)\n",
    "    plt.show()\n",
    "        \n",
    "def auprc_analysis(output_filepath, model_name):\n",
    "    df = pd.read_csv(output_filepath, index_col=0)\n",
    "    print(f\"Read output size = {df.shape}\")\n",
    "    cols = df.columns\n",
    "    non_human_cols = list(set(cols) - set([itr_col, experiment_col, y_true_col, human_col]))\n",
    "    print(f\"NonHuman cols = {non_human_cols}\")\n",
    "    itrs = df[itr_col].unique()\n",
    "    \n",
    "    auprc = []\n",
    "    pr_curves = []\n",
    "    for itr in itrs:\n",
    "        df_itr = df[df[itr_col] == itr]\n",
    "        pr_curves_df, auprcs_df = evaluation_utils.compute_class_auprc(df_itr, y_pred_columns=non_human_cols + [human_col], y_true_col=y_true_col)\n",
    "        pr_curves_df[itr_col] = itr\n",
    "        auprcs_df[itr_col] = itr\n",
    "        auprc.append(auprcs_df)\n",
    "        pr_curves.append(pr_curves_df)\n",
    "\n",
    "    auprc_df = pd.concat(auprc, ignore_index=True)\n",
    "    pr_curves_df = pd.concat(pr_curves, ignore_index=True)\n",
    "    \n",
    "    metadata = utils.compute_class_distribution(df_itr, y_true_col, format=True)\n",
    "    \n",
    "    plot_auprc(auprc_df, metadata, model_name)\n",
    "    visualization_utils.curve_plot(pr_curves_df, x_col=\"recall\", y_col=\"precision\",\n",
    "                                   color_group_col=\"class\", style_group_col=None,\n",
    "                                   output_file_path=None, metadata=metadata)\n",
    "    \n",
    "\n",
    "def auprc_analysis_classes_subset(output_filepaths, classes):\n",
    "    macro_auprcs = []\n",
    "    for model, output_filepath in output_filepaths.items():\n",
    "        df = pd.read_csv(output_filepath, index_col=0)\n",
    "        print(f\"Read output {model} = {df.shape}\")\n",
    "        \n",
    "        itrs = df[itr_col].unique()\n",
    "    \n",
    "        for itr in itrs:\n",
    "            df_itr = df[df[itr_col] == itr]\n",
    "            _, auprcs_df = evaluation_utils.compute_class_auprc(df_itr, y_pred_columns=classes, y_true_col=y_true_col)\n",
    "            macro_auprcs.append({\"model\": model,\n",
    "                                 \"itr\": itr,\n",
    "                                 \"auprc\": auprcs_df[\"auprc\"].mean()})\n",
    "    macro_auprcs_df = pd.DataFrame(macro_auprcs)\n",
    "\n",
    "    visualization_utils.pre_plot_config(DEFAULT_FIGURE_CONFIG)\n",
    "    ax = sns.boxplot(data=macro_auprcs_df, x=\"model\", y=\"auprc\")\n",
    "    \n",
    "    ax.set_ylim(0, 1)\n",
    "    ax.set_ylabel(\"AUPRC\", size=20)\n",
    "    ax.set_title(f\"Macro AUPRC [Classes = {classes}]\")\n",
    "    visualization_utils.wrap_xticklabels(ax)\n",
    "    visualization_utils.view(figure_output_filepath)\n",
    "    plt.show()\n",
    "    "
   ]
  },
  {
   "cell_type": "code",
   "execution_count": 27,
   "id": "e1e184b3",
   "metadata": {
    "scrolled": true
   },
   "outputs": [],
   "source": [
    "def class_wise_auprc_analysis(output_filepaths, classes, figure_output_filepath):\n",
    "    auprc_results = []\n",
    "    for model, output_filepath in output_filepaths.items():\n",
    "        df = pd.read_csv(output_filepath, index_col=0)\n",
    "        print(f\"Read output {model} = {df.shape}\")\n",
    "        \n",
    "        cols = df.columns\n",
    "        classes = list(set(cols) - set([itr_col, experiment_col, y_true_col]))\n",
    "        itrs = df[itr_col].unique()\n",
    "    \n",
    "        for itr in itrs:\n",
    "            df_itr = df[df[itr_col] == itr]\n",
    "            _, auprcs_df = evaluation_utils.compute_class_auprc(df_itr, y_pred_columns=classes, y_true_col=y_true_col)\n",
    "            auprcs_df[\"model\"] = model\n",
    "            auprcs_df[\"itr\"] = itr\n",
    "            auprc_results.append(auprcs_df)\n",
    "    metadata = utils.compute_class_distribution(df_itr, y_true_col, format=False)\n",
    "    metadata_formatted = utils.compute_class_distribution(df_itr, y_true_col, format=True)\n",
    "    metadata_sorted = {}\n",
    "    for k, v in metadata.items():\n",
    "        metadata_sorted[metadata_formatted[k]] = v\n",
    "\n",
    "    auprc_results_df = pd.concat(auprc_results, ignore_index=True)\n",
    "    auprc_results_df.replace({\"class\":metadata_formatted}, inplace=True)\n",
    "    \n",
    "    FIGURE_CONFIG = {\n",
    "        \"figsize\": (15, 10),\n",
    "        \"xtick.labelsize\": 20,\n",
    "        \"ytick.labelsize\": 20    \n",
    "    }\n",
    "\n",
    "    visualization_utils.pre_plot_config(FIGURE_CONFIG)\n",
    "    ax = sns.boxplot(data=auprc_results_df, x=\"class\", y=\"auprc\", hue=\"model\", order=metadata_sorted, linewidth=1.5, fliersize=5)\n",
    "    plt.draw()\n",
    "    \n",
    "    ax.set_ylim(0, 1)\n",
    "    ax.set_ylabel(\"AUPRC\", size=22)\n",
    "    ax.set_xlabel(\"\", size=22, labelpad=2)\n",
    "    sns.move_legend(ax, \"lower center\", bbox_to_anchor=(.5, 1), ncol=4, title=None, frameon=False)\n",
    "    plt.setp(ax.get_legend().get_texts(), fontsize=16)\n",
    "    visualization_utils.wrap_xticklabels(ax)\n",
    "    visualization_utils.view(figure_output_filepath)\n",
    "    plt.show()\n",
    "    return auprc_results_df"
   ]
  },
  {
   "cell_type": "markdown",
   "id": "683fadcd",
   "metadata": {},
   "source": [
    "### LR"
   ]
  },
  {
   "cell_type": "code",
   "execution_count": 18,
   "id": "273a74e0",
   "metadata": {
    "scrolled": false
   },
   "outputs": [],
   "source": [
    "lr_output_filepath = os.path.join(os.getcwd(), \"..\",\"..\", \"..\", \"..\", \"..\", \"output/raw/uniref90_embl_vertebrates_non_idv_t0.01_c5/20240515/host_multi/kmer_k3_virus_host_name_multi__lr_output.csv\")\n",
    "#auprc_analysis(lr_output_filepath, \"LR\")"
   ]
  },
  {
   "cell_type": "markdown",
   "id": "c330d404",
   "metadata": {},
   "source": [
    "### RF"
   ]
  },
  {
   "cell_type": "code",
   "execution_count": 19,
   "id": "8d3db3ec",
   "metadata": {
    "scrolled": false
   },
   "outputs": [],
   "source": [
    "rf_output_filepath = os.path.join(os.getcwd(), \"..\",\"..\", \"..\", \"..\", \"..\", \"output/raw/uniref90_embl_vertebrates_non_idv_t0.01_c5/20240515/host_multi/kmer_k3_virus_host_name_multi__rf_output.csv\")\n",
    "#auprc_analysis(rf_output_filepath, \"RF\")"
   ]
  },
  {
   "cell_type": "markdown",
   "id": "eae3884d",
   "metadata": {},
   "source": [
    "### SVM"
   ]
  },
  {
   "cell_type": "code",
   "execution_count": 20,
   "id": "4ea0b060",
   "metadata": {
    "scrolled": false
   },
   "outputs": [],
   "source": [
    "svm_output_filepath = os.path.join(os.getcwd(), \"..\",\"..\", \"..\", \"..\", \"..\", \"output/raw/uniref90_embl_vertebrates_non_idv_t0.01_c5/20240522/host_multi/kmer_k3_virus_host_name_multi__svm_output.csv\")\n",
    "#auprc_analysis(svm_output_filepath, \"SVM\")"
   ]
  },
  {
   "cell_type": "markdown",
   "id": "f21d0d3d",
   "metadata": {},
   "source": [
    "### FNN"
   ]
  },
  {
   "cell_type": "code",
   "execution_count": 7,
   "id": "b9df0a88",
   "metadata": {
    "scrolled": false
   },
   "outputs": [],
   "source": [
    "fnn_output_filepath = os.path.join(os.getcwd(), \"..\",\"..\", \"..\", \"..\", \"..\", \"output/raw/uniref90_embl_vertebrates_non_idv_t0.01_c5/20240229/host_multi/emb_sincos-lossfocalce_e50_msl1036_fnn-l_10-d_1024-lr1e-3_output.csv\")\n",
    "#auprc_analysis(fnn_output_filepath, \"FNN\")"
   ]
  },
  {
   "cell_type": "markdown",
   "id": "44693c18",
   "metadata": {},
   "source": [
    "### RNN"
   ]
  },
  {
   "cell_type": "code",
   "execution_count": 8,
   "id": "12ef4987",
   "metadata": {
    "scrolled": false
   },
   "outputs": [],
   "source": [
    "#rnn_output_filepath = os.path.join(os.getcwd(), \"..\",\"..\", \"..\", \"..\", \"..\", \"output/raw/uniref90_embl_vertebrates_non_idv_t0.01_c5/20240229/host_multi/emb_sincos-lossfocalce_e50_msl1036_rnn-l_6-d_1024-lr1e-5_output.csv\")\n",
    "#auprc_analysis(rnn_output_filepath, \"RNN\")"
   ]
  },
  {
   "cell_type": "markdown",
   "id": "23c5dc40",
   "metadata": {},
   "source": [
    "### CNN"
   ]
  },
  {
   "cell_type": "code",
   "execution_count": 9,
   "id": "243b87a4",
   "metadata": {
    "scrolled": false
   },
   "outputs": [],
   "source": [
    "cnn_output_filepath = os.path.join(os.getcwd(), \"..\",\"..\", \"..\", \"..\", \"..\", \"output/raw/uniref90_embl_vertebrates_non_idv_t0.01_c5/20240229/host_multi/emb_sincos-lossfocalce_e50_msl1036_cnn-l_4-d_1024-k3s1-lr1e-3_output.csv\")\n",
    "#auprc_analysis(cnn_output_filepath, \"CNN\")"
   ]
  },
  {
   "cell_type": "markdown",
   "id": "932bc89e",
   "metadata": {},
   "source": [
    "### LSTM"
   ]
  },
  {
   "cell_type": "code",
   "execution_count": 10,
   "id": "ba83b7cc",
   "metadata": {
    "scrolled": false
   },
   "outputs": [],
   "source": [
    "lstm_output_filepath = os.path.join(os.getcwd(), \"..\",\"..\", \"..\", \"..\", \"..\", \"output/raw/uniref90_embl_vertebrates_non_idv_t0.01_c5/20240229/host_multi/emb_sincos-lossfocalce_e50_msl1036_lstm-l_2-d_1024-lr1e-3_output.csv\")\n",
    "#auprc_analysis(lstm_output_filepath, \"LSTM\")"
   ]
  },
  {
   "cell_type": "markdown",
   "id": "39ffa326",
   "metadata": {},
   "source": [
    "### Transformer-Encoder"
   ]
  },
  {
   "cell_type": "code",
   "execution_count": 11,
   "id": "c05da9c4",
   "metadata": {
    "scrolled": false
   },
   "outputs": [],
   "source": [
    "tf_enc_output_filepath = os.path.join(os.getcwd(), \"..\",\"..\", \"..\", \"..\", \"..\", \"output/raw/uniref90_embl_vertebrates_non_idv_t0.01_c5/20240228/host_multi/emb_sincos-d1024-lossfocalce_e50_msl1036_transformer-l_6-h_8-lr1e-4_output.csv\")\n",
    "#auprc_analysis(tf_output_filepath, \"Transformer\")"
   ]
  },
  {
   "cell_type": "markdown",
   "id": "8967fbe2",
   "metadata": {},
   "source": [
    "### ProteinBERT"
   ]
  },
  {
   "cell_type": "code",
   "execution_count": 12,
   "id": "11ce1387",
   "metadata": {
    "scrolled": false
   },
   "outputs": [],
   "source": [
    "proteinbert_output_filepath = os.path.join(os.getcwd(), \"..\",\"..\", \"..\", \"..\", \"..\", \"output/raw/uniref90_embl_vertebrates_non_idv_t0.01_c5/20240306/protein_bert/prediction_results_20240308_022609_mapped.csv\")\n",
    "#auprc_analysis(ft_tf_output_filepath, \"Transformer: Pre-training + Fine-tuning\")"
   ]
  },
  {
   "cell_type": "markdown",
   "id": "cdb1fb5c",
   "metadata": {},
   "source": [
    "### VirProBERT"
   ]
  },
  {
   "cell_type": "code",
   "execution_count": 13,
   "id": "0cada127",
   "metadata": {
    "scrolled": false
   },
   "outputs": [],
   "source": [
    "virprobert_output_filepath = os.path.join(os.getcwd(), \"..\",\"..\", \"..\", \"..\", \"..\", \"output/raw/uniref90_embl_vertebrates_non_idv_t0.01_c5/20240307/host_multi/fine_tuning/mlm_tfenc_l6_h8_lr1e-4_uniref90viridae_msl1366_host_prediction_fnn_2l_d1024_lr1e-4_fe20_ufe30_output.csv\")\n",
    "#auprc_analysis(ft_tf_output_filepath, \"Transformer: Pre-training + Fine-tuning\")"
   ]
  },
  {
   "cell_type": "markdown",
   "id": "596600cb",
   "metadata": {},
   "source": [
    "### Classwise AUPRC of all models"
   ]
  },
  {
   "cell_type": "code",
   "execution_count": 24,
   "id": "7f40fcf4",
   "metadata": {
    "scrolled": false
   },
   "outputs": [],
   "source": [
    "output_filepaths = {\n",
    "    # \"FNN_10l\": fnn_output_filepath,\n",
    "    # \"RNN_6l\": rnn_output_filepath,\n",
    "    \"LR\": lr_output_filepath,\n",
    "    \"RF\": rf_output_filepath,\n",
    "    \"SVM\": svm_output_filepath,\n",
    "    \"CNN\": cnn_output_filepath,\n",
    "    \"LSTM\": lstm_output_filepath,\n",
    "    \"Transformer-Encoder\": tf_enc_output_filepath,\n",
    "    \"ProteinBERT\": proteinbert_output_filepath,\n",
    "    \"VirProBERT\": virprobert_output_filepath\n",
    "}\n",
    "classes = [\"Human\", \"Capybara\", \"Himalayan marmot\", \"Pig\", \"Red junglefowl\"]\n",
    "#auprc_analysis_classes_subset(output_filepaths, classes)"
   ]
  },
  {
   "cell_type": "code",
   "execution_count": 28,
   "id": "0b4586fb",
   "metadata": {
    "scrolled": false
   },
   "outputs": [
    {
     "name": "stdout",
     "output_type": "stream",
     "text": [
      "Read output LR = (31720, 7)\n",
      "Read output RF = (31720, 7)\n",
      "Read output SVM = (31720, 7)\n",
      "Read output CNN = (15860, 7)\n",
      "Read output LSTM = (15860, 7)\n",
      "Read output Transformer-Encoder = (15860, 7)\n",
      "Read output ProteinBERT = (15860, 8)\n",
      "Read output VirProBERT = (15860, 7)\n"
     ]
    },
    {
     "name": "stderr",
     "output_type": "stream",
     "text": [
      "/home/grads/blessyantony/anaconda3/envs/zoonosis/lib/python3.10/site-packages/sklearn/metrics/_ranking.py:879: UserWarning: No positive class found in y_true, recall is set to one for all thresholds.\n",
      "  warnings.warn(\n",
      "/home/grads/blessyantony/anaconda3/envs/zoonosis/lib/python3.10/site-packages/sklearn/metrics/_ranking.py:879: UserWarning: No positive class found in y_true, recall is set to one for all thresholds.\n",
      "  warnings.warn(\n",
      "/home/grads/blessyantony/anaconda3/envs/zoonosis/lib/python3.10/site-packages/sklearn/metrics/_ranking.py:879: UserWarning: No positive class found in y_true, recall is set to one for all thresholds.\n",
      "  warnings.warn(\n",
      "/home/grads/blessyantony/anaconda3/envs/zoonosis/lib/python3.10/site-packages/sklearn/metrics/_ranking.py:879: UserWarning: No positive class found in y_true, recall is set to one for all thresholds.\n",
      "  warnings.warn(\n",
      "/home/grads/blessyantony/anaconda3/envs/zoonosis/lib/python3.10/site-packages/sklearn/metrics/_ranking.py:879: UserWarning: No positive class found in y_true, recall is set to one for all thresholds.\n",
      "  warnings.warn(\n",
      "/home/grads/blessyantony/dev/git/zoonosis/src/jupyter_notebooks/results-analysis/uniref90/embl/../../../../../src/utils/visualization_utils.py:104: UserWarning: FixedFormatter should only be used together with FixedLocator\n",
      "  ax.set_xticklabels(wrapped_labels, rotation=0)\n"
     ]
    },
    {
     "data": {
      "text/plain": [
       "<Figure size 640x480 with 0 Axes>"
      ]
     },
     "metadata": {},
     "output_type": "display_data"
    },
    {
     "data": {
      "image/png": "[encoded data removed]",
      "text/plain": [
       "<Figure size 1500x1000 with 1 Axes>"
      ]
     },
     "metadata": {},
     "output_type": "display_data"
    }
   ],
   "source": [
    "figure_output_filepath = os.path.join(os.getcwd(), \"..\",\"..\", \"..\", \"..\", \"..\", \"output/visualization/uniref90/20240517/host_multi_all_models/host_multi_all_models_classwise_aurpc_boxplot.pdf\")\n",
    "\n",
    "auprc_results_df = class_wise_auprc_analysis(output_filepaths, classes, figure_output_filepath)"
   ]
  },
  {
   "cell_type": "code",
   "execution_count": null,
   "id": "dfd44b91",
   "metadata": {},
   "outputs": [],
   "source": [
    "virprobert_auprc_results_df = auprc_results_df[auprc_results_df[\"model\"] == \"VirProBERT\"]"
   ]
  },
  {
   "cell_type": "code",
   "execution_count": null,
   "id": "0c0beecd",
   "metadata": {},
   "outputs": [],
   "source": [
    "virprobert_auprc_results_df"
   ]
  },
  {
   "cell_type": "code",
   "execution_count": null,
   "id": "fb355b89",
   "metadata": {},
   "outputs": [],
   "source": [
    "virprobert_auprc_results_df[[\"class\", \"auprc\"]].groupby(\"class\").mean(\"auprc\")"
   ]
  },
  {
   "cell_type": "code",
   "execution_count": null,
   "id": "0810bf86",
   "metadata": {},
   "outputs": [],
   "source": []
  }
 ],
 "metadata": {
  "kernelspec": {
   "display_name": "Python 3 (ipykernel)",
   "language": "python",
   "name": "python3"
  },
  "language_info": {
   "codemirror_mode": {
    "name": "ipython",
    "version": 3
   },
   "file_extension": ".py",
   "mimetype": "text/x-python",
   "name": "python",
   "nbconvert_exporter": "python",
   "pygments_lexer": "ipython3",
   "version": "3.8.12"
  }
 },
 "nbformat": 4,
 "nbformat_minor": 5
}
