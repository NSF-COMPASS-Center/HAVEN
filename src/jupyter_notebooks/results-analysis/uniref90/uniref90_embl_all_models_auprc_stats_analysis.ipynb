{
 "cells": [
  {
   "cell_type": "markdown",
   "id": "5e2ecf0f",
   "metadata": {},
   "source": [
    "## Results of Host Prediction\n",
    "### Dataset: EMBL mapping, Vertebrates, Non-IDV\n",
    "\n",
    "**Models**: FNN, CNN, RNN, LSTM, TF\n",
    "\n",
    "**Positional Embedding**: Sin-Cos\n",
    "\n",
    "**Maximum Sequence Length**: 1036\n",
    "\n",
    "**Classification**: Multi-class\n",
    "\n",
    "**\\# classes**: 5\n",
    "\n",
    "**\\# train samples** = \n",
    "\n",
    "**\\# validation samples** = \n",
    "\n",
    "**\\# test samples** = "
   ]
  },
  {
   "cell_type": "code",
   "execution_count": 1,
   "id": "8349fb54",
   "metadata": {},
   "outputs": [],
   "source": [
    "import seaborn"
   ]
  },
  {
   "cell_type": "code",
   "execution_count": 2,
   "id": "dcd79b74",
   "metadata": {},
   "outputs": [
    {
     "name": "stdout",
     "output_type": "stream",
     "text": [
      "Defaulting to user installation because normal site-packages is not writeable\n",
      "\u001b[33mWARNING: Ignoring invalid distribution -eaborn (/home/blessyantony/.local/lib/python3.8/site-packages)\u001b[0m\n",
      "\u001b[33mWARNING: Ignoring invalid distribution -eaborn (/home/blessyantony/.local/lib/python3.8/site-packages)\u001b[0m\n",
      "Looking in indexes: https://pypi.org/simple, https://pypi.ngc.nvidia.com\n",
      "Requirement already satisfied: statannotations in /home/blessyantony/.local/lib/python3.8/site-packages (0.6.0)\n",
      "Requirement already satisfied: numpy>=1.12.1 in /opt/conda/lib/python3.8/site-packages (from statannotations) (1.21.4)\n",
      "Requirement already satisfied: matplotlib>=2.2.2 in /home/blessyantony/.local/lib/python3.8/site-packages (from statannotations) (3.5.3)\n",
      "Requirement already satisfied: pandas<2.0.0,>=0.23.0 in /opt/conda/lib/python3.8/site-packages (from statannotations) (1.3.4)\n",
      "Requirement already satisfied: seaborn<0.12,>=0.9.0 in /home/blessyantony/.local/lib/python3.8/site-packages (from statannotations) (0.11.0)\n",
      "Requirement already satisfied: scipy>=1.1.0 in /opt/conda/lib/python3.8/site-packages (from statannotations) (1.6.3)\n",
      "Requirement already satisfied: packaging>=20.0 in /opt/conda/lib/python3.8/site-packages (from matplotlib>=2.2.2->statannotations) (21.3)\n",
      "Requirement already satisfied: kiwisolver>=1.0.1 in /opt/conda/lib/python3.8/site-packages (from matplotlib>=2.2.2->statannotations) (1.3.2)\n",
      "Requirement already satisfied: cycler>=0.10 in /opt/conda/lib/python3.8/site-packages (from matplotlib>=2.2.2->statannotations) (0.11.0)\n",
      "Requirement already satisfied: pillow>=6.2.0 in /opt/conda/lib/python3.8/site-packages (from matplotlib>=2.2.2->statannotations) (8.2.0)\n",
      "Requirement already satisfied: python-dateutil>=2.7 in /opt/conda/lib/python3.8/site-packages (from matplotlib>=2.2.2->statannotations) (2.8.2)\n",
      "Requirement already satisfied: fonttools>=4.22.0 in /opt/conda/lib/python3.8/site-packages (from matplotlib>=2.2.2->statannotations) (4.28.2)\n",
      "Requirement already satisfied: pyparsing>=2.2.1 in /opt/conda/lib/python3.8/site-packages (from matplotlib>=2.2.2->statannotations) (3.0.6)\n",
      "Requirement already satisfied: pytz>=2017.3 in /opt/conda/lib/python3.8/site-packages (from pandas<2.0.0,>=0.23.0->statannotations) (2021.3)\n",
      "Requirement already satisfied: six>=1.5 in /opt/conda/lib/python3.8/site-packages (from python-dateutil>=2.7->matplotlib>=2.2.2->statannotations) (1.16.0)\n",
      "\u001b[33mWARNING: Ignoring invalid distribution -eaborn (/home/blessyantony/.local/lib/python3.8/site-packages)\u001b[0m\n",
      "\u001b[33mWARNING: Ignoring invalid distribution -eaborn (/home/blessyantony/.local/lib/python3.8/site-packages)\u001b[0m\n",
      "\u001b[33mWARNING: Ignoring invalid distribution -eaborn (/home/blessyantony/.local/lib/python3.8/site-packages)\u001b[0m\n",
      "\u001b[33mWARNING: Ignoring invalid distribution -eaborn (/home/blessyantony/.local/lib/python3.8/site-packages)\u001b[0m\n",
      "Defaulting to user installation because normal site-packages is not writeable\n",
      "\u001b[33mWARNING: Ignoring invalid distribution -eaborn (/home/blessyantony/.local/lib/python3.8/site-packages)\u001b[0m\n",
      "\u001b[33mWARNING: Ignoring invalid distribution -eaborn (/home/blessyantony/.local/lib/python3.8/site-packages)\u001b[0m\n",
      "Looking in indexes: https://pypi.org/simple, https://pypi.ngc.nvidia.com\n",
      "Requirement already satisfied: statsmodels in /home/blessyantony/.local/lib/python3.8/site-packages (0.14.1)\n",
      "Requirement already satisfied: packaging>=21.3 in /opt/conda/lib/python3.8/site-packages (from statsmodels) (21.3)\n",
      "Requirement already satisfied: patsy>=0.5.4 in /home/blessyantony/.local/lib/python3.8/site-packages (from statsmodels) (0.5.6)\n",
      "Requirement already satisfied: scipy!=1.9.2,>=1.4 in /opt/conda/lib/python3.8/site-packages (from statsmodels) (1.6.3)\n",
      "Requirement already satisfied: pandas!=2.1.0,>=1.0 in /opt/conda/lib/python3.8/site-packages (from statsmodels) (1.3.4)\n",
      "Requirement already satisfied: numpy<2,>=1.18 in /opt/conda/lib/python3.8/site-packages (from statsmodels) (1.21.4)\n",
      "Requirement already satisfied: pyparsing!=3.0.5,>=2.0.2 in /opt/conda/lib/python3.8/site-packages (from packaging>=21.3->statsmodels) (3.0.6)\n",
      "Requirement already satisfied: python-dateutil>=2.7.3 in /opt/conda/lib/python3.8/site-packages (from pandas!=2.1.0,>=1.0->statsmodels) (2.8.2)\n",
      "Requirement already satisfied: pytz>=2017.3 in /opt/conda/lib/python3.8/site-packages (from pandas!=2.1.0,>=1.0->statsmodels) (2021.3)\n",
      "Requirement already satisfied: six in /opt/conda/lib/python3.8/site-packages (from patsy>=0.5.4->statsmodels) (1.16.0)\n",
      "\u001b[33mWARNING: Ignoring invalid distribution -eaborn (/home/blessyantony/.local/lib/python3.8/site-packages)\u001b[0m\n",
      "\u001b[33mWARNING: Ignoring invalid distribution -eaborn (/home/blessyantony/.local/lib/python3.8/site-packages)\u001b[0m\n",
      "\u001b[33mWARNING: Ignoring invalid distribution -eaborn (/home/blessyantony/.local/lib/python3.8/site-packages)\u001b[0m\n",
      "\u001b[33mWARNING: Ignoring invalid distribution -eaborn (/home/blessyantony/.local/lib/python3.8/site-packages)\u001b[0m\n",
      "Defaulting to user installation because normal site-packages is not writeable\n",
      "\u001b[33mWARNING: Ignoring invalid distribution -eaborn (/home/blessyantony/.local/lib/python3.8/site-packages)\u001b[0m\n",
      "\u001b[33mWARNING: Ignoring invalid distribution -eaborn (/home/blessyantony/.local/lib/python3.8/site-packages)\u001b[0m\n",
      "Looking in indexes: https://pypi.org/simple, https://pypi.ngc.nvidia.com\n",
      "Requirement already satisfied: seaborn==0.11.0 in /home/blessyantony/.local/lib/python3.8/site-packages (0.11.0)\n",
      "Requirement already satisfied: numpy>=1.15 in /opt/conda/lib/python3.8/site-packages (from seaborn==0.11.0) (1.21.4)\n",
      "Requirement already satisfied: matplotlib>=2.2 in /home/blessyantony/.local/lib/python3.8/site-packages (from seaborn==0.11.0) (3.5.3)\n",
      "Requirement already satisfied: pandas>=0.23 in /opt/conda/lib/python3.8/site-packages (from seaborn==0.11.0) (1.3.4)\n",
      "Requirement already satisfied: scipy>=1.0 in /opt/conda/lib/python3.8/site-packages (from seaborn==0.11.0) (1.6.3)\n",
      "Requirement already satisfied: kiwisolver>=1.0.1 in /opt/conda/lib/python3.8/site-packages (from matplotlib>=2.2->seaborn==0.11.0) (1.3.2)\n",
      "Requirement already satisfied: pyparsing>=2.2.1 in /opt/conda/lib/python3.8/site-packages (from matplotlib>=2.2->seaborn==0.11.0) (3.0.6)\n",
      "Requirement already satisfied: pillow>=6.2.0 in /opt/conda/lib/python3.8/site-packages (from matplotlib>=2.2->seaborn==0.11.0) (8.2.0)\n",
      "Requirement already satisfied: python-dateutil>=2.7 in /opt/conda/lib/python3.8/site-packages (from matplotlib>=2.2->seaborn==0.11.0) (2.8.2)\n",
      "Requirement already satisfied: cycler>=0.10 in /opt/conda/lib/python3.8/site-packages (from matplotlib>=2.2->seaborn==0.11.0) (0.11.0)\n",
      "Requirement already satisfied: fonttools>=4.22.0 in /opt/conda/lib/python3.8/site-packages (from matplotlib>=2.2->seaborn==0.11.0) (4.28.2)\n",
      "Requirement already satisfied: packaging>=20.0 in /opt/conda/lib/python3.8/site-packages (from matplotlib>=2.2->seaborn==0.11.0) (21.3)\n",
      "Requirement already satisfied: pytz>=2017.3 in /opt/conda/lib/python3.8/site-packages (from pandas>=0.23->seaborn==0.11.0) (2021.3)\n",
      "Requirement already satisfied: six>=1.5 in /opt/conda/lib/python3.8/site-packages (from python-dateutil>=2.7->matplotlib>=2.2->seaborn==0.11.0) (1.16.0)\n",
      "\u001b[33mWARNING: Ignoring invalid distribution -eaborn (/home/blessyantony/.local/lib/python3.8/site-packages)\u001b[0m\n",
      "\u001b[33mWARNING: Ignoring invalid distribution -eaborn (/home/blessyantony/.local/lib/python3.8/site-packages)\u001b[0m\n",
      "\u001b[33mWARNING: Ignoring invalid distribution -eaborn (/home/blessyantony/.local/lib/python3.8/site-packages)\u001b[0m\n",
      "\u001b[33mWARNING: Ignoring invalid distribution -eaborn (/home/blessyantony/.local/lib/python3.8/site-packages)\u001b[0m\n"
     ]
    }
   ],
   "source": [
    "! pip install statannotations\n",
    "! pip install statsmodels\n",
    "! pip install seaborn==0.11.0"
   ]
  },
  {
   "cell_type": "code",
   "execution_count": 3,
   "id": "6cfca147",
   "metadata": {
    "scrolled": false
   },
   "outputs": [
    {
     "data": {
      "text/plain": [
       "['/home/blessyantony/dev/git/zoonosis/src/jupyter_notebooks/results-analysis/uniref90',\n",
       " '/opt/conda/lib/python38.zip',\n",
       " '/opt/conda/lib/python3.8',\n",
       " '/opt/conda/lib/python3.8/lib-dynload',\n",
       " '',\n",
       " '/home/blessyantony/.local/lib/python3.8/site-packages',\n",
       " '/opt/conda/lib/python3.8/site-packages',\n",
       " '/opt/conda/lib/python3.8/site-packages/IPython/extensions',\n",
       " '/home/blessyantony/.ipython',\n",
       " '/home/blessyantony/dev/git/zoonosis/src/jupyter_notebooks/results-analysis/uniref90/../../../../..',\n",
       " '/home/blessyantony/dev/git/zoonosis/src/jupyter_notebooks/results-analysis/uniref90/../../../..',\n",
       " '/home/blessyantony/dev/git/zoonosis/src/jupyter_notebooks/results-analysis/uniref90/../../..',\n",
       " '/home/blessyantony/dev/git/zoonosis/src/jupyter_notebooks/results-analysis/uniref90/../..']"
      ]
     },
     "execution_count": 3,
     "metadata": {},
     "output_type": "execute_result"
    }
   ],
   "source": [
    "import sys\n",
    "import os\n",
    "from scipy.stats import mannwhitneyu, wilcoxon\n",
    "from statannotations.Annotator import Annotator\n",
    "sys.path.append(os.path.join(os.getcwd(), \"..\", \"..\", \"..\", \"..\", \"..\"))\n",
    "sys.path.append(os.path.join(os.getcwd(), \"..\", \"..\", \"..\", \"..\"))\n",
    "sys.path.append(os.path.join(os.getcwd(), \"..\", \"..\", \"..\"))\n",
    "sys.path.append(os.path.join(os.getcwd(), \"..\", \"..\"))\n",
    "sys.path"
   ]
  },
  {
   "cell_type": "code",
   "execution_count": 4,
   "id": "22cbf7ce",
   "metadata": {
    "scrolled": true
   },
   "outputs": [],
   "source": [
    "import pandas as pd\n",
    "import os\n",
    "import numpy as np\n",
    "import seaborn as sns\n",
    "import matplotlib.pyplot as plt\n",
    "from pathlib import Path\n",
    "from scipy.stats import mannwhitneyu\n",
    "from src.utils import visualization_utils\n",
    "from statannotations.Annotator import Annotator"
   ]
  },
  {
   "cell_type": "code",
   "execution_count": 5,
   "id": "3f26658d",
   "metadata": {},
   "outputs": [
    {
     "data": {
      "text/plain": [
       "'0.11.0'"
      ]
     },
     "execution_count": 5,
     "metadata": {},
     "output_type": "execute_result"
    }
   ],
   "source": [
    "sns.__version__"
   ]
  },
  {
   "cell_type": "code",
   "execution_count": 6,
   "id": "cb6c3cc1",
   "metadata": {
    "scrolled": true
   },
   "outputs": [],
   "source": [
    "itr_col = \"itr\"\n",
    "experiment_col = \"experiment\"\n",
    "y_true_col = \"y_true\"\n",
    "human_col = \"Human\"\n",
    "plt.rcParams['xtick.labelsize'] = 20\n",
    "plt.rcParams['ytick.labelsize'] = 20\n",
    "plt.rcParams['figure.autolayout'] = True\n",
    "\n",
    "DEFAULT_FIGURE_CONFIG = {\n",
    "    \"figsize\": (10, 10),\n",
    "    \"xtick.labelsize\": 18,\n",
    "    \"ytick.labelsize\": 18    \n",
    "}\n",
    "\n",
    "\n"
   ]
  },
  {
   "cell_type": "code",
   "execution_count": 7,
   "id": "e1e184b3",
   "metadata": {
    "scrolled": true
   },
   "outputs": [
    {
     "data": {
      "text/html": [
       "<div>\n",
       "<style scoped>\n",
       "    .dataframe tbody tr th:only-of-type {\n",
       "        vertical-align: middle;\n",
       "    }\n",
       "\n",
       "    .dataframe tbody tr th {\n",
       "        vertical-align: top;\n",
       "    }\n",
       "\n",
       "    .dataframe thead th {\n",
       "        text-align: right;\n",
       "    }\n",
       "</style>\n",
       "<table border=\"1\" class=\"dataframe\">\n",
       "  <thead>\n",
       "    <tr style=\"text-align: right;\">\n",
       "      <th></th>\n",
       "      <th>itr</th>\n",
       "      <th>experiment</th>\n",
       "      <th>auprc</th>\n",
       "    </tr>\n",
       "  </thead>\n",
       "  <tbody>\n",
       "    <tr>\n",
       "      <th>0</th>\n",
       "      <td>0</td>\n",
       "      <td>LR</td>\n",
       "      <td>0.433765</td>\n",
       "    </tr>\n",
       "    <tr>\n",
       "      <th>1</th>\n",
       "      <td>1</td>\n",
       "      <td>LR</td>\n",
       "      <td>0.428972</td>\n",
       "    </tr>\n",
       "    <tr>\n",
       "      <th>2</th>\n",
       "      <td>2</td>\n",
       "      <td>LR</td>\n",
       "      <td>0.440230</td>\n",
       "    </tr>\n",
       "    <tr>\n",
       "      <th>3</th>\n",
       "      <td>3</td>\n",
       "      <td>LR</td>\n",
       "      <td>0.464170</td>\n",
       "    </tr>\n",
       "    <tr>\n",
       "      <th>4</th>\n",
       "      <td>4</td>\n",
       "      <td>LR</td>\n",
       "      <td>0.437962</td>\n",
       "    </tr>\n",
       "    <tr>\n",
       "      <th>...</th>\n",
       "      <td>...</td>\n",
       "      <td>...</td>\n",
       "      <td>...</td>\n",
       "    </tr>\n",
       "    <tr>\n",
       "      <th>98</th>\n",
       "      <td>0</td>\n",
       "      <td>Hybd-sl512st128-CLS-vs30</td>\n",
       "      <td>0.568177</td>\n",
       "    </tr>\n",
       "    <tr>\n",
       "      <th>99</th>\n",
       "      <td>1</td>\n",
       "      <td>Hybd-sl512st128-CLS-vs30</td>\n",
       "      <td>0.543933</td>\n",
       "    </tr>\n",
       "    <tr>\n",
       "      <th>100</th>\n",
       "      <td>2</td>\n",
       "      <td>Hybd-sl512st128-CLS-vs30</td>\n",
       "      <td>0.553612</td>\n",
       "    </tr>\n",
       "    <tr>\n",
       "      <th>101</th>\n",
       "      <td>3</td>\n",
       "      <td>Hybd-sl512st128-CLS-vs30</td>\n",
       "      <td>0.458873</td>\n",
       "    </tr>\n",
       "    <tr>\n",
       "      <th>102</th>\n",
       "      <td>4</td>\n",
       "      <td>Hybd-sl512st128-CLS-vs30</td>\n",
       "      <td>0.535857</td>\n",
       "    </tr>\n",
       "  </tbody>\n",
       "</table>\n",
       "<p>103 rows × 3 columns</p>\n",
       "</div>"
      ],
      "text/plain": [
       "     itr                experiment     auprc\n",
       "0      0                        LR  0.433765\n",
       "1      1                        LR  0.428972\n",
       "2      2                        LR  0.440230\n",
       "3      3                        LR  0.464170\n",
       "4      4                        LR  0.437962\n",
       "..   ...                       ...       ...\n",
       "98     0  Hybd-sl512st128-CLS-vs30  0.568177\n",
       "99     1  Hybd-sl512st128-CLS-vs30  0.543933\n",
       "100    2  Hybd-sl512st128-CLS-vs30  0.553612\n",
       "101    3  Hybd-sl512st128-CLS-vs30  0.458873\n",
       "102    4  Hybd-sl512st128-CLS-vs30  0.535857\n",
       "\n",
       "[103 rows x 3 columns]"
      ]
     },
     "execution_count": 7,
     "metadata": {},
     "output_type": "execute_result"
    }
   ],
   "source": [
    "# df = pd.read_csv(os.path.join(os.getcwd(), \"..\", \"..\", \"..\", \"..\", \"..\", \"output/evaluation/uniref90/20240517/host_multi_all_models/host_multi_all_models_evaluation_metrics.csv\"))\n",
    "# df = pd.read_csv(os.path.join(os.getcwd(), \"..\", \"..\", \"..\", \"..\", \"..\", \"output/evaluation/uniref90/20240611/host_multi_all_models/host_multi_all_models-msl2048_evaluation_metrics.csv\"))\n",
    "df = pd.read_csv(os.path.join(os.getcwd(), \"..\",  \"..\", \"..\", \"..\", \"output/evaluation/uniref90/20240830/host_multi_all_models/host_multi_all_models_final_evaluation_metrics.csv\"))\n",
    "df.drop(columns=\"Unnamed: 0\", inplace=True)\n",
    "df"
   ]
  },
  {
   "cell_type": "code",
   "execution_count": 8,
   "id": "8cf80c24",
   "metadata": {},
   "outputs": [],
   "source": [
    "df = df.replace({\"experiment\": {\"LR-maxitr5000\": \"LR\", \"Protein-BERT\": \"ProteinBERT\", \"VirPro-BERT\": \"VirProBERT\", \"Protein-BERT_new_ds\": \"ProteinBERT\"}})"
   ]
  },
  {
   "cell_type": "code",
   "execution_count": 9,
   "id": "fd4defa6",
   "metadata": {},
   "outputs": [
    {
     "data": {
      "text/plain": [
       "array(['LR', 'RF', 'SVM', 'FNN', 'CNN', 'RNN', 'LSTM', 'TF-Enc-(msl2048)',\n",
       "       'Protein-BERT_old_ds', 'ProteinBERT', 'VirPro-BERT-1366',\n",
       "       'VirPro-BERT-2048', 'Hybd-sl128st64-vs30',\n",
       "       'Hybd-sl128st64-vs30-BN', 'Hybd-sl128st64-vs30-AE-BN',\n",
       "       'Hybd-sl128st64-CLS-vs30', 'Hybd-sl256st64-vs30',\n",
       "       'Hybd-sl256st64-vs30-AE-BN', 'Hybd-sl256st128-CLS-vs30',\n",
       "       'Hybd-sl256st64-CLS-vs30-AE-BN', 'Hybd-sl512st128-CLS-vs30'],\n",
       "      dtype=object)"
      ]
     },
     "execution_count": 9,
     "metadata": {},
     "output_type": "execute_result"
    }
   ],
   "source": [
    "df[\"experiment\"].unique()"
   ]
  },
  {
   "cell_type": "code",
   "execution_count": 10,
   "id": "fc2446a9",
   "metadata": {},
   "outputs": [],
   "source": [
    "sub_df = df[df[\"experiment\"].isin([\"LR\", \"RF\", \"SVM\", \"FNN\", \"CNN\", \"RNN\", \"LSTM\", \"TF-Enc-(msl2048)\", \"ProteinBERT\", \"Hybd-sl256st64-CLS-vs30-AE-BN\"])]\n",
    "sub_df = sub_df.replace({\"experiment\": {\"Hybd-sl256st64-CLS-vs30-AE-BN\": \"VirProBERT\"}})"
   ]
  },
  {
   "cell_type": "code",
   "execution_count": 24,
   "id": "449abfaf",
   "metadata": {},
   "outputs": [],
   "source": [
    "pairs = [(\"VirProBERT\", \"ProteinBERT\"),]\n",
    "#          (\"VirProBERT\", \"TF-Enc-(msl2048)\"),\n",
    "#          (\"VirProBERT\", \"LSTM\"),\n",
    "#          (\"VirProBERT\", \"RNN\"),\n",
    "#          (\"VirProBERT\", \"CNN\")]\n",
    "\n",
    "def plot_boxplot_w_stat_tests(df, metric, location, ylim):\n",
    "    \n",
    "#     virprobert_values = df[df[\"experiment\"] == \"VirProBERT\"][metric].values\n",
    "#     proteinbert_values = df[df[\"experiment\"] == \"ProteinBERT\"][metric].values\n",
    "#     lstm_values = df[df[\"experiment\"] == \"LSTM\"][metric].values\n",
    "#     hybd_values_128 = df[df[\"experiment\"] == \"Hybd-sl128st64-vs30-AE-BN\"][metric].values\n",
    "#     lstm_values = df[df[\"experiment\"] == \"LSTM\"][metric].values\n",
    "#     tf_enc_values = df[df[\"experiment\"] == \"Transformer-Encoder\"][metric].values\n",
    "#     lr_values = df[df[\"experiment\"] == \"LR\"][metric].values\n",
    "#     rf_values = df[df[\"experiment\"] == \"RF\"][metric].values\n",
    "#     svm_values = df[df[\"experiment\"] == \"SVM\"][metric].values\n",
    "    \n",
    "#     p_values = [mannwhitneyu(hybd_values_256, hybd_values_128, alternative=\"greater\").pvalue,\n",
    "#                 mannwhitneyu(hybd_values_256, proteinbert_values, alternative=\"greater\").pvalue,\n",
    "#                 mannwhitneyu(hybd_values_256, virprobert_1366_values, alternative=\"greater\").pvalue,\n",
    "#                 mannwhitneyu(hybd_values_256, virprobert_2048_values, alternative=\"greater\").pvalue]\n",
    "# #                 mannwhitneyu(virprobert_values, svm_values, alternative=\"greater\").pvalue,\n",
    "#                 mannwhitneyu(virprobert_values, rf_values, alternative=\"greater\").pvalue,\n",
    "#                 mannwhitneyu(virprobert_values, lr_values, alternative=\"greater\").pvalue]\n",
    "#     print(f\"p_values= {p_values}\")\n",
    "#     formatted_pvalues = [f\"p={p_value:.2e}\" for p_value in p_values]\n",
    "#     print(formatted_pvalues)\n",
    "    \n",
    "    DEFAULT_FIGURE_CONFIG = {\n",
    "        \"figsize\": (16, 10),\n",
    "        \"xtick.labelsize\": 20,\n",
    "        \"ytick.labelsize\": 20\n",
    "    }\n",
    "\n",
    "    plotting_parameters = {\n",
    "        'data':    df,\n",
    "        'x':       'experiment',\n",
    "        'y':       metric,\n",
    "        \"linewidth\": 2.5,\n",
    "        #\"edgecolor\": \"black\",\n",
    "        #\"linecolor\": \"black\",\n",
    "#         \"boxprops\": {\"edgecolor\": \"black\"},\n",
    "#         \"whiskerprops\": {\"color\": \"black\"},\n",
    "#         \"flierprops\": {\"color\": \"black\"},\n",
    "#         \"fliersize\": 7.0,\n",
    "#         \"medianprops\": {\"linewidth\": 2.5},\n",
    "        'palette': \"deep\",\n",
    "        #\"notch\": True,\n",
    "        #\"fill\": True\n",
    "    }\n",
    "\n",
    "    visualization_utils.pre_plot_config(DEFAULT_FIGURE_CONFIG)\n",
    "    ax = sns.boxplot(**plotting_parameters)\n",
    "    #sns.swarmplot(data=df, x=\"experiment\", y=metric, ax=ax, color=\"black\")\n",
    "    \n",
    "    annotator = Annotator(ax, pairs, **plotting_parameters)\n",
    "    #annotator.set_custom_annotations(p_values)\n",
    "    annotator.configure(loc=location)\n",
    "    #annotator.set_pvalues(p_values)\n",
    "    annotator.configure(test=\"Wilcoxon\", loc=location)\n",
    "    ax.set_xlabel(\"\", size=20, labelpad=5)\n",
    "    ax.set_ylabel(metric.upper(), size=22)\n",
    "    plt.xticks(rotation=90)\n",
    "    #visualization_utils.wrap_ticklabels(ax, axis=\"x\", label_width=7, break_long_words=True)\n",
    "    annotator.apply_and_annotate()\n",
    "    #annotator.annotate()\n",
    "    ax.set_ylim(*ylim)\n",
    "    \n",
    "    plt.tight_layout()\n",
    "    # plt.savefig(os.path.join(os.getcwd(), \"..\", \"..\", \"..\", \"..\", \"..\", f\"output/visualization/temp/host_multi_all_models_{metric}_boxplot_stat.pdf\"), bbox_inches=\"tight\")\n",
    "    #plt.savefig(os.path.join(os.getcwd(), \"..\", \"..\", \"..\", \"..\", \"..\", f\"output/visualization/uniref90/20240517/host_multi_all_models/host_multi_all_models_{metric}_boxplot_stat.pdf\"), bbox_inches=\"tight\")\n",
    "    plt.show()"
   ]
  },
  {
   "cell_type": "code",
   "execution_count": 25,
   "id": "1f146c17",
   "metadata": {},
   "outputs": [
    {
     "name": "stdout",
     "output_type": "stream",
     "text": [
      "p-value annotation legend:\n",
      "      ns: 5.00e-02 < p <= 1.00e+00\n",
      "       *: 1.00e-02 < p <= 5.00e-02\n",
      "      **: 1.00e-03 < p <= 1.00e-02\n",
      "     ***: 1.00e-04 < p <= 1.00e-03\n",
      "    ****: p <= 1.00e-04\n",
      "\n",
      "ProteinBERT vs. VirProBERT: Wilcoxon test (paired samples), P_val:6.250e-02 Stat=0.000e+00\n"
     ]
    },
    {
     "data": {
      "text/plain": [
       "<Figure size 432x288 with 0 Axes>"
      ]
     },
     "metadata": {},
     "output_type": "display_data"
    },
    {
     "data": {
      "image/png": "[encoded data removed]",
      "text/plain": [
       "<Figure size 1152x720 with 1 Axes>"
      ]
     },
     "metadata": {},
     "output_type": "display_data"
    }
   ],
   "source": [
    "plot_boxplot_w_stat_tests(sub_df, \"auprc\", \"outside\", ylim=(0.3, 1))"
   ]
  },
  {
   "cell_type": "code",
   "execution_count": 13,
   "id": "a9b1cab6",
   "metadata": {},
   "outputs": [
    {
     "ename": "ValueError",
     "evalue": "Could not interpret input 'auroc'",
     "output_type": "error",
     "traceback": [
      "\u001b[0;31m---------------------------------------------------------------------------\u001b[0m",
      "\u001b[0;31mValueError\u001b[0m                                Traceback (most recent call last)",
      "\u001b[0;32m/tmp/ipykernel_1791200/4003404612.py\u001b[0m in \u001b[0;36m<module>\u001b[0;34m\u001b[0m\n\u001b[0;32m----> 1\u001b[0;31m \u001b[0mplot_boxplot_w_stat_tests\u001b[0m\u001b[0;34m(\u001b[0m\u001b[0mdf\u001b[0m\u001b[0;34m,\u001b[0m \u001b[0;34m\"auroc\"\u001b[0m\u001b[0;34m,\u001b[0m \u001b[0mlocation\u001b[0m\u001b[0;34m=\u001b[0m\u001b[0;34m\"outside\"\u001b[0m\u001b[0;34m,\u001b[0m \u001b[0mylim\u001b[0m\u001b[0;34m=\u001b[0m\u001b[0;34m(\u001b[0m\u001b[0;36m0.8\u001b[0m\u001b[0;34m,\u001b[0m \u001b[0;36m1.0\u001b[0m\u001b[0;34m)\u001b[0m\u001b[0;34m)\u001b[0m\u001b[0;34m\u001b[0m\u001b[0;34m\u001b[0m\u001b[0m\n\u001b[0m",
      "\u001b[0;32m/tmp/ipykernel_1791200/2968503074.py\u001b[0m in \u001b[0;36mplot_boxplot_w_stat_tests\u001b[0;34m(df, metric, location, ylim)\u001b[0m\n\u001b[1;32m     52\u001b[0m \u001b[0;34m\u001b[0m\u001b[0m\n\u001b[1;32m     53\u001b[0m     \u001b[0mvisualization_utils\u001b[0m\u001b[0;34m.\u001b[0m\u001b[0mpre_plot_config\u001b[0m\u001b[0;34m(\u001b[0m\u001b[0mDEFAULT_FIGURE_CONFIG\u001b[0m\u001b[0;34m)\u001b[0m\u001b[0;34m\u001b[0m\u001b[0;34m\u001b[0m\u001b[0m\n\u001b[0;32m---> 54\u001b[0;31m     \u001b[0max\u001b[0m \u001b[0;34m=\u001b[0m \u001b[0msns\u001b[0m\u001b[0;34m.\u001b[0m\u001b[0mboxplot\u001b[0m\u001b[0;34m(\u001b[0m\u001b[0;34m**\u001b[0m\u001b[0mplotting_parameters\u001b[0m\u001b[0;34m)\u001b[0m\u001b[0;34m\u001b[0m\u001b[0;34m\u001b[0m\u001b[0m\n\u001b[0m\u001b[1;32m     55\u001b[0m     \u001b[0;31m#sns.swarmplot(data=df, x=\"experiment\", y=metric, ax=ax, color=\"black\")\u001b[0m\u001b[0;34m\u001b[0m\u001b[0;34m\u001b[0m\u001b[0;34m\u001b[0m\u001b[0m\n\u001b[1;32m     56\u001b[0m \u001b[0;34m\u001b[0m\u001b[0m\n",
      "\u001b[0;32m~/.local/lib/python3.8/site-packages/seaborn/_decorators.py\u001b[0m in \u001b[0;36minner_f\u001b[0;34m(*args, **kwargs)\u001b[0m\n\u001b[1;32m     44\u001b[0m             )\n\u001b[1;32m     45\u001b[0m         \u001b[0mkwargs\u001b[0m\u001b[0;34m.\u001b[0m\u001b[0mupdate\u001b[0m\u001b[0;34m(\u001b[0m\u001b[0;34m{\u001b[0m\u001b[0mk\u001b[0m\u001b[0;34m:\u001b[0m \u001b[0marg\u001b[0m \u001b[0;32mfor\u001b[0m \u001b[0mk\u001b[0m\u001b[0;34m,\u001b[0m \u001b[0marg\u001b[0m \u001b[0;32min\u001b[0m \u001b[0mzip\u001b[0m\u001b[0;34m(\u001b[0m\u001b[0msig\u001b[0m\u001b[0;34m.\u001b[0m\u001b[0mparameters\u001b[0m\u001b[0;34m,\u001b[0m \u001b[0margs\u001b[0m\u001b[0;34m)\u001b[0m\u001b[0;34m}\u001b[0m\u001b[0;34m)\u001b[0m\u001b[0;34m\u001b[0m\u001b[0;34m\u001b[0m\u001b[0m\n\u001b[0;32m---> 46\u001b[0;31m         \u001b[0;32mreturn\u001b[0m \u001b[0mf\u001b[0m\u001b[0;34m(\u001b[0m\u001b[0;34m**\u001b[0m\u001b[0mkwargs\u001b[0m\u001b[0;34m)\u001b[0m\u001b[0;34m\u001b[0m\u001b[0;34m\u001b[0m\u001b[0m\n\u001b[0m\u001b[1;32m     47\u001b[0m     \u001b[0;32mreturn\u001b[0m \u001b[0minner_f\u001b[0m\u001b[0;34m\u001b[0m\u001b[0;34m\u001b[0m\u001b[0m\n\u001b[1;32m     48\u001b[0m \u001b[0;34m\u001b[0m\u001b[0m\n",
      "\u001b[0;32m~/.local/lib/python3.8/site-packages/seaborn/categorical.py\u001b[0m in \u001b[0;36mboxplot\u001b[0;34m(x, y, hue, data, order, hue_order, orient, color, palette, saturation, width, dodge, fliersize, linewidth, whis, ax, **kwargs)\u001b[0m\n\u001b[1;32m   2228\u001b[0m ):\n\u001b[1;32m   2229\u001b[0m \u001b[0;34m\u001b[0m\u001b[0m\n\u001b[0;32m-> 2230\u001b[0;31m     plotter = _BoxPlotter(x, y, hue, data, order, hue_order,\n\u001b[0m\u001b[1;32m   2231\u001b[0m                           \u001b[0morient\u001b[0m\u001b[0;34m,\u001b[0m \u001b[0mcolor\u001b[0m\u001b[0;34m,\u001b[0m \u001b[0mpalette\u001b[0m\u001b[0;34m,\u001b[0m \u001b[0msaturation\u001b[0m\u001b[0;34m,\u001b[0m\u001b[0;34m\u001b[0m\u001b[0;34m\u001b[0m\u001b[0m\n\u001b[1;32m   2232\u001b[0m                           width, dodge, fliersize, linewidth)\n",
      "\u001b[0;32m~/.local/lib/python3.8/site-packages/seaborn/categorical.py\u001b[0m in \u001b[0;36m__init__\u001b[0;34m(self, x, y, hue, data, order, hue_order, orient, color, palette, saturation, width, dodge, fliersize, linewidth)\u001b[0m\n\u001b[1;32m    404\u001b[0m                  width, dodge, fliersize, linewidth):\n\u001b[1;32m    405\u001b[0m \u001b[0;34m\u001b[0m\u001b[0m\n\u001b[0;32m--> 406\u001b[0;31m         \u001b[0mself\u001b[0m\u001b[0;34m.\u001b[0m\u001b[0mestablish_variables\u001b[0m\u001b[0;34m(\u001b[0m\u001b[0mx\u001b[0m\u001b[0;34m,\u001b[0m \u001b[0my\u001b[0m\u001b[0;34m,\u001b[0m \u001b[0mhue\u001b[0m\u001b[0;34m,\u001b[0m \u001b[0mdata\u001b[0m\u001b[0;34m,\u001b[0m \u001b[0morient\u001b[0m\u001b[0;34m,\u001b[0m \u001b[0morder\u001b[0m\u001b[0;34m,\u001b[0m \u001b[0mhue_order\u001b[0m\u001b[0;34m)\u001b[0m\u001b[0;34m\u001b[0m\u001b[0;34m\u001b[0m\u001b[0m\n\u001b[0m\u001b[1;32m    407\u001b[0m         \u001b[0mself\u001b[0m\u001b[0;34m.\u001b[0m\u001b[0mestablish_colors\u001b[0m\u001b[0;34m(\u001b[0m\u001b[0mcolor\u001b[0m\u001b[0;34m,\u001b[0m \u001b[0mpalette\u001b[0m\u001b[0;34m,\u001b[0m \u001b[0msaturation\u001b[0m\u001b[0;34m)\u001b[0m\u001b[0;34m\u001b[0m\u001b[0;34m\u001b[0m\u001b[0m\n\u001b[1;32m    408\u001b[0m \u001b[0;34m\u001b[0m\u001b[0m\n",
      "\u001b[0;32m~/.local/lib/python3.8/site-packages/seaborn/categorical.py\u001b[0m in \u001b[0;36mestablish_variables\u001b[0;34m(self, x, y, hue, data, orient, order, hue_order, units)\u001b[0m\n\u001b[1;32m    151\u001b[0m                 \u001b[0;32mif\u001b[0m \u001b[0misinstance\u001b[0m\u001b[0;34m(\u001b[0m\u001b[0mvar\u001b[0m\u001b[0;34m,\u001b[0m \u001b[0mstr\u001b[0m\u001b[0;34m)\u001b[0m\u001b[0;34m:\u001b[0m\u001b[0;34m\u001b[0m\u001b[0;34m\u001b[0m\u001b[0m\n\u001b[1;32m    152\u001b[0m                     \u001b[0merr\u001b[0m \u001b[0;34m=\u001b[0m \u001b[0;34m\"Could not interpret input '{}'\"\u001b[0m\u001b[0;34m.\u001b[0m\u001b[0mformat\u001b[0m\u001b[0;34m(\u001b[0m\u001b[0mvar\u001b[0m\u001b[0;34m)\u001b[0m\u001b[0;34m\u001b[0m\u001b[0;34m\u001b[0m\u001b[0m\n\u001b[0;32m--> 153\u001b[0;31m                     \u001b[0;32mraise\u001b[0m \u001b[0mValueError\u001b[0m\u001b[0;34m(\u001b[0m\u001b[0merr\u001b[0m\u001b[0;34m)\u001b[0m\u001b[0;34m\u001b[0m\u001b[0;34m\u001b[0m\u001b[0m\n\u001b[0m\u001b[1;32m    154\u001b[0m \u001b[0;34m\u001b[0m\u001b[0m\n\u001b[1;32m    155\u001b[0m             \u001b[0;31m# Figure out the plotting orientation\u001b[0m\u001b[0;34m\u001b[0m\u001b[0;34m\u001b[0m\u001b[0;34m\u001b[0m\u001b[0m\n",
      "\u001b[0;31mValueError\u001b[0m: Could not interpret input 'auroc'"
     ]
    },
    {
     "data": {
      "text/plain": [
       "<Figure size 432x288 with 0 Axes>"
      ]
     },
     "metadata": {},
     "output_type": "display_data"
    },
    {
     "data": {
      "text/plain": [
       "<Figure size 1152x720 with 0 Axes>"
      ]
     },
     "metadata": {},
     "output_type": "display_data"
    }
   ],
   "source": [
    "plot_boxplot_w_stat_tests(df, \"auroc\", location=\"outside\", ylim=(0.8, 1.0))"
   ]
  },
  {
   "cell_type": "code",
   "execution_count": null,
   "id": "b8bac573",
   "metadata": {},
   "outputs": [],
   "source": []
  }
 ],
 "metadata": {
  "kernelspec": {
   "display_name": "Python 3 (ipykernel)",
   "language": "python",
   "name": "python3"
  },
  "language_info": {
   "codemirror_mode": {
    "name": "ipython",
    "version": 3
   },
   "file_extension": ".py",
   "mimetype": "text/x-python",
   "name": "python",
   "nbconvert_exporter": "python",
   "pygments_lexer": "ipython3",
   "version": "3.8.12"
  }
 },
 "nbformat": 4,
 "nbformat_minor": 5
}
