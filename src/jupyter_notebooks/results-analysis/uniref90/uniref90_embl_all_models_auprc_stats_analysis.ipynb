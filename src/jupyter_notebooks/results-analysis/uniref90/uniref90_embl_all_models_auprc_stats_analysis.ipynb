{
 "cells": [
  {
   "cell_type": "markdown",
   "id": "5e2ecf0f",
   "metadata": {},
   "source": [
    "## Results of Host Prediction\n",
    "### Dataset: EMBL mapping, Vertebrates, Non-IDV\n",
    "\n",
    "**Models**: FNN, CNN, RNN, LSTM, TF\n",
    "\n",
    "**Positional Embedding**: Sin-Cos\n",
    "\n",
    "**Maximum Sequence Length**: 1036\n",
    "\n",
    "**Classification**: Multi-class\n",
    "\n",
    "**\\# classes**: 5\n",
    "\n",
    "**\\# train samples** = \n",
    "\n",
    "**\\# validation samples** = \n",
    "\n",
    "**\\# test samples** = "
   ]
  },
  {
   "cell_type": "code",
   "execution_count": 1,
   "id": "8349fb54",
   "metadata": {},
   "outputs": [],
   "source": [
    "import seaborn"
   ]
  },
  {
   "cell_type": "code",
   "execution_count": 2,
   "id": "6cfca147",
   "metadata": {
    "scrolled": false
   },
   "outputs": [
    {
     "data": {
      "text/plain": [
       "['/home/blessyantony/dev/git/zoonosis/src/jupyter_notebooks/results-analysis/uniref90',\n",
       " '/opt/conda/lib/python38.zip',\n",
       " '/opt/conda/lib/python3.8',\n",
       " '/opt/conda/lib/python3.8/lib-dynload',\n",
       " '',\n",
       " '/home/blessyantony/.local/lib/python3.8/site-packages',\n",
       " '/opt/conda/lib/python3.8/site-packages',\n",
       " '/opt/conda/lib/python3.8/site-packages/IPython/extensions',\n",
       " '/home/blessyantony/.ipython',\n",
       " '/home/blessyantony/dev/git/zoonosis/src/jupyter_notebooks/results-analysis/uniref90/../../../../..',\n",
       " '/home/blessyantony/dev/git/zoonosis/src/jupyter_notebooks/results-analysis/uniref90/../../../..',\n",
       " '/home/blessyantony/dev/git/zoonosis/src/jupyter_notebooks/results-analysis/uniref90/../../..',\n",
       " '/home/blessyantony/dev/git/zoonosis/src/jupyter_notebooks/results-analysis/uniref90/../..']"
      ]
     },
     "execution_count": 2,
     "metadata": {},
     "output_type": "execute_result"
    }
   ],
   "source": [
    "import sys\n",
    "import os\n",
    "from scipy.stats import mannwhitneyu, wilcoxon, ranksums\n",
    "from statannotations.Annotator import Annotator\n",
    "sys.path.append(os.path.join(os.getcwd(), \"..\", \"..\", \"..\", \"..\", \"..\"))\n",
    "sys.path.append(os.path.join(os.getcwd(), \"..\", \"..\", \"..\", \"..\"))\n",
    "sys.path.append(os.path.join(os.getcwd(), \"..\", \"..\", \"..\"))\n",
    "sys.path.append(os.path.join(os.getcwd(), \"..\", \"..\"))\n",
    "sys.path"
   ]
  },
  {
   "cell_type": "code",
   "execution_count": 3,
   "id": "22cbf7ce",
   "metadata": {
    "scrolled": true
   },
   "outputs": [],
   "source": [
    "import pandas as pd\n",
    "import os\n",
    "import numpy as np\n",
    "import seaborn as sns\n",
    "import matplotlib.pyplot as plt\n",
    "from pathlib import Path\n",
    "from scipy.stats import mannwhitneyu\n",
    "from src.utils import visualization_utils\n",
    "from statannotations.Annotator import Annotator"
   ]
  },
  {
   "cell_type": "code",
   "execution_count": 4,
   "id": "3f26658d",
   "metadata": {},
   "outputs": [
    {
     "data": {
      "text/plain": [
       "'0.13.0'"
      ]
     },
     "execution_count": 4,
     "metadata": {},
     "output_type": "execute_result"
    }
   ],
   "source": [
    "sns.__version__"
   ]
  },
  {
   "cell_type": "code",
   "execution_count": 5,
   "id": "cb6c3cc1",
   "metadata": {
    "scrolled": true
   },
   "outputs": [],
   "source": [
    "itr_col = \"itr\"\n",
    "experiment_col = \"experiment\"\n",
    "y_true_col = \"y_true\"\n",
    "human_col = \"Human\"\n",
    "plt.rcParams['xtick.labelsize'] = 20\n",
    "plt.rcParams['ytick.labelsize'] = 20\n",
    "plt.rcParams['figure.autolayout'] = True\n",
    "\n",
    "DEFAULT_FIGURE_CONFIG = {\n",
    "    \"figsize\": (10, 10),\n",
    "    \"xtick.labelsize\": 18,\n",
    "    \"ytick.labelsize\": 18    \n",
    "}\n",
    "\n",
    "\n"
   ]
  },
  {
   "cell_type": "code",
   "execution_count": 6,
   "id": "e1e184b3",
   "metadata": {
    "scrolled": true
   },
   "outputs": [
    {
     "data": {
      "text/html": [
       "<div>\n",
       "<style scoped>\n",
       "    .dataframe tbody tr th:only-of-type {\n",
       "        vertical-align: middle;\n",
       "    }\n",
       "\n",
       "    .dataframe tbody tr th {\n",
       "        vertical-align: top;\n",
       "    }\n",
       "\n",
       "    .dataframe thead th {\n",
       "        text-align: right;\n",
       "    }\n",
       "</style>\n",
       "<table border=\"1\" class=\"dataframe\">\n",
       "  <thead>\n",
       "    <tr style=\"text-align: right;\">\n",
       "      <th></th>\n",
       "      <th>itr</th>\n",
       "      <th>experiment</th>\n",
       "      <th>auprc</th>\n",
       "    </tr>\n",
       "  </thead>\n",
       "  <tbody>\n",
       "    <tr>\n",
       "      <th>0</th>\n",
       "      <td>0</td>\n",
       "      <td>LR</td>\n",
       "      <td>0.433765</td>\n",
       "    </tr>\n",
       "    <tr>\n",
       "      <th>1</th>\n",
       "      <td>1</td>\n",
       "      <td>LR</td>\n",
       "      <td>0.428972</td>\n",
       "    </tr>\n",
       "    <tr>\n",
       "      <th>2</th>\n",
       "      <td>2</td>\n",
       "      <td>LR</td>\n",
       "      <td>0.440230</td>\n",
       "    </tr>\n",
       "    <tr>\n",
       "      <th>3</th>\n",
       "      <td>3</td>\n",
       "      <td>LR</td>\n",
       "      <td>0.464170</td>\n",
       "    </tr>\n",
       "    <tr>\n",
       "      <th>4</th>\n",
       "      <td>4</td>\n",
       "      <td>LR</td>\n",
       "      <td>0.437962</td>\n",
       "    </tr>\n",
       "    <tr>\n",
       "      <th>...</th>\n",
       "      <td>...</td>\n",
       "      <td>...</td>\n",
       "      <td>...</td>\n",
       "    </tr>\n",
       "    <tr>\n",
       "      <th>60</th>\n",
       "      <td>0</td>\n",
       "      <td>VirProBERT</td>\n",
       "      <td>0.639349</td>\n",
       "    </tr>\n",
       "    <tr>\n",
       "      <th>61</th>\n",
       "      <td>1</td>\n",
       "      <td>VirProBERT</td>\n",
       "      <td>0.672554</td>\n",
       "    </tr>\n",
       "    <tr>\n",
       "      <th>62</th>\n",
       "      <td>2</td>\n",
       "      <td>VirProBERT</td>\n",
       "      <td>0.703604</td>\n",
       "    </tr>\n",
       "    <tr>\n",
       "      <th>63</th>\n",
       "      <td>3</td>\n",
       "      <td>VirProBERT</td>\n",
       "      <td>0.688975</td>\n",
       "    </tr>\n",
       "    <tr>\n",
       "      <th>64</th>\n",
       "      <td>4</td>\n",
       "      <td>VirProBERT</td>\n",
       "      <td>0.674083</td>\n",
       "    </tr>\n",
       "  </tbody>\n",
       "</table>\n",
       "<p>65 rows × 3 columns</p>\n",
       "</div>"
      ],
      "text/plain": [
       "    itr  experiment     auprc\n",
       "0     0          LR  0.433765\n",
       "1     1          LR  0.428972\n",
       "2     2          LR  0.440230\n",
       "3     3          LR  0.464170\n",
       "4     4          LR  0.437962\n",
       "..  ...         ...       ...\n",
       "60    0  VirProBERT  0.639349\n",
       "61    1  VirProBERT  0.672554\n",
       "62    2  VirProBERT  0.703604\n",
       "63    3  VirProBERT  0.688975\n",
       "64    4  VirProBERT  0.674083\n",
       "\n",
       "[65 rows x 3 columns]"
      ]
     },
     "execution_count": 6,
     "metadata": {},
     "output_type": "execute_result"
    }
   ],
   "source": [
    "# df = pd.read_csv(os.path.join(os.getcwd(), \"..\", \"..\", \"..\", \"..\", \"..\", \"output/evaluation/uniref90/20240517/host_multi_all_models/host_multi_all_models_evaluation_metrics.csv\"))\n",
    "# df = pd.read_csv(os.path.join(os.getcwd(), \"..\", \"..\", \"..\", \"..\", \"..\", \"output/evaluation/uniref90/20240611/host_multi_all_models/host_multi_all_models-msl2048_evaluation_metrics.csv\"))\n",
    "#df = pd.read_csv(os.path.join(os.getcwd(), \"..\",  \"..\", \"..\", \"..\", \"output/evaluation/uniref90/20241106/host_multi/host_multi_all_models_evaluation_metrics.csv\"))\n",
    "# df = pd.read_csv(os.path.join(os.getcwd(), \"..\",  \"..\", \"..\", \"..\", \"output/evaluation/uniref90/20241127/host_multi/host_multi_all_models_evaluation_metrics.csv\"))\n",
    "df = pd.read_csv(os.path.join(os.getcwd(), \"..\",  \"..\", \"..\", \"..\", \"output/evaluation/uniref90/20241202/host_multi/host_multi_all_models_evaluation_metrics.csv\"))\n",
    "df.drop(columns=\"Unnamed: 0\", inplace=True)\n",
    "df"
   ]
  },
  {
   "cell_type": "code",
   "execution_count": 7,
   "id": "8cf80c24",
   "metadata": {},
   "outputs": [],
   "source": [
    "df = df.replace({\"experiment\": {\"LR-maxitr5000\": \"LR\", \"Protein-BERT\": \"ProteinBERT\", \"VirPro-BERT\": \"VirProBERT\", \"Protein-BERT_new_ds\": \"ProteinBERT\", \"ProstT5-lr3e-4\": \"ProstT5\"}})"
   ]
  },
  {
   "cell_type": "code",
   "execution_count": 8,
   "id": "fd4defa6",
   "metadata": {},
   "outputs": [
    {
     "data": {
      "text/plain": [
       "array(['LR', 'RF', 'SVM', 'FNN', 'CNN', 'RNN', 'LSTM',\n",
       "       'Transformer-Encoder', 'ProstT5-lr1e-4', 'ProstT5',\n",
       "       'ESM2-t33_650M_UR50D', 'ESM3', 'VirProBERT'], dtype=object)"
      ]
     },
     "execution_count": 8,
     "metadata": {},
     "output_type": "execute_result"
    }
   ],
   "source": [
    "df[\"experiment\"].unique()"
   ]
  },
  {
   "cell_type": "code",
   "execution_count": 9,
   "id": "fc2446a9",
   "metadata": {},
   "outputs": [],
   "source": [
    "sub_df = df[df[\"experiment\"].isin([\"LR\", \"RF\", \"SVM\", \"CNN\", \"RNN\", \"LSTM\", \"ProstT5\",\n",
    "       'ESM2-t33_650M_UR50D', 'ESM3', \"VirProBERT\"])]\n",
    "sub_df = sub_df.replace({\"experiment\": {\"Hybd-sl256st64-CLS-vs30-AE-BN\": \"VirProBERT\"}})"
   ]
  },
  {
   "cell_type": "code",
   "execution_count": 10,
   "id": "46c4f017",
   "metadata": {},
   "outputs": [
    {
     "data": {
      "text/plain": [
       "array(['LR', 'RF', 'SVM', 'CNN', 'RNN', 'LSTM', 'ProstT5',\n",
       "       'ESM2-t33_650M_UR50D', 'ESM3', 'VirProBERT'], dtype=object)"
      ]
     },
     "execution_count": 10,
     "metadata": {},
     "output_type": "execute_result"
    }
   ],
   "source": [
    "sub_df[\"experiment\"].unique()"
   ]
  },
  {
   "cell_type": "code",
   "execution_count": 13,
   "id": "449abfaf",
   "metadata": {},
   "outputs": [],
   "source": [
    "experiments = ['LR', 'RF', 'SVM', 'CNN', 'RNN', 'LSTM', 'ProstT5',\n",
    "       'ESM2-t33_650M_UR50D', 'ESM3', \"VirProBERT\"]\n",
    "pairs = [#(\"ProteinBERT\", \"VirProBERT\"),\n",
    "         #(\"VirProBERT\", \"Transformer-Encoder\"), \n",
    "         (\"VirProBERT\", \"ESM3\"), \n",
    "         (\"ESM2-t33_650M_UR50D\", \"VirProBERT\"), \n",
    "         (\"VirProBERT\", \"ProstT5\"), \n",
    "         (\"VirProBERT\", \"LSTM\"),\n",
    "         (\"VirProBERT\", \"RNN\"),\n",
    "         (\"VirProBERT\", \"CNN\")]\n",
    "\n",
    "def get_p_value_annotation(p_value):\n",
    "    if p_value > 5e-2 and p_value <= 1:\n",
    "        return \"ns\"\n",
    "    elif p_value > 1e-2 and p_value <= 5e-2:\n",
    "        return \"*\"\n",
    "    elif p_value > 1e-3 and p_value <= 1e-2:\n",
    "        return \"**\"\n",
    "    elif p_value > 1e-4 and p_value <= 1e-3:\n",
    "        return \"***\"\n",
    "    elif p_value <= 1e-4:\n",
    "        return \"****\"\n",
    "    else:\n",
    "        return None\n",
    "    \n",
    "def plot_boxplot_w_stat_custom_annotation(df, metric, pairs, location, ylim):\n",
    "    DEFAULT_FIGURE_CONFIG = {\n",
    "        \"figsize\": (18, 8),\n",
    "        \"xtick.labelsize\": 18,\n",
    "        \"ytick.labelsize\": 18\n",
    "    }\n",
    "    color_palette = sns.cubehelix_palette(start=3, rot=4.5, hue=1, gamma=0.9, dark=0.7, light=0.4, reverse=True, n_colors=df[\"experiment\"].nunique())\n",
    "    plotting_parameters = {\n",
    "        'data':    df,\n",
    "        'x':       'experiment',\n",
    "        'y':       metric,\n",
    "        \"linewidth\": 2,\n",
    "        #\"edgecolor\": \"black\",\n",
    "        \"linecolor\": \"black\",\n",
    "#         \"boxprops\": {\"edgecolor\": \"black\"},\n",
    "#         \"whiskerprops\": {\"color\": \"black\"},\n",
    "#         \"flierprops\": {\"color\": \"black\"},\n",
    "#         \"fliersize\": 7.0,\n",
    "#         \"medianprops\": {\"linewidth\": 2.5},\n",
    "        'palette': color_palette#sns.color_palette(\"magma\", n_colors=len(experiments)),\n",
    "        #\"notch\": True,\n",
    "        #\"fill\": False\n",
    "    }\n",
    "    \n",
    "    visualization_utils.pre_plot_config(DEFAULT_FIGURE_CONFIG)\n",
    "    ax = sns.boxplot(**plotting_parameters, order=experiments)\n",
    "    sns.stripplot(data=df, x=\"experiment\", y=metric, ax=ax, color=\"black\", size=8, alpha=.7, order=experiments)\n",
    "    ax.set_xlabel(\"\", size=1, labelpad=5)\n",
    "    ax.set_ylabel(metric.upper(), size=20)\n",
    "    plt.draw()\n",
    "    ax.set_ylim(*ylim)\n",
    "    \n",
    "    #plt.tight_layout()\n",
    "    \n",
    "    for i, pair in enumerate(pairs):\n",
    "        model_1_values = df[df[\"experiment\"] == pair[0]][metric].values\n",
    "        model_2_values = df[df[\"experiment\"] == pair[1]][metric].values\n",
    "        p_value = mannwhitneyu(model_1_values, model_2_values, alternative=\"greater\").pvalue\n",
    "        formatted_pvalue = f\"p={p_value:.2e}\"\n",
    "        print(f\"{pair}: p-value={formatted_pvalue}\")\n",
    "        \n",
    "        x_ticks = [t.get_text()  for t in ax.get_xticklabels()]\n",
    "        print(x_ticks)\n",
    "        x1 = experiments.index(pair[0])\n",
    "        x2 = experiments.index(pair[1])\n",
    "        y1 = max(df[df[\"experiment\"] == pair[0]][metric].max(), \n",
    "                 df[df[\"experiment\"] == pair[1]][metric].max()) + (0.05 * (i + 1))\n",
    "        y2 = y1 + .01\n",
    "        \n",
    "        plt.plot([x1, x1, x2, x2], [y1, y2, y2, y1], lw=2, c=\"k\")\n",
    "        plt.text((x1 + x2)*.5, y1, get_p_value_annotation(p_value), ha='center', va='bottom', color=\"k\", size=\"22\")\n",
    "    visualization_utils.wrap_ticklabels(ax, axis=\"x\", label_width=10, break_long_words=True)\n",
    "    plt.savefig(os.path.join(os.getcwd(), \"..\", \"..\", \"..\", \"..\", f\"output/visualization/temp_new/host_multi_all_models_{metric}_boxplot_stat.pdf\"), bbox_inches=\"tight\")"
   ]
  },
  {
   "cell_type": "code",
   "execution_count": 14,
   "id": "b7466442",
   "metadata": {},
   "outputs": [
    {
     "name": "stderr",
     "output_type": "stream",
     "text": [
      "/tmp/ipykernel_533745/216572922.py:51: FutureWarning: \n",
      "\n",
      "Passing `palette` without assigning `hue` is deprecated and will be removed in v0.14.0. Assign the `x` variable to `hue` and set `legend=False` for the same effect.\n",
      "\n",
      "  ax = sns.boxplot(**plotting_parameters, order=experiments)\n",
      "/home/blessyantony/dev/git/zoonosis/src/jupyter_notebooks/results-analysis/uniref90/../../../../src/utils/visualization_utils.py:119: UserWarning: FixedFormatter should only be used together with FixedLocator\n",
      "  ax.set_xticklabels(wrapped_labels, rotation=0)\n"
     ]
    },
    {
     "name": "stdout",
     "output_type": "stream",
     "text": [
      "('VirProBERT', 'ESM3'): p-value=p=2.65e-01\n",
      "['LR', 'RF', 'SVM', 'CNN', 'RNN', 'LSTM', 'ProstT5', 'ESM2-t33_650M_UR50D', 'ESM3', 'VirProBERT']\n",
      "('ESM2-t33_650M_UR50D', 'VirProBERT'): p-value=p=6.09e-03\n",
      "['LR', 'RF', 'SVM', 'CNN', 'RNN', 'LSTM', 'ProstT5', 'ESM2-t33_650M_UR50D', 'ESM3', 'VirProBERT']\n",
      "('VirProBERT', 'ProstT5'): p-value=p=6.09e-03\n",
      "['LR', 'RF', 'SVM', 'CNN', 'RNN', 'LSTM', 'ProstT5', 'ESM2-t33_650M_UR50D', 'ESM3', 'VirProBERT']\n",
      "('VirProBERT', 'LSTM'): p-value=p=6.09e-03\n",
      "['LR', 'RF', 'SVM', 'CNN', 'RNN', 'LSTM', 'ProstT5', 'ESM2-t33_650M_UR50D', 'ESM3', 'VirProBERT']\n",
      "('VirProBERT', 'RNN'): p-value=p=6.09e-03\n",
      "['LR', 'RF', 'SVM', 'CNN', 'RNN', 'LSTM', 'ProstT5', 'ESM2-t33_650M_UR50D', 'ESM3', 'VirProBERT']\n",
      "('VirProBERT', 'CNN'): p-value=p=6.09e-03\n",
      "['LR', 'RF', 'SVM', 'CNN', 'RNN', 'LSTM', 'ProstT5', 'ESM2-t33_650M_UR50D', 'ESM3', 'VirProBERT']\n"
     ]
    },
    {
     "data": {
      "text/plain": [
       "<Figure size 432x288 with 0 Axes>"
      ]
     },
     "metadata": {},
     "output_type": "display_data"
    },
    {
     "data": {
      "image/png": "[encoded data removed]",
      "text/plain": [
       "<Figure size 1296x576 with 1 Axes>"
      ]
     },
     "metadata": {},
     "output_type": "display_data"
    }
   ],
   "source": [
    "plot_boxplot_w_stat_custom_annotation(sub_df, \"auprc\", pairs, location=\"inside\", ylim=(0, 1))"
   ]
  },
  {
   "cell_type": "code",
   "execution_count": null,
   "id": "b8bac573",
   "metadata": {},
   "outputs": [],
   "source": []
  },
  {
   "cell_type": "code",
   "execution_count": null,
   "id": "e027d6f2",
   "metadata": {},
   "outputs": [],
   "source": []
  }
 ],
 "metadata": {
  "kernelspec": {
   "display_name": "Python 3 (ipykernel)",
   "language": "python",
   "name": "python3"
  },
  "language_info": {
   "codemirror_mode": {
    "name": "ipython",
    "version": 3
   },
   "file_extension": ".py",
   "mimetype": "text/x-python",
   "name": "python",
   "nbconvert_exporter": "python",
   "pygments_lexer": "ipython3",
   "version": "3.8.12"
  }
 },
 "nbformat": 4,
 "nbformat_minor": 5
}
