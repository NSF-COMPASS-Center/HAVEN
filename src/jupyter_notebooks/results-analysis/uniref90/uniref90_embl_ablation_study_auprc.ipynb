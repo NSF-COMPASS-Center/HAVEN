{
 "cells": [
  {
   "cell_type": "markdown",
   "id": "5e2ecf0f",
   "metadata": {},
   "source": [
    "## Results of Host Prediction\n",
    "### Dataset: EMBL mapping, Vertebrates, Non-IDV\n",
    "\n",
    "**Models**: FNN, CNN, RNN, LSTM, TF\n",
    "\n",
    "**Positional Embedding**: Sin-Cos\n",
    "\n",
    "**Maximum Sequence Length**: 1036\n",
    "\n",
    "**Classification**: Multi-class\n",
    "\n",
    "**\\# classes**: 5\n",
    "\n",
    "**\\# train samples** = \n",
    "\n",
    "**\\# validation samples** = \n",
    "\n",
    "**\\# test samples** = "
   ]
  },
  {
   "cell_type": "code",
   "execution_count": null,
   "id": "8349fb54",
   "metadata": {},
   "outputs": [],
   "source": []
  },
  {
   "cell_type": "code",
   "execution_count": 1,
   "id": "dcd79b74",
   "metadata": {},
   "outputs": [
    {
     "name": "stdout",
     "output_type": "stream",
     "text": [
      "Defaulting to user installation because normal site-packages is not writeable\n",
      "\u001b[33mWARNING: Ignoring invalid distribution -eaborn (/home/blessyantony/.local/lib/python3.8/site-packages)\u001b[0m\n",
      "\u001b[33mWARNING: Ignoring invalid distribution -eaborn (/home/blessyantony/.local/lib/python3.8/site-packages)\u001b[0m\n",
      "Looking in indexes: https://pypi.org/simple, https://pypi.ngc.nvidia.com\n",
      "Requirement already satisfied: statannotations in /home/blessyantony/.local/lib/python3.8/site-packages (0.6.0)\n",
      "Collecting seaborn<0.12,>=0.9.0\n",
      "  Downloading seaborn-0.11.2-py3-none-any.whl (292 kB)\n",
      "\u001b[K     |████████████████████████████████| 292 kB 6.7 MB/s eta 0:00:01\n",
      "\u001b[?25hRequirement already satisfied: matplotlib>=2.2.2 in /home/blessyantony/.local/lib/python3.8/site-packages (from statannotations) (3.5.3)\n",
      "Requirement already satisfied: numpy>=1.12.1 in /opt/conda/lib/python3.8/site-packages (from statannotations) (1.21.4)\n",
      "Requirement already satisfied: pandas<2.0.0,>=0.23.0 in /opt/conda/lib/python3.8/site-packages (from statannotations) (1.3.4)\n",
      "Requirement already satisfied: scipy>=1.1.0 in /opt/conda/lib/python3.8/site-packages (from statannotations) (1.6.3)\n",
      "Requirement already satisfied: pillow>=6.2.0 in /opt/conda/lib/python3.8/site-packages (from matplotlib>=2.2.2->statannotations) (8.2.0)\n",
      "Requirement already satisfied: packaging>=20.0 in /opt/conda/lib/python3.8/site-packages (from matplotlib>=2.2.2->statannotations) (21.3)\n",
      "Requirement already satisfied: pyparsing>=2.2.1 in /opt/conda/lib/python3.8/site-packages (from matplotlib>=2.2.2->statannotations) (3.0.6)\n",
      "Requirement already satisfied: fonttools>=4.22.0 in /opt/conda/lib/python3.8/site-packages (from matplotlib>=2.2.2->statannotations) (4.28.2)\n",
      "Requirement already satisfied: kiwisolver>=1.0.1 in /opt/conda/lib/python3.8/site-packages (from matplotlib>=2.2.2->statannotations) (1.3.2)\n",
      "Requirement already satisfied: cycler>=0.10 in /opt/conda/lib/python3.8/site-packages (from matplotlib>=2.2.2->statannotations) (0.11.0)\n",
      "Requirement already satisfied: python-dateutil>=2.7 in /opt/conda/lib/python3.8/site-packages (from matplotlib>=2.2.2->statannotations) (2.8.2)\n",
      "Requirement already satisfied: pytz>=2017.3 in /opt/conda/lib/python3.8/site-packages (from pandas<2.0.0,>=0.23.0->statannotations) (2021.3)\n",
      "Requirement already satisfied: six>=1.5 in /opt/conda/lib/python3.8/site-packages (from python-dateutil>=2.7->matplotlib>=2.2.2->statannotations) (1.16.0)\n",
      "\u001b[33mWARNING: Ignoring invalid distribution -eaborn (/home/blessyantony/.local/lib/python3.8/site-packages)\u001b[0m\n",
      "Installing collected packages: seaborn\n",
      "  Attempting uninstall: seaborn\n",
      "\u001b[33m    WARNING: Ignoring invalid distribution -eaborn (/home/blessyantony/.local/lib/python3.8/site-packages)\u001b[0m\n",
      "    Found existing installation: seaborn 0.13.0\n",
      "    Uninstalling seaborn-0.13.0:\n",
      "      Successfully uninstalled seaborn-0.13.0\n",
      "\u001b[33mWARNING: Ignoring invalid distribution -eaborn (/home/blessyantony/.local/lib/python3.8/site-packages)\u001b[0m\n",
      "Successfully installed seaborn-0.11.2\n",
      "\u001b[33mWARNING: Ignoring invalid distribution -eaborn (/home/blessyantony/.local/lib/python3.8/site-packages)\u001b[0m\n",
      "\u001b[33mWARNING: Ignoring invalid distribution -eaborn (/home/blessyantony/.local/lib/python3.8/site-packages)\u001b[0m\n",
      "\u001b[33mWARNING: Ignoring invalid distribution -eaborn (/home/blessyantony/.local/lib/python3.8/site-packages)\u001b[0m\n",
      "Defaulting to user installation because normal site-packages is not writeable\n",
      "\u001b[33mWARNING: Ignoring invalid distribution -eaborn (/home/blessyantony/.local/lib/python3.8/site-packages)\u001b[0m\n",
      "\u001b[33mWARNING: Ignoring invalid distribution -eaborn (/home/blessyantony/.local/lib/python3.8/site-packages)\u001b[0m\n",
      "Looking in indexes: https://pypi.org/simple, https://pypi.ngc.nvidia.com\n",
      "Requirement already satisfied: statsmodels in /home/blessyantony/.local/lib/python3.8/site-packages (0.14.1)\n",
      "Requirement already satisfied: patsy>=0.5.4 in /home/blessyantony/.local/lib/python3.8/site-packages (from statsmodels) (0.5.6)\n",
      "Requirement already satisfied: pandas!=2.1.0,>=1.0 in /opt/conda/lib/python3.8/site-packages (from statsmodels) (1.3.4)\n",
      "Requirement already satisfied: scipy!=1.9.2,>=1.4 in /opt/conda/lib/python3.8/site-packages (from statsmodels) (1.6.3)\n",
      "Requirement already satisfied: packaging>=21.3 in /opt/conda/lib/python3.8/site-packages (from statsmodels) (21.3)\n",
      "Requirement already satisfied: numpy<2,>=1.18 in /opt/conda/lib/python3.8/site-packages (from statsmodels) (1.21.4)\n",
      "Requirement already satisfied: pyparsing!=3.0.5,>=2.0.2 in /opt/conda/lib/python3.8/site-packages (from packaging>=21.3->statsmodels) (3.0.6)\n",
      "Requirement already satisfied: pytz>=2017.3 in /opt/conda/lib/python3.8/site-packages (from pandas!=2.1.0,>=1.0->statsmodels) (2021.3)\n",
      "Requirement already satisfied: python-dateutil>=2.7.3 in /opt/conda/lib/python3.8/site-packages (from pandas!=2.1.0,>=1.0->statsmodels) (2.8.2)\n",
      "Requirement already satisfied: six in /opt/conda/lib/python3.8/site-packages (from patsy>=0.5.4->statsmodels) (1.16.0)\n",
      "\u001b[33mWARNING: Ignoring invalid distribution -eaborn (/home/blessyantony/.local/lib/python3.8/site-packages)\u001b[0m\n",
      "\u001b[33mWARNING: Ignoring invalid distribution -eaborn (/home/blessyantony/.local/lib/python3.8/site-packages)\u001b[0m\n",
      "\u001b[33mWARNING: Ignoring invalid distribution -eaborn (/home/blessyantony/.local/lib/python3.8/site-packages)\u001b[0m\n",
      "\u001b[33mWARNING: Ignoring invalid distribution -eaborn (/home/blessyantony/.local/lib/python3.8/site-packages)\u001b[0m\n",
      "Defaulting to user installation because normal site-packages is not writeable\n",
      "\u001b[33mWARNING: Ignoring invalid distribution -eaborn (/home/blessyantony/.local/lib/python3.8/site-packages)\u001b[0m\n",
      "\u001b[33mWARNING: Ignoring invalid distribution -eaborn (/home/blessyantony/.local/lib/python3.8/site-packages)\u001b[0m\n",
      "Looking in indexes: https://pypi.org/simple, https://pypi.ngc.nvidia.com\n",
      "Collecting seaborn==0.13\n",
      "  Downloading seaborn-0.13.0-py3-none-any.whl (294 kB)\n",
      "\u001b[K     |████████████████████████████████| 294 kB 8.0 MB/s eta 0:00:01\n",
      "\u001b[?25hRequirement already satisfied: matplotlib!=3.6.1,>=3.3 in /home/blessyantony/.local/lib/python3.8/site-packages (from seaborn==0.13) (3.5.3)\n",
      "Requirement already satisfied: numpy!=1.24.0,>=1.20 in /opt/conda/lib/python3.8/site-packages (from seaborn==0.13) (1.21.4)\n",
      "Requirement already satisfied: pandas>=1.2 in /opt/conda/lib/python3.8/site-packages (from seaborn==0.13) (1.3.4)\n",
      "Requirement already satisfied: kiwisolver>=1.0.1 in /opt/conda/lib/python3.8/site-packages (from matplotlib!=3.6.1,>=3.3->seaborn==0.13) (1.3.2)\n",
      "Requirement already satisfied: pyparsing>=2.2.1 in /opt/conda/lib/python3.8/site-packages (from matplotlib!=3.6.1,>=3.3->seaborn==0.13) (3.0.6)\n",
      "Requirement already satisfied: fonttools>=4.22.0 in /opt/conda/lib/python3.8/site-packages (from matplotlib!=3.6.1,>=3.3->seaborn==0.13) (4.28.2)\n",
      "Requirement already satisfied: cycler>=0.10 in /opt/conda/lib/python3.8/site-packages (from matplotlib!=3.6.1,>=3.3->seaborn==0.13) (0.11.0)\n",
      "Requirement already satisfied: packaging>=20.0 in /opt/conda/lib/python3.8/site-packages (from matplotlib!=3.6.1,>=3.3->seaborn==0.13) (21.3)\n",
      "Requirement already satisfied: pillow>=6.2.0 in /opt/conda/lib/python3.8/site-packages (from matplotlib!=3.6.1,>=3.3->seaborn==0.13) (8.2.0)\n",
      "Requirement already satisfied: python-dateutil>=2.7 in /opt/conda/lib/python3.8/site-packages (from matplotlib!=3.6.1,>=3.3->seaborn==0.13) (2.8.2)\n",
      "Requirement already satisfied: pytz>=2017.3 in /opt/conda/lib/python3.8/site-packages (from pandas>=1.2->seaborn==0.13) (2021.3)\n",
      "Requirement already satisfied: six>=1.5 in /opt/conda/lib/python3.8/site-packages (from python-dateutil>=2.7->matplotlib!=3.6.1,>=3.3->seaborn==0.13) (1.16.0)\n",
      "\u001b[33mWARNING: Ignoring invalid distribution -eaborn (/home/blessyantony/.local/lib/python3.8/site-packages)\u001b[0m\n",
      "Installing collected packages: seaborn\n",
      "  Attempting uninstall: seaborn\n",
      "\u001b[33m    WARNING: Ignoring invalid distribution -eaborn (/home/blessyantony/.local/lib/python3.8/site-packages)\u001b[0m\n",
      "    Found existing installation: seaborn 0.11.2\n",
      "    Uninstalling seaborn-0.11.2:\n",
      "      Successfully uninstalled seaborn-0.11.2\n",
      "\u001b[33mWARNING: Ignoring invalid distribution -eaborn (/home/blessyantony/.local/lib/python3.8/site-packages)\u001b[0m\n",
      "\u001b[31mERROR: pip's dependency resolver does not currently take into account all the packages that are installed. This behaviour is the source of the following dependency conflicts.\n",
      "statannotations 0.6.0 requires seaborn<0.12,>=0.9.0, but you have seaborn 0.13.0 which is incompatible.\u001b[0m\n",
      "Successfully installed seaborn-0.13.0\n",
      "\u001b[33mWARNING: Ignoring invalid distribution -eaborn (/home/blessyantony/.local/lib/python3.8/site-packages)\u001b[0m\n"
     ]
    },
    {
     "name": "stdout",
     "output_type": "stream",
     "text": [
      "\u001b[33mWARNING: Ignoring invalid distribution -eaborn (/home/blessyantony/.local/lib/python3.8/site-packages)\u001b[0m\n",
      "\u001b[33mWARNING: Ignoring invalid distribution -eaborn (/home/blessyantony/.local/lib/python3.8/site-packages)\u001b[0m\n"
     ]
    }
   ],
   "source": [
    "! pip install statannotations\n",
    "! pip install statsmodels\n",
    "! pip install seaborn==0.13\n"
   ]
  },
  {
   "cell_type": "code",
   "execution_count": 2,
   "id": "6cfca147",
   "metadata": {
    "scrolled": false
   },
   "outputs": [
    {
     "data": {
      "text/plain": [
       "['/home/blessyantony/dev/git/zoonosis/src/jupyter_notebooks/results-analysis/uniref90',\n",
       " '/opt/conda/lib/python38.zip',\n",
       " '/opt/conda/lib/python3.8',\n",
       " '/opt/conda/lib/python3.8/lib-dynload',\n",
       " '',\n",
       " '/home/blessyantony/.local/lib/python3.8/site-packages',\n",
       " '/opt/conda/lib/python3.8/site-packages',\n",
       " '/opt/conda/lib/python3.8/site-packages/IPython/extensions',\n",
       " '/home/blessyantony/.ipython',\n",
       " '/home/blessyantony/dev/git/zoonosis/src/jupyter_notebooks/results-analysis/uniref90/../../../../..',\n",
       " '/home/blessyantony/dev/git/zoonosis/src/jupyter_notebooks/results-analysis/uniref90/../../../..',\n",
       " '/home/blessyantony/dev/git/zoonosis/src/jupyter_notebooks/results-analysis/uniref90/../../..',\n",
       " '/home/blessyantony/dev/git/zoonosis/src/jupyter_notebooks/results-analysis/uniref90/../..']"
      ]
     },
     "execution_count": 2,
     "metadata": {},
     "output_type": "execute_result"
    }
   ],
   "source": [
    "import sys\n",
    "import os\n",
    "from scipy.stats import mannwhitneyu, wilcoxon, ranksums\n",
    "from statannotations.Annotator import Annotator\n",
    "sys.path.append(os.path.join(os.getcwd(), \"..\", \"..\", \"..\", \"..\", \"..\"))\n",
    "sys.path.append(os.path.join(os.getcwd(), \"..\", \"..\", \"..\", \"..\"))\n",
    "sys.path.append(os.path.join(os.getcwd(), \"..\", \"..\", \"..\"))\n",
    "sys.path.append(os.path.join(os.getcwd(), \"..\", \"..\"))\n",
    "sys.path"
   ]
  },
  {
   "cell_type": "code",
   "execution_count": 3,
   "id": "22cbf7ce",
   "metadata": {
    "scrolled": true
   },
   "outputs": [],
   "source": [
    "import pandas as pd\n",
    "import os\n",
    "import numpy as np\n",
    "import seaborn as sns\n",
    "import matplotlib.pyplot as plt\n",
    "from pathlib import Path\n",
    "from scipy.stats import mannwhitneyu\n",
    "from src.utils import visualization_utils\n",
    "from statannotations.Annotator import Annotator"
   ]
  },
  {
   "cell_type": "code",
   "execution_count": 4,
   "id": "3f26658d",
   "metadata": {},
   "outputs": [
    {
     "data": {
      "text/plain": [
       "'0.13.0'"
      ]
     },
     "execution_count": 4,
     "metadata": {},
     "output_type": "execute_result"
    }
   ],
   "source": [
    "sns.__version__"
   ]
  },
  {
   "cell_type": "code",
   "execution_count": 5,
   "id": "cb6c3cc1",
   "metadata": {
    "scrolled": true
   },
   "outputs": [],
   "source": [
    "itr_col = \"itr\"\n",
    "experiment_col = \"experiment\"\n",
    "y_true_col = \"y_true\"\n",
    "human_col = \"Human\"\n",
    "plt.rcParams['xtick.labelsize'] = 20\n",
    "plt.rcParams['ytick.labelsize'] = 20\n",
    "plt.rcParams['figure.autolayout'] = True\n",
    "\n",
    "DEFAULT_FIGURE_CONFIG = {\n",
    "    \"figsize\": (8, 8),\n",
    "    \"xtick.labelsize\": 18,\n",
    "    \"ytick.labelsize\": 18    \n",
    "}\n",
    "\n",
    "\n"
   ]
  },
  {
   "cell_type": "code",
   "execution_count": 6,
   "id": "e1e184b3",
   "metadata": {
    "scrolled": true
   },
   "outputs": [
    {
     "data": {
      "text/html": [
       "<div>\n",
       "<style scoped>\n",
       "    .dataframe tbody tr th:only-of-type {\n",
       "        vertical-align: middle;\n",
       "    }\n",
       "\n",
       "    .dataframe tbody tr th {\n",
       "        vertical-align: top;\n",
       "    }\n",
       "\n",
       "    .dataframe thead th {\n",
       "        text-align: right;\n",
       "    }\n",
       "</style>\n",
       "<table border=\"1\" class=\"dataframe\">\n",
       "  <thead>\n",
       "    <tr style=\"text-align: right;\">\n",
       "      <th></th>\n",
       "      <th>itr</th>\n",
       "      <th>experiment</th>\n",
       "      <th>auroc</th>\n",
       "      <th>auprc</th>\n",
       "    </tr>\n",
       "  </thead>\n",
       "  <tbody>\n",
       "    <tr>\n",
       "      <th>0</th>\n",
       "      <td>0</td>\n",
       "      <td>Transformer-Encoder</td>\n",
       "      <td>0.917399</td>\n",
       "      <td>0.547354</td>\n",
       "    </tr>\n",
       "    <tr>\n",
       "      <th>1</th>\n",
       "      <td>1</td>\n",
       "      <td>Transformer-Encoder</td>\n",
       "      <td>0.909167</td>\n",
       "      <td>0.544246</td>\n",
       "    </tr>\n",
       "    <tr>\n",
       "      <th>2</th>\n",
       "      <td>2</td>\n",
       "      <td>Transformer-Encoder</td>\n",
       "      <td>0.907070</td>\n",
       "      <td>0.597408</td>\n",
       "    </tr>\n",
       "    <tr>\n",
       "      <th>3</th>\n",
       "      <td>3</td>\n",
       "      <td>Transformer-Encoder</td>\n",
       "      <td>0.933763</td>\n",
       "      <td>0.554101</td>\n",
       "    </tr>\n",
       "    <tr>\n",
       "      <th>4</th>\n",
       "      <td>4</td>\n",
       "      <td>Transformer-Encoder</td>\n",
       "      <td>0.934867</td>\n",
       "      <td>0.553689</td>\n",
       "    </tr>\n",
       "    <tr>\n",
       "      <th>5</th>\n",
       "      <td>0</td>\n",
       "      <td>Pretrained Transformer-Encoder MSL2048</td>\n",
       "      <td>0.897357</td>\n",
       "      <td>0.587656</td>\n",
       "    </tr>\n",
       "    <tr>\n",
       "      <th>6</th>\n",
       "      <td>1</td>\n",
       "      <td>Pretrained Transformer-Encoder MSL2048</td>\n",
       "      <td>0.888508</td>\n",
       "      <td>0.575310</td>\n",
       "    </tr>\n",
       "    <tr>\n",
       "      <th>7</th>\n",
       "      <td>2</td>\n",
       "      <td>Pretrained Transformer-Encoder MSL2048</td>\n",
       "      <td>0.874091</td>\n",
       "      <td>0.593222</td>\n",
       "    </tr>\n",
       "    <tr>\n",
       "      <th>8</th>\n",
       "      <td>3</td>\n",
       "      <td>Pretrained Transformer-Encoder MSL2048</td>\n",
       "      <td>0.870974</td>\n",
       "      <td>0.551474</td>\n",
       "    </tr>\n",
       "    <tr>\n",
       "      <th>9</th>\n",
       "      <td>4</td>\n",
       "      <td>Pretrained Transformer-Encoder MSL2048</td>\n",
       "      <td>0.881904</td>\n",
       "      <td>0.642501</td>\n",
       "    </tr>\n",
       "    <tr>\n",
       "      <th>10</th>\n",
       "      <td>0</td>\n",
       "      <td>Pretrained Transformer-Encoder SL256</td>\n",
       "      <td>0.770054</td>\n",
       "      <td>0.389604</td>\n",
       "    </tr>\n",
       "    <tr>\n",
       "      <th>11</th>\n",
       "      <td>1</td>\n",
       "      <td>Pretrained Transformer-Encoder SL256</td>\n",
       "      <td>0.863118</td>\n",
       "      <td>0.553568</td>\n",
       "    </tr>\n",
       "    <tr>\n",
       "      <th>12</th>\n",
       "      <td>2</td>\n",
       "      <td>Pretrained Transformer-Encoder SL256</td>\n",
       "      <td>0.885565</td>\n",
       "      <td>0.524365</td>\n",
       "    </tr>\n",
       "    <tr>\n",
       "      <th>13</th>\n",
       "      <td>3</td>\n",
       "      <td>Pretrained Transformer-Encoder SL256</td>\n",
       "      <td>0.886042</td>\n",
       "      <td>0.535141</td>\n",
       "    </tr>\n",
       "    <tr>\n",
       "      <th>14</th>\n",
       "      <td>4</td>\n",
       "      <td>Pretrained Transformer-Encoder SL256</td>\n",
       "      <td>0.869014</td>\n",
       "      <td>0.567173</td>\n",
       "    </tr>\n",
       "    <tr>\n",
       "      <th>15</th>\n",
       "      <td>0</td>\n",
       "      <td>VirProBERT</td>\n",
       "      <td>0.926573</td>\n",
       "      <td>0.639349</td>\n",
       "    </tr>\n",
       "    <tr>\n",
       "      <th>16</th>\n",
       "      <td>1</td>\n",
       "      <td>VirProBERT</td>\n",
       "      <td>0.914515</td>\n",
       "      <td>0.672554</td>\n",
       "    </tr>\n",
       "    <tr>\n",
       "      <th>17</th>\n",
       "      <td>2</td>\n",
       "      <td>VirProBERT</td>\n",
       "      <td>0.913217</td>\n",
       "      <td>0.703604</td>\n",
       "    </tr>\n",
       "    <tr>\n",
       "      <th>18</th>\n",
       "      <td>3</td>\n",
       "      <td>VirProBERT</td>\n",
       "      <td>0.924245</td>\n",
       "      <td>0.688975</td>\n",
       "    </tr>\n",
       "    <tr>\n",
       "      <th>19</th>\n",
       "      <td>4</td>\n",
       "      <td>VirProBERT</td>\n",
       "      <td>0.910203</td>\n",
       "      <td>0.674083</td>\n",
       "    </tr>\n",
       "  </tbody>\n",
       "</table>\n",
       "</div>"
      ],
      "text/plain": [
       "    itr                              experiment     auroc     auprc\n",
       "0     0                     Transformer-Encoder  0.917399  0.547354\n",
       "1     1                     Transformer-Encoder  0.909167  0.544246\n",
       "2     2                     Transformer-Encoder  0.907070  0.597408\n",
       "3     3                     Transformer-Encoder  0.933763  0.554101\n",
       "4     4                     Transformer-Encoder  0.934867  0.553689\n",
       "5     0  Pretrained Transformer-Encoder MSL2048  0.897357  0.587656\n",
       "6     1  Pretrained Transformer-Encoder MSL2048  0.888508  0.575310\n",
       "7     2  Pretrained Transformer-Encoder MSL2048  0.874091  0.593222\n",
       "8     3  Pretrained Transformer-Encoder MSL2048  0.870974  0.551474\n",
       "9     4  Pretrained Transformer-Encoder MSL2048  0.881904  0.642501\n",
       "10    0    Pretrained Transformer-Encoder SL256  0.770054  0.389604\n",
       "11    1    Pretrained Transformer-Encoder SL256  0.863118  0.553568\n",
       "12    2    Pretrained Transformer-Encoder SL256  0.885565  0.524365\n",
       "13    3    Pretrained Transformer-Encoder SL256  0.886042  0.535141\n",
       "14    4    Pretrained Transformer-Encoder SL256  0.869014  0.567173\n",
       "15    0                              VirProBERT  0.926573  0.639349\n",
       "16    1                              VirProBERT  0.914515  0.672554\n",
       "17    2                              VirProBERT  0.913217  0.703604\n",
       "18    3                              VirProBERT  0.924245  0.688975\n",
       "19    4                              VirProBERT  0.910203  0.674083"
      ]
     },
     "execution_count": 6,
     "metadata": {},
     "output_type": "execute_result"
    }
   ],
   "source": [
    "# df = pd.read_csv(os.path.join(os.getcwd(), \"..\", \"..\", \"..\", \"..\", \"..\", \"output/evaluation/uniref90/20240517/host_multi_all_models/host_multi_all_models_evaluation_metrics.csv\"))\n",
    "# df = pd.read_csv(os.path.join(os.getcwd(), \"..\", \"..\", \"..\", \"..\", \"..\", \"output/evaluation/uniref90/20240611/host_multi_all_models/host_multi_all_models-msl2048_evaluation_metrics.csv\"))\n",
    "df = pd.read_csv(os.path.join(os.getcwd(), \"..\",  \"..\", \"..\", \"..\", \"output/evaluation/uniref90/20241103/host_multi/host_multi_ablation_study_evaluation_metrics.csv\"))\n",
    "df.drop(columns=\"Unnamed: 0\", inplace=True)\n",
    "df"
   ]
  },
  {
   "cell_type": "code",
   "execution_count": 25,
   "id": "fd4defa6",
   "metadata": {},
   "outputs": [
    {
     "data": {
      "text/plain": [
       "array(['Transformer-Encoder', 'Pretrained Transformer-Encoder MSL2048',\n",
       "       'Pretrained Transformer-Encoder SL256', 'VirProBERT'], dtype=object)"
      ]
     },
     "execution_count": 25,
     "metadata": {},
     "output_type": "execute_result"
    }
   ],
   "source": [
    "df[\"experiment\"].unique()"
   ]
  },
  {
   "cell_type": "code",
   "execution_count": 26,
   "id": "46c4f017",
   "metadata": {},
   "outputs": [
    {
     "data": {
      "text/plain": [
       "array(['TF Encoder', 'TF Encoder\\n+\\nPretraining',\n",
       "       'TF Encoder\\n+\\nPretraining\\n+\\nSegmentation', 'VirProBERT'],\n",
       "      dtype=object)"
      ]
     },
     "execution_count": 26,
     "metadata": {},
     "output_type": "execute_result"
    }
   ],
   "source": [
    "sub_df = df\n",
    "sub_df = sub_df.replace({\"experiment\": \n",
    "                         {\"Transformer-Encoder\": \"TF Encoder\", \n",
    "                          \"Pretrained Transformer-Encoder MSL2048\": \"TF Encoder\\n+\\nPretraining\", \n",
    "                          \"Pretrained Transformer-Encoder SL256\": \"TF Encoder\\n+\\nPretraining\\n+\\nSegmentation\",\n",
    "                          \"VirProBERT\": \"VirProBERT\"}})\n",
    "sub_df[\"experiment\"].unique()\n"
   ]
  },
  {
   "cell_type": "code",
   "execution_count": 35,
   "id": "449abfaf",
   "metadata": {},
   "outputs": [],
   "source": [
    "experiments = [\"TF Encoder\", \"TF Encoder\\n+\\nPretraining\", \"TF Encoder\\n+\\nPretraining\\n+\\nSegmentation\", \"VirProBERT\"]\n",
    "pairs = [(\"VirProBERT\", \"TF Encoder\\n+\\nPretraining\\n+\\nSegmentation\"),\n",
    "         (\"VirProBERT\", \"TF Encoder\\n+\\nPretraining\"),\n",
    "         (\"VirProBERT\", \"TF Encoder\")]\n",
    "\n",
    "def get_p_value_annotation(p_value):\n",
    "    if p_value > 5e-2 and p_value <= 1:\n",
    "        return \"ns\"\n",
    "    elif p_value > 1e-2 and p_value <= 5e-2:\n",
    "        return \"*\"\n",
    "    elif p_value > 1e-3 and p_value <= 1e-2:\n",
    "        return \"**\"\n",
    "    elif p_value > 1e-4 and p_value <= 1e-3:\n",
    "        return \"***\"\n",
    "    elif p_value <= 1e-4:\n",
    "        return \"****\"\n",
    "    else:\n",
    "        return None\n",
    "    \n",
    "def plot_boxplot_w_stat_custom_annotation(df, metric, pairs, location, ylim):\n",
    "    DEFAULT_FIGURE_CONFIG = {\n",
    "        \"figsize\": (10, 8),\n",
    "        \"xtick.labelsize\": 18,\n",
    "        \"ytick.labelsize\": 18\n",
    "    }\n",
    "    plotting_parameters = {\n",
    "        'data':    df,\n",
    "        'x':       'experiment',\n",
    "        'y':       metric,\n",
    "        \"linewidth\": 2.5,\n",
    "        #\"edgecolor\": \"black\",\n",
    "        #\"linecolor\": \"black\",\n",
    "#         \"boxprops\": {\"edgecolor\": \"black\"},\n",
    "#         \"whiskerprops\": {\"color\": \"black\"},\n",
    "#         \"flierprops\": {\"color\": \"black\"},\n",
    "#         \"fliersize\": 7.0,\n",
    "#         \"medianprops\": {\"linewidth\": 2.5},\n",
    "        'palette': sns.color_palette(\"magma\", n_colors=len(experiments)),\n",
    "        #\"notch\": True,\n",
    "        \"fill\": False\n",
    "    }\n",
    "    \n",
    "    visualization_utils.pre_plot_config(DEFAULT_FIGURE_CONFIG)\n",
    "    ax = sns.boxplot(**plotting_parameters)\n",
    "    sns.stripplot(data=df, x=\"experiment\", y=metric, ax=ax, color=\"black\", size=8, alpha=.5)\n",
    "    ax.set_xlabel(\"\", size=18, labelpad=5)\n",
    "    ax.set_ylabel(metric.upper(), size=18)\n",
    "    plt.draw()\n",
    "    #visualization_utils.wrap_ticklabels(ax, axis=\"x\", label_width=11, break_long_words=True)\n",
    "    ax.set_ylim(*ylim)\n",
    "    \n",
    "    #plt.tight_layout()\n",
    "    \n",
    "    for i, pair in enumerate(pairs):\n",
    "        model_1_values = df[df[\"experiment\"] == pair[0]][metric].values\n",
    "        model_2_values = df[df[\"experiment\"] == pair[1]][metric].values\n",
    "        p_value = mannwhitneyu(model_1_values, model_2_values, alternative=\"greater\").pvalue\n",
    "        formatted_pvalue = f\"p={p_value:.2e}\"\n",
    "        print(f\"{pair}: p-value={formatted_pvalue}\")\n",
    "        \n",
    "        x_ticks = [t.get_text()  for t in ax.get_xticklabels()]\n",
    "        print(x_ticks)\n",
    "        x1 = experiments.index(pair[0])\n",
    "        x2 = experiments.index(pair[1])\n",
    "        y1 = max(df[df[\"experiment\"] == pair[0]][metric].max(), \n",
    "                 df[df[\"experiment\"] == pair[1]][metric].max()) + (0.05 * (i + 1))\n",
    "        y2 = y1 + .01\n",
    "        \n",
    "        plt.plot([x1, x1, x2, x2], [y1, y2, y2, y1], lw=1.5, c=\"k\")\n",
    "        plt.text((x1 + x2)*.5, y1, get_p_value_annotation(p_value), ha='center', va='bottom', color=\"k\", size=\"22\")\n",
    "    plt.savefig(os.path.join(os.getcwd(), \"..\", \"..\", \"..\", \"..\", f\"output/visualization/temp_new/host_multi_ablation_study_{metric}_boxplot_stat.pdf\"), bbox_inches=\"tight\")"
   ]
  },
  {
   "cell_type": "code",
   "execution_count": 36,
   "id": "b7466442",
   "metadata": {
    "scrolled": false
   },
   "outputs": [
    {
     "name": "stderr",
     "output_type": "stream",
     "text": [
      "/tmp/ipykernel_1344720/3063218439.py:44: FutureWarning: \n",
      "\n",
      "Passing `palette` without assigning `hue` is deprecated and will be removed in v0.14.0. Assign the `x` variable to `hue` and set `legend=False` for the same effect.\n",
      "\n",
      "  ax = sns.boxplot(**plotting_parameters)\n"
     ]
    },
    {
     "name": "stdout",
     "output_type": "stream",
     "text": [
      "('VirProBERT', 'TF Encoder\\n+\\nPretraining\\n+\\nSegmentation'): p-value=p=6.09e-03\n",
      "['TF Encoder', 'TF Encoder\\n+\\nPretraining', 'TF Encoder\\n+\\nPretraining\\n+\\nSegmentation', 'VirProBERT']\n",
      "('VirProBERT', 'TF Encoder\\n+\\nPretraining'): p-value=p=1.08e-02\n",
      "['TF Encoder', 'TF Encoder\\n+\\nPretraining', 'TF Encoder\\n+\\nPretraining\\n+\\nSegmentation', 'VirProBERT']\n",
      "('VirProBERT', 'TF Encoder'): p-value=p=6.09e-03\n",
      "['TF Encoder', 'TF Encoder\\n+\\nPretraining', 'TF Encoder\\n+\\nPretraining\\n+\\nSegmentation', 'VirProBERT']\n"
     ]
    },
    {
     "data": {
      "text/plain": [
       "<Figure size 432x288 with 0 Axes>"
      ]
     },
     "metadata": {},
     "output_type": "display_data"
    },
    {
     "data": {
      "image/png": "[encoded data removed]",
      "text/plain": [
       "<Figure size 720x576 with 1 Axes>"
      ]
     },
     "metadata": {},
     "output_type": "display_data"
    }
   ],
   "source": [
    "plot_boxplot_w_stat_custom_annotation(sub_df, \"auprc\", pairs, location=\"inside\", ylim=(0, 1))"
   ]
  },
  {
   "cell_type": "code",
   "execution_count": null,
   "id": "b8bac573",
   "metadata": {},
   "outputs": [],
   "source": []
  },
  {
   "cell_type": "code",
   "execution_count": null,
   "id": "e027d6f2",
   "metadata": {},
   "outputs": [],
   "source": []
  }
 ],
 "metadata": {
  "kernelspec": {
   "display_name": "Python 3 (ipykernel)",
   "language": "python",
   "name": "python3"
  },
  "language_info": {
   "codemirror_mode": {
    "name": "ipython",
    "version": 3
   },
   "file_extension": ".py",
   "mimetype": "text/x-python",
   "name": "python",
   "nbconvert_exporter": "python",
   "pygments_lexer": "ipython3",
   "version": "3.8.12"
  }
 },
 "nbformat": 4,
 "nbformat_minor": 5
}
