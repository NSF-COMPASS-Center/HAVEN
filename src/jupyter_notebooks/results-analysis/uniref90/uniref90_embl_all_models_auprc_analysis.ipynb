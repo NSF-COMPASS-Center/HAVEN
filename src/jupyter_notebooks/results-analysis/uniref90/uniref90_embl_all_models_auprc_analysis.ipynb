{
 "cells": [
  {
   "cell_type": "markdown",
   "id": "5e2ecf0f",
   "metadata": {},
   "source": [
    "## Results of Host Prediction\n",
    "### Dataset: EMBL mapping, Vertebrates, Non-IDV\n",
    "\n",
    "**Models**: FNN, CNN, RNN, LSTM, TF\n",
    "\n",
    "**Positional Embedding**: Sin-Cos\n",
    "\n",
    "**Maximum Sequence Length**: 1036\n",
    "\n",
    "**Classification**: Multi-class\n",
    "\n",
    "**\\# classes**: 5\n",
    "\n",
    "**\\# train samples** = \n",
    "\n",
    "**\\# validation samples** = \n",
    "\n",
    "**\\# test samples** = "
   ]
  },
  {
   "cell_type": "code",
   "execution_count": 1,
   "id": "8349fb54",
   "metadata": {},
   "outputs": [],
   "source": [
    "import seaborn"
   ]
  },
  {
   "cell_type": "code",
   "execution_count": 2,
   "id": "48749e31",
   "metadata": {},
   "outputs": [
    {
     "data": {
      "text/plain": [
       "'0.13.0'"
      ]
     },
     "execution_count": 2,
     "metadata": {},
     "output_type": "execute_result"
    }
   ],
   "source": [
    "seaborn.__version__"
   ]
  },
  {
   "cell_type": "code",
   "execution_count": 3,
   "id": "6cfca147",
   "metadata": {
    "scrolled": false
   },
   "outputs": [
    {
     "data": {
      "text/plain": [
       "['/home/blessyantony/dev/git/zoonosis/src/jupyter_notebooks/results-analysis/uniref90',\n",
       " '/opt/conda/lib/python38.zip',\n",
       " '/opt/conda/lib/python3.8',\n",
       " '/opt/conda/lib/python3.8/lib-dynload',\n",
       " '',\n",
       " '/home/blessyantony/.local/lib/python3.8/site-packages',\n",
       " '/opt/conda/lib/python3.8/site-packages',\n",
       " '/opt/conda/lib/python3.8/site-packages/IPython/extensions',\n",
       " '/home/blessyantony/.ipython',\n",
       " '/home/blessyantony/dev/git/zoonosis/src/jupyter_notebooks/results-analysis/uniref90/../../../../..',\n",
       " '/home/blessyantony/dev/git/zoonosis/src/jupyter_notebooks/results-analysis/uniref90/../../../..',\n",
       " '/home/blessyantony/dev/git/zoonosis/src/jupyter_notebooks/results-analysis/uniref90/../../..',\n",
       " '/home/blessyantony/dev/git/zoonosis/src/jupyter_notebooks/results-analysis/uniref90/../..']"
      ]
     },
     "execution_count": 3,
     "metadata": {},
     "output_type": "execute_result"
    }
   ],
   "source": [
    "import sys\n",
    "import os\n",
    "from pathlib import Path\n",
    "sys.path.append(os.path.join(os.getcwd(), \"..\", \"..\", \"..\", \"..\", \"..\"))\n",
    "sys.path.append(os.path.join(os.getcwd(), \"..\", \"..\", \"..\", \"..\"))\n",
    "sys.path.append(os.path.join(os.getcwd(), \"..\", \"..\", \"..\"))\n",
    "sys.path.append(os.path.join(os.getcwd(), \"..\", \"..\"))\n",
    "sys.path"
   ]
  },
  {
   "cell_type": "code",
   "execution_count": 4,
   "id": "22cbf7ce",
   "metadata": {
    "scrolled": true
   },
   "outputs": [],
   "source": [
    "import pandas as pd\n",
    "import os\n",
    "import numpy as np\n",
    "import seaborn as sns\n",
    "import matplotlib.pyplot as plt\n",
    "from pathlib import Path\n",
    "\n",
    "from src.utils import utils, evaluation_utils, visualization_utils"
   ]
  },
  {
   "cell_type": "code",
   "execution_count": 5,
   "id": "e1e184b3",
   "metadata": {
    "scrolled": true
   },
   "outputs": [],
   "source": [
    "itr_col = \"itr\"\n",
    "experiment_col = \"experiment\"\n",
    "y_true_col = \"y_true\"\n",
    "\n",
    "def class_wise_auprc_analysis(output_filepaths, classes, figure_output_filepath):\n",
    "    auprc_results = []\n",
    "    for model, output_filepath in output_filepaths.items():\n",
    "        df = pd.read_csv(output_filepath, index_col=0)\n",
    "        print(f\"Read output {model} = {df.shape}\")\n",
    "        \n",
    "        cols = df.columns\n",
    "        classes = list(set(cols) - set([itr_col, experiment_col, y_true_col]))\n",
    "        itrs = df[itr_col].unique()\n",
    "    \n",
    "        for itr in itrs:\n",
    "            df_itr = df[df[itr_col] == itr]\n",
    "            _, auprcs_df = evaluation_utils.compute_class_auprc(df_itr, y_pred_columns=classes, y_true_col=y_true_col)\n",
    "            auprcs_df[\"model\"] = model\n",
    "            auprcs_df[\"itr\"] = itr\n",
    "            auprc_results.append(auprcs_df)\n",
    "    metadata = utils.compute_class_distribution(df_itr, y_true_col, format=False)\n",
    "    metadata_formatted = utils.compute_class_distribution(df_itr, y_true_col, format=True)\n",
    "    metadata_sorted = {}\n",
    "    for k, v in metadata.items():\n",
    "        metadata_sorted[metadata_formatted[k]] = v\n",
    "\n",
    "    auprc_results_df = pd.concat(auprc_results, ignore_index=True)\n",
    "    auprc_results_df.replace({\"class\":metadata_formatted}, inplace=True)\n",
    "    \n",
    "    FIGURE_CONFIG = {\n",
    "        \"figsize\": (16, 10),\n",
    "        \"xtick.labelsize\": 20,\n",
    "        \"ytick.labelsize\": 20    \n",
    "    }\n",
    "\n",
    "    visualization_utils.pre_plot_config(FIGURE_CONFIG)\n",
    "    ax = sns.boxplot(data=auprc_results_df, x=\"class\", y=\"auprc\", hue=\"model\", \n",
    "                     order=metadata_sorted, linewidth=2.5, fliersize=5,\n",
    "                     palette=\"colorblind\")\n",
    "    plt.draw()\n",
    "    \n",
    "    ax.set_ylim(0, 1)\n",
    "    ax.set_ylabel(\"AUPRC\", size=22)\n",
    "    ax.set_xlabel(\"\", size=22, labelpad=2)\n",
    "    sns.move_legend(ax, \"lower center\", bbox_to_anchor=(.5, 1), ncol=4, title=None, frameon=False)\n",
    "    plt.setp(ax.get_legend().get_texts(), fontsize=20)\n",
    "    visualization_utils.wrap_ticklabels(ax, axis=\"x\")\n",
    "    visualization_utils.view(figure_output_filepath)\n",
    "    print(figure_output_filepath)\n",
    "    plt.show()\n",
    "    return auprc_results_df"
   ]
  },
  {
   "cell_type": "code",
   "execution_count": 6,
   "id": "cab9bb8f",
   "metadata": {},
   "outputs": [],
   "source": [
    "output_filepaths = {\n",
    "    \"LR\": os.path.join(os.getcwd(), \"..\",\"..\", \"..\", \"..\",\"output/raw/uniref90_embl_vertebrates_non_idv_t0.01_c5_seq_len_in_99.9percentile/20240723/host_multi/kmer_k3_virus_host_name_multi__lr_output.csv\"),\n",
    "    \"RF\": os.path.join(os.getcwd(), \"..\",\"..\", \"..\", \"..\", \"output/raw/uniref90_embl_vertebrates_non_idv_t0.01_c5_seq_len_in_99.9percentile/20240723/host_multi/kmer_k3_virus_host_name_multi__rf_output.csv\"),\n",
    "    \"SVM\": os.path.join(os.getcwd(), \"..\",\"..\", \"..\", \"..\", \"output/raw/uniref90_embl_vertebrates_non_idv_t0.01_c5_seq_len_in_99.9percentile/20240723/host_multi/kmer_k3_virus_host_name_multi__svm_output.csv\"),\n",
    "    #\"FNN\": os.path.join(os.getcwd(), \"..\", \"..\", \"..\", \"..\", \"output/raw/uniref90_embl_vertebrates_non_idv_t0.01_c5_seq_len_in_99.9percentile/20240717/host_multi/nlp_no_msl_fnn-l_10-d_1024-lr1e-3_output.csv\"),\n",
    "    \"CNN\": os.path.join(os.getcwd(), \"..\", \"..\", \"..\", \"..\", \"output/raw/uniref90_embl_vertebrates_non_idv_t0.01_c5_seq_len_in_99.9percentile/20240717/host_multi/nlp_no_msl_cnn-l_4-d_1024-k3s1-lr1e-3_output.csv\"),\n",
    "    \"RNN\": os.path.join(os.getcwd(), \"..\", \"..\", \"..\", \"..\", \"output/raw/uniref90_embl_vertebrates_non_idv_t0.01_c5_seq_len_in_99.9percentile/20240717/host_multi/nlp_no_msl_rnn-l_6-d_1024-lr1e-5_output.csv\"),\n",
    "    \"LSTM\": os.path.join(os.getcwd(), \"..\", \"..\", \"..\", \"..\", \"output/raw/uniref90_embl_vertebrates_non_idv_t0.01_c5_seq_len_in_99.9percentile/20240722/host_multi/nlp_no_msl_lstm-l_2-d_1024-lr1e-3_output_mod.csv\"),\n",
    "    \"ProstT5\": os.path.join(os.getcwd(), \"..\", \"..\", \"..\", \"..\", \"output/raw/uniref90_embl_vertebrates_non_idv/20241031/host_multi/uniref90viridae_prostt5_msl2048_bn_fnn_2l_d1024_lr1e-4_output.csv\"),\n",
    "    #\"Transformer-Encoder\": os.path.join(os.getcwd(), \"..\",\"..\", \"..\", \"..\", \"output/raw/uniref90_embl_vertebrates_non_idv_t0.01_c5_seq_len_in_99.9percentile/20240717/host_multi/nlp_no_msl_transformer-l_6-h_8-d_1024-msl2048-lr1e-4_output.csv\"),\n",
    "    #\"ProteinBERT\": os.path.join(os.getcwd(), \"..\",\"..\", \"..\", \"..\", \"output/raw/uniref90_embl_vertebrates_non_idv_t0.01_c5_seq_len_in_99.9percentile/20240827/proteinbert_prediction_results_20240827_231839.csv\"),\n",
    "    \"VirProBERT\": os.path.join(os.getcwd(), \"..\",\"..\", \"..\", \"..\", \"output/raw/uniref90_embl_vertebrates_non_idv_t0.01_c5_seq_len_in_99.9percentile/20240826/host_multi/fine_tuning_hybrid_cls/mlm_tfenc_l6_h8_lr1e-4_uniref90viridae_hybrid_attention_msl256s64ae_bn_fnn_2l_d1024_lr1e-4_output.csv\")\n",
    "    \n",
    "}\n",
    "classes = [\"Human\", \"Capybara\", \"Himalayan marmot\", \"Pig\", \"Red junglefowl\"]"
   ]
  },
  {
   "cell_type": "code",
   "execution_count": 7,
   "id": "0b4586fb",
   "metadata": {
    "scrolled": false
   },
   "outputs": [
    {
     "name": "stdout",
     "output_type": "stream",
     "text": [
      "Read output LR = (31690, 7)\n",
      "Read output RF = (31690, 7)\n",
      "Read output SVM = (31690, 7)\n",
      "Read output CNN = (15845, 7)\n",
      "Read output RNN = (15845, 7)\n",
      "Read output LSTM = (15845, 7)\n",
      "Read output ProstT5 = (15845, 7)\n",
      "Read output VirProBERT = (15845, 7)\n"
     ]
    },
    {
     "name": "stderr",
     "output_type": "stream",
     "text": [
      "/home/blessyantony/dev/git/zoonosis/src/jupyter_notebooks/results-analysis/uniref90/../../../../src/utils/visualization_utils.py:119: UserWarning: FixedFormatter should only be used together with FixedLocator\n",
      "  ax.set_xticklabels(wrapped_labels, rotation=0)\n"
     ]
    },
    {
     "name": "stdout",
     "output_type": "stream",
     "text": [
      "/home/blessyantony/dev/git/zoonosis/src/jupyter_notebooks/results-analysis/uniref90/../../../../output/visualization/temp_new/host_multi_all_models_classwise_aurpc_boxplot.pdf\n"
     ]
    },
    {
     "data": {
      "text/plain": [
       "<Figure size 432x288 with 0 Axes>"
      ]
     },
     "metadata": {},
     "output_type": "display_data"
    },
    {
     "data": {
      "image/png": "[encoded data removed]",
      "text/plain": [
       "<Figure size 1152x720 with 1 Axes>"
      ]
     },
     "metadata": {
      "needs_background": "light"
     },
     "output_type": "display_data"
    }
   ],
   "source": [
    "figure_output_filepath = os.path.join(os.getcwd(), \"..\",\"..\", \"..\", \"..\", \"output/visualization/temp_new/host_multi_all_models_classwise_aurpc_boxplot.pdf\")\n",
    "Path(os.path.dirname(figure_output_filepath)).mkdir(parents=True, exist_ok=True)\n",
    "auprc_results_df = class_wise_auprc_analysis(output_filepaths, classes, figure_output_filepath)"
   ]
  },
  {
   "cell_type": "code",
   "execution_count": 8,
   "id": "fb355b89",
   "metadata": {},
   "outputs": [
    {
     "data": {
      "text/html": [
       "<div>\n",
       "<style scoped>\n",
       "    .dataframe tbody tr th:only-of-type {\n",
       "        vertical-align: middle;\n",
       "    }\n",
       "\n",
       "    .dataframe tbody tr th {\n",
       "        vertical-align: top;\n",
       "    }\n",
       "\n",
       "    .dataframe thead th {\n",
       "        text-align: right;\n",
       "    }\n",
       "</style>\n",
       "<table border=\"1\" class=\"dataframe\">\n",
       "  <thead>\n",
       "    <tr style=\"text-align: right;\">\n",
       "      <th></th>\n",
       "      <th></th>\n",
       "      <th>auprc</th>\n",
       "    </tr>\n",
       "    <tr>\n",
       "      <th>model</th>\n",
       "      <th>class</th>\n",
       "      <th></th>\n",
       "    </tr>\n",
       "  </thead>\n",
       "  <tbody>\n",
       "    <tr>\n",
       "      <th rowspan=\"5\" valign=\"top\">CNN</th>\n",
       "      <th>Capybara (1.96%)</th>\n",
       "      <td>0.310939</td>\n",
       "    </tr>\n",
       "    <tr>\n",
       "      <th>Himalayan marmot (1.70%)</th>\n",
       "      <td>0.710000</td>\n",
       "    </tr>\n",
       "    <tr>\n",
       "      <th>Human (90.79%)</th>\n",
       "      <td>0.989391</td>\n",
       "    </tr>\n",
       "    <tr>\n",
       "      <th>Pig (4.04%)</th>\n",
       "      <td>0.265663</td>\n",
       "    </tr>\n",
       "    <tr>\n",
       "      <th>Red junglefowl (1.51%)</th>\n",
       "      <td>0.082012</td>\n",
       "    </tr>\n",
       "    <tr>\n",
       "      <th rowspan=\"5\" valign=\"top\">LR</th>\n",
       "      <th>Capybara (1.96%)</th>\n",
       "      <td>0.189589</td>\n",
       "    </tr>\n",
       "    <tr>\n",
       "      <th>Himalayan marmot (1.70%)</th>\n",
       "      <td>0.503898</td>\n",
       "    </tr>\n",
       "    <tr>\n",
       "      <th>Human (90.79%)</th>\n",
       "      <td>0.991283</td>\n",
       "    </tr>\n",
       "    <tr>\n",
       "      <th>Pig (4.04%)</th>\n",
       "      <td>0.402781</td>\n",
       "    </tr>\n",
       "    <tr>\n",
       "      <th>Red junglefowl (1.51%)</th>\n",
       "      <td>0.117548</td>\n",
       "    </tr>\n",
       "    <tr>\n",
       "      <th rowspan=\"5\" valign=\"top\">LSTM</th>\n",
       "      <th>Capybara (1.96%)</th>\n",
       "      <td>0.396868</td>\n",
       "    </tr>\n",
       "    <tr>\n",
       "      <th>Himalayan marmot (1.70%)</th>\n",
       "      <td>0.830207</td>\n",
       "    </tr>\n",
       "    <tr>\n",
       "      <th>Human (90.79%)</th>\n",
       "      <td>0.990792</td>\n",
       "    </tr>\n",
       "    <tr>\n",
       "      <th>Pig (4.04%)</th>\n",
       "      <td>0.287136</td>\n",
       "    </tr>\n",
       "    <tr>\n",
       "      <th>Red junglefowl (1.51%)</th>\n",
       "      <td>0.089193</td>\n",
       "    </tr>\n",
       "    <tr>\n",
       "      <th rowspan=\"5\" valign=\"top\">ProstT5</th>\n",
       "      <th>Capybara (1.96%)</th>\n",
       "      <td>0.424016</td>\n",
       "    </tr>\n",
       "    <tr>\n",
       "      <th>Himalayan marmot (1.70%)</th>\n",
       "      <td>0.673782</td>\n",
       "    </tr>\n",
       "    <tr>\n",
       "      <th>Human (90.79%)</th>\n",
       "      <td>0.975210</td>\n",
       "    </tr>\n",
       "    <tr>\n",
       "      <th>Pig (4.04%)</th>\n",
       "      <td>0.198976</td>\n",
       "    </tr>\n",
       "    <tr>\n",
       "      <th>Red junglefowl (1.51%)</th>\n",
       "      <td>0.048432</td>\n",
       "    </tr>\n",
       "    <tr>\n",
       "      <th rowspan=\"5\" valign=\"top\">RF</th>\n",
       "      <th>Capybara (1.96%)</th>\n",
       "      <td>0.078824</td>\n",
       "    </tr>\n",
       "    <tr>\n",
       "      <th>Himalayan marmot (1.70%)</th>\n",
       "      <td>0.511055</td>\n",
       "    </tr>\n",
       "    <tr>\n",
       "      <th>Human (90.79%)</th>\n",
       "      <td>0.984707</td>\n",
       "    </tr>\n",
       "    <tr>\n",
       "      <th>Pig (4.04%)</th>\n",
       "      <td>0.254578</td>\n",
       "    </tr>\n",
       "    <tr>\n",
       "      <th>Red junglefowl (1.51%)</th>\n",
       "      <td>0.111262</td>\n",
       "    </tr>\n",
       "    <tr>\n",
       "      <th rowspan=\"5\" valign=\"top\">RNN</th>\n",
       "      <th>Capybara (1.96%)</th>\n",
       "      <td>0.380006</td>\n",
       "    </tr>\n",
       "    <tr>\n",
       "      <th>Himalayan marmot (1.70%)</th>\n",
       "      <td>0.524389</td>\n",
       "    </tr>\n",
       "    <tr>\n",
       "      <th>Human (90.79%)</th>\n",
       "      <td>0.986832</td>\n",
       "    </tr>\n",
       "    <tr>\n",
       "      <th>Pig (4.04%)</th>\n",
       "      <td>0.178179</td>\n",
       "    </tr>\n",
       "    <tr>\n",
       "      <th>Red junglefowl (1.51%)</th>\n",
       "      <td>0.047204</td>\n",
       "    </tr>\n",
       "    <tr>\n",
       "      <th rowspan=\"5\" valign=\"top\">SVM</th>\n",
       "      <th>Capybara (1.96%)</th>\n",
       "      <td>0.172497</td>\n",
       "    </tr>\n",
       "    <tr>\n",
       "      <th>Himalayan marmot (1.70%)</th>\n",
       "      <td>0.662138</td>\n",
       "    </tr>\n",
       "    <tr>\n",
       "      <th>Human (90.79%)</th>\n",
       "      <td>0.992765</td>\n",
       "    </tr>\n",
       "    <tr>\n",
       "      <th>Pig (4.04%)</th>\n",
       "      <td>0.527303</td>\n",
       "    </tr>\n",
       "    <tr>\n",
       "      <th>Red junglefowl (1.51%)</th>\n",
       "      <td>0.139928</td>\n",
       "    </tr>\n",
       "    <tr>\n",
       "      <th rowspan=\"5\" valign=\"top\">VirProBERT</th>\n",
       "      <th>Capybara (1.96%)</th>\n",
       "      <td>0.568408</td>\n",
       "    </tr>\n",
       "    <tr>\n",
       "      <th>Himalayan marmot (1.70%)</th>\n",
       "      <td>0.899886</td>\n",
       "    </tr>\n",
       "    <tr>\n",
       "      <th>Human (90.79%)</th>\n",
       "      <td>0.993320</td>\n",
       "    </tr>\n",
       "    <tr>\n",
       "      <th>Pig (4.04%)</th>\n",
       "      <td>0.601161</td>\n",
       "    </tr>\n",
       "    <tr>\n",
       "      <th>Red junglefowl (1.51%)</th>\n",
       "      <td>0.315789</td>\n",
       "    </tr>\n",
       "  </tbody>\n",
       "</table>\n",
       "</div>"
      ],
      "text/plain": [
       "                                        auprc\n",
       "model      class                             \n",
       "CNN        Capybara (1.96%)          0.310939\n",
       "           Himalayan marmot (1.70%)  0.710000\n",
       "           Human (90.79%)            0.989391\n",
       "           Pig (4.04%)               0.265663\n",
       "           Red junglefowl (1.51%)    0.082012\n",
       "LR         Capybara (1.96%)          0.189589\n",
       "           Himalayan marmot (1.70%)  0.503898\n",
       "           Human (90.79%)            0.991283\n",
       "           Pig (4.04%)               0.402781\n",
       "           Red junglefowl (1.51%)    0.117548\n",
       "LSTM       Capybara (1.96%)          0.396868\n",
       "           Himalayan marmot (1.70%)  0.830207\n",
       "           Human (90.79%)            0.990792\n",
       "           Pig (4.04%)               0.287136\n",
       "           Red junglefowl (1.51%)    0.089193\n",
       "ProstT5    Capybara (1.96%)          0.424016\n",
       "           Himalayan marmot (1.70%)  0.673782\n",
       "           Human (90.79%)            0.975210\n",
       "           Pig (4.04%)               0.198976\n",
       "           Red junglefowl (1.51%)    0.048432\n",
       "RF         Capybara (1.96%)          0.078824\n",
       "           Himalayan marmot (1.70%)  0.511055\n",
       "           Human (90.79%)            0.984707\n",
       "           Pig (4.04%)               0.254578\n",
       "           Red junglefowl (1.51%)    0.111262\n",
       "RNN        Capybara (1.96%)          0.380006\n",
       "           Himalayan marmot (1.70%)  0.524389\n",
       "           Human (90.79%)            0.986832\n",
       "           Pig (4.04%)               0.178179\n",
       "           Red junglefowl (1.51%)    0.047204\n",
       "SVM        Capybara (1.96%)          0.172497\n",
       "           Himalayan marmot (1.70%)  0.662138\n",
       "           Human (90.79%)            0.992765\n",
       "           Pig (4.04%)               0.527303\n",
       "           Red junglefowl (1.51%)    0.139928\n",
       "VirProBERT Capybara (1.96%)          0.568408\n",
       "           Himalayan marmot (1.70%)  0.899886\n",
       "           Human (90.79%)            0.993320\n",
       "           Pig (4.04%)               0.601161\n",
       "           Red junglefowl (1.51%)    0.315789"
      ]
     },
     "execution_count": 8,
     "metadata": {},
     "output_type": "execute_result"
    }
   ],
   "source": [
    "auprc_results_df[[\"model\", \"class\", \"auprc\"]].groupby([\"model\", \"class\"]).mean(\"auprc\")"
   ]
  },
  {
   "cell_type": "code",
   "execution_count": null,
   "id": "0810bf86",
   "metadata": {},
   "outputs": [],
   "source": []
  }
 ],
 "metadata": {
  "kernelspec": {
   "display_name": "Python 3 (ipykernel)",
   "language": "python",
   "name": "python3"
  },
  "language_info": {
   "codemirror_mode": {
    "name": "ipython",
    "version": 3
   },
   "file_extension": ".py",
   "mimetype": "text/x-python",
   "name": "python",
   "nbconvert_exporter": "python",
   "pygments_lexer": "ipython3",
   "version": "3.8.12"
  }
 },
 "nbformat": 4,
 "nbformat_minor": 5
}
