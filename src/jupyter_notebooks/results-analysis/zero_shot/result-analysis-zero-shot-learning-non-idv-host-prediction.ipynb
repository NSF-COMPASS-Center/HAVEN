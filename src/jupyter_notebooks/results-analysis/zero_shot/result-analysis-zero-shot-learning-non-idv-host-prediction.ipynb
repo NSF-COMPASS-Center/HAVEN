{
 "cells": [
  {
   "cell_type": "markdown",
   "id": "c13e5a8e",
   "metadata": {},
   "source": [
    "## Zero Shot Learning\n",
    "### Learning Dataset: Non-Immunodeficiency virus\n",
    "### Evaluation Dataset: Immunodeficiency virus\n"
   ]
  },
  {
   "cell_type": "code",
   "execution_count": 2,
   "id": "1f767976",
   "metadata": {},
   "outputs": [
    {
     "data": {
      "text/plain": [
       "['/home/blessyantony/dev/git/zoonosis/src/jupyter_notebooks/results-analysis/zero_shot',\n",
       " '/opt/conda/lib/python38.zip',\n",
       " '/opt/conda/lib/python3.8',\n",
       " '/opt/conda/lib/python3.8/lib-dynload',\n",
       " '',\n",
       " '/home/blessyantony/.local/lib/python3.8/site-packages',\n",
       " '/opt/conda/lib/python3.8/site-packages',\n",
       " '/opt/conda/lib/python3.8/site-packages/IPython/extensions',\n",
       " '/home/blessyantony/.ipython',\n",
       " '/home/blessyantony/dev/git/zoonosis/src/jupyter_notebooks/results-analysis/zero_shot/../../../../..',\n",
       " '/home/blessyantony/dev/git/zoonosis/src/jupyter_notebooks/results-analysis/zero_shot/../../../..',\n",
       " '/home/blessyantony/dev/git/zoonosis/src/jupyter_notebooks/results-analysis/zero_shot/../../..',\n",
       " '/home/blessyantony/dev/git/zoonosis/src/jupyter_notebooks/results-analysis/zero_shot/../..']"
      ]
     },
     "execution_count": 2,
     "metadata": {},
     "output_type": "execute_result"
    }
   ],
   "source": [
    "import sys\n",
    "import os\n",
    "sys.path.append(os.path.join(os.getcwd(), \"..\", \"..\", \"..\", \"..\", \"..\"))\n",
    "sys.path.append(os.path.join(os.getcwd(), \"..\", \"..\", \"..\", \"..\"))\n",
    "sys.path.append(os.path.join(os.getcwd(), \"..\", \"..\", \"..\"))\n",
    "sys.path.append(os.path.join(os.getcwd(), \"..\", \"..\"))\n",
    "sys.path"
   ]
  },
  {
   "cell_type": "code",
   "execution_count": 32,
   "id": "d3c5adad",
   "metadata": {},
   "outputs": [],
   "source": [
    "import pandas as pd\n",
    "import os\n",
    "import numpy as np\n",
    "import seaborn as sns\n",
    "import matplotlib.pyplot as plt\n",
    "from pathlib import Path\n",
    "\n",
    "from sklearn.metrics import roc_curve, accuracy_score, f1_score, auc, precision_recall_curve\n",
    "from statistics import mean\n",
    "\n",
    "from src.utils import utils, evaluation_utils, visualization_utils"
   ]
  },
  {
   "cell_type": "code",
   "execution_count": 40,
   "id": "c936f036",
   "metadata": {},
   "outputs": [],
   "source": [
    "itr_col = \"itr\"\n",
    "experiment_col = \"experiment\"\n",
    "y_true_col = \"y_true\"\n",
    "human_col = \"Human\"\n",
    "plt.rcParams['xtick.labelsize'] = 20\n",
    "plt.rcParams['ytick.labelsize'] = 20\n",
    "plt.rcParams['figure.autolayout'] = True\n",
    "\n",
    "DEFAULT_FIGURE_CONFIG = {\n",
    "    \"figsize\": (10, 10),\n",
    "    \"xtick.labelsize\": 18,\n",
    "    \"ytick.labelsize\": 18    \n",
    "}\n",
    "\n",
    "classes=[\"Human\", \"Rhesus macaque\", \"Cat\", \"Cattle\"]\n",
    "\n",
    "def overall_auprc(output_file_paths, classes):\n",
    "    auprc_results = []\n",
    "    results = []\n",
    "    for model, output_file_path in output_file_paths.items():\n",
    "        df = pd.read_csv(output_file_path, index_col=0)\n",
    "        print(f\"Read output {model} = {df.shape}\")\n",
    "        \n",
    "        itrs = df[itr_col].unique()\n",
    "        for itr in itrs:\n",
    "            \n",
    "            df_itr = df[df[itr_col] == itr]\n",
    "            macro_auprc = compute_auprc(df_itr)\n",
    "            result_itr = {\"model\": model, \"itr\": itr, \"auprc\": macro_auprc}\n",
    "            results.append(result_itr)\n",
    "    result_df = pd.DataFrame(results)\n",
    "    FIGURE_CONFIG = {\n",
    "        \"figsize\": (15, 10),\n",
    "        \"xtick.labelsize\": 20,\n",
    "        \"ytick.labelsize\": 20    \n",
    "    }\n",
    "\n",
    "    visualization_utils.pre_plot_config(FIGURE_CONFIG)\n",
    "    ax = sns.boxplot(data=result_df, x=\"model\", y=\"auprc\", linewidth=1.5, fliersize=5)\n",
    "    plt.draw()\n",
    "    \n",
    "    ax.set_ylim(0, 1)\n",
    "    ax.set_ylabel(\"AUPRC\", size=22)\n",
    "    ax.set_xlabel(\"\", size=22, labelpad=2)\n",
    "    # sns.move_legend(ax, \"lower center\", bbox_to_anchor=(.5, 1), ncol=5, title=None, frameon=False)\n",
    "    \n",
    "    visualization_utils.wrap_xticklabels(ax)\n",
    "    plt.show()\n",
    "            \n",
    "    \n",
    "def class_wise_auprc_analysis(output_file_paths, classes, figure_output_filepath=None):\n",
    "    auprc_results = []\n",
    "    for model, output_file_path in output_file_paths.items():\n",
    "        df = pd.read_csv(output_file_path, index_col=0)\n",
    "        print(f\"Read output {model} = {df.shape}\")\n",
    "\n",
    "        itrs = df[itr_col].unique()\n",
    "        for itr in itrs:\n",
    "            df_itr = df[df[itr_col] == itr]\n",
    "            _, auprcs_df = evaluation_utils.compute_class_auprc(df_itr, y_pred_columns=classes, y_true_col=y_true_col)\n",
    "            auprcs_df[\"model\"] = model\n",
    "            auprcs_df[\"itr\"] = itr\n",
    "            auprc_results.append(auprcs_df)\n",
    "    metadata = utils.compute_class_distribution(df_itr, y_true_col, format=False)\n",
    "    metadata_formatted = utils.compute_class_distribution(df_itr, y_true_col, format=True)\n",
    "    metadata_sorted = {}\n",
    "    for k, v in metadata.items():\n",
    "        metadata_sorted[metadata_formatted[k]] = v\n",
    "\n",
    "    auprc_results_df = pd.concat(auprc_results, ignore_index=True)\n",
    "    auprc_results_df.replace({\"class\":metadata_formatted}, inplace=True)\n",
    "    \n",
    "    FIGURE_CONFIG = {\n",
    "        \"figsize\": (15, 10),\n",
    "        \"xtick.labelsize\": 20,\n",
    "        \"ytick.labelsize\": 20    \n",
    "    }\n",
    "\n",
    "    visualization_utils.pre_plot_config(FIGURE_CONFIG)\n",
    "    ax = sns.boxplot(data=auprc_results_df, x=\"class\", y=\"auprc\", hue=\"model\", order=metadata_sorted, linewidth=1.5, fliersize=5)\n",
    "    plt.draw()\n",
    "    \n",
    "    ax.set_ylim(0, 1)\n",
    "    ax.set_ylabel(\"AUPRC\", size=22)\n",
    "    ax.set_xlabel(\"\", size=22, labelpad=2)\n",
    "    sns.move_legend(ax, \"lower center\", bbox_to_anchor=(.5, 1), ncol=5, title=None, frameon=False)\n",
    "    plt.setp(ax.get_legend().get_texts(), fontsize=16)\n",
    "    visualization_utils.wrap_xticklabels(ax)\n",
    "    # visualization_utils.view(figure_output_filepath)\n",
    "    plt.show()\n",
    "    return auprc_results_df\n",
    "\n",
    "\n",
    "def compute_auprc(df_itr):\n",
    "    # macro auprc = unweighted average of auprc for each class\n",
    "    # only for one-vs-rest setting\n",
    "    pr_curves = []\n",
    "    auprcs = []\n",
    "    for y_pred_column in classes:\n",
    "        precision, recall, _ = precision_recall_curve(y_true=df_itr[\"y_true\"].values, probas_pred=df_itr[y_pred_column].values, pos_label=y_pred_column)\n",
    "        #pr_curves.append(pd.DataFrame({\"precision\": precision, \"recall\": recall, self.class_col: y_pred_column}))\n",
    "        auprcs.append(auc(recall, precision))\n",
    "\n",
    "    return mean(auprcs)"
   ]
  },
  {
   "cell_type": "code",
   "execution_count": 41,
   "id": "53c72698",
   "metadata": {},
   "outputs": [],
   "source": [
    "output_file_paths = {\n",
    "    # \"FNN\": os.path.join(os.getcwd(), \"..\",\"..\", \"..\", \"..\", \"output/raw/uniref90_embl_vertebrates_idv_common_hosts_non_idv_t0.005_c4/20240528/host_multi/emb_sincos-lossfocalce_e50_msl1366_fnn-l_10-d_1024-lr1e-3_output.csv\"),\n",
    "    \"CNN\": os.path.join(os.getcwd(), \"..\",\"..\", \"..\", \"..\", \"output/raw/uniref90_embl_vertebrates_idv_common_hosts_non_idv_t0.005_c4/20240528/host_multi/emb_sincos-lossfocalce_e50_msl1366_cnn-l_4-d_1024-k3s1-lr1e-3_output.csv\"),\n",
    "    \"RNN\": os.path.join(os.getcwd(), \"..\",\"..\", \"..\", \"..\", \"output/raw/uniref90_embl_vertebrates_idv_common_hosts_non_idv_t0.005_c4/20240528/host_multi/emb_sincos-lossfocalce_e50_msl1366_rnn-l_6-d_1024-lr1e-5_output.csv\"),\n",
    "    \"LSTM\": os.path.join(os.getcwd(), \"..\",\"..\", \"..\", \"..\", \"output/raw/uniref90_embl_vertebrates_idv_common_hosts_non_idv_t0.005_c4/20240528/host_multi/emb_sincos-lossfocalce_e50_msl1366_lstm-l_2-d_1024-lr1e-3_output.csv\"),\n",
    "    \"TF-Enc\": os.path.join(os.getcwd(), \"..\",\"..\", \"..\", \"..\", \"output/raw/uniref90_embl_vertebrates_idv_common_hosts_non_idv_t0.005_c4/20240528/host_multi/emb_sincos-lossfocalce_e50_msl1366_transformer-l_6-h_8-d_1024-lr1e-4_output.csv\"),\n",
    "    \"VirProBERT\": os.path.join(os.getcwd(), \"..\",\"..\", \"..\", \"..\", \"output/raw/uniref90_embl_vertebrates_idv_common_hosts_non_idv_t0.005_c4/20240528/host_multi/fine_tuning/mlm_tfenc_l6_h8_lr1e-4_uniref90viridae_msl1366_host_prediction_fnn_2l_d1024_lr1e-4_output.csv\")\n",
    "}"
   ]
  },
  {
   "cell_type": "code",
   "execution_count": 42,
   "id": "6f2968f8",
   "metadata": {},
   "outputs": [
    {
     "name": "stdout",
     "output_type": "stream",
     "text": [
      "Read output CNN = (14785, 6)\n",
      "Read output RNN = (14785, 6)\n",
      "Read output LSTM = (14785, 6)\n",
      "Read output TF-Enc = (14785, 6)\n",
      "Read output VirProBERT = (14785, 6)\n"
     ]
    },
    {
     "data": {
      "text/plain": [
       "<Figure size 432x288 with 0 Axes>"
      ]
     },
     "metadata": {},
     "output_type": "display_data"
    },
    {
     "data": {
      "image/png": "[encoded data removed]",
      "text/plain": [
       "<Figure size 1080x720 with 1 Axes>"
      ]
     },
     "metadata": {},
     "output_type": "display_data"
    }
   ],
   "source": [
    "overall_auprc(output_file_paths, classes)"
   ]
  },
  {
   "cell_type": "code",
   "execution_count": 31,
   "id": "fca57a65",
   "metadata": {},
   "outputs": [
    {
     "name": "stdout",
     "output_type": "stream",
     "text": [
      "Read output CNN = (14785, 6)\n",
      "Read output RNN = (14785, 6)\n",
      "Read output LSTM = (14785, 6)\n",
      "Read output TF-Enc = (14785, 6)\n",
      "Read output VirProBERT = (14785, 6)\n"
     ]
    },
    {
     "data": {
      "text/plain": [
       "<Figure size 432x288 with 0 Axes>"
      ]
     },
     "metadata": {},
     "output_type": "display_data"
    },
    {
     "data": {
      "image/png": "[encoded data removed]",
      "text/plain": [
       "<Figure size 1080x720 with 1 Axes>"
      ]
     },
     "metadata": {},
     "output_type": "display_data"
    },
    {
     "data": {
      "text/html": [
       "<div>\n",
       "<style scoped>\n",
       "    .dataframe tbody tr th:only-of-type {\n",
       "        vertical-align: middle;\n",
       "    }\n",
       "\n",
       "    .dataframe tbody tr th {\n",
       "        vertical-align: top;\n",
       "    }\n",
       "\n",
       "    .dataframe thead th {\n",
       "        text-align: right;\n",
       "    }\n",
       "</style>\n",
       "<table border=\"1\" class=\"dataframe\">\n",
       "  <thead>\n",
       "    <tr style=\"text-align: right;\">\n",
       "      <th></th>\n",
       "      <th>class</th>\n",
       "      <th>auprc</th>\n",
       "      <th>model</th>\n",
       "      <th>itr</th>\n",
       "    </tr>\n",
       "  </thead>\n",
       "  <tbody>\n",
       "    <tr>\n",
       "      <th>0</th>\n",
       "      <td>Human (97.36%)</td>\n",
       "      <td>0.997480</td>\n",
       "      <td>CNN</td>\n",
       "      <td>0</td>\n",
       "    </tr>\n",
       "    <tr>\n",
       "      <th>1</th>\n",
       "      <td>Rhesus macaque (0.78%)</td>\n",
       "      <td>0.452769</td>\n",
       "      <td>CNN</td>\n",
       "      <td>0</td>\n",
       "    </tr>\n",
       "    <tr>\n",
       "      <th>2</th>\n",
       "      <td>Cat (1.01%)</td>\n",
       "      <td>0.888787</td>\n",
       "      <td>CNN</td>\n",
       "      <td>0</td>\n",
       "    </tr>\n",
       "    <tr>\n",
       "      <th>3</th>\n",
       "      <td>Cattle (0.85%)</td>\n",
       "      <td>0.075388</td>\n",
       "      <td>CNN</td>\n",
       "      <td>0</td>\n",
       "    </tr>\n",
       "    <tr>\n",
       "      <th>4</th>\n",
       "      <td>Human (97.36%)</td>\n",
       "      <td>0.992913</td>\n",
       "      <td>CNN</td>\n",
       "      <td>1</td>\n",
       "    </tr>\n",
       "    <tr>\n",
       "      <th>...</th>\n",
       "      <td>...</td>\n",
       "      <td>...</td>\n",
       "      <td>...</td>\n",
       "      <td>...</td>\n",
       "    </tr>\n",
       "    <tr>\n",
       "      <th>95</th>\n",
       "      <td>Cattle (0.85%)</td>\n",
       "      <td>0.246107</td>\n",
       "      <td>VirProBERT</td>\n",
       "      <td>3</td>\n",
       "    </tr>\n",
       "    <tr>\n",
       "      <th>96</th>\n",
       "      <td>Human (97.36%)</td>\n",
       "      <td>0.998921</td>\n",
       "      <td>VirProBERT</td>\n",
       "      <td>4</td>\n",
       "    </tr>\n",
       "    <tr>\n",
       "      <th>97</th>\n",
       "      <td>Rhesus macaque (0.78%)</td>\n",
       "      <td>0.762470</td>\n",
       "      <td>VirProBERT</td>\n",
       "      <td>4</td>\n",
       "    </tr>\n",
       "    <tr>\n",
       "      <th>98</th>\n",
       "      <td>Cat (1.01%)</td>\n",
       "      <td>0.758230</td>\n",
       "      <td>VirProBERT</td>\n",
       "      <td>4</td>\n",
       "    </tr>\n",
       "    <tr>\n",
       "      <th>99</th>\n",
       "      <td>Cattle (0.85%)</td>\n",
       "      <td>0.358344</td>\n",
       "      <td>VirProBERT</td>\n",
       "      <td>4</td>\n",
       "    </tr>\n",
       "  </tbody>\n",
       "</table>\n",
       "<p>100 rows × 4 columns</p>\n",
       "</div>"
      ],
      "text/plain": [
       "                     class     auprc       model  itr\n",
       "0           Human (97.36%)  0.997480         CNN    0\n",
       "1   Rhesus macaque (0.78%)  0.452769         CNN    0\n",
       "2              Cat (1.01%)  0.888787         CNN    0\n",
       "3           Cattle (0.85%)  0.075388         CNN    0\n",
       "4           Human (97.36%)  0.992913         CNN    1\n",
       "..                     ...       ...         ...  ...\n",
       "95          Cattle (0.85%)  0.246107  VirProBERT    3\n",
       "96          Human (97.36%)  0.998921  VirProBERT    4\n",
       "97  Rhesus macaque (0.78%)  0.762470  VirProBERT    4\n",
       "98             Cat (1.01%)  0.758230  VirProBERT    4\n",
       "99          Cattle (0.85%)  0.358344  VirProBERT    4\n",
       "\n",
       "[100 rows x 4 columns]"
      ]
     },
     "execution_count": 31,
     "metadata": {},
     "output_type": "execute_result"
    }
   ],
   "source": [
    "class_wise_auprc_analysis(output_file_paths, classes)"
   ]
  },
  {
   "cell_type": "code",
   "execution_count": null,
   "id": "c8f3587a",
   "metadata": {},
   "outputs": [],
   "source": []
  }
 ],
 "metadata": {
  "kernelspec": {
   "display_name": "Python 3 (ipykernel)",
   "language": "python",
   "name": "python3"
  },
  "language_info": {
   "codemirror_mode": {
    "name": "ipython",
    "version": 3
   },
   "file_extension": ".py",
   "mimetype": "text/x-python",
   "name": "python",
   "nbconvert_exporter": "python",
   "pygments_lexer": "ipython3",
   "version": "3.8.12"
  }
 },
 "nbformat": 4,
 "nbformat_minor": 5
}
