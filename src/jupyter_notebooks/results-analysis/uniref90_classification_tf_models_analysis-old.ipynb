{
 "cells": [
  {
   "cell_type": "markdown",
   "id": "c990fe9f",
   "metadata": {},
   "source": [
    "# Note: Not updated with msl1114 dataset results\n",
    "\n",
    "## Results of Host Prediction\n",
    "### Dataset: All viruses, all proteins, without duplicates, without humans\n",
    "\n",
    "**Model**: Transformer w/o convolution\n",
    "\n",
    "**Positional Embedding**: Sin-Cos\n",
    "\n",
    "**Maximum Sequence Length**: 1024\n",
    "\n",
    "**Classification**: Multi-class\n",
    "\n",
    "**\\# classes**: 8\n",
    "\n",
    "**\\# train samples** = 2815\n",
    "\n",
    "**\\# test samples** = 704"
   ]
  },
  {
   "cell_type": "code",
   "execution_count": 49,
   "id": "7a611efc",
   "metadata": {},
   "outputs": [],
   "source": [
    "output_filepath = os.path.join(os.getcwd(), \"..\",\"..\", \"output\\\\raw\\\\uniref90\\\\20230604\\\\host_multi-withouthumans\\\\tf-emb_sincos-msl_1024-d_512_transformer-crossentropy_output.csv\")"
   ]
  },
  {
   "cell_type": "code",
   "execution_count": 50,
   "id": "83bf0705",
   "metadata": {},
   "outputs": [],
   "source": [
    "df = pd.read_csv(output_filepath, index_col=0)"
   ]
  },
  {
   "cell_type": "code",
   "execution_count": 51,
   "id": "111a86ff",
   "metadata": {},
   "outputs": [
    {
     "name": "stdout",
     "output_type": "stream",
     "text": [
      "(3520, 10)\n"
     ]
    },
    {
     "data": {
      "text/html": [
       "<div>\n",
       "<style scoped>\n",
       "    .dataframe tbody tr th:only-of-type {\n",
       "        vertical-align: middle;\n",
       "    }\n",
       "\n",
       "    .dataframe tbody tr th {\n",
       "        vertical-align: top;\n",
       "    }\n",
       "\n",
       "    .dataframe thead th {\n",
       "        text-align: right;\n",
       "    }\n",
       "</style>\n",
       "<table border=\"1\" class=\"dataframe\">\n",
       "  <thead>\n",
       "    <tr style=\"text-align: right;\">\n",
       "      <th></th>\n",
       "      <th>Cattle</th>\n",
       "      <th>Desert warthog</th>\n",
       "      <th>Goat</th>\n",
       "      <th>Horse</th>\n",
       "      <th>Lesser bandicoot rat</th>\n",
       "      <th>Others</th>\n",
       "      <th>Red junglefowl</th>\n",
       "      <th>Wood mouse</th>\n",
       "      <th>y_true</th>\n",
       "      <th>itr</th>\n",
       "    </tr>\n",
       "  </thead>\n",
       "  <tbody>\n",
       "    <tr>\n",
       "      <th>0</th>\n",
       "      <td>0.007181</td>\n",
       "      <td>0.990439</td>\n",
       "      <td>0.000268</td>\n",
       "      <td>0.000033</td>\n",
       "      <td>0.000029</td>\n",
       "      <td>0.000060</td>\n",
       "      <td>0.001248</td>\n",
       "      <td>0.000742</td>\n",
       "      <td>Desert warthog</td>\n",
       "      <td>0</td>\n",
       "    </tr>\n",
       "    <tr>\n",
       "      <th>1</th>\n",
       "      <td>0.129177</td>\n",
       "      <td>0.176522</td>\n",
       "      <td>0.011334</td>\n",
       "      <td>0.000955</td>\n",
       "      <td>0.000040</td>\n",
       "      <td>0.000375</td>\n",
       "      <td>0.005552</td>\n",
       "      <td>0.676045</td>\n",
       "      <td>Wood mouse</td>\n",
       "      <td>0</td>\n",
       "    </tr>\n",
       "    <tr>\n",
       "      <th>2</th>\n",
       "      <td>0.001560</td>\n",
       "      <td>0.001096</td>\n",
       "      <td>0.977629</td>\n",
       "      <td>0.005416</td>\n",
       "      <td>0.000089</td>\n",
       "      <td>0.000141</td>\n",
       "      <td>0.013831</td>\n",
       "      <td>0.000238</td>\n",
       "      <td>Goat</td>\n",
       "      <td>0</td>\n",
       "    </tr>\n",
       "    <tr>\n",
       "      <th>3</th>\n",
       "      <td>0.081426</td>\n",
       "      <td>0.897887</td>\n",
       "      <td>0.002229</td>\n",
       "      <td>0.000543</td>\n",
       "      <td>0.000048</td>\n",
       "      <td>0.000242</td>\n",
       "      <td>0.007622</td>\n",
       "      <td>0.010003</td>\n",
       "      <td>Desert warthog</td>\n",
       "      <td>0</td>\n",
       "    </tr>\n",
       "    <tr>\n",
       "      <th>4</th>\n",
       "      <td>0.571605</td>\n",
       "      <td>0.049536</td>\n",
       "      <td>0.014142</td>\n",
       "      <td>0.228158</td>\n",
       "      <td>0.001631</td>\n",
       "      <td>0.005146</td>\n",
       "      <td>0.107265</td>\n",
       "      <td>0.022516</td>\n",
       "      <td>Red junglefowl</td>\n",
       "      <td>0</td>\n",
       "    </tr>\n",
       "  </tbody>\n",
       "</table>\n",
       "</div>"
      ],
      "text/plain": [
       "     Cattle  Desert warthog      Goat     Horse  Lesser bandicoot rat  \\\n",
       "0  0.007181        0.990439  0.000268  0.000033              0.000029   \n",
       "1  0.129177        0.176522  0.011334  0.000955              0.000040   \n",
       "2  0.001560        0.001096  0.977629  0.005416              0.000089   \n",
       "3  0.081426        0.897887  0.002229  0.000543              0.000048   \n",
       "4  0.571605        0.049536  0.014142  0.228158              0.001631   \n",
       "\n",
       "     Others  Red junglefowl  Wood mouse          y_true  itr  \n",
       "0  0.000060        0.001248    0.000742  Desert warthog    0  \n",
       "1  0.000375        0.005552    0.676045      Wood mouse    0  \n",
       "2  0.000141        0.013831    0.000238            Goat    0  \n",
       "3  0.000242        0.007622    0.010003  Desert warthog    0  \n",
       "4  0.005146        0.107265    0.022516  Red junglefowl    0  "
      ]
     },
     "execution_count": 51,
     "metadata": {},
     "output_type": "execute_result"
    }
   ],
   "source": [
    "print(df.shape)\n",
    "df.head()"
   ]
  },
  {
   "cell_type": "code",
   "execution_count": 52,
   "id": "2f1be787",
   "metadata": {},
   "outputs": [],
   "source": [
    "cols = df.columns\n",
    "non_human_cols = list(set(cols) - set([itr_col, experiment_col, y_true_col]))"
   ]
  },
  {
   "cell_type": "code",
   "execution_count": 53,
   "id": "2a3c615d",
   "metadata": {},
   "outputs": [
    {
     "data": {
      "text/plain": [
       "['Cattle',\n",
       " 'Goat',\n",
       " 'Lesser bandicoot rat',\n",
       " 'Desert warthog',\n",
       " 'Wood mouse',\n",
       " 'Horse',\n",
       " 'Red junglefowl',\n",
       " 'Others']"
      ]
     },
     "execution_count": 53,
     "metadata": {},
     "output_type": "execute_result"
    }
   ],
   "source": [
    "non_human_cols"
   ]
  },
  {
   "cell_type": "code",
   "execution_count": 54,
   "id": "7c12cfc2",
   "metadata": {},
   "outputs": [
    {
     "data": {
      "text/plain": [
       "array([0, 1, 2, 3, 4], dtype=int64)"
      ]
     },
     "execution_count": 54,
     "metadata": {},
     "output_type": "execute_result"
    }
   ],
   "source": [
    "itrs = df[itr_col].unique()\n",
    "itrs"
   ]
  },
  {
   "cell_type": "code",
   "execution_count": 55,
   "id": "8c63e546",
   "metadata": {},
   "outputs": [
    {
     "name": "stderr",
     "output_type": "stream",
     "text": [
      "C:\\Users\\bless\\anaconda3\\lib\\site-packages\\sklearn\\metrics\\_ranking.py:817: RuntimeWarning: invalid value encountered in true_divide\n",
      "  recall = tps / tps[-1]\n",
      "C:\\Users\\bless\\anaconda3\\lib\\site-packages\\sklearn\\metrics\\_ranking.py:817: RuntimeWarning: invalid value encountered in true_divide\n",
      "  recall = tps / tps[-1]\n",
      "C:\\Users\\bless\\anaconda3\\lib\\site-packages\\sklearn\\metrics\\_ranking.py:817: RuntimeWarning: invalid value encountered in true_divide\n",
      "  recall = tps / tps[-1]\n",
      "C:\\Users\\bless\\anaconda3\\lib\\site-packages\\sklearn\\metrics\\_ranking.py:817: RuntimeWarning: invalid value encountered in true_divide\n",
      "  recall = tps / tps[-1]\n",
      "C:\\Users\\bless\\anaconda3\\lib\\site-packages\\sklearn\\metrics\\_ranking.py:817: RuntimeWarning: invalid value encountered in true_divide\n",
      "  recall = tps / tps[-1]\n"
     ]
    }
   ],
   "source": [
    "result = []\n",
    "pr_curves = []\n",
    "for itr in itrs:\n",
    "    df_itr = df[df[itr_col] == itr]\n",
    "    pr_curves_df, auprcs_df = compute_auprc(df_itr, y_pred_columns=non_human_cols , y_true_col=y_true_col)\n",
    "    pr_curves_df[itr_col] = itr\n",
    "    auprcs_df[itr_col] = itr\n",
    "    result.append(auprcs_df)\n",
    "    pr_curves.append(pr_curves_df)\n",
    "\n",
    "result_df = pd.concat(result, ignore_index=True)\n",
    "pr_curves_df = pd.concat(pr_curves, ignore_index=True)\n",
    "        \n",
    "        "
   ]
  },
  {
   "cell_type": "code",
   "execution_count": 56,
   "id": "9036acfa",
   "metadata": {},
   "outputs": [
    {
     "data": {
      "text/html": [
       "<div>\n",
       "<style scoped>\n",
       "    .dataframe tbody tr th:only-of-type {\n",
       "        vertical-align: middle;\n",
       "    }\n",
       "\n",
       "    .dataframe tbody tr th {\n",
       "        vertical-align: top;\n",
       "    }\n",
       "\n",
       "    .dataframe thead th {\n",
       "        text-align: right;\n",
       "    }\n",
       "</style>\n",
       "<table border=\"1\" class=\"dataframe\">\n",
       "  <thead>\n",
       "    <tr style=\"text-align: right;\">\n",
       "      <th></th>\n",
       "      <th>class</th>\n",
       "      <th>auprc</th>\n",
       "      <th>itr</th>\n",
       "    </tr>\n",
       "  </thead>\n",
       "  <tbody>\n",
       "    <tr>\n",
       "      <th>0</th>\n",
       "      <td>Cattle</td>\n",
       "      <td>0.385630</td>\n",
       "      <td>0</td>\n",
       "    </tr>\n",
       "    <tr>\n",
       "      <th>1</th>\n",
       "      <td>Goat</td>\n",
       "      <td>0.884101</td>\n",
       "      <td>0</td>\n",
       "    </tr>\n",
       "    <tr>\n",
       "      <th>2</th>\n",
       "      <td>Lesser bandicoot rat</td>\n",
       "      <td>0.994994</td>\n",
       "      <td>0</td>\n",
       "    </tr>\n",
       "    <tr>\n",
       "      <th>3</th>\n",
       "      <td>Desert warthog</td>\n",
       "      <td>0.932764</td>\n",
       "      <td>0</td>\n",
       "    </tr>\n",
       "    <tr>\n",
       "      <th>4</th>\n",
       "      <td>Wood mouse</td>\n",
       "      <td>0.777562</td>\n",
       "      <td>0</td>\n",
       "    </tr>\n",
       "    <tr>\n",
       "      <th>5</th>\n",
       "      <td>Horse</td>\n",
       "      <td>0.928761</td>\n",
       "      <td>0</td>\n",
       "    </tr>\n",
       "    <tr>\n",
       "      <th>6</th>\n",
       "      <td>Red junglefowl</td>\n",
       "      <td>0.844625</td>\n",
       "      <td>0</td>\n",
       "    </tr>\n",
       "    <tr>\n",
       "      <th>7</th>\n",
       "      <td>Others</td>\n",
       "      <td>NaN</td>\n",
       "      <td>0</td>\n",
       "    </tr>\n",
       "    <tr>\n",
       "      <th>8</th>\n",
       "      <td>Cattle</td>\n",
       "      <td>0.421845</td>\n",
       "      <td>1</td>\n",
       "    </tr>\n",
       "    <tr>\n",
       "      <th>9</th>\n",
       "      <td>Goat</td>\n",
       "      <td>0.856432</td>\n",
       "      <td>1</td>\n",
       "    </tr>\n",
       "    <tr>\n",
       "      <th>10</th>\n",
       "      <td>Lesser bandicoot rat</td>\n",
       "      <td>0.981412</td>\n",
       "      <td>1</td>\n",
       "    </tr>\n",
       "    <tr>\n",
       "      <th>11</th>\n",
       "      <td>Desert warthog</td>\n",
       "      <td>0.894266</td>\n",
       "      <td>1</td>\n",
       "    </tr>\n",
       "    <tr>\n",
       "      <th>12</th>\n",
       "      <td>Wood mouse</td>\n",
       "      <td>0.713262</td>\n",
       "      <td>1</td>\n",
       "    </tr>\n",
       "    <tr>\n",
       "      <th>13</th>\n",
       "      <td>Horse</td>\n",
       "      <td>0.946054</td>\n",
       "      <td>1</td>\n",
       "    </tr>\n",
       "    <tr>\n",
       "      <th>14</th>\n",
       "      <td>Red junglefowl</td>\n",
       "      <td>0.872954</td>\n",
       "      <td>1</td>\n",
       "    </tr>\n",
       "    <tr>\n",
       "      <th>15</th>\n",
       "      <td>Others</td>\n",
       "      <td>NaN</td>\n",
       "      <td>1</td>\n",
       "    </tr>\n",
       "    <tr>\n",
       "      <th>16</th>\n",
       "      <td>Cattle</td>\n",
       "      <td>0.396144</td>\n",
       "      <td>2</td>\n",
       "    </tr>\n",
       "    <tr>\n",
       "      <th>17</th>\n",
       "      <td>Goat</td>\n",
       "      <td>0.851035</td>\n",
       "      <td>2</td>\n",
       "    </tr>\n",
       "    <tr>\n",
       "      <th>18</th>\n",
       "      <td>Lesser bandicoot rat</td>\n",
       "      <td>0.993775</td>\n",
       "      <td>2</td>\n",
       "    </tr>\n",
       "    <tr>\n",
       "      <th>19</th>\n",
       "      <td>Desert warthog</td>\n",
       "      <td>0.934474</td>\n",
       "      <td>2</td>\n",
       "    </tr>\n",
       "    <tr>\n",
       "      <th>20</th>\n",
       "      <td>Wood mouse</td>\n",
       "      <td>0.699158</td>\n",
       "      <td>2</td>\n",
       "    </tr>\n",
       "    <tr>\n",
       "      <th>21</th>\n",
       "      <td>Horse</td>\n",
       "      <td>0.950451</td>\n",
       "      <td>2</td>\n",
       "    </tr>\n",
       "    <tr>\n",
       "      <th>22</th>\n",
       "      <td>Red junglefowl</td>\n",
       "      <td>0.880389</td>\n",
       "      <td>2</td>\n",
       "    </tr>\n",
       "    <tr>\n",
       "      <th>23</th>\n",
       "      <td>Others</td>\n",
       "      <td>NaN</td>\n",
       "      <td>2</td>\n",
       "    </tr>\n",
       "    <tr>\n",
       "      <th>24</th>\n",
       "      <td>Cattle</td>\n",
       "      <td>0.439550</td>\n",
       "      <td>3</td>\n",
       "    </tr>\n",
       "    <tr>\n",
       "      <th>25</th>\n",
       "      <td>Goat</td>\n",
       "      <td>0.860577</td>\n",
       "      <td>3</td>\n",
       "    </tr>\n",
       "    <tr>\n",
       "      <th>26</th>\n",
       "      <td>Lesser bandicoot rat</td>\n",
       "      <td>0.991770</td>\n",
       "      <td>3</td>\n",
       "    </tr>\n",
       "    <tr>\n",
       "      <th>27</th>\n",
       "      <td>Desert warthog</td>\n",
       "      <td>0.930591</td>\n",
       "      <td>3</td>\n",
       "    </tr>\n",
       "    <tr>\n",
       "      <th>28</th>\n",
       "      <td>Wood mouse</td>\n",
       "      <td>0.708244</td>\n",
       "      <td>3</td>\n",
       "    </tr>\n",
       "    <tr>\n",
       "      <th>29</th>\n",
       "      <td>Horse</td>\n",
       "      <td>0.952229</td>\n",
       "      <td>3</td>\n",
       "    </tr>\n",
       "  </tbody>\n",
       "</table>\n",
       "</div>"
      ],
      "text/plain": [
       "                   class     auprc  itr\n",
       "0                 Cattle  0.385630    0\n",
       "1                   Goat  0.884101    0\n",
       "2   Lesser bandicoot rat  0.994994    0\n",
       "3         Desert warthog  0.932764    0\n",
       "4             Wood mouse  0.777562    0\n",
       "5                  Horse  0.928761    0\n",
       "6         Red junglefowl  0.844625    0\n",
       "7                 Others       NaN    0\n",
       "8                 Cattle  0.421845    1\n",
       "9                   Goat  0.856432    1\n",
       "10  Lesser bandicoot rat  0.981412    1\n",
       "11        Desert warthog  0.894266    1\n",
       "12            Wood mouse  0.713262    1\n",
       "13                 Horse  0.946054    1\n",
       "14        Red junglefowl  0.872954    1\n",
       "15                Others       NaN    1\n",
       "16                Cattle  0.396144    2\n",
       "17                  Goat  0.851035    2\n",
       "18  Lesser bandicoot rat  0.993775    2\n",
       "19        Desert warthog  0.934474    2\n",
       "20            Wood mouse  0.699158    2\n",
       "21                 Horse  0.950451    2\n",
       "22        Red junglefowl  0.880389    2\n",
       "23                Others       NaN    2\n",
       "24                Cattle  0.439550    3\n",
       "25                  Goat  0.860577    3\n",
       "26  Lesser bandicoot rat  0.991770    3\n",
       "27        Desert warthog  0.930591    3\n",
       "28            Wood mouse  0.708244    3\n",
       "29                 Horse  0.952229    3"
      ]
     },
     "execution_count": 56,
     "metadata": {},
     "output_type": "execute_result"
    }
   ],
   "source": [
    "result_df.head(30)"
   ]
  },
  {
   "cell_type": "code",
   "execution_count": 57,
   "id": "f8e455ec",
   "metadata": {},
   "outputs": [
    {
     "data": {
      "text/html": [
       "<div>\n",
       "<style scoped>\n",
       "    .dataframe tbody tr th:only-of-type {\n",
       "        vertical-align: middle;\n",
       "    }\n",
       "\n",
       "    .dataframe tbody tr th {\n",
       "        vertical-align: top;\n",
       "    }\n",
       "\n",
       "    .dataframe thead th {\n",
       "        text-align: right;\n",
       "    }\n",
       "</style>\n",
       "<table border=\"1\" class=\"dataframe\">\n",
       "  <thead>\n",
       "    <tr style=\"text-align: right;\">\n",
       "      <th></th>\n",
       "      <th>precision</th>\n",
       "      <th>recall</th>\n",
       "      <th>class</th>\n",
       "      <th>itr</th>\n",
       "    </tr>\n",
       "  </thead>\n",
       "  <tbody>\n",
       "    <tr>\n",
       "      <th>0</th>\n",
       "      <td>0.106742</td>\n",
       "      <td>1.000000</td>\n",
       "      <td>Cattle</td>\n",
       "      <td>0</td>\n",
       "    </tr>\n",
       "    <tr>\n",
       "      <th>1</th>\n",
       "      <td>0.104225</td>\n",
       "      <td>0.973684</td>\n",
       "      <td>Cattle</td>\n",
       "      <td>0</td>\n",
       "    </tr>\n",
       "    <tr>\n",
       "      <th>2</th>\n",
       "      <td>0.104520</td>\n",
       "      <td>0.973684</td>\n",
       "      <td>Cattle</td>\n",
       "      <td>0</td>\n",
       "    </tr>\n",
       "    <tr>\n",
       "      <th>3</th>\n",
       "      <td>0.104816</td>\n",
       "      <td>0.973684</td>\n",
       "      <td>Cattle</td>\n",
       "      <td>0</td>\n",
       "    </tr>\n",
       "    <tr>\n",
       "      <th>4</th>\n",
       "      <td>0.105114</td>\n",
       "      <td>0.973684</td>\n",
       "      <td>Cattle</td>\n",
       "      <td>0</td>\n",
       "    </tr>\n",
       "  </tbody>\n",
       "</table>\n",
       "</div>"
      ],
      "text/plain": [
       "   precision    recall   class  itr\n",
       "0   0.106742  1.000000  Cattle    0\n",
       "1   0.104225  0.973684  Cattle    0\n",
       "2   0.104520  0.973684  Cattle    0\n",
       "3   0.104816  0.973684  Cattle    0\n",
       "4   0.105114  0.973684  Cattle    0"
      ]
     },
     "execution_count": 57,
     "metadata": {},
     "output_type": "execute_result"
    }
   ],
   "source": [
    "pr_curves_df.head()"
   ]
  },
  {
   "cell_type": "code",
   "execution_count": 58,
   "id": "46852f74",
   "metadata": {},
   "outputs": [
    {
     "data": {
      "text/plain": [
       "{'Desert warthog': 'Desert warthog (29.69%)',\n",
       " 'Lesser bandicoot rat': 'Lesser bandicoot rat (22.73%)',\n",
       " 'Horse': 'Horse (12.50%)',\n",
       " 'Goat': 'Goat (12.07%)',\n",
       " 'Red junglefowl': 'Red junglefowl (9.52%)',\n",
       " 'Wood mouse': 'Wood mouse (8.10%)',\n",
       " 'Cattle': 'Cattle (5.40%)'}"
      ]
     },
     "execution_count": 58,
     "metadata": {},
     "output_type": "execute_result"
    }
   ],
   "source": [
    "metadata = compute_class_distribution(df_itr, y_true_col, format=True)\n",
    "metadata"
   ]
  },
  {
   "cell_type": "markdown",
   "id": "09330831",
   "metadata": {},
   "source": [
    "#### AUPRC for each class"
   ]
  },
  {
   "cell_type": "code",
   "execution_count": 61,
   "id": "fd4dd4a3",
   "metadata": {},
   "outputs": [
    {
     "data": {
      "text/plain": [
       "(array([0, 1, 2, 3, 4, 5, 6]),\n",
       " [Text(0, 0, 'Desert warthog (29.69%)'),\n",
       "  Text(1, 0, 'Lesser bandicoot rat (22.73%)'),\n",
       "  Text(2, 0, 'Horse (12.50%)'),\n",
       "  Text(3, 0, 'Goat (12.07%)'),\n",
       "  Text(4, 0, 'Red junglefowl (9.52%)'),\n",
       "  Text(5, 0, 'Wood mouse (8.10%)'),\n",
       "  Text(6, 0, 'Cattle (5.40%)')])"
      ]
     },
     "execution_count": 61,
     "metadata": {},
     "output_type": "execute_result"
    },
    {
     "data": {
      "text/plain": [
       "<Figure size 432x288 with 0 Axes>"
      ]
     },
     "metadata": {},
     "output_type": "display_data"
    },
    {
     "data": {
      "image/png": "[encoded data removed]",
      "text/plain": [
       "<Figure size 720x720 with 1 Axes>"
      ]
     },
     "metadata": {},
     "output_type": "display_data"
    }
   ],
   "source": [
    "plt.clf()\n",
    "sns.set_theme()\n",
    "\n",
    "plt.rcParams['xtick.labelsize'] = 10\n",
    "plt.rcParams['figure.autolayout'] = True\n",
    "plt.figure(figsize=(10, 10))\n",
    "ax = sns.boxplot(data=result_df, x=\"class\", y=\"auprc\", order=metadata.keys())\n",
    "ax.set_ylim(0, 1)\n",
    "ax.set_xticklabels([metadata[t.get_text()] for t in ax.get_xticklabels()])\n",
    "plt.tight_layout()\n",
    "plt.xticks(rotation=-90)\n"
   ]
  },
  {
   "cell_type": "markdown",
   "id": "b07a2f8e",
   "metadata": {},
   "source": [
    "#### Precision Recall Curves"
   ]
  },
  {
   "cell_type": "code",
   "execution_count": 62,
   "id": "0bf28fab",
   "metadata": {},
   "outputs": [
    {
     "data": {
      "text/plain": [
       "<Figure size 432x288 with 0 Axes>"
      ]
     },
     "metadata": {},
     "output_type": "display_data"
    },
    {
     "data": {
      "image/png": "[encoded data removed]",
      "text/plain": [
       "<Figure size 864x576 with 1 Axes>"
      ]
     },
     "metadata": {},
     "output_type": "display_data"
    }
   ],
   "source": [
    "plt.clf()\n",
    "sns.set_theme()\n",
    "hue_order = None\n",
    "if metadata is not None:\n",
    "    pr_curves_df_metadata = pr_curves_df.replace({\"class\": metadata})\n",
    "    hue_order = list(metadata.values())\n",
    "plt.figure(figsize=(12,8))\n",
    "ax = sns.lineplot(data=pr_curves_df_metadata, x=\"recall\", y=\"precision\", hue=\"class\", hue_order=hue_order, ci=None)\n",
    "ax.set_ylim(0, 1)\n",
    "plt.rcParams['xtick.labelsize'] = 8\n",
    "plt.legend(bbox_to_anchor=(1.02, 1), loc='upper left', borderaxespad=0)\n",
    "plt.tight_layout()"
   ]
  }
 ],
 "metadata": {
  "kernelspec": {
   "display_name": "Python 3 (ipykernel)",
   "language": "python",
   "name": "python3"
  },
  "language_info": {
   "codemirror_mode": {
    "name": "ipython",
    "version": 3
   },
   "file_extension": ".py",
   "mimetype": "text/x-python",
   "name": "python",
   "nbconvert_exporter": "python",
   "pygments_lexer": "ipython3",
   "version": "3.10.6"
  }
 },
 "nbformat": 4,
 "nbformat_minor": 5
}
