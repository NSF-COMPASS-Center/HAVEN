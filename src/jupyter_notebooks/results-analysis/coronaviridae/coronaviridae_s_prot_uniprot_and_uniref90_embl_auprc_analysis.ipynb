{
 "cells": [
  {
   "cell_type": "markdown",
   "id": "5e2ecf0f",
   "metadata": {},
   "source": [
    "## Results of Host Prediction\n",
    "### Dataset: Coronaviridae S prot UniRef90, EMBL mapping, Vertebrates\n",
    "\n",
    "**Models**: TF - Pretrain  + finetune\n",
    "\n",
    "**Positional Embedding**: Sin-Cos\n",
    "\n",
    "**Maximum Sequence Length**: 1336\n",
    "\n",
    "**Alignment**: Yes, No\n",
    "\n",
    "**Classification**: Multi-class\n",
    "\n",
    "**\\# classes**: 8, 2\n",
    "\n",
    "**\\# train samples** = \n",
    "\n",
    "**\\# validation samples** = \n",
    "\n",
    "**\\# test samples** = \n"
   ]
  },
  {
   "cell_type": "code",
   "execution_count": 1,
   "id": "6cfca147",
   "metadata": {},
   "outputs": [
    {
     "data": {
      "text/plain": [
       "['/home/blessyantony/dev/git/zoonosis/src/jupyter_notebooks/results-analysis/coronaviridae',\n",
       " '/opt/conda/lib/python38.zip',\n",
       " '/opt/conda/lib/python3.8',\n",
       " '/opt/conda/lib/python3.8/lib-dynload',\n",
       " '',\n",
       " '/home/blessyantony/.local/lib/python3.8/site-packages',\n",
       " '/opt/conda/lib/python3.8/site-packages',\n",
       " '/opt/conda/lib/python3.8/site-packages/IPython/extensions',\n",
       " '/home/blessyantony/.ipython',\n",
       " '/home/blessyantony/dev/git/zoonosis/src/jupyter_notebooks/results-analysis/coronaviridae/../../../../..',\n",
       " '/home/blessyantony/dev/git/zoonosis/src/jupyter_notebooks/results-analysis/coronaviridae/../../../..',\n",
       " '/home/blessyantony/dev/git/zoonosis/src/jupyter_notebooks/results-analysis/coronaviridae/../../..',\n",
       " '/home/blessyantony/dev/git/zoonosis/src/jupyter_notebooks/results-analysis/coronaviridae/../..']"
      ]
     },
     "execution_count": 1,
     "metadata": {},
     "output_type": "execute_result"
    }
   ],
   "source": [
    "import sys\n",
    "import os\n",
    "sys.path.append(os.path.join(os.getcwd(), \"..\", \"..\", \"..\", \"..\", \"..\"))\n",
    "sys.path.append(os.path.join(os.getcwd(), \"..\", \"..\", \"..\", \"..\"))\n",
    "sys.path.append(os.path.join(os.getcwd(), \"..\", \"..\", \"..\"))\n",
    "sys.path.append(os.path.join(os.getcwd(), \"..\", \"..\"))\n",
    "sys.path"
   ]
  },
  {
   "cell_type": "code",
   "execution_count": 2,
   "id": "74e54a92",
   "metadata": {},
   "outputs": [
    {
     "name": "stdout",
     "output_type": "stream",
     "text": [
      "Defaulting to user installation because normal site-packages is not writeable\n",
      "\u001b[33mWARNING: Ignoring invalid distribution -eaborn (/home/blessyantony/.local/lib/python3.8/site-packages)\u001b[0m\n",
      "\u001b[33mWARNING: Ignoring invalid distribution -eaborn (/home/blessyantony/.local/lib/python3.8/site-packages)\u001b[0m\n",
      "Looking in indexes: https://pypi.org/simple, https://pypi.ngc.nvidia.com\n",
      "Requirement already satisfied: seaborn==0.13.0 in /home/blessyantony/.local/lib/python3.8/site-packages (0.13.0)\n",
      "Requirement already satisfied: numpy!=1.24.0,>=1.20 in /opt/conda/lib/python3.8/site-packages (from seaborn==0.13.0) (1.21.4)\n",
      "Requirement already satisfied: matplotlib!=3.6.1,>=3.3 in /home/blessyantony/.local/lib/python3.8/site-packages (from seaborn==0.13.0) (3.5.3)\n",
      "Requirement already satisfied: pandas>=1.2 in /opt/conda/lib/python3.8/site-packages (from seaborn==0.13.0) (1.3.4)\n",
      "Requirement already satisfied: packaging>=20.0 in /opt/conda/lib/python3.8/site-packages (from matplotlib!=3.6.1,>=3.3->seaborn==0.13.0) (21.3)\n",
      "Requirement already satisfied: python-dateutil>=2.7 in /opt/conda/lib/python3.8/site-packages (from matplotlib!=3.6.1,>=3.3->seaborn==0.13.0) (2.8.2)\n",
      "Requirement already satisfied: pyparsing>=2.2.1 in /opt/conda/lib/python3.8/site-packages (from matplotlib!=3.6.1,>=3.3->seaborn==0.13.0) (3.0.6)\n",
      "Requirement already satisfied: pillow>=6.2.0 in /opt/conda/lib/python3.8/site-packages (from matplotlib!=3.6.1,>=3.3->seaborn==0.13.0) (8.2.0)\n",
      "Requirement already satisfied: cycler>=0.10 in /opt/conda/lib/python3.8/site-packages (from matplotlib!=3.6.1,>=3.3->seaborn==0.13.0) (0.11.0)\n",
      "Requirement already satisfied: kiwisolver>=1.0.1 in /opt/conda/lib/python3.8/site-packages (from matplotlib!=3.6.1,>=3.3->seaborn==0.13.0) (1.3.2)\n",
      "Requirement already satisfied: fonttools>=4.22.0 in /opt/conda/lib/python3.8/site-packages (from matplotlib!=3.6.1,>=3.3->seaborn==0.13.0) (4.28.2)\n",
      "Requirement already satisfied: pytz>=2017.3 in /opt/conda/lib/python3.8/site-packages (from pandas>=1.2->seaborn==0.13.0) (2021.3)\n",
      "Requirement already satisfied: six>=1.5 in /opt/conda/lib/python3.8/site-packages (from python-dateutil>=2.7->matplotlib!=3.6.1,>=3.3->seaborn==0.13.0) (1.16.0)\n",
      "\u001b[33mWARNING: Ignoring invalid distribution -eaborn (/home/blessyantony/.local/lib/python3.8/site-packages)\u001b[0m\n",
      "\u001b[33mWARNING: Ignoring invalid distribution -eaborn (/home/blessyantony/.local/lib/python3.8/site-packages)\u001b[0m\n",
      "\u001b[33mWARNING: Ignoring invalid distribution -eaborn (/home/blessyantony/.local/lib/python3.8/site-packages)\u001b[0m\n",
      "\u001b[33mWARNING: Ignoring invalid distribution -eaborn (/home/blessyantony/.local/lib/python3.8/site-packages)\u001b[0m\n"
     ]
    }
   ],
   "source": [
    "! pip install seaborn==0.13.0"
   ]
  },
  {
   "cell_type": "code",
   "execution_count": 3,
   "id": "22cbf7ce",
   "metadata": {
    "scrolled": true
   },
   "outputs": [],
   "source": [
    "import pandas as pd\n",
    "import os\n",
    "import numpy as np\n",
    "import seaborn as sns\n",
    "import matplotlib.pyplot as plt\n",
    "from pathlib import Path\n",
    "\n",
    "from src.utils import utils, evaluation_utils, visualization_utils\n",
    "from sklearn.metrics import auc, precision_recall_curve\n",
    "from statistics import mean"
   ]
  },
  {
   "cell_type": "code",
   "execution_count": 4,
   "id": "06ca7b78",
   "metadata": {},
   "outputs": [
    {
     "data": {
      "text/plain": [
       "'0.13.0'"
      ]
     },
     "execution_count": 4,
     "metadata": {},
     "output_type": "execute_result"
    }
   ],
   "source": [
    "sns.__version__"
   ]
  },
  {
   "cell_type": "code",
   "execution_count": 5,
   "id": "e1e184b3",
   "metadata": {
    "scrolled": true
   },
   "outputs": [],
   "source": [
    "itr_col = \"itr\"\n",
    "experiment_col = \"experiment\"\n",
    "y_true_col = \"y_true\"\n",
    "human_col = \"Human\"\n",
    "\n",
    "def class_wise_auprc_analysis(output_filepaths, classes, figure_output_filepath=None):\n",
    "    auprc_results = []\n",
    "    classes = None\n",
    "    for model, output_filepath in output_filepaths.items():\n",
    "        df = pd.read_csv(output_filepath, index_col=0)\n",
    "        print(f\"Read output {model} = {df.shape}\")\n",
    "        \n",
    "        cols = df.columns\n",
    "        classes = list(set(cols) - set([itr_col, experiment_col, y_true_col]))\n",
    "        itrs = df[itr_col].unique()\n",
    "    \n",
    "        for itr in itrs:\n",
    "            df_itr = df[df[itr_col] == itr]\n",
    "            _, auprcs_df = evaluation_utils.compute_class_auprc(df_itr, y_pred_columns=classes, y_true_col=y_true_col)\n",
    "            auprcs_df = auprcs_df.append({\"class\": \"Macro-AUPRC\", \"auprc\": auprcs_df[\"auprc\"].mean()}, ignore_index=True)\n",
    "            auprcs_df[\"model\"] = model\n",
    "            auprcs_df[\"itr\"] = itr\n",
    "            auprc_results.append(auprcs_df)\n",
    "    metadata = utils.compute_class_distribution(df_itr, y_true_col, format=False)\n",
    "    metadata_formatted = utils.compute_class_distribution(df_itr, y_true_col, format=True)\n",
    "    metadata_sorted = {}\n",
    "    for k, v in metadata.items():\n",
    "        metadata_sorted[metadata_formatted[k]] = v\n",
    "    #metadata_sorted[\"Macro-AUPRC\"] = 0\n",
    "    auprc_results_df = pd.concat(auprc_results, ignore_index=True)\n",
    "    auprc_results_df.replace({\"class\": metadata_formatted}, inplace=True)\n",
    "    \n",
    "\n",
    "    plt.rcParams['xtick.labelsize'] = 18\n",
    "    plt.rcParams['ytick.labelsize'] = 18\n",
    "    plt.rcParams.update({'font.size': 18})\n",
    "    fig, axs = plt.subplots(1, 2, figsize=(16, 8), sharex=False, sharey=True, gridspec_kw={\"width_ratios\": [1, 4]})\n",
    "    color_palette = sns.cubehelix_palette(start=1, rot=-.9, hue=1, dark=.35, light=.85, n_colors=auprc_results_df[\"model\"].nunique())\n",
    "    color_palette_green = sns.cubehelix_palette(start=2, light=0.8, rot=1, dark=.9, n_colors=auprc_results_df[\"model\"].nunique())\n",
    "\n",
    "    print(auprc_results_df[auprc_results_df[\"class\"].isin(metadata_formatted.values())].shape)\n",
    "    print(auprc_results_df[auprc_results_df[\"class\"] == \"Macro-AUPRC\"].shape)\n",
    "    sns.barplot(data=auprc_results_df[auprc_results_df[\"class\"] == \"Macro-AUPRC\"], x=\"class\", y=\"auprc\", hue=\"model\", fill=True,\n",
    "                orient=\"v\", palette=color_palette, ax=axs[0],\n",
    "                 errorbar=None, linewidth=1.5, edgecolor=\"0\", legend=False)\n",
    "#     sns.violinplot(data=auprc_results_df[auprc_results_df[\"class\"] == \"Macro-AUPRC\"], x=\"class\", y=\"auprc\", hue=\"model\", fill=True,\n",
    "#                 orient=\"v\", palette=color_palette, legend=False, ax=axs[0])\n",
    "    for i in axs[0].containers:\n",
    "        axs[0].bar_label(i, fontsize=18, fmt=\"%.2f\")\n",
    "    sns.barplot(data=auprc_results_df[auprc_results_df[\"class\"].isin(metadata_formatted.values())], x=\"class\", y=\"auprc\", hue=\"model\", orient=\"v\", order=metadata_sorted, palette=color_palette, ax=axs[1])\n",
    "    #sns.violinplot(data=auprc_results_df[auprc_results_df[\"class\"].isin(metadata_formatted.values())], x=\"class\", y=\"auprc\", hue=\"model\", orient=\"v\", order=metadata_sorted, palette=color_palette, ax=axs[1], legend=\"auto\")\n",
    "    plt.draw()\n",
    "    \n",
    "    axs[0].set_ylim(0.2, 1)\n",
    "    axs[1].set_ylim(0.2, 1)\n",
    "    axs[0].set_ylabel(\"AUPRC\", size=20)\n",
    "    axs[0].set_xlabel(\"\", size=20, labelpad=0)\n",
    "    axs[1].set_xlabel(\"\", size=20, labelpad=0)\n",
    "    sns.move_legend(axs[1], \"lower center\", bbox_to_anchor=(.45, 1), ncol=5, title=None, frameon=False)\n",
    "    plt.setp(axs[1].get_legend().get_texts(), fontsize=20)\n",
    "    visualization_utils.wrap_ticklabels(axs[0], axis=\"x\")\n",
    "    visualization_utils.wrap_ticklabels(axs[1], axis=\"x\")\n",
    "    \n",
    "    plt.subplots_adjust(wspace=0.05)\n",
    "    #plt.tight_layout()\n",
    "    visualization_utils.view(figure_output_filepath)\n",
    "    plt.show()\n",
    "    return auprc_results_df"
   ]
  },
  {
   "cell_type": "markdown",
   "id": "70a489c0-94a3-4223-bc78-784b8e0f60db",
   "metadata": {},
   "source": [
    "\n",
    "### UniProt"
   ]
  },
  {
   "cell_type": "code",
   "execution_count": 11,
   "id": "859cd0d2",
   "metadata": {},
   "outputs": [],
   "source": [
    "file_paths = {\n",
    "    #\"ProteinBERT\": os.path.join(os.getcwd(), \"..\",\"..\", \"..\", \"..\", \"output/raw/coronaviridae_s_prot_uniprot_embl_vertebrates_t0.01_c8/20240902/host_multi/proteinbert/uniprot_cov_s_prot_embl_hosts/finetune_prediction_results_20240902_224530.csv\"),\n",
    "    \"ProstT5\": os.path.join(os.getcwd(), \"..\",\"..\", \"..\", \"..\", \"output/raw/coronaviridae_s_prot_uniprot_embl_vertebrates_t0.01_c8/20241114/host_multi/external/uniprot_coronaviridae_prostt5_msl2048_bn_fnn_2l_d1024_lr3e-4_output.csv\"),\n",
    "    \n",
    "    #\"ProteinBERT-2048\": os.path.join(os.getcwd(), \"..\",\"..\", \"..\", \"..\", \"output/raw/coronaviridae_s_prot_uniprot_embl_vertebrates_t0.01_c8/20240902/host_multi/proteinbert/uniprot_cov_s_prot_embl_hosts/finetune_prediction_results_20240903_132840.csv\"),\n",
    "    #\"VirProBERT-1366\": os.path.join(os.getcwd(), \"..\",\"..\", \"..\", \"..\", \"output/raw/coronaviridae_s_prot_uniprot_embl_vertebrates_t0.01_c8/20240326/fine_tuning/host_prediction/multi/mlm_tfenc_l6_h8_lr1e-4_uniprot_coronaviridae_s_msl1366_host_prediction_fnn_2l_d1024_lr1e-4_output.csv\"),\n",
    "    #\"Hybrid-sl256st64\": os.path.join(os.getcwd(), \"..\",\"..\", \"..\", \"..\", \"output/raw/coronaviridae_s_prot_uniprot_embl_vertebrates_t0.01_c8/20240828/host_multi/fine_tuning_hybrid/mlm_tfenc_l6_h8_lr1e-4_uniref90viridae_msl256b512_ae_bn_vs30_s64_hybrid_attention_s64_fnn_2l_d1024_lr1e-4_output.csv\"),\n",
    "    #\"Hybrid-sl256st64-CLS\": os.path.join(os.getcwd(), \"..\",\"..\", \"..\", \"..\", \"output/raw/coronaviridae_s_prot_uniprot_embl_vertebrates_t0.01_c8/20240828/host_multi/fine_tuning_hybrid_cls/mlm_tfenc_l6_h8_lr1e-4_uniref90viridae_msl256b512_ae_bn_vs30cls_s64_hybrid_attention_s64_fnn_2l_d1024_lr1e-4_output.csv\"),\n",
    "    \"ESM2\": os.path.join(os.getcwd(), \"..\",\"..\", \"..\", \"..\", \"output/raw/coronaviridae_s_prot_uniprot_embl_vertebrates_t0.01_c8/20241118/host_multi/external/uniprot_coronaviridae_esm2_msl2048_bn_fnn_2l_d1024_lr1e-4_output.csv\"),\n",
    "    \"ESM3\": os.path.join(os.getcwd(), \"..\",\"..\", \"..\", \"..\", \"output/raw/coronaviridae_s_prot_uniprot_embl_vertebrates_t0.01_c8/20241204/host_multi/external/uniprot_coronaviridae_esm3_bn_fnn_2l_d1024_lr1e-4_output.csv\"),\n",
    "    \"VirProBERT\": os.path.join(os.getcwd(), \"..\",\"..\", \"..\", \"..\", \"output/raw/coronaviridae_s_prot_uniprot_embl_vertebrates_t0.01_c8/20240828/host_multi/fine_tuning_hybrid_cls/mlm_tfenc_l6_h8_lr1e-4_uniref90viridae_msl256b512_ae_bn_vs30cls_s64_hybrid_attention_s64_fnn_2l_d1024_lr1e-4_output.csv\"),\n",
    "#     \"VirProBERT1e-4\": os.path.join(os.getcwd(), \"..\",\"..\", \"..\", \"..\", \"output/raw/coronaviridae_s_prot_uniprot_embl_vertebrates_t0.01_c8/20240828/host_multi/fine_tuning_hybrid_cls/mlm_tfenc_l6_h8_lr1e-4_uniref90viridae_msl256b512_ae_bn_vs30cls_s64_hybrid_attention_s64_fnn_2l_d1024_lr1e-4_output.csv\"),\n",
    "#     \"VirProBERT1e-5\": os.path.join(os.getcwd(), \"..\",\"..\", \"..\", \"..\", \"output/raw/coronaviridae_s_prot_uniprot_embl_vertebrates_t0.01_c8/20240909/host_multi/fine_tuning_hybrid_cls/mlm_tfenc_l6_h8_lr1e-4_uniref90viridae_vs30_hybrid_attention_msl256s64ae_bn_cls_fnn_2l_d1024_lr1e-5_output.csv\"),\n",
    "#     \"VirProBERT3e-4\": os.path.join(os.getcwd(), \"..\",\"..\", \"..\", \"..\", \"output/raw/coronaviridae_s_prot_uniprot_embl_vertebrates_t0.01_c8/20241117/host_multi/virprobert/mlm_tfenc_l6_h8_lr1e-4_uniref90viridae_vs30_hybrid_attention_msl256s64ae_bn_cls_fnn_2l_d1024_lr3e-4_output.csv\"),\n",
    "    \n",
    "}\n",
    "\n",
    "\n",
    "classes = [\"Pig\", \"Human\", \"Cat\", \"Dromedary camel\", \"Cattle\", \"Chicken\", \"Gray wolf\", \"Yak\"]"
   ]
  },
  {
   "cell_type": "code",
   "execution_count": null,
   "id": "a8d7b7e7",
   "metadata": {},
   "outputs": [],
   "source": []
  },
  {
   "cell_type": "code",
   "execution_count": 12,
   "id": "0266efe5-b098-4ab6-9266-0646c049d47d",
   "metadata": {
    "scrolled": false
   },
   "outputs": [
    {
     "name": "stdout",
     "output_type": "stream",
     "text": [
      "Read output ProstT5 = (1785, 10)\n",
      "Read output ESM2 = (1785, 10)\n",
      "Read output ESM3 = (1785, 10)\n",
      "Read output VirProBERT = (1785, 10)\n",
      "(160, 4)\n",
      "(20, 4)\n"
     ]
    },
    {
     "name": "stderr",
     "output_type": "stream",
     "text": [
      "/home/blessyantony/dev/git/zoonosis/src/jupyter_notebooks/results-analysis/coronaviridae/../../../../src/utils/visualization_utils.py:119: UserWarning: FixedFormatter should only be used together with FixedLocator\n",
      "  ax.set_xticklabels(wrapped_labels, rotation=0)\n"
     ]
    },
    {
     "data": {
      "image/png": "[encoded data removed]",
      "text/plain": [
       "<Figure size 1152x576 with 2 Axes>"
      ]
     },
     "metadata": {
      "needs_background": "light"
     },
     "output_type": "display_data"
    },
    {
     "data": {
      "text/html": [
       "<div>\n",
       "<style scoped>\n",
       "    .dataframe tbody tr th:only-of-type {\n",
       "        vertical-align: middle;\n",
       "    }\n",
       "\n",
       "    .dataframe tbody tr th {\n",
       "        vertical-align: top;\n",
       "    }\n",
       "\n",
       "    .dataframe thead th {\n",
       "        text-align: right;\n",
       "    }\n",
       "</style>\n",
       "<table border=\"1\" class=\"dataframe\">\n",
       "  <thead>\n",
       "    <tr style=\"text-align: right;\">\n",
       "      <th></th>\n",
       "      <th>class</th>\n",
       "      <th>auprc</th>\n",
       "      <th>model</th>\n",
       "      <th>itr</th>\n",
       "    </tr>\n",
       "  </thead>\n",
       "  <tbody>\n",
       "    <tr>\n",
       "      <th>0</th>\n",
       "      <td>Pig (45.38%)</td>\n",
       "      <td>0.996679</td>\n",
       "      <td>ProstT5</td>\n",
       "      <td>0</td>\n",
       "    </tr>\n",
       "    <tr>\n",
       "      <th>1</th>\n",
       "      <td>Dromedary camel (3.08%)</td>\n",
       "      <td>0.377771</td>\n",
       "      <td>ProstT5</td>\n",
       "      <td>0</td>\n",
       "    </tr>\n",
       "    <tr>\n",
       "      <th>2</th>\n",
       "      <td>Gray wolf (1.40%)</td>\n",
       "      <td>0.812698</td>\n",
       "      <td>ProstT5</td>\n",
       "      <td>0</td>\n",
       "    </tr>\n",
       "    <tr>\n",
       "      <th>3</th>\n",
       "      <td>Chicken (1.96%)</td>\n",
       "      <td>1.000000</td>\n",
       "      <td>ProstT5</td>\n",
       "      <td>0</td>\n",
       "    </tr>\n",
       "    <tr>\n",
       "      <th>4</th>\n",
       "      <td>Cat (2.80%)</td>\n",
       "      <td>0.985431</td>\n",
       "      <td>ProstT5</td>\n",
       "      <td>0</td>\n",
       "    </tr>\n",
       "    <tr>\n",
       "      <th>...</th>\n",
       "      <td>...</td>\n",
       "      <td>...</td>\n",
       "      <td>...</td>\n",
       "      <td>...</td>\n",
       "    </tr>\n",
       "    <tr>\n",
       "      <th>175</th>\n",
       "      <td>Cat (2.80%)</td>\n",
       "      <td>0.902710</td>\n",
       "      <td>VirProBERT</td>\n",
       "      <td>4</td>\n",
       "    </tr>\n",
       "    <tr>\n",
       "      <th>176</th>\n",
       "      <td>Cattle (2.24%)</td>\n",
       "      <td>1.000000</td>\n",
       "      <td>VirProBERT</td>\n",
       "      <td>4</td>\n",
       "    </tr>\n",
       "    <tr>\n",
       "      <th>177</th>\n",
       "      <td>Yak (1.40%)</td>\n",
       "      <td>1.000000</td>\n",
       "      <td>VirProBERT</td>\n",
       "      <td>4</td>\n",
       "    </tr>\n",
       "    <tr>\n",
       "      <th>178</th>\n",
       "      <td>Human (41.74%)</td>\n",
       "      <td>0.997157</td>\n",
       "      <td>VirProBERT</td>\n",
       "      <td>4</td>\n",
       "    </tr>\n",
       "    <tr>\n",
       "      <th>179</th>\n",
       "      <td>Macro-AUPRC</td>\n",
       "      <td>0.914845</td>\n",
       "      <td>VirProBERT</td>\n",
       "      <td>4</td>\n",
       "    </tr>\n",
       "  </tbody>\n",
       "</table>\n",
       "<p>180 rows × 4 columns</p>\n",
       "</div>"
      ],
      "text/plain": [
       "                       class     auprc       model  itr\n",
       "0               Pig (45.38%)  0.996679     ProstT5    0\n",
       "1    Dromedary camel (3.08%)  0.377771     ProstT5    0\n",
       "2          Gray wolf (1.40%)  0.812698     ProstT5    0\n",
       "3            Chicken (1.96%)  1.000000     ProstT5    0\n",
       "4                Cat (2.80%)  0.985431     ProstT5    0\n",
       "..                       ...       ...         ...  ...\n",
       "175              Cat (2.80%)  0.902710  VirProBERT    4\n",
       "176           Cattle (2.24%)  1.000000  VirProBERT    4\n",
       "177              Yak (1.40%)  1.000000  VirProBERT    4\n",
       "178           Human (41.74%)  0.997157  VirProBERT    4\n",
       "179              Macro-AUPRC  0.914845  VirProBERT    4\n",
       "\n",
       "[180 rows x 4 columns]"
      ]
     },
     "execution_count": 12,
     "metadata": {},
     "output_type": "execute_result"
    }
   ],
   "source": [
    "class_wise_auprc_analysis(file_paths, classes, \n",
    "                          figure_output_filepath=os.path.join(os.getcwd(), \"..\", \"..\", \"..\", \"..\", f\"output/visualization/temp_new/host_multi_cov_s_uniprot_auprc_barplot.pdf\"))"
   ]
  },
  {
   "cell_type": "markdown",
   "id": "fcf67c90-0910-434e-abd5-d5a3b89cb942",
   "metadata": {},
   "source": [
    "### UniRef90"
   ]
  },
  {
   "cell_type": "code",
   "execution_count": 13,
   "id": "91d9b3ca-19a8-48fa-8798-a20a1fedb5cb",
   "metadata": {},
   "outputs": [],
   "source": [
    "\n",
    "file_paths = {\n",
    "    #\"ProteinBERT\": os.path.join(os.getcwd(), \"..\",\"..\", \"..\", \"..\", \"output/raw/coronaviridae_s_prot_uniref90_embl_vertebrates_t0.01_c8/20240902/host_multi/proteinbert/uniref90_cov_s_prot_embl_hosts/finetune_prediction_results_20240902_222843.csv\"),\n",
    "    \"ProstT5\": os.path.join(os.getcwd(), \"..\",\"..\", \"..\", \"..\", \"output/raw/coronaviridae_s_prot_uniref90_embl_vertebrates_t0.01_c8/20241114/host_multi/external/uniref90coronaviridae_prostt5_msl2048_bn_fnn_2l_d1024_lr3e-4_output.csv\"),\n",
    "    \"ESM2\": os.path.join(os.getcwd(), \"..\",\"..\", \"..\", \"..\", \"output/raw/coronaviridae_s_prot_uniref90_embl_vertebrates_t0.01_c8/20241118/host_multi/external/uniref90coronaviridae_esm2_msl2048_bn_fnn_2l_d1024_lr1e-4_output.csv\"),\n",
    "    \"ESM3\": os.path.join(os.getcwd(), \"..\",\"..\", \"..\", \"..\", \"output/raw/coronaviridae_s_prot_uniref90_embl_vertebrates_t0.01_c8/20241204/host_multi/external/uniref90coronaviridae_esm3_bn_fnn_2l_d1024_lr1e-4_output.csv\"),\n",
    "    #\"ProteinBERT-2048\": os.path.join(os.getcwd(), \"..\",\"..\", \"..\", \"..\", \"output/raw/coronaviridae_s_prot_uniref90_embl_vertebrates_t0.01_c8/20240902/host_multi/proteinbert/uniref90_cov_s_prot_embl_hosts/finetune_prediction_results_20240903_140312.csv\"),\n",
    "    #\"VirProBERT-1366\": os.path.join(os.getcwd(), \"..\",\"..\", \"..\", \"..\", \"output/raw/coronaviridae_s_prot_uniref90_embl_vertebrates_t0.01_c8/20240320/fine_tuning/host_prediction/multi/mlm_tfenc_l6_h8_lr1e-4_uniref90_coronaviridae_s_msl1366_host_prediction_fnn_2l_d1024_lr1e-4_output.csv\"),\n",
    "    #\"Hybrid-sl256st64\": os.path.join(os.getcwd(), \"..\",\"..\", \"..\", \"..\", \"output/raw/coronaviridae_s_prot_uniref90_embl_vertebrates_t0.01_c8/20240828/host_multi/fine_tuning_hybrid/mlm_tfenc_l6_h8_lr1e-4_uniref90viridae_msl256b512_ae_bn_vs30_s64_hybrid_attention_s64_fnn_2l_d1024_lr1e-4_output.csv\"),\n",
    "    #\"Hybrid-sl256st64-CLS\": os.path.join(os.getcwd(), \"..\",\"..\", \"..\", \"..\", \"output/raw/coronaviridae_s_prot_uniref90_embl_vertebrates_t0.01_c8/20240828/host_multi/fine_tuning_hybrid_cls/mlm_tfenc_l6_h8_lr1e-4_uniref90viridae_msl256b512_ae_bn_vs30cls_s64_hybrid_attention_s64_fnn_2l_d1024_lr1e-4_output.csv\"),\n",
    "    \"VirProBERT\": os.path.join(os.getcwd(), \"..\",\"..\", \"..\", \"..\", \"output/raw/coronaviridae_s_prot_uniref90_embl_vertebrates_t0.01_c8/20240828/host_multi/fine_tuning_hybrid_cls/mlm_tfenc_l6_h8_lr1e-4_uniref90viridae_msl256b512_ae_bn_vs30cls_s64_hybrid_attention_s64_fnn_2l_d1024_lr1e-4_output.csv\"),\n",
    "#     \"VirProBERT1e-4\": os.path.join(os.getcwd(), \"..\",\"..\", \"..\", \"..\", \"output/raw/coronaviridae_s_prot_uniref90_embl_vertebrates_t0.01_c8/20240828/host_multi/fine_tuning_hybrid_cls/mlm_tfenc_l6_h8_lr1e-4_uniref90viridae_msl256b512_ae_bn_vs30cls_s64_hybrid_attention_s64_fnn_2l_d1024_lr1e-4_output.csv\"),\n",
    "#     \"VirProBERT1e-5\": os.path.join(os.getcwd(), \"..\",\"..\", \"..\", \"..\", \"output/raw/coronaviridae_s_prot_uniref90_embl_vertebrates_t0.01_c8/20240909/host_multi/fine_tuning_hybrid_cls/mlm_tfenc_l6_h8_lr1e-4_uniref90viridae_vs30_hybrid_attention_msl256s64ae_bn_cls_fnn_2l_d1024_lr1e-5_output.csv\"),\n",
    "#     \"VirProBERT3e-4\": os.path.join(os.getcwd(), \"..\",\"..\", \"..\", \"..\", \"output/raw/coronaviridae_s_prot_uniref90_embl_vertebrates_t0.01_c8/20241117/host_multi/virprobert/mlm_tfenc_l6_h8_lr1e-4_uniref90viridae_vs30_hybrid_attention_msl256s64ae_bn_cls_fnn_2l_d1024_lr3e-4_output.csv\"),\n",
    "}\n",
    "\n",
    "classes = [\"Chicken\", \"Human\", \"Cat\", \"Pig\", \"Gray wolf\", \"Horshoe bat\", \"Ferret\", \"Chinese rufous horseshoe bat\"]"
   ]
  },
  {
   "cell_type": "code",
   "execution_count": 14,
   "id": "bbd57110-dea2-436d-a422-30773cb4a8b4",
   "metadata": {
    "scrolled": false
   },
   "outputs": [
    {
     "name": "stdout",
     "output_type": "stream",
     "text": [
      "Read output ProstT5 = (345, 10)\n",
      "Read output ESM2 = (345, 10)\n",
      "Read output ESM3 = (345, 10)\n",
      "Read output VirProBERT = (345, 10)\n",
      "(160, 4)\n",
      "(20, 4)\n"
     ]
    },
    {
     "name": "stderr",
     "output_type": "stream",
     "text": [
      "/home/blessyantony/dev/git/zoonosis/src/jupyter_notebooks/results-analysis/coronaviridae/../../../../src/utils/visualization_utils.py:119: UserWarning: FixedFormatter should only be used together with FixedLocator\n",
      "  ax.set_xticklabels(wrapped_labels, rotation=0)\n"
     ]
    },
    {
     "data": {
      "image/png": "[encoded data removed]",
      "text/plain": [
       "<Figure size 1152x576 with 2 Axes>"
      ]
     },
     "metadata": {
      "needs_background": "light"
     },
     "output_type": "display_data"
    },
    {
     "data": {
      "text/html": [
       "<div>\n",
       "<style scoped>\n",
       "    .dataframe tbody tr th:only-of-type {\n",
       "        vertical-align: middle;\n",
       "    }\n",
       "\n",
       "    .dataframe tbody tr th {\n",
       "        vertical-align: top;\n",
       "    }\n",
       "\n",
       "    .dataframe thead th {\n",
       "        text-align: right;\n",
       "    }\n",
       "</style>\n",
       "<table border=\"1\" class=\"dataframe\">\n",
       "  <thead>\n",
       "    <tr style=\"text-align: right;\">\n",
       "      <th></th>\n",
       "      <th>class</th>\n",
       "      <th>auprc</th>\n",
       "      <th>model</th>\n",
       "      <th>itr</th>\n",
       "    </tr>\n",
       "  </thead>\n",
       "  <tbody>\n",
       "    <tr>\n",
       "      <th>0</th>\n",
       "      <td>Horshoe bat (1.45%)</td>\n",
       "      <td>1.000000</td>\n",
       "      <td>ProstT5</td>\n",
       "      <td>0</td>\n",
       "    </tr>\n",
       "    <tr>\n",
       "      <th>1</th>\n",
       "      <td>Pig (7.25%)</td>\n",
       "      <td>0.851307</td>\n",
       "      <td>ProstT5</td>\n",
       "      <td>0</td>\n",
       "    </tr>\n",
       "    <tr>\n",
       "      <th>2</th>\n",
       "      <td>Gray wolf (4.35%)</td>\n",
       "      <td>0.569444</td>\n",
       "      <td>ProstT5</td>\n",
       "      <td>0</td>\n",
       "    </tr>\n",
       "    <tr>\n",
       "      <th>3</th>\n",
       "      <td>Chicken (49.28%)</td>\n",
       "      <td>1.000000</td>\n",
       "      <td>ProstT5</td>\n",
       "      <td>0</td>\n",
       "    </tr>\n",
       "    <tr>\n",
       "      <th>4</th>\n",
       "      <td>Cat (10.14%)</td>\n",
       "      <td>1.000000</td>\n",
       "      <td>ProstT5</td>\n",
       "      <td>0</td>\n",
       "    </tr>\n",
       "    <tr>\n",
       "      <th>...</th>\n",
       "      <td>...</td>\n",
       "      <td>...</td>\n",
       "      <td>...</td>\n",
       "      <td>...</td>\n",
       "    </tr>\n",
       "    <tr>\n",
       "      <th>175</th>\n",
       "      <td>Cat (10.14%)</td>\n",
       "      <td>1.000000</td>\n",
       "      <td>VirProBERT</td>\n",
       "      <td>4</td>\n",
       "    </tr>\n",
       "    <tr>\n",
       "      <th>176</th>\n",
       "      <td>Chinese rufous horseshoe bat (1.45%)</td>\n",
       "      <td>1.000000</td>\n",
       "      <td>VirProBERT</td>\n",
       "      <td>4</td>\n",
       "    </tr>\n",
       "    <tr>\n",
       "      <th>177</th>\n",
       "      <td>Human (24.64%)</td>\n",
       "      <td>1.000000</td>\n",
       "      <td>VirProBERT</td>\n",
       "      <td>4</td>\n",
       "    </tr>\n",
       "    <tr>\n",
       "      <th>178</th>\n",
       "      <td>Ferret (1.45%)</td>\n",
       "      <td>1.000000</td>\n",
       "      <td>VirProBERT</td>\n",
       "      <td>4</td>\n",
       "    </tr>\n",
       "    <tr>\n",
       "      <th>179</th>\n",
       "      <td>Macro-AUPRC</td>\n",
       "      <td>1.000000</td>\n",
       "      <td>VirProBERT</td>\n",
       "      <td>4</td>\n",
       "    </tr>\n",
       "  </tbody>\n",
       "</table>\n",
       "<p>180 rows × 4 columns</p>\n",
       "</div>"
      ],
      "text/plain": [
       "                                    class     auprc       model  itr\n",
       "0                     Horshoe bat (1.45%)  1.000000     ProstT5    0\n",
       "1                             Pig (7.25%)  0.851307     ProstT5    0\n",
       "2                       Gray wolf (4.35%)  0.569444     ProstT5    0\n",
       "3                        Chicken (49.28%)  1.000000     ProstT5    0\n",
       "4                            Cat (10.14%)  1.000000     ProstT5    0\n",
       "..                                    ...       ...         ...  ...\n",
       "175                          Cat (10.14%)  1.000000  VirProBERT    4\n",
       "176  Chinese rufous horseshoe bat (1.45%)  1.000000  VirProBERT    4\n",
       "177                        Human (24.64%)  1.000000  VirProBERT    4\n",
       "178                        Ferret (1.45%)  1.000000  VirProBERT    4\n",
       "179                           Macro-AUPRC  1.000000  VirProBERT    4\n",
       "\n",
       "[180 rows x 4 columns]"
      ]
     },
     "execution_count": 14,
     "metadata": {},
     "output_type": "execute_result"
    }
   ],
   "source": [
    "class_wise_auprc_analysis(file_paths, classes,\n",
    "                         figure_output_filepath=os.path.join(os.getcwd(), \"..\", \"..\", \"..\", \"..\", f\"output/visualization/temp_new/host_multi_cov_s_uniref90_auprc_barplot.pdf\"))"
   ]
  },
  {
   "cell_type": "code",
   "execution_count": null,
   "id": "f59b5d4f",
   "metadata": {},
   "outputs": [],
   "source": []
  },
  {
   "cell_type": "code",
   "execution_count": null,
   "id": "fd2a8d97",
   "metadata": {},
   "outputs": [],
   "source": []
  }
 ],
 "metadata": {
  "kernelspec": {
   "display_name": "Python 3 (ipykernel)",
   "language": "python",
   "name": "python3"
  },
  "language_info": {
   "codemirror_mode": {
    "name": "ipython",
    "version": 3
   },
   "file_extension": ".py",
   "mimetype": "text/x-python",
   "name": "python",
   "nbconvert_exporter": "python",
   "pygments_lexer": "ipython3",
   "version": "3.8.12"
  }
 },
 "nbformat": 4,
 "nbformat_minor": 5
}
