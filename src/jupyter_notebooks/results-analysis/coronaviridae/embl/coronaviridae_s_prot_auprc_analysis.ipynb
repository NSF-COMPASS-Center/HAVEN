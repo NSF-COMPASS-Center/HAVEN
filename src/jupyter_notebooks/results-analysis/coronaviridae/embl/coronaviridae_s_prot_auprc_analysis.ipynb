{
 "cells": [
  {
   "cell_type": "markdown",
   "id": "5e2ecf0f",
   "metadata": {},
   "source": [
    "## Results of Host Prediction\n",
    "### Dataset: Coronaviridae S prot UniRef90, EMBL mapping, Vertebrates\n",
    "\n",
    "**Models**: TF - Pretrain  + finetune\n",
    "\n",
    "**Positional Embedding**: Sin-Cos\n",
    "\n",
    "**Maximum Sequence Length**: 1336\n",
    "\n",
    "**Alignment**: Yes, No\n",
    "\n",
    "**Classification**: Multi-class\n",
    "\n",
    "**\\# classes**: 8, 2\n",
    "\n",
    "**\\# train samples** = \n",
    "\n",
    "**\\# validation samples** = \n",
    "\n",
    "**\\# test samples** = \n"
   ]
  },
  {
   "cell_type": "code",
   "execution_count": 7,
   "id": "6cfca147",
   "metadata": {
    "scrolled": false
   },
   "outputs": [
    {
     "data": {
      "text/plain": [
       "['/home/blessyantony/dev/git/zoonosis/src/jupyter_notebooks/results-analysis/coronaviridae/embl',\n",
       " '/opt/conda/lib/python38.zip',\n",
       " '/opt/conda/lib/python3.8',\n",
       " '/opt/conda/lib/python3.8/lib-dynload',\n",
       " '',\n",
       " '/home/blessyantony/.local/lib/python3.8/site-packages',\n",
       " '/opt/conda/lib/python3.8/site-packages',\n",
       " '/opt/conda/lib/python3.8/site-packages/IPython/extensions',\n",
       " '/home/blessyantony/.ipython',\n",
       " '/home/blessyantony/dev/git/zoonosis/src/jupyter_notebooks/results-analysis/coronaviridae/embl/../../../../..',\n",
       " '/home/blessyantony/dev/git/zoonosis/src/jupyter_notebooks/results-analysis/coronaviridae/embl/../../../..',\n",
       " '/home/blessyantony/dev/git/zoonosis/src/jupyter_notebooks/results-analysis/coronaviridae/embl/../../..',\n",
       " '/home/blessyantony/dev/git/zoonosis/src/jupyter_notebooks/results-analysis/coronaviridae/embl/../..',\n",
       " '/home/blessyantony/dev/git/zoonosis/src/jupyter_notebooks/results-analysis/coronaviridae/embl/../../../../..',\n",
       " '/home/blessyantony/dev/git/zoonosis/src/jupyter_notebooks/results-analysis/coronaviridae/embl/../../../..',\n",
       " '/home/blessyantony/dev/git/zoonosis/src/jupyter_notebooks/results-analysis/coronaviridae/embl/../../..',\n",
       " '/home/blessyantony/dev/git/zoonosis/src/jupyter_notebooks/results-analysis/coronaviridae/embl/../..']"
      ]
     },
     "execution_count": 7,
     "metadata": {},
     "output_type": "execute_result"
    }
   ],
   "source": [
    "import sys\n",
    "import os\n",
    "sys.path.append(os.path.join(os.getcwd(), \"..\", \"..\", \"..\", \"..\", \"..\"))\n",
    "sys.path.append(os.path.join(os.getcwd(), \"..\", \"..\", \"..\", \"..\"))\n",
    "sys.path.append(os.path.join(os.getcwd(), \"..\", \"..\", \"..\"))\n",
    "sys.path.append(os.path.join(os.getcwd(), \"..\", \"..\"))\n",
    "sys.path"
   ]
  },
  {
   "cell_type": "code",
   "execution_count": 17,
   "id": "22cbf7ce",
   "metadata": {
    "scrolled": true
   },
   "outputs": [],
   "source": [
    "import pandas as pd\n",
    "import os\n",
    "import numpy as np\n",
    "import seaborn as sns\n",
    "import matplotlib.pyplot as plt\n",
    "from pathlib import Path\n",
    "\n",
    "from src.utils import utils, evaluation_utils, visualization_utils\n",
    "from sklearn.metrics import auc, precision_recall_curve\n",
    "from statistics import mean"
   ]
  },
  {
   "cell_type": "code",
   "execution_count": 31,
   "id": "cb6c3cc1",
   "metadata": {
    "scrolled": true
   },
   "outputs": [],
   "source": [
    "itr_col = \"itr\"\n",
    "experiment_col = \"experiment\"\n",
    "y_true_col = \"y_true\"\n",
    "human_col = \"Human\"\n",
    "plt.rcParams['xtick.labelsize'] = 20\n",
    "plt.rcParams['ytick.labelsize'] = 20\n",
    "plt.rcParams['figure.autolayout'] = True\n",
    "\n",
    "DEFAULT_FIGURE_CONFIG = {\n",
    "    \"figsize\": (10, 10),\n",
    "    \"xtick.labelsize\": 18,\n",
    "    \"ytick.labelsize\": 18    \n",
    "}\n",
    "\n",
    "\n",
    "def plot_auprc(auprc_df, metadata, model_name):\n",
    "    # sort by median\n",
    "    sorted_median_auprc_df = auprc_df.groupby(\"class\")[\"auprc\"].median().sort_values(ascending=False)\n",
    "    visualization_utils.pre_plot_config(DEFAULT_FIGURE_CONFIG)\n",
    "    plt.rcParams['xtick.labelsize'] = 18\n",
    "    plt.rcParams['ytick.labelsize'] = 18\n",
    "    ax = sns.boxplot(data=auprc_df, x=\"class\", y=\"auprc\", order=sorted_median_auprc_df.index)\n",
    "    \n",
    "    ax.set_ylim(0, 1)\n",
    "    ax.set_title(f\"Model = {model_name}\")\n",
    "    plt.tight_layout()\n",
    "    plt.xticks(rotation=-90)\n",
    "    plt.show()\n",
    "        \n",
    "def auprc_analysis(output_filepath, model_name):\n",
    "    df = pd.read_csv(output_filepath, index_col=0)\n",
    "    print(f\"Read output size = {df.shape}\")\n",
    "    cols = df.columns\n",
    "    non_human_cols = list(set(cols) - set([itr_col, experiment_col, y_true_col, human_col]))\n",
    "    print(f\"NonHuman cols = {non_human_cols}\")\n",
    "    itrs = df[itr_col].unique()\n",
    "    \n",
    "    auprc = []\n",
    "    pr_curves = []\n",
    "    for itr in itrs:\n",
    "        df_itr = df[df[itr_col] == itr]\n",
    "        pr_curves_df, auprcs_df = evaluation_utils.compute_class_auprc(df_itr, y_pred_columns=non_human_cols + [human_col], y_true_col=y_true_col)\n",
    "        pr_curves_df[itr_col] = itr\n",
    "        auprcs_df[itr_col] = itr\n",
    "        auprc.append(auprcs_df)\n",
    "        pr_curves.append(pr_curves_df)\n",
    "\n",
    "    auprc_df = pd.concat(auprc, ignore_index=True)\n",
    "    pr_curves_df = pd.concat(pr_curves, ignore_index=True)\n",
    "    \n",
    "    metadata = utils.compute_class_distribution(df_itr, y_true_col, format=True)\n",
    "    \n",
    "    plot_auprc(auprc_df, metadata, model_name)\n",
    "    visualization_utils.curve_plot(pr_curves_df, x_col=\"recall\", y_col=\"precision\",\n",
    "                                   color_group_col=\"class\", style_group_col=None,\n",
    "                                   output_file_path=None, metadata=metadata)\n",
    "    "
   ]
  },
  {
   "cell_type": "code",
   "execution_count": 10,
   "id": "e1e184b3",
   "metadata": {
    "scrolled": true
   },
   "outputs": [],
   "source": [
    "def class_wise_auprc_analysis(output_filepaths, classes, figure_output_filepath=None):\n",
    "    auprc_results = []\n",
    "    for model, output_filepath in output_filepaths.items():\n",
    "        df = pd.read_csv(output_filepath, index_col=0)\n",
    "        print(f\"Read output {model} = {df.shape}\")\n",
    "        \n",
    "        cols = df.columns\n",
    "        classes = list(set(cols) - set([itr_col, experiment_col, y_true_col]))\n",
    "        itrs = df[itr_col].unique()\n",
    "    \n",
    "        for itr in itrs:\n",
    "            df_itr = df[df[itr_col] == itr]\n",
    "            _, auprcs_df = evaluation_utils.compute_class_auprc(df_itr, y_pred_columns=classes, y_true_col=y_true_col)\n",
    "            auprcs_df = auprcs_df.append({\"class\": \"Macro-AUPRC\", \"auprc\": auprcs_df[\"auprc\"].mean()}, ignore_index=True)\n",
    "            auprcs_df[\"model\"] = model\n",
    "            auprcs_df[\"itr\"] = itr\n",
    "            auprc_results.append(auprcs_df)\n",
    "    metadata = utils.compute_class_distribution(df_itr, y_true_col, format=False)\n",
    "    metadata_formatted = utils.compute_class_distribution(df_itr, y_true_col, format=True)\n",
    "    metadata_sorted = {}\n",
    "    for k, v in metadata.items():\n",
    "        metadata_sorted[metadata_formatted[k]] = v\n",
    "    metadata_sorted[\"Macro-AUPRC\"] = 0\n",
    "    auprc_results_df = pd.concat(auprc_results, ignore_index=True)\n",
    "    auprc_results_df.replace({\"class\":metadata_formatted}, inplace=True)\n",
    "    \n",
    "    FIGURE_CONFIG = {\n",
    "        \"figsize\": (10, 8),\n",
    "        \"xtick.labelsize\": 16,\n",
    "        \"ytick.labelsize\": 16    \n",
    "    }\n",
    "\n",
    "    visualization_utils.pre_plot_config(FIGURE_CONFIG)\n",
    "    ax = sns.boxplot(data=auprc_results_df, x=\"class\", y=\"auprc\", hue=\"model\", order=metadata_sorted)\n",
    "    plt.draw()\n",
    "    \n",
    "    ax.set_ylim(0, 1)\n",
    "    ax.set_ylabel(\"AUPRC\", size=18)\n",
    "    ax.set_xlabel(\"Classes\", size=18, labelpad=2)\n",
    "    sns.move_legend(ax, \"lower center\", bbox_to_anchor=(.5, 1), ncol=5, title=None, frameon=False)\n",
    "    plt.setp(ax.get_legend().get_texts(), fontsize=16)\n",
    "    visualization_utils.wrap_xticklabels(ax)\n",
    "    # visualization_utils.view(figure_output_filepath)\n",
    "    plt.show()\n",
    "    return auprc_results_df"
   ]
  },
  {
   "cell_type": "code",
   "execution_count": 28,
   "id": "209a0959",
   "metadata": {},
   "outputs": [],
   "source": [
    "def compute_binary_auprc(df, y_true_col, pos_label):\n",
    "    precision, recall, _ = precision_recall_curve(y_true=df[y_true_col].values, probas_pred=df[pos_label].values, pos_label=pos_label)\n",
    "    return auc(recall, precision)\n",
    "\n",
    "def compute_multi_auprc(df, y_true_col):\n",
    "    label_values = list(df[y_true_col].unique())\n",
    "    auprcs = []\n",
    "    for label_value in label_values:\n",
    "        precision, recall, _ = precision_recall_curve(y_true=df[y_true_col].values, probas_pred=df[label_value].values, pos_label=label_value)\n",
    "        auprcs.append(auc(recall, precision))\n",
    "    \n",
    "    return mean(auprcs)"
   ]
  },
  {
   "cell_type": "markdown",
   "id": "cdb1fb5c",
   "metadata": {},
   "source": [
    "## UniRef90 Dataset\n",
    "### Binary Classification"
   ]
  },
  {
   "cell_type": "code",
   "execution_count": 11,
   "id": "0cada127",
   "metadata": {
    "scrolled": false
   },
   "outputs": [],
   "source": [
    "virprobert_uniref90_binary_output_filepath = os.path.join(os.getcwd(), \"..\",\"..\", \"..\", \"..\", \"..\", \"output/raw/coronaviridae_s_prot_embl_vertebrates_t0.01_c8/20240320/fine_tuning/host_prediction/binary/mlm_tfenc_l6_h8_lr1e-4_uniprot_coronaviridae_s_msl1366_host_prediction_fnn_2l_d1024_lr1e-4_output.csv\")\n",
    "virprobert_uniref90_aligned_binary_output_filepath = os.path.join(os.getcwd(), \"..\",\"..\", \"..\", \"..\", \"..\", \"output/raw/coronaviridae_s_prot_uniref90_embl_vertebrates_t0.01_c8/20240320/fine_tuning/host_prediction/binary/mlm_tfenc_l6_h8_lr1e-4_uniref90_coronaviridae_s_aligned_msl1366_host_prediction_fnn_2l_d1024_lr1e-4_aligned_output.csv\")"
   ]
  },
  {
   "cell_type": "markdown",
   "id": "deb91609",
   "metadata": {},
   "source": [
    "### Multi-class Classification"
   ]
  },
  {
   "cell_type": "code",
   "execution_count": 12,
   "id": "0cada127",
   "metadata": {
    "scrolled": false
   },
   "outputs": [],
   "source": [
    "virprobert_uniref90_multi_output_filepath = os.path.join(os.getcwd(), \"..\",\"..\", \"..\", \"..\", \"..\", \"output/raw/coronaviridae_s_prot_uniref90_embl_vertebrates_t0.01_c8/20240320/fine_tuning/host_prediction/multi/mlm_tfenc_l6_h8_lr1e-4_uniref90_coronaviridae_s_msl1366_host_prediction_fnn_2l_d1024_lr1e-4_output.csv\")\n",
    "virprobert_uniref90_aligned_multi_output_filepath = os.path.join(os.getcwd(), \"..\",\"..\", \"..\", \"..\", \"..\", \"output/raw/coronaviridae_s_prot_embl_vertebrates_t0.01_c8/20240320/fine_tuning/host_prediction/multi/mlm_tfenc_l6_h8_lr1e-4_uniprot_coronaviridae_s_aligned_msl1366_host_prediction_fnn_2l_d1024_lr1e-4_output.csv\")"
   ]
  },
  {
   "cell_type": "markdown",
   "id": "cdb1fb5c",
   "metadata": {},
   "source": [
    "## UniProtKB Dataset\n",
    "### Binary Classification"
   ]
  },
  {
   "cell_type": "code",
   "execution_count": 13,
   "id": "0cada127",
   "metadata": {
    "scrolled": false
   },
   "outputs": [],
   "source": [
    "virprobert_uniprot_binary_output_filepath = os.path.join(os.getcwd(), \"..\",\"..\", \"..\", \"..\", \"..\", \"output/raw/coronaviridae_s_prot_uniprot_embl_vertebrates_t0.01_c8/20240326/fine_tuning/host_prediction/binary/mlm_tfenc_l6_h8_lr1e-4_uniprot_coronaviridae_s_msl1366_host_prediction_fnn_2l_d1024_lr1e-4_output.csv\")\n",
    "virprobert_uniprot_aligned_binary_output_filepath = os.path.join(os.getcwd(), \"..\",\"..\", \"..\", \"..\", \"..\", \"output/raw/coronaviridae_s_prot_uniprot_embl_vertebrates_t0.01_c8/20240326/fine_tuning/host_prediction/binary/mlm_tfenc_l6_h8_lr1e-4_uniprot_coronaviridae_s_aligned_msl1366_host_prediction_fnn_2l_d1024_lr1e-4_aligned_output.csv\")"
   ]
  },
  {
   "cell_type": "markdown",
   "id": "cdb1fb5c",
   "metadata": {},
   "source": [
    "### Multi-class Classification"
   ]
  },
  {
   "cell_type": "code",
   "execution_count": 14,
   "id": "0cada127",
   "metadata": {
    "scrolled": false
   },
   "outputs": [],
   "source": [
    "virprobert_uniprot_multi_output_filepath = os.path.join(os.getcwd(), \"..\",\"..\", \"..\", \"..\", \"..\", \"output/raw/coronaviridae_s_prot_uniprot_embl_vertebrates_t0.01_c8/20240326/fine_tuning/host_prediction/multi/mlm_tfenc_l6_h8_lr1e-4_uniprot_coronaviridae_s_msl1366_host_prediction_fnn_2l_d1024_lr1e-4_output.csv\")\n",
    "virprobert_uniprot_aligned_multi_output_filepath = os.path.join(os.getcwd(), \"..\",\"..\", \"..\", \"..\", \"..\", \"output/raw/coronaviridae_s_prot_uniprot_embl_vertebrates_t0.01_c8/20240326/fine_tuning/host_prediction/multi/mlm_tfenc_l6_h8_lr1e-4_uniprot_coronaviridae_s_aligned_msl1366_host_prediction_fnn_2l_d1024_lr1e-4_aligned_output.csv\")"
   ]
  },
  {
   "cell_type": "markdown",
   "id": "596600cb",
   "metadata": {},
   "source": [
    "### AUPRC Comparison"
   ]
  },
  {
   "cell_type": "code",
   "execution_count": 22,
   "id": "c8ef72e7",
   "metadata": {},
   "outputs": [],
   "source": [
    "binary_output_filepaths = {\n",
    "    \"VirProBERT(UniRef90-Binary)\": virprobert_uniref90_binary_output_filepath,\n",
    "    \"VirProBERT(UniRef90-Aligned-Binary)\": virprobert_uniref90_aligned_binary_output_filepath,\n",
    "    \"VirProBERT(UniProt-Binary)\": virprobert_uniprot_binary_output_filepath,\n",
    "    \"VirProBERT(UniProt-Aligned-Binary)\": virprobert_uniprot_aligned_binary_output_filepath,\n",
    "}\n",
    "\n",
    "multi_output_filepaths = {\n",
    "    \"VirProBERT(UniRef90-Multi)\": virprobert_uniref90_multi_output_filepath,\n",
    "    \"VirProBERT(UniRef90-Aligned-Multi)\": virprobert_uniref90_aligned_multi_output_filepath,\\\n",
    "    \"VirProBERT(UniProt-Multi)\": virprobert_uniprot_multi_output_filepath,\n",
    "    \"VirProBERT(UniProt-Aligned-Multi)\": virprobert_uniprot_aligned_multi_output_filepath,\n",
    "}"
   ]
  },
  {
   "cell_type": "code",
   "execution_count": 21,
   "id": "9c0846ac",
   "metadata": {},
   "outputs": [],
   "source": [
    "def compute_auprcs(output_file_paths, classification_type, pos_label=\"Human\"):\n",
    "    auprcs = []\n",
    "    for model, output_filepath in output_filepaths.items():\n",
    "        df = pd.read_csv(output_filepath, index_col=0)\n",
    "        if classification_type == \"binary\":\n",
    "            auprc = compute_binary_auprc(df, y_true_col=\"y_true\", pos_label=pos_label)\n",
    "        else:\n",
    "            auprc = compute_multi_auprc(df, y_true_col=\"y_true\")\n",
    "        auprcs.append({\"model\": model, \"auprc\": auprc})\n",
    "    return pd.DataFrame(auprcs)"
   ]
  },
  {
   "cell_type": "code",
   "execution_count": 29,
   "id": "7f40fcf4",
   "metadata": {
    "scrolled": false
   },
   "outputs": [],
   "source": [
    "binary_auprcs = compute_auprcs(binary_output_filepaths, classification_type=\"binary\")\n",
    "multi_auprcs = compute_auprcs(multi_output_filepaths, classification_type=\"multi\")\n",
    "auprcs_df = pd.concat([binary_auprcs, multi_auprcs])\n",
    "#classes = [\"Cat\", \"Chicken\", \"Chinese rufous horseshoe bat\", \"Ferret\", \"Gray wolf\", \"Horshoe bat\", \"Human\", \"Pig\"]\n",
    "#auprc_analysis_classes_subset(output_filepaths, classes)"
   ]
  },
  {
   "cell_type": "code",
   "execution_count": 39,
   "id": "bc442d07",
   "metadata": {},
   "outputs": [
    {
     "data": {
      "text/plain": [
       "<Figure size 432x288 with 0 Axes>"
      ]
     },
     "metadata": {},
     "output_type": "display_data"
    },
    {
     "data": {
      "image/png": "[encoded data removed]",
      "text/plain": [
       "<Figure size 864x720 with 1 Axes>"
      ]
     },
     "metadata": {},
     "output_type": "display_data"
    }
   ],
   "source": [
    "FIGURE_CONFIG = {\n",
    "    \"figsize\": (12, 10),\n",
    "    \"xtick.labelsize\": 12,\n",
    "    \"ytick.labelsize\": 12    \n",
    "}\n",
    "visualization_utils.pre_plot_config(FIGURE_CONFIG)\n",
    "ax = sns.boxplot(data=auprcs_df, x=\"model\", y=\"auprc\")\n",
    "plt.draw()\n",
    "\n",
    "ax.set_ylim(0.5, 1)\n",
    "ax.set_ylabel(\"AUPRC\", size=18)\n",
    "ax.set_xlabel(\"Models\", size=18, labelpad=2)\n",
    "plt.xticks(rotation=90)\n",
    "# visualization_utils.wrap_xticklabels(ax)\n",
    "# visualization_utils.view(figure_output_filepath)\n",
    "plt.show()"
   ]
  },
  {
   "cell_type": "code",
   "execution_count": 30,
   "id": "0b4586fb",
   "metadata": {},
   "outputs": [
    {
     "name": "stdout",
     "output_type": "stream",
     "text": [
      "Read output VirProBERT = (345, 10)\n",
      "Read output VirProBERT (aligned dataset) = (345, 10)\n"
     ]
    },
    {
     "name": "stderr",
     "output_type": "stream",
     "text": [
      "/home/blessyantony/dev/git/zoonosis/src/jupyter_notebooks/results-analysis/coronaviridae/embl/../../../../../src/utils/visualization_utils.py:104: UserWarning: FixedFormatter should only be used together with FixedLocator\n",
      "  ax.set_xticklabels(wrapped_labels, rotation=0)\n"
     ]
    },
    {
     "data": {
      "text/plain": [
       "<Figure size 432x288 with 0 Axes>"
      ]
     },
     "metadata": {},
     "output_type": "display_data"
    },
    {
     "data": {
      "image/png": "[encoded data removed]",
      "text/plain": [
       "<Figure size 720x576 with 1 Axes>"
      ]
     },
     "metadata": {},
     "output_type": "display_data"
    }
   ],
   "source": [
    "# figure_output_filepath = os.path.join(os.getcwd(), \"..\",\"..\", \"..\", \"..\", \"..\", \"output/visualization/uniref90/20240312/prelim_exam/host_multi_all_models_classwise_aurpc_boxplot.pdf\")\n",
    "auprc_results_df = class_wise_auprc_analysis(multi_auprcs, classes)"
   ]
  },
  {
   "cell_type": "code",
   "execution_count": 31,
   "id": "0c0beecd",
   "metadata": {},
   "outputs": [
    {
     "data": {
      "text/plain": [
       "Chinese rufous horseshoe bat (1.45%)    10\n",
       "Pig (7.25%)                             10\n",
       "Cat (10.14%)                            10\n",
       "Human (24.64%)                          10\n",
       "Chicken (49.28%)                        10\n",
       "Ferret (1.45%)                          10\n",
       "Gray wolf (4.35%)                       10\n",
       "Horshoe bat (1.45%)                     10\n",
       "Macro-AUPRC                             10\n",
       "Name: class, dtype: int64"
      ]
     },
     "execution_count": 31,
     "metadata": {},
     "output_type": "execute_result"
    }
   ],
   "source": [
    "auprc_results_df[\"class\"].value_counts()"
   ]
  },
  {
   "cell_type": "code",
   "execution_count": 32,
   "id": "fb355b89",
   "metadata": {},
   "outputs": [
    {
     "data": {
      "text/html": [
       "<div>\n",
       "<style scoped>\n",
       "    .dataframe tbody tr th:only-of-type {\n",
       "        vertical-align: middle;\n",
       "    }\n",
       "\n",
       "    .dataframe tbody tr th {\n",
       "        vertical-align: top;\n",
       "    }\n",
       "\n",
       "    .dataframe thead th {\n",
       "        text-align: right;\n",
       "    }\n",
       "</style>\n",
       "<table border=\"1\" class=\"dataframe\">\n",
       "  <thead>\n",
       "    <tr style=\"text-align: right;\">\n",
       "      <th></th>\n",
       "      <th></th>\n",
       "      <th>auprc</th>\n",
       "    </tr>\n",
       "    <tr>\n",
       "      <th>class</th>\n",
       "      <th>model</th>\n",
       "      <th></th>\n",
       "    </tr>\n",
       "  </thead>\n",
       "  <tbody>\n",
       "    <tr>\n",
       "      <th rowspan=\"2\" valign=\"top\">Cat (10.14%)</th>\n",
       "      <th>VirProBERT</th>\n",
       "      <td>0.976259</td>\n",
       "    </tr>\n",
       "    <tr>\n",
       "      <th>VirProBERT (aligned dataset)</th>\n",
       "      <td>0.993254</td>\n",
       "    </tr>\n",
       "    <tr>\n",
       "      <th rowspan=\"2\" valign=\"top\">Chicken (49.28%)</th>\n",
       "      <th>VirProBERT</th>\n",
       "      <td>0.997832</td>\n",
       "    </tr>\n",
       "    <tr>\n",
       "      <th>VirProBERT (aligned dataset)</th>\n",
       "      <td>0.997563</td>\n",
       "    </tr>\n",
       "    <tr>\n",
       "      <th rowspan=\"2\" valign=\"top\">Chinese rufous horseshoe bat (1.45%)</th>\n",
       "      <th>VirProBERT</th>\n",
       "      <td>0.503571</td>\n",
       "    </tr>\n",
       "    <tr>\n",
       "      <th>VirProBERT (aligned dataset)</th>\n",
       "      <td>0.441212</td>\n",
       "    </tr>\n",
       "    <tr>\n",
       "      <th rowspan=\"2\" valign=\"top\">Ferret (1.45%)</th>\n",
       "      <th>VirProBERT</th>\n",
       "      <td>1.000000</td>\n",
       "    </tr>\n",
       "    <tr>\n",
       "      <th>VirProBERT (aligned dataset)</th>\n",
       "      <td>0.850000</td>\n",
       "    </tr>\n",
       "    <tr>\n",
       "      <th rowspan=\"2\" valign=\"top\">Gray wolf (4.35%)</th>\n",
       "      <th>VirProBERT</th>\n",
       "      <td>0.869246</td>\n",
       "    </tr>\n",
       "    <tr>\n",
       "      <th>VirProBERT (aligned dataset)</th>\n",
       "      <td>0.928730</td>\n",
       "    </tr>\n",
       "    <tr>\n",
       "      <th rowspan=\"2\" valign=\"top\">Horshoe bat (1.45%)</th>\n",
       "      <th>VirProBERT</th>\n",
       "      <td>0.833333</td>\n",
       "    </tr>\n",
       "    <tr>\n",
       "      <th>VirProBERT (aligned dataset)</th>\n",
       "      <td>1.000000</td>\n",
       "    </tr>\n",
       "    <tr>\n",
       "      <th rowspan=\"2\" valign=\"top\">Human (24.64%)</th>\n",
       "      <th>VirProBERT</th>\n",
       "      <td>0.984348</td>\n",
       "    </tr>\n",
       "    <tr>\n",
       "      <th>VirProBERT (aligned dataset)</th>\n",
       "      <td>0.956221</td>\n",
       "    </tr>\n",
       "    <tr>\n",
       "      <th rowspan=\"2\" valign=\"top\">Macro-AUPRC</th>\n",
       "      <th>VirProBERT</th>\n",
       "      <td>0.888882</td>\n",
       "    </tr>\n",
       "    <tr>\n",
       "      <th>VirProBERT (aligned dataset)</th>\n",
       "      <td>0.888448</td>\n",
       "    </tr>\n",
       "    <tr>\n",
       "      <th rowspan=\"2\" valign=\"top\">Pig (7.25%)</th>\n",
       "      <th>VirProBERT</th>\n",
       "      <td>0.946468</td>\n",
       "    </tr>\n",
       "    <tr>\n",
       "      <th>VirProBERT (aligned dataset)</th>\n",
       "      <td>0.940603</td>\n",
       "    </tr>\n",
       "  </tbody>\n",
       "</table>\n",
       "</div>"
      ],
      "text/plain": [
       "                                                                      auprc\n",
       "class                                model                                 \n",
       "Cat (10.14%)                         VirProBERT                    0.976259\n",
       "                                     VirProBERT (aligned dataset)  0.993254\n",
       "Chicken (49.28%)                     VirProBERT                    0.997832\n",
       "                                     VirProBERT (aligned dataset)  0.997563\n",
       "Chinese rufous horseshoe bat (1.45%) VirProBERT                    0.503571\n",
       "                                     VirProBERT (aligned dataset)  0.441212\n",
       "Ferret (1.45%)                       VirProBERT                    1.000000\n",
       "                                     VirProBERT (aligned dataset)  0.850000\n",
       "Gray wolf (4.35%)                    VirProBERT                    0.869246\n",
       "                                     VirProBERT (aligned dataset)  0.928730\n",
       "Horshoe bat (1.45%)                  VirProBERT                    0.833333\n",
       "                                     VirProBERT (aligned dataset)  1.000000\n",
       "Human (24.64%)                       VirProBERT                    0.984348\n",
       "                                     VirProBERT (aligned dataset)  0.956221\n",
       "Macro-AUPRC                          VirProBERT                    0.888882\n",
       "                                     VirProBERT (aligned dataset)  0.888448\n",
       "Pig (7.25%)                          VirProBERT                    0.946468\n",
       "                                     VirProBERT (aligned dataset)  0.940603"
      ]
     },
     "execution_count": 32,
     "metadata": {},
     "output_type": "execute_result"
    }
   ],
   "source": [
    "auprc_results_df[[\"class\", \"model\", \"auprc\"]].groupby([\"class\", \"model\"]).mean(\"auprc\")"
   ]
  },
  {
   "cell_type": "code",
   "execution_count": null,
   "id": "0810bf86",
   "metadata": {},
   "outputs": [],
   "source": []
  }
 ],
 "metadata": {
  "kernelspec": {
   "display_name": "Python 3 (ipykernel)",
   "language": "python",
   "name": "python3"
  },
  "language_info": {
   "codemirror_mode": {
    "name": "ipython",
    "version": 3
   },
   "file_extension": ".py",
   "mimetype": "text/x-python",
   "name": "python",
   "nbconvert_exporter": "python",
   "pygments_lexer": "ipython3",
   "version": "3.8.12"
  }
 },
 "nbformat": 4,
 "nbformat_minor": 5
}
