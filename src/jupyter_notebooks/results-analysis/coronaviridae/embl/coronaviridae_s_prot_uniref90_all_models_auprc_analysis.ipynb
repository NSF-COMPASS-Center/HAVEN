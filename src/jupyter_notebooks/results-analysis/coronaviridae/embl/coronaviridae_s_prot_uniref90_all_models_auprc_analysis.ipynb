{
 "cells": [
  {
   "cell_type": "markdown",
   "id": "5e2ecf0f",
   "metadata": {},
   "source": [
    "## Results of Host Prediction\n",
    "### Dataset: Coronaviridae S prot, EMBL mapping, Vertebrates\n",
    "\n",
    "**Models**: TF - Pretrain  + finetune\n",
    "\n",
    "**Positional Embedding**: Sin-Cos\n",
    "\n",
    "**Maximum Sequence Length**: 1036\n",
    "\n",
    "**Classification**: Multi-class\n",
    "\n",
    "**\\# classes**: 8\n",
    "\n",
    "**\\# train samples** = \n",
    "\n",
    "**\\# validation samples** = \n",
    "\n",
    "**\\# test samples** = "
   ]
  },
  {
   "cell_type": "code",
   "execution_count": 1,
   "id": "8349fb54",
   "metadata": {},
   "outputs": [],
   "source": [
    "import seaborn"
   ]
  },
  {
   "cell_type": "code",
   "execution_count": 2,
   "id": "48749e31",
   "metadata": {},
   "outputs": [
    {
     "data": {
      "text/plain": [
       "'0.11.2'"
      ]
     },
     "execution_count": 2,
     "metadata": {},
     "output_type": "execute_result"
    }
   ],
   "source": [
    "seaborn.__version__"
   ]
  },
  {
   "cell_type": "code",
   "execution_count": 3,
   "id": "6cfca147",
   "metadata": {
    "scrolled": false
   },
   "outputs": [
    {
     "data": {
      "text/plain": [
       "['C:\\\\Dev\\\\git\\\\zoonosis\\\\src\\\\jupyter_notebooks\\\\results-analysis\\\\coronaviridae\\\\embl',\n",
       " 'C:\\\\Users\\\\bless\\\\anaconda3\\\\python39.zip',\n",
       " 'C:\\\\Users\\\\bless\\\\anaconda3\\\\DLLs',\n",
       " 'C:\\\\Users\\\\bless\\\\anaconda3\\\\lib',\n",
       " 'C:\\\\Users\\\\bless\\\\anaconda3',\n",
       " '',\n",
       " 'C:\\\\Users\\\\bless\\\\anaconda3\\\\lib\\\\site-packages',\n",
       " 'C:\\\\Users\\\\bless\\\\anaconda3\\\\lib\\\\site-packages\\\\locket-0.2.1-py3.9.egg',\n",
       " 'C:\\\\Users\\\\bless\\\\anaconda3\\\\lib\\\\site-packages\\\\win32',\n",
       " 'C:\\\\Users\\\\bless\\\\anaconda3\\\\lib\\\\site-packages\\\\win32\\\\lib',\n",
       " 'C:\\\\Users\\\\bless\\\\anaconda3\\\\lib\\\\site-packages\\\\Pythonwin',\n",
       " 'C:\\\\Users\\\\bless\\\\anaconda3\\\\lib\\\\site-packages\\\\IPython\\\\extensions',\n",
       " 'C:\\\\Users\\\\bless\\\\.ipython',\n",
       " 'C:\\\\Dev\\\\git\\\\zoonosis\\\\src\\\\jupyter_notebooks\\\\results-analysis\\\\coronaviridae\\\\embl\\\\..\\\\..\\\\..\\\\..\\\\..',\n",
       " 'C:\\\\Dev\\\\git\\\\zoonosis\\\\src\\\\jupyter_notebooks\\\\results-analysis\\\\coronaviridae\\\\embl\\\\..\\\\..\\\\..\\\\..',\n",
       " 'C:\\\\Dev\\\\git\\\\zoonosis\\\\src\\\\jupyter_notebooks\\\\results-analysis\\\\coronaviridae\\\\embl\\\\..\\\\..\\\\..',\n",
       " 'C:\\\\Dev\\\\git\\\\zoonosis\\\\src\\\\jupyter_notebooks\\\\results-analysis\\\\coronaviridae\\\\embl\\\\..\\\\..']"
      ]
     },
     "execution_count": 3,
     "metadata": {},
     "output_type": "execute_result"
    }
   ],
   "source": [
    "import sys\n",
    "import os\n",
    "sys.path.append(os.path.join(os.getcwd(), \"..\", \"..\", \"..\", \"..\", \"..\"))\n",
    "sys.path.append(os.path.join(os.getcwd(), \"..\", \"..\", \"..\", \"..\"))\n",
    "sys.path.append(os.path.join(os.getcwd(), \"..\", \"..\", \"..\"))\n",
    "sys.path.append(os.path.join(os.getcwd(), \"..\", \"..\"))\n",
    "sys.path"
   ]
  },
  {
   "cell_type": "code",
   "execution_count": 4,
   "id": "22cbf7ce",
   "metadata": {
    "scrolled": true
   },
   "outputs": [
    {
     "ename": "ModuleNotFoundError",
     "evalue": "No module named 'torch'",
     "output_type": "error",
     "traceback": [
      "\u001b[1;31m---------------------------------------------------------------------------\u001b[0m",
      "\u001b[1;31mModuleNotFoundError\u001b[0m                       Traceback (most recent call last)",
      "\u001b[1;32m~\\AppData\\Local\\Temp/ipykernel_16592/1777491535.py\u001b[0m in \u001b[0;36m<module>\u001b[1;34m\u001b[0m\n\u001b[0;32m      6\u001b[0m \u001b[1;32mfrom\u001b[0m \u001b[0mpathlib\u001b[0m \u001b[1;32mimport\u001b[0m \u001b[0mPath\u001b[0m\u001b[1;33m\u001b[0m\u001b[1;33m\u001b[0m\u001b[0m\n\u001b[0;32m      7\u001b[0m \u001b[1;33m\u001b[0m\u001b[0m\n\u001b[1;32m----> 8\u001b[1;33m \u001b[1;32mfrom\u001b[0m \u001b[0msrc\u001b[0m\u001b[1;33m.\u001b[0m\u001b[0mutils\u001b[0m \u001b[1;32mimport\u001b[0m \u001b[0mutils\u001b[0m\u001b[1;33m,\u001b[0m \u001b[0mevaluation_utils\u001b[0m\u001b[1;33m,\u001b[0m \u001b[0mvisualization_utils\u001b[0m\u001b[1;33m\u001b[0m\u001b[1;33m\u001b[0m\u001b[0m\n\u001b[0m",
      "\u001b[1;32mC:\\Dev\\git\\zoonosis\\src\\jupyter_notebooks\\results-analysis\\coronaviridae\\embl\\..\\..\\..\\..\\..\\src\\utils\\utils.py\u001b[0m in \u001b[0;36m<module>\u001b[1;34m\u001b[0m\n\u001b[0;32m      4\u001b[0m \u001b[1;32mimport\u001b[0m \u001b[0mnumpy\u001b[0m \u001b[1;32mas\u001b[0m \u001b[0mnp\u001b[0m\u001b[1;33m\u001b[0m\u001b[1;33m\u001b[0m\u001b[0m\n\u001b[0;32m      5\u001b[0m \u001b[1;32mimport\u001b[0m \u001b[0mpandas\u001b[0m \u001b[1;32mas\u001b[0m \u001b[0mpd\u001b[0m\u001b[1;33m\u001b[0m\u001b[1;33m\u001b[0m\u001b[0m\n\u001b[1;32m----> 6\u001b[1;33m \u001b[1;32mimport\u001b[0m \u001b[0mtorch\u001b[0m\u001b[1;33m\u001b[0m\u001b[1;33m\u001b[0m\u001b[0m\n\u001b[0m\u001b[0;32m      7\u001b[0m \u001b[1;32mfrom\u001b[0m \u001b[0mimblearn\u001b[0m\u001b[1;33m.\u001b[0m\u001b[0mover_sampling\u001b[0m \u001b[1;32mimport\u001b[0m \u001b[0mRandomOverSampler\u001b[0m\u001b[1;33m\u001b[0m\u001b[1;33m\u001b[0m\u001b[0m\n\u001b[0;32m      8\u001b[0m \u001b[1;32mfrom\u001b[0m \u001b[0mpathlib\u001b[0m \u001b[1;32mimport\u001b[0m \u001b[0mPath\u001b[0m\u001b[1;33m\u001b[0m\u001b[1;33m\u001b[0m\u001b[0m\n",
      "\u001b[1;31mModuleNotFoundError\u001b[0m: No module named 'torch'"
     ]
    }
   ],
   "source": [
    "import pandas as pd\n",
    "import os\n",
    "import numpy as np\n",
    "import seaborn as sns\n",
    "import matplotlib.pyplot as plt\n",
    "from pathlib import Path\n",
    "\n",
    "from src.utils import utils, evaluation_utils, visualization_utils"
   ]
  },
  {
   "cell_type": "code",
   "execution_count": 18,
   "id": "cb6c3cc1",
   "metadata": {
    "scrolled": true
   },
   "outputs": [],
   "source": [
    "itr_col = \"itr\"\n",
    "experiment_col = \"experiment\"\n",
    "y_true_col = \"y_true\"\n",
    "human_col = \"Human\"\n",
    "plt.rcParams['xtick.labelsize'] = 20\n",
    "plt.rcParams['ytick.labelsize'] = 20\n",
    "plt.rcParams['figure.autolayout'] = True\n",
    "\n",
    "DEFAULT_FIGURE_CONFIG = {\n",
    "    \"figsize\": (10, 10),\n",
    "    \"xtick.labelsize\": 18,\n",
    "    \"ytick.labelsize\": 18    \n",
    "}\n",
    "\n",
    "\n",
    "def plot_auprc(auprc_df, metadata, model_name):\n",
    "    # sort by median\n",
    "    sorted_median_auprc_df = auprc_df.groupby(\"class\")[\"auprc\"].median().sort_values(ascending=False)\n",
    "    visualization_utils.pre_plot_config(DEFAULT_FIGURE_CONFIG)\n",
    "    plt.rcParams['xtick.labelsize'] = 18\n",
    "    plt.rcParams['ytick.labelsize'] = 18\n",
    "    ax = sns.boxplot(data=auprc_df, x=\"class\", y=\"auprc\", order=sorted_median_auprc_df.index)\n",
    "    \n",
    "    ax.set_ylim(0, 1)\n",
    "    # ax.set_xticklabels([metadata[t.get_text()] for t in ax.get_xticklabels()])\n",
    "    ax.set_title(f\"Model = {model_name}\")\n",
    "    plt.tight_layout()\n",
    "    plt.xticks(rotation=-90)\n",
    "    plt.show()\n",
    "        \n",
    "def auprc_analysis(output_filepath, model_name):\n",
    "    df = pd.read_csv(output_filepath, index_col=0)\n",
    "    print(f\"Read output size = {df.shape}\")\n",
    "    cols = df.columns\n",
    "    non_human_cols = list(set(cols) - set([itr_col, experiment_col, y_true_col, human_col]))\n",
    "    print(f\"NonHuman cols = {non_human_cols}\")\n",
    "    itrs = df[itr_col].unique()\n",
    "    \n",
    "    auprc = []\n",
    "    pr_curves = []\n",
    "    for itr in itrs:\n",
    "        df_itr = df[df[itr_col] == itr]\n",
    "        pr_curves_df, auprcs_df = evaluation_utils.compute_class_auprc(df_itr, y_pred_columns=non_human_cols + [human_col], y_true_col=y_true_col)\n",
    "        pr_curves_df[itr_col] = itr\n",
    "        auprcs_df[itr_col] = itr\n",
    "        auprc.append(auprcs_df)\n",
    "        pr_curves.append(pr_curves_df)\n",
    "\n",
    "    auprc_df = pd.concat(auprc, ignore_index=True)\n",
    "    pr_curves_df = pd.concat(pr_curves, ignore_index=True)\n",
    "    \n",
    "    metadata = utils.compute_class_distribution(df_itr, y_true_col, format=True)\n",
    "    \n",
    "    plot_auprc(auprc_df, metadata, model_name)\n",
    "    visualization_utils.curve_plot(pr_curves_df, x_col=\"recall\", y_col=\"precision\",\n",
    "                                   color_group_col=\"class\", style_group_col=None,\n",
    "                                   output_file_path=None, metadata=metadata)\n",
    "    \n",
    "\n",
    "def auprc_analysis_classes_subset(output_filepaths, classes):\n",
    "    macro_auprcs = []\n",
    "    for model, output_filepath in output_filepaths.items():\n",
    "        df = pd.read_csv(output_filepath, index_col=0)\n",
    "        print(f\"Read output {model} = {df.shape}\")\n",
    "        \n",
    "        itrs = df[itr_col].unique()\n",
    "    \n",
    "        for itr in itrs:\n",
    "            df_itr = df[df[itr_col] == itr]\n",
    "            _, auprcs_df = evaluation_utils.compute_class_auprc(df_itr, y_pred_columns=classes, y_true_col=y_true_col)\n",
    "            macro_auprcs.append({\"model\": model,\n",
    "                                 \"itr\": itr,\n",
    "                                 \"auprc\": auprcs_df[\"auprc\"].mean()})\n",
    "    macro_auprcs_df = pd.DataFrame(macro_auprcs)\n",
    "\n",
    "    visualization_utils.pre_plot_config(DEFAULT_FIGURE_CONFIG)\n",
    "    ax = sns.boxplot(data=macro_auprcs_df, x=\"model\", y=\"auprc\")\n",
    "    \n",
    "    ax.set_ylim(0, 1)\n",
    "    ax.set_ylabel(\"AUPRC\", size=20)\n",
    "    ax.set_title(f\"Macro AUPRC [Classes = {classes}]\")\n",
    "    visualization_utils.wrap_xticklabels(ax)\n",
    "    visualization_utils.view(figure_output_filepath)\n",
    "    plt.show()\n",
    "    "
   ]
  },
  {
   "cell_type": "code",
   "execution_count": 19,
   "id": "e1e184b3",
   "metadata": {
    "scrolled": true
   },
   "outputs": [],
   "source": [
    "def class_wise_auprc_analysis(output_filepaths, classes, figure_output_filepath):\n",
    "    auprc_results = []\n",
    "    for model, output_filepath in output_filepaths.items():\n",
    "        df = pd.read_csv(output_filepath, index_col=0)\n",
    "        print(f\"Read output {model} = {df.shape}\")\n",
    "        \n",
    "        cols = df.columns\n",
    "        classes = list(set(cols) - set([itr_col, experiment_col, y_true_col]))\n",
    "        itrs = df[itr_col].unique()\n",
    "    \n",
    "        for itr in itrs:\n",
    "            df_itr = df[df[itr_col] == itr]\n",
    "            _, auprcs_df = evaluation_utils.compute_class_auprc(df_itr, y_pred_columns=classes, y_true_col=y_true_col)\n",
    "            auprcs_df[\"model\"] = model\n",
    "            auprcs_df[\"itr\"] = itr\n",
    "            auprc_results.append(auprcs_df)\n",
    "    metadata = utils.compute_class_distribution(df_itr, y_true_col, format=False)\n",
    "    metadata_formatted = utils.compute_class_distribution(df_itr, y_true_col, format=True)\n",
    "    metadata_sorted = {}\n",
    "    for k, v in metadata.items():\n",
    "        metadata_sorted[metadata_formatted[k]] = v\n",
    "\n",
    "    auprc_results_df = pd.concat(auprc_results, ignore_index=True)\n",
    "    auprc_results_df.replace({\"class\":metadata_formatted}, inplace=True)\n",
    "    \n",
    "    FIGURE_CONFIG = {\n",
    "        \"figsize\": (10, 8),\n",
    "        \"xtick.labelsize\": 16,\n",
    "        \"ytick.labelsize\": 16    \n",
    "    }\n",
    "\n",
    "    visualization_utils.pre_plot_config(FIGURE_CONFIG)\n",
    "    ax = sns.boxplot(data=auprc_results_df, x=\"class\", y=\"auprc\", hue=\"model\", order=metadata_sorted)\n",
    "    plt.draw()\n",
    "    \n",
    "    ax.set_ylim(0, 1)\n",
    "    ax.set_ylabel(\"AUPRC\", size=18)\n",
    "    ax.set_xlabel(\"Classes\", size=18, labelpad=2)\n",
    "    sns.move_legend(ax, \"lower center\", bbox_to_anchor=(.5, 1), ncol=5, title=None, frameon=False)\n",
    "    plt.setp(ax.get_legend().get_texts(), fontsize=16)\n",
    "    visualization_utils.wrap_xticklabels(ax)\n",
    "    visualization_utils.view(figure_output_filepath)\n",
    "    plt.show()\n",
    "    return auprc_results_df"
   ]
  },
  {
   "cell_type": "markdown",
   "id": "683fadcd",
   "metadata": {},
   "source": [
    "### FNN"
   ]
  },
  {
   "cell_type": "code",
   "execution_count": null,
   "id": "273a74e0",
   "metadata": {
    "scrolled": false
   },
   "outputs": [],
   "source": [
    "fnn_output_filepath = os.path.join(os.getcwd(), \"..\",\"..\", \"..\", \"..\", \"..\", \"output/raw/uniref90_embl_vertebrates_non_idv_t0.01_c5/20240229/host_multi/emb_sincos-lossfocalce_e50_msl1036_fnn-l_10-d_1024-lr1e-3_output.csv\")\n",
    "#auprc_analysis(fnn_output_filepath, \"FNN\")"
   ]
  },
  {
   "cell_type": "markdown",
   "id": "44693c18",
   "metadata": {},
   "source": [
    "### RNN"
   ]
  },
  {
   "cell_type": "code",
   "execution_count": null,
   "id": "12ef4987",
   "metadata": {
    "scrolled": false
   },
   "outputs": [],
   "source": [
    "#rnn_output_filepath = os.path.join(os.getcwd(), \"..\",\"..\", \"..\", \"..\", \"..\", \"output/raw/uniref90_embl_vertebrates_non_idv_t0.01_c5/20240229/host_multi/emb_sincos-lossfocalce_e50_msl1036_rnn-l_6-d_1024-lr1e-5_output.csv\")\n",
    "#auprc_analysis(rnn_output_filepath, \"RNN\")"
   ]
  },
  {
   "cell_type": "markdown",
   "id": "23c5dc40",
   "metadata": {},
   "source": [
    "### CNN"
   ]
  },
  {
   "cell_type": "code",
   "execution_count": 8,
   "id": "243b87a4",
   "metadata": {
    "scrolled": false
   },
   "outputs": [],
   "source": [
    "cnn_output_filepath = os.path.join(os.getcwd(), \"..\",\"..\", \"..\", \"..\", \"..\", \"output/raw/uniref90_embl_vertebrates_non_idv_t0.01_c5/20240229/host_multi/emb_sincos-lossfocalce_e50_msl1036_cnn-l_4-d_1024-k3s1-lr1e-3_output.csv\")\n",
    "#auprc_analysis(cnn_output_filepath, \"CNN\")"
   ]
  },
  {
   "cell_type": "markdown",
   "id": "932bc89e",
   "metadata": {},
   "source": [
    "### LSTM"
   ]
  },
  {
   "cell_type": "code",
   "execution_count": 3,
   "id": "ba83b7cc",
   "metadata": {
    "scrolled": false
   },
   "outputs": [],
   "source": [
    "lstm_output_filepath = os.path.join(os.getcwd(), \"..\",\"..\", \"..\", \"..\", \"..\", \"output/raw/uniref90_embl_vertebrates_non_idv_t0.01_c5/20240229/host_multi/emb_sincos-lossfocalce_e50_msl1036_lstm-l_2-d_1024-lr1e-3_output.csv\")\n",
    "#auprc_analysis(lstm_output_filepath, \"LSTM\")"
   ]
  },
  {
   "cell_type": "markdown",
   "id": "39ffa326",
   "metadata": {},
   "source": [
    "### Transformer-Encoder"
   ]
  },
  {
   "cell_type": "code",
   "execution_count": 4,
   "id": "c05da9c4",
   "metadata": {
    "scrolled": false
   },
   "outputs": [],
   "source": [
    "tf_enc_output_filepath = os.path.join(os.getcwd(), \"..\",\"..\", \"..\", \"..\", \"..\", \"output/raw/uniref90_embl_vertebrates_non_idv_t0.01_c5/20240228/host_multi/emb_sincos-d1024-lossfocalce_e50_msl1036_transformer-l_6-h_8-lr1e-4_output.csv\")\n",
    "#auprc_analysis(tf_output_filepath, \"Transformer\")"
   ]
  },
  {
   "cell_type": "markdown",
   "id": "8967fbe2",
   "metadata": {},
   "source": [
    "### ProteinBERT"
   ]
  },
  {
   "cell_type": "code",
   "execution_count": 5,
   "id": "11ce1387",
   "metadata": {
    "scrolled": false
   },
   "outputs": [],
   "source": [
    "proteinbert_output_filepath = os.path.join(os.getcwd(), \"..\",\"..\", \"..\", \"..\", \"..\", \"output/raw/uniref90_embl_vertebrates_non_idv_t0.01_c5/20240306/protein_bert/prediction_results_20240308_022609_mapped.csv\")\n",
    "#auprc_analysis(ft_tf_output_filepath, \"Transformer: Pre-training + Fine-tuning\")"
   ]
  },
  {
   "cell_type": "markdown",
   "id": "cdb1fb5c",
   "metadata": {},
   "source": [
    "### VirProBERT"
   ]
  },
  {
   "cell_type": "code",
   "execution_count": 6,
   "id": "0cada127",
   "metadata": {
    "scrolled": false
   },
   "outputs": [],
   "source": [
    "virprobert_output_filepath = os.path.join(os.getcwd(), \"..\",\"..\", \"..\", \"..\", \"..\", \"output/raw/uniref90_embl_vertebrates_non_idv_t0.01_c5/20240307/host_multi/fine_tuning/mlm_tfenc_l6_h8_lr1e-4_uniref90viridae_msl1366_host_prediction_fnn_2l_d1024_lr1e-4_fe20_ufe30_output.csv\")\n",
    "#auprc_analysis(ft_tf_output_filepath, \"Transformer: Pre-training + Fine-tuning\")"
   ]
  },
  {
   "cell_type": "markdown",
   "id": "596600cb",
   "metadata": {},
   "source": [
    "### Classwise AUPRC of all models"
   ]
  },
  {
   "cell_type": "code",
   "execution_count": 9,
   "id": "7f40fcf4",
   "metadata": {
    "scrolled": false
   },
   "outputs": [],
   "source": [
    "output_filepaths = {\n",
    "    # \"FNN_10l\": fnn_output_filepath,\n",
    "    # \"RNN_6l\": rnn_output_filepath,\n",
    "    \"CNN\": cnn_output_filepath,\n",
    "    \"LSTM\": lstm_output_filepath,\n",
    "    \"Transformer-Encoder\": tf_enc_output_filepath,\n",
    "    \"ProteinBERT\": proteinbert_output_filepath,\n",
    "    \"VirProBERT\": virprobert_output_filepath\n",
    "}\n",
    "classes = [\"Human\", \"Capybara\", \"Himalayan marmot\", \"Pig\", \"Red junglefowl\"]\n",
    "#auprc_analysis_classes_subset(output_filepaths, classes)"
   ]
  },
  {
   "cell_type": "code",
   "execution_count": 20,
   "id": "0b4586fb",
   "metadata": {},
   "outputs": [
    {
     "name": "stdout",
     "output_type": "stream",
     "text": [
      "Read output CNN = (15860, 7)\n",
      "Read output LSTM = (15860, 7)\n",
      "Read output Transformer-Encoder = (15860, 7)\n",
      "Read output ProteinBERT = (15860, 8)\n"
     ]
    },
    {
     "name": "stderr",
     "output_type": "stream",
     "text": [
      "/home/blessyantony/.local/lib/python3.8/site-packages/sklearn/metrics/_ranking.py:980: UserWarning: No positive class found in y_true, recall is set to one for all thresholds.\n",
      "  warnings.warn(\n",
      "/home/blessyantony/.local/lib/python3.8/site-packages/sklearn/metrics/_ranking.py:980: UserWarning: No positive class found in y_true, recall is set to one for all thresholds.\n",
      "  warnings.warn(\n",
      "/home/blessyantony/.local/lib/python3.8/site-packages/sklearn/metrics/_ranking.py:980: UserWarning: No positive class found in y_true, recall is set to one for all thresholds.\n",
      "  warnings.warn(\n",
      "/home/blessyantony/.local/lib/python3.8/site-packages/sklearn/metrics/_ranking.py:980: UserWarning: No positive class found in y_true, recall is set to one for all thresholds.\n",
      "  warnings.warn(\n",
      "/home/blessyantony/.local/lib/python3.8/site-packages/sklearn/metrics/_ranking.py:980: UserWarning: No positive class found in y_true, recall is set to one for all thresholds.\n",
      "  warnings.warn(\n"
     ]
    },
    {
     "name": "stdout",
     "output_type": "stream",
     "text": [
      "Read output VirProBERT = (15860, 7)\n"
     ]
    },
    {
     "name": "stderr",
     "output_type": "stream",
     "text": [
      "/home/blessyantony/dev/git/zoonosis/src/jupyter_notebooks/results-analysis/uniref90/embl/../../../../../src/utils/visualization_utils.py:104: UserWarning: FixedFormatter should only be used together with FixedLocator\n",
      "  ax.set_xticklabels(wrapped_labels, rotation=0)\n"
     ]
    },
    {
     "data": {
      "text/plain": [
       "<Figure size 432x288 with 0 Axes>"
      ]
     },
     "metadata": {},
     "output_type": "display_data"
    },
    {
     "data": {
      "image/png": "[encoded data removed]",
      "text/plain": [
       "<Figure size 720x576 with 1 Axes>"
      ]
     },
     "metadata": {
      "needs_background": "light"
     },
     "output_type": "display_data"
    }
   ],
   "source": [
    "figure_output_filepath = os.path.join(os.getcwd(), \"..\",\"..\", \"..\", \"..\", \"..\", \"output/visualization/uniref90/20240312/prelim_exam/host_multi_all_models_classwise_aurpc_boxplot.pdf\")\n",
    "auprc_results_df = class_wise_auprc_analysis(output_filepaths, classes, figure_output_filepath)"
   ]
  },
  {
   "cell_type": "code",
   "execution_count": 22,
   "id": "dfd44b91",
   "metadata": {},
   "outputs": [],
   "source": [
    "virprobert_auprc_results_df = auprc_results_df[auprc_results_df[\"model\"] == \"VirProBERT\"]"
   ]
  },
  {
   "cell_type": "code",
   "execution_count": 23,
   "id": "0c0beecd",
   "metadata": {},
   "outputs": [
    {
     "data": {
      "text/html": [
       "<div>\n",
       "<style scoped>\n",
       "    .dataframe tbody tr th:only-of-type {\n",
       "        vertical-align: middle;\n",
       "    }\n",
       "\n",
       "    .dataframe tbody tr th {\n",
       "        vertical-align: top;\n",
       "    }\n",
       "\n",
       "    .dataframe thead th {\n",
       "        text-align: right;\n",
       "    }\n",
       "</style>\n",
       "<table border=\"1\" class=\"dataframe\">\n",
       "  <thead>\n",
       "    <tr style=\"text-align: right;\">\n",
       "      <th></th>\n",
       "      <th>class</th>\n",
       "      <th>auprc</th>\n",
       "      <th>model</th>\n",
       "      <th>itr</th>\n",
       "    </tr>\n",
       "  </thead>\n",
       "  <tbody>\n",
       "    <tr>\n",
       "      <th>105</th>\n",
       "      <td>Pig (4.07%)</td>\n",
       "      <td>0.696788</td>\n",
       "      <td>VirProBERT</td>\n",
       "      <td>0</td>\n",
       "    </tr>\n",
       "    <tr>\n",
       "      <th>106</th>\n",
       "      <td>Human (90.73%)</td>\n",
       "      <td>0.996848</td>\n",
       "      <td>VirProBERT</td>\n",
       "      <td>0</td>\n",
       "    </tr>\n",
       "    <tr>\n",
       "      <th>107</th>\n",
       "      <td>Capybara (1.95%)</td>\n",
       "      <td>0.698943</td>\n",
       "      <td>VirProBERT</td>\n",
       "      <td>0</td>\n",
       "    </tr>\n",
       "    <tr>\n",
       "      <th>108</th>\n",
       "      <td>Himalayan marmot (1.70%)</td>\n",
       "      <td>0.963776</td>\n",
       "      <td>VirProBERT</td>\n",
       "      <td>0</td>\n",
       "    </tr>\n",
       "    <tr>\n",
       "      <th>109</th>\n",
       "      <td>Red junglefowl (1.54%)</td>\n",
       "      <td>0.443607</td>\n",
       "      <td>VirProBERT</td>\n",
       "      <td>0</td>\n",
       "    </tr>\n",
       "    <tr>\n",
       "      <th>110</th>\n",
       "      <td>Pig (4.07%)</td>\n",
       "      <td>0.711858</td>\n",
       "      <td>VirProBERT</td>\n",
       "      <td>1</td>\n",
       "    </tr>\n",
       "    <tr>\n",
       "      <th>111</th>\n",
       "      <td>Human (90.73%)</td>\n",
       "      <td>0.997478</td>\n",
       "      <td>VirProBERT</td>\n",
       "      <td>1</td>\n",
       "    </tr>\n",
       "    <tr>\n",
       "      <th>112</th>\n",
       "      <td>Capybara (1.95%)</td>\n",
       "      <td>0.778164</td>\n",
       "      <td>VirProBERT</td>\n",
       "      <td>1</td>\n",
       "    </tr>\n",
       "    <tr>\n",
       "      <th>113</th>\n",
       "      <td>Himalayan marmot (1.70%)</td>\n",
       "      <td>0.931951</td>\n",
       "      <td>VirProBERT</td>\n",
       "      <td>1</td>\n",
       "    </tr>\n",
       "    <tr>\n",
       "      <th>114</th>\n",
       "      <td>Red junglefowl (1.54%)</td>\n",
       "      <td>0.345904</td>\n",
       "      <td>VirProBERT</td>\n",
       "      <td>1</td>\n",
       "    </tr>\n",
       "    <tr>\n",
       "      <th>115</th>\n",
       "      <td>Pig (4.07%)</td>\n",
       "      <td>0.638704</td>\n",
       "      <td>VirProBERT</td>\n",
       "      <td>2</td>\n",
       "    </tr>\n",
       "    <tr>\n",
       "      <th>116</th>\n",
       "      <td>Human (90.73%)</td>\n",
       "      <td>0.996520</td>\n",
       "      <td>VirProBERT</td>\n",
       "      <td>2</td>\n",
       "    </tr>\n",
       "    <tr>\n",
       "      <th>117</th>\n",
       "      <td>Capybara (1.95%)</td>\n",
       "      <td>0.777786</td>\n",
       "      <td>VirProBERT</td>\n",
       "      <td>2</td>\n",
       "    </tr>\n",
       "    <tr>\n",
       "      <th>118</th>\n",
       "      <td>Himalayan marmot (1.70%)</td>\n",
       "      <td>0.926304</td>\n",
       "      <td>VirProBERT</td>\n",
       "      <td>2</td>\n",
       "    </tr>\n",
       "    <tr>\n",
       "      <th>119</th>\n",
       "      <td>Red junglefowl (1.54%)</td>\n",
       "      <td>0.433723</td>\n",
       "      <td>VirProBERT</td>\n",
       "      <td>2</td>\n",
       "    </tr>\n",
       "    <tr>\n",
       "      <th>120</th>\n",
       "      <td>Pig (4.07%)</td>\n",
       "      <td>0.656689</td>\n",
       "      <td>VirProBERT</td>\n",
       "      <td>3</td>\n",
       "    </tr>\n",
       "    <tr>\n",
       "      <th>121</th>\n",
       "      <td>Human (90.73%)</td>\n",
       "      <td>0.997045</td>\n",
       "      <td>VirProBERT</td>\n",
       "      <td>3</td>\n",
       "    </tr>\n",
       "    <tr>\n",
       "      <th>122</th>\n",
       "      <td>Capybara (1.95%)</td>\n",
       "      <td>0.685050</td>\n",
       "      <td>VirProBERT</td>\n",
       "      <td>3</td>\n",
       "    </tr>\n",
       "    <tr>\n",
       "      <th>123</th>\n",
       "      <td>Himalayan marmot (1.70%)</td>\n",
       "      <td>0.950734</td>\n",
       "      <td>VirProBERT</td>\n",
       "      <td>3</td>\n",
       "    </tr>\n",
       "    <tr>\n",
       "      <th>124</th>\n",
       "      <td>Red junglefowl (1.54%)</td>\n",
       "      <td>0.389029</td>\n",
       "      <td>VirProBERT</td>\n",
       "      <td>3</td>\n",
       "    </tr>\n",
       "    <tr>\n",
       "      <th>125</th>\n",
       "      <td>Pig (4.07%)</td>\n",
       "      <td>0.651638</td>\n",
       "      <td>VirProBERT</td>\n",
       "      <td>4</td>\n",
       "    </tr>\n",
       "    <tr>\n",
       "      <th>126</th>\n",
       "      <td>Human (90.73%)</td>\n",
       "      <td>0.997035</td>\n",
       "      <td>VirProBERT</td>\n",
       "      <td>4</td>\n",
       "    </tr>\n",
       "    <tr>\n",
       "      <th>127</th>\n",
       "      <td>Capybara (1.95%)</td>\n",
       "      <td>0.691191</td>\n",
       "      <td>VirProBERT</td>\n",
       "      <td>4</td>\n",
       "    </tr>\n",
       "    <tr>\n",
       "      <th>128</th>\n",
       "      <td>Himalayan marmot (1.70%)</td>\n",
       "      <td>0.965965</td>\n",
       "      <td>VirProBERT</td>\n",
       "      <td>4</td>\n",
       "    </tr>\n",
       "    <tr>\n",
       "      <th>129</th>\n",
       "      <td>Red junglefowl (1.54%)</td>\n",
       "      <td>0.347577</td>\n",
       "      <td>VirProBERT</td>\n",
       "      <td>4</td>\n",
       "    </tr>\n",
       "  </tbody>\n",
       "</table>\n",
       "</div>"
      ],
      "text/plain": [
       "                        class     auprc       model  itr\n",
       "105               Pig (4.07%)  0.696788  VirProBERT    0\n",
       "106            Human (90.73%)  0.996848  VirProBERT    0\n",
       "107          Capybara (1.95%)  0.698943  VirProBERT    0\n",
       "108  Himalayan marmot (1.70%)  0.963776  VirProBERT    0\n",
       "109    Red junglefowl (1.54%)  0.443607  VirProBERT    0\n",
       "110               Pig (4.07%)  0.711858  VirProBERT    1\n",
       "111            Human (90.73%)  0.997478  VirProBERT    1\n",
       "112          Capybara (1.95%)  0.778164  VirProBERT    1\n",
       "113  Himalayan marmot (1.70%)  0.931951  VirProBERT    1\n",
       "114    Red junglefowl (1.54%)  0.345904  VirProBERT    1\n",
       "115               Pig (4.07%)  0.638704  VirProBERT    2\n",
       "116            Human (90.73%)  0.996520  VirProBERT    2\n",
       "117          Capybara (1.95%)  0.777786  VirProBERT    2\n",
       "118  Himalayan marmot (1.70%)  0.926304  VirProBERT    2\n",
       "119    Red junglefowl (1.54%)  0.433723  VirProBERT    2\n",
       "120               Pig (4.07%)  0.656689  VirProBERT    3\n",
       "121            Human (90.73%)  0.997045  VirProBERT    3\n",
       "122          Capybara (1.95%)  0.685050  VirProBERT    3\n",
       "123  Himalayan marmot (1.70%)  0.950734  VirProBERT    3\n",
       "124    Red junglefowl (1.54%)  0.389029  VirProBERT    3\n",
       "125               Pig (4.07%)  0.651638  VirProBERT    4\n",
       "126            Human (90.73%)  0.997035  VirProBERT    4\n",
       "127          Capybara (1.95%)  0.691191  VirProBERT    4\n",
       "128  Himalayan marmot (1.70%)  0.965965  VirProBERT    4\n",
       "129    Red junglefowl (1.54%)  0.347577  VirProBERT    4"
      ]
     },
     "execution_count": 23,
     "metadata": {},
     "output_type": "execute_result"
    }
   ],
   "source": [
    "virprobert_auprc_results_df"
   ]
  },
  {
   "cell_type": "code",
   "execution_count": 24,
   "id": "fb355b89",
   "metadata": {},
   "outputs": [
    {
     "data": {
      "text/html": [
       "<div>\n",
       "<style scoped>\n",
       "    .dataframe tbody tr th:only-of-type {\n",
       "        vertical-align: middle;\n",
       "    }\n",
       "\n",
       "    .dataframe tbody tr th {\n",
       "        vertical-align: top;\n",
       "    }\n",
       "\n",
       "    .dataframe thead th {\n",
       "        text-align: right;\n",
       "    }\n",
       "</style>\n",
       "<table border=\"1\" class=\"dataframe\">\n",
       "  <thead>\n",
       "    <tr style=\"text-align: right;\">\n",
       "      <th></th>\n",
       "      <th>auprc</th>\n",
       "    </tr>\n",
       "    <tr>\n",
       "      <th>class</th>\n",
       "      <th></th>\n",
       "    </tr>\n",
       "  </thead>\n",
       "  <tbody>\n",
       "    <tr>\n",
       "      <th>Capybara (1.95%)</th>\n",
       "      <td>0.726227</td>\n",
       "    </tr>\n",
       "    <tr>\n",
       "      <th>Himalayan marmot (1.70%)</th>\n",
       "      <td>0.947746</td>\n",
       "    </tr>\n",
       "    <tr>\n",
       "      <th>Human (90.73%)</th>\n",
       "      <td>0.996985</td>\n",
       "    </tr>\n",
       "    <tr>\n",
       "      <th>Pig (4.07%)</th>\n",
       "      <td>0.671135</td>\n",
       "    </tr>\n",
       "    <tr>\n",
       "      <th>Red junglefowl (1.54%)</th>\n",
       "      <td>0.391968</td>\n",
       "    </tr>\n",
       "  </tbody>\n",
       "</table>\n",
       "</div>"
      ],
      "text/plain": [
       "                             auprc\n",
       "class                             \n",
       "Capybara (1.95%)          0.726227\n",
       "Himalayan marmot (1.70%)  0.947746\n",
       "Human (90.73%)            0.996985\n",
       "Pig (4.07%)               0.671135\n",
       "Red junglefowl (1.54%)    0.391968"
      ]
     },
     "execution_count": 24,
     "metadata": {},
     "output_type": "execute_result"
    }
   ],
   "source": [
    "virprobert_auprc_results_df[[\"class\", \"auprc\"]].groupby(\"class\").mean(\"auprc\")"
   ]
  },
  {
   "cell_type": "code",
   "execution_count": null,
   "id": "0810bf86",
   "metadata": {},
   "outputs": [],
   "source": []
  }
 ],
 "metadata": {
  "kernelspec": {
   "display_name": "Python 3 (ipykernel)",
   "language": "python",
   "name": "python3"
  },
  "language_info": {
   "codemirror_mode": {
    "name": "ipython",
    "version": 3
   },
   "file_extension": ".py",
   "mimetype": "text/x-python",
   "name": "python",
   "nbconvert_exporter": "python",
   "pygments_lexer": "ipython3",
   "version": "3.9.7"
  }
 },
 "nbformat": 4,
 "nbformat_minor": 5
}
