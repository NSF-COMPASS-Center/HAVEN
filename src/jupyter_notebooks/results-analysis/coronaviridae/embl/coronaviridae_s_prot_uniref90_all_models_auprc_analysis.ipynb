{
 "cells": [
  {
   "cell_type": "markdown",
   "id": "5e2ecf0f",
   "metadata": {},
   "source": [
    "## Results of Host Prediction\n",
    "### Dataset: Coronaviridae S prot, EMBL mapping, Vertebrates\n",
    "\n",
    "**Models**: TF - Pretrain  + finetune\n",
    "\n",
    "**Positional Embedding**: Sin-Cos\n",
    "\n",
    "**Maximum Sequence Length**: 1336\n",
    "\n",
    "**Classification**: Multi-class\n",
    "\n",
    "**\\# classes**: 8\n",
    "\n",
    "**\\# train samples** = \n",
    "\n",
    "**\\# validation samples** = \n",
    "\n",
    "**\\# test samples** = "
   ]
  },
  {
   "cell_type": "code",
   "execution_count": 1,
   "id": "8349fb54",
   "metadata": {},
   "outputs": [],
   "source": [
    "import seaborn"
   ]
  },
  {
   "cell_type": "code",
   "execution_count": 2,
   "id": "48749e31",
   "metadata": {},
   "outputs": [
    {
     "data": {
      "text/plain": [
       "'0.12.0'"
      ]
     },
     "execution_count": 2,
     "metadata": {},
     "output_type": "execute_result"
    }
   ],
   "source": [
    "seaborn.__version__"
   ]
  },
  {
   "cell_type": "code",
   "execution_count": 3,
   "id": "6cfca147",
   "metadata": {
    "scrolled": false
   },
   "outputs": [
    {
     "data": {
      "text/plain": [
       "['/home/blessyantony/dev/git/zoonosis/src/jupyter_notebooks/results-analysis/coronaviridae/embl',\n",
       " '/opt/conda/lib/python38.zip',\n",
       " '/opt/conda/lib/python3.8',\n",
       " '/opt/conda/lib/python3.8/lib-dynload',\n",
       " '',\n",
       " '/home/blessyantony/.local/lib/python3.8/site-packages',\n",
       " '/opt/conda/lib/python3.8/site-packages',\n",
       " '/opt/conda/lib/python3.8/site-packages/IPython/extensions',\n",
       " '/home/blessyantony/.ipython',\n",
       " '/home/blessyantony/dev/git/zoonosis/src/jupyter_notebooks/results-analysis/coronaviridae/embl/../../../../..',\n",
       " '/home/blessyantony/dev/git/zoonosis/src/jupyter_notebooks/results-analysis/coronaviridae/embl/../../../..',\n",
       " '/home/blessyantony/dev/git/zoonosis/src/jupyter_notebooks/results-analysis/coronaviridae/embl/../../..',\n",
       " '/home/blessyantony/dev/git/zoonosis/src/jupyter_notebooks/results-analysis/coronaviridae/embl/../..']"
      ]
     },
     "execution_count": 3,
     "metadata": {},
     "output_type": "execute_result"
    }
   ],
   "source": [
    "import sys\n",
    "import os\n",
    "sys.path.append(os.path.join(os.getcwd(), \"..\", \"..\", \"..\", \"..\", \"..\"))\n",
    "sys.path.append(os.path.join(os.getcwd(), \"..\", \"..\", \"..\", \"..\"))\n",
    "sys.path.append(os.path.join(os.getcwd(), \"..\", \"..\", \"..\"))\n",
    "sys.path.append(os.path.join(os.getcwd(), \"..\", \"..\"))\n",
    "sys.path"
   ]
  },
  {
   "cell_type": "code",
   "execution_count": 4,
   "id": "22cbf7ce",
   "metadata": {
    "scrolled": true
   },
   "outputs": [],
   "source": [
    "import pandas as pd\n",
    "import os\n",
    "import numpy as np\n",
    "import seaborn as sns\n",
    "import matplotlib.pyplot as plt\n",
    "from pathlib import Path\n",
    "\n",
    "from src.utils import utils, evaluation_utils, visualization_utils"
   ]
  },
  {
   "cell_type": "code",
   "execution_count": 21,
   "id": "cb6c3cc1",
   "metadata": {
    "scrolled": true
   },
   "outputs": [],
   "source": [
    "itr_col = \"itr\"\n",
    "experiment_col = \"experiment\"\n",
    "y_true_col = \"y_true\"\n",
    "human_col = \"Human\"\n",
    "plt.rcParams['xtick.labelsize'] = 20\n",
    "plt.rcParams['ytick.labelsize'] = 20\n",
    "plt.rcParams['figure.autolayout'] = True\n",
    "\n",
    "DEFAULT_FIGURE_CONFIG = {\n",
    "    \"figsize\": (10, 10),\n",
    "    \"xtick.labelsize\": 18,\n",
    "    \"ytick.labelsize\": 18    \n",
    "}\n",
    "\n",
    "\n",
    "def plot_auprc(auprc_df, metadata, model_name):\n",
    "    # sort by median\n",
    "    sorted_median_auprc_df = auprc_df.groupby(\"class\")[\"auprc\"].median().sort_values(ascending=False)\n",
    "    visualization_utils.pre_plot_config(DEFAULT_FIGURE_CONFIG)\n",
    "    plt.rcParams['xtick.labelsize'] = 18\n",
    "    plt.rcParams['ytick.labelsize'] = 18\n",
    "    ax = sns.boxplot(data=auprc_df, x=\"class\", y=\"auprc\", order=sorted_median_auprc_df.index)\n",
    "    \n",
    "    ax.set_ylim(0, 1)\n",
    "    # ax.set_xticklabels([metadata[t.get_text()] for t in ax.get_xticklabels()])\n",
    "    ax.set_title(f\"Model = {model_name}\")\n",
    "    plt.tight_layout()\n",
    "    plt.xticks(rotation=-90)\n",
    "    plt.show()\n",
    "        \n",
    "def auprc_analysis(output_filepath, model_name):\n",
    "    df = pd.read_csv(output_filepath, index_col=0)\n",
    "    print(f\"Read output size = {df.shape}\")\n",
    "    cols = df.columns\n",
    "    non_human_cols = list(set(cols) - set([itr_col, experiment_col, y_true_col, human_col]))\n",
    "    print(f\"NonHuman cols = {non_human_cols}\")\n",
    "    itrs = df[itr_col].unique()\n",
    "    \n",
    "    auprc = []\n",
    "    pr_curves = []\n",
    "    for itr in itrs:\n",
    "        df_itr = df[df[itr_col] == itr]\n",
    "        pr_curves_df, auprcs_df = evaluation_utils.compute_class_auprc(df_itr, y_pred_columns=non_human_cols + [human_col], y_true_col=y_true_col)\n",
    "        pr_curves_df[itr_col] = itr\n",
    "        auprcs_df[itr_col] = itr\n",
    "        auprc.append(auprcs_df)\n",
    "        pr_curves.append(pr_curves_df)\n",
    "\n",
    "    auprc_df = pd.concat(auprc, ignore_index=True)\n",
    "    pr_curves_df = pd.concat(pr_curves, ignore_index=True)\n",
    "    \n",
    "    metadata = utils.compute_class_distribution(df_itr, y_true_col, format=True)\n",
    "    \n",
    "    plot_auprc(auprc_df, metadata, model_name)\n",
    "    visualization_utils.curve_plot(pr_curves_df, x_col=\"recall\", y_col=\"precision\",\n",
    "                                   color_group_col=\"class\", style_group_col=None,\n",
    "                                   output_file_path=None, metadata=metadata)\n",
    "    \n",
    "\n",
    "def auprc_analysis_classes_subset(output_filepaths, classes):\n",
    "    macro_auprcs = []\n",
    "    for model, output_filepath in output_filepaths.items():\n",
    "        df = pd.read_csv(output_filepath, index_col=0)\n",
    "        print(f\"Read output {model} = {df.shape}\")\n",
    "        \n",
    "        itrs = df[itr_col].unique()\n",
    "    \n",
    "        for itr in itrs:\n",
    "            df_itr = df[df[itr_col] == itr]\n",
    "            _, auprcs_df = evaluation_utils.compute_class_auprc(df_itr, y_pred_columns=classes, y_true_col=y_true_col)\n",
    "            macro_auprcs.append({\"model\": model,\n",
    "                                 \"itr\": itr,\n",
    "                                 \"auprc\": auprcs_df[\"auprc\"].mean()})\n",
    "    macro_auprcs_df = pd.DataFrame(macro_auprcs)\n",
    "\n",
    "    visualization_utils.pre_plot_config(DEFAULT_FIGURE_CONFIG)\n",
    "    ax = sns.boxplot(data=macro_auprcs_df, x=\"model\", y=\"auprc\")\n",
    "    \n",
    "    ax.set_ylim(0, 1)\n",
    "    ax.set_ylabel(\"AUPRC\", size=20)\n",
    "    ax.set_title(f\"Macro AUPRC [Classes = {classes}]\")\n",
    "    visualization_utils.wrap_ticklabels(ax, axis=\"x\")\n",
    "    visualization_utils.view(figure_output_filepath)\n",
    "    plt.show()\n",
    "    "
   ]
  },
  {
   "cell_type": "code",
   "execution_count": 27,
   "id": "e1e184b3",
   "metadata": {
    "scrolled": true
   },
   "outputs": [],
   "source": [
    "def class_wise_auprc_analysis(output_filepaths, classes, figure_output_filepath=None):\n",
    "    auprc_results = []\n",
    "    for model, output_filepath in output_filepaths.items():\n",
    "        df = pd.read_csv(output_filepath, index_col=0)\n",
    "        print(f\"Read output {model} = {df.shape}\")\n",
    "        \n",
    "        cols = df.columns\n",
    "        classes = list(set(cols) - set([itr_col, experiment_col, y_true_col]))\n",
    "        itrs = df[itr_col].unique()\n",
    "    \n",
    "        for itr in itrs:\n",
    "            df_itr = df[df[itr_col] == itr]\n",
    "            _, auprcs_df = evaluation_utils.compute_class_auprc(df_itr, y_pred_columns=classes, y_true_col=y_true_col)\n",
    "            auprcs_df[\"model\"] = model\n",
    "            auprcs_df[\"itr\"] = itr\n",
    "            auprc_results.append(auprcs_df)\n",
    "    metadata = utils.compute_class_distribution(df_itr, y_true_col, format=False)\n",
    "    metadata_formatted = utils.compute_class_distribution(df_itr, y_true_col, format=True)\n",
    "    metadata_sorted = {}\n",
    "    for k, v in metadata.items():\n",
    "        metadata_sorted[metadata_formatted[k]] = v\n",
    "\n",
    "    auprc_results_df = pd.concat(auprc_results, ignore_index=True)\n",
    "    auprc_results_df.replace({\"class\":metadata_formatted}, inplace=True)\n",
    "    \n",
    "    FIGURE_CONFIG = {\n",
    "        \"figsize\": (10, 8),\n",
    "        \"xtick.labelsize\": 16,\n",
    "        \"ytick.labelsize\": 16    \n",
    "    }\n",
    "\n",
    "    visualization_utils.pre_plot_config(FIGURE_CONFIG)\n",
    "    ax = sns.boxplot(data=auprc_results_df, x=\"class\", y=\"auprc\", hue=\"model\", order=metadata_sorted)\n",
    "    plt.draw()\n",
    "    \n",
    "    ax.set_ylim(0, 1)\n",
    "    ax.set_ylabel(\"AUPRC\", size=18)\n",
    "    ax.set_xlabel(\"Classes\", size=18, labelpad=2)\n",
    "    sns.move_legend(ax, \"lower center\", bbox_to_anchor=(.5, 1), ncol=5, title=None, frameon=False)\n",
    "    plt.setp(ax.get_legend().get_texts(), fontsize=16)\n",
    "    visualization_utils.wrap_ticklabels(ax, axis=\"x\")\n",
    "    visualization_utils.view(figure_output_filepath)\n",
    "    plt.show()\n",
    "    return auprc_results_df"
   ]
  },
  {
   "cell_type": "markdown",
   "id": "683fadcd",
   "metadata": {},
   "source": [
    "### FNN"
   ]
  },
  {
   "cell_type": "code",
   "execution_count": 23,
   "id": "273a74e0",
   "metadata": {
    "scrolled": false
   },
   "outputs": [],
   "source": [
    "fnn_output_filepath = os.path.join(os.getcwd(), \"..\",\"..\", \"..\", \"..\", \"..\", \"output/raw/uniref90_embl_vertebrates_non_idv_t0.01_c5/20240229/host_multi/emb_sincos-lossfocalce_e50_msl1036_fnn-l_10-d_1024-lr1e-3_output.csv\")\n",
    "#auprc_analysis(fnn_output_filepath, \"FNN\")"
   ]
  },
  {
   "cell_type": "markdown",
   "id": "44693c18",
   "metadata": {},
   "source": [
    "\n",
    "### RNN"
   ]
  },
  {
   "cell_type": "code",
   "execution_count": 8,
   "id": "12ef4987",
   "metadata": {
    "scrolled": false
   },
   "outputs": [],
   "source": [
    "#rnn_output_filepath = os.path.join(os.getcwd(), \"..\",\"..\", \"..\", \"..\", \"..\", \"output/raw/uniref90_embl_vertebrates_non_idv_t0.01_c5/20240229/host_multi/emb_sincos-lossfocalce_e50_msl1036_rnn-l_6-d_1024-lr1e-5_output.csv\")\n",
    "#auprc_analysis(rnn_output_filepath, \"RNN\")"
   ]
  },
  {
   "cell_type": "markdown",
   "id": "23c5dc40",
   "metadata": {},
   "source": [
    "### CNN"
   ]
  },
  {
   "cell_type": "code",
   "execution_count": 9,
   "id": "243b87a4",
   "metadata": {
    "scrolled": false
   },
   "outputs": [],
   "source": [
    "cnn_output_filepath = os.path.join(os.getcwd(), \"..\",\"..\", \"..\", \"..\", \"..\", \"output/raw/uniref90_embl_vertebrates_non_idv_t0.01_c5/20240229/host_multi/emb_sincos-lossfocalce_e50_msl1036_cnn-l_4-d_1024-k3s1-lr1e-3_output.csv\")\n",
    "#auprc_analysis(cnn_output_filepath, \"CNN\")"
   ]
  },
  {
   "cell_type": "markdown",
   "id": "932bc89e",
   "metadata": {},
   "source": [
    "### LSTM"
   ]
  },
  {
   "cell_type": "code",
   "execution_count": 10,
   "id": "ba83b7cc",
   "metadata": {
    "scrolled": false
   },
   "outputs": [],
   "source": [
    "lstm_output_filepath = os.path.join(os.getcwd(), \"..\",\"..\", \"..\", \"..\", \"..\", \"output/raw/uniref90_embl_vertebrates_non_idv_t0.01_c5/20240229/host_multi/emb_sincos-lossfocalce_e50_msl1036_lstm-l_2-d_1024-lr1e-3_output.csv\")\n",
    "#auprc_analysis(lstm_output_filepath, \"LSTM\")"
   ]
  },
  {
   "cell_type": "markdown",
   "id": "39ffa326",
   "metadata": {},
   "source": [
    "### Transformer-Encoder"
   ]
  },
  {
   "cell_type": "code",
   "execution_count": 11,
   "id": "c05da9c4",
   "metadata": {
    "scrolled": false
   },
   "outputs": [],
   "source": [
    "tf_enc_output_filepath = os.path.join(os.getcwd(), \"..\",\"..\", \"..\", \"..\", \"..\", \"output/raw/uniref90_embl_vertebrates_non_idv_t0.01_c5/20240228/host_multi/emb_sincos-d1024-lossfocalce_e50_msl1036_transformer-l_6-h_8-lr1e-4_output.csv\")\n",
    "#auprc_analysis(tf_output_filepath, \"Transformer\")"
   ]
  },
  {
   "cell_type": "markdown",
   "id": "8967fbe2",
   "metadata": {},
   "source": [
    "### ProteinBERT"
   ]
  },
  {
   "cell_type": "code",
   "execution_count": 12,
   "id": "11ce1387",
   "metadata": {
    "scrolled": false
   },
   "outputs": [],
   "source": [
    "proteinbert_output_filepath = os.path.join(os.getcwd(), \"..\",\"..\", \"..\", \"..\", \"..\", \"output/raw/uniref90_embl_vertebrates_non_idv_t0.01_c5/20240306/protein_bert/prediction_results_20240308_022609_mapped.csv\")\n",
    "#auprc_analysis(ft_tf_output_filepath, \"Transformer: Pre-training + Fine-tuning\")"
   ]
  },
  {
   "cell_type": "markdown",
   "id": "cdb1fb5c",
   "metadata": {},
   "source": [
    "### VirProBERT"
   ]
  },
  {
   "cell_type": "code",
   "execution_count": 13,
   "id": "0cada127",
   "metadata": {
    "scrolled": false
   },
   "outputs": [],
   "source": [
    "virprobert_output_filepath = os.path.join(os.getcwd(), \"..\",\"..\", \"..\", \"..\", \"..\", \"output/raw/coronaviridae_s_prot_embl_vertebrates_t0.01_c8/20240320/fine_tuning/host_prediction/mlm_tfenc_l6_h8_lr1e-4_uniprot_coronaviridae_s_msl1366_host_prediction_fnn_2l_d1024_lr1e-4_output.csv\")\n",
    "#auprc_analysis(ft_tf_output_filepath, \"Transformer: Pre-training + Fine-tuning\")"
   ]
  },
  {
   "cell_type": "markdown",
   "id": "596600cb",
   "metadata": {},
   "source": [
    "### Classwise AUPRC of all models"
   ]
  },
  {
   "cell_type": "code",
   "execution_count": 14,
   "id": "7f40fcf4",
   "metadata": {
    "scrolled": false
   },
   "outputs": [],
   "source": [
    "output_filepaths = {\n",
    "    # \"FNN_10l\": fnn_output_filepath,\n",
    "    # \"RNN_6l\": rnn_output_filepath,\n",
    "    # \"CNN\": cnn_output_filepath,\n",
    "    # \"LSTM\": lstm_output_filepath,\n",
    "    # \"Transformer-Encoder\": tf_enc_output_filepath,\n",
    "    # \"ProteinBERT\": proteinbert_output_filepath,\n",
    "    \"VirProBERT\": virprobert_output_filepath\n",
    "}\n",
    "classes = [\"Cat\", \"Chicken\", \"Chinese rufous horseshoe bat\", \"Ferret\", \"Gray wolf\", \"Horshoe bat\", \"Human\", \"Pig\"]\n",
    "#auprc_analysis_classes_subset(output_filepaths, classes)"
   ]
  },
  {
   "cell_type": "code",
   "execution_count": 28,
   "id": "0b4586fb",
   "metadata": {},
   "outputs": [
    {
     "name": "stdout",
     "output_type": "stream",
     "text": [
      "Read output VirProBERT = (345, 10)\n"
     ]
    },
    {
     "data": {
      "text/plain": [
       "<Figure size 432x288 with 0 Axes>"
      ]
     },
     "metadata": {},
     "output_type": "display_data"
    },
    {
     "data": {
      "image/png": "[encoded data removed]",
      "text/plain": [
       "<Figure size 720x576 with 1 Axes>"
      ]
     },
     "metadata": {},
     "output_type": "display_data"
    }
   ],
   "source": [
    "figure_output_filepath = os.path.join(os.getcwd(), \"..\",\"..\", \"..\", \"..\", \"..\", \"output/visualization/temp/host_multi_all_models_coronaviridae_s_prot_classwise_aurpc_boxplot.pdf\")\n",
    "auprc_results_df = class_wise_auprc_analysis(output_filepaths, classes, figure_output_filepath)"
   ]
  },
  {
   "cell_type": "code",
   "execution_count": 14,
   "id": "dfd44b91",
   "metadata": {},
   "outputs": [],
   "source": [
    "virprobert_auprc_results_df = auprc_results_df[auprc_results_df[\"model\"] == \"VirProBERT\"]"
   ]
  },
  {
   "cell_type": "code",
   "execution_count": 15,
   "id": "0c0beecd",
   "metadata": {},
   "outputs": [
    {
     "data": {
      "text/html": [
       "<div>\n",
       "<style scoped>\n",
       "    .dataframe tbody tr th:only-of-type {\n",
       "        vertical-align: middle;\n",
       "    }\n",
       "\n",
       "    .dataframe tbody tr th {\n",
       "        vertical-align: top;\n",
       "    }\n",
       "\n",
       "    .dataframe thead th {\n",
       "        text-align: right;\n",
       "    }\n",
       "</style>\n",
       "<table border=\"1\" class=\"dataframe\">\n",
       "  <thead>\n",
       "    <tr style=\"text-align: right;\">\n",
       "      <th></th>\n",
       "      <th>class</th>\n",
       "      <th>auprc</th>\n",
       "      <th>model</th>\n",
       "      <th>itr</th>\n",
       "    </tr>\n",
       "  </thead>\n",
       "  <tbody>\n",
       "    <tr>\n",
       "      <th>0</th>\n",
       "      <td>Ferret (1.45%)</td>\n",
       "      <td>1.000000</td>\n",
       "      <td>VirProBERT</td>\n",
       "      <td>0</td>\n",
       "    </tr>\n",
       "    <tr>\n",
       "      <th>1</th>\n",
       "      <td>Pig (7.25%)</td>\n",
       "      <td>0.905556</td>\n",
       "      <td>VirProBERT</td>\n",
       "      <td>0</td>\n",
       "    </tr>\n",
       "    <tr>\n",
       "      <th>2</th>\n",
       "      <td>Horshoe bat (1.45%)</td>\n",
       "      <td>1.000000</td>\n",
       "      <td>VirProBERT</td>\n",
       "      <td>0</td>\n",
       "    </tr>\n",
       "    <tr>\n",
       "      <th>3</th>\n",
       "      <td>Human (24.64%)</td>\n",
       "      <td>0.986908</td>\n",
       "      <td>VirProBERT</td>\n",
       "      <td>0</td>\n",
       "    </tr>\n",
       "    <tr>\n",
       "      <th>4</th>\n",
       "      <td>Chicken (49.28%)</td>\n",
       "      <td>1.000000</td>\n",
       "      <td>VirProBERT</td>\n",
       "      <td>0</td>\n",
       "    </tr>\n",
       "    <tr>\n",
       "      <th>5</th>\n",
       "      <td>Chinese rufous horseshoe bat (1.45%)</td>\n",
       "      <td>1.000000</td>\n",
       "      <td>VirProBERT</td>\n",
       "      <td>0</td>\n",
       "    </tr>\n",
       "    <tr>\n",
       "      <th>6</th>\n",
       "      <td>Cat (10.14%)</td>\n",
       "      <td>1.000000</td>\n",
       "      <td>VirProBERT</td>\n",
       "      <td>0</td>\n",
       "    </tr>\n",
       "    <tr>\n",
       "      <th>7</th>\n",
       "      <td>Gray wolf (4.35%)</td>\n",
       "      <td>0.850000</td>\n",
       "      <td>VirProBERT</td>\n",
       "      <td>0</td>\n",
       "    </tr>\n",
       "    <tr>\n",
       "      <th>8</th>\n",
       "      <td>Ferret (1.45%)</td>\n",
       "      <td>1.000000</td>\n",
       "      <td>VirProBERT</td>\n",
       "      <td>1</td>\n",
       "    </tr>\n",
       "    <tr>\n",
       "      <th>9</th>\n",
       "      <td>Pig (7.25%)</td>\n",
       "      <td>1.000000</td>\n",
       "      <td>VirProBERT</td>\n",
       "      <td>1</td>\n",
       "    </tr>\n",
       "    <tr>\n",
       "      <th>10</th>\n",
       "      <td>Horshoe bat (1.45%)</td>\n",
       "      <td>1.000000</td>\n",
       "      <td>VirProBERT</td>\n",
       "      <td>1</td>\n",
       "    </tr>\n",
       "    <tr>\n",
       "      <th>11</th>\n",
       "      <td>Human (24.64%)</td>\n",
       "      <td>0.941197</td>\n",
       "      <td>VirProBERT</td>\n",
       "      <td>1</td>\n",
       "    </tr>\n",
       "    <tr>\n",
       "      <th>12</th>\n",
       "      <td>Chicken (49.28%)</td>\n",
       "      <td>0.995465</td>\n",
       "      <td>VirProBERT</td>\n",
       "      <td>1</td>\n",
       "    </tr>\n",
       "    <tr>\n",
       "      <th>13</th>\n",
       "      <td>Chinese rufous horseshoe bat (1.45%)</td>\n",
       "      <td>0.250000</td>\n",
       "      <td>VirProBERT</td>\n",
       "      <td>1</td>\n",
       "    </tr>\n",
       "    <tr>\n",
       "      <th>14</th>\n",
       "      <td>Cat (10.14%)</td>\n",
       "      <td>0.900425</td>\n",
       "      <td>VirProBERT</td>\n",
       "      <td>1</td>\n",
       "    </tr>\n",
       "    <tr>\n",
       "      <th>15</th>\n",
       "      <td>Gray wolf (4.35%)</td>\n",
       "      <td>0.776786</td>\n",
       "      <td>VirProBERT</td>\n",
       "      <td>1</td>\n",
       "    </tr>\n",
       "    <tr>\n",
       "      <th>16</th>\n",
       "      <td>Ferret (1.45%)</td>\n",
       "      <td>1.000000</td>\n",
       "      <td>VirProBERT</td>\n",
       "      <td>2</td>\n",
       "    </tr>\n",
       "    <tr>\n",
       "      <th>17</th>\n",
       "      <td>Pig (7.25%)</td>\n",
       "      <td>0.826786</td>\n",
       "      <td>VirProBERT</td>\n",
       "      <td>2</td>\n",
       "    </tr>\n",
       "    <tr>\n",
       "      <th>18</th>\n",
       "      <td>Horshoe bat (1.45%)</td>\n",
       "      <td>0.166667</td>\n",
       "      <td>VirProBERT</td>\n",
       "      <td>2</td>\n",
       "    </tr>\n",
       "    <tr>\n",
       "      <th>19</th>\n",
       "      <td>Human (24.64%)</td>\n",
       "      <td>1.000000</td>\n",
       "      <td>VirProBERT</td>\n",
       "      <td>2</td>\n",
       "    </tr>\n",
       "    <tr>\n",
       "      <th>20</th>\n",
       "      <td>Chicken (49.28%)</td>\n",
       "      <td>1.000000</td>\n",
       "      <td>VirProBERT</td>\n",
       "      <td>2</td>\n",
       "    </tr>\n",
       "    <tr>\n",
       "      <th>21</th>\n",
       "      <td>Chinese rufous horseshoe bat (1.45%)</td>\n",
       "      <td>0.250000</td>\n",
       "      <td>VirProBERT</td>\n",
       "      <td>2</td>\n",
       "    </tr>\n",
       "    <tr>\n",
       "      <th>22</th>\n",
       "      <td>Cat (10.14%)</td>\n",
       "      <td>1.000000</td>\n",
       "      <td>VirProBERT</td>\n",
       "      <td>2</td>\n",
       "    </tr>\n",
       "    <tr>\n",
       "      <th>23</th>\n",
       "      <td>Gray wolf (4.35%)</td>\n",
       "      <td>1.000000</td>\n",
       "      <td>VirProBERT</td>\n",
       "      <td>2</td>\n",
       "    </tr>\n",
       "    <tr>\n",
       "      <th>24</th>\n",
       "      <td>Ferret (1.45%)</td>\n",
       "      <td>1.000000</td>\n",
       "      <td>VirProBERT</td>\n",
       "      <td>3</td>\n",
       "    </tr>\n",
       "    <tr>\n",
       "      <th>25</th>\n",
       "      <td>Pig (7.25%)</td>\n",
       "      <td>1.000000</td>\n",
       "      <td>VirProBERT</td>\n",
       "      <td>3</td>\n",
       "    </tr>\n",
       "    <tr>\n",
       "      <th>26</th>\n",
       "      <td>Horshoe bat (1.45%)</td>\n",
       "      <td>1.000000</td>\n",
       "      <td>VirProBERT</td>\n",
       "      <td>3</td>\n",
       "    </tr>\n",
       "    <tr>\n",
       "      <th>27</th>\n",
       "      <td>Human (24.64%)</td>\n",
       "      <td>0.993636</td>\n",
       "      <td>VirProBERT</td>\n",
       "      <td>3</td>\n",
       "    </tr>\n",
       "    <tr>\n",
       "      <th>28</th>\n",
       "      <td>Chicken (49.28%)</td>\n",
       "      <td>0.993694</td>\n",
       "      <td>VirProBERT</td>\n",
       "      <td>3</td>\n",
       "    </tr>\n",
       "    <tr>\n",
       "      <th>29</th>\n",
       "      <td>Chinese rufous horseshoe bat (1.45%)</td>\n",
       "      <td>0.017857</td>\n",
       "      <td>VirProBERT</td>\n",
       "      <td>3</td>\n",
       "    </tr>\n",
       "    <tr>\n",
       "      <th>30</th>\n",
       "      <td>Cat (10.14%)</td>\n",
       "      <td>0.980867</td>\n",
       "      <td>VirProBERT</td>\n",
       "      <td>3</td>\n",
       "    </tr>\n",
       "    <tr>\n",
       "      <th>31</th>\n",
       "      <td>Gray wolf (4.35%)</td>\n",
       "      <td>0.816667</td>\n",
       "      <td>VirProBERT</td>\n",
       "      <td>3</td>\n",
       "    </tr>\n",
       "    <tr>\n",
       "      <th>32</th>\n",
       "      <td>Ferret (1.45%)</td>\n",
       "      <td>1.000000</td>\n",
       "      <td>VirProBERT</td>\n",
       "      <td>4</td>\n",
       "    </tr>\n",
       "    <tr>\n",
       "      <th>33</th>\n",
       "      <td>Pig (7.25%)</td>\n",
       "      <td>1.000000</td>\n",
       "      <td>VirProBERT</td>\n",
       "      <td>4</td>\n",
       "    </tr>\n",
       "    <tr>\n",
       "      <th>34</th>\n",
       "      <td>Horshoe bat (1.45%)</td>\n",
       "      <td>1.000000</td>\n",
       "      <td>VirProBERT</td>\n",
       "      <td>4</td>\n",
       "    </tr>\n",
       "    <tr>\n",
       "      <th>35</th>\n",
       "      <td>Human (24.64%)</td>\n",
       "      <td>1.000000</td>\n",
       "      <td>VirProBERT</td>\n",
       "      <td>4</td>\n",
       "    </tr>\n",
       "    <tr>\n",
       "      <th>36</th>\n",
       "      <td>Chicken (49.28%)</td>\n",
       "      <td>1.000000</td>\n",
       "      <td>VirProBERT</td>\n",
       "      <td>4</td>\n",
       "    </tr>\n",
       "    <tr>\n",
       "      <th>37</th>\n",
       "      <td>Chinese rufous horseshoe bat (1.45%)</td>\n",
       "      <td>1.000000</td>\n",
       "      <td>VirProBERT</td>\n",
       "      <td>4</td>\n",
       "    </tr>\n",
       "    <tr>\n",
       "      <th>38</th>\n",
       "      <td>Cat (10.14%)</td>\n",
       "      <td>1.000000</td>\n",
       "      <td>VirProBERT</td>\n",
       "      <td>4</td>\n",
       "    </tr>\n",
       "    <tr>\n",
       "      <th>39</th>\n",
       "      <td>Gray wolf (4.35%)</td>\n",
       "      <td>0.902778</td>\n",
       "      <td>VirProBERT</td>\n",
       "      <td>4</td>\n",
       "    </tr>\n",
       "  </tbody>\n",
       "</table>\n",
       "</div>"
      ],
      "text/plain": [
       "                                   class     auprc       model  itr\n",
       "0                         Ferret (1.45%)  1.000000  VirProBERT    0\n",
       "1                            Pig (7.25%)  0.905556  VirProBERT    0\n",
       "2                    Horshoe bat (1.45%)  1.000000  VirProBERT    0\n",
       "3                         Human (24.64%)  0.986908  VirProBERT    0\n",
       "4                       Chicken (49.28%)  1.000000  VirProBERT    0\n",
       "5   Chinese rufous horseshoe bat (1.45%)  1.000000  VirProBERT    0\n",
       "6                           Cat (10.14%)  1.000000  VirProBERT    0\n",
       "7                      Gray wolf (4.35%)  0.850000  VirProBERT    0\n",
       "8                         Ferret (1.45%)  1.000000  VirProBERT    1\n",
       "9                            Pig (7.25%)  1.000000  VirProBERT    1\n",
       "10                   Horshoe bat (1.45%)  1.000000  VirProBERT    1\n",
       "11                        Human (24.64%)  0.941197  VirProBERT    1\n",
       "12                      Chicken (49.28%)  0.995465  VirProBERT    1\n",
       "13  Chinese rufous horseshoe bat (1.45%)  0.250000  VirProBERT    1\n",
       "14                          Cat (10.14%)  0.900425  VirProBERT    1\n",
       "15                     Gray wolf (4.35%)  0.776786  VirProBERT    1\n",
       "16                        Ferret (1.45%)  1.000000  VirProBERT    2\n",
       "17                           Pig (7.25%)  0.826786  VirProBERT    2\n",
       "18                   Horshoe bat (1.45%)  0.166667  VirProBERT    2\n",
       "19                        Human (24.64%)  1.000000  VirProBERT    2\n",
       "20                      Chicken (49.28%)  1.000000  VirProBERT    2\n",
       "21  Chinese rufous horseshoe bat (1.45%)  0.250000  VirProBERT    2\n",
       "22                          Cat (10.14%)  1.000000  VirProBERT    2\n",
       "23                     Gray wolf (4.35%)  1.000000  VirProBERT    2\n",
       "24                        Ferret (1.45%)  1.000000  VirProBERT    3\n",
       "25                           Pig (7.25%)  1.000000  VirProBERT    3\n",
       "26                   Horshoe bat (1.45%)  1.000000  VirProBERT    3\n",
       "27                        Human (24.64%)  0.993636  VirProBERT    3\n",
       "28                      Chicken (49.28%)  0.993694  VirProBERT    3\n",
       "29  Chinese rufous horseshoe bat (1.45%)  0.017857  VirProBERT    3\n",
       "30                          Cat (10.14%)  0.980867  VirProBERT    3\n",
       "31                     Gray wolf (4.35%)  0.816667  VirProBERT    3\n",
       "32                        Ferret (1.45%)  1.000000  VirProBERT    4\n",
       "33                           Pig (7.25%)  1.000000  VirProBERT    4\n",
       "34                   Horshoe bat (1.45%)  1.000000  VirProBERT    4\n",
       "35                        Human (24.64%)  1.000000  VirProBERT    4\n",
       "36                      Chicken (49.28%)  1.000000  VirProBERT    4\n",
       "37  Chinese rufous horseshoe bat (1.45%)  1.000000  VirProBERT    4\n",
       "38                          Cat (10.14%)  1.000000  VirProBERT    4\n",
       "39                     Gray wolf (4.35%)  0.902778  VirProBERT    4"
      ]
     },
     "execution_count": 15,
     "metadata": {},
     "output_type": "execute_result"
    }
   ],
   "source": [
    "virprobert_auprc_results_df"
   ]
  },
  {
   "cell_type": "code",
   "execution_count": 16,
   "id": "fb355b89",
   "metadata": {},
   "outputs": [
    {
     "data": {
      "text/html": [
       "<div>\n",
       "<style scoped>\n",
       "    .dataframe tbody tr th:only-of-type {\n",
       "        vertical-align: middle;\n",
       "    }\n",
       "\n",
       "    .dataframe tbody tr th {\n",
       "        vertical-align: top;\n",
       "    }\n",
       "\n",
       "    .dataframe thead th {\n",
       "        text-align: right;\n",
       "    }\n",
       "</style>\n",
       "<table border=\"1\" class=\"dataframe\">\n",
       "  <thead>\n",
       "    <tr style=\"text-align: right;\">\n",
       "      <th></th>\n",
       "      <th>auprc</th>\n",
       "    </tr>\n",
       "    <tr>\n",
       "      <th>class</th>\n",
       "      <th></th>\n",
       "    </tr>\n",
       "  </thead>\n",
       "  <tbody>\n",
       "    <tr>\n",
       "      <th>Cat (10.14%)</th>\n",
       "      <td>0.976259</td>\n",
       "    </tr>\n",
       "    <tr>\n",
       "      <th>Chicken (49.28%)</th>\n",
       "      <td>0.997832</td>\n",
       "    </tr>\n",
       "    <tr>\n",
       "      <th>Chinese rufous horseshoe bat (1.45%)</th>\n",
       "      <td>0.503571</td>\n",
       "    </tr>\n",
       "    <tr>\n",
       "      <th>Ferret (1.45%)</th>\n",
       "      <td>1.000000</td>\n",
       "    </tr>\n",
       "    <tr>\n",
       "      <th>Gray wolf (4.35%)</th>\n",
       "      <td>0.869246</td>\n",
       "    </tr>\n",
       "    <tr>\n",
       "      <th>Horshoe bat (1.45%)</th>\n",
       "      <td>0.833333</td>\n",
       "    </tr>\n",
       "    <tr>\n",
       "      <th>Human (24.64%)</th>\n",
       "      <td>0.984348</td>\n",
       "    </tr>\n",
       "    <tr>\n",
       "      <th>Pig (7.25%)</th>\n",
       "      <td>0.946468</td>\n",
       "    </tr>\n",
       "  </tbody>\n",
       "</table>\n",
       "</div>"
      ],
      "text/plain": [
       "                                         auprc\n",
       "class                                         \n",
       "Cat (10.14%)                          0.976259\n",
       "Chicken (49.28%)                      0.997832\n",
       "Chinese rufous horseshoe bat (1.45%)  0.503571\n",
       "Ferret (1.45%)                        1.000000\n",
       "Gray wolf (4.35%)                     0.869246\n",
       "Horshoe bat (1.45%)                   0.833333\n",
       "Human (24.64%)                        0.984348\n",
       "Pig (7.25%)                           0.946468"
      ]
     },
     "execution_count": 16,
     "metadata": {},
     "output_type": "execute_result"
    }
   ],
   "source": [
    "virprobert_auprc_results_df[[\"class\", \"auprc\"]].groupby(\"class\").mean(\"auprc\")"
   ]
  },
  {
   "cell_type": "code",
   "execution_count": null,
   "id": "0810bf86",
   "metadata": {},
   "outputs": [],
   "source": []
  }
 ],
 "metadata": {
  "kernelspec": {
   "display_name": "Python 3 (ipykernel)",
   "language": "python",
   "name": "python3"
  },
  "language_info": {
   "codemirror_mode": {
    "name": "ipython",
    "version": 3
   },
   "file_extension": ".py",
   "mimetype": "text/x-python",
   "name": "python",
   "nbconvert_exporter": "python",
   "pygments_lexer": "ipython3",
   "version": "3.8.12"
  }
 },
 "nbformat": 4,
 "nbformat_minor": 5
}
