{
 "cells": [
  {
   "cell_type": "markdown",
   "id": "5e2ecf0f",
   "metadata": {},
   "source": [
    "## Results of Host Prediction\n",
    "### Dataset: Coronaviridae S prot UniProt, Unaligned, EMBL mapping, Vertebrates\n",
    "\n",
    "**Models**: TF - Pretrain  + finetune\n",
    "\n",
    "**Positional Embedding**: Sin-Cos\n",
    "\n",
    "**Maximum Sequence Length**: 1336\n",
    "\n",
    "**Alignment**: Yes, No\n",
    "\n",
    "**Classification**: Multi-class\n",
    "\n",
    "**\\# classes**: 8, 2\n",
    "\n",
    "**\\# train samples** = \n",
    "\n",
    "**\\# validation samples** = \n",
    "\n",
    "**\\# test samples** = \n"
   ]
  },
  {
   "cell_type": "code",
   "execution_count": 1,
   "id": "6cfca147",
   "metadata": {
    "scrolled": false
   },
   "outputs": [
    {
     "data": {
      "text/plain": [
       "['/home/blessyantony/dev/git/zoonosis/src/jupyter_notebooks/results-analysis/coronaviridae',\n",
       " '/opt/conda/lib/python38.zip',\n",
       " '/opt/conda/lib/python3.8',\n",
       " '/opt/conda/lib/python3.8/lib-dynload',\n",
       " '',\n",
       " '/home/blessyantony/.local/lib/python3.8/site-packages',\n",
       " '/opt/conda/lib/python3.8/site-packages',\n",
       " '/opt/conda/lib/python3.8/site-packages/IPython/extensions',\n",
       " '/home/blessyantony/.ipython',\n",
       " '/home/blessyantony/dev/git/zoonosis/src/jupyter_notebooks/results-analysis/coronaviridae/../../../../..',\n",
       " '/home/blessyantony/dev/git/zoonosis/src/jupyter_notebooks/results-analysis/coronaviridae/../../../..',\n",
       " '/home/blessyantony/dev/git/zoonosis/src/jupyter_notebooks/results-analysis/coronaviridae/../../..',\n",
       " '/home/blessyantony/dev/git/zoonosis/src/jupyter_notebooks/results-analysis/coronaviridae/../..']"
      ]
     },
     "execution_count": 1,
     "metadata": {},
     "output_type": "execute_result"
    }
   ],
   "source": [
    "import sys\n",
    "import os\n",
    "sys.path.append(os.path.join(os.getcwd(), \"..\", \"..\", \"..\", \"..\", \"..\"))\n",
    "sys.path.append(os.path.join(os.getcwd(), \"..\", \"..\", \"..\", \"..\"))\n",
    "sys.path.append(os.path.join(os.getcwd(), \"..\", \"..\", \"..\"))\n",
    "sys.path.append(os.path.join(os.getcwd(), \"..\", \"..\"))\n",
    "sys.path"
   ]
  },
  {
   "cell_type": "code",
   "execution_count": 2,
   "id": "22cbf7ce",
   "metadata": {
    "scrolled": true
   },
   "outputs": [],
   "source": [
    "import pandas as pd\n",
    "import os\n",
    "import numpy as np\n",
    "import seaborn as sns\n",
    "import matplotlib.pyplot as plt\n",
    "from pathlib import Path\n",
    "\n",
    "from src.utils import utils, evaluation_utils, visualization_utils\n",
    "from sklearn.metrics import auc, precision_recall_curve\n",
    "from statistics import mean"
   ]
  },
  {
   "cell_type": "code",
   "execution_count": 3,
   "id": "cb6c3cc1",
   "metadata": {
    "scrolled": true
   },
   "outputs": [],
   "source": [
    "itr_col = \"itr\"\n",
    "experiment_col = \"experiment\"\n",
    "y_true_col = \"y_true\"\n",
    "human_col = \"Human\"\n",
    "plt.rcParams['xtick.labelsize'] = 20\n",
    "plt.rcParams['ytick.labelsize'] = 20\n",
    "plt.rcParams['figure.autolayout'] = True\n",
    "\n",
    "DEFAULT_FIGURE_CONFIG = {\n",
    "    \"figsize\": (10, 10),\n",
    "    \"xtick.labelsize\": 18,\n",
    "    \"ytick.labelsize\": 18    \n",
    "}\n",
    "\n",
    "\n",
    "def plot_auprc(auprc_df, metadata, model_name):\n",
    "    # sort by median\n",
    "    sorted_median_auprc_df = auprc_df.groupby(\"class\")[\"auprc\"].median().sort_values(ascending=False)\n",
    "    visualization_utils.pre_plot_config(DEFAULT_FIGURE_CONFIG)\n",
    "    plt.rcParams['xtick.labelsize'] = 18\n",
    "    plt.rcParams['ytick.labelsize'] = 18\n",
    "    ax = sns.boxplot(data=auprc_df, x=\"class\", y=\"auprc\", order=sorted_median_auprc_df.index)\n",
    "    \n",
    "    ax.set_ylim(0, 1)\n",
    "    ax.set_title(f\"Model = {model_name}\")\n",
    "    plt.tight_layout()\n",
    "    plt.xticks(rotation=-90)\n",
    "    plt.show()\n",
    "        \n",
    "def auprc_analysis(output_filepath, model_name):\n",
    "    df = pd.read_csv(output_filepath, index_col=0)\n",
    "    print(f\"Read output size = {df.shape}\")\n",
    "    cols = df.columns\n",
    "    non_human_cols = list(set(cols) - set([itr_col, experiment_col, y_true_col, human_col]))\n",
    "    print(f\"NonHuman cols = {non_human_cols}\")\n",
    "    itrs = df[itr_col].unique()\n",
    "    \n",
    "    auprc = []\n",
    "    pr_curves = []\n",
    "    for itr in itrs:\n",
    "        df_itr = df[df[itr_col] == itr]\n",
    "        pr_curves_df, auprcs_df = evaluation_utils.compute_class_auprc(df_itr, y_pred_columns=non_human_cols + [human_col], y_true_col=y_true_col)\n",
    "        pr_curves_df[itr_col] = itr\n",
    "        auprcs_df[itr_col] = itr\n",
    "        auprc.append(auprcs_df)\n",
    "        pr_curves.append(pr_curves_df)\n",
    "\n",
    "    auprc_df = pd.concat(auprc, ignore_index=True)\n",
    "    pr_curves_df = pd.concat(pr_curves, ignore_index=True)\n",
    "    \n",
    "    metadata = utils.compute_class_distribution(df_itr, y_true_col, format=True)\n",
    "    \n",
    "    plot_auprc(auprc_df, metadata, model_name)\n",
    "    visualization_utils.curve_plot(pr_curves_df, x_col=\"recall\", y_col=\"precision\",\n",
    "                                   color_group_col=\"class\", style_group_col=None,\n",
    "                                   output_file_path=None, metadata=metadata)\n",
    "    "
   ]
  },
  {
   "cell_type": "code",
   "execution_count": 4,
   "id": "e1e184b3",
   "metadata": {
    "scrolled": true
   },
   "outputs": [],
   "source": [
    "def class_wise_auprc_analysis(output_filepaths, classes, figure_output_filepath=None):\n",
    "    auprc_results = []\n",
    "    for model, output_filepath in output_filepaths.items():\n",
    "        df = pd.read_csv(output_filepath, index_col=0)\n",
    "        print(f\"Read output {model} = {df.shape}\")\n",
    "        \n",
    "        cols = df.columns\n",
    "        classes = list(set(cols) - set([itr_col, experiment_col, y_true_col]))\n",
    "        itrs = df[itr_col].unique()\n",
    "    \n",
    "        for itr in itrs:\n",
    "            df_itr = df[df[itr_col] == itr]\n",
    "            _, auprcs_df = evaluation_utils.compute_class_auprc(df_itr, y_pred_columns=classes, y_true_col=y_true_col)\n",
    "            auprcs_df = auprcs_df.append({\"class\": \"Macro-AUPRC\", \"auprc\": auprcs_df[\"auprc\"].mean()}, ignore_index=True)\n",
    "            auprcs_df[\"model\"] = model\n",
    "            auprcs_df[\"itr\"] = itr\n",
    "            auprc_results.append(auprcs_df)\n",
    "    metadata = utils.compute_class_distribution(df_itr, y_true_col, format=False)\n",
    "    metadata_formatted = utils.compute_class_distribution(df_itr, y_true_col, format=True)\n",
    "    metadata_sorted = {}\n",
    "    for k, v in metadata.items():\n",
    "        metadata_sorted[metadata_formatted[k]] = v\n",
    "    metadata_sorted[\"Macro-AUPRC\"] = 0\n",
    "    auprc_results_df = pd.concat(auprc_results, ignore_index=True)\n",
    "    auprc_results_df.replace({\"class\":metadata_formatted}, inplace=True)\n",
    "    \n",
    "    FIGURE_CONFIG = {\n",
    "        \"figsize\": (10, 8),\n",
    "        \"xtick.labelsize\": 16,\n",
    "        \"ytick.labelsize\": 16    \n",
    "    }\n",
    "\n",
    "    visualization_utils.pre_plot_config(FIGURE_CONFIG)\n",
    "    ax = sns.boxplot(data=auprc_results_df, x=\"class\", y=\"auprc\", hue=\"model\", order=metadata_sorted)\n",
    "    plt.draw()\n",
    "    \n",
    "    ax.set_ylim(0, 1)\n",
    "    ax.set_ylabel(\"AUPRC\", size=18)\n",
    "    ax.set_xlabel(\"Classes\", size=18, labelpad=2)\n",
    "    sns.move_legend(ax, \"lower center\", bbox_to_anchor=(.5, 1), ncol=5, title=None, frameon=False)\n",
    "    plt.setp(ax.get_legend().get_texts(), fontsize=16)\n",
    "    visualization_utils.wrap_xticklabels(ax)\n",
    "    # visualization_utils.view(figure_output_filepath)\n",
    "    plt.show()\n",
    "    return auprc_results_df"
   ]
  },
  {
   "cell_type": "code",
   "execution_count": 5,
   "id": "209a0959",
   "metadata": {},
   "outputs": [],
   "source": [
    "def compute_binary_auprc(df, y_true_col, pos_label):\n",
    "    precision, recall, _ = precision_recall_curve(y_true=df[y_true_col].values, probas_pred=df[pos_label].values, pos_label=pos_label)\n",
    "    return auc(recall, precision)\n",
    "\n",
    "def compute_multi_auprc(df, y_true_col):\n",
    "    label_values = list(df[y_true_col].unique())\n",
    "    auprcs = []\n",
    "    for label_value in label_values:\n",
    "        precision, recall, _ = precision_recall_curve(y_true=df[y_true_col].values, probas_pred=df[label_value].values, pos_label=label_value)\n",
    "        auprcs.append(auc(recall, precision))\n",
    "    \n",
    "    return mean(auprcs)"
   ]
  },
  {
   "cell_type": "markdown",
   "id": "596600cb",
   "metadata": {},
   "source": [
    "### AUPRC Comparison"
   ]
  },
  {
   "cell_type": "code",
   "execution_count": 6,
   "id": "c8ef72e7",
   "metadata": {},
   "outputs": [],
   "source": [
    "filepaths = {\n",
    "    \"UniProt-Align-sl128s64\": os.path.join(os.getcwd(), \"..\", \"..\", \"..\", \"..\", \"output/raw/coronaviridae_s_prot_uniprot_embl_vertebrates_aligned_t0.01_c8/20240716/host_multi/fine_tuning_hybrid_vs30/mlm_tfenc_l6_h8_lr1e-4_uniref90viridae_msl128b1024vs30_hybrid_attention_s64_fnn_2l_d1024_lr1e-4_output.csv\"),\n",
    "    \"UniProt-Align-sl128s64CLS\": os.path.join(os.getcwd(), \"..\", \"..\", \"..\", \"..\", \"output/raw/coronaviridae_s_prot_uniprot_embl_vertebrates_aligned_t0.01_c8/20240711/host_multi/fine_tuning_hybrid_cls_vs30/mlm_tfenc_l6_h8_lr1e-4_uniref90viridae_msl128b1024vs30_hybrid_attention_s64_fnn_2l_d1024_lr1e-4_output.csv\"),\n",
    "    \"UniProt-Align-sl256s64\": os.path.join(os.getcwd(), \"..\", \"..\", \"..\", \"..\", \"output/raw/coronaviridae_s_prot_uniprot_embl_vertebrates_aligned_t0.01_c8/20240727/host_multi/fine_tuning_hybrid_vs30/mlm_tfenc_l6_h8_lr1e-4_uniref90viridae_msl256b1024vs30_s64_hybrid_attention_msl256s64_fnn_2l_d1024_lr1e-4_output.csv\"),\n",
    "    \"UniProt-Align-sl256s64CLS\": os.path.join(os.getcwd(), \"..\", \"..\", \"..\", \"..\", \"output/raw/coronaviridae_s_prot_uniprot_embl_vertebrates_aligned_t0.01_c8/20240711/host_multi/fine_tuning_hybrid_cls_vs30/mlm_tfenc_l6_h8_lr1e-4_uniref90viridae_msl256b1024vs30_hybrid_attention_s64_fnn_2l_d1024_lr1e-4_output.csv\"),\n",
    "    \"UniProt-UnAligned-sl128s64\": os.path.join(os.getcwd(), \"..\", \"..\", \"..\", \"..\", \"output/raw/coronaviridae_s_prot_uniprot_embl_vertebrates_t0.01_c8/20240805/host_multi/fine_tuning_hybrid/mlm_tfenc_l6_h8_lr1e-4_uniref90viridae_msl128b1024vs30_s64_hybrid_attention_s64_fnn_2l_d1024_lr1e-4_output.csv\"),\n",
    "    \"UniProt-UnAligned-sl128s64CLS\": os.path.join(os.getcwd(), \"..\", \"..\", \"..\", \"..\", \"output/raw/coronaviridae_s_prot_uniprot_embl_vertebrates_t0.01_c8/20240805/host_multi/fine_tuning_hybrid_cls/mlm_tfenc_l6_h8_lr1e-4_uniref90viridae_msl128b1024vs30cls_s64_hybrid_attention_s64_fnn_2l_d1024_lr1e-4_output.csv\"),\n",
    "    \"UniProt-UnAligned-sl256s64\": os.path.join(os.getcwd(), \"..\", \"..\", \"..\", \"..\", \"output/raw/coronaviridae_s_prot_uniprot_embl_vertebrates_t0.01_c8/20240805/host_multi/fine_tuning_hybrid/mlm_tfenc_l6_h8_lr1e-4_uniref90viridae_msl256b1024vs30_s64_hybrid_attention_s64_fnn_2l_d1024_lr1e-4_output.csv\"),\n",
    "    \"UniProt-UnAligned-sl256s64CLS\": os.path.join(os.getcwd(), \"..\", \"..\", \"..\", \"..\", \"output/raw/coronaviridae_s_prot_uniprot_embl_vertebrates_t0.01_c8/20240805/host_multi/fine_tuning_hybrid_cls/mlm_tfenc_l6_h8_lr1e-4_uniref90viridae_msl256b1024vs30cls_s64_hybrid_attention_s64_fnn_2l_d1024_lr1e-4_output.csv\")\n",
    "}"
   ]
  },
  {
   "cell_type": "code",
   "execution_count": 7,
   "id": "9c0846ac",
   "metadata": {},
   "outputs": [],
   "source": [
    "def compute_auprcs(output_file_paths, classification_type, pos_label=\"Human\"):\n",
    "    auprcs = []\n",
    "    for model, output_filepath in output_file_paths.items():\n",
    "        df = pd.read_csv(output_filepath, index_col=0)\n",
    "        for itr in range(5):\n",
    "            df_itr = df[df[\"itr\"] == itr]\n",
    "            if classification_type == \"binary\":\n",
    "                auprc = compute_binary_auprc(df_itr, y_true_col=\"y_true\", pos_label=pos_label)\n",
    "            else:\n",
    "                auprc = compute_multi_auprc(df_itr, y_true_col=\"y_true\")\n",
    "            auprcs.append({\"model\": model, \"auprc\": auprc, \"itr\": itr})\n",
    "    return pd.DataFrame(auprcs)"
   ]
  },
  {
   "cell_type": "code",
   "execution_count": 11,
   "id": "7f40fcf4",
   "metadata": {
    "scrolled": false
   },
   "outputs": [],
   "source": [
    "df = compute_auprcs(filepaths, classification_type=\"multi\")\n"
   ]
  },
  {
   "cell_type": "code",
   "execution_count": 13,
   "id": "38df4c67",
   "metadata": {},
   "outputs": [
    {
     "data": {
      "text/plain": [
       "(40, 3)"
      ]
     },
     "execution_count": 13,
     "metadata": {},
     "output_type": "execute_result"
    }
   ],
   "source": [
    "df.shape"
   ]
  },
  {
   "cell_type": "code",
   "execution_count": null,
   "id": "bc442d07",
   "metadata": {},
   "outputs": [],
   "source": [
    "FIGURE_CONFIG = {\n",
    "    \"figsize\": (10, 7),\n",
    "    \"xtick.labelsize\": 16,\n",
    "    \"ytick.labelsize\": 16    \n",
    "}\n",
    "visualization_utils.pre_plot_config(FIGURE_CONFIG)\n",
    "ax = sns.boxplot(data=auprcs_df, x=\"model\", y=\"auprc\")\n",
    "plt.draw()\n",
    "\n",
    "ax.set_ylim(0.5, 1)\n",
    "ax.set_ylabel(\"AUPRC\", size=18)\n",
    "ax.set_xlabel(\"\", size=14, labelpad=2)\n",
    "# hatches = [\"/\", \"/\", \"\", \"\", \"/\", \"/\", \"\", \"\"]\n",
    "# for i, patch in enumerate(ax.patches):\n",
    "#     print(i)\n",
    "#     patch.set_hatch(hatches[i])\n",
    "visualization_utils.wrap_ticklabels(ax, axis=\"x\", label_width=6)\n",
    "#plt.xticks(rotation=-40)\n",
    "plt.show()"
   ]
  },
  {
   "cell_type": "code",
   "execution_count": null,
   "id": "200d02b8",
   "metadata": {},
   "outputs": [],
   "source": []
  },
  {
   "cell_type": "code",
   "execution_count": null,
   "id": "354985a1",
   "metadata": {},
   "outputs": [],
   "source": [
    "itr_col = \"itr\"\n",
    "experiment_col = \"experiment\"\n",
    "y_true_col = \"y_true\"\n",
    "human_col = \"Human\"\n",
    "plt.rcParams['xtick.labelsize'] = 20\n",
    "plt.rcParams['ytick.labelsize'] = 20\n",
    "plt.rcParams['figure.autolayout'] = True\n",
    "\n",
    "DEFAULT_FIGURE_CONFIG = {\n",
    "    \"figsize\": (10, 10),\n",
    "    \"xtick.labelsize\": 18,\n",
    "    \"ytick.labelsize\": 18    \n",
    "}\n",
    "\n",
    "def class_wise_auprc_analysis(output_filepaths, classes, figure_output_filepath):\n",
    "    auprc_results = []\n",
    "    for model, output_filepath in output_filepaths.items():\n",
    "        df = pd.read_csv(output_filepath, index_col=0)\n",
    "        print(f\"Read output {model} = {df.shape}\")\n",
    "        \n",
    "        cols = df.columns\n",
    "        classes = list(set(cols) - set([itr_col, experiment_col, y_true_col]))\n",
    "        itrs = df[itr_col].unique()\n",
    "    \n",
    "        for itr in itrs:\n",
    "            df_itr = df[df[itr_col] == itr]\n",
    "            _, auprcs_df = evaluation_utils.compute_class_auprc(df_itr, y_pred_columns=classes, y_true_col=y_true_col)\n",
    "            auprcs_df[\"model\"] = model\n",
    "            auprcs_df[\"itr\"] = itr\n",
    "            auprc_results.append(auprcs_df)\n",
    "    metadata = utils.compute_class_distribution(df_itr, y_true_col, format=False)\n",
    "    metadata_formatted = utils.compute_class_distribution(df_itr, y_true_col, format=True)\n",
    "    metadata_sorted = {}\n",
    "    for k, v in metadata.items():\n",
    "        metadata_sorted[metadata_formatted[k]] = v\n",
    "\n",
    "    auprc_results_df = pd.concat(auprc_results, ignore_index=True)\n",
    "    auprc_results_df.replace({\"class\":metadata_formatted}, inplace=True)\n",
    "    \n",
    "    FIGURE_CONFIG = {\n",
    "        \"figsize\": (10, 8),\n",
    "        \"xtick.labelsize\": 16,\n",
    "        \"ytick.labelsize\": 16    \n",
    "    }\n",
    "\n",
    "    visualization_utils.pre_plot_config(FIGURE_CONFIG)\n",
    "    ax = sns.boxplot(data=auprc_results_df, x=\"class\", y=\"auprc\", hue=\"model\", order=metadata_sorted)\n",
    "    plt.draw()\n",
    "    \n",
    "    ax.set_ylim(0, 1)\n",
    "    ax.set_ylabel(\"AUPRC\", size=18)\n",
    "    ax.set_xlabel(\"Classes\", size=18, labelpad=2)\n",
    "    sns.move_legend(ax, \"lower center\", bbox_to_anchor=(.5, 1), ncol=5, title=None, frameon=False)\n",
    "    plt.setp(ax.get_legend().get_texts(), fontsize=16)\n",
    "    visualization_utils.wrap_ticklabels(ax, axis=\"x\")\n",
    "    visualization_utils.view(figure_output_filepath)\n",
    "    plt.show()\n",
    "    return auprc_results_df"
   ]
  },
  {
   "cell_type": "code",
   "execution_count": null,
   "id": "20b3cde3",
   "metadata": {},
   "outputs": [],
   "source": [
    "output_filepaths = {\n",
    "    \"Aligned\": virprobert_uniref90_aligned_multi_output_filepath,\n",
    "    \"Not Aligned\": virprobert_uniref90_multi_output_filepath\n",
    "}\n",
    "figure_output_file_path = os.path.join(os.getcwd(), \"..\",\"..\", \"..\", \"..\", \"..\", \"output/visualization/temp/cov-s-uniref90-classwise_auprc_boxplot.pdf\")\n",
    "classes = [\"Human\", \"Chicken\", \"Cat\", \"Pig\", \"Gary wolf\", \"Horshoe bat\", \"Ferret\", \"Chinese rufous horseshoe bat\"]\n",
    "auprc_results_df = class_wise_auprc_analysis(output_filepaths, classes, figure_output_file_path)"
   ]
  },
  {
   "cell_type": "code",
   "execution_count": null,
   "id": "0b978aa3",
   "metadata": {},
   "outputs": [],
   "source": [
    "output_filepaths = {\n",
    "    \"Aligned\": virprobert_uniprot_aligned_multi_output_filepath,\n",
    "    \"Not Aligned\": virprobert_uniprot_multi_output_filepath\n",
    "}\n",
    "figure_output_file_path = os.path.join(os.getcwd(), \"..\",\"..\", \"..\", \"..\", \"..\", \"output/visualization/temp/cov-s-uniprot-classwise_auprc_boxplot.pdf\")\n",
    "classes = [\"Human\", \"Pig\", \"Cat\", \"Dromedary camel\", \"Cattle\", \"Chicken\", \"Grau wolf\", \"Yak\"]\n",
    "auprc_results_df = class_wise_auprc_analysis(output_filepaths, classes, figure_output_file_path)"
   ]
  },
  {
   "cell_type": "code",
   "execution_count": null,
   "id": "14e40cba",
   "metadata": {},
   "outputs": [],
   "source": []
  },
  {
   "cell_type": "code",
   "execution_count": null,
   "id": "859cd0d2",
   "metadata": {},
   "outputs": [],
   "source": []
  }
 ],
 "metadata": {
  "kernelspec": {
   "display_name": "Python 3 (ipykernel)",
   "language": "python",
   "name": "python3"
  },
  "language_info": {
   "codemirror_mode": {
    "name": "ipython",
    "version": 3
   },
   "file_extension": ".py",
   "mimetype": "text/x-python",
   "name": "python",
   "nbconvert_exporter": "python",
   "pygments_lexer": "ipython3",
   "version": "3.8.12"
  }
 },
 "nbformat": 4,
 "nbformat_minor": 5
}
