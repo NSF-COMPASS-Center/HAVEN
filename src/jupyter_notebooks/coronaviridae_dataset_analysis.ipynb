{
 "cells": [
  {
   "cell_type": "code",
   "execution_count": 6,
   "id": "af85c69f",
   "metadata": {},
   "outputs": [],
   "source": [
    "import pandas as pd\n",
    "import os\n",
    "import seaborn as sns\n",
    "import matplotlib.pyplot as plt"
   ]
  },
  {
   "cell_type": "code",
   "execution_count": 35,
   "id": "a2da5915",
   "metadata": {},
   "outputs": [],
   "source": [
    "data_filepath = \"input/data/coronaviridae/coronaviridae_seq_parsed.csv\"\n",
    "metadata_filepath = \"input/data/coronaviridae/uniprot-coronoviridae-s-2023.05.03.tsv\""
   ]
  },
  {
   "cell_type": "code",
   "execution_count": 36,
   "id": "5588b0f3",
   "metadata": {},
   "outputs": [],
   "source": [
    "data_df = pd.read_csv(os.path.join(os.getcwd(), \"..\", \"..\", data_filepath))\n",
    "metadata_df = pd.read_table(os.path.join(os.getcwd(), \"..\", \"..\", metadata_filepath))"
   ]
  },
  {
   "cell_type": "code",
   "execution_count": 37,
   "id": "db850fdc",
   "metadata": {},
   "outputs": [
    {
     "name": "stdout",
     "output_type": "stream",
     "text": [
      "(8692, 2)\n"
     ]
    },
    {
     "data": {
      "text/html": [
       "<div>\n",
       "<style scoped>\n",
       "    .dataframe tbody tr th:only-of-type {\n",
       "        vertical-align: middle;\n",
       "    }\n",
       "\n",
       "    .dataframe tbody tr th {\n",
       "        vertical-align: top;\n",
       "    }\n",
       "\n",
       "    .dataframe thead th {\n",
       "        text-align: right;\n",
       "    }\n",
       "</style>\n",
       "<table border=\"1\" class=\"dataframe\">\n",
       "  <thead>\n",
       "    <tr style=\"text-align: right;\">\n",
       "      <th></th>\n",
       "      <th>uniprot_id</th>\n",
       "      <th>seq</th>\n",
       "    </tr>\n",
       "  </thead>\n",
       "  <tbody>\n",
       "    <tr>\n",
       "      <th>0</th>\n",
       "      <td>A0A2R4KP93</td>\n",
       "      <td>MRLSVCLLMFLLTPIKGDVDSGPPSSATSCKEADMRNSSSEFFNKQ...</td>\n",
       "    </tr>\n",
       "    <tr>\n",
       "      <th>1</th>\n",
       "      <td>A0A6B9WHD3</td>\n",
       "      <td>MFVFLVLLPLVSSQCVNLTTRTQLPPAYTNSSTRGVYYPDKVFRSS...</td>\n",
       "    </tr>\n",
       "    <tr>\n",
       "      <th>2</th>\n",
       "      <td>A0A6G6A1M4</td>\n",
       "      <td>MFVFLFVLPLVSSQCVNLTTRTGIPPGYTNSSTRGVYYPDKVFRSS...</td>\n",
       "    </tr>\n",
       "    <tr>\n",
       "      <th>3</th>\n",
       "      <td>A0A6M3G9R1</td>\n",
       "      <td>MLFFFFLHFALVNSQCVNLTGRAAIQPSFTNSSQRGVYYPDTIFRS...</td>\n",
       "    </tr>\n",
       "    <tr>\n",
       "      <th>4</th>\n",
       "      <td>A3EX94</td>\n",
       "      <td>MTLLMCLLMSLLIFVRGCDSQFVDMSPASNTSECLESQVDAAAFSK...</td>\n",
       "    </tr>\n",
       "  </tbody>\n",
       "</table>\n",
       "</div>"
      ],
      "text/plain": [
       "   uniprot_id                                                seq\n",
       "0  A0A2R4KP93  MRLSVCLLMFLLTPIKGDVDSGPPSSATSCKEADMRNSSSEFFNKQ...\n",
       "1  A0A6B9WHD3  MFVFLVLLPLVSSQCVNLTTRTQLPPAYTNSSTRGVYYPDKVFRSS...\n",
       "2  A0A6G6A1M4  MFVFLFVLPLVSSQCVNLTTRTGIPPGYTNSSTRGVYYPDKVFRSS...\n",
       "3  A0A6M3G9R1  MLFFFFLHFALVNSQCVNLTGRAAIQPSFTNSSQRGVYYPDTIFRS...\n",
       "4      A3EX94  MTLLMCLLMSLLIFVRGCDSQFVDMSPASNTSECLESQVDAAAFSK..."
      ]
     },
     "execution_count": 37,
     "metadata": {},
     "output_type": "execute_result"
    }
   ],
   "source": [
    "print(data_df.shape)\n",
    "data_df.head()"
   ]
  },
  {
   "cell_type": "code",
   "execution_count": 38,
   "id": "06237888",
   "metadata": {},
   "outputs": [
    {
     "name": "stdout",
     "output_type": "stream",
     "text": [
      "(8692, 7)\n"
     ]
    },
    {
     "data": {
      "text/html": [
       "<div>\n",
       "<style scoped>\n",
       "    .dataframe tbody tr th:only-of-type {\n",
       "        vertical-align: middle;\n",
       "    }\n",
       "\n",
       "    .dataframe tbody tr th {\n",
       "        vertical-align: top;\n",
       "    }\n",
       "\n",
       "    .dataframe thead th {\n",
       "        text-align: right;\n",
       "    }\n",
       "</style>\n",
       "<table border=\"1\" class=\"dataframe\">\n",
       "  <thead>\n",
       "    <tr style=\"text-align: right;\">\n",
       "      <th></th>\n",
       "      <th>Entry</th>\n",
       "      <th>Entry Name</th>\n",
       "      <th>Protein names</th>\n",
       "      <th>Gene Names</th>\n",
       "      <th>Organism</th>\n",
       "      <th>Length</th>\n",
       "      <th>Virus hosts</th>\n",
       "    </tr>\n",
       "  </thead>\n",
       "  <tbody>\n",
       "    <tr>\n",
       "      <th>0</th>\n",
       "      <td>A0A2R4KP93</td>\n",
       "      <td>A0A2R4KP93_MERS</td>\n",
       "      <td>Spike glycoprotein (S glycoprotein) (E2) (Pepl...</td>\n",
       "      <td>S</td>\n",
       "      <td>Middle East respiratory syndrome-related coron...</td>\n",
       "      <td>1349</td>\n",
       "      <td>NaN</td>\n",
       "    </tr>\n",
       "    <tr>\n",
       "      <th>1</th>\n",
       "      <td>A0A6B9WHD3</td>\n",
       "      <td>A0A6B9WHD3_SARS</td>\n",
       "      <td>Spike glycoprotein (S glycoprotein) (E2) (Pepl...</td>\n",
       "      <td>S</td>\n",
       "      <td>Bat coronavirus RaTG13</td>\n",
       "      <td>1269</td>\n",
       "      <td>NaN</td>\n",
       "    </tr>\n",
       "    <tr>\n",
       "      <th>2</th>\n",
       "      <td>A0A6G6A1M4</td>\n",
       "      <td>A0A6G6A1M4_9BETC</td>\n",
       "      <td>Spike glycoprotein (S glycoprotein) (E2) (Pepl...</td>\n",
       "      <td>S</td>\n",
       "      <td>Pangolin coronavirus</td>\n",
       "      <td>1267</td>\n",
       "      <td>NaN</td>\n",
       "    </tr>\n",
       "    <tr>\n",
       "      <th>3</th>\n",
       "      <td>A0A6M3G9R1</td>\n",
       "      <td>A0A6M3G9R1_9BETC</td>\n",
       "      <td>Spike glycoprotein (S glycoprotein) (E2) (Pepl...</td>\n",
       "      <td>S</td>\n",
       "      <td>Pangolin coronavirus</td>\n",
       "      <td>1265</td>\n",
       "      <td>NaN</td>\n",
       "    </tr>\n",
       "    <tr>\n",
       "      <th>4</th>\n",
       "      <td>A3EX94</td>\n",
       "      <td>SPIKE_BCHK4</td>\n",
       "      <td>Spike glycoprotein (S glycoprotein) (E2) (Pepl...</td>\n",
       "      <td>S 2</td>\n",
       "      <td>Bat coronavirus HKU4 (BtCoV) (BtCoV/HKU4/2004)</td>\n",
       "      <td>1352</td>\n",
       "      <td>Tylonycteris pachypus (Lesser bamboo bat) (Ves...</td>\n",
       "    </tr>\n",
       "  </tbody>\n",
       "</table>\n",
       "</div>"
      ],
      "text/plain": [
       "        Entry        Entry Name  \\\n",
       "0  A0A2R4KP93   A0A2R4KP93_MERS   \n",
       "1  A0A6B9WHD3   A0A6B9WHD3_SARS   \n",
       "2  A0A6G6A1M4  A0A6G6A1M4_9BETC   \n",
       "3  A0A6M3G9R1  A0A6M3G9R1_9BETC   \n",
       "4      A3EX94       SPIKE_BCHK4   \n",
       "\n",
       "                                       Protein names Gene Names  \\\n",
       "0  Spike glycoprotein (S glycoprotein) (E2) (Pepl...          S   \n",
       "1  Spike glycoprotein (S glycoprotein) (E2) (Pepl...          S   \n",
       "2  Spike glycoprotein (S glycoprotein) (E2) (Pepl...          S   \n",
       "3  Spike glycoprotein (S glycoprotein) (E2) (Pepl...          S   \n",
       "4  Spike glycoprotein (S glycoprotein) (E2) (Pepl...        S 2   \n",
       "\n",
       "                                            Organism  Length  \\\n",
       "0  Middle East respiratory syndrome-related coron...    1349   \n",
       "1                             Bat coronavirus RaTG13    1269   \n",
       "2                               Pangolin coronavirus    1267   \n",
       "3                               Pangolin coronavirus    1265   \n",
       "4     Bat coronavirus HKU4 (BtCoV) (BtCoV/HKU4/2004)    1352   \n",
       "\n",
       "                                         Virus hosts  \n",
       "0                                                NaN  \n",
       "1                                                NaN  \n",
       "2                                                NaN  \n",
       "3                                                NaN  \n",
       "4  Tylonycteris pachypus (Lesser bamboo bat) (Ves...  "
      ]
     },
     "execution_count": 38,
     "metadata": {},
     "output_type": "execute_result"
    }
   ],
   "source": [
    "print(metadata_df.shape)\n",
    "metadata_df.head()"
   ]
  },
  {
   "cell_type": "code",
   "execution_count": 39,
   "id": "d09a2c66",
   "metadata": {},
   "outputs": [],
   "source": [
    "df = data_df.set_index(\"uniprot_id\").join(metadata_df.set_index(\"Entry\"))"
   ]
  },
  {
   "cell_type": "code",
   "execution_count": 40,
   "id": "d3329b84",
   "metadata": {},
   "outputs": [
    {
     "data": {
      "text/plain": [
       "(8692, 7)"
      ]
     },
     "execution_count": 40,
     "metadata": {},
     "output_type": "execute_result"
    }
   ],
   "source": [
    "df.shape"
   ]
  },
  {
   "cell_type": "code",
   "execution_count": 41,
   "id": "3dea3716",
   "metadata": {},
   "outputs": [
    {
     "data": {
      "text/html": [
       "<div>\n",
       "<style scoped>\n",
       "    .dataframe tbody tr th:only-of-type {\n",
       "        vertical-align: middle;\n",
       "    }\n",
       "\n",
       "    .dataframe tbody tr th {\n",
       "        vertical-align: top;\n",
       "    }\n",
       "\n",
       "    .dataframe thead th {\n",
       "        text-align: right;\n",
       "    }\n",
       "</style>\n",
       "<table border=\"1\" class=\"dataframe\">\n",
       "  <thead>\n",
       "    <tr style=\"text-align: right;\">\n",
       "      <th></th>\n",
       "      <th>uniprot_id</th>\n",
       "      <th>seq</th>\n",
       "      <th>Entry Name</th>\n",
       "      <th>Protein names</th>\n",
       "      <th>Gene Names</th>\n",
       "      <th>Organism</th>\n",
       "      <th>Length</th>\n",
       "      <th>Virus hosts</th>\n",
       "    </tr>\n",
       "  </thead>\n",
       "  <tbody>\n",
       "    <tr>\n",
       "      <th>0</th>\n",
       "      <td>A0A2R4KP93</td>\n",
       "      <td>MRLSVCLLMFLLTPIKGDVDSGPPSSATSCKEADMRNSSSEFFNKQ...</td>\n",
       "      <td>A0A2R4KP93_MERS</td>\n",
       "      <td>Spike glycoprotein (S glycoprotein) (E2) (Pepl...</td>\n",
       "      <td>S</td>\n",
       "      <td>Middle East respiratory syndrome-related coron...</td>\n",
       "      <td>1349</td>\n",
       "      <td>NaN</td>\n",
       "    </tr>\n",
       "    <tr>\n",
       "      <th>1</th>\n",
       "      <td>A0A6B9WHD3</td>\n",
       "      <td>MFVFLVLLPLVSSQCVNLTTRTQLPPAYTNSSTRGVYYPDKVFRSS...</td>\n",
       "      <td>A0A6B9WHD3_SARS</td>\n",
       "      <td>Spike glycoprotein (S glycoprotein) (E2) (Pepl...</td>\n",
       "      <td>S</td>\n",
       "      <td>Bat coronavirus RaTG13</td>\n",
       "      <td>1269</td>\n",
       "      <td>NaN</td>\n",
       "    </tr>\n",
       "    <tr>\n",
       "      <th>2</th>\n",
       "      <td>A0A6G6A1M4</td>\n",
       "      <td>MFVFLFVLPLVSSQCVNLTTRTGIPPGYTNSSTRGVYYPDKVFRSS...</td>\n",
       "      <td>A0A6G6A1M4_9BETC</td>\n",
       "      <td>Spike glycoprotein (S glycoprotein) (E2) (Pepl...</td>\n",
       "      <td>S</td>\n",
       "      <td>Pangolin coronavirus</td>\n",
       "      <td>1267</td>\n",
       "      <td>NaN</td>\n",
       "    </tr>\n",
       "    <tr>\n",
       "      <th>3</th>\n",
       "      <td>A0A6M3G9R1</td>\n",
       "      <td>MLFFFFLHFALVNSQCVNLTGRAAIQPSFTNSSQRGVYYPDTIFRS...</td>\n",
       "      <td>A0A6M3G9R1_9BETC</td>\n",
       "      <td>Spike glycoprotein (S glycoprotein) (E2) (Pepl...</td>\n",
       "      <td>S</td>\n",
       "      <td>Pangolin coronavirus</td>\n",
       "      <td>1265</td>\n",
       "      <td>NaN</td>\n",
       "    </tr>\n",
       "    <tr>\n",
       "      <th>4</th>\n",
       "      <td>A3EX94</td>\n",
       "      <td>MTLLMCLLMSLLIFVRGCDSQFVDMSPASNTSECLESQVDAAAFSK...</td>\n",
       "      <td>SPIKE_BCHK4</td>\n",
       "      <td>Spike glycoprotein (S glycoprotein) (E2) (Pepl...</td>\n",
       "      <td>S 2</td>\n",
       "      <td>Bat coronavirus HKU4 (BtCoV) (BtCoV/HKU4/2004)</td>\n",
       "      <td>1352</td>\n",
       "      <td>Tylonycteris pachypus (Lesser bamboo bat) (Ves...</td>\n",
       "    </tr>\n",
       "  </tbody>\n",
       "</table>\n",
       "</div>"
      ],
      "text/plain": [
       "   uniprot_id                                                seq  \\\n",
       "0  A0A2R4KP93  MRLSVCLLMFLLTPIKGDVDSGPPSSATSCKEADMRNSSSEFFNKQ...   \n",
       "1  A0A6B9WHD3  MFVFLVLLPLVSSQCVNLTTRTQLPPAYTNSSTRGVYYPDKVFRSS...   \n",
       "2  A0A6G6A1M4  MFVFLFVLPLVSSQCVNLTTRTGIPPGYTNSSTRGVYYPDKVFRSS...   \n",
       "3  A0A6M3G9R1  MLFFFFLHFALVNSQCVNLTGRAAIQPSFTNSSQRGVYYPDTIFRS...   \n",
       "4      A3EX94  MTLLMCLLMSLLIFVRGCDSQFVDMSPASNTSECLESQVDAAAFSK...   \n",
       "\n",
       "         Entry Name                                      Protein names  \\\n",
       "0   A0A2R4KP93_MERS  Spike glycoprotein (S glycoprotein) (E2) (Pepl...   \n",
       "1   A0A6B9WHD3_SARS  Spike glycoprotein (S glycoprotein) (E2) (Pepl...   \n",
       "2  A0A6G6A1M4_9BETC  Spike glycoprotein (S glycoprotein) (E2) (Pepl...   \n",
       "3  A0A6M3G9R1_9BETC  Spike glycoprotein (S glycoprotein) (E2) (Pepl...   \n",
       "4       SPIKE_BCHK4  Spike glycoprotein (S glycoprotein) (E2) (Pepl...   \n",
       "\n",
       "  Gene Names                                           Organism  Length  \\\n",
       "0          S  Middle East respiratory syndrome-related coron...    1349   \n",
       "1          S                             Bat coronavirus RaTG13    1269   \n",
       "2          S                               Pangolin coronavirus    1267   \n",
       "3          S                               Pangolin coronavirus    1265   \n",
       "4        S 2     Bat coronavirus HKU4 (BtCoV) (BtCoV/HKU4/2004)    1352   \n",
       "\n",
       "                                         Virus hosts  \n",
       "0                                                NaN  \n",
       "1                                                NaN  \n",
       "2                                                NaN  \n",
       "3                                                NaN  \n",
       "4  Tylonycteris pachypus (Lesser bamboo bat) (Ves...  "
      ]
     },
     "execution_count": 41,
     "metadata": {},
     "output_type": "execute_result"
    }
   ],
   "source": [
    "df.reset_index(inplace=True)\n",
    "df.head()"
   ]
  },
  {
   "cell_type": "code",
   "execution_count": 42,
   "id": "16f1307f",
   "metadata": {},
   "outputs": [
    {
     "name": "stdout",
     "output_type": "stream",
     "text": [
      "(8692, 5)\n"
     ]
    }
   ],
   "source": [
    "df = df[[\"uniprot_id\", \"seq\", \"Organism\", \"Length\", \"Virus hosts\"]]\n",
    "df.rename(columns={\"uniprot_id\": \"id\", \"Organism\": \"virus\", \"Length\": \"seq_len\", \"Virus hosts\": \"virus_host\"}, inplace=True)\n",
    "print(df.shape)"
   ]
  },
  {
   "cell_type": "code",
   "execution_count": 43,
   "id": "4d9de6bd",
   "metadata": {},
   "outputs": [
    {
     "data": {
      "text/html": [
       "<div>\n",
       "<style scoped>\n",
       "    .dataframe tbody tr th:only-of-type {\n",
       "        vertical-align: middle;\n",
       "    }\n",
       "\n",
       "    .dataframe tbody tr th {\n",
       "        vertical-align: top;\n",
       "    }\n",
       "\n",
       "    .dataframe thead th {\n",
       "        text-align: right;\n",
       "    }\n",
       "</style>\n",
       "<table border=\"1\" class=\"dataframe\">\n",
       "  <thead>\n",
       "    <tr style=\"text-align: right;\">\n",
       "      <th></th>\n",
       "      <th>id</th>\n",
       "      <th>seq</th>\n",
       "      <th>virus</th>\n",
       "      <th>seq_len</th>\n",
       "      <th>virus_host</th>\n",
       "    </tr>\n",
       "  </thead>\n",
       "  <tbody>\n",
       "    <tr>\n",
       "      <th>0</th>\n",
       "      <td>A0A2R4KP93</td>\n",
       "      <td>MRLSVCLLMFLLTPIKGDVDSGPPSSATSCKEADMRNSSSEFFNKQ...</td>\n",
       "      <td>Middle East respiratory syndrome-related coron...</td>\n",
       "      <td>1349</td>\n",
       "      <td>NaN</td>\n",
       "    </tr>\n",
       "    <tr>\n",
       "      <th>1</th>\n",
       "      <td>A0A6B9WHD3</td>\n",
       "      <td>MFVFLVLLPLVSSQCVNLTTRTQLPPAYTNSSTRGVYYPDKVFRSS...</td>\n",
       "      <td>Bat coronavirus RaTG13</td>\n",
       "      <td>1269</td>\n",
       "      <td>NaN</td>\n",
       "    </tr>\n",
       "    <tr>\n",
       "      <th>2</th>\n",
       "      <td>A0A6G6A1M4</td>\n",
       "      <td>MFVFLFVLPLVSSQCVNLTTRTGIPPGYTNSSTRGVYYPDKVFRSS...</td>\n",
       "      <td>Pangolin coronavirus</td>\n",
       "      <td>1267</td>\n",
       "      <td>NaN</td>\n",
       "    </tr>\n",
       "    <tr>\n",
       "      <th>3</th>\n",
       "      <td>A0A6M3G9R1</td>\n",
       "      <td>MLFFFFLHFALVNSQCVNLTGRAAIQPSFTNSSQRGVYYPDTIFRS...</td>\n",
       "      <td>Pangolin coronavirus</td>\n",
       "      <td>1265</td>\n",
       "      <td>NaN</td>\n",
       "    </tr>\n",
       "    <tr>\n",
       "      <th>4</th>\n",
       "      <td>A3EX94</td>\n",
       "      <td>MTLLMCLLMSLLIFVRGCDSQFVDMSPASNTSECLESQVDAAAFSK...</td>\n",
       "      <td>Bat coronavirus HKU4 (BtCoV) (BtCoV/HKU4/2004)</td>\n",
       "      <td>1352</td>\n",
       "      <td>Tylonycteris pachypus (Lesser bamboo bat) (Ves...</td>\n",
       "    </tr>\n",
       "  </tbody>\n",
       "</table>\n",
       "</div>"
      ],
      "text/plain": [
       "           id                                                seq  \\\n",
       "0  A0A2R4KP93  MRLSVCLLMFLLTPIKGDVDSGPPSSATSCKEADMRNSSSEFFNKQ...   \n",
       "1  A0A6B9WHD3  MFVFLVLLPLVSSQCVNLTTRTQLPPAYTNSSTRGVYYPDKVFRSS...   \n",
       "2  A0A6G6A1M4  MFVFLFVLPLVSSQCVNLTTRTGIPPGYTNSSTRGVYYPDKVFRSS...   \n",
       "3  A0A6M3G9R1  MLFFFFLHFALVNSQCVNLTGRAAIQPSFTNSSQRGVYYPDTIFRS...   \n",
       "4      A3EX94  MTLLMCLLMSLLIFVRGCDSQFVDMSPASNTSECLESQVDAAAFSK...   \n",
       "\n",
       "                                               virus  seq_len  \\\n",
       "0  Middle East respiratory syndrome-related coron...     1349   \n",
       "1                             Bat coronavirus RaTG13     1269   \n",
       "2                               Pangolin coronavirus     1267   \n",
       "3                               Pangolin coronavirus     1265   \n",
       "4     Bat coronavirus HKU4 (BtCoV) (BtCoV/HKU4/2004)     1352   \n",
       "\n",
       "                                          virus_host  \n",
       "0                                                NaN  \n",
       "1                                                NaN  \n",
       "2                                                NaN  \n",
       "3                                                NaN  \n",
       "4  Tylonycteris pachypus (Lesser bamboo bat) (Ves...  "
      ]
     },
     "execution_count": 43,
     "metadata": {},
     "output_type": "execute_result"
    }
   ],
   "source": [
    "df.head()"
   ]
  },
  {
   "cell_type": "code",
   "execution_count": 44,
   "id": "4e421bff",
   "metadata": {},
   "outputs": [],
   "source": [
    "def column_stats(df, column_name):\n",
    "    print(f\"df shape = {df.shape}\")\n",
    "    print(f\"{column_name} stats\")\n",
    "    print(f\"number of unique values = {df[column_name].nunique()}\")\n",
    "    print(df[column_name].value_counts())"
   ]
  },
  {
   "cell_type": "code",
   "execution_count": 45,
   "id": "5fc5ed7c",
   "metadata": {},
   "outputs": [
    {
     "name": "stdout",
     "output_type": "stream",
     "text": [
      "df shape = (8692, 5)\n",
      "virus stats\n",
      "number of unique values = 465\n",
      "Porcine epidemic diarrhea virus                                             2611\n",
      "Severe acute respiratory syndrome coronavirus 2 (2019-nCoV) (SARS-CoV-2)    1311\n",
      "Infectious bronchitis virus                                                  800\n",
      "Human coronavirus OC43 (HCoV-OC43)                                           613\n",
      "Feline coronavirus                                                           486\n",
      "                                                                            ... \n",
      "Feline coronavirus (strain FIPV WSU-79/1146) (FCoV)                            1\n",
      "Porcine transmissible gastroenteritis coronavirus (strain Purdue) (TGEV)       1\n",
      "Avian infectious bronchitis virus (strain 6/82) (IBV)                          1\n",
      "Human betacoronavirus 2c England-Qatar/2012                                    1\n",
      "Bat SARS-like coronavirus Rs4087-1                                             1\n",
      "Name: virus, Length: 465, dtype: int64\n"
     ]
    }
   ],
   "source": [
    "column_stats(df, \"virus\")"
   ]
  },
  {
   "cell_type": "code",
   "execution_count": 46,
   "id": "b51be6d0",
   "metadata": {},
   "outputs": [
    {
     "name": "stdout",
     "output_type": "stream",
     "text": [
      "df shape = (8692, 5)\n",
      "virus_host stats\n",
      "number of unique values = 20\n",
      "Homo sapiens (Human) [TaxID: 9606]                                                                                                                                                                                                            2400\n",
      "Meleagris gallopavo (Wild turkey) [TaxID: 9103]                                                                                                                                                                                                 36\n",
      "Homo sapiens (Human) [TaxID: 9606]; Paguma larvata (Masked palm civet) [TaxID: 9675]                                                                                                                                                            20\n",
      "Pipistrellus abramus (Japanese pipistrelle) (Pipistrellus javanicus abramus) [TaxID: 105295]                                                                                                                                                    19\n",
      "Tylonycteris pachypus (Lesser bamboo bat) (Vespertilio pachypus) [TaxID: 258959]                                                                                                                                                                17\n",
      "Gallus gallus (Chicken) [TaxID: 9031]                                                                                                                                                                                                           13\n",
      "Bos taurus (Bovine) [TaxID: 9913]                                                                                                                                                                                                               10\n",
      "Sus scrofa (Pig) [TaxID: 9823]                                                                                                                                                                                                                   9\n",
      "Mus musculus (Mouse) [TaxID: 10090]                                                                                                                                                                                                              6\n",
      "Canis lupus familiaris (Dog) (Canis familiaris) [TaxID: 9615]                                                                                                                                                                                    3\n",
      "Rhinolophus sinicus (Chinese rufous horseshoe bat) [TaxID: 89399]                                                                                                                                                                                3\n",
      "Rousettus leschenaultii (Leschenault's rousette) [TaxID: 9408]                                                                                                                                                                                   2\n",
      "Equus caballus (Horse) [TaxID: 9796]                                                                                                                                                                                                             1\n",
      "Scotophilus kuhlii (Lesser asiatic yellow bat) [TaxID: 153297]                                                                                                                                                                                   1\n",
      "Rhinolophus ferrumequinum (Greater horseshoe bat) [TaxID: 59479]; Rhinolophus macrotis (Big-eared horseshoe bat) [TaxID: 196889]; Rhinolophus pearsonii [TaxID: 188571]; Rhinolophus sinicus (Chinese rufous horseshoe bat) [TaxID: 89399]       1\n",
      "Felidae (cat family) [TaxID: 9681]                                                                                                                                                                                                               1\n",
      "Rattus norvegicus (Rat) [TaxID: 10116]                                                                                                                                                                                                           1\n",
      "Rhinolophus macrotis (Big-eared horseshoe bat) [TaxID: 196889]                                                                                                                                                                                   1\n",
      "Camelus dromedarius (Dromedary) (Arabian camel) [TaxID: 9838]; Homo sapiens (Human) [TaxID: 9606]                                                                                                                                                1\n",
      "Turdus hortulorum [TaxID: 411519]; Turdus merula (Common blackbird) [TaxID: 9187]                                                                                                                                                                1\n",
      "Name: virus_host, dtype: int64\n"
     ]
    }
   ],
   "source": [
    "column_stats(df, \"virus_host\")"
   ]
  },
  {
   "cell_type": "code",
   "execution_count": 47,
   "id": "cbfbbe12",
   "metadata": {},
   "outputs": [
    {
     "name": "stdout",
     "output_type": "stream",
     "text": [
      "n_virus_host_nan= 6146\n"
     ]
    }
   ],
   "source": [
    "n_virus_host_nan = df[\"virus_host\"].isna().sum()\n",
    "print(f\"n_virus_host_nan= {n_virus_host_nan}\")"
   ]
  },
  {
   "cell_type": "code",
   "execution_count": 48,
   "id": "d6a382f6",
   "metadata": {},
   "outputs": [],
   "source": [
    "virus_host_nan_df = df[df[\"virus_host\"].isna()]"
   ]
  },
  {
   "cell_type": "code",
   "execution_count": 49,
   "id": "65764d91",
   "metadata": {},
   "outputs": [
    {
     "data": {
      "text/plain": [
       "(6146, 5)"
      ]
     },
     "execution_count": 49,
     "metadata": {},
     "output_type": "execute_result"
    }
   ],
   "source": [
    "virus_host_nan_df.shape"
   ]
  },
  {
   "cell_type": "code",
   "execution_count": 50,
   "id": "200a5ed0",
   "metadata": {},
   "outputs": [
    {
     "name": "stdout",
     "output_type": "stream",
     "text": [
      "df shape = (6146, 5)\n",
      "virus stats\n",
      "number of unique values = 403\n",
      "Porcine epidemic diarrhea virus                                    2611\n",
      "Infectious bronchitis virus                                         800\n",
      "Feline coronavirus                                                  486\n",
      "Canine coronavirus                                                  455\n",
      "Middle East respiratory syndrome-related coronavirus (MERS-CoV)     349\n",
      "                                                                   ... \n",
      "Bat SARS coronavirus HKU3-2                                           1\n",
      "Bat SARS coronavirus HKU3-3                                           1\n",
      "SARS coronavirus ZJ02                                                 1\n",
      "SARS coronavirus Frankfurt 1                                          1\n",
      "Bat SARS-like coronavirus Rs4087-1                                    1\n",
      "Name: virus, Length: 403, dtype: int64\n"
     ]
    }
   ],
   "source": [
    "column_stats(virus_host_nan_df, \"virus\")"
   ]
  },
  {
   "cell_type": "code",
   "execution_count": 51,
   "id": "5d45cf66",
   "metadata": {},
   "outputs": [],
   "source": [
    "# Setting virus host for Porcine epidemic diarrhea virus\n",
    "df.loc[df[\"virus\"] == \"Porcine epidemic diarrhea virus\", \"virus_host\"] = \"Sus scrofa (Pig) [TaxID: 9823]\""
   ]
  },
  {
   "cell_type": "code",
   "execution_count": 52,
   "id": "e18cbe24",
   "metadata": {},
   "outputs": [
    {
     "data": {
      "text/plain": [
       "(3535, 5)"
      ]
     },
     "execution_count": 52,
     "metadata": {},
     "output_type": "execute_result"
    }
   ],
   "source": [
    "virus_host_nan_df = df[df[\"virus_host\"].isna()]\n",
    "virus_host_nan_df.shape"
   ]
  },
  {
   "cell_type": "code",
   "execution_count": 53,
   "id": "f2359ff6",
   "metadata": {},
   "outputs": [
    {
     "data": {
      "text/plain": [
       "(5157, 5)"
      ]
     },
     "execution_count": 53,
     "metadata": {},
     "output_type": "execute_result"
    }
   ],
   "source": [
    "df = df[df[\"virus_host\"].notna()]\n",
    "df.shape"
   ]
  },
  {
   "cell_type": "code",
   "execution_count": 55,
   "id": "875c92ac",
   "metadata": {},
   "outputs": [
    {
     "name": "stdout",
     "output_type": "stream",
     "text": [
      "df shape = (5157, 5)\n",
      "virus stats\n",
      "number of unique values = 63\n",
      "Porcine epidemic diarrhea virus                                                 2611\n",
      "Severe acute respiratory syndrome coronavirus 2 (2019-nCoV) (SARS-CoV-2)        1311\n",
      "Human coronavirus OC43 (HCoV-OC43)                                               613\n",
      "Human coronavirus NL63 (HCoV-NL63)                                               229\n",
      "Human coronavirus HKU1 (HCoV-HKU1)                                               126\n",
      "                                                                                ... \n",
      "Porcine hemagglutinating encephalomyelitis virus (strain IAF-404) (HEV)            1\n",
      "Bovine coronavirus (strain 98TXSF-110-LUN) (BCoV-LUN) (BCV)                        1\n",
      "Rat coronavirus (strain 681) (RCV-SDAV) (Sialodacryoadenitis virus SDAV-681)       1\n",
      "Bovine coronavirus (strain OK-0514) (BCoV) (BCV)                                   1\n",
      "Avian infectious bronchitis virus (strain H120) (IBV)                              1\n",
      "Name: virus, Length: 63, dtype: int64\n"
     ]
    }
   ],
   "source": [
    "column_stats(df, \"virus\")"
   ]
  },
  {
   "cell_type": "code",
   "execution_count": 56,
   "id": "174c9669",
   "metadata": {},
   "outputs": [
    {
     "name": "stdout",
     "output_type": "stream",
     "text": [
      "df shape = (5157, 5)\n",
      "virus_host stats\n",
      "number of unique values = 20\n",
      "Sus scrofa (Pig) [TaxID: 9823]                                                                                                                                                                                                                2620\n",
      "Homo sapiens (Human) [TaxID: 9606]                                                                                                                                                                                                            2400\n",
      "Meleagris gallopavo (Wild turkey) [TaxID: 9103]                                                                                                                                                                                                 36\n",
      "Homo sapiens (Human) [TaxID: 9606]; Paguma larvata (Masked palm civet) [TaxID: 9675]                                                                                                                                                            20\n",
      "Pipistrellus abramus (Japanese pipistrelle) (Pipistrellus javanicus abramus) [TaxID: 105295]                                                                                                                                                    19\n",
      "Tylonycteris pachypus (Lesser bamboo bat) (Vespertilio pachypus) [TaxID: 258959]                                                                                                                                                                17\n",
      "Gallus gallus (Chicken) [TaxID: 9031]                                                                                                                                                                                                           13\n",
      "Bos taurus (Bovine) [TaxID: 9913]                                                                                                                                                                                                               10\n",
      "Mus musculus (Mouse) [TaxID: 10090]                                                                                                                                                                                                              6\n",
      "Canis lupus familiaris (Dog) (Canis familiaris) [TaxID: 9615]                                                                                                                                                                                    3\n",
      "Rhinolophus sinicus (Chinese rufous horseshoe bat) [TaxID: 89399]                                                                                                                                                                                3\n",
      "Rousettus leschenaultii (Leschenault's rousette) [TaxID: 9408]                                                                                                                                                                                   2\n",
      "Equus caballus (Horse) [TaxID: 9796]                                                                                                                                                                                                             1\n",
      "Scotophilus kuhlii (Lesser asiatic yellow bat) [TaxID: 153297]                                                                                                                                                                                   1\n",
      "Rhinolophus ferrumequinum (Greater horseshoe bat) [TaxID: 59479]; Rhinolophus macrotis (Big-eared horseshoe bat) [TaxID: 196889]; Rhinolophus pearsonii [TaxID: 188571]; Rhinolophus sinicus (Chinese rufous horseshoe bat) [TaxID: 89399]       1\n",
      "Felidae (cat family) [TaxID: 9681]                                                                                                                                                                                                               1\n",
      "Rattus norvegicus (Rat) [TaxID: 10116]                                                                                                                                                                                                           1\n",
      "Rhinolophus macrotis (Big-eared horseshoe bat) [TaxID: 196889]                                                                                                                                                                                   1\n",
      "Camelus dromedarius (Dromedary) (Arabian camel) [TaxID: 9838]; Homo sapiens (Human) [TaxID: 9606]                                                                                                                                                1\n",
      "Turdus hortulorum [TaxID: 411519]; Turdus merula (Common blackbird) [TaxID: 9187]                                                                                                                                                                1\n",
      "Name: virus_host, dtype: int64\n"
     ]
    }
   ],
   "source": [
    "column_stats(df, \"virus_host\")"
   ]
  },
  {
   "cell_type": "code",
   "execution_count": 57,
   "id": "26767095",
   "metadata": {},
   "outputs": [
    {
     "data": {
      "text/html": [
       "<div>\n",
       "<style scoped>\n",
       "    .dataframe tbody tr th:only-of-type {\n",
       "        vertical-align: middle;\n",
       "    }\n",
       "\n",
       "    .dataframe tbody tr th {\n",
       "        vertical-align: top;\n",
       "    }\n",
       "\n",
       "    .dataframe thead th {\n",
       "        text-align: right;\n",
       "    }\n",
       "</style>\n",
       "<table border=\"1\" class=\"dataframe\">\n",
       "  <thead>\n",
       "    <tr style=\"text-align: right;\">\n",
       "      <th></th>\n",
       "      <th>id</th>\n",
       "      <th>seq</th>\n",
       "      <th>virus</th>\n",
       "      <th>seq_len</th>\n",
       "      <th>virus_host</th>\n",
       "    </tr>\n",
       "  </thead>\n",
       "  <tbody>\n",
       "    <tr>\n",
       "      <th>4</th>\n",
       "      <td>A3EX94</td>\n",
       "      <td>MTLLMCLLMSLLIFVRGCDSQFVDMSPASNTSECLESQVDAAAFSK...</td>\n",
       "      <td>Bat coronavirus HKU4 (BtCoV) (BtCoV/HKU4/2004)</td>\n",
       "      <td>1352</td>\n",
       "      <td>Tylonycteris pachypus (Lesser bamboo bat) (Ves...</td>\n",
       "    </tr>\n",
       "    <tr>\n",
       "      <th>5</th>\n",
       "      <td>A3EXD0</td>\n",
       "      <td>MIRSVLVLMCSLTFIGNLTRGQSVDMGHNGTGSCLDSQVQPDYFES...</td>\n",
       "      <td>Bat coronavirus HKU5 (BtCoV) (BtCoV/HKU5/2004)</td>\n",
       "      <td>1352</td>\n",
       "      <td>Pipistrellus abramus (Japanese pipistrelle) (P...</td>\n",
       "    </tr>\n",
       "    <tr>\n",
       "      <th>6</th>\n",
       "      <td>A3EXG6</td>\n",
       "      <td>MLLILVLGVSLAAASRPECFNPRFTLTPLNHTLNYTSIKAKVSNVL...</td>\n",
       "      <td>Bat coronavirus HKU9 (BtCoV) (BtCoV/HKU9)</td>\n",
       "      <td>1274</td>\n",
       "      <td>Rousettus leschenaultii (Leschenault's rousett...</td>\n",
       "    </tr>\n",
       "    <tr>\n",
       "      <th>8</th>\n",
       "      <td>K9N5Q8</td>\n",
       "      <td>MIHSVFLLMFLLTPTESYVDVGPDSVKSACIEVDIQQTFFDKTWPR...</td>\n",
       "      <td>Middle East respiratory syndrome-related coron...</td>\n",
       "      <td>1353</td>\n",
       "      <td>Camelus dromedarius (Dromedary) (Arabian camel...</td>\n",
       "    </tr>\n",
       "    <tr>\n",
       "      <th>9</th>\n",
       "      <td>P0DTC2</td>\n",
       "      <td>MFVFLVLLPLVSSQCVNLTTRTQLPPAYTNSFTRGVYYPDKVFRSS...</td>\n",
       "      <td>Severe acute respiratory syndrome coronavirus ...</td>\n",
       "      <td>1273</td>\n",
       "      <td>Homo sapiens (Human) [TaxID: 9606]</td>\n",
       "    </tr>\n",
       "  </tbody>\n",
       "</table>\n",
       "</div>"
      ],
      "text/plain": [
       "       id                                                seq  \\\n",
       "4  A3EX94  MTLLMCLLMSLLIFVRGCDSQFVDMSPASNTSECLESQVDAAAFSK...   \n",
       "5  A3EXD0  MIRSVLVLMCSLTFIGNLTRGQSVDMGHNGTGSCLDSQVQPDYFES...   \n",
       "6  A3EXG6  MLLILVLGVSLAAASRPECFNPRFTLTPLNHTLNYTSIKAKVSNVL...   \n",
       "8  K9N5Q8  MIHSVFLLMFLLTPTESYVDVGPDSVKSACIEVDIQQTFFDKTWPR...   \n",
       "9  P0DTC2  MFVFLVLLPLVSSQCVNLTTRTQLPPAYTNSFTRGVYYPDKVFRSS...   \n",
       "\n",
       "                                               virus  seq_len  \\\n",
       "4     Bat coronavirus HKU4 (BtCoV) (BtCoV/HKU4/2004)     1352   \n",
       "5     Bat coronavirus HKU5 (BtCoV) (BtCoV/HKU5/2004)     1352   \n",
       "6          Bat coronavirus HKU9 (BtCoV) (BtCoV/HKU9)     1274   \n",
       "8  Middle East respiratory syndrome-related coron...     1353   \n",
       "9  Severe acute respiratory syndrome coronavirus ...     1273   \n",
       "\n",
       "                                          virus_host  \n",
       "4  Tylonycteris pachypus (Lesser bamboo bat) (Ves...  \n",
       "5  Pipistrellus abramus (Japanese pipistrelle) (P...  \n",
       "6  Rousettus leschenaultii (Leschenault's rousett...  \n",
       "8  Camelus dromedarius (Dromedary) (Arabian camel...  \n",
       "9                 Homo sapiens (Human) [TaxID: 9606]  "
      ]
     },
     "execution_count": 57,
     "metadata": {},
     "output_type": "execute_result"
    }
   ],
   "source": [
    "df.head()"
   ]
  },
  {
   "cell_type": "code",
   "execution_count": 59,
   "id": "854849ee",
   "metadata": {},
   "outputs": [],
   "source": [
    "# split the virus_host name by ';' for multiple hosts\n",
    "df[\"virus_host\"] = df[\"virus_host\"].transform(lambda x: x.split(\";\"))"
   ]
  },
  {
   "cell_type": "code",
   "execution_count": 60,
   "id": "1f1ea599",
   "metadata": {},
   "outputs": [],
   "source": [
    "df_exploded = df.explode(\"virus_host\")\n",
    "df_exploded[\"virus_host\"] = df_exploded[\"virus_host\"].transform(lambda x: x.strip())"
   ]
  },
  {
   "cell_type": "code",
   "execution_count": 63,
   "id": "df3d1925",
   "metadata": {},
   "outputs": [
    {
     "data": {
      "text/html": [
       "<div>\n",
       "<style scoped>\n",
       "    .dataframe tbody tr th:only-of-type {\n",
       "        vertical-align: middle;\n",
       "    }\n",
       "\n",
       "    .dataframe tbody tr th {\n",
       "        vertical-align: top;\n",
       "    }\n",
       "\n",
       "    .dataframe thead th {\n",
       "        text-align: right;\n",
       "    }\n",
       "</style>\n",
       "<table border=\"1\" class=\"dataframe\">\n",
       "  <thead>\n",
       "    <tr style=\"text-align: right;\">\n",
       "      <th></th>\n",
       "      <th>id</th>\n",
       "      <th>seq</th>\n",
       "      <th>virus</th>\n",
       "      <th>seq_len</th>\n",
       "      <th>virus_host</th>\n",
       "    </tr>\n",
       "  </thead>\n",
       "  <tbody>\n",
       "    <tr>\n",
       "      <th>4</th>\n",
       "      <td>A3EX94</td>\n",
       "      <td>MTLLMCLLMSLLIFVRGCDSQFVDMSPASNTSECLESQVDAAAFSK...</td>\n",
       "      <td>Bat coronavirus HKU4 (BtCoV) (BtCoV/HKU4/2004)</td>\n",
       "      <td>1352</td>\n",
       "      <td>Tylonycteris pachypus (Lesser bamboo bat) (Ves...</td>\n",
       "    </tr>\n",
       "    <tr>\n",
       "      <th>5</th>\n",
       "      <td>A3EXD0</td>\n",
       "      <td>MIRSVLVLMCSLTFIGNLTRGQSVDMGHNGTGSCLDSQVQPDYFES...</td>\n",
       "      <td>Bat coronavirus HKU5 (BtCoV) (BtCoV/HKU5/2004)</td>\n",
       "      <td>1352</td>\n",
       "      <td>Pipistrellus abramus (Japanese pipistrelle) (P...</td>\n",
       "    </tr>\n",
       "    <tr>\n",
       "      <th>6</th>\n",
       "      <td>A3EXG6</td>\n",
       "      <td>MLLILVLGVSLAAASRPECFNPRFTLTPLNHTLNYTSIKAKVSNVL...</td>\n",
       "      <td>Bat coronavirus HKU9 (BtCoV) (BtCoV/HKU9)</td>\n",
       "      <td>1274</td>\n",
       "      <td>Rousettus leschenaultii (Leschenault's rousett...</td>\n",
       "    </tr>\n",
       "    <tr>\n",
       "      <th>8</th>\n",
       "      <td>K9N5Q8</td>\n",
       "      <td>MIHSVFLLMFLLTPTESYVDVGPDSVKSACIEVDIQQTFFDKTWPR...</td>\n",
       "      <td>Middle East respiratory syndrome-related coron...</td>\n",
       "      <td>1353</td>\n",
       "      <td>Camelus dromedarius (Dromedary) (Arabian camel...</td>\n",
       "    </tr>\n",
       "    <tr>\n",
       "      <th>8</th>\n",
       "      <td>K9N5Q8</td>\n",
       "      <td>MIHSVFLLMFLLTPTESYVDVGPDSVKSACIEVDIQQTFFDKTWPR...</td>\n",
       "      <td>Middle East respiratory syndrome-related coron...</td>\n",
       "      <td>1353</td>\n",
       "      <td>Homo sapiens (Human) [TaxID: 9606]</td>\n",
       "    </tr>\n",
       "  </tbody>\n",
       "</table>\n",
       "</div>"
      ],
      "text/plain": [
       "       id                                                seq  \\\n",
       "4  A3EX94  MTLLMCLLMSLLIFVRGCDSQFVDMSPASNTSECLESQVDAAAFSK...   \n",
       "5  A3EXD0  MIRSVLVLMCSLTFIGNLTRGQSVDMGHNGTGSCLDSQVQPDYFES...   \n",
       "6  A3EXG6  MLLILVLGVSLAAASRPECFNPRFTLTPLNHTLNYTSIKAKVSNVL...   \n",
       "8  K9N5Q8  MIHSVFLLMFLLTPTESYVDVGPDSVKSACIEVDIQQTFFDKTWPR...   \n",
       "8  K9N5Q8  MIHSVFLLMFLLTPTESYVDVGPDSVKSACIEVDIQQTFFDKTWPR...   \n",
       "\n",
       "                                               virus  seq_len  \\\n",
       "4     Bat coronavirus HKU4 (BtCoV) (BtCoV/HKU4/2004)     1352   \n",
       "5     Bat coronavirus HKU5 (BtCoV) (BtCoV/HKU5/2004)     1352   \n",
       "6          Bat coronavirus HKU9 (BtCoV) (BtCoV/HKU9)     1274   \n",
       "8  Middle East respiratory syndrome-related coron...     1353   \n",
       "8  Middle East respiratory syndrome-related coron...     1353   \n",
       "\n",
       "                                          virus_host  \n",
       "4  Tylonycteris pachypus (Lesser bamboo bat) (Ves...  \n",
       "5  Pipistrellus abramus (Japanese pipistrelle) (P...  \n",
       "6  Rousettus leschenaultii (Leschenault's rousett...  \n",
       "8  Camelus dromedarius (Dromedary) (Arabian camel...  \n",
       "8                 Homo sapiens (Human) [TaxID: 9606]  "
      ]
     },
     "execution_count": 63,
     "metadata": {},
     "output_type": "execute_result"
    }
   ],
   "source": [
    "df_exploded.shape\n",
    "df_exploded.head()"
   ]
  },
  {
   "cell_type": "code",
   "execution_count": 64,
   "id": "3d64b5b8",
   "metadata": {},
   "outputs": [
    {
     "name": "stdout",
     "output_type": "stream",
     "text": [
      "df shape = (5182, 5)\n",
      "virus stats\n",
      "number of unique values = 63\n",
      "Porcine epidemic diarrhea virus                                                 2611\n",
      "Severe acute respiratory syndrome coronavirus 2 (2019-nCoV) (SARS-CoV-2)        1311\n",
      "Human coronavirus OC43 (HCoV-OC43)                                               613\n",
      "Human coronavirus NL63 (HCoV-NL63)                                               229\n",
      "Human coronavirus HKU1 (HCoV-HKU1)                                               126\n",
      "                                                                                ... \n",
      "Bovine coronavirus (strain 98TXSF-110-LUN) (BCoV-LUN) (BCV)                        1\n",
      "Rat coronavirus (strain 681) (RCV-SDAV) (Sialodacryoadenitis virus SDAV-681)       1\n",
      "Bovine coronavirus (strain OK-0514) (BCoV) (BCV)                                   1\n",
      "Bovine coronavirus (strain LSU-94LSS-051) (BCoV-LSU) (BCV)                         1\n",
      "Avian infectious bronchitis virus (strain H120) (IBV)                              1\n",
      "Name: virus, Length: 63, dtype: int64\n"
     ]
    }
   ],
   "source": [
    "column_stats(df_exploded, \"virus\")"
   ]
  },
  {
   "cell_type": "code",
   "execution_count": 65,
   "id": "b313ddaa",
   "metadata": {},
   "outputs": [
    {
     "name": "stdout",
     "output_type": "stream",
     "text": [
      "df shape = (5182, 5)\n",
      "virus_host stats\n",
      "number of unique values = 22\n",
      "Sus scrofa (Pig) [TaxID: 9823]                                                                  2620\n",
      "Homo sapiens (Human) [TaxID: 9606]                                                              2421\n",
      "Meleagris gallopavo (Wild turkey) [TaxID: 9103]                                                   36\n",
      "Paguma larvata (Masked palm civet) [TaxID: 9675]                                                  20\n",
      "Pipistrellus abramus (Japanese pipistrelle) (Pipistrellus javanicus abramus) [TaxID: 105295]      19\n",
      "Tylonycteris pachypus (Lesser bamboo bat) (Vespertilio pachypus) [TaxID: 258959]                  17\n",
      "Gallus gallus (Chicken) [TaxID: 9031]                                                             13\n",
      "Bos taurus (Bovine) [TaxID: 9913]                                                                 10\n",
      "Mus musculus (Mouse) [TaxID: 10090]                                                                6\n",
      "Rhinolophus sinicus (Chinese rufous horseshoe bat) [TaxID: 89399]                                  4\n",
      "Canis lupus familiaris (Dog) (Canis familiaris) [TaxID: 9615]                                      3\n",
      "Rousettus leschenaultii (Leschenault's rousette) [TaxID: 9408]                                     2\n",
      "Rhinolophus macrotis (Big-eared horseshoe bat) [TaxID: 196889]                                     2\n",
      "Turdus hortulorum [TaxID: 411519]                                                                  1\n",
      "Equus caballus (Horse) [TaxID: 9796]                                                               1\n",
      "Scotophilus kuhlii (Lesser asiatic yellow bat) [TaxID: 153297]                                     1\n",
      "Rhinolophus pearsonii [TaxID: 188571]                                                              1\n",
      "Felidae (cat family) [TaxID: 9681]                                                                 1\n",
      "Rattus norvegicus (Rat) [TaxID: 10116]                                                             1\n",
      "Rhinolophus ferrumequinum (Greater horseshoe bat) [TaxID: 59479]                                   1\n",
      "Camelus dromedarius (Dromedary) (Arabian camel) [TaxID: 9838]                                      1\n",
      "Turdus merula (Common blackbird) [TaxID: 9187]                                                     1\n",
      "Name: virus_host, dtype: int64\n"
     ]
    }
   ],
   "source": [
    "column_stats(df_exploded, \"virus_host\")"
   ]
  },
  {
   "cell_type": "code",
   "execution_count": 66,
   "id": "978cf011",
   "metadata": {},
   "outputs": [
    {
     "name": "stdout",
     "output_type": "stream",
     "text": [
      "Dataset size before removing duplicates: (5182, 4)\n",
      "Number of duplicate records = 48\n",
      "Dataset size after removing duplicates: (5134, 4)\n"
     ]
    }
   ],
   "source": [
    "df_exploded = df_exploded.set_index(\"id\")\n",
    "print(f\"Dataset size before removing duplicates: {df_exploded.shape}\")\n",
    "print(f\"Number of duplicate records = {df_exploded.index.duplicated(keep=False).sum()}\")\n",
    "df_dedup = df_exploded[~df_exploded.index.duplicated(keep=False)]\n",
    "print(f\"Dataset size after removing duplicates: {df_dedup.shape}\")"
   ]
  },
  {
   "cell_type": "code",
   "execution_count": 67,
   "id": "41ec001b",
   "metadata": {},
   "outputs": [
    {
     "name": "stdout",
     "output_type": "stream",
     "text": [
      "df shape = (5134, 4)\n",
      "virus_host stats\n",
      "number of unique values = 16\n",
      "Sus scrofa (Pig) [TaxID: 9823]                                                                  2620\n",
      "Homo sapiens (Human) [TaxID: 9606]                                                              2400\n",
      "Meleagris gallopavo (Wild turkey) [TaxID: 9103]                                                   36\n",
      "Pipistrellus abramus (Japanese pipistrelle) (Pipistrellus javanicus abramus) [TaxID: 105295]      19\n",
      "Tylonycteris pachypus (Lesser bamboo bat) (Vespertilio pachypus) [TaxID: 258959]                  17\n",
      "Gallus gallus (Chicken) [TaxID: 9031]                                                             13\n",
      "Bos taurus (Bovine) [TaxID: 9913]                                                                 10\n",
      "Mus musculus (Mouse) [TaxID: 10090]                                                                6\n",
      "Rhinolophus sinicus (Chinese rufous horseshoe bat) [TaxID: 89399]                                  3\n",
      "Canis lupus familiaris (Dog) (Canis familiaris) [TaxID: 9615]                                      3\n",
      "Rousettus leschenaultii (Leschenault's rousette) [TaxID: 9408]                                     2\n",
      "Rhinolophus macrotis (Big-eared horseshoe bat) [TaxID: 196889]                                     1\n",
      "Rattus norvegicus (Rat) [TaxID: 10116]                                                             1\n",
      "Felidae (cat family) [TaxID: 9681]                                                                 1\n",
      "Scotophilus kuhlii (Lesser asiatic yellow bat) [TaxID: 153297]                                     1\n",
      "Equus caballus (Horse) [TaxID: 9796]                                                               1\n",
      "Name: virus_host, dtype: int64\n"
     ]
    }
   ],
   "source": [
    "column_stats(df_dedup, \"virus_host\")"
   ]
  },
  {
   "cell_type": "code",
   "execution_count": 69,
   "id": "fefda4be",
   "metadata": {},
   "outputs": [
    {
     "name": "stdout",
     "output_type": "stream",
     "text": [
      "df shape = (5134, 4)\n",
      "virus stats\n",
      "number of unique values = 59\n",
      "Porcine epidemic diarrhea virus                                                        2611\n",
      "Severe acute respiratory syndrome coronavirus 2 (2019-nCoV) (SARS-CoV-2)               1311\n",
      "Human coronavirus OC43 (HCoV-OC43)                                                      613\n",
      "Human coronavirus NL63 (HCoV-NL63)                                                      229\n",
      "Human coronavirus HKU1 (HCoV-HKU1)                                                      126\n",
      "Human coronavirus 229E (HCoV-229E)                                                      118\n",
      "Turkey enteric coronavirus (TCoV) (TCV)                                                  36\n",
      "Bat coronavirus HKU5 (BtCoV) (BtCoV/HKU5/2004)                                           19\n",
      "Bat coronavirus HKU4 (BtCoV) (BtCoV/HKU4/2004)                                           16\n",
      "Bat coronavirus HKU3 (BtCoV) (SARS-like coronavirus HKU3)                                 3\n",
      "Avian infectious bronchitis virus (strain M41) (IBV)                                      2\n",
      "Murine coronavirus (strain A59) (MHV-A59) (Murine hepatitis virus)                        2\n",
      "Bat coronavirus HKU9 (BtCoV) (BtCoV/HKU9)                                                 2\n",
      "Porcine transmissible gastroenteritis coronavirus (strain NEB72-rt) (TGEV)                1\n",
      "Porcine transmissible gastroenteritis coronavirus (strain FS772/70) (TGEV)                1\n",
      "Porcine respiratory coronavirus (strain RM4) (PRCoV) (PRCV)                               1\n",
      "Avian infectious bronchitis virus (strain D274) (IBV)                                     1\n",
      "Porcine respiratory coronavirus (strain 86/137004 / isolate British) (PRCoV) (PRCV)       1\n",
      "Porcine transmissible gastroenteritis coronavirus (strain Miller) (TGEV)                  1\n",
      "Canine coronavirus (strain Insavc-1) (CCoV) (Canine enteric coronavirus)                  1\n",
      "Avian infectious bronchitis virus (strain D3896) (IBV)                                    1\n",
      "Murine coronavirus (strain 2) (MHV-2) (Murine hepatitis virus)                            1\n",
      "Bat coronavirus 512/2005 (BtCoV) (BtCoV/512/2005)                                         1\n",
      "Canine coronavirus (strain K378) (CCoV) (Canine enteric coronavirus)                      1\n",
      "Equine coronavirus (isolate NC99) (ECoV)                                                  1\n",
      "Feline coronavirus (strain FIPV WSU-79/1146) (FCoV)                                       1\n",
      "Porcine epidemic diarrhea virus (strain CV777) (PEDV)                                     1\n",
      "Avian infectious bronchitis virus (strain UK/123/82) (IBV)                                1\n",
      "Avian infectious bronchitis virus (strain UK/142/86) (IBV)                                1\n",
      "Avian infectious bronchitis virus (strain UK/167/84) (IBV)                                1\n",
      "Canine coronavirus (strain BGF10) (CCoV) (Canine enteric coronavirus)                     1\n",
      "Avian infectious bronchitis virus (strain Beaudette CK) (IBV)                             1\n",
      "Avian infectious bronchitis virus (strain Beaudette US) (IBV)                             1\n",
      "Avian infectious bronchitis virus (strain KB8523) (IBV)                                   1\n",
      "Rat coronavirus (strain 681) (RCV-SDAV) (Sialodacryoadenitis virus SDAV-681)              1\n",
      "Porcine transmissible gastroenteritis coronavirus (strain Purdue) (TGEV)                  1\n",
      "Avian infectious bronchitis virus (strain 6/82) (IBV)                                     1\n",
      "Avian infectious bronchitis virus (strain Beaudette) (IBV)                                1\n",
      "Murine coronavirus (strain JHM) (MHV-JHM) (Murine hepatitis virus)                        1\n",
      "Bovine coronavirus (strain Mebus) (BCoV) (BCV)                                            1\n",
      "Murine coronavirus (strain 4) (MHV-4) (Murine hepatitis virus)                            1\n",
      "Bovine coronavirus (strain F15) (BCoV) (BCV)                                              1\n",
      "Bovine coronavirus (strain L9) (BCoV) (BCV)                                               1\n",
      "Bovine coronavirus (strain LY-138) (BCoV) (BCV)                                           1\n",
      "Bovine coronavirus (strain Quebec) (BCoV) (BCV)                                           1\n",
      "Bovine coronavirus (strain vaccine) (BCoV) (BCV)                                          1\n",
      "Murine coronavirus (strain JHMV / variant CL-2) (MHV) (Murine hepatitis virus)            1\n",
      "Bat coronavirus 279/2005 (BtCoV) (BtCoV/279/2005)                                         1\n",
      "Bat coronavirus 133/2005 (BtCoV) (BtCoV/133/2005)                                         1\n",
      "Human coronavirus HKU1 (isolate N5) (HCoV-HKU1)                                           1\n",
      "Human coronavirus HKU1 (isolate N2) (HCoV-HKU1)                                           1\n",
      "Human coronavirus HKU1 (isolate N1) (HCoV-HKU1)                                           1\n",
      "Porcine hemagglutinating encephalomyelitis virus (strain 67N) (HEV-67N)                   1\n",
      "Porcine hemagglutinating encephalomyelitis virus (strain IAF-404) (HEV)                   1\n",
      "Bovine coronavirus (strain 98TXSF-110-LUN) (BCoV-LUN) (BCV)                               1\n",
      "Bovine coronavirus (strain 98TXSF-110-ENT) (BCoV-ENT) (BCV)                               1\n",
      "Bovine coronavirus (strain OK-0514) (BCoV) (BCV)                                          1\n",
      "Bovine coronavirus (strain LSU-94LSS-051) (BCoV-LSU) (BCV)                                1\n",
      "Avian infectious bronchitis virus (strain H120) (IBV)                                     1\n",
      "Name: virus, dtype: int64\n"
     ]
    }
   ],
   "source": [
    "column_stats(df_dedup, \"virus\")"
   ]
  },
  {
   "cell_type": "code",
   "execution_count": 68,
   "id": "85614080",
   "metadata": {},
   "outputs": [
    {
     "data": {
      "image/png": "[encoded data removed]",
      "text/plain": [
       "<Figure size 432x288 with 1 Axes>"
      ]
     },
     "metadata": {
      "needs_background": "light"
     },
     "output_type": "display_data"
    }
   ],
   "source": [
    "ax = sns.histplot(data=df_dedup, x=\"virus_host\")\n",
    "plt.xticks(rotation=90)\n",
    "plt.show()"
   ]
  },
  {
   "cell_type": "code",
   "execution_count": 29,
   "id": "e94fa5c5",
   "metadata": {},
   "outputs": [
    {
     "name": "stderr",
     "output_type": "stream",
     "text": [
      "C:\\Users\\bless\\AppData\\Local\\Temp/ipykernel_11020/2983036214.py:2: SettingWithCopyWarning: \n",
      "A value is trying to be set on a copy of a slice from a DataFrame.\n",
      "Try using .loc[row_indexer,col_indexer] = value instead\n",
      "\n",
      "See the caveats in the documentation: https://pandas.pydata.org/pandas-docs/stable/user_guide/indexing.html#returning-a-view-versus-a-copy\n",
      "  df_dedup[\"binary_label\"] = df_dedup[\"virus_host\"].apply(lambda x: \"Human\" if x == \"Homo sapiens (Human) [TaxID: 9606]\" else \"Not Human\")\n"
     ]
    }
   ],
   "source": [
    "# create host binary label: 'human' and 'not human'\n",
    "df_dedup[\"binary_label\"] = df_dedup[\"virus_host\"].apply(lambda x: \"Human\" if x == \"Homo sapiens (Human) [TaxID: 9606]\" else \"Not Human\")"
   ]
  },
  {
   "cell_type": "code",
   "execution_count": 30,
   "id": "124da1ea",
   "metadata": {},
   "outputs": [
    {
     "data": {
      "text/plain": [
       "Not Human    2734\n",
       "Human        2400\n",
       "Name: binary_label, dtype: int64"
      ]
     },
     "execution_count": 30,
     "metadata": {},
     "output_type": "execute_result"
    }
   ],
   "source": [
    "df_dedup[\"binary_label\"].value_counts()"
   ]
  },
  {
   "cell_type": "code",
   "execution_count": 31,
   "id": "dc23496f",
   "metadata": {},
   "outputs": [
    {
     "data": {
      "text/html": [
       "<div>\n",
       "<style scoped>\n",
       "    .dataframe tbody tr th:only-of-type {\n",
       "        vertical-align: middle;\n",
       "    }\n",
       "\n",
       "    .dataframe tbody tr th {\n",
       "        vertical-align: top;\n",
       "    }\n",
       "\n",
       "    .dataframe thead th {\n",
       "        text-align: right;\n",
       "    }\n",
       "</style>\n",
       "<table border=\"1\" class=\"dataframe\">\n",
       "  <thead>\n",
       "    <tr style=\"text-align: right;\">\n",
       "      <th></th>\n",
       "      <th>id</th>\n",
       "      <th>seq</th>\n",
       "      <th>virus</th>\n",
       "      <th>seq_len</th>\n",
       "      <th>virus_host</th>\n",
       "      <th>binary_label</th>\n",
       "    </tr>\n",
       "  </thead>\n",
       "  <tbody>\n",
       "    <tr>\n",
       "      <th>0</th>\n",
       "      <td>A3EX94</td>\n",
       "      <td>MTLLMCLLMSLLIFVRGCDSQFVDMSPASNTSECLESQVDAAAFSK...</td>\n",
       "      <td>Bat coronavirus HKU4 (BtCoV) (BtCoV/HKU4/2004)</td>\n",
       "      <td>1352</td>\n",
       "      <td>Tylonycteris pachypus (Lesser bamboo bat) (Ves...</td>\n",
       "      <td>Not Human</td>\n",
       "    </tr>\n",
       "    <tr>\n",
       "      <th>1</th>\n",
       "      <td>A3EXD0</td>\n",
       "      <td>MIRSVLVLMCSLTFIGNLTRGQSVDMGHNGTGSCLDSQVQPDYFES...</td>\n",
       "      <td>Bat coronavirus HKU5 (BtCoV) (BtCoV/HKU5/2004)</td>\n",
       "      <td>1352</td>\n",
       "      <td>Pipistrellus abramus (Japanese pipistrelle) (P...</td>\n",
       "      <td>Not Human</td>\n",
       "    </tr>\n",
       "    <tr>\n",
       "      <th>2</th>\n",
       "      <td>A3EXG6</td>\n",
       "      <td>MLLILVLGVSLAAASRPECFNPRFTLTPLNHTLNYTSIKAKVSNVL...</td>\n",
       "      <td>Bat coronavirus HKU9 (BtCoV) (BtCoV/HKU9)</td>\n",
       "      <td>1274</td>\n",
       "      <td>Rousettus leschenaultii (Leschenault's rousett...</td>\n",
       "      <td>Not Human</td>\n",
       "    </tr>\n",
       "    <tr>\n",
       "      <th>3</th>\n",
       "      <td>P0DTC2</td>\n",
       "      <td>MFVFLVLLPLVSSQCVNLTTRTQLPPAYTNSFTRGVYYPDKVFRSS...</td>\n",
       "      <td>Severe acute respiratory syndrome coronavirus ...</td>\n",
       "      <td>1273</td>\n",
       "      <td>Homo sapiens (Human) [TaxID: 9606]</td>\n",
       "      <td>Human</td>\n",
       "    </tr>\n",
       "    <tr>\n",
       "      <th>4</th>\n",
       "      <td>P11223</td>\n",
       "      <td>MLVTPLLLVTLLCALCSAVLYDSSSYVYYYQSAFRPPSGWHLQGGA...</td>\n",
       "      <td>Avian infectious bronchitis virus (strain Beau...</td>\n",
       "      <td>1162</td>\n",
       "      <td>Gallus gallus (Chicken) [TaxID: 9031]</td>\n",
       "      <td>Not Human</td>\n",
       "    </tr>\n",
       "  </tbody>\n",
       "</table>\n",
       "</div>"
      ],
      "text/plain": [
       "       id                                                seq  \\\n",
       "0  A3EX94  MTLLMCLLMSLLIFVRGCDSQFVDMSPASNTSECLESQVDAAAFSK...   \n",
       "1  A3EXD0  MIRSVLVLMCSLTFIGNLTRGQSVDMGHNGTGSCLDSQVQPDYFES...   \n",
       "2  A3EXG6  MLLILVLGVSLAAASRPECFNPRFTLTPLNHTLNYTSIKAKVSNVL...   \n",
       "3  P0DTC2  MFVFLVLLPLVSSQCVNLTTRTQLPPAYTNSFTRGVYYPDKVFRSS...   \n",
       "4  P11223  MLVTPLLLVTLLCALCSAVLYDSSSYVYYYQSAFRPPSGWHLQGGA...   \n",
       "\n",
       "                                               virus  seq_len  \\\n",
       "0     Bat coronavirus HKU4 (BtCoV) (BtCoV/HKU4/2004)     1352   \n",
       "1     Bat coronavirus HKU5 (BtCoV) (BtCoV/HKU5/2004)     1352   \n",
       "2          Bat coronavirus HKU9 (BtCoV) (BtCoV/HKU9)     1274   \n",
       "3  Severe acute respiratory syndrome coronavirus ...     1273   \n",
       "4  Avian infectious bronchitis virus (strain Beau...     1162   \n",
       "\n",
       "                                          virus_host binary_label  \n",
       "0  Tylonycteris pachypus (Lesser bamboo bat) (Ves...    Not Human  \n",
       "1  Pipistrellus abramus (Japanese pipistrelle) (P...    Not Human  \n",
       "2  Rousettus leschenaultii (Leschenault's rousett...    Not Human  \n",
       "3                 Homo sapiens (Human) [TaxID: 9606]        Human  \n",
       "4              Gallus gallus (Chicken) [TaxID: 9031]    Not Human  "
      ]
     },
     "execution_count": 31,
     "metadata": {},
     "output_type": "execute_result"
    }
   ],
   "source": [
    "df_dedup.reset_index(inplace=True)\n",
    "df_dedup.head()"
   ]
  },
  {
   "cell_type": "code",
   "execution_count": 36,
   "id": "ddba0df8",
   "metadata": {},
   "outputs": [],
   "source": [
    "df_dedup.to_csv(os.path.join(os.getcwd(), \"..\", \"..\", \"input/data/coronaviridae\", \"coronavirade_final.csv\"), index=False)"
   ]
  },
  {
   "cell_type": "code",
   "execution_count": null,
   "id": "5e0a9c9a",
   "metadata": {},
   "outputs": [],
   "source": []
  }
 ],
 "metadata": {
  "kernelspec": {
   "display_name": "Python 3 (ipykernel)",
   "language": "python",
   "name": "python3"
  },
  "language_info": {
   "codemirror_mode": {
    "name": "ipython",
    "version": 3
   },
   "file_extension": ".py",
   "mimetype": "text/x-python",
   "name": "python",
   "nbconvert_exporter": "python",
   "pygments_lexer": "ipython3",
   "version": "3.9.7"
  }
 },
 "nbformat": 4,
 "nbformat_minor": 5
}
